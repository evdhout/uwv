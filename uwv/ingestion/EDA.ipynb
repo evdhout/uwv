{
 "cells": [
  {
   "cell_type": "code",
   "execution_count": null,
   "metadata": {},
   "outputs": [],
   "source": [
    "import pandas as pd\n",
    "import seaborn as sns\n",
    "import matplotlib.pyplot as plt"
   ]
  },
  {
   "cell_type": "code",
   "execution_count": null,
   "metadata": {},
   "outputs": [],
   "source": [
    "df = pd.read_json('concatenated_data.json')"
   ]
  },
  {
   "cell_type": "code",
   "execution_count": null,
   "metadata": {},
   "outputs": [],
   "source": [
    "df.head()"
   ]
  },
  {
   "cell_type": "code",
   "execution_count": null,
   "metadata": {},
   "outputs": [],
   "source": [
    "df.info(verbose=True, show_counts=True) #verbose is true because it otherwise doesn't output the entire list of columns"
   ]
  },
  {
   "cell_type": "markdown",
   "metadata": {},
   "source": [
    "## Ziekteverzuim"
   ]
  },
  {
   "cell_type": "code",
   "execution_count": null,
   "metadata": {},
   "outputs": [],
   "source": [
    "# Print the description of the Ziekteverzuimpercentage_1 column\n",
    "print(df['Ziekteverzuimpercentage_1'].describe())\n",
    "\n",
    "# Plot the distribution with seaborn\n",
    "plt.figure(figsize=(9, 8))\n",
    "sns.displot(df['Ziekteverzuimpercentage_1'], color='g', bins=10, kde=True)\n",
    "plt.title('Distribution of Ziekteverzuimpercentage_1')\n",
    "plt.xlabel('Ziekteverzuimpercentage_1')\n",
    "plt.ylabel('Frequency')\n",
    "plt.show()"
   ]
  },
  {
   "cell_type": "code",
   "execution_count": null,
   "metadata": {},
   "outputs": [],
   "source": [
    "# Create 'Year-Quarter' column\n",
    "df['Year-Quarter'] = df['Jaar'].astype(str) + '-' + df['Kwartaal'].astype(str)\n",
    "\n",
    "# Plot the data\n",
    "plt.figure(figsize=(14, 8))\n",
    "\n",
    "# Boxplot\n",
    "sns.boxplot(data=df, x='Year-Quarter', y='Ziekteverzuimpercentage_1', color='lightblue')\n",
    "\n",
    "# Adding labels and title\n",
    "plt.title('Distribution of Ziekteverzuimpercentage_1 by Year-Quarter with Median Trend')\n",
    "plt.xlabel('Year-Quarter')\n",
    "plt.ylabel('Ziekteverzuimpercentage_1')\n",
    "\n",
    "# Rotate x-axis labels for better readability\n",
    "plt.xticks(rotation=90)\n",
    "\n",
    "# Show the plot\n",
    "plt.tight_layout()\n",
    "plt.legend()\n",
    "plt.show()"
   ]
  },
  {
   "cell_type": "markdown",
   "metadata": {},
   "source": [
    "## Numerical data distribution"
   ]
  },
  {
   "cell_type": "code",
   "execution_count": null,
   "metadata": {},
   "outputs": [],
   "source": [
    "list(set(df.dtypes.tolist()))"
   ]
  },
  {
   "cell_type": "code",
   "execution_count": null,
   "metadata": {},
   "outputs": [],
   "source": [
    "df_num = df.select_dtypes(include = ['float64', 'int64'])\n",
    "df_num.head()"
   ]
  },
  {
   "cell_type": "code",
   "execution_count": null,
   "metadata": {},
   "outputs": [],
   "source": [
    "# Calculate number of rows and columns for subplots\n",
    "num_cols = 3  # Number of columns in the grid\n",
    "num_rows = (len(df_num.columns) - 1) // num_cols + 1  # Number of rows needed\n",
    "\n",
    "# Set up the figure and axes\n",
    "fig, axes = plt.subplots(num_rows, num_cols, figsize=(18, num_rows * 4))\n",
    "axes = axes.flatten()  # Flatten the 2D array of axes for easier indexing\n",
    "\n",
    "# Plot each numeric column\n",
    "for i, col in enumerate(df_num.columns):\n",
    "    ax = axes[i]\n",
    "    sns.histplot(df_num[col], bins=50, kde=True, ax=ax)\n",
    "    ax.set_title(col)\n",
    "    ax.set_xlabel(col)\n",
    "    ax.set_ylabel('Frequency')\n",
    "\n",
    "# Adjust layout and show the plot\n",
    "plt.tight_layout()\n",
    "plt.show()"
   ]
  },
  {
   "cell_type": "code",
   "execution_count": null,
   "metadata": {},
   "outputs": [],
   "source": [
    "for i in range(0, len(df_num.columns), 5):\n",
    "    sns.pairplot(data=df_num,\n",
    "                x_vars=df_num.columns[i:i+5],\n",
    "                y_vars=['Ziekteverzuimpercentage_1'])"
   ]
  },
  {
   "cell_type": "markdown",
   "metadata": {},
   "source": [
    "## Correlation"
   ]
  },
  {
   "cell_type": "code",
   "execution_count": null,
   "metadata": {},
   "outputs": [],
   "source": [
    "df_num_corr = df_num.corr()['Ziekteverzuimpercentage_1']\n",
    "golden_features_list = df_num_corr[abs(df_num_corr) > 0.5].sort_values(ascending=False)\n",
    "print(\"There is {} strongly correlated values with ziekteverzuim:\\n{}\".format(len(golden_features_list), golden_features_list))"
   ]
  },
  {
   "cell_type": "code",
   "execution_count": null,
   "metadata": {},
   "outputs": [],
   "source": [
    "print(golden_features_list)"
   ]
  },
  {
   "cell_type": "code",
   "execution_count": null,
   "metadata": {},
   "outputs": [],
   "source": [
    "# Access the index (column names) from the Series\n",
    "column_names = golden_features_list.index.tolist()\n",
    "print(column_names)\n",
    "\n",
    "additional_columns = ['Jaar', 'Kwartaal', 'BedrijfskenmerkenSBI2008']\n",
    "\n",
    "all_columns = column_names + additional_columns\n",
    "\n",
    "df_filtered = df[all_columns]\n",
    "df_filtered.head()"
   ]
  },
  {
   "cell_type": "code",
   "execution_count": null,
   "metadata": {},
   "outputs": [],
   "source": [
    "df_final = df_filtered.dropna()\n",
    "print(df_final.shape)\n",
    "df_final.head()"
   ]
  },
  {
   "cell_type": "code",
   "execution_count": null,
   "metadata": {},
   "outputs": [],
   "source": [
    "df_final.to_json('df_final.json')"
   ]
  }
 ],
 "metadata": {
  "kernelspec": {
   "display_name": ".venv",
   "language": "python",
   "name": "python3"
  },
  "language_info": {
   "codemirror_mode": {
    "name": "ipython",
    "version": 3
   },
   "file_extension": ".py",
   "mimetype": "text/x-python",
   "name": "python",
   "nbconvert_exporter": "python",
   "pygments_lexer": "ipython3",
   "version": "3.12.4"
  }
 },
 "nbformat": 4,
 "nbformat_minor": 2
}
