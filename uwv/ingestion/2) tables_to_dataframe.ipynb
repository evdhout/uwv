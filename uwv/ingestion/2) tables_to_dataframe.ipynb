{
 "cells": [
  {
   "cell_type": "markdown",
   "metadata": {},
   "source": [
    "## Importing libraries"
   ]
  },
  {
   "cell_type": "code",
   "execution_count": 1,
   "metadata": {},
   "outputs": [],
   "source": [
    "import pandas as pd\n",
    "import cbsodata\n",
    "import json\n",
    "import re\n",
    "import os\n",
    "from concurrent.futures import ThreadPoolExecutor, as_completed"
   ]
  },
  {
   "cell_type": "code",
   "execution_count": 3,
   "metadata": {},
   "outputs": [
    {
     "name": "stdout",
     "output_type": "stream",
     "text": [
      "Loading file: C:\\Users\\c.hakker\\OneDrive - VISTA college\\Senior Stuff\\Opleiding Data science\\Data\\83451NED.csv\n",
      "Loading file: C:\\Users\\c.hakker\\OneDrive - VISTA college\\Senior Stuff\\Opleiding Data science\\Data\\85928NED.csv\n",
      "Loading file: C:\\Users\\c.hakker\\OneDrive - VISTA college\\Senior Stuff\\Opleiding Data science\\Data\\80072ned.csv\n",
      "Loading file: C:\\Users\\c.hakker\\OneDrive - VISTA college\\Senior Stuff\\Opleiding Data science\\Data\\81589NED.csv\n",
      "Loading file: C:\\Users\\c.hakker\\OneDrive - VISTA college\\Senior Stuff\\Opleiding Data science\\Data\\83147NED.csv\n",
      "Loading file: C:\\Users\\c.hakker\\OneDrive - VISTA college\\Senior Stuff\\Opleiding Data science\\Data\\81588NED.csv\n",
      "Loading file: C:\\Users\\c.hakker\\OneDrive - VISTA college\\Senior Stuff\\Opleiding Data science\\Data\\83149NED.csv\n",
      "Loading file: C:\\Users\\c.hakker\\OneDrive - VISTA college\\Senior Stuff\\Opleiding Data science\\Data\\83148NED.csv\n",
      "Final DataFrame saved to C:\\Users\\c.hakker\\OneDrive - VISTA college\\Senior Stuff\\Opleiding Data science\\Data\\merged_tables.csv.\n"
     ]
    }
   ],
   "source": [
    "# Assuming file paths are generated for CSV files\n",
    "file_paths = [os.path.join(DATA_DIR, f\"{identifier}.csv\") for identifier in identifier_freq_dict.keys()]\n",
    "\n",
    "def load_csv_files(file_paths):\n",
    "    \"\"\"\n",
    "    Load CSV files into DataFrames.\n",
    "    \"\"\"\n",
    "    dataframes = []\n",
    "    for file_path in file_paths:\n",
    "        try:\n",
    "            print(f\"Loading file: {file_path}\")\n",
    "            df = pd.read_csv(file_path)\n",
    "            dataframes.append(df)\n",
    "        except FileNotFoundError:\n",
    "            print(f\"File not found: {file_path}\")\n",
    "        except Exception as e:\n",
    "            print(f\"Error loading {file_path}: {e}\")\n",
    "    return dataframes\n",
    "\n",
    "# Load tables from CSV files\n",
    "tables = load_csv_files(file_paths)\n",
    "\n",
    "# Process the loaded tables\n",
    "if tables:  # Check if there are any tables loaded\n",
    "    final_df = process_tables(tables, identifier_freq_dict)\n",
    "\n",
    "    # Save the final combined DataFrame\n",
    "    final_output_path = os.path.join(DATA_DIR, 'merged_tables.csv')\n",
    "    final_df.to_csv(final_output_path, index=False)\n",
    "    print(f\"Final DataFrame saved to {final_output_path}.\")\n",
    "else:\n",
    "    print(\"No tables were loaded. Cannot proceed with processing.\")\n"
   ]
  }
 ],
 "metadata": {
  "kernelspec": {
   "display_name": ".venv",
   "language": "python",
   "name": "python3"
  },
  "language_info": {
   "codemirror_mode": {
    "name": "ipython",
    "version": 3
   },
   "file_extension": ".py",
   "mimetype": "text/x-python",
   "name": "python",
   "nbconvert_exporter": "python",
   "pygments_lexer": "ipython3",
   "version": "3.12.3"
  }
 },
 "nbformat": 4,
 "nbformat_minor": 2
}
