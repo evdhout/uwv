{
 "cells": [
  {
   "cell_type": "code",
   "execution_count": null,
   "metadata": {},
   "outputs": [],
   "source": [
    "import pandas as pd\n",
    "import seaborn as sns\n",
    "import matplotlib.pyplot as plt"
   ]
  },
  {
   "cell_type": "code",
   "execution_count": null,
   "metadata": {},
   "outputs": [],
   "source": [
    "df = pd.read_csv('data/merged_tables.csv')\n",
    "df_knmi = pd.read_csv('data/knmi_data.csv')"
   ]
  },
  {
   "cell_type": "code",
   "execution_count": null,
   "metadata": {},
   "outputs": [],
   "source": [
    "print(df.shape)\n",
    "df.head()"
   ]
  },
  {
   "cell_type": "code",
   "execution_count": null,
   "metadata": {},
   "outputs": [],
   "source": [
    "print(df_knmi.shape)\n",
    "df_knmi.head()"
   ]
  },
  {
   "cell_type": "code",
   "execution_count": null,
   "metadata": {},
   "outputs": [],
   "source": [
    "# Create a combined Year-Quarter column in the format 'YYYY-QX' and insert it as the first column\n",
    "df.insert(0, 'Year_Quarter', df['Year'].astype(int).astype(str) + '-Q' + df['Quarter'].astype(int).astype(str))\n",
    "\n",
    "# Drop the now redundant 'Year' and 'Quarter' columns\n",
    "df = df.drop(columns=['Year', 'Quarter'])\n",
    "\n",
    "# Sort the DataFrame by 'BedrijfstakkenBranchesSBI2008' and 'Year_Quarter' for better chronological order\n",
    "df = df.sort_values(by=['BedrijfstakkenBranchesSBI2008', 'Year_Quarter']).reset_index(drop=True)\n",
    "\n",
    "# Display the modified DataFrame with the new column and sorting\n",
    "print(df.shape)\n",
    "df.head()"
   ]
  },
  {
   "cell_type": "code",
   "execution_count": null,
   "metadata": {},
   "outputs": [],
   "source": [
    "# Create the four new columns by shifting the values of '80072ned_Ziekteverzuimpercentage_1' by 1, 2, 3, and 4 quarters\n",
    "df['80072ned_Ziekteverzuimpercentage_1_lag_1'] = df.groupby('BedrijfstakkenBranchesSBI2008')['80072ned_Ziekteverzuimpercentage_1'].shift(1)\n",
    "df['80072ned_Ziekteverzuimpercentage_1_lag_2'] = df.groupby('BedrijfstakkenBranchesSBI2008')['80072ned_Ziekteverzuimpercentage_1'].shift(2)\n",
    "df['80072ned_Ziekteverzuimpercentage_1_lag_3'] = df.groupby('BedrijfstakkenBranchesSBI2008')['80072ned_Ziekteverzuimpercentage_1'].shift(3)\n",
    "df['80072ned_Ziekteverzuimpercentage_1_lag_4'] = df.groupby('BedrijfstakkenBranchesSBI2008')['80072ned_Ziekteverzuimpercentage_1'].shift(4)\n",
    "\n",
    "# Display the full DataFrame to verify the new columns\n",
    "print(df.shape)\n",
    "df.head()"
   ]
  },
  {
   "cell_type": "code",
   "execution_count": null,
   "metadata": {},
   "outputs": [],
   "source": [
    "# Assume df and df_knmi are already loaded as per your examples\n",
    "\n",
    "# Step 1: Create a DataFrame of unique industries from df\n",
    "industries = df[['BedrijfstakkenBranchesSBI2008']].drop_duplicates()\n",
    "\n",
    "# Step 2: Perform a Cartesian product to expand df_knmi across all industries\n",
    "expanded_knmi = df_knmi.merge(industries, how='cross')\n",
    "\n",
    "# Step 3: Merge the expanded df_knmi with the main df based on 'Year_Quarter'\n",
    "df = df.merge(expanded_knmi, on=['Year_Quarter', 'BedrijfstakkenBranchesSBI2008'], how='left')\n",
    "\n",
    "# Display the result\n",
    "print(df.shape)\n",
    "df.head()"
   ]
  },
  {
   "cell_type": "code",
   "execution_count": null,
   "metadata": {},
   "outputs": [],
   "source": [
    "# Define a function to label COVID-19 years\n",
    "def label_covid_period(row):\n",
    "    if row['Year_Quarter'].startswith('2020') or row['Year_Quarter'].startswith('2021') or row['Year_Quarter'].startswith('2022'):\n",
    "        return 1\n",
    "    else:\n",
    "        return 0\n",
    "\n",
    "# Apply the function to create the covid_19 column\n",
    "df['covid_19'] = df.apply(label_covid_period, axis=1)\n",
    "\n",
    "# Display the DataFrame to confirm the changes\n",
    "print(df[['Year_Quarter', 'covid_19']].head())"
   ]
  },
  {
   "cell_type": "code",
   "execution_count": null,
   "metadata": {},
   "outputs": [],
   "source": [
    "df.tail()"
   ]
  },
  {
   "cell_type": "code",
   "execution_count": null,
   "metadata": {},
   "outputs": [],
   "source": [
    "df.info(verbose=True, show_counts=True) #verbose is true because it otherwise doesn't output the entire list of columns"
   ]
  },
  {
   "cell_type": "markdown",
   "metadata": {},
   "source": [
    "## Correlation"
   ]
  },
  {
   "cell_type": "code",
   "execution_count": null,
   "metadata": {},
   "outputs": [],
   "source": [
    "# Select only numeric columns (float and int types) from the DataFrame\n",
    "df_numeric = df.select_dtypes(include=['float', 'int'])\n",
    "\n",
    "# Ensure the target column exists in the filtered numeric DataFrame\n",
    "if '80072ned_Ziekteverzuimpercentage_1' in df_numeric.columns:\n",
    "    # Calculate the correlation matrix and extract correlations with the target column\n",
    "    df_num_corr = df_numeric.corr()['80072ned_Ziekteverzuimpercentage_1']\n",
    "    \n",
    "    # Filter for features with strong correlations (absolute correlation > 0.5)\n",
    "    golden_features_list = df_num_corr[abs(df_num_corr) > 0.5].sort_values(ascending=False)\n",
    "    \n",
    "    # Print the results if there are any strongly correlated features\n",
    "    print(\"There are {} strongly correlated values with ziekteverzuim:\\n{}\".format(len(golden_features_list), golden_features_list))\n",
    "else:\n",
    "    print(\"The target column '80072ned_Ziekteverzuimpercentage_1' is not in the numeric columns.\")\n"
   ]
  },
  {
   "cell_type": "code",
   "execution_count": null,
   "metadata": {},
   "outputs": [],
   "source": [
    "# Initialize an empty dictionary to store correlations by industry\n",
    "industry_correlations = {}\n",
    "\n",
    "# Group by industry and calculate correlations within each industry\n",
    "for industry, group_df in df.groupby('BedrijfstakkenBranchesSBI2008'):\n",
    "    # Select only numeric columns to avoid non-numeric data in correlation calculations\n",
    "    group_df_numeric = group_df.select_dtypes(include=[float, int])\n",
    "    \n",
    "    # Calculate the correlation matrix for the numeric columns within the industry\n",
    "    df_num_corr = group_df_numeric.corr()['80072ned_Ziekteverzuimpercentage_1']\n",
    "    \n",
    "    # Filter strongly correlated features (absolute correlation > 0.5)\n",
    "    golden_features_list = df_num_corr[abs(df_num_corr) > 0.5].sort_values(ascending=False)\n",
    "    \n",
    "    # Store the result in the dictionary, only if there are strongly correlated features\n",
    "    if not golden_features_list.empty:\n",
    "        industry_correlations[industry] = golden_features_list\n",
    "        print(f\"There are {len(golden_features_list)} strongly correlated values with ziekteverzuim for industry '{industry}':\\n{golden_features_list}\\n\")\n"
   ]
  },
  {
   "cell_type": "code",
   "execution_count": null,
   "metadata": {},
   "outputs": [],
   "source": [
    "# Define the columns for which we want lagged correlations\n",
    "columns_to_lag = [\n",
    "    'airpressure', 'maximum_temperatures', 'mean_temperatures', \n",
    "    'minimum_temperatures', 'precipitation', 'covid_19'\n",
    "]\n",
    "\n",
    "# Create lagged variables for each column in `columns_to_lag`\n",
    "for col in columns_to_lag:\n",
    "    df[f'{col}_lag_1'] = df[col].shift(1)\n",
    "    df[f'{col}_lag_2'] = df[col].shift(2)\n",
    "\n",
    "# Recompute numeric-only DataFrame to include new lagged columns\n",
    "df_numeric = df.select_dtypes(include=[float, int])\n",
    "\n",
    "# Calculate correlations for the primary column of interest and its lags\n",
    "correlation_columns = columns_to_lag + [f\"{col}_lag_1\" for col in columns_to_lag] + [f\"{col}_lag_2\" for col in columns_to_lag]\n",
    "correlations = df_numeric.corr()['80072ned_Ziekteverzuimpercentage_1'][correlation_columns]\n",
    "\n",
    "print(\"Correlations with 80072ned_Ziekteverzuimpercentage_1:\")\n",
    "print(correlations)\n"
   ]
  },
  {
   "cell_type": "code",
   "execution_count": null,
   "metadata": {},
   "outputs": [],
   "source": [
    "import pandas as pd\n",
    "from statsmodels.stats.outliers_influence import variance_inflation_factor\n",
    "import numpy as np\n",
    "\n",
    "# Adjust pandas display options to show up to 200 rows\n",
    "pd.set_option('display.max_rows', 200)\n",
    "\n",
    "# Select only numeric columns (float and int types) from the DataFrame\n",
    "df_numeric = df.select_dtypes(include=['float', 'int'])\n",
    "\n",
    "# Ensure there are numeric columns in the DataFrame\n",
    "if not df_numeric.empty:\n",
    "    # Handle missing and infinite values\n",
    "    df_numeric = df_numeric.replace([np.inf, -np.inf], np.nan)  # Replace infinite values with NaN\n",
    "    df_numeric = df_numeric.dropna()  # Drop rows with NaN values\n",
    "\n",
    "    # Prepare a function to calculate VIF\n",
    "    def calculate_vif(dataframe):\n",
    "        vif_data = pd.DataFrame()\n",
    "        vif_data['Feature'] = dataframe.columns\n",
    "        vif_data['VIF'] = [\n",
    "            variance_inflation_factor(dataframe.values, i) \n",
    "            for i in range(dataframe.shape[1])\n",
    "        ]\n",
    "        return vif_data\n",
    "\n",
    "    # Calculate VIF for the cleaned numeric DataFrame\n",
    "    vif_results = calculate_vif(df_numeric)\n",
    "\n",
    "    # Sort the results by VIF values in ascending order\n",
    "    vif_results = vif_results.sort_values(by='VIF', ascending=True)\n",
    "\n",
    "    # Print the results\n",
    "    print(\"Variance Inflation Factor (VIF) for numeric columns, sorted by VIF:\\n\")\n",
    "    print(vif_results)\n",
    "else:\n",
    "    print(\"No numeric columns available for VIF calculation.\")\n"
   ]
  },
  {
   "cell_type": "code",
   "execution_count": null,
   "metadata": {},
   "outputs": [],
   "source": [
    "# Access the index (column names) from the correlation Series\n",
    "column_names = golden_features_list.index.tolist()\n",
    "\n",
    "# Create a DataFrame for the VIF results\n",
    "vif_threshold = 50\n",
    "vif_filtered = vif_results[(vif_results['VIF'] <= vif_threshold) | (vif_results['Feature'].str.contains('lag'))]\n",
    "\n",
    "# Get the column names that meet the VIF and lag condition\n",
    "vif_filtered_columns = vif_filtered['Feature'].tolist()\n",
    "\n",
    "# Combine correlation-filtered and VIF-filtered columns\n",
    "selected_columns = list(set(column_names) & set(vif_filtered_columns))\n",
    "\n",
    "# Add additional necessary columns\n",
    "additional_columns = ['Year_Quarter', 'BedrijfstakkenBranchesSBI2008']\n",
    "all_columns = selected_columns + additional_columns\n",
    "\n",
    "# Filter the DataFrame\n",
    "df_filtered = df[all_columns]\n",
    "\n",
    "# Display the filtered DataFrame\n",
    "df_filtered.head()\n"
   ]
  },
  {
   "cell_type": "code",
   "execution_count": null,
   "metadata": {},
   "outputs": [],
   "source": [
    "df_final = df_filtered.dropna()\n",
    "print(df_final.shape)\n",
    "df_final.head()"
   ]
  },
  {
   "cell_type": "code",
   "execution_count": null,
   "metadata": {},
   "outputs": [],
   "source": [
    "df_final.to_json('data/df_final.json')"
   ]
  },
  {
   "cell_type": "markdown",
   "metadata": {},
   "source": [
    "## Ziekteverzuim"
   ]
  },
  {
   "cell_type": "code",
   "execution_count": null,
   "metadata": {},
   "outputs": [],
   "source": [
    "# Print the description of the Ziekteverzuimpercentage_1 column\n",
    "print(df['80072ned_Ziekteverzuimpercentage_1'].describe())\n",
    "\n",
    "# Plot the distribution with seaborn\n",
    "plt.figure(figsize=(9, 8))\n",
    "sns.displot(df['80072ned_Ziekteverzuimpercentage_1'], color='g', bins=10, kde=True)\n",
    "plt.title('Distribution of Ziekteverzuimpercentage_1')\n",
    "plt.xlabel('Ziekteverzuimpercentage_1')\n",
    "plt.ylabel('Frequency')\n",
    "plt.show()"
   ]
  },
  {
   "cell_type": "code",
   "execution_count": null,
   "metadata": {},
   "outputs": [],
   "source": [
    "# Plot the data\n",
    "plt.figure(figsize=(14, 8))\n",
    "\n",
    "# Boxplot\n",
    "sns.boxplot(data=df, x='Year_Quarter', y='80072ned_Ziekteverzuimpercentage_1', color='lightblue')\n",
    "\n",
    "# Adding labels and title\n",
    "plt.title('Distribution of Ziekteverzuimpercentage_1 by Year-Quarter with Median Trend')\n",
    "plt.xlabel('Year-Quarter')\n",
    "plt.ylabel('Ziekteverzuimpercentage_1')\n",
    "\n",
    "# Rotate x-axis labels for better readability\n",
    "plt.xticks(rotation=90)\n",
    "\n",
    "# Show the plot\n",
    "plt.tight_layout()\n",
    "plt.legend()\n",
    "plt.show()"
   ]
  },
  {
   "cell_type": "markdown",
   "metadata": {},
   "source": [
    "## Numerical data distribution"
   ]
  },
  {
   "cell_type": "code",
   "execution_count": null,
   "metadata": {},
   "outputs": [],
   "source": [
    "list(set(df.dtypes.tolist()))"
   ]
  },
  {
   "cell_type": "code",
   "execution_count": null,
   "metadata": {},
   "outputs": [],
   "source": [
    "df_num = df.select_dtypes(include = ['float64', 'int64'])\n",
    "df_num.head()"
   ]
  },
  {
   "cell_type": "code",
   "execution_count": null,
   "metadata": {},
   "outputs": [],
   "source": [
    "# Calculate number of rows and columns for subplots\n",
    "num_cols = 3  # Number of columns in the grid\n",
    "num_rows = (len(df_num.columns) - 1) // num_cols + 1  # Number of rows needed\n",
    "\n",
    "# Set up the figure and axes\n",
    "fig, axes = plt.subplots(num_rows, num_cols, figsize=(18, num_rows * 4))\n",
    "axes = axes.flatten()  # Flatten the 2D array of axes for easier indexing\n",
    "\n",
    "# Plot each numeric column\n",
    "for i, col in enumerate(df_num.columns):\n",
    "    ax = axes[i]\n",
    "    sns.histplot(df_num[col], bins=50, kde=True, ax=ax)\n",
    "    ax.set_title(col)\n",
    "    ax.set_xlabel(col)\n",
    "    ax.set_ylabel('Frequency')\n",
    "\n",
    "# Adjust layout and show the plot\n",
    "plt.tight_layout()\n",
    "plt.show()"
   ]
  },
  {
   "cell_type": "code",
   "execution_count": null,
   "metadata": {},
   "outputs": [],
   "source": [
    "for i in range(0, len(df_num.columns), 5):\n",
    "    sns.pairplot(data=df_num,\n",
    "                x_vars=df_num.columns[i:i+5],\n",
    "                y_vars=['80072ned_Ziekteverzuimpercentage_1'])"
   ]
  }
 ],
 "metadata": {
  "kernelspec": {
   "display_name": ".venv",
   "language": "python",
   "name": "python3"
  },
  "language_info": {
   "codemirror_mode": {
    "name": "ipython",
    "version": 3
   },
   "file_extension": ".py",
   "mimetype": "text/x-python",
   "name": "python",
   "nbconvert_exporter": "python",
   "pygments_lexer": "ipython3",
   "version": "3.12.4"
  }
 },
 "nbformat": 4,
 "nbformat_minor": 2
}
