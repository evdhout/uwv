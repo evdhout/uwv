{
 "cells": [
  {
   "cell_type": "code",
   "execution_count": null,
   "metadata": {},
   "outputs": [],
   "source": [
    "import pandas as pd\n",
    "import seaborn as sns\n",
    "import matplotlib.pyplot as plt\n",
    "import os\n",
    "from statsmodels.stats.outliers_influence import variance_inflation_factor"
   ]
  },
  {
   "cell_type": "code",
   "execution_count": null,
   "metadata": {},
   "outputs": [],
   "source": [
    "df = pd.read_csv('data/merged_tables.csv')\n",
    "df_knmi = pd.read_csv('data/knmi_data.csv')"
   ]
  },
  {
   "cell_type": "code",
   "execution_count": null,
   "metadata": {},
   "outputs": [],
   "source": [
    "print(df.shape)\n",
    "df.head()"
   ]
  },
  {
   "cell_type": "code",
   "execution_count": null,
   "metadata": {},
   "outputs": [],
   "source": [
    "print(df_knmi.shape)\n",
    "df_knmi.head()"
   ]
  },
  {
   "cell_type": "code",
   "execution_count": null,
   "metadata": {},
   "outputs": [],
   "source": [
    "# Create a combined Year-Quarter column in the format 'YYYY-QX' and insert it as the first column\n",
    "df.insert(0, 'Year_Quarter', df['Year'].astype(int).astype(str) + '-Q' + df['Quarter'].astype(int).astype(str))\n",
    "\n",
    "# Drop the now redundant 'Year' and 'Quarter' columns\n",
    "df = df.drop(columns=['Year', 'Quarter'])\n",
    "\n",
    "# Sort the DataFrame by 'BedrijfstakkenBranchesSBI2008' and 'Year_Quarter' for better chronological order\n",
    "df = df.sort_values(by=['BedrijfstakkenBranchesSBI2008', 'Year_Quarter']).reset_index(drop=True)\n",
    "\n",
    "# Display the modified DataFrame with the new column and sorting\n",
    "print(df.shape)\n",
    "df.head()"
   ]
  },
  {
   "cell_type": "code",
   "execution_count": null,
   "metadata": {},
   "outputs": [],
   "source": [
    "# Create the four new columns by shifting the values of '80072ned_Ziekteverzuimpercentage_1' by 1, 2, 3, and 4 quarters\n",
    "df['80072ned_Ziekteverzuimpercentage_1_lag_1'] = df.groupby('BedrijfstakkenBranchesSBI2008')['80072ned_Ziekteverzuimpercentage_1'].shift(1)\n",
    "df['80072ned_Ziekteverzuimpercentage_1_lag_2'] = df.groupby('BedrijfstakkenBranchesSBI2008')['80072ned_Ziekteverzuimpercentage_1'].shift(2)\n",
    "df['80072ned_Ziekteverzuimpercentage_1_lag_3'] = df.groupby('BedrijfstakkenBranchesSBI2008')['80072ned_Ziekteverzuimpercentage_1'].shift(3)\n",
    "df['80072ned_Ziekteverzuimpercentage_1_lag_4'] = df.groupby('BedrijfstakkenBranchesSBI2008')['80072ned_Ziekteverzuimpercentage_1'].shift(4)\n",
    "\n",
    "# Create the four future columns by shifting the values of '80072ned_Ziekteverzuimpercentage_1' backward by 1, 2, 3, and 4 quarters\n",
    "df['80072ned_Ziekteverzuimpercentage_1_lead_1'] = df.groupby('BedrijfstakkenBranchesSBI2008')['80072ned_Ziekteverzuimpercentage_1'].shift(-1)\n",
    "df['80072ned_Ziekteverzuimpercentage_1_lead_2'] = df.groupby('BedrijfstakkenBranchesSBI2008')['80072ned_Ziekteverzuimpercentage_1'].shift(-2)\n",
    "df['80072ned_Ziekteverzuimpercentage_1_lead_3'] = df.groupby('BedrijfstakkenBranchesSBI2008')['80072ned_Ziekteverzuimpercentage_1'].shift(-3)\n",
    "df['80072ned_Ziekteverzuimpercentage_1_lead_4'] = df.groupby('BedrijfstakkenBranchesSBI2008')['80072ned_Ziekteverzuimpercentage_1'].shift(-4)\n",
    "\n",
    "# Display the full DataFrame to verify the new columns\n",
    "print(df.shape)\n",
    "df.head()"
   ]
  },
  {
   "cell_type": "code",
   "execution_count": null,
   "metadata": {},
   "outputs": [],
   "source": [
    "# Assume df and df_knmi are already loaded as per your examples\n",
    "# Step 1: Create a DataFrame of unique industries from df\n",
    "industries = df[['BedrijfstakkenBranchesSBI2008']].drop_duplicates()\n",
    "\n",
    "# Step 2: Perform a Cartesian product to expand df_knmi across all industries\n",
    "expanded_knmi = df_knmi.merge(industries, how='cross')\n",
    "\n",
    "# Step 3: Merge the expanded df_knmi with the main df based on 'Year_Quarter'\n",
    "df = df.merge(expanded_knmi, on=['Year_Quarter', 'BedrijfstakkenBranchesSBI2008'], how='left')\n",
    "\n",
    "# Display the result\n",
    "print(df.shape)\n",
    "df.head()"
   ]
  },
  {
   "cell_type": "code",
   "execution_count": null,
   "metadata": {},
   "outputs": [],
   "source": [
    "# Define a function to label COVID-19 years\n",
    "def label_covid_period(row):\n",
    "    if row['Year_Quarter'].startswith('2020') or row['Year_Quarter'].startswith('2021') or row['Year_Quarter'].startswith('2022'):\n",
    "        return 1\n",
    "    else:\n",
    "        return 0\n",
    "\n",
    "# Apply the function to create the covid_19 column\n",
    "df['covid_19'] = df.apply(label_covid_period, axis=1)\n",
    "\n",
    "# Display the DataFrame to confirm the changes\n",
    "print(df[['Year_Quarter', 'covid_19']].head())"
   ]
  },
  {
   "cell_type": "code",
   "execution_count": null,
   "metadata": {},
   "outputs": [],
   "source": [
    "df.tail()"
   ]
  },
  {
   "cell_type": "code",
   "execution_count": null,
   "metadata": {},
   "outputs": [],
   "source": [
    "df.info(verbose=True, show_counts=True) #verbose is true because it otherwise doesn't output the entire list of columns"
   ]
  },
  {
   "cell_type": "markdown",
   "metadata": {},
   "source": [
    "## Correlation"
   ]
  },
  {
   "cell_type": "code",
   "execution_count": null,
   "metadata": {},
   "outputs": [],
   "source": [
    "# Select only numeric columns (float and int types) from the DataFrame\n",
    "df_numeric = df.select_dtypes(include=['float', 'int'])\n",
    "\n",
    "# Ensure the target column exists in the filtered numeric DataFrame\n",
    "if '80072ned_Ziekteverzuimpercentage_1' in df_numeric.columns:\n",
    "    # Calculate the correlation matrix and extract correlations with the target column\n",
    "    df_num_corr = df_numeric.corr()['80072ned_Ziekteverzuimpercentage_1']\n",
    "    \n",
    "    # Filter for features with strong correlations (absolute correlation > 0.5)\n",
    "    golden_features_list = df_num_corr[abs(df_num_corr) > 0.5].sort_values(ascending=False)\n",
    "    \n",
    "    # Print the results if there are any strongly correlated features\n",
    "    print(\"There are {} strongly correlated values with ziekteverzuim:\\n{}\".format(len(golden_features_list), golden_features_list))\n",
    "else:\n",
    "    print(\"The target column '80072ned_Ziekteverzuimpercentage_1' is not in the numeric columns.\")\n"
   ]
  },
  {
   "cell_type": "code",
   "execution_count": null,
   "metadata": {},
   "outputs": [],
   "source": [
    "# Initialize a dictionary to store correlation results\n",
    "correlation_results_by_industry = {}\n",
    "\n",
    "# Define the target variables\n",
    "target_columns = [\n",
    "    '80072ned_Ziekteverzuimpercentage_1',\n",
    "    '80072ned_Ziekteverzuimpercentage_1_lead_1',\n",
    "    '80072ned_Ziekteverzuimpercentage_1_lead_2',\n",
    "    '80072ned_Ziekteverzuimpercentage_1_lead_3',\n",
    "    '80072ned_Ziekteverzuimpercentage_1_lead_4'\n",
    "]\n",
    "\n",
    "# Set correlation threshold\n",
    "correlation_threshold = 0.7\n",
    "\n",
    "# Group by industry\n",
    "for industry, group_df in df.groupby('BedrijfstakkenBranchesSBI2008'):\n",
    "    # Select numeric columns\n",
    "    group_df_numeric = group_df.select_dtypes(include=[float, int])\n",
    "    \n",
    "    # Initialize a dictionary to store correlation results for this industry\n",
    "    industry_correlation_results = {}\n",
    "    \n",
    "    for target in target_columns:\n",
    "        # Check if the target exists in the group\n",
    "        if target in group_df_numeric.columns:\n",
    "            # Calculate correlation matrix\n",
    "            corr_matrix = group_df_numeric.corr()\n",
    "            target_corr = corr_matrix[target]\n",
    "            \n",
    "            # Retain features with strong correlation\n",
    "            strongly_correlated_features = target_corr[abs(target_corr) > correlation_threshold].sort_values(ascending=False)\n",
    "            \n",
    "            # Store the results\n",
    "            industry_correlation_results[target] = strongly_correlated_features\n",
    "    \n",
    "    # Store results for this industry\n",
    "    if industry_correlation_results:\n",
    "        correlation_results_by_industry[industry] = industry_correlation_results\n",
    "\n",
    "# Output the results\n",
    "print(\"Correlation Analysis Results:\")\n",
    "for industry, results in correlation_results_by_industry.items():\n",
    "    print(f\"Industry: {industry}\")\n",
    "    for target, correlations in results.items():\n",
    "        print(f\"  Target: {target}\")\n",
    "        print(f\"  Strong correlations:\\n{correlations}\\n\")\n"
   ]
  },
  {
   "cell_type": "code",
   "execution_count": null,
   "metadata": {},
   "outputs": [],
   "source": [
    "correlation_results_by_industry"
   ]
  },
  {
   "cell_type": "code",
   "execution_count": null,
   "metadata": {},
   "outputs": [],
   "source": [
    "import os\n",
    "\n",
    "# Create a directory to store the datasets if it doesn't exist\n",
    "output_folder = \"data\"\n",
    "os.makedirs(output_folder, exist_ok=True)\n",
    "\n",
    "# Define the target variables\n",
    "target_columns = [\n",
    "    '80072ned_Ziekteverzuimpercentage_1',\n",
    "    '80072ned_Ziekteverzuimpercentage_1_lead_1',\n",
    "    '80072ned_Ziekteverzuimpercentage_1_lead_2',\n",
    "    '80072ned_Ziekteverzuimpercentage_1_lead_3',\n",
    "    '80072ned_Ziekteverzuimpercentage_1_lead_4'\n",
    "]\n",
    "\n",
    "# Filter the data for 'C Industrie'\n",
    "industry = 'C Industrie'\n",
    "industry_data = df[df['BedrijfstakkenBranchesSBI2008'] == industry]\n",
    "\n",
    "# Process each target variable\n",
    "for target in target_columns:\n",
    "    # Check if the target has correlation results for this industry\n",
    "    if industry in correlation_results_by_industry and target in correlation_results_by_industry[industry]:\n",
    "        # Get the features strongly correlated with the current target\n",
    "        correlated_features = correlation_results_by_industry[industry][target].index.tolist()\n",
    "        \n",
    "        # Add the target variable itself\n",
    "        correlated_features.append(target)\n",
    "        \n",
    "        # Add 'Year_Quarter' as it should always be included\n",
    "        correlated_features.append('Year_Quarter')\n",
    "        \n",
    "        # Ensure only valid columns are selected (features that exist in the DataFrame)\n",
    "        valid_columns = [col for col in correlated_features if col in industry_data.columns]\n",
    "        \n",
    "        # Filter the data to include only strongly correlated features\n",
    "        filtered_data = industry_data[valid_columns]\n",
    "        \n",
    "        # Remove duplicate column names (if any)\n",
    "        filtered_data = filtered_data.loc[:, ~filtered_data.columns.duplicated()]\n",
    "        \n",
    "        # Save the filtered dataset as a CSV file\n",
    "        output_path = os.path.join(output_folder, f\"{target}.csv\")\n",
    "        filtered_data.to_csv(output_path, index=False)\n",
    "        print(f\"Dataset for {target} (C Industrie) saved to {output_path}.\")\n"
   ]
  },
  {
   "cell_type": "code",
   "execution_count": null,
   "metadata": {},
   "outputs": [],
   "source": [
    "# Access the index (column names) from the correlation Series\n",
    "column_names = golden_features_list.index.tolist()\n",
    "\n",
    "# Get the column names that meet the VIF and lag condition\n",
    "vif_filtered_columns = vif_filtered['Feature'].tolist()\n",
    "\n",
    "# Combine correlation-filtered and VIF-filtered columns\n",
    "selected_columns = list(set(column_names) & set(vif_filtered_columns))\n",
    "\n",
    "# Add additional necessary columns\n",
    "additional_columns = ['Year_Quarter', 'BedrijfstakkenBranchesSBI2008']\n",
    "all_columns = selected_columns + additional_columns\n",
    "\n",
    "# Filter the DataFrame\n",
    "df_filtered = df[all_columns]\n",
    "\n",
    "# Display the filtered DataFrame\n",
    "df_filtered.head()\n"
   ]
  },
  {
   "cell_type": "code",
   "execution_count": null,
   "metadata": {},
   "outputs": [],
   "source": [
    "df_final = df_filtered.dropna()\n",
    "print(df_final.shape)\n",
    "df_final.head()"
   ]
  },
  {
   "cell_type": "code",
   "execution_count": null,
   "metadata": {},
   "outputs": [],
   "source": [
    "df_final.to_json('data/df_final.json')"
   ]
  },
  {
   "cell_type": "markdown",
   "metadata": {},
   "source": [
    "## Ziekteverzuim"
   ]
  },
  {
   "cell_type": "code",
   "execution_count": null,
   "metadata": {},
   "outputs": [],
   "source": [
    "# Print the description of the Ziekteverzuimpercentage_1 column\n",
    "print(df['80072ned_Ziekteverzuimpercentage_1'].describe())\n",
    "\n",
    "# Plot the distribution with seaborn\n",
    "plt.figure(figsize=(9, 8))\n",
    "sns.displot(df['80072ned_Ziekteverzuimpercentage_1'], color='g', bins=10, kde=True)\n",
    "plt.title('Distribution of Ziekteverzuimpercentage_1')\n",
    "plt.xlabel('Ziekteverzuimpercentage_1')\n",
    "plt.ylabel('Frequency')\n",
    "plt.show()"
   ]
  },
  {
   "cell_type": "code",
   "execution_count": null,
   "metadata": {},
   "outputs": [],
   "source": [
    "# Plot the data\n",
    "plt.figure(figsize=(14, 8))\n",
    "\n",
    "# Boxplot\n",
    "sns.boxplot(data=df, x='Year_Quarter', y='80072ned_Ziekteverzuimpercentage_1', color='lightblue')\n",
    "\n",
    "# Adding labels and title\n",
    "plt.title('Distribution of Ziekteverzuimpercentage_1 by Year-Quarter with Median Trend')\n",
    "plt.xlabel('Year-Quarter')\n",
    "plt.ylabel('Ziekteverzuimpercentage_1')\n",
    "\n",
    "# Rotate x-axis labels for better readability\n",
    "plt.xticks(rotation=90)\n",
    "\n",
    "# Show the plot\n",
    "plt.tight_layout()\n",
    "plt.legend()\n",
    "plt.show()"
   ]
  },
  {
   "cell_type": "markdown",
   "metadata": {},
   "source": [
    "## Numerical data distribution"
   ]
  },
  {
   "cell_type": "code",
   "execution_count": null,
   "metadata": {},
   "outputs": [],
   "source": [
    "list(set(df.dtypes.tolist()))"
   ]
  },
  {
   "cell_type": "code",
   "execution_count": null,
   "metadata": {},
   "outputs": [],
   "source": [
    "df_num = df.select_dtypes(include = ['float64', 'int64'])\n",
    "df_num.head()"
   ]
  },
  {
   "cell_type": "code",
   "execution_count": null,
   "metadata": {},
   "outputs": [],
   "source": [
    "# Calculate number of rows and columns for subplots\n",
    "num_cols = 3  # Number of columns in the grid\n",
    "num_rows = (len(df_num.columns) - 1) // num_cols + 1  # Number of rows needed\n",
    "\n",
    "# Set up the figure and axes\n",
    "fig, axes = plt.subplots(num_rows, num_cols, figsize=(18, num_rows * 4))\n",
    "axes = axes.flatten()  # Flatten the 2D array of axes for easier indexing\n",
    "\n",
    "# Plot each numeric column\n",
    "for i, col in enumerate(df_num.columns):\n",
    "    ax = axes[i]\n",
    "    sns.histplot(df_num[col], bins=50, kde=True, ax=ax)\n",
    "    ax.set_title(col)\n",
    "    ax.set_xlabel(col)\n",
    "    ax.set_ylabel('Frequency')\n",
    "\n",
    "# Adjust layout and show the plot\n",
    "plt.tight_layout()\n",
    "plt.show()"
   ]
  },
  {
   "cell_type": "code",
   "execution_count": null,
   "metadata": {},
   "outputs": [],
   "source": [
    "for i in range(0, len(df_num.columns), 5):\n",
    "    sns.pairplot(data=df_num,\n",
    "                x_vars=df_num.columns[i:i+5],\n",
    "                y_vars=['80072ned_Ziekteverzuimpercentage_1'])"
   ]
  },
  {
   "cell_type": "code",
   "execution_count": null,
   "metadata": {},
   "outputs": [],
   "source": [
    "# Define the columns for which we want lagged correlations\n",
    "columns_to_lag = [\n",
    "    'airpressure', 'maximum_temperatures', 'mean_temperatures', \n",
    "    'minimum_temperatures', 'precipitation', 'covid_19'\n",
    "]\n",
    "\n",
    "# Create lagged variables for each column in `columns_to_lag`\n",
    "for col in columns_to_lag:\n",
    "    df[f'{col}_lag_1'] = df[col].shift(1)\n",
    "    df[f'{col}_lag_2'] = df[col].shift(2)\n",
    "\n",
    "# Recompute numeric-only DataFrame to include new lagged columns\n",
    "df_numeric = df.select_dtypes(include=[float, int])\n",
    "\n",
    "# Calculate correlations for the primary column of interest and its lags\n",
    "correlation_columns = columns_to_lag + [f\"{col}_lag_1\" for col in columns_to_lag] + [f\"{col}_lag_2\" for col in columns_to_lag]\n",
    "correlations = df_numeric.corr()['80072ned_Ziekteverzuimpercentage_1'][correlation_columns]\n",
    "\n",
    "print(\"Correlations with 80072ned_Ziekteverzuimpercentage_1:\")\n",
    "print(correlations)"
   ]
  },
  {
   "cell_type": "code",
   "execution_count": null,
   "metadata": {},
   "outputs": [],
   "source": [
    "# Set VIF threshold\n",
    "vif_threshold = 10\n",
    "\n",
    "# Initialize a dictionary to store VIF results\n",
    "vif_results_by_industry = {}\n",
    "\n",
    "# Function to iteratively remove features with infinite VIF\n",
    "def calculate_vif_with_removal(features_df):\n",
    "    features_df = features_df.copy()\n",
    "    while True:\n",
    "        vif_data = pd.DataFrame()\n",
    "        vif_data['Feature'] = features_df.columns\n",
    "        vif_data['VIF'] = [\n",
    "            variance_inflation_factor(features_df.values, i) for i in range(features_df.shape[1])\n",
    "        ]\n",
    "        \n",
    "        # Check for infinite VIF values\n",
    "        max_vif = vif_data['VIF'].max()\n",
    "        if max_vif == float('inf'):\n",
    "            # Remove the feature with the highest VIF\n",
    "            feature_to_remove = vif_data.loc[vif_data['VIF'].idxmax(), 'Feature']\n",
    "            print(f\"Removing feature with infinite VIF: {feature_to_remove}\")\n",
    "            features_df = features_df.drop(columns=[feature_to_remove])\n",
    "        else:\n",
    "            break\n",
    "    \n",
    "    return vif_data\n",
    "\n",
    "# Iterate over industries identified in correlation analysis\n",
    "for industry, correlation_results in correlation_results_by_industry.items():\n",
    "    # Initialize a dictionary to store VIF results for this industry\n",
    "    industry_vif_results = {}\n",
    "    \n",
    "    for target, correlations in correlation_results.items():\n",
    "        # Extract the strongly correlated features\n",
    "        correlated_features = correlations.index.tolist()\n",
    "        \n",
    "        # Prepare data for VIF calculation\n",
    "        features_for_vif = df[df['BedrijfstakkenBranchesSBI2008'] == industry][correlated_features]\n",
    "        \n",
    "        # Handle missing or infinite values\n",
    "        features_for_vif = features_for_vif.replace([np.inf, -np.inf], np.nan).dropna()\n",
    "\n",
    "        if not features_for_vif.empty and features_for_vif.shape[1] > 1:  # Ensure there are enough features\n",
    "            # Calculate VIF with removal of problematic features\n",
    "            vif_data = calculate_vif_with_removal(features_for_vif)\n",
    "            \n",
    "            # Retain features with VIF <= threshold or containing 'lag'\n",
    "            selected_features = vif_data[\n",
    "                (vif_data['VIF'] <= vif_threshold) | (vif_data['Feature'].str.contains('lag'))\n",
    "            ]\n",
    "            \n",
    "            # Store the results\n",
    "            industry_vif_results[target] = selected_features\n",
    "    \n",
    "    # Store VIF results for this industry\n",
    "    if industry_vif_results:\n",
    "        vif_results_by_industry[industry] = industry_vif_results\n",
    "\n",
    "# Output the results\n",
    "print(\"VIF Analysis Results:\")\n",
    "for industry, results in vif_results_by_industry.items():\n",
    "    print(f\"Industry: {industry}\")\n",
    "    for target, vif_data in results.items():\n",
    "        print(f\"  Target: {target}\")\n",
    "        print(f\"  VIF Data:\\n{vif_data}\\n\")\n"
   ]
  }
 ],
 "metadata": {
  "kernelspec": {
   "display_name": ".venv",
   "language": "python",
   "name": "python3"
  },
  "language_info": {
   "codemirror_mode": {
    "name": "ipython",
    "version": 3
   },
   "file_extension": ".py",
   "mimetype": "text/x-python",
   "name": "python",
   "nbconvert_exporter": "python",
   "pygments_lexer": "ipython3",
   "version": "3.12.4"
  }
 },
 "nbformat": 4,
 "nbformat_minor": 2
}
