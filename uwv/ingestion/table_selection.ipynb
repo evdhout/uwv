{
 "cells": [
  {
   "cell_type": "code",
   "execution_count": null,
   "metadata": {},
   "outputs": [],
   "source": [
    "import pandas as pd\n",
    "import requests \n",
    "import cbsodata\n",
    "import re"
   ]
  },
  {
   "cell_type": "code",
   "execution_count": null,
   "metadata": {},
   "outputs": [],
   "source": [
    "# Define the desired frequencies\n",
    "desired_frequencies = [\n",
    "    \"Fourtimesayear\", \"Monthly\", \"Threemonthly\", \"Quarterly\", \"Viermaalperjaar\",\n",
    "    \"Perkwartaal\", \"Perweek\", \"Stopgezet\", \"Permaand\", \"Discontinued\",\n",
    "    \"Perdriemaanden\", \"Weekly\"\n",
    "]\n",
    "\n",
    "# Fetch the list of tables\n",
    "tables = cbsodata.get_table_list()\n",
    "\n",
    "# Function to extract the first and last four-digit numbers from a period string\n",
    "def extract_years(period):\n",
    "    # Find all sequences of four digits\n",
    "    years = re.findall(r'\\b\\d{4}\\b', period)\n",
    "    if len(years) >= 2:\n",
    "        return int(years[0]), int(years[-1])\n",
    "    elif len(years) == 1:\n",
    "        return int(years[0]), int(years[0])\n",
    "    else:\n",
    "        return None, None\n",
    "\n",
    "# List to store the identifiers, short titles, and languages\n",
    "filtered_data = []\n",
    "\n",
    "# Filter tables and extract identifiers, short titles, and languages\n",
    "for table in tables:\n",
    "    if table.get('Frequency') in desired_frequencies:\n",
    "        period = table.get('Period', 'N/A')\n",
    "        start_year, end_year = extract_years(period)\n",
    "        if start_year is not None and end_year is not None:\n",
    "            if start_year <= 2012 and end_year >= 2022:\n",
    "                short_title = table.get('ShortTitle', 'N/A')\n",
    "                # Filter out rows containing 'Caribisch' or 'Bonaire' in ShortTitle\n",
    "                if 'Caribisch' not in short_title and 'Bonaire' not in short_title:\n",
    "                    identifier = table.get('Identifier', 'N/A')\n",
    "                    language = table.get('Language', 'N/A')\n",
    "                    if language == 'nl':  # Only include rows where Language is 'nl'\n",
    "                        filtered_data.append((identifier, short_title, language))\n",
    "\n",
    "# Print the filtered data\n",
    "print(\"Filtered identifiers, short titles, and languages:\")\n",
    "for identifier, short_title, language in filtered_data:\n",
    "    print(f\"Identifier: {identifier}, ShortTitle: {short_title}, Language: {language}\")\n"
   ]
  },
  {
   "cell_type": "markdown",
   "metadata": {},
   "source": [
    "## Appendix"
   ]
  },
  {
   "cell_type": "code",
   "execution_count": null,
   "metadata": {},
   "outputs": [],
   "source": [
    "# Fetch the list of tables\n",
    "tables = cbsodata.get_table_list()\n",
    "\n",
    "# Initialize sets for unique frequencies and unique periods\n",
    "unique_frequencies = set()\n",
    "unique_periods = set()\n",
    "unique_languages = set()\n",
    "\n",
    "# Loop through the tables and collect unique frequencies and periods\n",
    "for table in tables:\n",
    "    frequency = table.get('Frequency', 'N/A')\n",
    "    period = table.get('Period', 'N/A')\n",
    "    language = table.get('Language','N/A')\n",
    "    unique_frequencies.add(frequency)\n",
    "    unique_periods.add(period)\n",
    "    unique_languages.add(language)\n",
    "\n",
    "# Convert sets to lists for easier manipulation (optional)\n",
    "unique_frequencies = list(unique_frequencies)\n",
    "unique_periods = list(unique_periods)\n",
    "unique_languages = list(unique_languages)\n",
    "\n",
    "# # Print unique frequencies\n",
    "print(\"Unique frequencies:\")\n",
    "for frequency in unique_frequencies:\n",
    "    print(frequency)\n",
    "\n",
    "# Print unique periods\n",
    "print(\"\\nUnique periods:\")\n",
    "for period in unique_periods:\n",
    "    print(period)\n",
    "\n",
    "# Print unique periods\n",
    "print(\"\\nUnique languages:\")\n",
    "for language in unique_languages:\n",
    "    print(language)    "
   ]
  }
 ],
 "metadata": {
  "kernelspec": {
   "display_name": ".venv",
   "language": "python",
   "name": "python3"
  },
  "language_info": {
   "codemirror_mode": {
    "name": "ipython",
    "version": 3
   },
   "file_extension": ".py",
   "mimetype": "text/x-python",
   "name": "python",
   "nbconvert_exporter": "python",
   "pygments_lexer": "ipython3",
   "version": "3.12.4"
  }
 },
 "nbformat": 4,
 "nbformat_minor": 2
}
