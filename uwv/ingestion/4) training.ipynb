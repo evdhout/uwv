{
 "cells": [
  {
   "cell_type": "code",
   "execution_count": null,
   "metadata": {},
   "outputs": [],
   "source": [
    "import pandas as pd\n",
    "import numpy as np\n",
    "import seaborn as sns\n",
    "import matplotlib.pyplot as plt\n",
    "from sklearn.linear_model import LinearRegression\n",
    "from sklearn.metrics import mean_squared_error, r2_score, mean_absolute_error"
   ]
  },
  {
   "cell_type": "code",
   "execution_count": null,
   "metadata": {},
   "outputs": [],
   "source": [
    "# Step 1: Create a sorted list of unique 'Year_Quarter' values across the entire DataFrame\n",
    "unique_year_quarters = sorted(df['Year_Quarter'].unique())\n",
    "\n",
    "# Step 2: Create a global ordinal mapping that assigns each 'Year_Quarter' a unique integer\n",
    "year_quarter_to_ordinal = {val: idx for idx, val in enumerate(unique_year_quarters)}\n",
    "ordinal_to_year_quarter = {idx: val for idx, val in enumerate(unique_year_quarters)}\n",
    "\n",
    "# Step 3: Apply the encoding to the 'Year_Quarter' column in the main dataframe\n",
    "df['Year_Quarter_Encoded'] = df['Year_Quarter'].map(year_quarter_to_ordinal)\n",
    "\n",
    "# Step 4: Verify the encoding (optional but useful for assurance)\n",
    "# print(\"Sample of Year_Quarter encoding mapping:\")\n",
    "for i in range(min(100, len(year_quarter_to_ordinal))):  # Display first 10 mappings for verification\n",
    "    quarter = unique_year_quarters[i]\n",
    "    # print(f\"{quarter} -> {year_quarter_to_ordinal[quarter]}\")\n",
    "    \n",
    "# At this point, each 'Year_Quarter' in df['Year_Quarter'] has been encoded consistently\n"
   ]
  },
  {
   "cell_type": "code",
   "execution_count": null,
   "metadata": {},
   "outputs": [],
   "source": [
    "# df = pd.read_json('data/df_final.json')\n",
    "df = pd.read_csv('data/80072ned_Ziekteverzuimpercentage_1_lead_1.csv')\n",
    "df_lead_2 = pd.read_csv('data/80072ned_Ziekteverzuimpercentage_1_lead_2.csv')\n",
    "df_lead_3 = pd.read_csv('data/80072ned_Ziekteverzuimpercentage_1_lead_3.csv')\n",
    "df_lead_4 = pd.read_csv('data/80072ned_Ziekteverzuimpercentage_1_lead_4.csv')"
   ]
  },
  {
   "cell_type": "code",
   "execution_count": null,
   "metadata": {},
   "outputs": [],
   "source": [
    "df = df.dropna()"
   ]
  },
  {
   "cell_type": "code",
   "execution_count": null,
   "metadata": {},
   "outputs": [],
   "source": [
    "train_df = df[df['Year_Quarter'] < '2022-Q1']\n",
    "test_df = df[df['Year_Quarter'] >= '2022-Q1']"
   ]
  },
  {
   "cell_type": "code",
   "execution_count": null,
   "metadata": {},
   "outputs": [],
   "source": [
    "test_df.head()"
   ]
  },
  {
   "cell_type": "code",
   "execution_count": null,
   "metadata": {},
   "outputs": [],
   "source": [
    "X_train = train_df.drop(columns=['80072ned_Ziekteverzuimpercentage_1_lead_1', 'Year_Quarter'])\n",
    "y_train = train_df['80072ned_Ziekteverzuimpercentage_1_lead_1']"
   ]
  },
  {
   "cell_type": "code",
   "execution_count": null,
   "metadata": {},
   "outputs": [],
   "source": [
    "# Initialize the model\n",
    "model = Ridge()  # Or use another model like RandomForestRegressor\n",
    "\n",
    "# Train the model on the training data\n",
    "model.fit(X_train, y_train)"
   ]
  },
  {
   "cell_type": "code",
   "execution_count": null,
   "metadata": {},
   "outputs": [],
   "source": [
    "# Prepare the test data\n",
    "X_test = test_df.drop(columns=['80072ned_Ziekteverzuimpercentage_1_lead_1', 'Year_Quarter'])\n",
    "y_test = test_df['80072ned_Ziekteverzuimpercentage_1_lead_1']\n",
    "\n",
    "# Make predictions on the test set\n",
    "y_pred = model.predict(X_test)\n",
    "\n",
    "# Calculate RMSE\n",
    "rmse = np.sqrt(mean_squared_error(y_test, y_pred))\n",
    "print(f\"RMSE: {rmse}\")\n",
    "\n",
    "# Combine actual vs predicted into a DataFrame for comparison\n",
    "comparison_df = test_df[['Year_Quarter']].copy()\n",
    "comparison_df['Actual'] = y_test.values\n",
    "comparison_df['Predicted'] = y_pred\n",
    "\n",
    "# Print the comparison DataFrame\n",
    "print(\"Actual vs Predicted:\")\n",
    "print(comparison_df)\n",
    "\n",
    "# Optional: Save the comparison to a CSV for review\n",
    "comparison_df.to_csv('actual_vs_predicted.csv', index=False)\n"
   ]
  },
  {
   "cell_type": "code",
   "execution_count": null,
   "metadata": {},
   "outputs": [],
   "source": [
    "df = df_lead_2.dropna()"
   ]
  },
  {
   "cell_type": "code",
   "execution_count": null,
   "metadata": {},
   "outputs": [],
   "source": [
    "train_df = df[df['Year_Quarter'] < '2022-Q1']\n",
    "test_df = df[df['Year_Quarter'] >= '2022-Q1']"
   ]
  },
  {
   "cell_type": "code",
   "execution_count": null,
   "metadata": {},
   "outputs": [],
   "source": [
    "train_df.tail()"
   ]
  },
  {
   "cell_type": "code",
   "execution_count": null,
   "metadata": {},
   "outputs": [],
   "source": [
    "test_df.tail()"
   ]
  },
  {
   "cell_type": "code",
   "execution_count": null,
   "metadata": {},
   "outputs": [],
   "source": [
    "X_train = train_df.drop(columns=['80072ned_Ziekteverzuimpercentage_1_lead_2', 'Year_Quarter'])\n",
    "y_train = train_df['80072ned_Ziekteverzuimpercentage_1_lead_2']"
   ]
  },
  {
   "cell_type": "code",
   "execution_count": null,
   "metadata": {},
   "outputs": [],
   "source": [
    "# Initialize the model\n",
    "model = Ridge()  # Or use another model like RandomForestRegressor\n",
    "\n",
    "# Train the model on the training data\n",
    "model.fit(X_train, y_train)"
   ]
  },
  {
   "cell_type": "code",
   "execution_count": null,
   "metadata": {},
   "outputs": [],
   "source": [
    "# Prepare the test data\n",
    "X_test = test_df.drop(columns=['80072ned_Ziekteverzuimpercentage_1_lead_2', 'Year_Quarter'])\n",
    "y_test = test_df['80072ned_Ziekteverzuimpercentage_1_lead_2']\n",
    "\n",
    "# Make predictions on the test set\n",
    "y_pred = model.predict(X_test)\n",
    "\n",
    "# Calculate RMSE\n",
    "rmse = np.sqrt(mean_squared_error(y_test, y_pred))\n",
    "print(f\"RMSE: {rmse}\")\n",
    "\n",
    "# Combine actual vs predicted into a DataFrame for comparison\n",
    "comparison_df = test_df[['Year_Quarter']].copy()\n",
    "comparison_df['Actual'] = y_test.values\n",
    "comparison_df['Predicted'] = y_pred\n",
    "\n",
    "# Print the comparison DataFrame\n",
    "print(\"Actual vs Predicted:\")\n",
    "print(comparison_df)\n",
    "\n",
    "# Optional: Save the comparison to a CSV for review\n",
    "comparison_df.to_csv('actual_vs_predicted.csv', index=False)\n"
   ]
  },
  {
   "cell_type": "markdown",
   "metadata": {},
   "source": [
    "## Verder gaan"
   ]
  },
  {
   "cell_type": "code",
   "execution_count": null,
   "metadata": {},
   "outputs": [],
   "source": [
    "# Filter the dataset for \"C Industrie\"\n",
    "industry = 'C Industrie'\n",
    "industry_df = df[df['BedrijfstakkenBranchesSBI2008'] == industry]\n",
    "\n",
    "# Split into training and testing based on 'Year_Quarter'\n",
    "train_df = industry_df[industry_df['Year_Quarter'] < '2022-Q1']\n",
    "test_df = industry_df[industry_df['Year_Quarter'] >= '2022-Q1']\n",
    "\n",
    "# Separate features and target for training\n",
    "X_train = train_df.drop(columns=['80072ned_Ziekteverzuimpercentage_1', 'Year_Quarter', 'BedrijfstakkenBranchesSBI2008'])\n",
    "y_train = train_df['80072ned_Ziekteverzuimpercentage_1']\n",
    "\n",
    "# Separate the initial features and target for testing\n",
    "# We’ll use X_test_initial for recursive predictions\n",
    "X_test_initial = train_df.drop(columns=['80072ned_Ziekteverzuimpercentage_1', 'Year_Quarter', 'BedrijfstakkenBranchesSBI2008']).iloc[-1]\n"
   ]
  },
  {
   "cell_type": "code",
   "execution_count": null,
   "metadata": {},
   "outputs": [],
   "source": [
    "import pandas as pd\n",
    "\n",
    "# Set display options for Pandas to show all columns if it's a DataFrame or Series\n",
    "pd.set_option('display.max_rows', None)  # Show all rows\n",
    "pd.set_option('display.max_columns', None)  # Show all columns\n",
    "\n",
    "# Print the full content of X_test_initial\n",
    "print(X_test_initial)\n"
   ]
  },
  {
   "cell_type": "code",
   "execution_count": null,
   "metadata": {},
   "outputs": [],
   "source": [
    "from sklearn.linear_model import Ridge\n",
    "\n",
    "# Initialize the model\n",
    "model = Ridge()  # Or use another model like RandomForestRegressor\n",
    "\n",
    "# Train the model on the training data\n",
    "model.fit(X_train, y_train)\n"
   ]
  },
  {
   "cell_type": "code",
   "execution_count": null,
   "metadata": {},
   "outputs": [],
   "source": []
  },
  {
   "cell_type": "code",
   "execution_count": null,
   "metadata": {},
   "outputs": [],
   "source": [
    "# Create lagged features for the target variable\n",
    "for lag in [1, 2, 3, 4]:  # Create lags for the last 4 quarters\n",
    "    df[f'80072ned_Ziekteverzuimpercentage_1_lag_{lag}'] = df['80072ned_Ziekteverzuimpercentage_1'].shift(lag)\n",
    "\n",
    "# Drop rows with missing values due to lagging\n",
    "df = df.dropna().reset_index(drop=True)\n"
   ]
  },
  {
   "cell_type": "code",
   "execution_count": null,
   "metadata": {},
   "outputs": [],
   "source": [
    "# Define features and target for training\n",
    "X_train = train_df.drop(columns=['80072ned_Ziekteverzuimpercentage_1', 'Year_Quarter', 'BedrijfstakkenBranchesSBI2008'])\n",
    "y_train = train_df['80072ned_Ziekteverzuimpercentage_1']\n"
   ]
  },
  {
   "cell_type": "code",
   "execution_count": null,
   "metadata": {},
   "outputs": [],
   "source": [
    "# Set the initial data for recursive forecasting\n",
    "X_test_initial = X_train.iloc[-1].copy()  # Use the last row of training data as the starting point\n",
    "X_test_initial = pd.DataFrame([X_test_initial], columns=X_train.columns)\n"
   ]
  },
  {
   "cell_type": "code",
   "execution_count": null,
   "metadata": {},
   "outputs": [],
   "source": [
    "import numpy as np\n",
    "import pandas as pd\n",
    "\n",
    "# Placeholder to store predictions for each quarter in 2022\n",
    "predictions = []\n",
    "\n",
    "# Number of future quarters we want to predict (e.g., all quarters in 2022)\n",
    "future_periods = 4\n",
    "\n",
    "# Start with a copy of the initial test data for recursive predictions\n",
    "X_current = X_test_initial.copy()\n",
    "\n",
    "# Ensure X_current is a DataFrame with the correct feature names\n",
    "X_current = pd.DataFrame([X_current], columns=X_train.columns)\n",
    "\n",
    "for i in range(future_periods):\n",
    "    # Predict for the next quarter\n",
    "    y_pred = model.predict(X_current)[0]\n",
    "    predictions.append(y_pred)\n",
    "    \n",
    "    # Update lag features for the next prediction\n",
    "    for lag in range(4, 1, -1):  # Update lags 4 -> 3 -> 2 -> 1\n",
    "        X_current.loc[:, f'80072ned_Ziekteverzuimpercentage_1_lag_{lag}'] = X_current[f'80072ned_Ziekteverzuimpercentage_1_lag_{lag-1}']\n",
    "    X_current.loc[:, '80072ned_Ziekteverzuimpercentage_1_lag_1'] = y_pred  # Set lag 1 to the current prediction\n",
    "\n",
    "# Display predictions for each quarter in 2022\n",
    "print(\"Predicted sick leave percentages for 'C Industrie' in 2022:\", predictions)\n"
   ]
  },
  {
   "cell_type": "markdown",
   "metadata": {},
   "source": [
    "## Samenvoegen modellen"
   ]
  },
  {
   "cell_type": "code",
   "execution_count": null,
   "metadata": {},
   "outputs": [],
   "source": [
    "# List of unique industries\n",
    "industries = df['BedrijfstakkenBranchesSBI2008'].unique()\n",
    "\n",
    "# Dictionary to store train and test sets for each industry\n",
    "industry_splits = {}\n",
    "\n",
    "for industry in industries:\n",
    "    # Filter data for the specific industry\n",
    "    industry_df = df[df['BedrijfstakkenBranchesSBI2008'] == industry]\n",
    "    \n",
    "    # Split into train and test based on Year_Quarter\n",
    "    train_df = industry_df[industry_df['Year_Quarter'] < '2022-Q1']\n",
    "    test_df = industry_df[industry_df['Year_Quarter'] >= '2022-Q1']\n",
    "    \n",
    "    # Separate features and target for training and testing\n",
    "    X_train = train_df.drop(columns=['80072ned_Ziekteverzuimpercentage_1'])\n",
    "    y_train = train_df['80072ned_Ziekteverzuimpercentage_1']\n",
    "    X_test = test_df.drop(columns=['80072ned_Ziekteverzuimpercentage_1'])\n",
    "    y_test = test_df['80072ned_Ziekteverzuimpercentage_1']\n",
    "    \n",
    "    # Store train and test sets in the dictionary\n",
    "    industry_splits[industry] = {\n",
    "        'X_train': X_train,\n",
    "        'y_train': y_train,\n",
    "        'X_test': X_test,\n",
    "        'y_test': y_test\n",
    "    }\n",
    "\n",
    "    print(f\"Data for {industry}:\")\n",
    "    print(\"  Training data:\", X_train.shape, y_train.shape)\n",
    "    print(\"  Testing data:\", X_test.shape, y_test.shape)\n",
    "\n",
    "# First, select numeric columns for grouping\n",
    "df_numeric = df.select_dtypes(include=[float, int])\n",
    "\n",
    "# Group by 'Year_Quarter' and calculate the mean only for numeric columns\n",
    "df_grouped = df_numeric.groupby(df['Year_Quarter']).mean().reset_index()\n",
    "\n",
    "# Now split into train and test based on 'Year_Quarter'\n",
    "train_df = df_grouped[df_grouped['Year_Quarter'] < '2022-Q1']\n",
    "test_df = df_grouped[df_grouped['Year_Quarter'] >= '2022-Q1']\n",
    "\n",
    "# Separate features and target for the combined dataset\n",
    "X_train_combined = train_df.drop(columns=['80072ned_Ziekteverzuimpercentage_1'])\n",
    "y_train_combined = train_df['80072ned_Ziekteverzuimpercentage_1']\n",
    "X_test_combined = test_df.drop(columns=['80072ned_Ziekteverzuimpercentage_1'])\n",
    "y_test_combined = test_df['80072ned_Ziekteverzuimpercentage_1']\n",
    "\n",
    "print(\"\\nCombined data (after grouping by Year_Quarter):\")\n",
    "print(\"  Training data:\", X_train_combined.shape, y_train_combined.shape)\n",
    "print(\"  Testing data:\", X_test_combined.shape, y_test_combined.shape)"
   ]
  },
  {
   "cell_type": "code",
   "execution_count": null,
   "metadata": {},
   "outputs": [],
   "source": [
    "industry_splits['C Industrie']['X_train']"
   ]
  },
  {
   "cell_type": "code",
   "execution_count": null,
   "metadata": {},
   "outputs": [],
   "source": [
    "industry_splits['C Industrie']['y_train']"
   ]
  },
  {
   "cell_type": "code",
   "execution_count": null,
   "metadata": {},
   "outputs": [],
   "source": [
    "import pandas as pd\n",
    "from sklearn.linear_model import LinearRegression\n",
    "from sklearn.metrics import mean_absolute_error, mean_squared_error, r2_score\n",
    "\n",
    "# Define function to train and evaluate a model, and capture predictions vs actuals\n",
    "def train_and_evaluate(X_train, y_train, X_test, y_test, industry_name):\n",
    "    model = LinearRegression()  # Initialize the model\n",
    "    model.fit(X_train, y_train)  # Train the model\n",
    "    \n",
    "    # Predictions\n",
    "    y_pred = model.predict(X_test)\n",
    "    \n",
    "    # Evaluation metrics\n",
    "    mae = mean_absolute_error(y_test, y_pred)\n",
    "    mse = mean_squared_error(y_test, y_pred)\n",
    "    rmse = mse ** 0.5\n",
    "    r2 = r2_score(y_test, y_pred)\n",
    "    \n",
    "    print(f\"\\n{industry_name} Model Evaluation:\")\n",
    "    print(f\"  Mean Absolute Error (MAE): {mae}\")\n",
    "    print(f\"  Mean Squared Error (MSE): {mse}\")\n",
    "    print(f\"  Root Mean Squared Error (RMSE): {rmse}\")\n",
    "    print(f\"  R-squared (R2): {r2}\")\n",
    "    \n",
    "    # Create a DataFrame with predictions and actuals for comparison\n",
    "    results_df = pd.DataFrame({\n",
    "        'Actual': y_test,\n",
    "        'Predicted': y_pred\n",
    "    })\n",
    "    \n",
    "    return model, results_df\n",
    "\n",
    "# Dictionary to store models and results for each industry\n",
    "industry_models = {}\n",
    "industry_results = {}\n",
    "\n",
    "# 1. Train and evaluate models for each industry and store results\n",
    "for industry, data in industry_splits.items():\n",
    "    print(f\"\\nTraining model for industry: {industry}\")\n",
    "    \n",
    "    # Ensure only numeric columns are used\n",
    "    X_train = data['X_train'].copy().select_dtypes(include=[float, int])\n",
    "    y_train = data['y_train']\n",
    "    X_test = data['X_test'].copy().select_dtypes(include=[float, int])\n",
    "    y_test = data['y_test']\n",
    "    \n",
    "    # Train and evaluate model for this industry\n",
    "    model, results_df = train_and_evaluate(X_train, y_train, X_test, y_test, industry)\n",
    "    industry_models[industry] = model\n",
    "    industry_results[industry] = results_df\n",
    "\n",
    "# 2. Train and evaluate the combined model\n",
    "print(\"\\nTraining combined model:\")\n",
    "\n",
    "# Ensure only numeric columns are in combined training and testing sets\n",
    "X_train_combined = X_train_combined.select_dtypes(include=[float, int])\n",
    "X_test_combined = X_test_combined.select_dtypes(include=[float, int])\n",
    "\n",
    "combined_model, combined_results_df = train_and_evaluate(X_train_combined, y_train_combined, X_test_combined, y_test_combined, \"Combined\")\n",
    "\n",
    "# Store the combined model and results separately for easy reference\n",
    "industry_models[\"Combined\"] = combined_model\n",
    "industry_results[\"Combined\"] = combined_results_df\n",
    "\n",
    "# Display results for each industry\n",
    "for industry, results_df in industry_results.items():\n",
    "    print(f\"\\nPredictions and Actuals for {industry}:\\n\", results_df)\n"
   ]
  }
 ],
 "metadata": {
  "kernelspec": {
   "display_name": ".venv",
   "language": "python",
   "name": "python3"
  },
  "language_info": {
   "codemirror_mode": {
    "name": "ipython",
    "version": 3
   },
   "file_extension": ".py",
   "mimetype": "text/x-python",
   "name": "python",
   "nbconvert_exporter": "python",
   "pygments_lexer": "ipython3",
   "version": "3.12.4"
  }
 },
 "nbformat": 4,
 "nbformat_minor": 2
}
