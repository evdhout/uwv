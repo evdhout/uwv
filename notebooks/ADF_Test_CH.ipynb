{
 "cells": [
  {
   "cell_type": "code",
   "execution_count": null,
   "metadata": {},
   "outputs": [],
   "source": [
    "import pandas as pd\n",
    "import numpy as np\n",
    "import matplotlib.pyplot as plt\n",
    "from statsmodels.tsa.holtwinters import ExponentialSmoothing\n",
    "from sklearn.metrics import mean_squared_error, mean_absolute_error"
   ]
  },
  {
   "cell_type": "code",
   "execution_count": null,
   "metadata": {},
   "outputs": [],
   "source": [
    "# Load the data\n",
    "from uwv.config import CBS80072NED, CBS_OPENDATA_PROCESSED_DATA_DIR, OUTPUT_DIR\n",
    "\n",
    "cbs = pd.read_parquet(CBS_OPENDATA_PROCESSED_DATA_DIR / f\"{CBS80072NED}.parquet\")"
   ]
  },
  {
   "cell_type": "code",
   "execution_count": null,
   "metadata": {},
   "outputs": [],
   "source": [
    "# Filter out rows where 'period_quarter_number' is 0\n",
    "cbs = cbs[cbs['period_quarter_number'] != 0]\n",
    "\n",
    "# Map quarters to months and create the 'date' column\n",
    "cbs['month'] = cbs['period_quarter_number'].map({1: 1, 2: 4, 3: 7, 4: 10})\n",
    "cbs['date'] = pd.to_datetime({'year': cbs['period_year'], 'month': cbs['month'], 'day': 1})\n",
    "\n",
    "# Set this new 'date' column as the index\n",
    "cbs.set_index('date', inplace=True)"
   ]
  },
  {
   "cell_type": "code",
   "execution_count": null,
   "metadata": {},
   "outputs": [],
   "source": [
    "# Filter data based on 'sbi_title'\n",
    "sbi_code = 'T001081'  # Example: A-U Alle economische activiteiten\n",
    "filtered_cbs = cbs[cbs['sbi'] == sbi_code]\n",
    "\n",
    "# Filter the data to include only dates from 2016 to 2023\n",
    "filtered_cbs = filtered_cbs.loc['2016-01-01':'2023-12-31']"
   ]
  },
  {
   "cell_type": "code",
   "execution_count": null,
   "metadata": {},
   "outputs": [],
   "source": [
    "# Plotting the sick_leave_percentage\n",
    "filtered_cbs['sick_leave_percentage'].plot(figsize=(12,8))\n",
    "plt.title('Sick Leave Percentage (2016-2023)')\n",
    "plt.show()"
   ]
  },
  {
   "cell_type": "code",
   "execution_count": null,
   "metadata": {},
   "outputs": [],
   "source": [
    "# Augmented Dickey-Fuller Test to check if the data is stationary\n",
    "from statsmodels.tsa.stattools import adfuller"
   ]
  },
  {
   "cell_type": "code",
   "execution_count": null,
   "metadata": {},
   "outputs": [],
   "source": [
    "def adf_test(series, title=''):\n",
    "    \"\"\"\n",
    "    Pass in a time series and an optional title, returns an ADF report\n",
    "    \"\"\"\n",
    "    print(f'Augmented Dickey-Fuller Test: {title}')\n",
    "    result = adfuller(series.dropna(), autolag='AIC')\n",
    "    \n",
    "    labels = ['ADF test statistic', 'p-value', '# lags used', '# observations']\n",
    "    out = pd.Series(result[0:4], index=labels)\n",
    "\n",
    "    for key, val in result[4].items():\n",
    "        out[f'critical value ({key})'] = val\n",
    "        \n",
    "    print(out.to_string())          # .to_string() removes the line \"dtype: float64\"\n",
    "    \n",
    "    if result[1] <= 0.05:\n",
    "        print(\"Strong evidence against the null hypothesis\")\n",
    "        print(\"Reject the null hypothesis\")\n",
    "        print(\"Data has no unit root and is stationary\")\n",
    "    else:\n",
    "        print(\"Weak evidence against the null hypothesis\")\n",
    "        print(\"Fail to reject the null hypothesis\")\n",
    "        print(\"Data has a unit root and is non-stationary\")"
   ]
  },
  {
   "cell_type": "code",
   "execution_count": null,
   "metadata": {},
   "outputs": [],
   "source": [
    "# Running ADF test on sick_leave_percentage\n",
    "adf_test(filtered_cbs['sick_leave_percentage'], title='Sick Leave Percentage')"
   ]
  },
  {
   "cell_type": "code",
   "execution_count": null,
   "metadata": {},
   "outputs": [],
   "source": [
    "# Granger Causality Test (if you have another series to compare with)\n",
    "# Demonstrating with a hypothetical second series 'sbi_code' from `filtered_cbs`\n",
    "# You should replace 'sbi_code' with the actual column name you'd like to test against"
   ]
  },
  {
   "cell_type": "code",
   "execution_count": null,
   "metadata": {},
   "outputs": [],
   "source": [
    "if 'sbi_code' in filtered_cbs.columns:\n",
    "    from statsmodels.tsa.stattools import grangercausalitytests\n",
    "    grangercausalitytests(filtered_cbs[['sick_leave_percentage', 'sbi_code']].dropna(), maxlag=3)"
   ]
  },
  {
   "cell_type": "code",
   "execution_count": null,
   "metadata": {},
   "outputs": [],
   "source": [
    "# Simulating and plotting a random series as was done in the original code\n",
    "np.random.seed(42)\n",
    "df_random = pd.DataFrame(np.random.randint(20, 30, (50, 2)), columns=['test', 'predictions'])\n",
    "df_random.plot(figsize=(12,8))\n",
    "plt.title('Simulated Test vs Predictions')\n",
    "plt.show()"
   ]
  },
  {
   "cell_type": "code",
   "execution_count": null,
   "metadata": {},
   "outputs": [],
   "source": [
    "# Calculating RMSE between test and predictions\n",
    "from statsmodels.tools.eval_measures import rmse"
   ]
  },
  {
   "cell_type": "code",
   "execution_count": null,
   "metadata": {},
   "outputs": [],
   "source": [
    "rmse_value = rmse(df_random['test'], df_random['predictions'])\n",
    "print(f'RMSE between test and predictions: {rmse_value}')"
   ]
  },
  {
   "cell_type": "code",
   "execution_count": null,
   "metadata": {},
   "outputs": [],
   "source": [
    "# Resampling sick_leave_percentage to quarterly and plotting\n",
    "from statsmodels.graphics.tsaplots import month_plot, quarter_plot"
   ]
  },
  {
   "cell_type": "code",
   "execution_count": null,
   "metadata": {},
   "outputs": [],
   "source": [
    "quarter_plot(filtered_cbs['sick_leave_percentage'].resample('QS').mean())\n",
    "plt.title('Quarterly Plot of Sick Leave Percentage')\n",
    "plt.show()"
   ]
  },
  {
   "cell_type": "code",
   "execution_count": null,
   "metadata": {},
   "outputs": [],
   "source": []
  }
 ],
 "metadata": {
  "kernelspec": {
   "display_name": ".venv",
   "language": "python",
   "name": "python3"
  },
  "language_info": {
   "codemirror_mode": {
    "name": "ipython",
    "version": 3
   },
   "file_extension": ".py",
   "mimetype": "text/x-python",
   "name": "python",
   "nbconvert_exporter": "python",
   "pygments_lexer": "ipython3",
   "version": "3.12.3"
  }
 },
 "nbformat": 4,
 "nbformat_minor": 2
}
