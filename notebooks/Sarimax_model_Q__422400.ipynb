{
 "cells": [
  {
   "cell_type": "code",
   "execution_count": null,
   "metadata": {},
   "outputs": [],
   "source": [
    "# 0. Imports and Configuration\n",
    "import pandas as pd\n",
    "import numpy as np\n",
    "from statsmodels.tsa.statespace.sarimax import SARIMAX\n",
    "from sklearn.metrics import mean_absolute_error\n",
    "from itertools import product\n",
    "from pmdarima import auto_arima\n",
    "from scipy.stats import boxcox\n",
    "import plotly.graph_objects as go\n",
    "from uwv.config import KNMI_PROCESSED_DATA_DIR, KNMI_AVG_TEMP, CBS_OPENDATA_PROCESSED_DATA_DIR, CBS80072NED"
   ]
  },
  {
   "cell_type": "code",
   "execution_count": null,
   "metadata": {},
   "outputs": [],
   "source": [
    "# 1. Load Data\n",
    "cbs = pd.read_parquet(CBS_OPENDATA_PROCESSED_DATA_DIR / f\"{CBS80072NED}.parquet\")\n",
    "knmi = pd.read_parquet(KNMI_PROCESSED_DATA_DIR / f\"{KNMI_AVG_TEMP}.parquet\")"
   ]
  },
  {
   "cell_type": "code",
   "execution_count": null,
   "metadata": {},
   "outputs": [],
   "source": [
    "# 2. Merge the datasets on 'period_year' and 'period_quarter_number'\n",
    "cbsk = pd.merge(cbs, knmi, on=['period_year', 'period_quarter_number'], how=\"inner\")"
   ]
  },
  {
   "cell_type": "code",
   "execution_count": null,
   "metadata": {},
   "outputs": [],
   "source": [
    "# 3. Data Preprocessing\n",
    "# Filter out invalid quarter values and set date index\n",
    "cbsk = cbsk[cbsk['period_quarter_number'] != 0]\n",
    "cbsk['month'] = cbsk['period_quarter_number'].map({1: 1, 2: 4, 3: 7, 4: 10})\n",
    "cbsk['date'] = pd.to_datetime({'year': cbsk['period_year'], 'month': cbsk['month'], 'day': 1})\n",
    "cbsk.set_index('date', inplace=True)"
   ]
  },
  {
   "cell_type": "code",
   "execution_count": null,
   "metadata": {},
   "outputs": [],
   "source": [
    "# 4. Filter by specific 'sbi' code and date range\n",
    "sbi_code = '422400'  # Example code\n",
    "filtered_cbs = cbsk[cbsk['sbi'] == sbi_code].loc['2008-01-01':'2024-12-31']\n",
    "filtered_cbs.index.freq = 'QS'\n",
    "filtered_cbs = filtered_cbs.dropna()  # Drop rows with any NaN values"
   ]
  },
  {
   "cell_type": "code",
   "execution_count": null,
   "metadata": {},
   "outputs": [],
   "source": [
    "# 5. Transformations (if needed)\n",
    "filtered_cbs['sick_leave_boxcox'], lambda_val = boxcox(filtered_cbs['sick_leave_percentage'] + 1)"
   ]
  },
  {
   "cell_type": "code",
   "execution_count": null,
   "metadata": {},
   "outputs": [],
   "source": [
    "# 6. Apply Rolling Average to 'avg_temp' for Q1 Only\n",
    "\n",
    "# Create a new column 'avg_temp_rolling_Q1_only' that applies a rolling average to Q1 data only\n",
    "filtered_cbs['avg_temp_rolling_Q1_only'] = np.where(\n",
    "    filtered_cbs.index.quarter == 1,\n",
    "    filtered_cbs['avg_temp'].rolling(window=4).mean(),  # Apply rolling average only for Q1\n",
    "    filtered_cbs['avg_temp']  # Keep original values for other quarters\n",
    ")\n",
    "\n",
    "# Fill any NaN values that may result from the rolling operation\n",
    "filtered_cbs['avg_temp_rolling_Q1_only'] = filtered_cbs['avg_temp_rolling_Q1_only'].bfill()\n"
   ]
  },
  {
   "cell_type": "code",
   "execution_count": null,
   "metadata": {},
   "outputs": [],
   "source": [
    "# 7. Define SARIMAX Model Selection Function\n",
    "def find_best_sarimax(train, exog_train, p_range, d_range, q_range, P_range, D_range, Q_range, m):\n",
    "    best_aic = float(\"inf\")\n",
    "    best_order, best_seasonal_order, best_model = None, None, None\n",
    "    for order in product(p_range, d_range, q_range):\n",
    "        for seasonal_order in product(P_range, D_range, Q_range):\n",
    "            try:\n",
    "                model = SARIMAX(train, order=order,\n",
    "                                seasonal_order=(seasonal_order[0], seasonal_order[1], seasonal_order[2], m),\n",
    "                                exog=exog_train, enforce_stationarity=False, enforce_invertibility=False)\n",
    "                results = model.fit(disp=False, maxiter=1000, method='powell')\n",
    "                if results.aic < best_aic:\n",
    "                    best_aic, best_order, best_seasonal_order, best_model = results.aic, order, seasonal_order, results\n",
    "            except Exception as e:\n",
    "                print(f\"Error with {order} and {seasonal_order}: {e}\")\n",
    "    return best_model, best_order, best_seasonal_order"
   ]
  },
  {
   "cell_type": "code",
   "execution_count": null,
   "metadata": {},
   "outputs": [],
   "source": [
    "# 8. Split Data for Training and Testing\n",
    "\n",
    "# Define training and testing datasets\n",
    "train = filtered_cbs.loc[:'2022-12-31', 'sick_leave_percentage']\n",
    "test = filtered_cbs.loc['2023-01-01':'2023-12-31', 'sick_leave_percentage']\n",
    "\n",
    "# Use the Q1-specific rolling average feature as the exogenous variable\n",
    "exog_train = filtered_cbs.loc[:'2022-12-31', ['avg_temp_rolling_Q1_only']]\n",
    "exog_test = filtered_cbs.loc['2023-01-01':'2023-12-31', ['avg_temp_rolling_Q1_only']]"
   ]
  },
  {
   "cell_type": "code",
   "execution_count": null,
   "metadata": {},
   "outputs": [],
   "source": [
    "# 9. Broad Parameter Search\n",
    "p_range, d_range, q_range = range(0, 2), [1, 2], range(0, 2)\n",
    "P_range, D_range, Q_range, m = range(0, 2), [1], range(0, 2), 4\n",
    "best_model, best_order, best_seasonal_order = find_best_sarimax(train, exog_train, p_range, d_range, q_range, P_range, D_range, Q_range, m)"
   ]
  },
  {
   "cell_type": "code",
   "execution_count": null,
   "metadata": {},
   "outputs": [],
   "source": [
    "# 10. Refine Parameter Search around Best Values\n",
    "p_range = range(max(0, best_order[0] - 1), best_order[0] + 2)\n",
    "q_range = range(max(0, best_order[2] - 1), best_order[2] + 2)\n",
    "P_range = range(max(0, best_seasonal_order[0] - 1), best_seasonal_order[0] + 2)\n",
    "Q_range = range(max(0, best_seasonal_order[2] - 1), best_seasonal_order[2] + 2)\n",
    "D_range = [best_seasonal_order[2]]\n",
    "\n",
    "final_model, _, _ = find_best_sarimax(train, exog_train, p_range, d_range, q_range, P_range, D_range, Q_range, m)"
   ]
  },
  {
   "cell_type": "code",
   "execution_count": null,
   "metadata": {},
   "outputs": [],
   "source": [
    "# 11. Make Predictions on Test Data\n",
    "start, end = len(train), len(train) + len(test) - 1\n",
    "predictions = final_model.predict(start=start, end=end, exog=exog_test).rename('SARIMAX Predictions')"
   ]
  },
  {
   "cell_type": "code",
   "execution_count": null,
   "metadata": {},
   "outputs": [],
   "source": [
    "# 12. Evaluate Predictions\n",
    "mae_all = mean_absolute_error(test, predictions)\n",
    "mae_q1 = mean_absolute_error(test.iloc[:1], predictions.iloc[:1])\n",
    "print(f'MAE for all quarters: {mae_all:.4f}, MAE for Q1: {mae_q1:.4f}')"
   ]
  },
  {
   "cell_type": "code",
   "execution_count": null,
   "metadata": {},
   "outputs": [],
   "source": [
    "# 13. Define forecast steps and period for plotting\n",
    "forecast_steps = 4  # Number of quarters to forecast\n",
    "forecast_period = pd.date_range(start='2024-01-01', periods=forecast_steps, freq='QS')\n",
    "\n",
    "# Generate forecast\n",
    "forecast = final_model.get_forecast(steps=forecast_steps, exog=exog_test.iloc[-forecast_steps:])"
   ]
  },
  {
   "cell_type": "code",
   "execution_count": null,
   "metadata": {},
   "outputs": [],
   "source": [
    "# 14. Visualization with Combined Plot for Test, Predictions, and Forecast\n",
    "fig = go.Figure()\n",
    "\n",
    "# Add actual sick leave percentage line (test data)\n",
    "fig.add_trace(go.Scatter(\n",
    "    x=test.index,\n",
    "    y=test,\n",
    "    mode='lines+markers',\n",
    "    name='Actual',\n",
    "    line=dict(color='#0078d2', width=2)\n",
    "))\n",
    "\n",
    "# Add predictions line for test period\n",
    "fig.add_trace(go.Scatter(\n",
    "    x=test.index,\n",
    "    y=predictions,\n",
    "    mode='lines+markers',\n",
    "    name='Predictions',\n",
    "    line=dict(color='orange', width=2, dash='dash')\n",
    "))\n",
    "\n",
    "# Add forecast line for future period\n",
    "fig.add_trace(go.Scatter(\n",
    "    x=forecast_period,\n",
    "    y=forecast.predicted_mean,\n",
    "    mode='lines+markers',\n",
    "    name='Forecast',\n",
    "    line=dict(color='green', width=2, dash='dot')\n",
    "))\n",
    "\n",
    "# Add MAE values as text annotations\n",
    "fig.add_annotation(\n",
    "    xref=\"paper\", yref=\"paper\", x=0.00, y=1.15, showarrow=False,\n",
    "    text=f\"MAE for all four quarters: {mae_all:.4f}\",\n",
    "    font=dict(size=12, color=\"black\")\n",
    ")\n",
    "\n",
    "fig.add_annotation(\n",
    "    xref=\"paper\", yref=\"paper\", x=0.00, y=1.20, showarrow=False,\n",
    "    text=f\"MAE for next quarter (Q1): {mae_q1:.4f}\",\n",
    "    font=dict(size=12, color=\"black\")\n",
    ")\n",
    "\n",
    "# Set layout and design for better visualization\n",
    "fig.update_layout(\n",
    "    title='Sick Leave Percentage - Test, Predictions, and Forecast for Q Healthcare and Social Work',\n",
    "    xaxis_title='Date',\n",
    "    yaxis_title='Sick Leave Percentage',\n",
    "    plot_bgcolor='white',\n",
    "    xaxis=dict(\n",
    "        showgrid=False,\n",
    "        tickformat=\"%Y-%m\",  # Year-Month format for clearer date labeling\n",
    "        range=[test.index.min(), forecast_period[-1]]  # Extend date range to end of forecast\n",
    "    ),\n",
    "    yaxis=dict(\n",
    "        showgrid=True, gridcolor='lightgrey', showline=True, linewidth=0.5, linecolor='black'\n",
    "    ),\n",
    "    legend=dict(\n",
    "        x=0.91, y=1.5, traceorder=\"normal\"\n",
    "    ),\n",
    "    font=dict(family=\"Roboto\", size=14),\n",
    "    margin=dict(l=50, r=50, t=80, b=50),\n",
    "    width=1100, height=500\n",
    ")\n",
    "\n",
    "# Show Plot\n",
    "fig.show()\n",
    "\n",
    "# Optionally Save Plot\n",
    "fig.write_image(\"Sick_leave_predict_sarimax23_5.jpeg\")\n",
    "fig.write_html(\"Sick_leave_predict_sarimax23_5.html\")\n"
   ]
  }
 ],
 "metadata": {
  "kernelspec": {
   "display_name": ".venv",
   "language": "python",
   "name": "python3"
  },
  "language_info": {
   "codemirror_mode": {
    "name": "ipython",
    "version": 3
   },
   "file_extension": ".py",
   "mimetype": "text/x-python",
   "name": "python",
   "nbconvert_exporter": "python",
   "pygments_lexer": "ipython3",
   "version": "3.12.3"
  }
 },
 "nbformat": 4,
 "nbformat_minor": 2
}
