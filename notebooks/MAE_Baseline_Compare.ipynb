{
 "cells": [
  {
   "cell_type": "code",
   "execution_count": 2,
   "metadata": {},
   "outputs": [
    {
     "data": {
      "application/vnd.plotly.v1+json": {
       "config": {
        "plotlyServerURL": "https://plot.ly"
       },
       "data": [
        {
         "marker": {
          "color": "#fe9001"
         },
         "name": "Q Healthcare Baseline (2022)",
         "orientation": "h",
         "text": [
          "0.53"
         ],
         "textposition": "inside",
         "type": "bar",
         "x": [
          0.5333
         ],
         "y": [
          "Q Healthcare Q4"
         ]
        },
        {
         "marker": {
          "color": "#006789"
         },
         "name": "Q Healthcare SARIMAX (2022)",
         "orientation": "h",
         "text": [
          "0.14"
         ],
         "textposition": "inside",
         "type": "bar",
         "x": [
          0.1437
         ],
         "y": [
          "Q Healthcare Q4"
         ]
        },
        {
         "marker": {
          "color": "#fe9001"
         },
         "orientation": "h",
         "showlegend": false,
         "text": [
          "0.48"
         ],
         "textposition": "inside",
         "type": "bar",
         "x": [
          0.4791
         ],
         "y": [
          "Q Healthcare Q3"
         ]
        },
        {
         "marker": {
          "color": "#006789"
         },
         "orientation": "h",
         "showlegend": false,
         "text": [
          "0.06"
         ],
         "textposition": "inside",
         "type": "bar",
         "x": [
          0.056
         ],
         "y": [
          "Q Healthcare Q3"
         ]
        },
        {
         "marker": {
          "color": "#fe9001"
         },
         "orientation": "h",
         "showlegend": false,
         "text": [
          "0.47"
         ],
         "textposition": "inside",
         "type": "bar",
         "x": [
          0.4666
         ],
         "y": [
          "Q Healthcare Q2"
         ]
        },
        {
         "marker": {
          "color": "#006789"
         },
         "orientation": "h",
         "showlegend": false,
         "text": [
          "0.35"
         ],
         "textposition": "inside",
         "type": "bar",
         "x": [
          0.3499
         ],
         "y": [
          "Q Healthcare Q2"
         ]
        },
        {
         "marker": {
          "color": "#fe9001"
         },
         "orientation": "h",
         "showlegend": false,
         "text": [
          "0.50"
         ],
         "textposition": "inside",
         "type": "bar",
         "x": [
          0.5041
         ],
         "y": [
          "Q Healthcare Q1"
         ]
        },
        {
         "marker": {
          "color": "#006789"
         },
         "orientation": "h",
         "showlegend": false,
         "text": [
          "0.13"
         ],
         "textposition": "inside",
         "type": "bar",
         "x": [
          0.1339
         ],
         "y": [
          "Q Healthcare Q1"
         ]
        },
        {
         "marker": {
          "color": "#deaa00"
         },
         "name": "G Trade Baseline (2022)",
         "orientation": "h",
         "text": [
          "0.35"
         ],
         "textposition": "inside",
         "type": "bar",
         "x": [
          0.35
         ],
         "y": [
          "G Trade Q4"
         ]
        },
        {
         "marker": {
          "color": "#3f9abf"
         },
         "name": "G Trade SARIMAX (2022)",
         "orientation": "h",
         "text": [
          "0.25"
         ],
         "textposition": "inside",
         "type": "bar",
         "x": [
          0.246
         ],
         "y": [
          "G Trade Q4"
         ]
        },
        {
         "marker": {
          "color": "#deaa00"
         },
         "orientation": "h",
         "showlegend": false,
         "text": [
          "0.37"
         ],
         "textposition": "inside",
         "type": "bar",
         "x": [
          0.3708
         ],
         "y": [
          "G Trade Q3"
         ]
        },
        {
         "marker": {
          "color": "#3f9abf"
         },
         "orientation": "h",
         "showlegend": false,
         "text": [
          "0.19"
         ],
         "textposition": "inside",
         "type": "bar",
         "x": [
          0.1905
         ],
         "y": [
          "G Trade Q3"
         ]
        },
        {
         "marker": {
          "color": "#deaa00"
         },
         "orientation": "h",
         "showlegend": false,
         "text": [
          "0.38"
         ],
         "textposition": "inside",
         "type": "bar",
         "x": [
          0.3833
         ],
         "y": [
          "G Trade Q2"
         ]
        },
        {
         "marker": {
          "color": "#3f9abf"
         },
         "orientation": "h",
         "showlegend": false,
         "text": [
          "0.20"
         ],
         "textposition": "inside",
         "type": "bar",
         "x": [
          0.1983
         ],
         "y": [
          "G Trade Q2"
         ]
        },
        {
         "marker": {
          "color": "#deaa00"
         },
         "orientation": "h",
         "showlegend": false,
         "text": [
          "0.40"
         ],
         "textposition": "inside",
         "type": "bar",
         "x": [
          0.3958
         ],
         "y": [
          "G Trade Q1"
         ]
        },
        {
         "marker": {
          "color": "#3f9abf"
         },
         "orientation": "h",
         "showlegend": false,
         "text": [
          "0.05"
         ],
         "textposition": "inside",
         "type": "bar",
         "x": [
          0.0502
         ],
         "y": [
          "G Trade Q1"
         ]
        },
        {
         "marker": {
          "color": "#febf01"
         },
         "name": "C Manufacturing Baseline (2022)",
         "orientation": "h",
         "text": [
          "0.33"
         ],
         "textposition": "inside",
         "type": "bar",
         "x": [
          0.3333
         ],
         "y": [
          "C Manufacturing Q4"
         ]
        },
        {
         "marker": {
          "color": "#5fb5db"
         },
         "name": "C Manufacturing SARIMAX (2022)",
         "orientation": "h",
         "text": [
          "0.12"
         ],
         "textposition": "inside",
         "type": "bar",
         "x": [
          0.1171
         ],
         "y": [
          "C Manufacturing Q4"
         ]
        },
        {
         "marker": {
          "color": "#febf01"
         },
         "orientation": "h",
         "showlegend": false,
         "text": [
          "0.37"
         ],
         "textposition": "inside",
         "type": "bar",
         "x": [
          0.3666
         ],
         "y": [
          "C Manufacturing Q3"
         ]
        },
        {
         "marker": {
          "color": "#5fb5db"
         },
         "orientation": "h",
         "showlegend": false,
         "text": [
          "0.06"
         ],
         "textposition": "inside",
         "type": "bar",
         "x": [
          0.0604
         ],
         "y": [
          "C Manufacturing Q3"
         ]
        },
        {
         "marker": {
          "color": "#febf01"
         },
         "orientation": "h",
         "showlegend": false,
         "text": [
          "0.36"
         ],
         "textposition": "inside",
         "type": "bar",
         "x": [
          0.3583
         ],
         "y": [
          "C Manufacturing Q2"
         ]
        },
        {
         "marker": {
          "color": "#5fb5db"
         },
         "orientation": "h",
         "showlegend": false,
         "text": [
          "0.06"
         ],
         "textposition": "inside",
         "type": "bar",
         "x": [
          0.0556
         ],
         "y": [
          "C Manufacturing Q2"
         ]
        },
        {
         "marker": {
          "color": "#febf01"
         },
         "orientation": "h",
         "showlegend": false,
         "text": [
          "0.39"
         ],
         "textposition": "inside",
         "type": "bar",
         "x": [
          0.3916
         ],
         "y": [
          "C Manufacturing Q1"
         ]
        },
        {
         "marker": {
          "color": "#5fb5db"
         },
         "orientation": "h",
         "showlegend": false,
         "text": [
          "0.13"
         ],
         "textposition": "inside",
         "type": "bar",
         "x": [
          0.1346
         ],
         "y": [
          "C Manufacturing Q1"
         ]
        }
       ],
       "layout": {
        "barmode": "stack",
        "legend": {
         "title": {
          "text": "Model"
         }
        },
        "template": {
         "data": {
          "bar": [
           {
            "error_x": {
             "color": "#2a3f5f"
            },
            "error_y": {
             "color": "#2a3f5f"
            },
            "marker": {
             "line": {
              "color": "white",
              "width": 0.5
             },
             "pattern": {
              "fillmode": "overlay",
              "size": 10,
              "solidity": 0.2
             }
            },
            "type": "bar"
           }
          ],
          "barpolar": [
           {
            "marker": {
             "line": {
              "color": "white",
              "width": 0.5
             },
             "pattern": {
              "fillmode": "overlay",
              "size": 10,
              "solidity": 0.2
             }
            },
            "type": "barpolar"
           }
          ],
          "carpet": [
           {
            "aaxis": {
             "endlinecolor": "#2a3f5f",
             "gridcolor": "#C8D4E3",
             "linecolor": "#C8D4E3",
             "minorgridcolor": "#C8D4E3",
             "startlinecolor": "#2a3f5f"
            },
            "baxis": {
             "endlinecolor": "#2a3f5f",
             "gridcolor": "#C8D4E3",
             "linecolor": "#C8D4E3",
             "minorgridcolor": "#C8D4E3",
             "startlinecolor": "#2a3f5f"
            },
            "type": "carpet"
           }
          ],
          "choropleth": [
           {
            "colorbar": {
             "outlinewidth": 0,
             "ticks": ""
            },
            "type": "choropleth"
           }
          ],
          "contour": [
           {
            "colorbar": {
             "outlinewidth": 0,
             "ticks": ""
            },
            "colorscale": [
             [
              0,
              "#0d0887"
             ],
             [
              0.1111111111111111,
              "#46039f"
             ],
             [
              0.2222222222222222,
              "#7201a8"
             ],
             [
              0.3333333333333333,
              "#9c179e"
             ],
             [
              0.4444444444444444,
              "#bd3786"
             ],
             [
              0.5555555555555556,
              "#d8576b"
             ],
             [
              0.6666666666666666,
              "#ed7953"
             ],
             [
              0.7777777777777778,
              "#fb9f3a"
             ],
             [
              0.8888888888888888,
              "#fdca26"
             ],
             [
              1,
              "#f0f921"
             ]
            ],
            "type": "contour"
           }
          ],
          "contourcarpet": [
           {
            "colorbar": {
             "outlinewidth": 0,
             "ticks": ""
            },
            "type": "contourcarpet"
           }
          ],
          "heatmap": [
           {
            "colorbar": {
             "outlinewidth": 0,
             "ticks": ""
            },
            "colorscale": [
             [
              0,
              "#0d0887"
             ],
             [
              0.1111111111111111,
              "#46039f"
             ],
             [
              0.2222222222222222,
              "#7201a8"
             ],
             [
              0.3333333333333333,
              "#9c179e"
             ],
             [
              0.4444444444444444,
              "#bd3786"
             ],
             [
              0.5555555555555556,
              "#d8576b"
             ],
             [
              0.6666666666666666,
              "#ed7953"
             ],
             [
              0.7777777777777778,
              "#fb9f3a"
             ],
             [
              0.8888888888888888,
              "#fdca26"
             ],
             [
              1,
              "#f0f921"
             ]
            ],
            "type": "heatmap"
           }
          ],
          "heatmapgl": [
           {
            "colorbar": {
             "outlinewidth": 0,
             "ticks": ""
            },
            "colorscale": [
             [
              0,
              "#0d0887"
             ],
             [
              0.1111111111111111,
              "#46039f"
             ],
             [
              0.2222222222222222,
              "#7201a8"
             ],
             [
              0.3333333333333333,
              "#9c179e"
             ],
             [
              0.4444444444444444,
              "#bd3786"
             ],
             [
              0.5555555555555556,
              "#d8576b"
             ],
             [
              0.6666666666666666,
              "#ed7953"
             ],
             [
              0.7777777777777778,
              "#fb9f3a"
             ],
             [
              0.8888888888888888,
              "#fdca26"
             ],
             [
              1,
              "#f0f921"
             ]
            ],
            "type": "heatmapgl"
           }
          ],
          "histogram": [
           {
            "marker": {
             "pattern": {
              "fillmode": "overlay",
              "size": 10,
              "solidity": 0.2
             }
            },
            "type": "histogram"
           }
          ],
          "histogram2d": [
           {
            "colorbar": {
             "outlinewidth": 0,
             "ticks": ""
            },
            "colorscale": [
             [
              0,
              "#0d0887"
             ],
             [
              0.1111111111111111,
              "#46039f"
             ],
             [
              0.2222222222222222,
              "#7201a8"
             ],
             [
              0.3333333333333333,
              "#9c179e"
             ],
             [
              0.4444444444444444,
              "#bd3786"
             ],
             [
              0.5555555555555556,
              "#d8576b"
             ],
             [
              0.6666666666666666,
              "#ed7953"
             ],
             [
              0.7777777777777778,
              "#fb9f3a"
             ],
             [
              0.8888888888888888,
              "#fdca26"
             ],
             [
              1,
              "#f0f921"
             ]
            ],
            "type": "histogram2d"
           }
          ],
          "histogram2dcontour": [
           {
            "colorbar": {
             "outlinewidth": 0,
             "ticks": ""
            },
            "colorscale": [
             [
              0,
              "#0d0887"
             ],
             [
              0.1111111111111111,
              "#46039f"
             ],
             [
              0.2222222222222222,
              "#7201a8"
             ],
             [
              0.3333333333333333,
              "#9c179e"
             ],
             [
              0.4444444444444444,
              "#bd3786"
             ],
             [
              0.5555555555555556,
              "#d8576b"
             ],
             [
              0.6666666666666666,
              "#ed7953"
             ],
             [
              0.7777777777777778,
              "#fb9f3a"
             ],
             [
              0.8888888888888888,
              "#fdca26"
             ],
             [
              1,
              "#f0f921"
             ]
            ],
            "type": "histogram2dcontour"
           }
          ],
          "mesh3d": [
           {
            "colorbar": {
             "outlinewidth": 0,
             "ticks": ""
            },
            "type": "mesh3d"
           }
          ],
          "parcoords": [
           {
            "line": {
             "colorbar": {
              "outlinewidth": 0,
              "ticks": ""
             }
            },
            "type": "parcoords"
           }
          ],
          "pie": [
           {
            "automargin": true,
            "type": "pie"
           }
          ],
          "scatter": [
           {
            "fillpattern": {
             "fillmode": "overlay",
             "size": 10,
             "solidity": 0.2
            },
            "type": "scatter"
           }
          ],
          "scatter3d": [
           {
            "line": {
             "colorbar": {
              "outlinewidth": 0,
              "ticks": ""
             }
            },
            "marker": {
             "colorbar": {
              "outlinewidth": 0,
              "ticks": ""
             }
            },
            "type": "scatter3d"
           }
          ],
          "scattercarpet": [
           {
            "marker": {
             "colorbar": {
              "outlinewidth": 0,
              "ticks": ""
             }
            },
            "type": "scattercarpet"
           }
          ],
          "scattergeo": [
           {
            "marker": {
             "colorbar": {
              "outlinewidth": 0,
              "ticks": ""
             }
            },
            "type": "scattergeo"
           }
          ],
          "scattergl": [
           {
            "marker": {
             "colorbar": {
              "outlinewidth": 0,
              "ticks": ""
             }
            },
            "type": "scattergl"
           }
          ],
          "scattermapbox": [
           {
            "marker": {
             "colorbar": {
              "outlinewidth": 0,
              "ticks": ""
             }
            },
            "type": "scattermapbox"
           }
          ],
          "scatterpolar": [
           {
            "marker": {
             "colorbar": {
              "outlinewidth": 0,
              "ticks": ""
             }
            },
            "type": "scatterpolar"
           }
          ],
          "scatterpolargl": [
           {
            "marker": {
             "colorbar": {
              "outlinewidth": 0,
              "ticks": ""
             }
            },
            "type": "scatterpolargl"
           }
          ],
          "scatterternary": [
           {
            "marker": {
             "colorbar": {
              "outlinewidth": 0,
              "ticks": ""
             }
            },
            "type": "scatterternary"
           }
          ],
          "surface": [
           {
            "colorbar": {
             "outlinewidth": 0,
             "ticks": ""
            },
            "colorscale": [
             [
              0,
              "#0d0887"
             ],
             [
              0.1111111111111111,
              "#46039f"
             ],
             [
              0.2222222222222222,
              "#7201a8"
             ],
             [
              0.3333333333333333,
              "#9c179e"
             ],
             [
              0.4444444444444444,
              "#bd3786"
             ],
             [
              0.5555555555555556,
              "#d8576b"
             ],
             [
              0.6666666666666666,
              "#ed7953"
             ],
             [
              0.7777777777777778,
              "#fb9f3a"
             ],
             [
              0.8888888888888888,
              "#fdca26"
             ],
             [
              1,
              "#f0f921"
             ]
            ],
            "type": "surface"
           }
          ],
          "table": [
           {
            "cells": {
             "fill": {
              "color": "#EBF0F8"
             },
             "line": {
              "color": "white"
             }
            },
            "header": {
             "fill": {
              "color": "#C8D4E3"
             },
             "line": {
              "color": "white"
             }
            },
            "type": "table"
           }
          ]
         },
         "layout": {
          "annotationdefaults": {
           "arrowcolor": "#2a3f5f",
           "arrowhead": 0,
           "arrowwidth": 1
          },
          "autotypenumbers": "strict",
          "coloraxis": {
           "colorbar": {
            "outlinewidth": 0,
            "ticks": ""
           }
          },
          "colorscale": {
           "diverging": [
            [
             0,
             "#8e0152"
            ],
            [
             0.1,
             "#c51b7d"
            ],
            [
             0.2,
             "#de77ae"
            ],
            [
             0.3,
             "#f1b6da"
            ],
            [
             0.4,
             "#fde0ef"
            ],
            [
             0.5,
             "#f7f7f7"
            ],
            [
             0.6,
             "#e6f5d0"
            ],
            [
             0.7,
             "#b8e186"
            ],
            [
             0.8,
             "#7fbc41"
            ],
            [
             0.9,
             "#4d9221"
            ],
            [
             1,
             "#276419"
            ]
           ],
           "sequential": [
            [
             0,
             "#0d0887"
            ],
            [
             0.1111111111111111,
             "#46039f"
            ],
            [
             0.2222222222222222,
             "#7201a8"
            ],
            [
             0.3333333333333333,
             "#9c179e"
            ],
            [
             0.4444444444444444,
             "#bd3786"
            ],
            [
             0.5555555555555556,
             "#d8576b"
            ],
            [
             0.6666666666666666,
             "#ed7953"
            ],
            [
             0.7777777777777778,
             "#fb9f3a"
            ],
            [
             0.8888888888888888,
             "#fdca26"
            ],
            [
             1,
             "#f0f921"
            ]
           ],
           "sequentialminus": [
            [
             0,
             "#0d0887"
            ],
            [
             0.1111111111111111,
             "#46039f"
            ],
            [
             0.2222222222222222,
             "#7201a8"
            ],
            [
             0.3333333333333333,
             "#9c179e"
            ],
            [
             0.4444444444444444,
             "#bd3786"
            ],
            [
             0.5555555555555556,
             "#d8576b"
            ],
            [
             0.6666666666666666,
             "#ed7953"
            ],
            [
             0.7777777777777778,
             "#fb9f3a"
            ],
            [
             0.8888888888888888,
             "#fdca26"
            ],
            [
             1,
             "#f0f921"
            ]
           ]
          },
          "colorway": [
           "#636efa",
           "#EF553B",
           "#00cc96",
           "#ab63fa",
           "#FFA15A",
           "#19d3f3",
           "#FF6692",
           "#B6E880",
           "#FF97FF",
           "#FECB52"
          ],
          "font": {
           "color": "#2a3f5f"
          },
          "geo": {
           "bgcolor": "white",
           "lakecolor": "white",
           "landcolor": "white",
           "showlakes": true,
           "showland": true,
           "subunitcolor": "#C8D4E3"
          },
          "hoverlabel": {
           "align": "left"
          },
          "hovermode": "closest",
          "mapbox": {
           "style": "light"
          },
          "paper_bgcolor": "white",
          "plot_bgcolor": "white",
          "polar": {
           "angularaxis": {
            "gridcolor": "#EBF0F8",
            "linecolor": "#EBF0F8",
            "ticks": ""
           },
           "bgcolor": "white",
           "radialaxis": {
            "gridcolor": "#EBF0F8",
            "linecolor": "#EBF0F8",
            "ticks": ""
           }
          },
          "scene": {
           "xaxis": {
            "backgroundcolor": "white",
            "gridcolor": "#DFE8F3",
            "gridwidth": 2,
            "linecolor": "#EBF0F8",
            "showbackground": true,
            "ticks": "",
            "zerolinecolor": "#EBF0F8"
           },
           "yaxis": {
            "backgroundcolor": "white",
            "gridcolor": "#DFE8F3",
            "gridwidth": 2,
            "linecolor": "#EBF0F8",
            "showbackground": true,
            "ticks": "",
            "zerolinecolor": "#EBF0F8"
           },
           "zaxis": {
            "backgroundcolor": "white",
            "gridcolor": "#DFE8F3",
            "gridwidth": 2,
            "linecolor": "#EBF0F8",
            "showbackground": true,
            "ticks": "",
            "zerolinecolor": "#EBF0F8"
           }
          },
          "shapedefaults": {
           "line": {
            "color": "#2a3f5f"
           }
          },
          "ternary": {
           "aaxis": {
            "gridcolor": "#DFE8F3",
            "linecolor": "#A2B1C6",
            "ticks": ""
           },
           "baxis": {
            "gridcolor": "#DFE8F3",
            "linecolor": "#A2B1C6",
            "ticks": ""
           },
           "bgcolor": "white",
           "caxis": {
            "gridcolor": "#DFE8F3",
            "linecolor": "#A2B1C6",
            "ticks": ""
           }
          },
          "title": {
           "x": 0.05
          },
          "xaxis": {
           "automargin": true,
           "gridcolor": "#EBF0F8",
           "linecolor": "#EBF0F8",
           "ticks": "",
           "title": {
            "standoff": 15
           },
           "zerolinecolor": "#EBF0F8",
           "zerolinewidth": 2
          },
          "yaxis": {
           "automargin": true,
           "gridcolor": "#EBF0F8",
           "linecolor": "#EBF0F8",
           "ticks": "",
           "title": {
            "standoff": 15
           },
           "zerolinecolor": "#EBF0F8",
           "zerolinewidth": 2
          }
         }
        },
        "title": {
         "text": "MAE Stacked Insights: Baseline vs SARIMAX Performance Across Quarters (2022)"
        },
        "xaxis": {
         "showticklabels": false,
         "title": {}
        },
        "yaxis": {
         "categoryarray": [
          "Q Healthcare Q4",
          "Q Healthcare Q3",
          "Q Healthcare Q2",
          "Q Healthcare Q1",
          "G Trade Q4",
          "G Trade Q3",
          "G Trade Q2",
          "G Trade Q1",
          "C Manufacturing Q4",
          "C Manufacturing Q3",
          "C Manufacturing Q2",
          "C Manufacturing Q1"
         ],
         "categoryorder": "array",
         "title": {
          "text": "Branch and Quarter"
         }
        }
       }
      }
     },
     "metadata": {},
     "output_type": "display_data"
    },
    {
     "data": {
      "application/vnd.plotly.v1+json": {
       "config": {
        "plotlyServerURL": "https://plot.ly"
       },
       "data": [
        {
         "marker": {
          "color": "#fe9001"
         },
         "name": "Q Healthcare Baseline (2023)",
         "orientation": "h",
         "text": [
          "0.53"
         ],
         "textposition": "inside",
         "type": "bar",
         "x": [
          0.5333
         ],
         "y": [
          "Q Healthcare Q4"
         ]
        },
        {
         "marker": {
          "color": "#006789"
         },
         "name": "Q Healthcare SARIMAX (2023)",
         "orientation": "h",
         "text": [
          "0.21"
         ],
         "textposition": "inside",
         "type": "bar",
         "x": [
          0.2073
         ],
         "y": [
          "Q Healthcare Q4"
         ]
        },
        {
         "marker": {
          "color": "#fe9001"
         },
         "orientation": "h",
         "showlegend": false,
         "text": [
          "0.48"
         ],
         "textposition": "inside",
         "type": "bar",
         "x": [
          0.4791
         ],
         "y": [
          "Q Healthcare Q3"
         ]
        },
        {
         "marker": {
          "color": "#006789"
         },
         "orientation": "h",
         "showlegend": false,
         "text": [
          "0.46"
         ],
         "textposition": "inside",
         "type": "bar",
         "x": [
          0.4584
         ],
         "y": [
          "Q Healthcare Q3"
         ]
        },
        {
         "marker": {
          "color": "#fe9001"
         },
         "orientation": "h",
         "showlegend": false,
         "text": [
          "0.47"
         ],
         "textposition": "inside",
         "type": "bar",
         "x": [
          0.4666
         ],
         "y": [
          "Q Healthcare Q2"
         ]
        },
        {
         "marker": {
          "color": "#006789"
         },
         "orientation": "h",
         "showlegend": false,
         "text": [
          "0.56"
         ],
         "textposition": "inside",
         "type": "bar",
         "x": [
          0.562
         ],
         "y": [
          "Q Healthcare Q2"
         ]
        },
        {
         "marker": {
          "color": "#fe9001"
         },
         "orientation": "h",
         "showlegend": false,
         "text": [
          "0.50"
         ],
         "textposition": "inside",
         "type": "bar",
         "x": [
          0.5041
         ],
         "y": [
          "Q Healthcare Q1"
         ]
        },
        {
         "marker": {
          "color": "#006789"
         },
         "orientation": "h",
         "showlegend": false,
         "text": [
          "0.05"
         ],
         "textposition": "inside",
         "type": "bar",
         "x": [
          0.0452
         ],
         "y": [
          "Q Healthcare Q1"
         ]
        },
        {
         "marker": {
          "color": "#deaa00"
         },
         "name": "G Trade Baseline (2023)",
         "orientation": "h",
         "text": [
          "0.35"
         ],
         "textposition": "inside",
         "type": "bar",
         "x": [
          0.35
         ],
         "y": [
          "G Trade Q4"
         ]
        },
        {
         "marker": {
          "color": "#3f9abf"
         },
         "name": "G Trade SARIMAX (2023)",
         "orientation": "h",
         "text": [
          "0.17"
         ],
         "textposition": "inside",
         "type": "bar",
         "x": [
          0.1743
         ],
         "y": [
          "G Trade Q4"
         ]
        },
        {
         "marker": {
          "color": "#deaa00"
         },
         "orientation": "h",
         "showlegend": false,
         "text": [
          "0.37"
         ],
         "textposition": "inside",
         "type": "bar",
         "x": [
          0.3708
         ],
         "y": [
          "G Trade Q3"
         ]
        },
        {
         "marker": {
          "color": "#3f9abf"
         },
         "orientation": "h",
         "showlegend": false,
         "text": [
          "0.35"
         ],
         "textposition": "inside",
         "type": "bar",
         "x": [
          0.348
         ],
         "y": [
          "G Trade Q3"
         ]
        },
        {
         "marker": {
          "color": "#deaa00"
         },
         "orientation": "h",
         "showlegend": false,
         "text": [
          "0.38"
         ],
         "textposition": "inside",
         "type": "bar",
         "x": [
          0.3833
         ],
         "y": [
          "G Trade Q2"
         ]
        },
        {
         "marker": {
          "color": "#3f9abf"
         },
         "orientation": "h",
         "showlegend": false,
         "text": [
          "0.30"
         ],
         "textposition": "inside",
         "type": "bar",
         "x": [
          0.2968
         ],
         "y": [
          "G Trade Q2"
         ]
        },
        {
         "marker": {
          "color": "#deaa00"
         },
         "orientation": "h",
         "showlegend": false,
         "text": [
          "0.40"
         ],
         "textposition": "inside",
         "type": "bar",
         "x": [
          0.3958
         ],
         "y": [
          "G Trade Q1"
         ]
        },
        {
         "marker": {
          "color": "#3f9abf"
         },
         "orientation": "h",
         "showlegend": false,
         "text": [
          "0.02"
         ],
         "textposition": "inside",
         "type": "bar",
         "x": [
          0.0219
         ],
         "y": [
          "G Trade Q1"
         ]
        },
        {
         "marker": {
          "color": "#febf01"
         },
         "name": "C Manufacturing Baseline (2023)",
         "orientation": "h",
         "text": [
          "0.33"
         ],
         "textposition": "inside",
         "type": "bar",
         "x": [
          0.3333
         ],
         "y": [
          "C Manufacturing Q4"
         ]
        },
        {
         "marker": {
          "color": "#5fb5db"
         },
         "name": "C Manufacturing SARIMAX (2023)",
         "orientation": "h",
         "text": [
          "0.03"
         ],
         "textposition": "inside",
         "type": "bar",
         "x": [
          0.0337
         ],
         "y": [
          "C Manufacturing Q4"
         ]
        },
        {
         "marker": {
          "color": "#febf01"
         },
         "orientation": "h",
         "showlegend": false,
         "text": [
          "0.37"
         ],
         "textposition": "inside",
         "type": "bar",
         "x": [
          0.3666
         ],
         "y": [
          "C Manufacturing Q3"
         ]
        },
        {
         "marker": {
          "color": "#5fb5db"
         },
         "orientation": "h",
         "showlegend": false,
         "text": [
          "0.11"
         ],
         "textposition": "inside",
         "type": "bar",
         "x": [
          0.1085
         ],
         "y": [
          "C Manufacturing Q3"
         ]
        },
        {
         "marker": {
          "color": "#febf01"
         },
         "orientation": "h",
         "showlegend": false,
         "text": [
          "0.36"
         ],
         "textposition": "inside",
         "type": "bar",
         "x": [
          0.3583
         ],
         "y": [
          "C Manufacturing Q2"
         ]
        },
        {
         "marker": {
          "color": "#5fb5db"
         },
         "orientation": "h",
         "showlegend": false,
         "text": [
          "0.14"
         ],
         "textposition": "inside",
         "type": "bar",
         "x": [
          0.1417
         ],
         "y": [
          "C Manufacturing Q2"
         ]
        },
        {
         "marker": {
          "color": "#febf01"
         },
         "orientation": "h",
         "showlegend": false,
         "text": [
          "0.39"
         ],
         "textposition": "inside",
         "type": "bar",
         "x": [
          0.3916
         ],
         "y": [
          "C Manufacturing Q1"
         ]
        },
        {
         "marker": {
          "color": "#5fb5db"
         },
         "orientation": "h",
         "showlegend": false,
         "text": [
          "0.16"
         ],
         "textposition": "inside",
         "type": "bar",
         "x": [
          0.1555
         ],
         "y": [
          "C Manufacturing Q1"
         ]
        }
       ],
       "layout": {
        "barmode": "stack",
        "legend": {
         "title": {
          "text": "Model"
         }
        },
        "template": {
         "data": {
          "bar": [
           {
            "error_x": {
             "color": "#2a3f5f"
            },
            "error_y": {
             "color": "#2a3f5f"
            },
            "marker": {
             "line": {
              "color": "white",
              "width": 0.5
             },
             "pattern": {
              "fillmode": "overlay",
              "size": 10,
              "solidity": 0.2
             }
            },
            "type": "bar"
           }
          ],
          "barpolar": [
           {
            "marker": {
             "line": {
              "color": "white",
              "width": 0.5
             },
             "pattern": {
              "fillmode": "overlay",
              "size": 10,
              "solidity": 0.2
             }
            },
            "type": "barpolar"
           }
          ],
          "carpet": [
           {
            "aaxis": {
             "endlinecolor": "#2a3f5f",
             "gridcolor": "#C8D4E3",
             "linecolor": "#C8D4E3",
             "minorgridcolor": "#C8D4E3",
             "startlinecolor": "#2a3f5f"
            },
            "baxis": {
             "endlinecolor": "#2a3f5f",
             "gridcolor": "#C8D4E3",
             "linecolor": "#C8D4E3",
             "minorgridcolor": "#C8D4E3",
             "startlinecolor": "#2a3f5f"
            },
            "type": "carpet"
           }
          ],
          "choropleth": [
           {
            "colorbar": {
             "outlinewidth": 0,
             "ticks": ""
            },
            "type": "choropleth"
           }
          ],
          "contour": [
           {
            "colorbar": {
             "outlinewidth": 0,
             "ticks": ""
            },
            "colorscale": [
             [
              0,
              "#0d0887"
             ],
             [
              0.1111111111111111,
              "#46039f"
             ],
             [
              0.2222222222222222,
              "#7201a8"
             ],
             [
              0.3333333333333333,
              "#9c179e"
             ],
             [
              0.4444444444444444,
              "#bd3786"
             ],
             [
              0.5555555555555556,
              "#d8576b"
             ],
             [
              0.6666666666666666,
              "#ed7953"
             ],
             [
              0.7777777777777778,
              "#fb9f3a"
             ],
             [
              0.8888888888888888,
              "#fdca26"
             ],
             [
              1,
              "#f0f921"
             ]
            ],
            "type": "contour"
           }
          ],
          "contourcarpet": [
           {
            "colorbar": {
             "outlinewidth": 0,
             "ticks": ""
            },
            "type": "contourcarpet"
           }
          ],
          "heatmap": [
           {
            "colorbar": {
             "outlinewidth": 0,
             "ticks": ""
            },
            "colorscale": [
             [
              0,
              "#0d0887"
             ],
             [
              0.1111111111111111,
              "#46039f"
             ],
             [
              0.2222222222222222,
              "#7201a8"
             ],
             [
              0.3333333333333333,
              "#9c179e"
             ],
             [
              0.4444444444444444,
              "#bd3786"
             ],
             [
              0.5555555555555556,
              "#d8576b"
             ],
             [
              0.6666666666666666,
              "#ed7953"
             ],
             [
              0.7777777777777778,
              "#fb9f3a"
             ],
             [
              0.8888888888888888,
              "#fdca26"
             ],
             [
              1,
              "#f0f921"
             ]
            ],
            "type": "heatmap"
           }
          ],
          "heatmapgl": [
           {
            "colorbar": {
             "outlinewidth": 0,
             "ticks": ""
            },
            "colorscale": [
             [
              0,
              "#0d0887"
             ],
             [
              0.1111111111111111,
              "#46039f"
             ],
             [
              0.2222222222222222,
              "#7201a8"
             ],
             [
              0.3333333333333333,
              "#9c179e"
             ],
             [
              0.4444444444444444,
              "#bd3786"
             ],
             [
              0.5555555555555556,
              "#d8576b"
             ],
             [
              0.6666666666666666,
              "#ed7953"
             ],
             [
              0.7777777777777778,
              "#fb9f3a"
             ],
             [
              0.8888888888888888,
              "#fdca26"
             ],
             [
              1,
              "#f0f921"
             ]
            ],
            "type": "heatmapgl"
           }
          ],
          "histogram": [
           {
            "marker": {
             "pattern": {
              "fillmode": "overlay",
              "size": 10,
              "solidity": 0.2
             }
            },
            "type": "histogram"
           }
          ],
          "histogram2d": [
           {
            "colorbar": {
             "outlinewidth": 0,
             "ticks": ""
            },
            "colorscale": [
             [
              0,
              "#0d0887"
             ],
             [
              0.1111111111111111,
              "#46039f"
             ],
             [
              0.2222222222222222,
              "#7201a8"
             ],
             [
              0.3333333333333333,
              "#9c179e"
             ],
             [
              0.4444444444444444,
              "#bd3786"
             ],
             [
              0.5555555555555556,
              "#d8576b"
             ],
             [
              0.6666666666666666,
              "#ed7953"
             ],
             [
              0.7777777777777778,
              "#fb9f3a"
             ],
             [
              0.8888888888888888,
              "#fdca26"
             ],
             [
              1,
              "#f0f921"
             ]
            ],
            "type": "histogram2d"
           }
          ],
          "histogram2dcontour": [
           {
            "colorbar": {
             "outlinewidth": 0,
             "ticks": ""
            },
            "colorscale": [
             [
              0,
              "#0d0887"
             ],
             [
              0.1111111111111111,
              "#46039f"
             ],
             [
              0.2222222222222222,
              "#7201a8"
             ],
             [
              0.3333333333333333,
              "#9c179e"
             ],
             [
              0.4444444444444444,
              "#bd3786"
             ],
             [
              0.5555555555555556,
              "#d8576b"
             ],
             [
              0.6666666666666666,
              "#ed7953"
             ],
             [
              0.7777777777777778,
              "#fb9f3a"
             ],
             [
              0.8888888888888888,
              "#fdca26"
             ],
             [
              1,
              "#f0f921"
             ]
            ],
            "type": "histogram2dcontour"
           }
          ],
          "mesh3d": [
           {
            "colorbar": {
             "outlinewidth": 0,
             "ticks": ""
            },
            "type": "mesh3d"
           }
          ],
          "parcoords": [
           {
            "line": {
             "colorbar": {
              "outlinewidth": 0,
              "ticks": ""
             }
            },
            "type": "parcoords"
           }
          ],
          "pie": [
           {
            "automargin": true,
            "type": "pie"
           }
          ],
          "scatter": [
           {
            "fillpattern": {
             "fillmode": "overlay",
             "size": 10,
             "solidity": 0.2
            },
            "type": "scatter"
           }
          ],
          "scatter3d": [
           {
            "line": {
             "colorbar": {
              "outlinewidth": 0,
              "ticks": ""
             }
            },
            "marker": {
             "colorbar": {
              "outlinewidth": 0,
              "ticks": ""
             }
            },
            "type": "scatter3d"
           }
          ],
          "scattercarpet": [
           {
            "marker": {
             "colorbar": {
              "outlinewidth": 0,
              "ticks": ""
             }
            },
            "type": "scattercarpet"
           }
          ],
          "scattergeo": [
           {
            "marker": {
             "colorbar": {
              "outlinewidth": 0,
              "ticks": ""
             }
            },
            "type": "scattergeo"
           }
          ],
          "scattergl": [
           {
            "marker": {
             "colorbar": {
              "outlinewidth": 0,
              "ticks": ""
             }
            },
            "type": "scattergl"
           }
          ],
          "scattermapbox": [
           {
            "marker": {
             "colorbar": {
              "outlinewidth": 0,
              "ticks": ""
             }
            },
            "type": "scattermapbox"
           }
          ],
          "scatterpolar": [
           {
            "marker": {
             "colorbar": {
              "outlinewidth": 0,
              "ticks": ""
             }
            },
            "type": "scatterpolar"
           }
          ],
          "scatterpolargl": [
           {
            "marker": {
             "colorbar": {
              "outlinewidth": 0,
              "ticks": ""
             }
            },
            "type": "scatterpolargl"
           }
          ],
          "scatterternary": [
           {
            "marker": {
             "colorbar": {
              "outlinewidth": 0,
              "ticks": ""
             }
            },
            "type": "scatterternary"
           }
          ],
          "surface": [
           {
            "colorbar": {
             "outlinewidth": 0,
             "ticks": ""
            },
            "colorscale": [
             [
              0,
              "#0d0887"
             ],
             [
              0.1111111111111111,
              "#46039f"
             ],
             [
              0.2222222222222222,
              "#7201a8"
             ],
             [
              0.3333333333333333,
              "#9c179e"
             ],
             [
              0.4444444444444444,
              "#bd3786"
             ],
             [
              0.5555555555555556,
              "#d8576b"
             ],
             [
              0.6666666666666666,
              "#ed7953"
             ],
             [
              0.7777777777777778,
              "#fb9f3a"
             ],
             [
              0.8888888888888888,
              "#fdca26"
             ],
             [
              1,
              "#f0f921"
             ]
            ],
            "type": "surface"
           }
          ],
          "table": [
           {
            "cells": {
             "fill": {
              "color": "#EBF0F8"
             },
             "line": {
              "color": "white"
             }
            },
            "header": {
             "fill": {
              "color": "#C8D4E3"
             },
             "line": {
              "color": "white"
             }
            },
            "type": "table"
           }
          ]
         },
         "layout": {
          "annotationdefaults": {
           "arrowcolor": "#2a3f5f",
           "arrowhead": 0,
           "arrowwidth": 1
          },
          "autotypenumbers": "strict",
          "coloraxis": {
           "colorbar": {
            "outlinewidth": 0,
            "ticks": ""
           }
          },
          "colorscale": {
           "diverging": [
            [
             0,
             "#8e0152"
            ],
            [
             0.1,
             "#c51b7d"
            ],
            [
             0.2,
             "#de77ae"
            ],
            [
             0.3,
             "#f1b6da"
            ],
            [
             0.4,
             "#fde0ef"
            ],
            [
             0.5,
             "#f7f7f7"
            ],
            [
             0.6,
             "#e6f5d0"
            ],
            [
             0.7,
             "#b8e186"
            ],
            [
             0.8,
             "#7fbc41"
            ],
            [
             0.9,
             "#4d9221"
            ],
            [
             1,
             "#276419"
            ]
           ],
           "sequential": [
            [
             0,
             "#0d0887"
            ],
            [
             0.1111111111111111,
             "#46039f"
            ],
            [
             0.2222222222222222,
             "#7201a8"
            ],
            [
             0.3333333333333333,
             "#9c179e"
            ],
            [
             0.4444444444444444,
             "#bd3786"
            ],
            [
             0.5555555555555556,
             "#d8576b"
            ],
            [
             0.6666666666666666,
             "#ed7953"
            ],
            [
             0.7777777777777778,
             "#fb9f3a"
            ],
            [
             0.8888888888888888,
             "#fdca26"
            ],
            [
             1,
             "#f0f921"
            ]
           ],
           "sequentialminus": [
            [
             0,
             "#0d0887"
            ],
            [
             0.1111111111111111,
             "#46039f"
            ],
            [
             0.2222222222222222,
             "#7201a8"
            ],
            [
             0.3333333333333333,
             "#9c179e"
            ],
            [
             0.4444444444444444,
             "#bd3786"
            ],
            [
             0.5555555555555556,
             "#d8576b"
            ],
            [
             0.6666666666666666,
             "#ed7953"
            ],
            [
             0.7777777777777778,
             "#fb9f3a"
            ],
            [
             0.8888888888888888,
             "#fdca26"
            ],
            [
             1,
             "#f0f921"
            ]
           ]
          },
          "colorway": [
           "#636efa",
           "#EF553B",
           "#00cc96",
           "#ab63fa",
           "#FFA15A",
           "#19d3f3",
           "#FF6692",
           "#B6E880",
           "#FF97FF",
           "#FECB52"
          ],
          "font": {
           "color": "#2a3f5f"
          },
          "geo": {
           "bgcolor": "white",
           "lakecolor": "white",
           "landcolor": "white",
           "showlakes": true,
           "showland": true,
           "subunitcolor": "#C8D4E3"
          },
          "hoverlabel": {
           "align": "left"
          },
          "hovermode": "closest",
          "mapbox": {
           "style": "light"
          },
          "paper_bgcolor": "white",
          "plot_bgcolor": "white",
          "polar": {
           "angularaxis": {
            "gridcolor": "#EBF0F8",
            "linecolor": "#EBF0F8",
            "ticks": ""
           },
           "bgcolor": "white",
           "radialaxis": {
            "gridcolor": "#EBF0F8",
            "linecolor": "#EBF0F8",
            "ticks": ""
           }
          },
          "scene": {
           "xaxis": {
            "backgroundcolor": "white",
            "gridcolor": "#DFE8F3",
            "gridwidth": 2,
            "linecolor": "#EBF0F8",
            "showbackground": true,
            "ticks": "",
            "zerolinecolor": "#EBF0F8"
           },
           "yaxis": {
            "backgroundcolor": "white",
            "gridcolor": "#DFE8F3",
            "gridwidth": 2,
            "linecolor": "#EBF0F8",
            "showbackground": true,
            "ticks": "",
            "zerolinecolor": "#EBF0F8"
           },
           "zaxis": {
            "backgroundcolor": "white",
            "gridcolor": "#DFE8F3",
            "gridwidth": 2,
            "linecolor": "#EBF0F8",
            "showbackground": true,
            "ticks": "",
            "zerolinecolor": "#EBF0F8"
           }
          },
          "shapedefaults": {
           "line": {
            "color": "#2a3f5f"
           }
          },
          "ternary": {
           "aaxis": {
            "gridcolor": "#DFE8F3",
            "linecolor": "#A2B1C6",
            "ticks": ""
           },
           "baxis": {
            "gridcolor": "#DFE8F3",
            "linecolor": "#A2B1C6",
            "ticks": ""
           },
           "bgcolor": "white",
           "caxis": {
            "gridcolor": "#DFE8F3",
            "linecolor": "#A2B1C6",
            "ticks": ""
           }
          },
          "title": {
           "x": 0.05
          },
          "xaxis": {
           "automargin": true,
           "gridcolor": "#EBF0F8",
           "linecolor": "#EBF0F8",
           "ticks": "",
           "title": {
            "standoff": 15
           },
           "zerolinecolor": "#EBF0F8",
           "zerolinewidth": 2
          },
          "yaxis": {
           "automargin": true,
           "gridcolor": "#EBF0F8",
           "linecolor": "#EBF0F8",
           "ticks": "",
           "title": {
            "standoff": 15
           },
           "zerolinecolor": "#EBF0F8",
           "zerolinewidth": 2
          }
         }
        },
        "title": {
         "text": "MAE Stacked Insights: Baseline vs SARIMAX Performance Across Quarters (2023)"
        },
        "xaxis": {
         "showticklabels": false,
         "title": {}
        },
        "yaxis": {
         "categoryarray": [
          "Q Healthcare Q4",
          "Q Healthcare Q3",
          "Q Healthcare Q2",
          "Q Healthcare Q1",
          "G Trade Q4",
          "G Trade Q3",
          "G Trade Q2",
          "G Trade Q1",
          "C Manufacturing Q4",
          "C Manufacturing Q3",
          "C Manufacturing Q2",
          "C Manufacturing Q1"
         ],
         "categoryorder": "array",
         "title": {
          "text": "Branch and Quarter"
         }
        }
       }
      }
     },
     "metadata": {},
     "output_type": "display_data"
    }
   ],
   "source": [
    "import pandas as pd\n",
    "import plotly.graph_objects as go\n",
    "\n",
    "# Load the dataset\n",
    "file_path = r\"C:\\\\Users\\\\c.hakker\\\\OneDrive - VISTA college\\\\Senior Stuff\\\\Opleiding Data science\\\\Data\\\\baseline-mean-errors-80072ned.xlsx\"\n",
    "data = pd.read_excel(file_path)\n",
    "\n",
    "# Clean the dataset by identifying models\n",
    "data['Model'] = data['sbi_title'].apply(lambda x: 'Baseline' if 'Baseline' in x else 'SARIMAX')\n",
    "data['Cleaned_Branch'] = data['sbi_title'].str.replace(\"Baseline \", \"\").str.replace(\"SARIMAX \", \"\")\n",
    "\n",
    "# Convert 'MAE' column to numeric\n",
    "data['MAE'] = pd.to_numeric(data['MAE'], errors='coerce')\n",
    "\n",
    "# Define custom colors for each branch\n",
    "sarimax_colors = {'C Manufacturing': '#5fb5db', 'G Trade': '#3f9abf', 'Q Healthcare': '#006789'}\n",
    "baseline_colors = {'C Manufacturing': '#febf01', 'G Trade': '#deaa00', 'Q Healthcare': '#fe9001'}\n",
    "\n",
    "# Loop through years (2022 and 2023)\n",
    "for year in [2022, 2023]:\n",
    "    # Filter data for the year\n",
    "    year_data = data[data['Year'] == year]\n",
    "\n",
    "    # Aggregate data by averaging duplicate entries for the same quarter, branch, and model\n",
    "    cleaned_data = year_data.groupby(['Cleaned_Branch', 'quarter', 'Model']).agg({'MAE': 'mean'}).reset_index()\n",
    "\n",
    "    # Pivot the data for visualization\n",
    "    pivot_data = cleaned_data.pivot(index=['Cleaned_Branch', 'quarter'], columns='Model', values='MAE').reset_index()\n",
    "\n",
    "    # Create a combined y-axis label and sort by branch and quarter (ascending for Q1 to Q4)\n",
    "    pivot_data['y_label'] = pivot_data['Cleaned_Branch'] + \" Q\" + pivot_data['quarter'].astype(str)\n",
    "    pivot_data = pivot_data.sort_values(by=['Cleaned_Branch', 'quarter'], ascending=[False, False])\n",
    "\n",
    "    # Create the Plotly figure\n",
    "    fig = go.Figure()\n",
    "\n",
    "    # Track unique branch-model combinations to avoid duplicate legend entries\n",
    "    added_legends = set()\n",
    "\n",
    "    # Add bars for each branch and quarter\n",
    "    for _, row in pivot_data.iterrows():\n",
    "        y_label = row['y_label']\n",
    "        baseline_mae = row.get('Baseline', 0)  # Default to 0 if Baseline is missing\n",
    "        sarimax_mae = row.get('SARIMAX', 0)  # Default to 0 if SARIMAX is missing\n",
    "        branch = row['Cleaned_Branch']\n",
    "\n",
    "        # Add Baseline bar\n",
    "        if (branch, 'Baseline') not in added_legends:\n",
    "            fig.add_trace(go.Bar(\n",
    "                y=[y_label],\n",
    "                x=[baseline_mae],\n",
    "                name=f\"{branch} Baseline ({year})\",\n",
    "                marker_color=baseline_colors[branch],\n",
    "                orientation='h',\n",
    "                text=[f\"{baseline_mae:.2f}\"],\n",
    "                textposition='inside',\n",
    "            ))\n",
    "            added_legends.add((branch, 'Baseline'))\n",
    "        else:\n",
    "            fig.add_trace(go.Bar(\n",
    "                y=[y_label],\n",
    "                x=[baseline_mae],\n",
    "                marker_color=baseline_colors[branch],\n",
    "                orientation='h',\n",
    "                showlegend=False,  # Prevent duplicate legend entry\n",
    "                text=[f\"{baseline_mae:.2f}\"],\n",
    "                textposition='inside',\n",
    "            ))\n",
    "\n",
    "        # Add SARIMAX bar\n",
    "        if (branch, 'SARIMAX') not in added_legends:\n",
    "            fig.add_trace(go.Bar(\n",
    "                y=[y_label],\n",
    "                x=[sarimax_mae],\n",
    "                name=f\"{branch} SARIMAX ({year})\",\n",
    "                marker_color=sarimax_colors[branch],\n",
    "                orientation='h',\n",
    "                text=[f\"{sarimax_mae:.2f}\"],\n",
    "                textposition='inside',\n",
    "            ))\n",
    "            added_legends.add((branch, 'SARIMAX'))\n",
    "        else:\n",
    "            fig.add_trace(go.Bar(\n",
    "                y=[y_label],\n",
    "                x=[sarimax_mae],\n",
    "                marker_color=sarimax_colors[branch],\n",
    "                orientation='h',\n",
    "                showlegend=False,  # Prevent duplicate legend entry\n",
    "                text=[f\"{sarimax_mae:.2f}\"],\n",
    "                textposition='inside',\n",
    "            ))\n",
    "\n",
    "    # Update the layout\n",
    "    fig.update_layout(\n",
    "        title=f\"MAE Stacked Insights: Baseline vs SARIMAX Performance Across Quarters ({year})\",\n",
    "        xaxis_title=None,  # Remove x-axis text\n",
    "        xaxis_showticklabels=False,  # Remove x-axis tick labels\n",
    "        yaxis_title=\"Branch and Quarter\",\n",
    "        yaxis=dict(categoryorder='array', categoryarray=pivot_data['y_label']),  # Correct order for y-axis\n",
    "        barmode='stack',\n",
    "        legend_title=\"Model\",\n",
    "        template=\"plotly_white\"\n",
    "    )\n",
    "\n",
    "    # Save the plot as an HTML file\n",
    "    output_file = f\"Stacked_MAE_Comparison_{year}.html\"\n",
    "    fig.write_html(output_file)\n",
    "\n",
    "    # Show the plot for the year\n",
    "    fig.show()\n"
   ]
  },
  {
   "cell_type": "code",
   "execution_count": 3,
   "metadata": {},
   "outputs": [],
   "source": [
    "# Strip whitespace from all column names\n",
    "data.columns = data.columns.str.strip()"
   ]
  },
  {
   "cell_type": "code",
   "execution_count": 4,
   "metadata": {},
   "outputs": [
    {
     "data": {
      "application/vnd.plotly.v1+json": {
       "config": {
        "plotlyServerURL": "https://plot.ly"
       },
       "data": [
        {
         "line": {
          "color": "#44b7c2"
         },
         "mode": "lines",
         "name": "C Manufacturing Actual",
         "type": "scatter",
         "x": [
          "Q1 2022",
          "Q2 2022",
          "Q3 2022",
          "Q4 2022",
          "Q1 2023",
          "Q2 2023",
          "Q3 2023",
          "Q4 2023"
         ],
         "y": [
          7.4,
          6.3,
          5.9,
          6.6,
          6.8,
          5.7,
          5.5,
          6.4
         ]
        },
        {
         "line": {
          "color": "#44b7c2",
          "dash": "dot"
         },
         "mode": "lines",
         "name": "C Manufacturing Predicted",
         "type": "scatter",
         "x": [
          "Q1 2022",
          "Q2 2022",
          "Q3 2022",
          "Q4 2022",
          "Q1 2023",
          "Q2 2023",
          "Q3 2023",
          "Q4 2023"
         ],
         "y": [
          7.2,
          6.3,
          5.9,
          6.7,
          6.6,
          6.1,
          5.6,
          6.4
         ]
        },
        {
         "line": {
          "color": "#024b7a"
         },
         "mode": "lines",
         "name": "G Trade Actual",
         "type": "scatter",
         "x": [
          "Q1 2022",
          "Q2 2022",
          "Q3 2022",
          "Q4 2022",
          "Q1 2023",
          "Q2 2023",
          "Q3 2023",
          "Q4 2023"
         ],
         "y": [
          5.8,
          5,
          4.5,
          4.9,
          5.1,
          4.5,
          4.1,
          4.9
         ]
        },
        {
         "line": {
          "color": "#024b7a",
          "dash": "dot"
         },
         "mode": "lines",
         "name": "G Trade Predicted",
         "type": "scatter",
         "x": [
          "Q1 2022",
          "Q2 2022",
          "Q3 2022",
          "Q4 2022",
          "Q1 2023",
          "Q2 2023",
          "Q3 2023",
          "Q4 2023"
         ],
         "y": [
          5.8,
          5.1,
          4.6,
          5.1,
          5.12,
          4.7,
          4.4,
          4.7
         ]
        },
        {
         "line": {
          "color": "#ffae49"
         },
         "mode": "lines",
         "name": "Q Healthcare Actual",
         "type": "scatter",
         "x": [
          "Q1 2022",
          "Q2 2022",
          "Q3 2022",
          "Q4 2022",
          "Q1 2023",
          "Q2 2023",
          "Q3 2023",
          "Q4 2023"
         ],
         "y": [
          8.9,
          7.5,
          7.1,
          8,
          8.1,
          7,
          6.7,
          7.7
         ]
        },
        {
         "line": {
          "color": "#ffae49",
          "dash": "dot"
         },
         "mode": "lines",
         "name": "Q Healthcare Predicted",
         "type": "scatter",
         "x": [
          "Q1 2022",
          "Q2 2022",
          "Q3 2022",
          "Q4 2022",
          "Q1 2023",
          "Q2 2023",
          "Q3 2023",
          "Q4 2023"
         ],
         "y": [
          7.7,
          7.3,
          7,
          8.1,
          8.1,
          7.5,
          7.1,
          7.9
         ]
        },
        {
         "line": {
          "color": "#81c1c6",
          "dash": "dash"
         },
         "mode": "lines",
         "name": "Baseline C Manufacturing Baseline Predicted",
         "type": "scatter",
         "x": [
          "Q1 2022",
          "Q2 2022",
          "Q3 2022",
          "Q4 2022",
          "Q1 2023",
          "Q2 2023",
          "Q3 2023",
          "Q4 2023"
         ],
         "y": [
          6.1,
          5.6,
          5.3,
          6.1,
          6.2,
          5,
          5.3,
          6.2
         ]
        },
        {
         "line": {
          "color": "#37759b",
          "dash": "dash"
         },
         "mode": "lines",
         "name": "Baseline G Trade Baseline Predicted",
         "type": "scatter",
         "x": [
          "Q1 2022",
          "Q2 2022",
          "Q3 2022",
          "Q4 2022",
          "Q1 2023",
          "Q2 2023",
          "Q3 2023",
          "Q4 2023"
         ],
         "y": [
          4.5,
          4.1,
          3.9,
          4.5,
          5.1,
          4.5,
          4.3,
          4.8
         ]
        },
        {
         "line": {
          "color": "#d3a367",
          "dash": "dash"
         },
         "mode": "lines",
         "name": "Baseline Q Healthcare Baseline Predicted",
         "type": "scatter",
         "x": [
          "Q1 2022",
          "Q2 2022",
          "Q3 2022",
          "Q4 2022",
          "Q1 2023",
          "Q2 2023",
          "Q3 2023",
          "Q4 2023"
         ],
         "y": [
          6.5,
          6.1,
          5.8,
          6.8,
          7.4,
          6.7,
          6.4,
          7.5
         ]
        }
       ],
       "layout": {
        "annotations": [
         {
          "font": {
           "size": 12
          },
          "showarrow": false,
          "text": "Sick Leave (%)",
          "textangle": 0,
          "x": -0.05,
          "xref": "paper",
          "y": 1.06,
          "yref": "paper"
         }
        ],
        "height": 500,
        "template": {
         "data": {
          "bar": [
           {
            "error_x": {
             "color": "#2a3f5f"
            },
            "error_y": {
             "color": "#2a3f5f"
            },
            "marker": {
             "line": {
              "color": "white",
              "width": 0.5
             },
             "pattern": {
              "fillmode": "overlay",
              "size": 10,
              "solidity": 0.2
             }
            },
            "type": "bar"
           }
          ],
          "barpolar": [
           {
            "marker": {
             "line": {
              "color": "white",
              "width": 0.5
             },
             "pattern": {
              "fillmode": "overlay",
              "size": 10,
              "solidity": 0.2
             }
            },
            "type": "barpolar"
           }
          ],
          "carpet": [
           {
            "aaxis": {
             "endlinecolor": "#2a3f5f",
             "gridcolor": "#C8D4E3",
             "linecolor": "#C8D4E3",
             "minorgridcolor": "#C8D4E3",
             "startlinecolor": "#2a3f5f"
            },
            "baxis": {
             "endlinecolor": "#2a3f5f",
             "gridcolor": "#C8D4E3",
             "linecolor": "#C8D4E3",
             "minorgridcolor": "#C8D4E3",
             "startlinecolor": "#2a3f5f"
            },
            "type": "carpet"
           }
          ],
          "choropleth": [
           {
            "colorbar": {
             "outlinewidth": 0,
             "ticks": ""
            },
            "type": "choropleth"
           }
          ],
          "contour": [
           {
            "colorbar": {
             "outlinewidth": 0,
             "ticks": ""
            },
            "colorscale": [
             [
              0,
              "#0d0887"
             ],
             [
              0.1111111111111111,
              "#46039f"
             ],
             [
              0.2222222222222222,
              "#7201a8"
             ],
             [
              0.3333333333333333,
              "#9c179e"
             ],
             [
              0.4444444444444444,
              "#bd3786"
             ],
             [
              0.5555555555555556,
              "#d8576b"
             ],
             [
              0.6666666666666666,
              "#ed7953"
             ],
             [
              0.7777777777777778,
              "#fb9f3a"
             ],
             [
              0.8888888888888888,
              "#fdca26"
             ],
             [
              1,
              "#f0f921"
             ]
            ],
            "type": "contour"
           }
          ],
          "contourcarpet": [
           {
            "colorbar": {
             "outlinewidth": 0,
             "ticks": ""
            },
            "type": "contourcarpet"
           }
          ],
          "heatmap": [
           {
            "colorbar": {
             "outlinewidth": 0,
             "ticks": ""
            },
            "colorscale": [
             [
              0,
              "#0d0887"
             ],
             [
              0.1111111111111111,
              "#46039f"
             ],
             [
              0.2222222222222222,
              "#7201a8"
             ],
             [
              0.3333333333333333,
              "#9c179e"
             ],
             [
              0.4444444444444444,
              "#bd3786"
             ],
             [
              0.5555555555555556,
              "#d8576b"
             ],
             [
              0.6666666666666666,
              "#ed7953"
             ],
             [
              0.7777777777777778,
              "#fb9f3a"
             ],
             [
              0.8888888888888888,
              "#fdca26"
             ],
             [
              1,
              "#f0f921"
             ]
            ],
            "type": "heatmap"
           }
          ],
          "heatmapgl": [
           {
            "colorbar": {
             "outlinewidth": 0,
             "ticks": ""
            },
            "colorscale": [
             [
              0,
              "#0d0887"
             ],
             [
              0.1111111111111111,
              "#46039f"
             ],
             [
              0.2222222222222222,
              "#7201a8"
             ],
             [
              0.3333333333333333,
              "#9c179e"
             ],
             [
              0.4444444444444444,
              "#bd3786"
             ],
             [
              0.5555555555555556,
              "#d8576b"
             ],
             [
              0.6666666666666666,
              "#ed7953"
             ],
             [
              0.7777777777777778,
              "#fb9f3a"
             ],
             [
              0.8888888888888888,
              "#fdca26"
             ],
             [
              1,
              "#f0f921"
             ]
            ],
            "type": "heatmapgl"
           }
          ],
          "histogram": [
           {
            "marker": {
             "pattern": {
              "fillmode": "overlay",
              "size": 10,
              "solidity": 0.2
             }
            },
            "type": "histogram"
           }
          ],
          "histogram2d": [
           {
            "colorbar": {
             "outlinewidth": 0,
             "ticks": ""
            },
            "colorscale": [
             [
              0,
              "#0d0887"
             ],
             [
              0.1111111111111111,
              "#46039f"
             ],
             [
              0.2222222222222222,
              "#7201a8"
             ],
             [
              0.3333333333333333,
              "#9c179e"
             ],
             [
              0.4444444444444444,
              "#bd3786"
             ],
             [
              0.5555555555555556,
              "#d8576b"
             ],
             [
              0.6666666666666666,
              "#ed7953"
             ],
             [
              0.7777777777777778,
              "#fb9f3a"
             ],
             [
              0.8888888888888888,
              "#fdca26"
             ],
             [
              1,
              "#f0f921"
             ]
            ],
            "type": "histogram2d"
           }
          ],
          "histogram2dcontour": [
           {
            "colorbar": {
             "outlinewidth": 0,
             "ticks": ""
            },
            "colorscale": [
             [
              0,
              "#0d0887"
             ],
             [
              0.1111111111111111,
              "#46039f"
             ],
             [
              0.2222222222222222,
              "#7201a8"
             ],
             [
              0.3333333333333333,
              "#9c179e"
             ],
             [
              0.4444444444444444,
              "#bd3786"
             ],
             [
              0.5555555555555556,
              "#d8576b"
             ],
             [
              0.6666666666666666,
              "#ed7953"
             ],
             [
              0.7777777777777778,
              "#fb9f3a"
             ],
             [
              0.8888888888888888,
              "#fdca26"
             ],
             [
              1,
              "#f0f921"
             ]
            ],
            "type": "histogram2dcontour"
           }
          ],
          "mesh3d": [
           {
            "colorbar": {
             "outlinewidth": 0,
             "ticks": ""
            },
            "type": "mesh3d"
           }
          ],
          "parcoords": [
           {
            "line": {
             "colorbar": {
              "outlinewidth": 0,
              "ticks": ""
             }
            },
            "type": "parcoords"
           }
          ],
          "pie": [
           {
            "automargin": true,
            "type": "pie"
           }
          ],
          "scatter": [
           {
            "fillpattern": {
             "fillmode": "overlay",
             "size": 10,
             "solidity": 0.2
            },
            "type": "scatter"
           }
          ],
          "scatter3d": [
           {
            "line": {
             "colorbar": {
              "outlinewidth": 0,
              "ticks": ""
             }
            },
            "marker": {
             "colorbar": {
              "outlinewidth": 0,
              "ticks": ""
             }
            },
            "type": "scatter3d"
           }
          ],
          "scattercarpet": [
           {
            "marker": {
             "colorbar": {
              "outlinewidth": 0,
              "ticks": ""
             }
            },
            "type": "scattercarpet"
           }
          ],
          "scattergeo": [
           {
            "marker": {
             "colorbar": {
              "outlinewidth": 0,
              "ticks": ""
             }
            },
            "type": "scattergeo"
           }
          ],
          "scattergl": [
           {
            "marker": {
             "colorbar": {
              "outlinewidth": 0,
              "ticks": ""
             }
            },
            "type": "scattergl"
           }
          ],
          "scattermapbox": [
           {
            "marker": {
             "colorbar": {
              "outlinewidth": 0,
              "ticks": ""
             }
            },
            "type": "scattermapbox"
           }
          ],
          "scatterpolar": [
           {
            "marker": {
             "colorbar": {
              "outlinewidth": 0,
              "ticks": ""
             }
            },
            "type": "scatterpolar"
           }
          ],
          "scatterpolargl": [
           {
            "marker": {
             "colorbar": {
              "outlinewidth": 0,
              "ticks": ""
             }
            },
            "type": "scatterpolargl"
           }
          ],
          "scatterternary": [
           {
            "marker": {
             "colorbar": {
              "outlinewidth": 0,
              "ticks": ""
             }
            },
            "type": "scatterternary"
           }
          ],
          "surface": [
           {
            "colorbar": {
             "outlinewidth": 0,
             "ticks": ""
            },
            "colorscale": [
             [
              0,
              "#0d0887"
             ],
             [
              0.1111111111111111,
              "#46039f"
             ],
             [
              0.2222222222222222,
              "#7201a8"
             ],
             [
              0.3333333333333333,
              "#9c179e"
             ],
             [
              0.4444444444444444,
              "#bd3786"
             ],
             [
              0.5555555555555556,
              "#d8576b"
             ],
             [
              0.6666666666666666,
              "#ed7953"
             ],
             [
              0.7777777777777778,
              "#fb9f3a"
             ],
             [
              0.8888888888888888,
              "#fdca26"
             ],
             [
              1,
              "#f0f921"
             ]
            ],
            "type": "surface"
           }
          ],
          "table": [
           {
            "cells": {
             "fill": {
              "color": "#EBF0F8"
             },
             "line": {
              "color": "white"
             }
            },
            "header": {
             "fill": {
              "color": "#C8D4E3"
             },
             "line": {
              "color": "white"
             }
            },
            "type": "table"
           }
          ]
         },
         "layout": {
          "annotationdefaults": {
           "arrowcolor": "#2a3f5f",
           "arrowhead": 0,
           "arrowwidth": 1
          },
          "autotypenumbers": "strict",
          "coloraxis": {
           "colorbar": {
            "outlinewidth": 0,
            "ticks": ""
           }
          },
          "colorscale": {
           "diverging": [
            [
             0,
             "#8e0152"
            ],
            [
             0.1,
             "#c51b7d"
            ],
            [
             0.2,
             "#de77ae"
            ],
            [
             0.3,
             "#f1b6da"
            ],
            [
             0.4,
             "#fde0ef"
            ],
            [
             0.5,
             "#f7f7f7"
            ],
            [
             0.6,
             "#e6f5d0"
            ],
            [
             0.7,
             "#b8e186"
            ],
            [
             0.8,
             "#7fbc41"
            ],
            [
             0.9,
             "#4d9221"
            ],
            [
             1,
             "#276419"
            ]
           ],
           "sequential": [
            [
             0,
             "#0d0887"
            ],
            [
             0.1111111111111111,
             "#46039f"
            ],
            [
             0.2222222222222222,
             "#7201a8"
            ],
            [
             0.3333333333333333,
             "#9c179e"
            ],
            [
             0.4444444444444444,
             "#bd3786"
            ],
            [
             0.5555555555555556,
             "#d8576b"
            ],
            [
             0.6666666666666666,
             "#ed7953"
            ],
            [
             0.7777777777777778,
             "#fb9f3a"
            ],
            [
             0.8888888888888888,
             "#fdca26"
            ],
            [
             1,
             "#f0f921"
            ]
           ],
           "sequentialminus": [
            [
             0,
             "#0d0887"
            ],
            [
             0.1111111111111111,
             "#46039f"
            ],
            [
             0.2222222222222222,
             "#7201a8"
            ],
            [
             0.3333333333333333,
             "#9c179e"
            ],
            [
             0.4444444444444444,
             "#bd3786"
            ],
            [
             0.5555555555555556,
             "#d8576b"
            ],
            [
             0.6666666666666666,
             "#ed7953"
            ],
            [
             0.7777777777777778,
             "#fb9f3a"
            ],
            [
             0.8888888888888888,
             "#fdca26"
            ],
            [
             1,
             "#f0f921"
            ]
           ]
          },
          "colorway": [
           "#636efa",
           "#EF553B",
           "#00cc96",
           "#ab63fa",
           "#FFA15A",
           "#19d3f3",
           "#FF6692",
           "#B6E880",
           "#FF97FF",
           "#FECB52"
          ],
          "font": {
           "color": "#2a3f5f"
          },
          "geo": {
           "bgcolor": "white",
           "lakecolor": "white",
           "landcolor": "white",
           "showlakes": true,
           "showland": true,
           "subunitcolor": "#C8D4E3"
          },
          "hoverlabel": {
           "align": "left"
          },
          "hovermode": "closest",
          "mapbox": {
           "style": "light"
          },
          "paper_bgcolor": "white",
          "plot_bgcolor": "white",
          "polar": {
           "angularaxis": {
            "gridcolor": "#EBF0F8",
            "linecolor": "#EBF0F8",
            "ticks": ""
           },
           "bgcolor": "white",
           "radialaxis": {
            "gridcolor": "#EBF0F8",
            "linecolor": "#EBF0F8",
            "ticks": ""
           }
          },
          "scene": {
           "xaxis": {
            "backgroundcolor": "white",
            "gridcolor": "#DFE8F3",
            "gridwidth": 2,
            "linecolor": "#EBF0F8",
            "showbackground": true,
            "ticks": "",
            "zerolinecolor": "#EBF0F8"
           },
           "yaxis": {
            "backgroundcolor": "white",
            "gridcolor": "#DFE8F3",
            "gridwidth": 2,
            "linecolor": "#EBF0F8",
            "showbackground": true,
            "ticks": "",
            "zerolinecolor": "#EBF0F8"
           },
           "zaxis": {
            "backgroundcolor": "white",
            "gridcolor": "#DFE8F3",
            "gridwidth": 2,
            "linecolor": "#EBF0F8",
            "showbackground": true,
            "ticks": "",
            "zerolinecolor": "#EBF0F8"
           }
          },
          "shapedefaults": {
           "line": {
            "color": "#2a3f5f"
           }
          },
          "ternary": {
           "aaxis": {
            "gridcolor": "#DFE8F3",
            "linecolor": "#A2B1C6",
            "ticks": ""
           },
           "baxis": {
            "gridcolor": "#DFE8F3",
            "linecolor": "#A2B1C6",
            "ticks": ""
           },
           "bgcolor": "white",
           "caxis": {
            "gridcolor": "#DFE8F3",
            "linecolor": "#A2B1C6",
            "ticks": ""
           }
          },
          "title": {
           "x": 0.05
          },
          "xaxis": {
           "automargin": true,
           "gridcolor": "#EBF0F8",
           "linecolor": "#EBF0F8",
           "ticks": "",
           "title": {
            "standoff": 15
           },
           "zerolinecolor": "#EBF0F8",
           "zerolinewidth": 2
          },
          "yaxis": {
           "automargin": true,
           "gridcolor": "#EBF0F8",
           "linecolor": "#EBF0F8",
           "ticks": "",
           "title": {
            "standoff": 15
           },
           "zerolinecolor": "#EBF0F8",
           "zerolinewidth": 2
          }
         }
        },
        "title": {
         "text": "Predicted vs. Actual Sick Leave (2022 & 2023)"
        },
        "width": 1200,
        "xaxis": {
         "gridcolor": "lightgrey",
         "showgrid": true,
         "title": {
          "text": "Quarter"
         }
        },
        "yaxis": {
         "automargin": true,
         "gridcolor": "lightgrey",
         "showgrid": true
        }
       }
      }
     },
     "metadata": {},
     "output_type": "display_data"
    }
   ],
   "source": [
    "# Strip whitespace from column names\n",
    "data.columns = data.columns.str.strip()\n",
    "\n",
    "# Create a new column for formatted quarters\n",
    "data['Quarter Label'] = 'Q' + data['quarter'].astype(str) + ' ' + data['Year'].astype(str)\n",
    "\n",
    "# Filter data for 2022 and 2023\n",
    "filtered_data = data[data['Year'].isin([2022, 2023])]\n",
    "\n",
    "# Initialize the Plotly figure\n",
    "fig = go.Figure()\n",
    "\n",
    "# Define colors for each branch\n",
    "colors = {\n",
    "    'C Manufacturing': '#44b7c2',\n",
    "    'Baseline C Manufacturing': '#81c1c6',\n",
    "    'G Trade': '#024b7a',\n",
    "    'Baseline G Trade': '#37759b',\n",
    "    'Q Healthcare': '#ffae49',\n",
    "    'Baseline Q Healthcare': '#d3a367'\n",
    "}\n",
    "\n",
    "# Plot the actual and predicted lines for each branch (excluding Baseline actuals)\n",
    "for branch in filtered_data['sbi_title'].unique():\n",
    "    if not branch.startswith('Baseline'):\n",
    "        branch_data = filtered_data[filtered_data['sbi_title'] == branch]\n",
    "        \n",
    "        # Add actual values\n",
    "        fig.add_trace(go.Scatter(\n",
    "            x=branch_data['Quarter Label'],\n",
    "            y=branch_data['Actual Sickleave'],\n",
    "            mode='lines',\n",
    "            name=f'{branch} Actual',\n",
    "            line=dict(color=colors[branch])\n",
    "        ))\n",
    "        \n",
    "        # Add predicted values\n",
    "        fig.add_trace(go.Scatter(\n",
    "            x=branch_data['Quarter Label'],\n",
    "            y=branch_data['Predicted'],\n",
    "            mode='lines',\n",
    "            name=f'{branch} Predicted',\n",
    "            line=dict(color=colors[branch], dash='dot')\n",
    "        ))\n",
    "\n",
    "# Plot the Baseline predicted values with custom colors\n",
    "for branch in filtered_data['sbi_title'].unique():\n",
    "    if branch.startswith('Baseline'):\n",
    "        branch_data = filtered_data[filtered_data['sbi_title'] == branch]\n",
    "        fig.add_trace(go.Scatter(\n",
    "            x=branch_data['Quarter Label'],\n",
    "            y=branch_data['Predicted'],\n",
    "            mode='lines',\n",
    "            name=f'{branch} Baseline Predicted',\n",
    "            line=dict(color=colors[branch], dash='dash')\n",
    "        ))\n",
    "\n",
    "\n",
    "# Update the layout with a horizontal Y-axis title\n",
    "fig.update_layout(\n",
    "    title='Predicted vs. Actual Sick Leave (2022 & 2023)',\n",
    "    xaxis_title='Quarter',\n",
    "    template='plotly_white',\n",
    "    xaxis=dict(showgrid=True, gridcolor='lightgrey'),\n",
    "    yaxis=dict(\n",
    "        showgrid=True,\n",
    "        gridcolor='lightgrey',\n",
    "        automargin=True\n",
    "    ),\n",
    "    width=1200,\n",
    "    height=500,\n",
    "    annotations=[\n",
    "        dict(\n",
    "            text='Sick Leave (%)',  # Y-axis title text\n",
    "            x=-0.05,  # Adjust the X position (negative moves it left)\n",
    "            y= 1.06,  # Center the text vertically\n",
    "            xref='paper',\n",
    "            yref='paper',\n",
    "            showarrow=False,\n",
    "            textangle=0,  # Keep the text horizontal\n",
    "            font=dict(size=12)\n",
    "        )\n",
    "    ]\n",
    ")\n"
   ]
  },
  {
   "cell_type": "code",
   "execution_count": 5,
   "metadata": {},
   "outputs": [
    {
     "data": {
      "application/vnd.plotly.v1+json": {
       "config": {
        "plotlyServerURL": "https://plot.ly"
       },
       "data": [
        {
         "marker": {
          "color": "#febf01"
         },
         "name": "Baseline C Manufacturing",
         "showlegend": true,
         "text": "0.39",
         "textangle": 0,
         "textposition": "outside",
         "type": "bar",
         "x": [
          "C Manufacturing Q1"
         ],
         "xaxis": "x",
         "y": [
          0.3916
         ],
         "yaxis": "y"
        },
        {
         "marker": {
          "color": "#5fb5db"
         },
         "name": "SARIMAX C Manufacturing",
         "showlegend": true,
         "text": "0.13",
         "textangle": 0,
         "textposition": "outside",
         "type": "bar",
         "x": [
          "C Manufacturing Q1"
         ],
         "xaxis": "x",
         "y": [
          0.1346
         ],
         "yaxis": "y"
        },
        {
         "marker": {
          "color": "#febf01"
         },
         "showlegend": false,
         "text": "0.36",
         "textangle": 0,
         "textposition": "outside",
         "type": "bar",
         "x": [
          "C Manufacturing Q2"
         ],
         "xaxis": "x",
         "y": [
          0.3583
         ],
         "yaxis": "y"
        },
        {
         "marker": {
          "color": "#5fb5db"
         },
         "showlegend": false,
         "text": "0.06",
         "textangle": 0,
         "textposition": "outside",
         "type": "bar",
         "x": [
          "C Manufacturing Q2"
         ],
         "xaxis": "x",
         "y": [
          0.0556
         ],
         "yaxis": "y"
        },
        {
         "marker": {
          "color": "#febf01"
         },
         "showlegend": false,
         "text": "0.37",
         "textangle": 0,
         "textposition": "outside",
         "type": "bar",
         "x": [
          "C Manufacturing Q3"
         ],
         "xaxis": "x",
         "y": [
          0.3666
         ],
         "yaxis": "y"
        },
        {
         "marker": {
          "color": "#5fb5db"
         },
         "showlegend": false,
         "text": "0.06",
         "textangle": 0,
         "textposition": "outside",
         "type": "bar",
         "x": [
          "C Manufacturing Q3"
         ],
         "xaxis": "x",
         "y": [
          0.0604
         ],
         "yaxis": "y"
        },
        {
         "marker": {
          "color": "#febf01"
         },
         "showlegend": false,
         "text": "0.33",
         "textangle": 0,
         "textposition": "outside",
         "type": "bar",
         "x": [
          "C Manufacturing Q4"
         ],
         "xaxis": "x",
         "y": [
          0.3333
         ],
         "yaxis": "y"
        },
        {
         "marker": {
          "color": "#5fb5db"
         },
         "showlegend": false,
         "text": "0.12",
         "textangle": 0,
         "textposition": "outside",
         "type": "bar",
         "x": [
          "C Manufacturing Q4"
         ],
         "xaxis": "x",
         "y": [
          0.1171
         ],
         "yaxis": "y"
        },
        {
         "marker": {
          "color": "#deaa00"
         },
         "name": "Baseline G Trade",
         "showlegend": true,
         "text": "0.40",
         "textangle": 0,
         "textposition": "outside",
         "type": "bar",
         "x": [
          "G Trade Q1"
         ],
         "xaxis": "x",
         "y": [
          0.3958
         ],
         "yaxis": "y"
        },
        {
         "marker": {
          "color": "#3f9abf"
         },
         "name": "SARIMAX G Trade",
         "showlegend": true,
         "text": "0.05",
         "textangle": 0,
         "textposition": "outside",
         "type": "bar",
         "x": [
          "G Trade Q1"
         ],
         "xaxis": "x",
         "y": [
          0.0502
         ],
         "yaxis": "y"
        },
        {
         "marker": {
          "color": "#deaa00"
         },
         "showlegend": false,
         "text": "0.38",
         "textangle": 0,
         "textposition": "outside",
         "type": "bar",
         "x": [
          "G Trade Q2"
         ],
         "xaxis": "x",
         "y": [
          0.3833
         ],
         "yaxis": "y"
        },
        {
         "marker": {
          "color": "#3f9abf"
         },
         "showlegend": false,
         "text": "0.20",
         "textangle": 0,
         "textposition": "outside",
         "type": "bar",
         "x": [
          "G Trade Q2"
         ],
         "xaxis": "x",
         "y": [
          0.1983
         ],
         "yaxis": "y"
        },
        {
         "marker": {
          "color": "#deaa00"
         },
         "showlegend": false,
         "text": "0.37",
         "textangle": 0,
         "textposition": "outside",
         "type": "bar",
         "x": [
          "G Trade Q3"
         ],
         "xaxis": "x",
         "y": [
          0.3708
         ],
         "yaxis": "y"
        },
        {
         "marker": {
          "color": "#3f9abf"
         },
         "showlegend": false,
         "text": "0.19",
         "textangle": 0,
         "textposition": "outside",
         "type": "bar",
         "x": [
          "G Trade Q3"
         ],
         "xaxis": "x",
         "y": [
          0.1905
         ],
         "yaxis": "y"
        },
        {
         "marker": {
          "color": "#deaa00"
         },
         "showlegend": false,
         "text": "0.35",
         "textangle": 0,
         "textposition": "outside",
         "type": "bar",
         "x": [
          "G Trade Q4"
         ],
         "xaxis": "x",
         "y": [
          0.35
         ],
         "yaxis": "y"
        },
        {
         "marker": {
          "color": "#3f9abf"
         },
         "showlegend": false,
         "text": "0.25",
         "textangle": 0,
         "textposition": "outside",
         "type": "bar",
         "x": [
          "G Trade Q4"
         ],
         "xaxis": "x",
         "y": [
          0.246
         ],
         "yaxis": "y"
        },
        {
         "marker": {
          "color": "#fe9001"
         },
         "name": "Baseline Q Healthcare",
         "showlegend": true,
         "text": "0.50",
         "textangle": 0,
         "textposition": "outside",
         "type": "bar",
         "x": [
          "Q Healthcare Q1"
         ],
         "xaxis": "x",
         "y": [
          0.5041
         ],
         "yaxis": "y"
        },
        {
         "marker": {
          "color": "#006789"
         },
         "name": "SARIMAX Q Healthcare",
         "showlegend": true,
         "text": "0.13",
         "textangle": 0,
         "textposition": "outside",
         "type": "bar",
         "x": [
          "Q Healthcare Q1"
         ],
         "xaxis": "x",
         "y": [
          0.1339
         ],
         "yaxis": "y"
        },
        {
         "marker": {
          "color": "#fe9001"
         },
         "showlegend": false,
         "text": "0.47",
         "textangle": 0,
         "textposition": "outside",
         "type": "bar",
         "x": [
          "Q Healthcare Q2"
         ],
         "xaxis": "x",
         "y": [
          0.4666
         ],
         "yaxis": "y"
        },
        {
         "marker": {
          "color": "#006789"
         },
         "showlegend": false,
         "text": "0.35",
         "textangle": 0,
         "textposition": "outside",
         "type": "bar",
         "x": [
          "Q Healthcare Q2"
         ],
         "xaxis": "x",
         "y": [
          0.3499
         ],
         "yaxis": "y"
        },
        {
         "marker": {
          "color": "#fe9001"
         },
         "showlegend": false,
         "text": "0.48",
         "textangle": 0,
         "textposition": "outside",
         "type": "bar",
         "x": [
          "Q Healthcare Q3"
         ],
         "xaxis": "x",
         "y": [
          0.4791
         ],
         "yaxis": "y"
        },
        {
         "marker": {
          "color": "#006789"
         },
         "showlegend": false,
         "text": "0.06",
         "textangle": 0,
         "textposition": "outside",
         "type": "bar",
         "x": [
          "Q Healthcare Q3"
         ],
         "xaxis": "x",
         "y": [
          0.056
         ],
         "yaxis": "y"
        },
        {
         "marker": {
          "color": "#fe9001"
         },
         "showlegend": false,
         "text": "0.53",
         "textangle": 0,
         "textposition": "outside",
         "type": "bar",
         "x": [
          "Q Healthcare Q4"
         ],
         "xaxis": "x",
         "y": [
          0.5333
         ],
         "yaxis": "y"
        },
        {
         "marker": {
          "color": "#006789"
         },
         "showlegend": false,
         "text": "0.14",
         "textangle": 0,
         "textposition": "outside",
         "type": "bar",
         "x": [
          "Q Healthcare Q4"
         ],
         "xaxis": "x",
         "y": [
          0.1437
         ],
         "yaxis": "y"
        },
        {
         "marker": {
          "color": "#febf01"
         },
         "showlegend": false,
         "text": "0.39",
         "textangle": 0,
         "textposition": "outside",
         "type": "bar",
         "x": [
          "C Manufacturing Q1"
         ],
         "xaxis": "x2",
         "y": [
          0.3916
         ],
         "yaxis": "y2"
        },
        {
         "marker": {
          "color": "#5fb5db"
         },
         "showlegend": false,
         "text": "0.16",
         "textangle": 0,
         "textposition": "outside",
         "type": "bar",
         "x": [
          "C Manufacturing Q1"
         ],
         "xaxis": "x2",
         "y": [
          0.1555
         ],
         "yaxis": "y2"
        },
        {
         "marker": {
          "color": "#febf01"
         },
         "showlegend": false,
         "text": "0.36",
         "textangle": 0,
         "textposition": "outside",
         "type": "bar",
         "x": [
          "C Manufacturing Q2"
         ],
         "xaxis": "x2",
         "y": [
          0.3583
         ],
         "yaxis": "y2"
        },
        {
         "marker": {
          "color": "#5fb5db"
         },
         "showlegend": false,
         "text": "0.14",
         "textangle": 0,
         "textposition": "outside",
         "type": "bar",
         "x": [
          "C Manufacturing Q2"
         ],
         "xaxis": "x2",
         "y": [
          0.1417
         ],
         "yaxis": "y2"
        },
        {
         "marker": {
          "color": "#febf01"
         },
         "showlegend": false,
         "text": "0.37",
         "textangle": 0,
         "textposition": "outside",
         "type": "bar",
         "x": [
          "C Manufacturing Q3"
         ],
         "xaxis": "x2",
         "y": [
          0.3666
         ],
         "yaxis": "y2"
        },
        {
         "marker": {
          "color": "#5fb5db"
         },
         "showlegend": false,
         "text": "0.11",
         "textangle": 0,
         "textposition": "outside",
         "type": "bar",
         "x": [
          "C Manufacturing Q3"
         ],
         "xaxis": "x2",
         "y": [
          0.1085
         ],
         "yaxis": "y2"
        },
        {
         "marker": {
          "color": "#febf01"
         },
         "showlegend": false,
         "text": "0.33",
         "textangle": 0,
         "textposition": "outside",
         "type": "bar",
         "x": [
          "C Manufacturing Q4"
         ],
         "xaxis": "x2",
         "y": [
          0.3333
         ],
         "yaxis": "y2"
        },
        {
         "marker": {
          "color": "#5fb5db"
         },
         "showlegend": false,
         "text": "0.03",
         "textangle": 0,
         "textposition": "outside",
         "type": "bar",
         "x": [
          "C Manufacturing Q4"
         ],
         "xaxis": "x2",
         "y": [
          0.0337
         ],
         "yaxis": "y2"
        },
        {
         "marker": {
          "color": "#deaa00"
         },
         "showlegend": false,
         "text": "0.40",
         "textangle": 0,
         "textposition": "outside",
         "type": "bar",
         "x": [
          "G Trade Q1"
         ],
         "xaxis": "x2",
         "y": [
          0.3958
         ],
         "yaxis": "y2"
        },
        {
         "marker": {
          "color": "#3f9abf"
         },
         "showlegend": false,
         "text": "0.02",
         "textangle": 0,
         "textposition": "outside",
         "type": "bar",
         "x": [
          "G Trade Q1"
         ],
         "xaxis": "x2",
         "y": [
          0.0219
         ],
         "yaxis": "y2"
        },
        {
         "marker": {
          "color": "#deaa00"
         },
         "showlegend": false,
         "text": "0.38",
         "textangle": 0,
         "textposition": "outside",
         "type": "bar",
         "x": [
          "G Trade Q2"
         ],
         "xaxis": "x2",
         "y": [
          0.3833
         ],
         "yaxis": "y2"
        },
        {
         "marker": {
          "color": "#3f9abf"
         },
         "showlegend": false,
         "text": "0.30",
         "textangle": 0,
         "textposition": "outside",
         "type": "bar",
         "x": [
          "G Trade Q2"
         ],
         "xaxis": "x2",
         "y": [
          0.2968
         ],
         "yaxis": "y2"
        },
        {
         "marker": {
          "color": "#deaa00"
         },
         "showlegend": false,
         "text": "0.37",
         "textangle": 0,
         "textposition": "outside",
         "type": "bar",
         "x": [
          "G Trade Q3"
         ],
         "xaxis": "x2",
         "y": [
          0.3708
         ],
         "yaxis": "y2"
        },
        {
         "marker": {
          "color": "#3f9abf"
         },
         "showlegend": false,
         "text": "0.35",
         "textangle": 0,
         "textposition": "outside",
         "type": "bar",
         "x": [
          "G Trade Q3"
         ],
         "xaxis": "x2",
         "y": [
          0.348
         ],
         "yaxis": "y2"
        },
        {
         "marker": {
          "color": "#deaa00"
         },
         "showlegend": false,
         "text": "0.35",
         "textangle": 0,
         "textposition": "outside",
         "type": "bar",
         "x": [
          "G Trade Q4"
         ],
         "xaxis": "x2",
         "y": [
          0.35
         ],
         "yaxis": "y2"
        },
        {
         "marker": {
          "color": "#3f9abf"
         },
         "showlegend": false,
         "text": "0.17",
         "textangle": 0,
         "textposition": "outside",
         "type": "bar",
         "x": [
          "G Trade Q4"
         ],
         "xaxis": "x2",
         "y": [
          0.1743
         ],
         "yaxis": "y2"
        },
        {
         "marker": {
          "color": "#fe9001"
         },
         "showlegend": false,
         "text": "0.50",
         "textangle": 0,
         "textposition": "outside",
         "type": "bar",
         "x": [
          "Q Healthcare Q1"
         ],
         "xaxis": "x2",
         "y": [
          0.5041
         ],
         "yaxis": "y2"
        },
        {
         "marker": {
          "color": "#006789"
         },
         "showlegend": false,
         "text": "0.05",
         "textangle": 0,
         "textposition": "outside",
         "type": "bar",
         "x": [
          "Q Healthcare Q1"
         ],
         "xaxis": "x2",
         "y": [
          0.0452
         ],
         "yaxis": "y2"
        },
        {
         "marker": {
          "color": "#fe9001"
         },
         "showlegend": false,
         "text": "0.47",
         "textangle": 0,
         "textposition": "outside",
         "type": "bar",
         "x": [
          "Q Healthcare Q2"
         ],
         "xaxis": "x2",
         "y": [
          0.4666
         ],
         "yaxis": "y2"
        },
        {
         "marker": {
          "color": "#006789"
         },
         "showlegend": false,
         "text": "0.56",
         "textangle": 0,
         "textposition": "outside",
         "type": "bar",
         "x": [
          "Q Healthcare Q2"
         ],
         "xaxis": "x2",
         "y": [
          0.562
         ],
         "yaxis": "y2"
        },
        {
         "marker": {
          "color": "#fe9001"
         },
         "showlegend": false,
         "text": "0.48",
         "textangle": 0,
         "textposition": "outside",
         "type": "bar",
         "x": [
          "Q Healthcare Q3"
         ],
         "xaxis": "x2",
         "y": [
          0.4791
         ],
         "yaxis": "y2"
        },
        {
         "marker": {
          "color": "#006789"
         },
         "showlegend": false,
         "text": "0.46",
         "textangle": 0,
         "textposition": "outside",
         "type": "bar",
         "x": [
          "Q Healthcare Q3"
         ],
         "xaxis": "x2",
         "y": [
          0.4584
         ],
         "yaxis": "y2"
        },
        {
         "marker": {
          "color": "#fe9001"
         },
         "showlegend": false,
         "text": "0.53",
         "textangle": 0,
         "textposition": "outside",
         "type": "bar",
         "x": [
          "Q Healthcare Q4"
         ],
         "xaxis": "x2",
         "y": [
          0.5333
         ],
         "yaxis": "y2"
        },
        {
         "marker": {
          "color": "#006789"
         },
         "showlegend": false,
         "text": "0.21",
         "textangle": 0,
         "textposition": "outside",
         "type": "bar",
         "x": [
          "Q Healthcare Q4"
         ],
         "xaxis": "x2",
         "y": [
          0.2073
         ],
         "yaxis": "y2"
        }
       ],
       "layout": {
        "annotations": [
         {
          "font": {
           "size": 16
          },
          "showarrow": false,
          "text": "2022",
          "x": 0.225,
          "xanchor": "center",
          "xref": "paper",
          "y": 1,
          "yanchor": "bottom",
          "yref": "paper"
         },
         {
          "font": {
           "size": 16
          },
          "showarrow": false,
          "text": "2023",
          "x": 0.775,
          "xanchor": "center",
          "xref": "paper",
          "y": 1,
          "yanchor": "bottom",
          "yref": "paper"
         }
        ],
        "bargap": 0.15,
        "barmode": "stack",
        "height": 600,
        "legend": {
         "bordercolor": "black",
         "borderwidth": 1
        },
        "paper_bgcolor": "white",
        "plot_bgcolor": "white",
        "showlegend": true,
        "template": {
         "data": {
          "bar": [
           {
            "error_x": {
             "color": "#2a3f5f"
            },
            "error_y": {
             "color": "#2a3f5f"
            },
            "marker": {
             "line": {
              "color": "#E5ECF6",
              "width": 0.5
             },
             "pattern": {
              "fillmode": "overlay",
              "size": 10,
              "solidity": 0.2
             }
            },
            "type": "bar"
           }
          ],
          "barpolar": [
           {
            "marker": {
             "line": {
              "color": "#E5ECF6",
              "width": 0.5
             },
             "pattern": {
              "fillmode": "overlay",
              "size": 10,
              "solidity": 0.2
             }
            },
            "type": "barpolar"
           }
          ],
          "carpet": [
           {
            "aaxis": {
             "endlinecolor": "#2a3f5f",
             "gridcolor": "white",
             "linecolor": "white",
             "minorgridcolor": "white",
             "startlinecolor": "#2a3f5f"
            },
            "baxis": {
             "endlinecolor": "#2a3f5f",
             "gridcolor": "white",
             "linecolor": "white",
             "minorgridcolor": "white",
             "startlinecolor": "#2a3f5f"
            },
            "type": "carpet"
           }
          ],
          "choropleth": [
           {
            "colorbar": {
             "outlinewidth": 0,
             "ticks": ""
            },
            "type": "choropleth"
           }
          ],
          "contour": [
           {
            "colorbar": {
             "outlinewidth": 0,
             "ticks": ""
            },
            "colorscale": [
             [
              0,
              "#0d0887"
             ],
             [
              0.1111111111111111,
              "#46039f"
             ],
             [
              0.2222222222222222,
              "#7201a8"
             ],
             [
              0.3333333333333333,
              "#9c179e"
             ],
             [
              0.4444444444444444,
              "#bd3786"
             ],
             [
              0.5555555555555556,
              "#d8576b"
             ],
             [
              0.6666666666666666,
              "#ed7953"
             ],
             [
              0.7777777777777778,
              "#fb9f3a"
             ],
             [
              0.8888888888888888,
              "#fdca26"
             ],
             [
              1,
              "#f0f921"
             ]
            ],
            "type": "contour"
           }
          ],
          "contourcarpet": [
           {
            "colorbar": {
             "outlinewidth": 0,
             "ticks": ""
            },
            "type": "contourcarpet"
           }
          ],
          "heatmap": [
           {
            "colorbar": {
             "outlinewidth": 0,
             "ticks": ""
            },
            "colorscale": [
             [
              0,
              "#0d0887"
             ],
             [
              0.1111111111111111,
              "#46039f"
             ],
             [
              0.2222222222222222,
              "#7201a8"
             ],
             [
              0.3333333333333333,
              "#9c179e"
             ],
             [
              0.4444444444444444,
              "#bd3786"
             ],
             [
              0.5555555555555556,
              "#d8576b"
             ],
             [
              0.6666666666666666,
              "#ed7953"
             ],
             [
              0.7777777777777778,
              "#fb9f3a"
             ],
             [
              0.8888888888888888,
              "#fdca26"
             ],
             [
              1,
              "#f0f921"
             ]
            ],
            "type": "heatmap"
           }
          ],
          "heatmapgl": [
           {
            "colorbar": {
             "outlinewidth": 0,
             "ticks": ""
            },
            "colorscale": [
             [
              0,
              "#0d0887"
             ],
             [
              0.1111111111111111,
              "#46039f"
             ],
             [
              0.2222222222222222,
              "#7201a8"
             ],
             [
              0.3333333333333333,
              "#9c179e"
             ],
             [
              0.4444444444444444,
              "#bd3786"
             ],
             [
              0.5555555555555556,
              "#d8576b"
             ],
             [
              0.6666666666666666,
              "#ed7953"
             ],
             [
              0.7777777777777778,
              "#fb9f3a"
             ],
             [
              0.8888888888888888,
              "#fdca26"
             ],
             [
              1,
              "#f0f921"
             ]
            ],
            "type": "heatmapgl"
           }
          ],
          "histogram": [
           {
            "marker": {
             "pattern": {
              "fillmode": "overlay",
              "size": 10,
              "solidity": 0.2
             }
            },
            "type": "histogram"
           }
          ],
          "histogram2d": [
           {
            "colorbar": {
             "outlinewidth": 0,
             "ticks": ""
            },
            "colorscale": [
             [
              0,
              "#0d0887"
             ],
             [
              0.1111111111111111,
              "#46039f"
             ],
             [
              0.2222222222222222,
              "#7201a8"
             ],
             [
              0.3333333333333333,
              "#9c179e"
             ],
             [
              0.4444444444444444,
              "#bd3786"
             ],
             [
              0.5555555555555556,
              "#d8576b"
             ],
             [
              0.6666666666666666,
              "#ed7953"
             ],
             [
              0.7777777777777778,
              "#fb9f3a"
             ],
             [
              0.8888888888888888,
              "#fdca26"
             ],
             [
              1,
              "#f0f921"
             ]
            ],
            "type": "histogram2d"
           }
          ],
          "histogram2dcontour": [
           {
            "colorbar": {
             "outlinewidth": 0,
             "ticks": ""
            },
            "colorscale": [
             [
              0,
              "#0d0887"
             ],
             [
              0.1111111111111111,
              "#46039f"
             ],
             [
              0.2222222222222222,
              "#7201a8"
             ],
             [
              0.3333333333333333,
              "#9c179e"
             ],
             [
              0.4444444444444444,
              "#bd3786"
             ],
             [
              0.5555555555555556,
              "#d8576b"
             ],
             [
              0.6666666666666666,
              "#ed7953"
             ],
             [
              0.7777777777777778,
              "#fb9f3a"
             ],
             [
              0.8888888888888888,
              "#fdca26"
             ],
             [
              1,
              "#f0f921"
             ]
            ],
            "type": "histogram2dcontour"
           }
          ],
          "mesh3d": [
           {
            "colorbar": {
             "outlinewidth": 0,
             "ticks": ""
            },
            "type": "mesh3d"
           }
          ],
          "parcoords": [
           {
            "line": {
             "colorbar": {
              "outlinewidth": 0,
              "ticks": ""
             }
            },
            "type": "parcoords"
           }
          ],
          "pie": [
           {
            "automargin": true,
            "type": "pie"
           }
          ],
          "scatter": [
           {
            "fillpattern": {
             "fillmode": "overlay",
             "size": 10,
             "solidity": 0.2
            },
            "type": "scatter"
           }
          ],
          "scatter3d": [
           {
            "line": {
             "colorbar": {
              "outlinewidth": 0,
              "ticks": ""
             }
            },
            "marker": {
             "colorbar": {
              "outlinewidth": 0,
              "ticks": ""
             }
            },
            "type": "scatter3d"
           }
          ],
          "scattercarpet": [
           {
            "marker": {
             "colorbar": {
              "outlinewidth": 0,
              "ticks": ""
             }
            },
            "type": "scattercarpet"
           }
          ],
          "scattergeo": [
           {
            "marker": {
             "colorbar": {
              "outlinewidth": 0,
              "ticks": ""
             }
            },
            "type": "scattergeo"
           }
          ],
          "scattergl": [
           {
            "marker": {
             "colorbar": {
              "outlinewidth": 0,
              "ticks": ""
             }
            },
            "type": "scattergl"
           }
          ],
          "scattermapbox": [
           {
            "marker": {
             "colorbar": {
              "outlinewidth": 0,
              "ticks": ""
             }
            },
            "type": "scattermapbox"
           }
          ],
          "scatterpolar": [
           {
            "marker": {
             "colorbar": {
              "outlinewidth": 0,
              "ticks": ""
             }
            },
            "type": "scatterpolar"
           }
          ],
          "scatterpolargl": [
           {
            "marker": {
             "colorbar": {
              "outlinewidth": 0,
              "ticks": ""
             }
            },
            "type": "scatterpolargl"
           }
          ],
          "scatterternary": [
           {
            "marker": {
             "colorbar": {
              "outlinewidth": 0,
              "ticks": ""
             }
            },
            "type": "scatterternary"
           }
          ],
          "surface": [
           {
            "colorbar": {
             "outlinewidth": 0,
             "ticks": ""
            },
            "colorscale": [
             [
              0,
              "#0d0887"
             ],
             [
              0.1111111111111111,
              "#46039f"
             ],
             [
              0.2222222222222222,
              "#7201a8"
             ],
             [
              0.3333333333333333,
              "#9c179e"
             ],
             [
              0.4444444444444444,
              "#bd3786"
             ],
             [
              0.5555555555555556,
              "#d8576b"
             ],
             [
              0.6666666666666666,
              "#ed7953"
             ],
             [
              0.7777777777777778,
              "#fb9f3a"
             ],
             [
              0.8888888888888888,
              "#fdca26"
             ],
             [
              1,
              "#f0f921"
             ]
            ],
            "type": "surface"
           }
          ],
          "table": [
           {
            "cells": {
             "fill": {
              "color": "#EBF0F8"
             },
             "line": {
              "color": "white"
             }
            },
            "header": {
             "fill": {
              "color": "#C8D4E3"
             },
             "line": {
              "color": "white"
             }
            },
            "type": "table"
           }
          ]
         },
         "layout": {
          "annotationdefaults": {
           "arrowcolor": "#2a3f5f",
           "arrowhead": 0,
           "arrowwidth": 1
          },
          "autotypenumbers": "strict",
          "coloraxis": {
           "colorbar": {
            "outlinewidth": 0,
            "ticks": ""
           }
          },
          "colorscale": {
           "diverging": [
            [
             0,
             "#8e0152"
            ],
            [
             0.1,
             "#c51b7d"
            ],
            [
             0.2,
             "#de77ae"
            ],
            [
             0.3,
             "#f1b6da"
            ],
            [
             0.4,
             "#fde0ef"
            ],
            [
             0.5,
             "#f7f7f7"
            ],
            [
             0.6,
             "#e6f5d0"
            ],
            [
             0.7,
             "#b8e186"
            ],
            [
             0.8,
             "#7fbc41"
            ],
            [
             0.9,
             "#4d9221"
            ],
            [
             1,
             "#276419"
            ]
           ],
           "sequential": [
            [
             0,
             "#0d0887"
            ],
            [
             0.1111111111111111,
             "#46039f"
            ],
            [
             0.2222222222222222,
             "#7201a8"
            ],
            [
             0.3333333333333333,
             "#9c179e"
            ],
            [
             0.4444444444444444,
             "#bd3786"
            ],
            [
             0.5555555555555556,
             "#d8576b"
            ],
            [
             0.6666666666666666,
             "#ed7953"
            ],
            [
             0.7777777777777778,
             "#fb9f3a"
            ],
            [
             0.8888888888888888,
             "#fdca26"
            ],
            [
             1,
             "#f0f921"
            ]
           ],
           "sequentialminus": [
            [
             0,
             "#0d0887"
            ],
            [
             0.1111111111111111,
             "#46039f"
            ],
            [
             0.2222222222222222,
             "#7201a8"
            ],
            [
             0.3333333333333333,
             "#9c179e"
            ],
            [
             0.4444444444444444,
             "#bd3786"
            ],
            [
             0.5555555555555556,
             "#d8576b"
            ],
            [
             0.6666666666666666,
             "#ed7953"
            ],
            [
             0.7777777777777778,
             "#fb9f3a"
            ],
            [
             0.8888888888888888,
             "#fdca26"
            ],
            [
             1,
             "#f0f921"
            ]
           ]
          },
          "colorway": [
           "#636efa",
           "#EF553B",
           "#00cc96",
           "#ab63fa",
           "#FFA15A",
           "#19d3f3",
           "#FF6692",
           "#B6E880",
           "#FF97FF",
           "#FECB52"
          ],
          "font": {
           "color": "#2a3f5f"
          },
          "geo": {
           "bgcolor": "white",
           "lakecolor": "white",
           "landcolor": "#E5ECF6",
           "showlakes": true,
           "showland": true,
           "subunitcolor": "white"
          },
          "hoverlabel": {
           "align": "left"
          },
          "hovermode": "closest",
          "mapbox": {
           "style": "light"
          },
          "paper_bgcolor": "white",
          "plot_bgcolor": "#E5ECF6",
          "polar": {
           "angularaxis": {
            "gridcolor": "white",
            "linecolor": "white",
            "ticks": ""
           },
           "bgcolor": "#E5ECF6",
           "radialaxis": {
            "gridcolor": "white",
            "linecolor": "white",
            "ticks": ""
           }
          },
          "scene": {
           "xaxis": {
            "backgroundcolor": "#E5ECF6",
            "gridcolor": "white",
            "gridwidth": 2,
            "linecolor": "white",
            "showbackground": true,
            "ticks": "",
            "zerolinecolor": "white"
           },
           "yaxis": {
            "backgroundcolor": "#E5ECF6",
            "gridcolor": "white",
            "gridwidth": 2,
            "linecolor": "white",
            "showbackground": true,
            "ticks": "",
            "zerolinecolor": "white"
           },
           "zaxis": {
            "backgroundcolor": "#E5ECF6",
            "gridcolor": "white",
            "gridwidth": 2,
            "linecolor": "white",
            "showbackground": true,
            "ticks": "",
            "zerolinecolor": "white"
           }
          },
          "shapedefaults": {
           "line": {
            "color": "#2a3f5f"
           }
          },
          "ternary": {
           "aaxis": {
            "gridcolor": "white",
            "linecolor": "white",
            "ticks": ""
           },
           "baxis": {
            "gridcolor": "white",
            "linecolor": "white",
            "ticks": ""
           },
           "bgcolor": "#E5ECF6",
           "caxis": {
            "gridcolor": "white",
            "linecolor": "white",
            "ticks": ""
           }
          },
          "title": {
           "x": 0.05
          },
          "xaxis": {
           "automargin": true,
           "gridcolor": "white",
           "linecolor": "white",
           "ticks": "",
           "title": {
            "standoff": 15
           },
           "zerolinecolor": "white",
           "zerolinewidth": 2
          },
          "yaxis": {
           "automargin": true,
           "gridcolor": "white",
           "linecolor": "white",
           "ticks": "",
           "title": {
            "standoff": 15
           },
           "zerolinecolor": "white",
           "zerolinewidth": 2
          }
         }
        },
        "title": {
         "text": "MAE Comparison: Baseline vs SARIMAX (2022 & 2023)"
        },
        "width": 1200,
        "xaxis": {
         "anchor": "y",
         "domain": [
          0,
          0.45
         ]
        },
        "xaxis2": {
         "anchor": "y2",
         "domain": [
          0.55,
          1
         ]
        },
        "yaxis": {
         "anchor": "x",
         "domain": [
          0,
          1
         ],
         "gridcolor": "lightgrey",
         "showgrid": true,
         "showticklabels": false,
         "title": {},
         "zeroline": false
        },
        "yaxis2": {
         "anchor": "x2",
         "domain": [
          0,
          1
         ],
         "gridcolor": "lightgrey",
         "showgrid": true,
         "showticklabels": false,
         "title": {},
         "zeroline": false
        }
       }
      }
     },
     "metadata": {},
     "output_type": "display_data"
    }
   ],
   "source": [
    "import pandas as pd\n",
    "import plotly.subplots as sp\n",
    "import plotly.graph_objects as go\n",
    "\n",
    "# Load the dataset\n",
    "file_path = r\"C:\\\\Users\\\\c.hakker\\\\OneDrive - VISTA college\\\\Senior Stuff\\\\Opleiding Data science\\\\Data\\\\baseline-mean-errors-80072ned.xlsx\"\n",
    "data = pd.read_excel(file_path)\n",
    "\n",
    "# Clean the dataset by identifying models\n",
    "data['Model'] = data['sbi_title'].apply(lambda x: 'Baseline' if 'Baseline' in x else 'SARIMAX')\n",
    "data['Cleaned_Branch'] = data['sbi_title'].str.replace(\"Baseline \", \"\").str.replace(\"SARIMAX \", \"\")\n",
    "\n",
    "# Filter data for 2022 and 2023\n",
    "filtered_data = data[data['Year'].isin([2022, 2023])]\n",
    "\n",
    "# Define custom colors for each branch\n",
    "sarimax_colors = {'C Manufacturing': '#5fb5db', 'G Trade': '#3f9abf', 'Q Healthcare': '#006789'}\n",
    "baseline_colors = {'C Manufacturing': '#febf01', 'G Trade': '#deaa00', 'Q Healthcare': '#fe9001'}\n",
    "\n",
    "# Initialize subplots with two vertical charts (2022 and 2023)\n",
    "fig = sp.make_subplots(rows=1, cols=2, subplot_titles=(\"2022\", \"2023\"))\n",
    "\n",
    "# Track added models to avoid duplicate legend entries\n",
    "added_legends = set()\n",
    "\n",
    "# Loop through each year and correctly assign bars to the respective subplot column\n",
    "for col, year in enumerate([2022, 2023], start=1):\n",
    "    year_data = filtered_data[filtered_data['Year'] == year]\n",
    "    year_data = year_data.groupby(['Cleaned_Branch', 'quarter', 'Model']).agg({'MAE': 'mean'}).reset_index()\n",
    "\n",
    "    # Loop through each branch and quarter\n",
    "    for branch in year_data['Cleaned_Branch'].unique():\n",
    "        branch_data = year_data[year_data['Cleaned_Branch'] == branch]\n",
    "        for quarter in range(1, 5):\n",
    "            quarter_data = branch_data[branch_data['quarter'] == quarter]\n",
    "            baseline_mae = quarter_data[quarter_data['Model'] == 'Baseline']['MAE'].mean()\n",
    "            sarimax_mae = quarter_data[quarter_data['Model'] == 'SARIMAX']['MAE'].mean()\n",
    "\n",
    "            # X-axis label\n",
    "            x_label = f\"{branch} Q{quarter}\"\n",
    "\n",
    "            # Add Baseline bar\n",
    "            fig.add_trace(go.Bar(\n",
    "                x=[x_label],\n",
    "                y=[baseline_mae],\n",
    "                name=f\"Baseline {branch}\" if f\"Baseline {branch}\" not in added_legends else None,\n",
    "                marker_color=baseline_colors.get(branch, '#bbbbbb'),\n",
    "                text=f\"{baseline_mae:.2f}\",\n",
    "                textposition=\"outside\",\n",
    "                textangle=0,  # Horizontal text\n",
    "                showlegend=f\"Baseline {branch}\" not in added_legends\n",
    "            ), row=1, col=col)\n",
    "\n",
    "            # Add SARIMAX bar\n",
    "            fig.add_trace(go.Bar(\n",
    "                x=[x_label],\n",
    "                y=[sarimax_mae],\n",
    "                name=f\"SARIMAX {branch}\" if f\"SARIMAX {branch}\" not in added_legends else None,\n",
    "                marker_color=sarimax_colors.get(branch, '#bbbbbb'),\n",
    "                text=f\"{sarimax_mae:.2f}\",\n",
    "                textposition=\"outside\",\n",
    "                textangle=0,  # Horizontal text\n",
    "                showlegend=f\"SARIMAX {branch}\" not in added_legends\n",
    "            ), row=1, col=col)\n",
    "\n",
    "            # Add to legends tracking set\n",
    "            added_legends.add(f\"Baseline {branch}\")\n",
    "            added_legends.add(f\"SARIMAX {branch}\")\n",
    "\n",
    "# Update Y-axis settings for both subplots\n",
    "fig.update_yaxes(showgrid=True, gridcolor=\"lightgrey\", zeroline=False, title=None, showticklabels=False, row=1, col=1)\n",
    "fig.update_yaxes(showgrid=True, gridcolor=\"lightgrey\", zeroline=False, title=None, showticklabels=False, row=1, col=2)\n",
    "\n",
    "# Update layout\n",
    "fig.update_layout(\n",
    "    title=\"MAE Comparison: Baseline vs SARIMAX (2022 & 2023)\",\n",
    "    barmode=\"stack\",\n",
    "    bargap=0.15,\n",
    "    width=1200,\n",
    "    height=600,\n",
    "    showlegend=True,\n",
    "    plot_bgcolor=\"white\",\n",
    "    paper_bgcolor=\"white\",\n",
    "    legend=dict(bordercolor=\"black\", borderwidth=1)\n",
    ")\n",
    "\n",
    "# Show the plot\n",
    "fig.show()\n"
   ]
  },
  {
   "cell_type": "code",
   "execution_count": null,
   "metadata": {},
   "outputs": [
    {
     "data": {
      "application/vnd.plotly.v1+json": {
       "config": {
        "plotlyServerURL": "https://plot.ly"
       },
       "data": [
        {
         "marker": {
          "color": "#febf01"
         },
         "name": "Baseline C Manufacturing",
         "showlegend": true,
         "text": "0.39",
         "textangle": 0,
         "textposition": "outside",
         "type": "bar",
         "x": [
          "C Manufacturing Q1"
         ],
         "xaxis": "x",
         "y": [
          0.3916
         ],
         "yaxis": "y"
        },
        {
         "marker": {
          "color": "#5fb5db"
         },
         "name": "SARIMAX C Manufacturing",
         "showlegend": true,
         "text": "0.13",
         "textangle": 0,
         "textposition": "outside",
         "type": "bar",
         "x": [
          "C Manufacturing Q1"
         ],
         "xaxis": "x",
         "y": [
          0.1346
         ],
         "yaxis": "y"
        },
        {
         "marker": {
          "color": "#febf01"
         },
         "showlegend": false,
         "text": "0.36",
         "textangle": 0,
         "textposition": "outside",
         "type": "bar",
         "x": [
          "C Manufacturing Q2"
         ],
         "xaxis": "x",
         "y": [
          0.3583
         ],
         "yaxis": "y"
        },
        {
         "marker": {
          "color": "#5fb5db"
         },
         "showlegend": false,
         "text": "0.06",
         "textangle": 0,
         "textposition": "outside",
         "type": "bar",
         "x": [
          "C Manufacturing Q2"
         ],
         "xaxis": "x",
         "y": [
          0.0556
         ],
         "yaxis": "y"
        },
        {
         "marker": {
          "color": "#febf01"
         },
         "showlegend": false,
         "text": "0.37",
         "textangle": 0,
         "textposition": "outside",
         "type": "bar",
         "x": [
          "C Manufacturing Q3"
         ],
         "xaxis": "x",
         "y": [
          0.3666
         ],
         "yaxis": "y"
        },
        {
         "marker": {
          "color": "#5fb5db"
         },
         "showlegend": false,
         "text": "0.06",
         "textangle": 0,
         "textposition": "outside",
         "type": "bar",
         "x": [
          "C Manufacturing Q3"
         ],
         "xaxis": "x",
         "y": [
          0.0604
         ],
         "yaxis": "y"
        },
        {
         "marker": {
          "color": "#febf01"
         },
         "showlegend": false,
         "text": "0.33",
         "textangle": 0,
         "textposition": "outside",
         "type": "bar",
         "x": [
          "C Manufacturing Q4"
         ],
         "xaxis": "x",
         "y": [
          0.3333
         ],
         "yaxis": "y"
        },
        {
         "marker": {
          "color": "#5fb5db"
         },
         "showlegend": false,
         "text": "0.12",
         "textangle": 0,
         "textposition": "outside",
         "type": "bar",
         "x": [
          "C Manufacturing Q4"
         ],
         "xaxis": "x",
         "y": [
          0.1171
         ],
         "yaxis": "y"
        },
        {
         "marker": {
          "color": "#deaa00"
         },
         "name": "Baseline G Trade",
         "showlegend": true,
         "text": "0.40",
         "textangle": 0,
         "textposition": "outside",
         "type": "bar",
         "x": [
          "G Trade Q1"
         ],
         "xaxis": "x",
         "y": [
          0.3958
         ],
         "yaxis": "y"
        },
        {
         "marker": {
          "color": "#3f9abf"
         },
         "name": "SARIMAX G Trade",
         "showlegend": true,
         "text": "0.05",
         "textangle": 0,
         "textposition": "outside",
         "type": "bar",
         "x": [
          "G Trade Q1"
         ],
         "xaxis": "x",
         "y": [
          0.0502
         ],
         "yaxis": "y"
        },
        {
         "marker": {
          "color": "#deaa00"
         },
         "showlegend": false,
         "text": "0.38",
         "textangle": 0,
         "textposition": "outside",
         "type": "bar",
         "x": [
          "G Trade Q2"
         ],
         "xaxis": "x",
         "y": [
          0.3833
         ],
         "yaxis": "y"
        },
        {
         "marker": {
          "color": "#3f9abf"
         },
         "showlegend": false,
         "text": "0.20",
         "textangle": 0,
         "textposition": "outside",
         "type": "bar",
         "x": [
          "G Trade Q2"
         ],
         "xaxis": "x",
         "y": [
          0.1983
         ],
         "yaxis": "y"
        },
        {
         "marker": {
          "color": "#deaa00"
         },
         "showlegend": false,
         "text": "0.37",
         "textangle": 0,
         "textposition": "outside",
         "type": "bar",
         "x": [
          "G Trade Q3"
         ],
         "xaxis": "x",
         "y": [
          0.3708
         ],
         "yaxis": "y"
        },
        {
         "marker": {
          "color": "#3f9abf"
         },
         "showlegend": false,
         "text": "0.19",
         "textangle": 0,
         "textposition": "outside",
         "type": "bar",
         "x": [
          "G Trade Q3"
         ],
         "xaxis": "x",
         "y": [
          0.1905
         ],
         "yaxis": "y"
        },
        {
         "marker": {
          "color": "#deaa00"
         },
         "showlegend": false,
         "text": "0.35",
         "textangle": 0,
         "textposition": "outside",
         "type": "bar",
         "x": [
          "G Trade Q4"
         ],
         "xaxis": "x",
         "y": [
          0.35
         ],
         "yaxis": "y"
        },
        {
         "marker": {
          "color": "#3f9abf"
         },
         "showlegend": false,
         "text": "0.25",
         "textangle": 0,
         "textposition": "outside",
         "type": "bar",
         "x": [
          "G Trade Q4"
         ],
         "xaxis": "x",
         "y": [
          0.246
         ],
         "yaxis": "y"
        },
        {
         "marker": {
          "color": "#fe9001"
         },
         "name": "Baseline Q Healthcare",
         "showlegend": true,
         "text": "0.50",
         "textangle": 0,
         "textposition": "outside",
         "type": "bar",
         "x": [
          "Q Healthcare Q1"
         ],
         "xaxis": "x",
         "y": [
          0.5041
         ],
         "yaxis": "y"
        },
        {
         "marker": {
          "color": "#006789"
         },
         "name": "SARIMAX Q Healthcare",
         "showlegend": true,
         "text": "0.13",
         "textangle": 0,
         "textposition": "outside",
         "type": "bar",
         "x": [
          "Q Healthcare Q1"
         ],
         "xaxis": "x",
         "y": [
          0.1339
         ],
         "yaxis": "y"
        },
        {
         "marker": {
          "color": "#fe9001"
         },
         "showlegend": false,
         "text": "0.47",
         "textangle": 0,
         "textposition": "outside",
         "type": "bar",
         "x": [
          "Q Healthcare Q2"
         ],
         "xaxis": "x",
         "y": [
          0.4666
         ],
         "yaxis": "y"
        },
        {
         "marker": {
          "color": "#006789"
         },
         "showlegend": false,
         "text": "0.35",
         "textangle": 0,
         "textposition": "outside",
         "type": "bar",
         "x": [
          "Q Healthcare Q2"
         ],
         "xaxis": "x",
         "y": [
          0.3499
         ],
         "yaxis": "y"
        },
        {
         "marker": {
          "color": "#fe9001"
         },
         "showlegend": false,
         "text": "0.48",
         "textangle": 0,
         "textposition": "outside",
         "type": "bar",
         "x": [
          "Q Healthcare Q3"
         ],
         "xaxis": "x",
         "y": [
          0.4791
         ],
         "yaxis": "y"
        },
        {
         "marker": {
          "color": "#006789"
         },
         "showlegend": false,
         "text": "0.06",
         "textangle": 0,
         "textposition": "outside",
         "type": "bar",
         "x": [
          "Q Healthcare Q3"
         ],
         "xaxis": "x",
         "y": [
          0.056
         ],
         "yaxis": "y"
        },
        {
         "marker": {
          "color": "#fe9001"
         },
         "showlegend": false,
         "text": "0.53",
         "textangle": 0,
         "textposition": "outside",
         "type": "bar",
         "x": [
          "Q Healthcare Q4"
         ],
         "xaxis": "x",
         "y": [
          0.5333
         ],
         "yaxis": "y"
        },
        {
         "marker": {
          "color": "#006789"
         },
         "showlegend": false,
         "text": "0.14",
         "textangle": 0,
         "textposition": "outside",
         "type": "bar",
         "x": [
          "Q Healthcare Q4"
         ],
         "xaxis": "x",
         "y": [
          0.1437
         ],
         "yaxis": "y"
        },
        {
         "marker": {
          "color": "#febf01"
         },
         "showlegend": false,
         "text": "0.39",
         "textangle": 0,
         "textposition": "outside",
         "type": "bar",
         "x": [
          "C Manufacturing Q1"
         ],
         "xaxis": "x2",
         "y": [
          0.3916
         ],
         "yaxis": "y2"
        },
        {
         "marker": {
          "color": "#5fb5db"
         },
         "showlegend": false,
         "text": "0.16",
         "textangle": 0,
         "textposition": "outside",
         "type": "bar",
         "x": [
          "C Manufacturing Q1"
         ],
         "xaxis": "x2",
         "y": [
          0.1555
         ],
         "yaxis": "y2"
        },
        {
         "marker": {
          "color": "#febf01"
         },
         "showlegend": false,
         "text": "0.36",
         "textangle": 0,
         "textposition": "outside",
         "type": "bar",
         "x": [
          "C Manufacturing Q2"
         ],
         "xaxis": "x2",
         "y": [
          0.3583
         ],
         "yaxis": "y2"
        },
        {
         "marker": {
          "color": "#5fb5db"
         },
         "showlegend": false,
         "text": "0.14",
         "textangle": 0,
         "textposition": "outside",
         "type": "bar",
         "x": [
          "C Manufacturing Q2"
         ],
         "xaxis": "x2",
         "y": [
          0.1417
         ],
         "yaxis": "y2"
        },
        {
         "marker": {
          "color": "#febf01"
         },
         "showlegend": false,
         "text": "0.37",
         "textangle": 0,
         "textposition": "outside",
         "type": "bar",
         "x": [
          "C Manufacturing Q3"
         ],
         "xaxis": "x2",
         "y": [
          0.3666
         ],
         "yaxis": "y2"
        },
        {
         "marker": {
          "color": "#5fb5db"
         },
         "showlegend": false,
         "text": "0.11",
         "textangle": 0,
         "textposition": "outside",
         "type": "bar",
         "x": [
          "C Manufacturing Q3"
         ],
         "xaxis": "x2",
         "y": [
          0.1085
         ],
         "yaxis": "y2"
        },
        {
         "marker": {
          "color": "#febf01"
         },
         "showlegend": false,
         "text": "0.33",
         "textangle": 0,
         "textposition": "outside",
         "type": "bar",
         "x": [
          "C Manufacturing Q4"
         ],
         "xaxis": "x2",
         "y": [
          0.3333
         ],
         "yaxis": "y2"
        },
        {
         "marker": {
          "color": "#5fb5db"
         },
         "showlegend": false,
         "text": "0.03",
         "textangle": 0,
         "textposition": "outside",
         "type": "bar",
         "x": [
          "C Manufacturing Q4"
         ],
         "xaxis": "x2",
         "y": [
          0.0337
         ],
         "yaxis": "y2"
        },
        {
         "marker": {
          "color": "#deaa00"
         },
         "showlegend": false,
         "text": "0.40",
         "textangle": 0,
         "textposition": "outside",
         "type": "bar",
         "x": [
          "G Trade Q1"
         ],
         "xaxis": "x2",
         "y": [
          0.3958
         ],
         "yaxis": "y2"
        },
        {
         "marker": {
          "color": "#3f9abf"
         },
         "showlegend": false,
         "text": "0.02",
         "textangle": 0,
         "textposition": "outside",
         "type": "bar",
         "x": [
          "G Trade Q1"
         ],
         "xaxis": "x2",
         "y": [
          0.0219
         ],
         "yaxis": "y2"
        },
        {
         "marker": {
          "color": "#deaa00"
         },
         "showlegend": false,
         "text": "0.38",
         "textangle": 0,
         "textposition": "outside",
         "type": "bar",
         "x": [
          "G Trade Q2"
         ],
         "xaxis": "x2",
         "y": [
          0.3833
         ],
         "yaxis": "y2"
        },
        {
         "marker": {
          "color": "#3f9abf"
         },
         "showlegend": false,
         "text": "0.30",
         "textangle": 0,
         "textposition": "outside",
         "type": "bar",
         "x": [
          "G Trade Q2"
         ],
         "xaxis": "x2",
         "y": [
          0.2968
         ],
         "yaxis": "y2"
        },
        {
         "marker": {
          "color": "#deaa00"
         },
         "showlegend": false,
         "text": "0.37",
         "textangle": 0,
         "textposition": "outside",
         "type": "bar",
         "x": [
          "G Trade Q3"
         ],
         "xaxis": "x2",
         "y": [
          0.3708
         ],
         "yaxis": "y2"
        },
        {
         "marker": {
          "color": "#3f9abf"
         },
         "showlegend": false,
         "text": "0.35",
         "textangle": 0,
         "textposition": "outside",
         "type": "bar",
         "x": [
          "G Trade Q3"
         ],
         "xaxis": "x2",
         "y": [
          0.348
         ],
         "yaxis": "y2"
        },
        {
         "marker": {
          "color": "#deaa00"
         },
         "showlegend": false,
         "text": "0.35",
         "textangle": 0,
         "textposition": "outside",
         "type": "bar",
         "x": [
          "G Trade Q4"
         ],
         "xaxis": "x2",
         "y": [
          0.35
         ],
         "yaxis": "y2"
        },
        {
         "marker": {
          "color": "#3f9abf"
         },
         "showlegend": false,
         "text": "0.17",
         "textangle": 0,
         "textposition": "outside",
         "type": "bar",
         "x": [
          "G Trade Q4"
         ],
         "xaxis": "x2",
         "y": [
          0.1743
         ],
         "yaxis": "y2"
        },
        {
         "marker": {
          "color": "#fe9001"
         },
         "showlegend": false,
         "text": "0.50",
         "textangle": 0,
         "textposition": "outside",
         "type": "bar",
         "x": [
          "Q Healthcare Q1"
         ],
         "xaxis": "x2",
         "y": [
          0.5041
         ],
         "yaxis": "y2"
        },
        {
         "marker": {
          "color": "#006789"
         },
         "showlegend": false,
         "text": "0.05",
         "textangle": 0,
         "textposition": "outside",
         "type": "bar",
         "x": [
          "Q Healthcare Q1"
         ],
         "xaxis": "x2",
         "y": [
          0.0452
         ],
         "yaxis": "y2"
        },
        {
         "marker": {
          "color": "#fe9001"
         },
         "showlegend": false,
         "text": "0.47",
         "textangle": 0,
         "textposition": "outside",
         "type": "bar",
         "x": [
          "Q Healthcare Q2"
         ],
         "xaxis": "x2",
         "y": [
          0.4666
         ],
         "yaxis": "y2"
        },
        {
         "marker": {
          "color": "#006789"
         },
         "showlegend": false,
         "text": "0.56",
         "textangle": 0,
         "textposition": "outside",
         "type": "bar",
         "x": [
          "Q Healthcare Q2"
         ],
         "xaxis": "x2",
         "y": [
          0.562
         ],
         "yaxis": "y2"
        },
        {
         "marker": {
          "color": "#fe9001"
         },
         "showlegend": false,
         "text": "0.48",
         "textangle": 0,
         "textposition": "outside",
         "type": "bar",
         "x": [
          "Q Healthcare Q3"
         ],
         "xaxis": "x2",
         "y": [
          0.4791
         ],
         "yaxis": "y2"
        },
        {
         "marker": {
          "color": "#006789"
         },
         "showlegend": false,
         "text": "0.46",
         "textangle": 0,
         "textposition": "outside",
         "type": "bar",
         "x": [
          "Q Healthcare Q3"
         ],
         "xaxis": "x2",
         "y": [
          0.4584
         ],
         "yaxis": "y2"
        },
        {
         "marker": {
          "color": "#fe9001"
         },
         "showlegend": false,
         "text": "0.53",
         "textangle": 0,
         "textposition": "outside",
         "type": "bar",
         "x": [
          "Q Healthcare Q4"
         ],
         "xaxis": "x2",
         "y": [
          0.5333
         ],
         "yaxis": "y2"
        },
        {
         "marker": {
          "color": "#006789"
         },
         "showlegend": false,
         "text": "0.21",
         "textangle": 0,
         "textposition": "outside",
         "type": "bar",
         "x": [
          "Q Healthcare Q4"
         ],
         "xaxis": "x2",
         "y": [
          0.2073
         ],
         "yaxis": "y2"
        }
       ],
       "layout": {
        "annotations": [
         {
          "font": {
           "size": 16
          },
          "showarrow": false,
          "text": "2022",
          "x": 0.225,
          "xanchor": "center",
          "xref": "paper",
          "y": 1,
          "yanchor": "bottom",
          "yref": "paper"
         },
         {
          "font": {
           "size": 16
          },
          "showarrow": false,
          "text": "2023",
          "x": 0.775,
          "xanchor": "center",
          "xref": "paper",
          "y": 1,
          "yanchor": "bottom",
          "yref": "paper"
         }
        ],
        "bargap": 0.1,
        "barmode": "stack",
        "height": 600,
        "legend": {
         "bordercolor": "black",
         "borderwidth": 1
        },
        "paper_bgcolor": "white",
        "plot_bgcolor": "white",
        "showlegend": true,
        "template": {
         "data": {
          "bar": [
           {
            "error_x": {
             "color": "#2a3f5f"
            },
            "error_y": {
             "color": "#2a3f5f"
            },
            "marker": {
             "line": {
              "color": "#E5ECF6",
              "width": 0.5
             },
             "pattern": {
              "fillmode": "overlay",
              "size": 10,
              "solidity": 0.2
             }
            },
            "type": "bar"
           }
          ],
          "barpolar": [
           {
            "marker": {
             "line": {
              "color": "#E5ECF6",
              "width": 0.5
             },
             "pattern": {
              "fillmode": "overlay",
              "size": 10,
              "solidity": 0.2
             }
            },
            "type": "barpolar"
           }
          ],
          "carpet": [
           {
            "aaxis": {
             "endlinecolor": "#2a3f5f",
             "gridcolor": "white",
             "linecolor": "white",
             "minorgridcolor": "white",
             "startlinecolor": "#2a3f5f"
            },
            "baxis": {
             "endlinecolor": "#2a3f5f",
             "gridcolor": "white",
             "linecolor": "white",
             "minorgridcolor": "white",
             "startlinecolor": "#2a3f5f"
            },
            "type": "carpet"
           }
          ],
          "choropleth": [
           {
            "colorbar": {
             "outlinewidth": 0,
             "ticks": ""
            },
            "type": "choropleth"
           }
          ],
          "contour": [
           {
            "colorbar": {
             "outlinewidth": 0,
             "ticks": ""
            },
            "colorscale": [
             [
              0,
              "#0d0887"
             ],
             [
              0.1111111111111111,
              "#46039f"
             ],
             [
              0.2222222222222222,
              "#7201a8"
             ],
             [
              0.3333333333333333,
              "#9c179e"
             ],
             [
              0.4444444444444444,
              "#bd3786"
             ],
             [
              0.5555555555555556,
              "#d8576b"
             ],
             [
              0.6666666666666666,
              "#ed7953"
             ],
             [
              0.7777777777777778,
              "#fb9f3a"
             ],
             [
              0.8888888888888888,
              "#fdca26"
             ],
             [
              1,
              "#f0f921"
             ]
            ],
            "type": "contour"
           }
          ],
          "contourcarpet": [
           {
            "colorbar": {
             "outlinewidth": 0,
             "ticks": ""
            },
            "type": "contourcarpet"
           }
          ],
          "heatmap": [
           {
            "colorbar": {
             "outlinewidth": 0,
             "ticks": ""
            },
            "colorscale": [
             [
              0,
              "#0d0887"
             ],
             [
              0.1111111111111111,
              "#46039f"
             ],
             [
              0.2222222222222222,
              "#7201a8"
             ],
             [
              0.3333333333333333,
              "#9c179e"
             ],
             [
              0.4444444444444444,
              "#bd3786"
             ],
             [
              0.5555555555555556,
              "#d8576b"
             ],
             [
              0.6666666666666666,
              "#ed7953"
             ],
             [
              0.7777777777777778,
              "#fb9f3a"
             ],
             [
              0.8888888888888888,
              "#fdca26"
             ],
             [
              1,
              "#f0f921"
             ]
            ],
            "type": "heatmap"
           }
          ],
          "heatmapgl": [
           {
            "colorbar": {
             "outlinewidth": 0,
             "ticks": ""
            },
            "colorscale": [
             [
              0,
              "#0d0887"
             ],
             [
              0.1111111111111111,
              "#46039f"
             ],
             [
              0.2222222222222222,
              "#7201a8"
             ],
             [
              0.3333333333333333,
              "#9c179e"
             ],
             [
              0.4444444444444444,
              "#bd3786"
             ],
             [
              0.5555555555555556,
              "#d8576b"
             ],
             [
              0.6666666666666666,
              "#ed7953"
             ],
             [
              0.7777777777777778,
              "#fb9f3a"
             ],
             [
              0.8888888888888888,
              "#fdca26"
             ],
             [
              1,
              "#f0f921"
             ]
            ],
            "type": "heatmapgl"
           }
          ],
          "histogram": [
           {
            "marker": {
             "pattern": {
              "fillmode": "overlay",
              "size": 10,
              "solidity": 0.2
             }
            },
            "type": "histogram"
           }
          ],
          "histogram2d": [
           {
            "colorbar": {
             "outlinewidth": 0,
             "ticks": ""
            },
            "colorscale": [
             [
              0,
              "#0d0887"
             ],
             [
              0.1111111111111111,
              "#46039f"
             ],
             [
              0.2222222222222222,
              "#7201a8"
             ],
             [
              0.3333333333333333,
              "#9c179e"
             ],
             [
              0.4444444444444444,
              "#bd3786"
             ],
             [
              0.5555555555555556,
              "#d8576b"
             ],
             [
              0.6666666666666666,
              "#ed7953"
             ],
             [
              0.7777777777777778,
              "#fb9f3a"
             ],
             [
              0.8888888888888888,
              "#fdca26"
             ],
             [
              1,
              "#f0f921"
             ]
            ],
            "type": "histogram2d"
           }
          ],
          "histogram2dcontour": [
           {
            "colorbar": {
             "outlinewidth": 0,
             "ticks": ""
            },
            "colorscale": [
             [
              0,
              "#0d0887"
             ],
             [
              0.1111111111111111,
              "#46039f"
             ],
             [
              0.2222222222222222,
              "#7201a8"
             ],
             [
              0.3333333333333333,
              "#9c179e"
             ],
             [
              0.4444444444444444,
              "#bd3786"
             ],
             [
              0.5555555555555556,
              "#d8576b"
             ],
             [
              0.6666666666666666,
              "#ed7953"
             ],
             [
              0.7777777777777778,
              "#fb9f3a"
             ],
             [
              0.8888888888888888,
              "#fdca26"
             ],
             [
              1,
              "#f0f921"
             ]
            ],
            "type": "histogram2dcontour"
           }
          ],
          "mesh3d": [
           {
            "colorbar": {
             "outlinewidth": 0,
             "ticks": ""
            },
            "type": "mesh3d"
           }
          ],
          "parcoords": [
           {
            "line": {
             "colorbar": {
              "outlinewidth": 0,
              "ticks": ""
             }
            },
            "type": "parcoords"
           }
          ],
          "pie": [
           {
            "automargin": true,
            "type": "pie"
           }
          ],
          "scatter": [
           {
            "fillpattern": {
             "fillmode": "overlay",
             "size": 10,
             "solidity": 0.2
            },
            "type": "scatter"
           }
          ],
          "scatter3d": [
           {
            "line": {
             "colorbar": {
              "outlinewidth": 0,
              "ticks": ""
             }
            },
            "marker": {
             "colorbar": {
              "outlinewidth": 0,
              "ticks": ""
             }
            },
            "type": "scatter3d"
           }
          ],
          "scattercarpet": [
           {
            "marker": {
             "colorbar": {
              "outlinewidth": 0,
              "ticks": ""
             }
            },
            "type": "scattercarpet"
           }
          ],
          "scattergeo": [
           {
            "marker": {
             "colorbar": {
              "outlinewidth": 0,
              "ticks": ""
             }
            },
            "type": "scattergeo"
           }
          ],
          "scattergl": [
           {
            "marker": {
             "colorbar": {
              "outlinewidth": 0,
              "ticks": ""
             }
            },
            "type": "scattergl"
           }
          ],
          "scattermapbox": [
           {
            "marker": {
             "colorbar": {
              "outlinewidth": 0,
              "ticks": ""
             }
            },
            "type": "scattermapbox"
           }
          ],
          "scatterpolar": [
           {
            "marker": {
             "colorbar": {
              "outlinewidth": 0,
              "ticks": ""
             }
            },
            "type": "scatterpolar"
           }
          ],
          "scatterpolargl": [
           {
            "marker": {
             "colorbar": {
              "outlinewidth": 0,
              "ticks": ""
             }
            },
            "type": "scatterpolargl"
           }
          ],
          "scatterternary": [
           {
            "marker": {
             "colorbar": {
              "outlinewidth": 0,
              "ticks": ""
             }
            },
            "type": "scatterternary"
           }
          ],
          "surface": [
           {
            "colorbar": {
             "outlinewidth": 0,
             "ticks": ""
            },
            "colorscale": [
             [
              0,
              "#0d0887"
             ],
             [
              0.1111111111111111,
              "#46039f"
             ],
             [
              0.2222222222222222,
              "#7201a8"
             ],
             [
              0.3333333333333333,
              "#9c179e"
             ],
             [
              0.4444444444444444,
              "#bd3786"
             ],
             [
              0.5555555555555556,
              "#d8576b"
             ],
             [
              0.6666666666666666,
              "#ed7953"
             ],
             [
              0.7777777777777778,
              "#fb9f3a"
             ],
             [
              0.8888888888888888,
              "#fdca26"
             ],
             [
              1,
              "#f0f921"
             ]
            ],
            "type": "surface"
           }
          ],
          "table": [
           {
            "cells": {
             "fill": {
              "color": "#EBF0F8"
             },
             "line": {
              "color": "white"
             }
            },
            "header": {
             "fill": {
              "color": "#C8D4E3"
             },
             "line": {
              "color": "white"
             }
            },
            "type": "table"
           }
          ]
         },
         "layout": {
          "annotationdefaults": {
           "arrowcolor": "#2a3f5f",
           "arrowhead": 0,
           "arrowwidth": 1
          },
          "autotypenumbers": "strict",
          "coloraxis": {
           "colorbar": {
            "outlinewidth": 0,
            "ticks": ""
           }
          },
          "colorscale": {
           "diverging": [
            [
             0,
             "#8e0152"
            ],
            [
             0.1,
             "#c51b7d"
            ],
            [
             0.2,
             "#de77ae"
            ],
            [
             0.3,
             "#f1b6da"
            ],
            [
             0.4,
             "#fde0ef"
            ],
            [
             0.5,
             "#f7f7f7"
            ],
            [
             0.6,
             "#e6f5d0"
            ],
            [
             0.7,
             "#b8e186"
            ],
            [
             0.8,
             "#7fbc41"
            ],
            [
             0.9,
             "#4d9221"
            ],
            [
             1,
             "#276419"
            ]
           ],
           "sequential": [
            [
             0,
             "#0d0887"
            ],
            [
             0.1111111111111111,
             "#46039f"
            ],
            [
             0.2222222222222222,
             "#7201a8"
            ],
            [
             0.3333333333333333,
             "#9c179e"
            ],
            [
             0.4444444444444444,
             "#bd3786"
            ],
            [
             0.5555555555555556,
             "#d8576b"
            ],
            [
             0.6666666666666666,
             "#ed7953"
            ],
            [
             0.7777777777777778,
             "#fb9f3a"
            ],
            [
             0.8888888888888888,
             "#fdca26"
            ],
            [
             1,
             "#f0f921"
            ]
           ],
           "sequentialminus": [
            [
             0,
             "#0d0887"
            ],
            [
             0.1111111111111111,
             "#46039f"
            ],
            [
             0.2222222222222222,
             "#7201a8"
            ],
            [
             0.3333333333333333,
             "#9c179e"
            ],
            [
             0.4444444444444444,
             "#bd3786"
            ],
            [
             0.5555555555555556,
             "#d8576b"
            ],
            [
             0.6666666666666666,
             "#ed7953"
            ],
            [
             0.7777777777777778,
             "#fb9f3a"
            ],
            [
             0.8888888888888888,
             "#fdca26"
            ],
            [
             1,
             "#f0f921"
            ]
           ]
          },
          "colorway": [
           "#636efa",
           "#EF553B",
           "#00cc96",
           "#ab63fa",
           "#FFA15A",
           "#19d3f3",
           "#FF6692",
           "#B6E880",
           "#FF97FF",
           "#FECB52"
          ],
          "font": {
           "color": "#2a3f5f"
          },
          "geo": {
           "bgcolor": "white",
           "lakecolor": "white",
           "landcolor": "#E5ECF6",
           "showlakes": true,
           "showland": true,
           "subunitcolor": "white"
          },
          "hoverlabel": {
           "align": "left"
          },
          "hovermode": "closest",
          "mapbox": {
           "style": "light"
          },
          "paper_bgcolor": "white",
          "plot_bgcolor": "#E5ECF6",
          "polar": {
           "angularaxis": {
            "gridcolor": "white",
            "linecolor": "white",
            "ticks": ""
           },
           "bgcolor": "#E5ECF6",
           "radialaxis": {
            "gridcolor": "white",
            "linecolor": "white",
            "ticks": ""
           }
          },
          "scene": {
           "xaxis": {
            "backgroundcolor": "#E5ECF6",
            "gridcolor": "white",
            "gridwidth": 2,
            "linecolor": "white",
            "showbackground": true,
            "ticks": "",
            "zerolinecolor": "white"
           },
           "yaxis": {
            "backgroundcolor": "#E5ECF6",
            "gridcolor": "white",
            "gridwidth": 2,
            "linecolor": "white",
            "showbackground": true,
            "ticks": "",
            "zerolinecolor": "white"
           },
           "zaxis": {
            "backgroundcolor": "#E5ECF6",
            "gridcolor": "white",
            "gridwidth": 2,
            "linecolor": "white",
            "showbackground": true,
            "ticks": "",
            "zerolinecolor": "white"
           }
          },
          "shapedefaults": {
           "line": {
            "color": "#2a3f5f"
           }
          },
          "ternary": {
           "aaxis": {
            "gridcolor": "white",
            "linecolor": "white",
            "ticks": ""
           },
           "baxis": {
            "gridcolor": "white",
            "linecolor": "white",
            "ticks": ""
           },
           "bgcolor": "#E5ECF6",
           "caxis": {
            "gridcolor": "white",
            "linecolor": "white",
            "ticks": ""
           }
          },
          "title": {
           "x": 0.05
          },
          "xaxis": {
           "automargin": true,
           "gridcolor": "white",
           "linecolor": "white",
           "ticks": "",
           "title": {
            "standoff": 15
           },
           "zerolinecolor": "white",
           "zerolinewidth": 2
          },
          "yaxis": {
           "automargin": true,
           "gridcolor": "white",
           "linecolor": "white",
           "ticks": "",
           "title": {
            "standoff": 15
           },
           "zerolinecolor": "white",
           "zerolinewidth": 2
          }
         }
        },
        "title": {
         "text": "MAE Comparison: Baseline vs SARIMAX (2022 & 2023)"
        },
        "width": 1200,
        "xaxis": {
         "anchor": "y",
         "domain": [
          0,
          0.45
         ]
        },
        "xaxis2": {
         "anchor": "y2",
         "domain": [
          0.55,
          1
         ]
        },
        "yaxis": {
         "anchor": "x",
         "domain": [
          0,
          1
         ],
         "gridcolor": "lightgrey",
         "range": [
          0,
          0.662
         ],
         "showgrid": true,
         "showticklabels": false,
         "title": {},
         "zeroline": false
        },
        "yaxis2": {
         "anchor": "x2",
         "domain": [
          0,
          1
         ],
         "gridcolor": "lightgrey",
         "range": [
          0,
          0.662
         ],
         "showgrid": true,
         "showticklabels": false,
         "title": {},
         "zeroline": false
        }
       }
      }
     },
     "metadata": {},
     "output_type": "display_data"
    }
   ],
   "source": [
    "import pandas as pd\n",
    "import plotly.subplots as sp\n",
    "import plotly.graph_objects as go\n",
    "\n",
    "# Load the dataset\n",
    "file_path = r\"C:\\\\Users\\\\c.hakker\\\\OneDrive - VISTA college\\\\Senior Stuff\\\\Opleiding Data science\\\\Data\\\\baseline-mean-errors-80072ned.xlsx\"\n",
    "data = pd.read_excel(file_path)\n",
    "\n",
    "# Clean the dataset by identifying models\n",
    "data['Model'] = data['sbi_title'].apply(lambda x: 'Baseline' if 'Baseline' in x else 'SARIMAX')\n",
    "data['Cleaned_Branch'] = data['sbi_title'].str.replace(\"Baseline \", \"\").str.replace(\"SARIMAX \", \"\")\n",
    "\n",
    "# Filter data for 2022 and 2023\n",
    "filtered_data = data[data['Year'].isin([2022, 2023])]\n",
    "\n",
    "# Define custom colors for each branch\n",
    "sarimax_colors = {'C Manufacturing': '#5fb5db', 'G Trade': '#3f9abf', 'Q Healthcare': '#006789'}\n",
    "baseline_colors = {'C Manufacturing': '#febf01', 'G Trade': '#deaa00', 'Q Healthcare': '#fe9001'}\n",
    "\n",
    "# Initialize subplots with two vertical charts (2022 and 2023)\n",
    "fig = sp.make_subplots(rows=1, cols=2, subplot_titles=(\"2022\", \"2023\"))\n",
    "\n",
    "# Track added models to avoid duplicate legend entries\n",
    "added_legends = set()\n",
    "\n",
    "# Loop through each year and correctly assign bars to the respective subplot column\n",
    "for col, year in enumerate([2022, 2023], start=1):\n",
    "    year_data = filtered_data[filtered_data['Year'] == year]\n",
    "    year_data = year_data.groupby(['Cleaned_Branch', 'quarter', 'Model']).agg({'MAE': 'mean'}).reset_index()\n",
    "\n",
    "    # Loop through each branch and quarter\n",
    "    for branch in year_data['Cleaned_Branch'].unique():\n",
    "        branch_data = year_data[year_data['Cleaned_Branch'] == branch]\n",
    "        for quarter in range(1, 5):\n",
    "            quarter_data = branch_data[branch_data['quarter'] == quarter]\n",
    "            baseline_mae = quarter_data[quarter_data['Model'] == 'Baseline']['MAE'].mean()\n",
    "            sarimax_mae = quarter_data[quarter_data['Model'] == 'SARIMAX']['MAE'].mean()\n",
    "\n",
    "            # X-axis label\n",
    "            x_label = f\"{branch} Q{quarter}\"\n",
    "\n",
    "            # Add Baseline bar\n",
    "            fig.add_trace(go.Bar(\n",
    "                x=[x_label],\n",
    "                y=[baseline_mae],\n",
    "                name=f\"Baseline {branch}\" if f\"Baseline {branch}\" not in added_legends else None,\n",
    "                marker_color=baseline_colors.get(branch, '#bbbbbb'),\n",
    "                text=f\"{baseline_mae:.2f}\",\n",
    "                textposition=\"outside\",\n",
    "                textangle=0,  # Horizontal text\n",
    "                showlegend=f\"Baseline {branch}\" not in added_legends\n",
    "            ), row=1, col=col)\n",
    "\n",
    "            # Add SARIMAX bar\n",
    "            fig.add_trace(go.Bar(\n",
    "                x=[x_label],\n",
    "                y=[sarimax_mae],\n",
    "                name=f\"SARIMAX {branch}\" if f\"SARIMAX {branch}\" not in added_legends else None,\n",
    "                marker_color=sarimax_colors.get(branch, '#bbbbbb'),\n",
    "                text=f\"{sarimax_mae:.2f}\",\n",
    "                textposition=\"outside\",\n",
    "                textangle=0,  # Horizontal text\n",
    "                showlegend=f\"SARIMAX {branch}\" not in added_legends\n",
    "            ), row=1, col=col)\n",
    "\n",
    "            # Add to legends tracking set\n",
    "            added_legends.add(f\"Baseline {branch}\")\n",
    "            added_legends.add(f\"SARIMAX {branch}\")\n",
    "\n",
    "# Update Y-axis settings to ensure consistent gridlines and no labels\n",
    "fig.update_yaxes(\n",
    "    showgrid=True,\n",
    "    gridcolor=\"lightgrey\",\n",
    "    zeroline=False,\n",
    "    title=None,\n",
    "    showticklabels=False,\n",
    "    range=[0, max(filtered_data['MAE']) + 0.1],\n",
    "    row=1,\n",
    "    col=1\n",
    ")\n",
    "fig.update_yaxes(\n",
    "    showgrid=True,\n",
    "    gridcolor=\"lightgrey\",\n",
    "    zeroline=False,\n",
    "    title=None,\n",
    "    showticklabels=False,\n",
    "    range=[0, max(filtered_data['MAE']) + 0.1],\n",
    "    row=1,\n",
    "    col=2\n",
    ")\n",
    "\n",
    "# Update layout\n",
    "fig.update_layout(\n",
    "    title=\"MAE Comparison: Baseline vs SARIMAX (2022 & 2023)\",\n",
    "    barmode=\"stack\",\n",
    "    bargap=0.1,\n",
    "    width=1200,\n",
    "    height=600,\n",
    "    showlegend=True,\n",
    "    plot_bgcolor=\"white\",\n",
    "    paper_bgcolor=\"white\",\n",
    "    legend=dict(bordercolor=\"black\", borderwidth=1)\n",
    ")\n",
    "\n",
    "# Show the plot\n",
    "fig.show()\n",
    "\n",
    "\n"
   ]
  }
 ],
 "metadata": {
  "kernelspec": {
   "display_name": ".venv",
   "language": "python",
   "name": "python3"
  },
  "language_info": {
   "codemirror_mode": {
    "name": "ipython",
    "version": 3
   },
   "file_extension": ".py",
   "mimetype": "text/x-python",
   "name": "python",
   "nbconvert_exporter": "python",
   "pygments_lexer": "ipython3",
   "version": "3.12.3"
  }
 },
 "nbformat": 4,
 "nbformat_minor": 2
}
