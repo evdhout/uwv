{
 "cells": [
  {
   "cell_type": "code",
   "execution_count": 16,
   "metadata": {},
   "outputs": [
    {
     "data": {
      "application/vnd.plotly.v1+json": {
       "config": {
        "plotlyServerURL": "https://plot.ly"
       },
       "data": [
        {
         "marker": {
          "color": "#febf01"
         },
         "name": "Q Healthcare Baseline (2022)",
         "orientation": "h",
         "text": [
          "0.53"
         ],
         "textposition": "inside",
         "type": "bar",
         "x": [
          0.5333
         ],
         "y": [
          "Q Healthcare Q4"
         ]
        },
        {
         "marker": {
          "color": "#5fb5db"
         },
         "name": "Q Healthcare SARIMAX (2022)",
         "orientation": "h",
         "text": [
          "0.14"
         ],
         "textposition": "inside",
         "type": "bar",
         "x": [
          0.1437
         ],
         "y": [
          "Q Healthcare Q4"
         ]
        },
        {
         "marker": {
          "color": "#febf01"
         },
         "orientation": "h",
         "showlegend": false,
         "text": [
          "0.48"
         ],
         "textposition": "inside",
         "type": "bar",
         "x": [
          0.4791
         ],
         "y": [
          "Q Healthcare Q3"
         ]
        },
        {
         "marker": {
          "color": "#5fb5db"
         },
         "orientation": "h",
         "showlegend": false,
         "text": [
          "0.06"
         ],
         "textposition": "inside",
         "type": "bar",
         "x": [
          0.0561
         ],
         "y": [
          "Q Healthcare Q3"
         ]
        },
        {
         "marker": {
          "color": "#febf01"
         },
         "orientation": "h",
         "showlegend": false,
         "text": [
          "0.47"
         ],
         "textposition": "inside",
         "type": "bar",
         "x": [
          0.4666
         ],
         "y": [
          "Q Healthcare Q2"
         ]
        },
        {
         "marker": {
          "color": "#5fb5db"
         },
         "orientation": "h",
         "showlegend": false,
         "text": [
          "0.35"
         ],
         "textposition": "inside",
         "type": "bar",
         "x": [
          0.3499
         ],
         "y": [
          "Q Healthcare Q2"
         ]
        },
        {
         "marker": {
          "color": "#febf01"
         },
         "orientation": "h",
         "showlegend": false,
         "text": [
          "0.50"
         ],
         "textposition": "inside",
         "type": "bar",
         "x": [
          0.5041
         ],
         "y": [
          "Q Healthcare Q1"
         ]
        },
        {
         "marker": {
          "color": "#5fb5db"
         },
         "orientation": "h",
         "showlegend": false,
         "text": [
          "0.13"
         ],
         "textposition": "inside",
         "type": "bar",
         "x": [
          0.134
         ],
         "y": [
          "Q Healthcare Q1"
         ]
        },
        {
         "marker": {
          "color": "#fe9001"
         },
         "name": "G Trade Baseline (2022)",
         "orientation": "h",
         "text": [
          "0.35"
         ],
         "textposition": "inside",
         "type": "bar",
         "x": [
          0.35
         ],
         "y": [
          "G Trade Q4"
         ]
        },
        {
         "marker": {
          "color": "#006789"
         },
         "name": "G Trade SARIMAX (2022)",
         "orientation": "h",
         "text": [
          "0.25"
         ],
         "textposition": "inside",
         "type": "bar",
         "x": [
          0.246
         ],
         "y": [
          "G Trade Q4"
         ]
        },
        {
         "marker": {
          "color": "#fe9001"
         },
         "orientation": "h",
         "showlegend": false,
         "text": [
          "0.37"
         ],
         "textposition": "inside",
         "type": "bar",
         "x": [
          0.3708
         ],
         "y": [
          "G Trade Q3"
         ]
        },
        {
         "marker": {
          "color": "#006789"
         },
         "orientation": "h",
         "showlegend": false,
         "text": [
          "0.19"
         ],
         "textposition": "inside",
         "type": "bar",
         "x": [
          0.1905
         ],
         "y": [
          "G Trade Q3"
         ]
        },
        {
         "marker": {
          "color": "#fe9001"
         },
         "orientation": "h",
         "showlegend": false,
         "text": [
          "0.38"
         ],
         "textposition": "inside",
         "type": "bar",
         "x": [
          0.3833
         ],
         "y": [
          "G Trade Q2"
         ]
        },
        {
         "marker": {
          "color": "#006789"
         },
         "orientation": "h",
         "showlegend": false,
         "text": [
          "0.20"
         ],
         "textposition": "inside",
         "type": "bar",
         "x": [
          0.1983
         ],
         "y": [
          "G Trade Q2"
         ]
        },
        {
         "marker": {
          "color": "#fe9001"
         },
         "orientation": "h",
         "showlegend": false,
         "text": [
          "0.40"
         ],
         "textposition": "inside",
         "type": "bar",
         "x": [
          0.3958
         ],
         "y": [
          "G Trade Q1"
         ]
        },
        {
         "marker": {
          "color": "#006789"
         },
         "orientation": "h",
         "showlegend": false,
         "text": [
          "0.05"
         ],
         "textposition": "inside",
         "type": "bar",
         "x": [
          0.0502
         ],
         "y": [
          "G Trade Q1"
         ]
        },
        {
         "marker": {
          "color": "#deaa00"
         },
         "name": "C Manufacturing Baseline (2022)",
         "orientation": "h",
         "text": [
          "0.33"
         ],
         "textposition": "inside",
         "type": "bar",
         "x": [
          0.3333
         ],
         "y": [
          "C Manufacturing Q4"
         ]
        },
        {
         "marker": {
          "color": "#3f9abf"
         },
         "name": "C Manufacturing SARIMAX (2022)",
         "orientation": "h",
         "text": [
          "0.07"
         ],
         "textposition": "inside",
         "type": "bar",
         "x": [
          0.0712
         ],
         "y": [
          "C Manufacturing Q4"
         ]
        },
        {
         "marker": {
          "color": "#deaa00"
         },
         "orientation": "h",
         "showlegend": false,
         "text": [
          "0.37"
         ],
         "textposition": "inside",
         "type": "bar",
         "x": [
          0.3666
         ],
         "y": [
          "C Manufacturing Q3"
         ]
        },
        {
         "marker": {
          "color": "#3f9abf"
         },
         "orientation": "h",
         "showlegend": false,
         "text": [
          "0.23"
         ],
         "textposition": "inside",
         "type": "bar",
         "x": [
          0.2311
         ],
         "y": [
          "C Manufacturing Q3"
         ]
        },
        {
         "marker": {
          "color": "#deaa00"
         },
         "orientation": "h",
         "showlegend": false,
         "text": [
          "0.36"
         ],
         "textposition": "inside",
         "type": "bar",
         "x": [
          0.3583
         ],
         "y": [
          "C Manufacturing Q2"
         ]
        },
        {
         "marker": {
          "color": "#3f9abf"
         },
         "orientation": "h",
         "showlegend": false,
         "text": [
          "0.14"
         ],
         "textposition": "inside",
         "type": "bar",
         "x": [
          0.141
         ],
         "y": [
          "C Manufacturing Q2"
         ]
        },
        {
         "marker": {
          "color": "#deaa00"
         },
         "orientation": "h",
         "showlegend": false,
         "text": [
          "0.39"
         ],
         "textposition": "inside",
         "type": "bar",
         "x": [
          0.39166
         ],
         "y": [
          "C Manufacturing Q1"
         ]
        },
        {
         "marker": {
          "color": "#3f9abf"
         },
         "orientation": "h",
         "showlegend": false,
         "text": [
          "0.15"
         ],
         "textposition": "inside",
         "type": "bar",
         "x": [
          0.1503
         ],
         "y": [
          "C Manufacturing Q1"
         ]
        }
       ],
       "layout": {
        "barmode": "stack",
        "legend": {
         "title": {
          "text": "Model"
         }
        },
        "template": {
         "data": {
          "bar": [
           {
            "error_x": {
             "color": "#2a3f5f"
            },
            "error_y": {
             "color": "#2a3f5f"
            },
            "marker": {
             "line": {
              "color": "white",
              "width": 0.5
             },
             "pattern": {
              "fillmode": "overlay",
              "size": 10,
              "solidity": 0.2
             }
            },
            "type": "bar"
           }
          ],
          "barpolar": [
           {
            "marker": {
             "line": {
              "color": "white",
              "width": 0.5
             },
             "pattern": {
              "fillmode": "overlay",
              "size": 10,
              "solidity": 0.2
             }
            },
            "type": "barpolar"
           }
          ],
          "carpet": [
           {
            "aaxis": {
             "endlinecolor": "#2a3f5f",
             "gridcolor": "#C8D4E3",
             "linecolor": "#C8D4E3",
             "minorgridcolor": "#C8D4E3",
             "startlinecolor": "#2a3f5f"
            },
            "baxis": {
             "endlinecolor": "#2a3f5f",
             "gridcolor": "#C8D4E3",
             "linecolor": "#C8D4E3",
             "minorgridcolor": "#C8D4E3",
             "startlinecolor": "#2a3f5f"
            },
            "type": "carpet"
           }
          ],
          "choropleth": [
           {
            "colorbar": {
             "outlinewidth": 0,
             "ticks": ""
            },
            "type": "choropleth"
           }
          ],
          "contour": [
           {
            "colorbar": {
             "outlinewidth": 0,
             "ticks": ""
            },
            "colorscale": [
             [
              0,
              "#0d0887"
             ],
             [
              0.1111111111111111,
              "#46039f"
             ],
             [
              0.2222222222222222,
              "#7201a8"
             ],
             [
              0.3333333333333333,
              "#9c179e"
             ],
             [
              0.4444444444444444,
              "#bd3786"
             ],
             [
              0.5555555555555556,
              "#d8576b"
             ],
             [
              0.6666666666666666,
              "#ed7953"
             ],
             [
              0.7777777777777778,
              "#fb9f3a"
             ],
             [
              0.8888888888888888,
              "#fdca26"
             ],
             [
              1,
              "#f0f921"
             ]
            ],
            "type": "contour"
           }
          ],
          "contourcarpet": [
           {
            "colorbar": {
             "outlinewidth": 0,
             "ticks": ""
            },
            "type": "contourcarpet"
           }
          ],
          "heatmap": [
           {
            "colorbar": {
             "outlinewidth": 0,
             "ticks": ""
            },
            "colorscale": [
             [
              0,
              "#0d0887"
             ],
             [
              0.1111111111111111,
              "#46039f"
             ],
             [
              0.2222222222222222,
              "#7201a8"
             ],
             [
              0.3333333333333333,
              "#9c179e"
             ],
             [
              0.4444444444444444,
              "#bd3786"
             ],
             [
              0.5555555555555556,
              "#d8576b"
             ],
             [
              0.6666666666666666,
              "#ed7953"
             ],
             [
              0.7777777777777778,
              "#fb9f3a"
             ],
             [
              0.8888888888888888,
              "#fdca26"
             ],
             [
              1,
              "#f0f921"
             ]
            ],
            "type": "heatmap"
           }
          ],
          "heatmapgl": [
           {
            "colorbar": {
             "outlinewidth": 0,
             "ticks": ""
            },
            "colorscale": [
             [
              0,
              "#0d0887"
             ],
             [
              0.1111111111111111,
              "#46039f"
             ],
             [
              0.2222222222222222,
              "#7201a8"
             ],
             [
              0.3333333333333333,
              "#9c179e"
             ],
             [
              0.4444444444444444,
              "#bd3786"
             ],
             [
              0.5555555555555556,
              "#d8576b"
             ],
             [
              0.6666666666666666,
              "#ed7953"
             ],
             [
              0.7777777777777778,
              "#fb9f3a"
             ],
             [
              0.8888888888888888,
              "#fdca26"
             ],
             [
              1,
              "#f0f921"
             ]
            ],
            "type": "heatmapgl"
           }
          ],
          "histogram": [
           {
            "marker": {
             "pattern": {
              "fillmode": "overlay",
              "size": 10,
              "solidity": 0.2
             }
            },
            "type": "histogram"
           }
          ],
          "histogram2d": [
           {
            "colorbar": {
             "outlinewidth": 0,
             "ticks": ""
            },
            "colorscale": [
             [
              0,
              "#0d0887"
             ],
             [
              0.1111111111111111,
              "#46039f"
             ],
             [
              0.2222222222222222,
              "#7201a8"
             ],
             [
              0.3333333333333333,
              "#9c179e"
             ],
             [
              0.4444444444444444,
              "#bd3786"
             ],
             [
              0.5555555555555556,
              "#d8576b"
             ],
             [
              0.6666666666666666,
              "#ed7953"
             ],
             [
              0.7777777777777778,
              "#fb9f3a"
             ],
             [
              0.8888888888888888,
              "#fdca26"
             ],
             [
              1,
              "#f0f921"
             ]
            ],
            "type": "histogram2d"
           }
          ],
          "histogram2dcontour": [
           {
            "colorbar": {
             "outlinewidth": 0,
             "ticks": ""
            },
            "colorscale": [
             [
              0,
              "#0d0887"
             ],
             [
              0.1111111111111111,
              "#46039f"
             ],
             [
              0.2222222222222222,
              "#7201a8"
             ],
             [
              0.3333333333333333,
              "#9c179e"
             ],
             [
              0.4444444444444444,
              "#bd3786"
             ],
             [
              0.5555555555555556,
              "#d8576b"
             ],
             [
              0.6666666666666666,
              "#ed7953"
             ],
             [
              0.7777777777777778,
              "#fb9f3a"
             ],
             [
              0.8888888888888888,
              "#fdca26"
             ],
             [
              1,
              "#f0f921"
             ]
            ],
            "type": "histogram2dcontour"
           }
          ],
          "mesh3d": [
           {
            "colorbar": {
             "outlinewidth": 0,
             "ticks": ""
            },
            "type": "mesh3d"
           }
          ],
          "parcoords": [
           {
            "line": {
             "colorbar": {
              "outlinewidth": 0,
              "ticks": ""
             }
            },
            "type": "parcoords"
           }
          ],
          "pie": [
           {
            "automargin": true,
            "type": "pie"
           }
          ],
          "scatter": [
           {
            "fillpattern": {
             "fillmode": "overlay",
             "size": 10,
             "solidity": 0.2
            },
            "type": "scatter"
           }
          ],
          "scatter3d": [
           {
            "line": {
             "colorbar": {
              "outlinewidth": 0,
              "ticks": ""
             }
            },
            "marker": {
             "colorbar": {
              "outlinewidth": 0,
              "ticks": ""
             }
            },
            "type": "scatter3d"
           }
          ],
          "scattercarpet": [
           {
            "marker": {
             "colorbar": {
              "outlinewidth": 0,
              "ticks": ""
             }
            },
            "type": "scattercarpet"
           }
          ],
          "scattergeo": [
           {
            "marker": {
             "colorbar": {
              "outlinewidth": 0,
              "ticks": ""
             }
            },
            "type": "scattergeo"
           }
          ],
          "scattergl": [
           {
            "marker": {
             "colorbar": {
              "outlinewidth": 0,
              "ticks": ""
             }
            },
            "type": "scattergl"
           }
          ],
          "scattermapbox": [
           {
            "marker": {
             "colorbar": {
              "outlinewidth": 0,
              "ticks": ""
             }
            },
            "type": "scattermapbox"
           }
          ],
          "scatterpolar": [
           {
            "marker": {
             "colorbar": {
              "outlinewidth": 0,
              "ticks": ""
             }
            },
            "type": "scatterpolar"
           }
          ],
          "scatterpolargl": [
           {
            "marker": {
             "colorbar": {
              "outlinewidth": 0,
              "ticks": ""
             }
            },
            "type": "scatterpolargl"
           }
          ],
          "scatterternary": [
           {
            "marker": {
             "colorbar": {
              "outlinewidth": 0,
              "ticks": ""
             }
            },
            "type": "scatterternary"
           }
          ],
          "surface": [
           {
            "colorbar": {
             "outlinewidth": 0,
             "ticks": ""
            },
            "colorscale": [
             [
              0,
              "#0d0887"
             ],
             [
              0.1111111111111111,
              "#46039f"
             ],
             [
              0.2222222222222222,
              "#7201a8"
             ],
             [
              0.3333333333333333,
              "#9c179e"
             ],
             [
              0.4444444444444444,
              "#bd3786"
             ],
             [
              0.5555555555555556,
              "#d8576b"
             ],
             [
              0.6666666666666666,
              "#ed7953"
             ],
             [
              0.7777777777777778,
              "#fb9f3a"
             ],
             [
              0.8888888888888888,
              "#fdca26"
             ],
             [
              1,
              "#f0f921"
             ]
            ],
            "type": "surface"
           }
          ],
          "table": [
           {
            "cells": {
             "fill": {
              "color": "#EBF0F8"
             },
             "line": {
              "color": "white"
             }
            },
            "header": {
             "fill": {
              "color": "#C8D4E3"
             },
             "line": {
              "color": "white"
             }
            },
            "type": "table"
           }
          ]
         },
         "layout": {
          "annotationdefaults": {
           "arrowcolor": "#2a3f5f",
           "arrowhead": 0,
           "arrowwidth": 1
          },
          "autotypenumbers": "strict",
          "coloraxis": {
           "colorbar": {
            "outlinewidth": 0,
            "ticks": ""
           }
          },
          "colorscale": {
           "diverging": [
            [
             0,
             "#8e0152"
            ],
            [
             0.1,
             "#c51b7d"
            ],
            [
             0.2,
             "#de77ae"
            ],
            [
             0.3,
             "#f1b6da"
            ],
            [
             0.4,
             "#fde0ef"
            ],
            [
             0.5,
             "#f7f7f7"
            ],
            [
             0.6,
             "#e6f5d0"
            ],
            [
             0.7,
             "#b8e186"
            ],
            [
             0.8,
             "#7fbc41"
            ],
            [
             0.9,
             "#4d9221"
            ],
            [
             1,
             "#276419"
            ]
           ],
           "sequential": [
            [
             0,
             "#0d0887"
            ],
            [
             0.1111111111111111,
             "#46039f"
            ],
            [
             0.2222222222222222,
             "#7201a8"
            ],
            [
             0.3333333333333333,
             "#9c179e"
            ],
            [
             0.4444444444444444,
             "#bd3786"
            ],
            [
             0.5555555555555556,
             "#d8576b"
            ],
            [
             0.6666666666666666,
             "#ed7953"
            ],
            [
             0.7777777777777778,
             "#fb9f3a"
            ],
            [
             0.8888888888888888,
             "#fdca26"
            ],
            [
             1,
             "#f0f921"
            ]
           ],
           "sequentialminus": [
            [
             0,
             "#0d0887"
            ],
            [
             0.1111111111111111,
             "#46039f"
            ],
            [
             0.2222222222222222,
             "#7201a8"
            ],
            [
             0.3333333333333333,
             "#9c179e"
            ],
            [
             0.4444444444444444,
             "#bd3786"
            ],
            [
             0.5555555555555556,
             "#d8576b"
            ],
            [
             0.6666666666666666,
             "#ed7953"
            ],
            [
             0.7777777777777778,
             "#fb9f3a"
            ],
            [
             0.8888888888888888,
             "#fdca26"
            ],
            [
             1,
             "#f0f921"
            ]
           ]
          },
          "colorway": [
           "#636efa",
           "#EF553B",
           "#00cc96",
           "#ab63fa",
           "#FFA15A",
           "#19d3f3",
           "#FF6692",
           "#B6E880",
           "#FF97FF",
           "#FECB52"
          ],
          "font": {
           "color": "#2a3f5f"
          },
          "geo": {
           "bgcolor": "white",
           "lakecolor": "white",
           "landcolor": "white",
           "showlakes": true,
           "showland": true,
           "subunitcolor": "#C8D4E3"
          },
          "hoverlabel": {
           "align": "left"
          },
          "hovermode": "closest",
          "mapbox": {
           "style": "light"
          },
          "paper_bgcolor": "white",
          "plot_bgcolor": "white",
          "polar": {
           "angularaxis": {
            "gridcolor": "#EBF0F8",
            "linecolor": "#EBF0F8",
            "ticks": ""
           },
           "bgcolor": "white",
           "radialaxis": {
            "gridcolor": "#EBF0F8",
            "linecolor": "#EBF0F8",
            "ticks": ""
           }
          },
          "scene": {
           "xaxis": {
            "backgroundcolor": "white",
            "gridcolor": "#DFE8F3",
            "gridwidth": 2,
            "linecolor": "#EBF0F8",
            "showbackground": true,
            "ticks": "",
            "zerolinecolor": "#EBF0F8"
           },
           "yaxis": {
            "backgroundcolor": "white",
            "gridcolor": "#DFE8F3",
            "gridwidth": 2,
            "linecolor": "#EBF0F8",
            "showbackground": true,
            "ticks": "",
            "zerolinecolor": "#EBF0F8"
           },
           "zaxis": {
            "backgroundcolor": "white",
            "gridcolor": "#DFE8F3",
            "gridwidth": 2,
            "linecolor": "#EBF0F8",
            "showbackground": true,
            "ticks": "",
            "zerolinecolor": "#EBF0F8"
           }
          },
          "shapedefaults": {
           "line": {
            "color": "#2a3f5f"
           }
          },
          "ternary": {
           "aaxis": {
            "gridcolor": "#DFE8F3",
            "linecolor": "#A2B1C6",
            "ticks": ""
           },
           "baxis": {
            "gridcolor": "#DFE8F3",
            "linecolor": "#A2B1C6",
            "ticks": ""
           },
           "bgcolor": "white",
           "caxis": {
            "gridcolor": "#DFE8F3",
            "linecolor": "#A2B1C6",
            "ticks": ""
           }
          },
          "title": {
           "x": 0.05
          },
          "xaxis": {
           "automargin": true,
           "gridcolor": "#EBF0F8",
           "linecolor": "#EBF0F8",
           "ticks": "",
           "title": {
            "standoff": 15
           },
           "zerolinecolor": "#EBF0F8",
           "zerolinewidth": 2
          },
          "yaxis": {
           "automargin": true,
           "gridcolor": "#EBF0F8",
           "linecolor": "#EBF0F8",
           "ticks": "",
           "title": {
            "standoff": 15
           },
           "zerolinecolor": "#EBF0F8",
           "zerolinewidth": 2
          }
         }
        },
        "title": {
         "text": "MAE Stacked Insights: Baseline vs SARIMAX Performance Across Quarters (2022)"
        },
        "xaxis": {
         "showticklabels": false,
         "title": {}
        },
        "yaxis": {
         "categoryarray": [
          "Q Healthcare Q4",
          "Q Healthcare Q3",
          "Q Healthcare Q2",
          "Q Healthcare Q1",
          "G Trade Q4",
          "G Trade Q3",
          "G Trade Q2",
          "G Trade Q1",
          "C Manufacturing Q4",
          "C Manufacturing Q3",
          "C Manufacturing Q2",
          "C Manufacturing Q1"
         ],
         "categoryorder": "array",
         "title": {
          "text": "Branch and Quarter"
         }
        }
       }
      }
     },
     "metadata": {},
     "output_type": "display_data"
    },
    {
     "data": {
      "application/vnd.plotly.v1+json": {
       "config": {
        "plotlyServerURL": "https://plot.ly"
       },
       "data": [
        {
         "marker": {
          "color": "#febf01"
         },
         "name": "Q Healthcare Baseline (2023)",
         "orientation": "h",
         "text": [
          "0.53"
         ],
         "textposition": "inside",
         "type": "bar",
         "x": [
          0.5333
         ],
         "y": [
          "Q Healthcare Q4"
         ]
        },
        {
         "marker": {
          "color": "#5fb5db"
         },
         "name": "Q Healthcare SARIMAX (2023)",
         "orientation": "h",
         "text": [
          "0.25"
         ],
         "textposition": "inside",
         "type": "bar",
         "x": [
          0.254
         ],
         "y": [
          "Q Healthcare Q4"
         ]
        },
        {
         "marker": {
          "color": "#febf01"
         },
         "orientation": "h",
         "showlegend": false,
         "text": [
          "0.48"
         ],
         "textposition": "inside",
         "type": "bar",
         "x": [
          0.4791
         ],
         "y": [
          "Q Healthcare Q3"
         ]
        },
        {
         "marker": {
          "color": "#5fb5db"
         },
         "orientation": "h",
         "showlegend": false,
         "text": [
          "0.35"
         ],
         "textposition": "inside",
         "type": "bar",
         "x": [
          0.3502
         ],
         "y": [
          "Q Healthcare Q3"
         ]
        },
        {
         "marker": {
          "color": "#febf01"
         },
         "orientation": "h",
         "showlegend": false,
         "text": [
          "0.47"
         ],
         "textposition": "inside",
         "type": "bar",
         "x": [
          0.4666
         ],
         "y": [
          "Q Healthcare Q2"
         ]
        },
        {
         "marker": {
          "color": "#5fb5db"
         },
         "orientation": "h",
         "showlegend": false,
         "text": [
          "0.43"
         ],
         "textposition": "inside",
         "type": "bar",
         "x": [
          0.4251
         ],
         "y": [
          "Q Healthcare Q2"
         ]
        },
        {
         "marker": {
          "color": "#febf01"
         },
         "orientation": "h",
         "showlegend": false,
         "text": [
          "0.50"
         ],
         "textposition": "inside",
         "type": "bar",
         "x": [
          0.5041
         ],
         "y": [
          "Q Healthcare Q1"
         ]
        },
        {
         "marker": {
          "color": "#5fb5db"
         },
         "orientation": "h",
         "showlegend": false,
         "text": [
          "0.14"
         ],
         "textposition": "inside",
         "type": "bar",
         "x": [
          0.1414
         ],
         "y": [
          "Q Healthcare Q1"
         ]
        },
        {
         "marker": {
          "color": "#fe9001"
         },
         "name": "G Trade Baseline (2023)",
         "orientation": "h",
         "text": [
          "0.35"
         ],
         "textposition": "inside",
         "type": "bar",
         "x": [
          0.35
         ],
         "y": [
          "G Trade Q4"
         ]
        },
        {
         "marker": {
          "color": "#006789"
         },
         "name": "G Trade SARIMAX (2023)",
         "orientation": "h",
         "text": [
          "0.17"
         ],
         "textposition": "inside",
         "type": "bar",
         "x": [
          0.1743
         ],
         "y": [
          "G Trade Q4"
         ]
        },
        {
         "marker": {
          "color": "#fe9001"
         },
         "orientation": "h",
         "showlegend": false,
         "text": [
          "0.37"
         ],
         "textposition": "inside",
         "type": "bar",
         "x": [
          0.3708
         ],
         "y": [
          "G Trade Q3"
         ]
        },
        {
         "marker": {
          "color": "#006789"
         },
         "orientation": "h",
         "showlegend": false,
         "text": [
          "0.35"
         ],
         "textposition": "inside",
         "type": "bar",
         "x": [
          0.348
         ],
         "y": [
          "G Trade Q3"
         ]
        },
        {
         "marker": {
          "color": "#fe9001"
         },
         "orientation": "h",
         "showlegend": false,
         "text": [
          "0.38"
         ],
         "textposition": "inside",
         "type": "bar",
         "x": [
          0.3833
         ],
         "y": [
          "G Trade Q2"
         ]
        },
        {
         "marker": {
          "color": "#006789"
         },
         "orientation": "h",
         "showlegend": false,
         "text": [
          "0.30"
         ],
         "textposition": "inside",
         "type": "bar",
         "x": [
          0.2968
         ],
         "y": [
          "G Trade Q2"
         ]
        },
        {
         "marker": {
          "color": "#fe9001"
         },
         "orientation": "h",
         "showlegend": false,
         "text": [
          "0.40"
         ],
         "textposition": "inside",
         "type": "bar",
         "x": [
          0.3958
         ],
         "y": [
          "G Trade Q1"
         ]
        },
        {
         "marker": {
          "color": "#006789"
         },
         "orientation": "h",
         "showlegend": false,
         "text": [
          "0.02"
         ],
         "textposition": "inside",
         "type": "bar",
         "x": [
          0.0219
         ],
         "y": [
          "G Trade Q1"
         ]
        },
        {
         "marker": {
          "color": "#deaa00"
         },
         "name": "C Manufacturing Baseline (2023)",
         "orientation": "h",
         "text": [
          "0.33"
         ],
         "textposition": "inside",
         "type": "bar",
         "x": [
          0.3333
         ],
         "y": [
          "C Manufacturing Q4"
         ]
        },
        {
         "marker": {
          "color": "#3f9abf"
         },
         "name": "C Manufacturing SARIMAX (2023)",
         "orientation": "h",
         "text": [
          "0.14"
         ],
         "textposition": "inside",
         "type": "bar",
         "x": [
          0.1439
         ],
         "y": [
          "C Manufacturing Q4"
         ]
        },
        {
         "marker": {
          "color": "#deaa00"
         },
         "orientation": "h",
         "showlegend": false,
         "text": [
          "0.37"
         ],
         "textposition": "inside",
         "type": "bar",
         "x": [
          0.3666
         ],
         "y": [
          "C Manufacturing Q3"
         ]
        },
        {
         "marker": {
          "color": "#3f9abf"
         },
         "orientation": "h",
         "showlegend": false,
         "text": [
          "0.25"
         ],
         "textposition": "inside",
         "type": "bar",
         "x": [
          0.2465
         ],
         "y": [
          "C Manufacturing Q3"
         ]
        },
        {
         "marker": {
          "color": "#deaa00"
         },
         "orientation": "h",
         "showlegend": false,
         "text": [
          "0.36"
         ],
         "textposition": "inside",
         "type": "bar",
         "x": [
          0.3583
         ],
         "y": [
          "C Manufacturing Q2"
         ]
        },
        {
         "marker": {
          "color": "#3f9abf"
         },
         "orientation": "h",
         "showlegend": false,
         "text": [
          "0.56"
         ],
         "textposition": "inside",
         "type": "bar",
         "x": [
          0.5554
         ],
         "y": [
          "C Manufacturing Q2"
         ]
        },
        {
         "marker": {
          "color": "#deaa00"
         },
         "orientation": "h",
         "showlegend": false,
         "text": [
          "0.39"
         ],
         "textposition": "inside",
         "type": "bar",
         "x": [
          0.3916
         ],
         "y": [
          "C Manufacturing Q1"
         ]
        },
        {
         "marker": {
          "color": "#3f9abf"
         },
         "orientation": "h",
         "showlegend": false,
         "text": [
          "0.19"
         ],
         "textposition": "inside",
         "type": "bar",
         "x": [
          0.1865
         ],
         "y": [
          "C Manufacturing Q1"
         ]
        }
       ],
       "layout": {
        "barmode": "stack",
        "legend": {
         "title": {
          "text": "Model"
         }
        },
        "template": {
         "data": {
          "bar": [
           {
            "error_x": {
             "color": "#2a3f5f"
            },
            "error_y": {
             "color": "#2a3f5f"
            },
            "marker": {
             "line": {
              "color": "white",
              "width": 0.5
             },
             "pattern": {
              "fillmode": "overlay",
              "size": 10,
              "solidity": 0.2
             }
            },
            "type": "bar"
           }
          ],
          "barpolar": [
           {
            "marker": {
             "line": {
              "color": "white",
              "width": 0.5
             },
             "pattern": {
              "fillmode": "overlay",
              "size": 10,
              "solidity": 0.2
             }
            },
            "type": "barpolar"
           }
          ],
          "carpet": [
           {
            "aaxis": {
             "endlinecolor": "#2a3f5f",
             "gridcolor": "#C8D4E3",
             "linecolor": "#C8D4E3",
             "minorgridcolor": "#C8D4E3",
             "startlinecolor": "#2a3f5f"
            },
            "baxis": {
             "endlinecolor": "#2a3f5f",
             "gridcolor": "#C8D4E3",
             "linecolor": "#C8D4E3",
             "minorgridcolor": "#C8D4E3",
             "startlinecolor": "#2a3f5f"
            },
            "type": "carpet"
           }
          ],
          "choropleth": [
           {
            "colorbar": {
             "outlinewidth": 0,
             "ticks": ""
            },
            "type": "choropleth"
           }
          ],
          "contour": [
           {
            "colorbar": {
             "outlinewidth": 0,
             "ticks": ""
            },
            "colorscale": [
             [
              0,
              "#0d0887"
             ],
             [
              0.1111111111111111,
              "#46039f"
             ],
             [
              0.2222222222222222,
              "#7201a8"
             ],
             [
              0.3333333333333333,
              "#9c179e"
             ],
             [
              0.4444444444444444,
              "#bd3786"
             ],
             [
              0.5555555555555556,
              "#d8576b"
             ],
             [
              0.6666666666666666,
              "#ed7953"
             ],
             [
              0.7777777777777778,
              "#fb9f3a"
             ],
             [
              0.8888888888888888,
              "#fdca26"
             ],
             [
              1,
              "#f0f921"
             ]
            ],
            "type": "contour"
           }
          ],
          "contourcarpet": [
           {
            "colorbar": {
             "outlinewidth": 0,
             "ticks": ""
            },
            "type": "contourcarpet"
           }
          ],
          "heatmap": [
           {
            "colorbar": {
             "outlinewidth": 0,
             "ticks": ""
            },
            "colorscale": [
             [
              0,
              "#0d0887"
             ],
             [
              0.1111111111111111,
              "#46039f"
             ],
             [
              0.2222222222222222,
              "#7201a8"
             ],
             [
              0.3333333333333333,
              "#9c179e"
             ],
             [
              0.4444444444444444,
              "#bd3786"
             ],
             [
              0.5555555555555556,
              "#d8576b"
             ],
             [
              0.6666666666666666,
              "#ed7953"
             ],
             [
              0.7777777777777778,
              "#fb9f3a"
             ],
             [
              0.8888888888888888,
              "#fdca26"
             ],
             [
              1,
              "#f0f921"
             ]
            ],
            "type": "heatmap"
           }
          ],
          "heatmapgl": [
           {
            "colorbar": {
             "outlinewidth": 0,
             "ticks": ""
            },
            "colorscale": [
             [
              0,
              "#0d0887"
             ],
             [
              0.1111111111111111,
              "#46039f"
             ],
             [
              0.2222222222222222,
              "#7201a8"
             ],
             [
              0.3333333333333333,
              "#9c179e"
             ],
             [
              0.4444444444444444,
              "#bd3786"
             ],
             [
              0.5555555555555556,
              "#d8576b"
             ],
             [
              0.6666666666666666,
              "#ed7953"
             ],
             [
              0.7777777777777778,
              "#fb9f3a"
             ],
             [
              0.8888888888888888,
              "#fdca26"
             ],
             [
              1,
              "#f0f921"
             ]
            ],
            "type": "heatmapgl"
           }
          ],
          "histogram": [
           {
            "marker": {
             "pattern": {
              "fillmode": "overlay",
              "size": 10,
              "solidity": 0.2
             }
            },
            "type": "histogram"
           }
          ],
          "histogram2d": [
           {
            "colorbar": {
             "outlinewidth": 0,
             "ticks": ""
            },
            "colorscale": [
             [
              0,
              "#0d0887"
             ],
             [
              0.1111111111111111,
              "#46039f"
             ],
             [
              0.2222222222222222,
              "#7201a8"
             ],
             [
              0.3333333333333333,
              "#9c179e"
             ],
             [
              0.4444444444444444,
              "#bd3786"
             ],
             [
              0.5555555555555556,
              "#d8576b"
             ],
             [
              0.6666666666666666,
              "#ed7953"
             ],
             [
              0.7777777777777778,
              "#fb9f3a"
             ],
             [
              0.8888888888888888,
              "#fdca26"
             ],
             [
              1,
              "#f0f921"
             ]
            ],
            "type": "histogram2d"
           }
          ],
          "histogram2dcontour": [
           {
            "colorbar": {
             "outlinewidth": 0,
             "ticks": ""
            },
            "colorscale": [
             [
              0,
              "#0d0887"
             ],
             [
              0.1111111111111111,
              "#46039f"
             ],
             [
              0.2222222222222222,
              "#7201a8"
             ],
             [
              0.3333333333333333,
              "#9c179e"
             ],
             [
              0.4444444444444444,
              "#bd3786"
             ],
             [
              0.5555555555555556,
              "#d8576b"
             ],
             [
              0.6666666666666666,
              "#ed7953"
             ],
             [
              0.7777777777777778,
              "#fb9f3a"
             ],
             [
              0.8888888888888888,
              "#fdca26"
             ],
             [
              1,
              "#f0f921"
             ]
            ],
            "type": "histogram2dcontour"
           }
          ],
          "mesh3d": [
           {
            "colorbar": {
             "outlinewidth": 0,
             "ticks": ""
            },
            "type": "mesh3d"
           }
          ],
          "parcoords": [
           {
            "line": {
             "colorbar": {
              "outlinewidth": 0,
              "ticks": ""
             }
            },
            "type": "parcoords"
           }
          ],
          "pie": [
           {
            "automargin": true,
            "type": "pie"
           }
          ],
          "scatter": [
           {
            "fillpattern": {
             "fillmode": "overlay",
             "size": 10,
             "solidity": 0.2
            },
            "type": "scatter"
           }
          ],
          "scatter3d": [
           {
            "line": {
             "colorbar": {
              "outlinewidth": 0,
              "ticks": ""
             }
            },
            "marker": {
             "colorbar": {
              "outlinewidth": 0,
              "ticks": ""
             }
            },
            "type": "scatter3d"
           }
          ],
          "scattercarpet": [
           {
            "marker": {
             "colorbar": {
              "outlinewidth": 0,
              "ticks": ""
             }
            },
            "type": "scattercarpet"
           }
          ],
          "scattergeo": [
           {
            "marker": {
             "colorbar": {
              "outlinewidth": 0,
              "ticks": ""
             }
            },
            "type": "scattergeo"
           }
          ],
          "scattergl": [
           {
            "marker": {
             "colorbar": {
              "outlinewidth": 0,
              "ticks": ""
             }
            },
            "type": "scattergl"
           }
          ],
          "scattermapbox": [
           {
            "marker": {
             "colorbar": {
              "outlinewidth": 0,
              "ticks": ""
             }
            },
            "type": "scattermapbox"
           }
          ],
          "scatterpolar": [
           {
            "marker": {
             "colorbar": {
              "outlinewidth": 0,
              "ticks": ""
             }
            },
            "type": "scatterpolar"
           }
          ],
          "scatterpolargl": [
           {
            "marker": {
             "colorbar": {
              "outlinewidth": 0,
              "ticks": ""
             }
            },
            "type": "scatterpolargl"
           }
          ],
          "scatterternary": [
           {
            "marker": {
             "colorbar": {
              "outlinewidth": 0,
              "ticks": ""
             }
            },
            "type": "scatterternary"
           }
          ],
          "surface": [
           {
            "colorbar": {
             "outlinewidth": 0,
             "ticks": ""
            },
            "colorscale": [
             [
              0,
              "#0d0887"
             ],
             [
              0.1111111111111111,
              "#46039f"
             ],
             [
              0.2222222222222222,
              "#7201a8"
             ],
             [
              0.3333333333333333,
              "#9c179e"
             ],
             [
              0.4444444444444444,
              "#bd3786"
             ],
             [
              0.5555555555555556,
              "#d8576b"
             ],
             [
              0.6666666666666666,
              "#ed7953"
             ],
             [
              0.7777777777777778,
              "#fb9f3a"
             ],
             [
              0.8888888888888888,
              "#fdca26"
             ],
             [
              1,
              "#f0f921"
             ]
            ],
            "type": "surface"
           }
          ],
          "table": [
           {
            "cells": {
             "fill": {
              "color": "#EBF0F8"
             },
             "line": {
              "color": "white"
             }
            },
            "header": {
             "fill": {
              "color": "#C8D4E3"
             },
             "line": {
              "color": "white"
             }
            },
            "type": "table"
           }
          ]
         },
         "layout": {
          "annotationdefaults": {
           "arrowcolor": "#2a3f5f",
           "arrowhead": 0,
           "arrowwidth": 1
          },
          "autotypenumbers": "strict",
          "coloraxis": {
           "colorbar": {
            "outlinewidth": 0,
            "ticks": ""
           }
          },
          "colorscale": {
           "diverging": [
            [
             0,
             "#8e0152"
            ],
            [
             0.1,
             "#c51b7d"
            ],
            [
             0.2,
             "#de77ae"
            ],
            [
             0.3,
             "#f1b6da"
            ],
            [
             0.4,
             "#fde0ef"
            ],
            [
             0.5,
             "#f7f7f7"
            ],
            [
             0.6,
             "#e6f5d0"
            ],
            [
             0.7,
             "#b8e186"
            ],
            [
             0.8,
             "#7fbc41"
            ],
            [
             0.9,
             "#4d9221"
            ],
            [
             1,
             "#276419"
            ]
           ],
           "sequential": [
            [
             0,
             "#0d0887"
            ],
            [
             0.1111111111111111,
             "#46039f"
            ],
            [
             0.2222222222222222,
             "#7201a8"
            ],
            [
             0.3333333333333333,
             "#9c179e"
            ],
            [
             0.4444444444444444,
             "#bd3786"
            ],
            [
             0.5555555555555556,
             "#d8576b"
            ],
            [
             0.6666666666666666,
             "#ed7953"
            ],
            [
             0.7777777777777778,
             "#fb9f3a"
            ],
            [
             0.8888888888888888,
             "#fdca26"
            ],
            [
             1,
             "#f0f921"
            ]
           ],
           "sequentialminus": [
            [
             0,
             "#0d0887"
            ],
            [
             0.1111111111111111,
             "#46039f"
            ],
            [
             0.2222222222222222,
             "#7201a8"
            ],
            [
             0.3333333333333333,
             "#9c179e"
            ],
            [
             0.4444444444444444,
             "#bd3786"
            ],
            [
             0.5555555555555556,
             "#d8576b"
            ],
            [
             0.6666666666666666,
             "#ed7953"
            ],
            [
             0.7777777777777778,
             "#fb9f3a"
            ],
            [
             0.8888888888888888,
             "#fdca26"
            ],
            [
             1,
             "#f0f921"
            ]
           ]
          },
          "colorway": [
           "#636efa",
           "#EF553B",
           "#00cc96",
           "#ab63fa",
           "#FFA15A",
           "#19d3f3",
           "#FF6692",
           "#B6E880",
           "#FF97FF",
           "#FECB52"
          ],
          "font": {
           "color": "#2a3f5f"
          },
          "geo": {
           "bgcolor": "white",
           "lakecolor": "white",
           "landcolor": "white",
           "showlakes": true,
           "showland": true,
           "subunitcolor": "#C8D4E3"
          },
          "hoverlabel": {
           "align": "left"
          },
          "hovermode": "closest",
          "mapbox": {
           "style": "light"
          },
          "paper_bgcolor": "white",
          "plot_bgcolor": "white",
          "polar": {
           "angularaxis": {
            "gridcolor": "#EBF0F8",
            "linecolor": "#EBF0F8",
            "ticks": ""
           },
           "bgcolor": "white",
           "radialaxis": {
            "gridcolor": "#EBF0F8",
            "linecolor": "#EBF0F8",
            "ticks": ""
           }
          },
          "scene": {
           "xaxis": {
            "backgroundcolor": "white",
            "gridcolor": "#DFE8F3",
            "gridwidth": 2,
            "linecolor": "#EBF0F8",
            "showbackground": true,
            "ticks": "",
            "zerolinecolor": "#EBF0F8"
           },
           "yaxis": {
            "backgroundcolor": "white",
            "gridcolor": "#DFE8F3",
            "gridwidth": 2,
            "linecolor": "#EBF0F8",
            "showbackground": true,
            "ticks": "",
            "zerolinecolor": "#EBF0F8"
           },
           "zaxis": {
            "backgroundcolor": "white",
            "gridcolor": "#DFE8F3",
            "gridwidth": 2,
            "linecolor": "#EBF0F8",
            "showbackground": true,
            "ticks": "",
            "zerolinecolor": "#EBF0F8"
           }
          },
          "shapedefaults": {
           "line": {
            "color": "#2a3f5f"
           }
          },
          "ternary": {
           "aaxis": {
            "gridcolor": "#DFE8F3",
            "linecolor": "#A2B1C6",
            "ticks": ""
           },
           "baxis": {
            "gridcolor": "#DFE8F3",
            "linecolor": "#A2B1C6",
            "ticks": ""
           },
           "bgcolor": "white",
           "caxis": {
            "gridcolor": "#DFE8F3",
            "linecolor": "#A2B1C6",
            "ticks": ""
           }
          },
          "title": {
           "x": 0.05
          },
          "xaxis": {
           "automargin": true,
           "gridcolor": "#EBF0F8",
           "linecolor": "#EBF0F8",
           "ticks": "",
           "title": {
            "standoff": 15
           },
           "zerolinecolor": "#EBF0F8",
           "zerolinewidth": 2
          },
          "yaxis": {
           "automargin": true,
           "gridcolor": "#EBF0F8",
           "linecolor": "#EBF0F8",
           "ticks": "",
           "title": {
            "standoff": 15
           },
           "zerolinecolor": "#EBF0F8",
           "zerolinewidth": 2
          }
         }
        },
        "title": {
         "text": "MAE Stacked Insights: Baseline vs SARIMAX Performance Across Quarters (2023)"
        },
        "xaxis": {
         "showticklabels": false,
         "title": {}
        },
        "yaxis": {
         "categoryarray": [
          "Q Healthcare Q4",
          "Q Healthcare Q3",
          "Q Healthcare Q2",
          "Q Healthcare Q1",
          "G Trade Q4",
          "G Trade Q3",
          "G Trade Q2",
          "G Trade Q1",
          "C Manufacturing Q4",
          "C Manufacturing Q3",
          "C Manufacturing Q2",
          "C Manufacturing Q1"
         ],
         "categoryorder": "array",
         "title": {
          "text": "Branch and Quarter"
         }
        }
       }
      }
     },
     "metadata": {},
     "output_type": "display_data"
    }
   ],
   "source": [
    "import pandas as pd\n",
    "import plotly.graph_objects as go\n",
    "\n",
    "# Load the dataset\n",
    "file_path = r\"C:\\\\Users\\\\c.hakker\\\\OneDrive - VISTA college\\\\Senior Stuff\\\\Opleiding Data science\\\\Data\\\\baseline-mean-errors-80072ned.xlsx\"\n",
    "data = pd.read_excel(file_path)\n",
    "\n",
    "# Clean the dataset by identifying models\n",
    "data['Model'] = data['sbi_title'].apply(lambda x: 'Baseline' if 'Baseline' in x else 'SARIMAX')\n",
    "data['Cleaned_Branch'] = data['sbi_title'].str.replace(\"Baseline \", \"\").str.replace(\"SARIMAX \", \"\")\n",
    "\n",
    "# Convert 'MAE' column to numeric\n",
    "data['MAE'] = pd.to_numeric(data['MAE'], errors='coerce')\n",
    "\n",
    "# Define custom colors for each branch\n",
    "sarimax_colors = {'C Manufacturing': '#3f9abf', 'G Trade': '#006789', 'Q Healthcare': '#5fb5db'}\n",
    "baseline_colors = {'C Manufacturing': '#deaa00', 'G Trade': '#fe9001', 'Q Healthcare': '#febf01'}\n",
    "\n",
    "# Loop through years (2022 and 2023)\n",
    "for year in [2022, 2023]:\n",
    "    # Filter data for the year\n",
    "    year_data = data[data['Year'] == year]\n",
    "\n",
    "    # Aggregate data by averaging duplicate entries for the same quarter, branch, and model\n",
    "    cleaned_data = year_data.groupby(['Cleaned_Branch', 'quarter', 'Model']).agg({'MAE': 'mean'}).reset_index()\n",
    "\n",
    "    # Pivot the data for visualization\n",
    "    pivot_data = cleaned_data.pivot(index=['Cleaned_Branch', 'quarter'], columns='Model', values='MAE').reset_index()\n",
    "\n",
    "    # Create a combined y-axis label and sort by branch and quarter (ascending for Q1 to Q4)\n",
    "    pivot_data['y_label'] = pivot_data['Cleaned_Branch'] + \" Q\" + pivot_data['quarter'].astype(str)\n",
    "    pivot_data = pivot_data.sort_values(by=['Cleaned_Branch', 'quarter'], ascending=[False, False])\n",
    "\n",
    "    # Create the Plotly figure\n",
    "    fig = go.Figure()\n",
    "\n",
    "    # Track unique branch-model combinations to avoid duplicate legend entries\n",
    "    added_legends = set()\n",
    "\n",
    "    # Add bars for each branch and quarter\n",
    "    for _, row in pivot_data.iterrows():\n",
    "        y_label = row['y_label']\n",
    "        baseline_mae = row.get('Baseline', 0)  # Default to 0 if Baseline is missing\n",
    "        sarimax_mae = row.get('SARIMAX', 0)  # Default to 0 if SARIMAX is missing\n",
    "        branch = row['Cleaned_Branch']\n",
    "\n",
    "        # Add Baseline bar\n",
    "        if (branch, 'Baseline') not in added_legends:\n",
    "            fig.add_trace(go.Bar(\n",
    "                y=[y_label],\n",
    "                x=[baseline_mae],\n",
    "                name=f\"{branch} Baseline ({year})\",\n",
    "                marker_color=baseline_colors[branch],\n",
    "                orientation='h',\n",
    "                text=[f\"{baseline_mae:.2f}\"],\n",
    "                textposition='inside',\n",
    "            ))\n",
    "            added_legends.add((branch, 'Baseline'))\n",
    "        else:\n",
    "            fig.add_trace(go.Bar(\n",
    "                y=[y_label],\n",
    "                x=[baseline_mae],\n",
    "                marker_color=baseline_colors[branch],\n",
    "                orientation='h',\n",
    "                showlegend=False,  # Prevent duplicate legend entry\n",
    "                text=[f\"{baseline_mae:.2f}\"],\n",
    "                textposition='inside',\n",
    "            ))\n",
    "\n",
    "        # Add SARIMAX bar\n",
    "        if (branch, 'SARIMAX') not in added_legends:\n",
    "            fig.add_trace(go.Bar(\n",
    "                y=[y_label],\n",
    "                x=[sarimax_mae],\n",
    "                name=f\"{branch} SARIMAX ({year})\",\n",
    "                marker_color=sarimax_colors[branch],\n",
    "                orientation='h',\n",
    "                text=[f\"{sarimax_mae:.2f}\"],\n",
    "                textposition='inside',\n",
    "            ))\n",
    "            added_legends.add((branch, 'SARIMAX'))\n",
    "        else:\n",
    "            fig.add_trace(go.Bar(\n",
    "                y=[y_label],\n",
    "                x=[sarimax_mae],\n",
    "                marker_color=sarimax_colors[branch],\n",
    "                orientation='h',\n",
    "                showlegend=False,  # Prevent duplicate legend entry\n",
    "                text=[f\"{sarimax_mae:.2f}\"],\n",
    "                textposition='inside',\n",
    "            ))\n",
    "\n",
    "    # Update the layout\n",
    "    fig.update_layout(\n",
    "        title=f\"MAE Stacked Insights: Baseline vs SARIMAX Performance Across Quarters ({year})\",\n",
    "        xaxis_title=None,  # Remove x-axis text\n",
    "        xaxis_showticklabels=False,  # Remove x-axis tick labels\n",
    "        yaxis_title=\"Branch and Quarter\",\n",
    "        yaxis=dict(categoryorder='array', categoryarray=pivot_data['y_label']),  # Correct order for y-axis\n",
    "        barmode='stack',\n",
    "        legend_title=\"Model\",\n",
    "        template=\"plotly_white\"\n",
    "    )\n",
    "\n",
    "    # Save the plot as an HTML file\n",
    "    output_file = f\"Stacked_MAE_Comparison_{year}.html\"\n",
    "    fig.write_html(output_file)\n",
    "\n",
    "    # Show the plot for the year\n",
    "    fig.show()\n"
   ]
  },
  {
   "cell_type": "code",
   "execution_count": null,
   "metadata": {},
   "outputs": [],
   "source": []
  }
 ],
 "metadata": {
  "kernelspec": {
   "display_name": ".venv",
   "language": "python",
   "name": "python3"
  },
  "language_info": {
   "codemirror_mode": {
    "name": "ipython",
    "version": 3
   },
   "file_extension": ".py",
   "mimetype": "text/x-python",
   "name": "python",
   "nbconvert_exporter": "python",
   "pygments_lexer": "ipython3",
   "version": "3.12.3"
  }
 },
 "nbformat": 4,
 "nbformat_minor": 2
}
