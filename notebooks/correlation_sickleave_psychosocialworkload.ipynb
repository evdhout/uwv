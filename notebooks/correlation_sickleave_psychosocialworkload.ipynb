{
 "cells": [
  {
   "cell_type": "code",
   "execution_count": null,
   "metadata": {},
   "outputs": [],
   "source": [
    "import pandas as pd\n",
    "\n",
    "psychosocialworkload = pd.read_csv(r'C:\\Users\\mth2\\OneDrive - Gemeente Breda\\Bureaublad\\Github\\uwv\\data\\83157NED_TypedDataSet_04102024_150331.csv', delimiter=';')\n",
    "psychosocialworkload = psychosocialworkload.drop(['ID', 'Marges'], axis=1)\n",
    "\n",
    "sickleave = pd.read_csv(r'C:\\Users\\mth2\\OneDrive - Gemeente Breda\\Bureaublad\\Github\\uwv\\data\\80072ned_TypedDataSet_04102024_150250.csv', delimiter=';')\n",
    "sickleave = sickleave.drop('ID', axis=1)\n",
    "\n",
    "merged_df = pd.merge(psychosocialworkload, sickleave, on=['BedrijfskenmerkenSBI2008', 'Perioden'])\n",
    "\n",
    "merged_df"
   ]
  },
  {
   "cell_type": "code",
   "execution_count": null,
   "metadata": {},
   "outputs": [],
   "source": [
    "columns_to_compare = ['Ziekteverzuimpercentage_1', 'ErgSnelWerken_1', 'HeelVeelWerkDoen_2', 'ExtraHardWerken_3', 'EmotioneelMoeilijkeWerksituaties_11', 'EmotioneelVeeleisendWerk_12', 'EmotioneelBetrokkenBijWerk_13', 'PsychischeVermoeidheidDoorHetWerk_38', 'EmotioneelUitgeput_39', 'LeegVoelen_40', 'SOchtendsMoeVoelen_41', 'VergtVeelOmMetMensenTeWerken_42', 'UitgeputDoorWerk_43']\n",
    "\n",
    "merged_df = merged_df.dropna(subset=columns_to_compare)\n",
    "\n",
    "correlation_matrix = merged_df[columns_to_compare].corr()\n",
    "print(correlation_matrix)"
   ]
  },
  {
   "cell_type": "code",
   "execution_count": null,
   "metadata": {},
   "outputs": [],
   "source": [
    "import seaborn as sns\n",
    "import matplotlib.pyplot as plt\n",
    "\n",
    "plt.figure(figsize=(8, 6))\n",
    "sns.heatmap(correlation_matrix, annot=True, cmap='coolwarm', vmin=-1, vmax=1)\n",
    "plt.title('Correlation Matrix')\n",
    "plt.show()"
   ]
  }
 ],
 "metadata": {
  "kernelspec": {
   "display_name": ".venv",
   "language": "python",
   "name": "python3"
  },
  "language_info": {
   "codemirror_mode": {
    "name": "ipython",
    "version": 3
   },
   "file_extension": ".py",
   "mimetype": "text/x-python",
   "name": "python",
   "nbconvert_exporter": "python",
   "pygments_lexer": "ipython3",
   "version": "3.12.3"
  }
 },
 "nbformat": 4,
 "nbformat_minor": 2
}
