{
 "cells": [
  {
   "cell_type": "code",
   "execution_count": null,
   "metadata": {},
   "outputs": [],
   "source": [
    "# ik heb de csv's gedownload van Statline met alleen de jaargegevens op branche en totaalniveau en opgeslagen op mijn laptop \n",
    "# ook heb ik de kolom SBI handmatig dezelfde naam gegeven in beide bestanden\n",
    "# idealiter API verbinding tot stand brengen en daaruit de juiste selectie maken, dit is handiger als de bestanden in de toekomst geüpdatet worden\n",
    "\n",
    "import pandas as pd\n",
    "\n",
    "psychosocialworkload = pd.read_csv(r'C:\\Users\\mth2\\OneDrive - Gemeente Breda\\Bureaublad\\Github\\uwv\\data\\83157NED_TypedDataSet_04102024_150331.csv', delimiter=';')\n",
    "psychosocialworkload = psychosocialworkload.drop(['ID', 'Marges'], axis=1)\n",
    "psychosocialworkload['BedrijfskenmerkenSBI2008'] = psychosocialworkload['BedrijfskenmerkenSBI2008'].str.strip('T') #om te zorgen dat alle rijen meegenomen worden, anders waren het alleen de eerste 10 (de daadwerkelijke objects)\n",
    "psychosocialworkload['BedrijfskenmerkenSBI2008'] = psychosocialworkload['BedrijfskenmerkenSBI2008'].astype(float)\n",
    "\n",
    "sickleave = pd.read_csv(r'C:\\Users\\mth2\\OneDrive - Gemeente Breda\\Bureaublad\\Github\\uwv\\data\\80072ned_TypedDataSet_04102024_150250.csv', delimiter=';')\n",
    "sickleave = sickleave.drop('ID', axis=1)\n",
    "sickleave['BedrijfskenmerkenSBI2008'] = sickleave['BedrijfskenmerkenSBI2008'].str.strip('T') #om te zorgen dat alle rijen meegenomen worden, anders waren het alleen de eerste 10 (de daadwerkelijke objects)\n",
    "sickleave['BedrijfskenmerkenSBI2008'] = sickleave['BedrijfskenmerkenSBI2008'].astype(float)\n",
    "\n",
    "merged_df = pd.merge(psychosocialworkload, sickleave, on=['BedrijfskenmerkenSBI2008', 'Perioden'])\n",
    "\n",
    "merged_df"
   ]
  },
  {
   "cell_type": "code",
   "execution_count": null,
   "metadata": {},
   "outputs": [],
   "source": [
    "merged_df.info()"
   ]
  },
  {
   "cell_type": "code",
   "execution_count": null,
   "metadata": {},
   "outputs": [],
   "source": [
    "columns_to_compare = ['Ziekteverzuimpercentage_1', 'ErgSnelWerken_1', 'HeelVeelWerkDoen_2', 'ExtraHardWerken_3', 'ZelfBeslissen_4', 'VolgordeWerkzaamhedenBepalen_5', 'WerktempoBepalen_6', 'OplossingenBedenken_7', 'VerlofNemen_8', 'WerktijdenBepalen_9', 'EmotioneelMoeilijkeWerksituaties_11', 'EmotioneelVeeleisendWerk_12', 'EmotioneelBetrokkenBijWerk_13', 'PsychischeVermoeidheidDoorHetWerk_38', 'EmotioneelUitgeput_39', 'LeegVoelen_40', 'SOchtendsMoeVoelen_41', 'VergtVeelOmMetMensenTeWerken_42', 'UitgeputDoorWerk_43']\n",
    "#Werkplekbepalen_10 wordt pas sinds 2022 gevraagd, dus daarom niet meegenomen\n",
    "\n",
    "merged_df = merged_df.dropna(subset=columns_to_compare)\n",
    "\n",
    "merged_df.info()"
   ]
  },
  {
   "cell_type": "code",
   "execution_count": null,
   "metadata": {},
   "outputs": [],
   "source": [
    "correlation_matrix = merged_df[columns_to_compare].corr()\n",
    "print(correlation_matrix)"
   ]
  },
  {
   "cell_type": "code",
   "execution_count": null,
   "metadata": {},
   "outputs": [],
   "source": [
    "import seaborn as sns\n",
    "import matplotlib.pyplot as plt\n",
    "\n",
    "plt.figure(figsize=(12, 8))\n",
    "sns.heatmap(correlation_matrix, annot=True, cmap='coolwarm', vmin=-1, vmax=1)\n",
    "plt.title('Correlation Matrix total data')\n",
    "plt.show()"
   ]
  },
  {
   "cell_type": "code",
   "execution_count": null,
   "metadata": {},
   "outputs": [],
   "source": [
    "# filter op alleen de totalen voor NL (alle branches), maar dit zijn maar 10 rijen dus zijn de correlaties dan wel betrouwbaar?\n",
    "\n",
    "merged_df_total = merged_df[merged_df['BedrijfskenmerkenSBI2008'] == 1081]\n",
    "\n",
    "merged_df_total"
   ]
  },
  {
   "cell_type": "code",
   "execution_count": null,
   "metadata": {},
   "outputs": [],
   "source": [
    "correlation_matrix_total = merged_df_total[columns_to_compare].corr()"
   ]
  },
  {
   "cell_type": "code",
   "execution_count": null,
   "metadata": {},
   "outputs": [],
   "source": [
    "plt.figure(figsize=(12, 8))\n",
    "sns.heatmap(correlation_matrix_total, annot=True, cmap='coolwarm', vmin=-1, vmax=1)\n",
    "plt.title('Correlation Matrix all economic activities')\n",
    "plt.show()"
   ]
  },
  {
   "cell_type": "code",
   "execution_count": null,
   "metadata": {},
   "outputs": [],
   "source": [
    "# filter op branche gezondheidszorg (zelfde vraag over kleine dataset geldt hier ook)\n",
    "\n",
    "merged_df_healthcare = merged_df[merged_df['BedrijfskenmerkenSBI2008'] == 422400]\n",
    "\n",
    "merged_df_healthcare"
   ]
  },
  {
   "cell_type": "code",
   "execution_count": null,
   "metadata": {},
   "outputs": [],
   "source": [
    "correlation_matrix_healthcare = merged_df_healthcare[columns_to_compare].corr()"
   ]
  },
  {
   "cell_type": "code",
   "execution_count": null,
   "metadata": {},
   "outputs": [],
   "source": [
    "plt.figure(figsize=(12, 8))\n",
    "sns.heatmap(correlation_matrix_healthcare, annot=True, cmap='coolwarm', vmin=-1, vmax=1)\n",
    "plt.title('Correlation Matrix healthcare')\n",
    "plt.show()"
   ]
  }
 ],
 "metadata": {
  "kernelspec": {
   "display_name": ".venv",
   "language": "python",
   "name": "python3"
  },
  "language_info": {
   "codemirror_mode": {
    "name": "ipython",
    "version": 3
   },
   "file_extension": ".py",
   "mimetype": "text/x-python",
   "name": "python",
   "nbconvert_exporter": "python",
   "pygments_lexer": "ipython3",
   "version": "3.12.3"
  }
 },
 "nbformat": 4,
 "nbformat_minor": 2
}
