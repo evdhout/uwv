{
 "cells": [
  {
   "cell_type": "code",
   "execution_count": 1,
   "metadata": {},
   "outputs": [],
   "source": [
    "import pandas as pd\n",
    "import numpy as np\n",
    "import matplotlib.pyplot as plt\n",
    "import matplotlib.dates as mdates\n",
    "#ignore harmless warnings\n",
    "import warnings\n",
    "warnings.filterwarnings(\"ignore\")"
   ]
  },
  {
   "cell_type": "code",
   "execution_count": 2,
   "metadata": {},
   "outputs": [],
   "source": [
    "# Additional imports\n",
    "from itertools import product\n",
    "from statsmodels.tsa.statespace.sarimax import SARIMAX\n",
    "from statsmodels.tools.eval_measures import rmse\n",
    "import matplotlib.pyplot as plt"
   ]
  },
  {
   "cell_type": "code",
   "execution_count": 3,
   "metadata": {},
   "outputs": [],
   "source": [
    "# Define a function to iterate over different SARIMAX configurations\n",
    "def find_best_sarimax(train, p_values, d_values, q_values, P_values, D_values, Q_values, m):\n",
    "    best_aic = float(\"inf\")\n",
    "    best_order = None\n",
    "    best_seasonal_order = None\n",
    "    best_model = None\n",
    " "
   ]
  },
  {
   "cell_type": "code",
   "execution_count": 6,
   "metadata": {},
   "outputs": [
    {
     "ename": "SyntaxError",
     "evalue": "incomplete input (3750880946.py, line 12)",
     "output_type": "error",
     "traceback": [
      "\u001b[1;36m  Cell \u001b[1;32mIn[6], line 12\u001b[1;36m\u001b[0m\n\u001b[1;33m    )\u001b[0m\n\u001b[1;37m     ^\u001b[0m\n\u001b[1;31mSyntaxError\u001b[0m\u001b[1;31m:\u001b[0m incomplete input\n"
     ]
    }
   ],
   "source": [
    "# Iterate over all combinations of (p, d, q) and (P, D, Q)\n",
    "for p, d, q in product(p_values, d_values, q_values):\n",
    "        for P, D, Q in product(P_values, D_values, Q_values):\n",
    "            try:\n",
    "                # Define the SARIMAX model\n",
    "                model = SARIMAX(\n",
    "                    train,\n",
    "                    order=(p, d, q),\n",
    "                    seasonal_order=(P, D, Q, m),\n",
    "                    enforce_stationarity=False,\n",
    "                    enforce_invertibility=False\n",
    "                )"
   ]
  },
  {
   "cell_type": "code",
   "execution_count": null,
   "metadata": {},
   "outputs": [],
   "source": [
    "# Fit the model\n",
    "                results = model.fit(disp=False)\n",
    "                \n",
    "                # Check if the current model has the best AIC\n",
    "                if results.aic < best_aic:\n",
    "                    best_aic = results.aic\n",
    "                    best_order = (p, d, q)\n",
    "                    best_seasonal_order = (P, D, Q, m)\n",
    "                    best_model = results\n",
    "            except Exception as e:\n",
    "                # Handle any errors during fitting\n",
    "                print(f\"Error with order {(p, d, q)} and seasonal order {(P, D, Q, m)}: {e}\")\n",
    "                continue\n",
    "\n",
    "    print(f\"Best SARIMAX order: {best_order}, seasonal order: {best_seasonal_order}, AIC: {best_aic}\")\n",
    "    return best_model"
   ]
  },
  {
   "cell_type": "code",
   "execution_count": null,
   "metadata": {},
   "outputs": [],
   "source": [
    "# Define ranges for the parameters\n",
    "p = range(0, 3)     # p-values range from 0 to 2\n",
    "d = range(0, 2)     # d-values range from 0 to 1\n",
    "q = range(0, 3)     # q-values range from 0 to 2\n",
    "P = range(0, 3)     # Seasonal P-values range from 0 to 2\n",
    "D = range(0, 2)     # Seasonal D-values range from 0 to 1\n",
    "Q = range(0, 3)     # Seasonal Q-values range from 0 to 2\n",
    "m = 4               # Seasonal period is 4 (quarterly data)\n"
   ]
  },
  {
   "cell_type": "code",
   "execution_count": null,
   "metadata": {},
   "outputs": [],
   "source": [
    "# Example training data\n",
    "train = pd.DataFrame({'sick_leave_percentage': [0.1, 0.2, 0.3, 0.4, 0.5, 0.6, 0.7, 0.8]})\n"
   ]
  },
  {
   "cell_type": "code",
   "execution_count": null,
   "metadata": {},
   "outputs": [],
   "source": [
    "# Assume test set for evaluation\n",
    "test = pd.DataFrame({'sick_leave_percentage': [0.6, 0.7, 0.8, 0.9]})\n"
   ]
  },
  {
   "cell_type": "code",
   "execution_count": null,
   "metadata": {},
   "outputs": [],
   "source": [
    "# Run the function to find the best model\n",
    "best_model = find_best_sarimax(train['sick_leave_percentage'], p, d, q, P, D, Q, m)\n"
   ]
  },
  {
   "cell_type": "code",
   "execution_count": null,
   "metadata": {},
   "outputs": [],
   "source": [
    "# Evaluate the best model on the test set\n",
    "start = len(train)\n",
    "end = len(train) + len(test) - 1\n",
    "predictions = best_model.predict(start=start, end=end)\n"
   ]
  },
  {
   "cell_type": "code",
   "execution_count": null,
   "metadata": {},
   "outputs": [],
   "source": [
    "# Calculate and print RMSE\n",
    "rmse_value = rmse(test['sick_leave_percentage'], predictions)\n",
    "print(f'RMSE: {rmse_value}')\n",
    "\n"
   ]
  },
  {
   "cell_type": "code",
   "execution_count": null,
   "metadata": {},
   "outputs": [],
   "source": [
    "# Plot the results\n",
    "ax = test['sick_leave_percentage'].plot(legend=True, figsize=(15,8), title='Sick Leave Percentage - Test vs Predictions')\n",
    "predictions.plot(legend=True)\n",
    "plt.show()"
   ]
  }
 ],
 "metadata": {
  "kernelspec": {
   "display_name": ".venv",
   "language": "python",
   "name": "python3"
  },
  "language_info": {
   "codemirror_mode": {
    "name": "ipython",
    "version": 3
   },
   "file_extension": ".py",
   "mimetype": "text/x-python",
   "name": "python",
   "nbconvert_exporter": "python",
   "pygments_lexer": "ipython3",
   "version": "3.12.3"
  }
 },
 "nbformat": 4,
 "nbformat_minor": 2
}
