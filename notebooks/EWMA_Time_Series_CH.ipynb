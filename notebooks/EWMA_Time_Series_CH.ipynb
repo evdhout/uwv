{
 "cells": [
  {
   "cell_type": "markdown",
   "metadata": {},
   "source": [
    "Exponentially Weighted Moving Average"
   ]
  },
  {
   "cell_type": "code",
   "execution_count": null,
   "metadata": {},
   "outputs": [],
   "source": [
    "import pandas as pd\n",
    "import numpy as np\n",
    "import matplotlib.pyplot as plt\n",
    "import matplotlib.dates as mdates\n",
    "# Ignore harmless warnings\n",
    "import warnings\n",
    "warnings.filterwarnings(\"ignore\")"
   ]
  },
  {
   "cell_type": "code",
   "execution_count": null,
   "metadata": {},
   "outputs": [],
   "source": [
    "# Load the data\n",
    "from uwv.config import CBS80072NED, CBS_OPENDATA_PROCESSED_DATA_DIR, OUTPUT_DIR\n",
    "\n",
    "cbs = pd.read_parquet(CBS_OPENDATA_PROCESSED_DATA_DIR / f\"{CBS80072NED}.parquet\")"
   ]
  },
  {
   "cell_type": "code",
   "execution_count": null,
   "metadata": {},
   "outputs": [],
   "source": [
    "# Filter out rows where 'period_quarter_number' is 0\n",
    "cbs = cbs[cbs['period_quarter_number'] != 0]"
   ]
  },
  {
   "cell_type": "code",
   "execution_count": null,
   "metadata": {},
   "outputs": [],
   "source": [
    "# Map quarters to months and create the 'date' column\n",
    "cbs['month'] = cbs['period_quarter_number'].map({1: 1, 2: 4, 3: 7, 4: 10})\n",
    "cbs['date'] = pd.to_datetime({'year': cbs['period_year'], 'month': cbs['month'], 'day': 1})"
   ]
  },
  {
   "cell_type": "code",
   "execution_count": null,
   "metadata": {},
   "outputs": [],
   "source": [
    "# Set this new 'date' column as the index\n",
    "cbs.set_index('date', inplace=True)"
   ]
  },
  {
   "cell_type": "code",
   "execution_count": null,
   "metadata": {},
   "outputs": [],
   "source": [
    "# Filter data based on 'sbi_title'\n",
    "sbi_code = 'T001081'  # Example: A-U Alle economische activiteiten\n",
    "filtered_cbs = cbs[cbs['sbi'] == sbi_code]"
   ]
  },
  {
   "cell_type": "code",
   "execution_count": null,
   "metadata": {},
   "outputs": [],
   "source": [
    "# Filter the data to include only dates from 2016 to 2023\n",
    "filtered_cbs = filtered_cbs.loc['2016-01-01':'2023-12-31']"
   ]
  },
  {
   "cell_type": "code",
   "execution_count": null,
   "metadata": {},
   "outputs": [],
   "source": [
    "# Calculate the 6-month and 12-month Simple Moving Averages (SMA)\n",
    "filtered_cbs['6-month-SMA'] = filtered_cbs['sick_leave_percentage'].rolling(window=6).mean()\n",
    "filtered_cbs['12-month-SMA'] = filtered_cbs['sick_leave_percentage'].rolling(window=12).mean()"
   ]
  },
  {
   "cell_type": "code",
   "execution_count": null,
   "metadata": {},
   "outputs": [],
   "source": [
    "# Plot the original data and the moving averages\n",
    "plt.figure(figsize=(12, 8))\n",
    "plt.plot(filtered_cbs.index, filtered_cbs['sick_leave_percentage'], label='Sick Leave Percentage', color='#0078d2')\n",
    "plt.plot(filtered_cbs.index, filtered_cbs['6-month-SMA'], label='6-month SMA', color='orange')\n",
    "plt.plot(filtered_cbs.index, filtered_cbs['12-month-SMA'], label='12-month SMA', color='green')\n",
    "\n",
    "plt.title('Sick Leave Percentage with 6-month and 12-month SMA')\n",
    "plt.xlabel('Date')\n",
    "plt.ylabel('Sick Leave Percentage')\n",
    "plt.legend()\n",
    "plt.grid(True)\n",
    "plt.show()"
   ]
  },
  {
   "cell_type": "code",
   "execution_count": null,
   "metadata": {},
   "outputs": [],
   "source": []
  }
 ],
 "metadata": {
  "kernelspec": {
   "display_name": ".venv",
   "language": "python",
   "name": "python3"
  },
  "language_info": {
   "codemirror_mode": {
    "name": "ipython",
    "version": 3
   },
   "file_extension": ".py",
   "mimetype": "text/x-python",
   "name": "python",
   "nbconvert_exporter": "python",
   "pygments_lexer": "ipython3",
   "version": "3.12.3"
  }
 },
 "nbformat": 4,
 "nbformat_minor": 2
}
