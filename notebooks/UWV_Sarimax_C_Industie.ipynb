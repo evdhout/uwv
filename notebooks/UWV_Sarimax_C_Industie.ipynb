{
 "cells": [
  {
   "cell_type": "code",
   "execution_count": 1,
   "metadata": {},
   "outputs": [],
   "source": [
    "# 0.Importing the libraries\n",
    "import pandas as pd\n",
    "import numpy as np\n",
    "import statsmodels.api as sm\n",
    "import matplotlib.pyplot as plt\n",
    "import plotly.graph_objects as go\n",
    "from sklearn.metrics import mean_absolute_error\n",
    "from datetime import datetime"
   ]
  },
  {
   "cell_type": "code",
   "execution_count": 2,
   "metadata": {},
   "outputs": [],
   "source": [
    "# 1.Load the dataset\n",
    "file_path = r\"C:\\Users\\c.hakker\\OneDrive - VISTA college\\Senior Stuff\\Opleiding Data science\\Data\\merged_tables.csv\"\n",
    "df = pd.read_csv(file_path)"
   ]
  },
  {
   "cell_type": "code",
   "execution_count": 3,
   "metadata": {},
   "outputs": [],
   "source": [
    "# 2.Filter for the specific branch 'G Handel'\n",
    "branch_name = 'C Industrie'\n",
    "df = df[df['BedrijfstakkenBranchesSBI2008'].str.strip().str.lower() == branch_name.strip().lower()]"
   ]
  },
  {
   "cell_type": "code",
   "execution_count": 4,
   "metadata": {},
   "outputs": [],
   "source": [
    "# 3.Verify and process the 'Year' and 'Quarter' columns for date alignment\n",
    "if 'Year' not in df.columns or 'Quarter' not in df.columns:\n",
    "    raise KeyError(\"The 'Year' and 'Quarter' columns are required in the dataset.\")"
   ]
  },
  {
   "cell_type": "code",
   "execution_count": 5,
   "metadata": {},
   "outputs": [],
   "source": [
    "# 4.Create a 'Date' column representing the start of each quarter using PeriodIndex.from_fields\n",
    "df['Year'] = df['Year'].astype(int)\n",
    "df['Quarter'] = df['Quarter'].astype(int)\n",
    "df['Date'] = pd.PeriodIndex.from_fields(year=df['Year'], quarter=df['Quarter'], freq='Q').to_timestamp()"
   ]
  },
  {
   "cell_type": "code",
   "execution_count": 6,
   "metadata": {},
   "outputs": [],
   "source": [
    "# 5.Drop rows where 'Date' could not be created\n",
    "df = df.dropna(subset=['Date'])\n",
    "\n",
    "# Set 'Date' as the index for time-series analysis\n",
    "df.set_index('Date', inplace=True, drop=True)\n",
    "\n",
    "# Remove duplicate index values if they exist\n",
    "df = df.loc[~df.index.duplicated(keep='first')]"
   ]
  },
  {
   "cell_type": "code",
   "execution_count": 7,
   "metadata": {},
   "outputs": [
    {
     "name": "stdout",
     "output_type": "stream",
     "text": [
      "Unique values in 'BedrijfstakkenBranchesSBI2008' after filtering:\n",
      "['C Industrie']\n"
     ]
    }
   ],
   "source": [
    "# 6.Set the frequency explicitly\n",
    "try:\n",
    "    df = df.asfreq('QS')  # Infer the quarterly frequency and set it explicitly\n",
    "except ValueError as e:\n",
    "    print(f\"Warning: {e}. Frequency could not be set explicitly.\")\n",
    "\n",
    "# Print unique values in 'BedrijfstakkenBranchesSBI2008' to verify\n",
    "print(\"Unique values in 'BedrijfstakkenBranchesSBI2008' after filtering:\")\n",
    "print(df['BedrijfstakkenBranchesSBI2008'].unique())"
   ]
  },
  {
   "cell_type": "code",
   "execution_count": 8,
   "metadata": {},
   "outputs": [],
   "source": [
    "# 7.Define parameters for SARIMAX model\n",
    "branch_name = 'C Industie'\n",
    "target_column = '80072ned_Ziekteverzuimpercentage_1'\n",
    "exog_columns = ['81589NED_Rechtspersonen_13', '85663NED_CaoLonenPerMaandExclBijzBeloningen_1']"
   ]
  },
  {
   "cell_type": "code",
   "execution_count": 9,
   "metadata": {},
   "outputs": [],
   "source": [
    "# 8.Prepare the target and exogenous variables for training and testing\n",
    "y = df[target_column]\n",
    "exog = df[exog_columns]"
   ]
  },
  {
   "cell_type": "code",
   "execution_count": 10,
   "metadata": {},
   "outputs": [],
   "source": [
    "# 9.Split data into training (2008-2021) and testing (2022)\n",
    "train_end_year = 2021\n",
    "test_year = 2022\n",
    "train_df = df[df['Year'] <= train_end_year]\n",
    "test_df = df[df['Year'] == test_year]"
   ]
  },
  {
   "cell_type": "code",
   "execution_count": 11,
   "metadata": {},
   "outputs": [],
   "source": [
    "# 10.Prepare the target and exogenous variables for training and testing\n",
    "y_train = train_df[target_column]\n",
    "exog_train = train_df[exog_columns]\n",
    "y_test = test_df[target_column]\n",
    "exog_test = test_df[exog_columns]"
   ]
  },
  {
   "cell_type": "code",
   "execution_count": 12,
   "metadata": {},
   "outputs": [],
   "source": [
    "# 11.Handle missing values by filling with the mean\n",
    "y_train = y_train.fillna(y_train.mean())\n",
    "exog_train = exog_train.fillna(exog_train.mean())\n",
    "y_test = y_test.fillna(y_train.mean())\n",
    "exog_test = exog_test.fillna(exog_train.mean())"
   ]
  },
  {
   "cell_type": "code",
   "execution_count": 13,
   "metadata": {},
   "outputs": [
    {
     "name": "stdout",
     "output_type": "stream",
     "text": [
      "\n",
      "Fitting SARIMAX model for branch 'C Industie'...\n",
      "                                       SARIMAX Results                                        \n",
      "==============================================================================================\n",
      "Dep. Variable:     80072ned_Ziekteverzuimpercentage_1   No. Observations:                   56\n",
      "Model:                SARIMAX(1, 1, 2)x(1, 0, [1], 4)   Log Likelihood                  -1.811\n",
      "Date:                                Sun, 24 Nov 2024   AIC                             19.621\n",
      "Time:                                        17:09:34   BIC                             34.591\n",
      "Sample:                                    01-01-2008   HQIC                            25.278\n",
      "                                         - 10-01-2021                                         \n",
      "Covariance Type:                                  opg                                         \n",
      "=================================================================================================================\n",
      "                                                    coef    std err          z      P>|z|      [0.025      0.975]\n",
      "-----------------------------------------------------------------------------------------------------------------\n",
      "81589NED_Rechtspersonen_13                        0.0002      0.000      1.251      0.211   -9.95e-05       0.000\n",
      "85663NED_CaoLonenPerMaandExclBijzBeloningen_1     0.0003      0.000      1.947      0.051   -1.66e-06       0.001\n",
      "ar.L1                                             0.0240      1.061      0.023      0.982      -2.056       2.104\n",
      "ma.L1                                            -0.5217      1.057     -0.494      0.622      -2.593       1.549\n",
      "ma.L2                                            -0.0065      0.590     -0.011      0.991      -1.163       1.150\n",
      "ar.S.L4                                           1.0031      0.028     35.506      0.000       0.948       1.059\n",
      "ma.S.L4                                          -0.9063      0.339     -2.671      0.008      -1.571      -0.241\n",
      "sigma2                                            0.0557      0.019      2.871      0.004       0.018       0.094\n",
      "===================================================================================\n",
      "Ljung-Box (L1) (Q):                   0.02   Jarque-Bera (JB):                 3.66\n",
      "Prob(Q):                              0.88   Prob(JB):                         0.16\n",
      "Heteroskedasticity (H):               2.43   Skew:                            -0.15\n",
      "Prob(H) (two-sided):                  0.08   Kurtosis:                         4.32\n",
      "===================================================================================\n",
      "\n",
      "Warnings:\n",
      "[1] Covariance matrix calculated using the outer product of gradients (complex-step).\n"
     ]
    },
    {
     "name": "stderr",
     "output_type": "stream",
     "text": [
      "c:\\Users\\c.hakker\\OneDrive - VISTA college\\Senior Stuff\\Opleiding Data science\\uwv\\.venv\\Lib\\site-packages\\statsmodels\\base\\model.py:607: ConvergenceWarning: Maximum Likelihood optimization failed to converge. Check mle_retvals\n",
      "  warnings.warn(\"Maximum Likelihood optimization failed to \"\n"
     ]
    }
   ],
   "source": [
    "# 12.Fit the SARIMAX model\n",
    "print(f\"\\nFitting SARIMAX model for branch '{branch_name}'...\")\n",
    "model = sm.tsa.SARIMAX(y_train, exog=exog_train, order=(1, 1, 2), seasonal_order=(1, 0, 1, 4), enforce_stationarity=False, enforce_invertibility=False)\n",
    "results = model.fit(disp=False)\n",
    "\n",
    "# Print model summary\n",
    "print(results.summary())"
   ]
  },
  {
   "cell_type": "code",
   "execution_count": 14,
   "metadata": {},
   "outputs": [],
   "source": [
    "# 13.Make predictions for the test year\n",
    "y_pred_test = results.predict(start=y_test.index[0], end=y_test.index[-1], exog=exog_test)"
   ]
  },
  {
   "cell_type": "code",
   "execution_count": 15,
   "metadata": {},
   "outputs": [
    {
     "name": "stdout",
     "output_type": "stream",
     "text": [
      "\n",
      "MAE for Q1 2022 for branch 'C Industie': 0.6434\n",
      "MAE for all quarters of 2022 for branch 'C Industie': 0.2663\n"
     ]
    }
   ],
   "source": [
    "# 14.Calculate MAE for Q1 and all quarters of the test year\n",
    "q1_mask = test_df['Quarter'] == 1\n",
    "mae_q1 = mean_absolute_error(y_test[q1_mask], y_pred_test[q1_mask])\n",
    "mae_all = mean_absolute_error(y_test, y_pred_test)\n",
    "\n",
    "print(f\"\\nMAE for Q1 {test_year} for branch '{branch_name}': {mae_q1:.4f}\")\n",
    "print(f\"MAE for all quarters of {test_year} for branch '{branch_name}': {mae_all:.4f}\")"
   ]
  },
  {
   "cell_type": "code",
   "execution_count": 16,
   "metadata": {},
   "outputs": [],
   "source": [
    "# 15.Forecast for 2023\n",
    "forecast_start = pd.Timestamp(\"2023-01-01\")\n",
    "forecast_end = pd.Timestamp(\"2023-10-01\")\n",
    "y_forecast = results.get_forecast(steps=4, exog=exog_test.iloc[:4])\n",
    "forecast_mean = y_forecast.predicted_mean"
   ]
  },
  {
   "cell_type": "code",
   "execution_count": 17,
   "metadata": {},
   "outputs": [
    {
     "data": {
      "application/vnd.plotly.v1+json": {
       "config": {
        "plotlyServerURL": "https://plot.ly"
       },
       "data": [
        {
         "line": {
          "color": "#0078d2",
          "width": 2
         },
         "mode": "lines+markers",
         "name": "Actual",
         "type": "scatter",
         "x": [
          "2022-01-01T00:00:00",
          "2022-04-01T00:00:00",
          "2022-07-01T00:00:00",
          "2022-10-01T00:00:00"
         ],
         "y": [
          7.4,
          6.3,
          5.9,
          6.6
         ]
        },
        {
         "line": {
          "color": "orange",
          "dash": "dash",
          "width": 2
         },
         "mode": "lines+markers",
         "name": "Predictions",
         "type": "scatter",
         "x": [
          "2022-01-01T00:00:00",
          "2022-04-01T00:00:00",
          "2022-07-01T00:00:00",
          "2022-10-01T00:00:00"
         ],
         "y": [
          6.756638569672713,
          6.02788897331879,
          5.799970817947851,
          6.550260718884708
         ]
        },
        {
         "line": {
          "color": "green",
          "dash": "dot",
          "width": 2
         },
         "mode": "lines+markers",
         "name": "Forecast",
         "type": "scatter",
         "x": [
          "2023-01-01T00:00:00",
          "2023-04-01T00:00:00",
          "2023-07-01T00:00:00",
          "2023-10-01T00:00:00"
         ],
         "y": [
          6.756638569672713,
          6.02788897331879,
          5.799970817947851,
          6.550260718884708
         ]
        }
       ],
       "layout": {
        "annotations": [
         {
          "font": {
           "color": "black",
           "size": 12
          },
          "showarrow": false,
          "text": "MAE for all four quarters: 0.2663",
          "x": 0,
          "xref": "paper",
          "y": 1.15,
          "yref": "paper"
         },
         {
          "font": {
           "color": "black",
           "size": 12
          },
          "showarrow": false,
          "text": "MAE for next quarter (Q1): 0.6434",
          "x": 0,
          "xref": "paper",
          "y": 1.2,
          "yref": "paper"
         }
        ],
        "font": {
         "family": "Roboto",
         "size": 14
        },
        "height": 500,
        "legend": {
         "traceorder": "normal",
         "x": 0.91,
         "y": 1.5
        },
        "margin": {
         "b": 50,
         "l": 50,
         "r": 50,
         "t": 80
        },
        "plot_bgcolor": "white",
        "template": {
         "data": {
          "bar": [
           {
            "error_x": {
             "color": "#2a3f5f"
            },
            "error_y": {
             "color": "#2a3f5f"
            },
            "marker": {
             "line": {
              "color": "#E5ECF6",
              "width": 0.5
             },
             "pattern": {
              "fillmode": "overlay",
              "size": 10,
              "solidity": 0.2
             }
            },
            "type": "bar"
           }
          ],
          "barpolar": [
           {
            "marker": {
             "line": {
              "color": "#E5ECF6",
              "width": 0.5
             },
             "pattern": {
              "fillmode": "overlay",
              "size": 10,
              "solidity": 0.2
             }
            },
            "type": "barpolar"
           }
          ],
          "carpet": [
           {
            "aaxis": {
             "endlinecolor": "#2a3f5f",
             "gridcolor": "white",
             "linecolor": "white",
             "minorgridcolor": "white",
             "startlinecolor": "#2a3f5f"
            },
            "baxis": {
             "endlinecolor": "#2a3f5f",
             "gridcolor": "white",
             "linecolor": "white",
             "minorgridcolor": "white",
             "startlinecolor": "#2a3f5f"
            },
            "type": "carpet"
           }
          ],
          "choropleth": [
           {
            "colorbar": {
             "outlinewidth": 0,
             "ticks": ""
            },
            "type": "choropleth"
           }
          ],
          "contour": [
           {
            "colorbar": {
             "outlinewidth": 0,
             "ticks": ""
            },
            "colorscale": [
             [
              0,
              "#0d0887"
             ],
             [
              0.1111111111111111,
              "#46039f"
             ],
             [
              0.2222222222222222,
              "#7201a8"
             ],
             [
              0.3333333333333333,
              "#9c179e"
             ],
             [
              0.4444444444444444,
              "#bd3786"
             ],
             [
              0.5555555555555556,
              "#d8576b"
             ],
             [
              0.6666666666666666,
              "#ed7953"
             ],
             [
              0.7777777777777778,
              "#fb9f3a"
             ],
             [
              0.8888888888888888,
              "#fdca26"
             ],
             [
              1,
              "#f0f921"
             ]
            ],
            "type": "contour"
           }
          ],
          "contourcarpet": [
           {
            "colorbar": {
             "outlinewidth": 0,
             "ticks": ""
            },
            "type": "contourcarpet"
           }
          ],
          "heatmap": [
           {
            "colorbar": {
             "outlinewidth": 0,
             "ticks": ""
            },
            "colorscale": [
             [
              0,
              "#0d0887"
             ],
             [
              0.1111111111111111,
              "#46039f"
             ],
             [
              0.2222222222222222,
              "#7201a8"
             ],
             [
              0.3333333333333333,
              "#9c179e"
             ],
             [
              0.4444444444444444,
              "#bd3786"
             ],
             [
              0.5555555555555556,
              "#d8576b"
             ],
             [
              0.6666666666666666,
              "#ed7953"
             ],
             [
              0.7777777777777778,
              "#fb9f3a"
             ],
             [
              0.8888888888888888,
              "#fdca26"
             ],
             [
              1,
              "#f0f921"
             ]
            ],
            "type": "heatmap"
           }
          ],
          "heatmapgl": [
           {
            "colorbar": {
             "outlinewidth": 0,
             "ticks": ""
            },
            "colorscale": [
             [
              0,
              "#0d0887"
             ],
             [
              0.1111111111111111,
              "#46039f"
             ],
             [
              0.2222222222222222,
              "#7201a8"
             ],
             [
              0.3333333333333333,
              "#9c179e"
             ],
             [
              0.4444444444444444,
              "#bd3786"
             ],
             [
              0.5555555555555556,
              "#d8576b"
             ],
             [
              0.6666666666666666,
              "#ed7953"
             ],
             [
              0.7777777777777778,
              "#fb9f3a"
             ],
             [
              0.8888888888888888,
              "#fdca26"
             ],
             [
              1,
              "#f0f921"
             ]
            ],
            "type": "heatmapgl"
           }
          ],
          "histogram": [
           {
            "marker": {
             "pattern": {
              "fillmode": "overlay",
              "size": 10,
              "solidity": 0.2
             }
            },
            "type": "histogram"
           }
          ],
          "histogram2d": [
           {
            "colorbar": {
             "outlinewidth": 0,
             "ticks": ""
            },
            "colorscale": [
             [
              0,
              "#0d0887"
             ],
             [
              0.1111111111111111,
              "#46039f"
             ],
             [
              0.2222222222222222,
              "#7201a8"
             ],
             [
              0.3333333333333333,
              "#9c179e"
             ],
             [
              0.4444444444444444,
              "#bd3786"
             ],
             [
              0.5555555555555556,
              "#d8576b"
             ],
             [
              0.6666666666666666,
              "#ed7953"
             ],
             [
              0.7777777777777778,
              "#fb9f3a"
             ],
             [
              0.8888888888888888,
              "#fdca26"
             ],
             [
              1,
              "#f0f921"
             ]
            ],
            "type": "histogram2d"
           }
          ],
          "histogram2dcontour": [
           {
            "colorbar": {
             "outlinewidth": 0,
             "ticks": ""
            },
            "colorscale": [
             [
              0,
              "#0d0887"
             ],
             [
              0.1111111111111111,
              "#46039f"
             ],
             [
              0.2222222222222222,
              "#7201a8"
             ],
             [
              0.3333333333333333,
              "#9c179e"
             ],
             [
              0.4444444444444444,
              "#bd3786"
             ],
             [
              0.5555555555555556,
              "#d8576b"
             ],
             [
              0.6666666666666666,
              "#ed7953"
             ],
             [
              0.7777777777777778,
              "#fb9f3a"
             ],
             [
              0.8888888888888888,
              "#fdca26"
             ],
             [
              1,
              "#f0f921"
             ]
            ],
            "type": "histogram2dcontour"
           }
          ],
          "mesh3d": [
           {
            "colorbar": {
             "outlinewidth": 0,
             "ticks": ""
            },
            "type": "mesh3d"
           }
          ],
          "parcoords": [
           {
            "line": {
             "colorbar": {
              "outlinewidth": 0,
              "ticks": ""
             }
            },
            "type": "parcoords"
           }
          ],
          "pie": [
           {
            "automargin": true,
            "type": "pie"
           }
          ],
          "scatter": [
           {
            "fillpattern": {
             "fillmode": "overlay",
             "size": 10,
             "solidity": 0.2
            },
            "type": "scatter"
           }
          ],
          "scatter3d": [
           {
            "line": {
             "colorbar": {
              "outlinewidth": 0,
              "ticks": ""
             }
            },
            "marker": {
             "colorbar": {
              "outlinewidth": 0,
              "ticks": ""
             }
            },
            "type": "scatter3d"
           }
          ],
          "scattercarpet": [
           {
            "marker": {
             "colorbar": {
              "outlinewidth": 0,
              "ticks": ""
             }
            },
            "type": "scattercarpet"
           }
          ],
          "scattergeo": [
           {
            "marker": {
             "colorbar": {
              "outlinewidth": 0,
              "ticks": ""
             }
            },
            "type": "scattergeo"
           }
          ],
          "scattergl": [
           {
            "marker": {
             "colorbar": {
              "outlinewidth": 0,
              "ticks": ""
             }
            },
            "type": "scattergl"
           }
          ],
          "scattermapbox": [
           {
            "marker": {
             "colorbar": {
              "outlinewidth": 0,
              "ticks": ""
             }
            },
            "type": "scattermapbox"
           }
          ],
          "scatterpolar": [
           {
            "marker": {
             "colorbar": {
              "outlinewidth": 0,
              "ticks": ""
             }
            },
            "type": "scatterpolar"
           }
          ],
          "scatterpolargl": [
           {
            "marker": {
             "colorbar": {
              "outlinewidth": 0,
              "ticks": ""
             }
            },
            "type": "scatterpolargl"
           }
          ],
          "scatterternary": [
           {
            "marker": {
             "colorbar": {
              "outlinewidth": 0,
              "ticks": ""
             }
            },
            "type": "scatterternary"
           }
          ],
          "surface": [
           {
            "colorbar": {
             "outlinewidth": 0,
             "ticks": ""
            },
            "colorscale": [
             [
              0,
              "#0d0887"
             ],
             [
              0.1111111111111111,
              "#46039f"
             ],
             [
              0.2222222222222222,
              "#7201a8"
             ],
             [
              0.3333333333333333,
              "#9c179e"
             ],
             [
              0.4444444444444444,
              "#bd3786"
             ],
             [
              0.5555555555555556,
              "#d8576b"
             ],
             [
              0.6666666666666666,
              "#ed7953"
             ],
             [
              0.7777777777777778,
              "#fb9f3a"
             ],
             [
              0.8888888888888888,
              "#fdca26"
             ],
             [
              1,
              "#f0f921"
             ]
            ],
            "type": "surface"
           }
          ],
          "table": [
           {
            "cells": {
             "fill": {
              "color": "#EBF0F8"
             },
             "line": {
              "color": "white"
             }
            },
            "header": {
             "fill": {
              "color": "#C8D4E3"
             },
             "line": {
              "color": "white"
             }
            },
            "type": "table"
           }
          ]
         },
         "layout": {
          "annotationdefaults": {
           "arrowcolor": "#2a3f5f",
           "arrowhead": 0,
           "arrowwidth": 1
          },
          "autotypenumbers": "strict",
          "coloraxis": {
           "colorbar": {
            "outlinewidth": 0,
            "ticks": ""
           }
          },
          "colorscale": {
           "diverging": [
            [
             0,
             "#8e0152"
            ],
            [
             0.1,
             "#c51b7d"
            ],
            [
             0.2,
             "#de77ae"
            ],
            [
             0.3,
             "#f1b6da"
            ],
            [
             0.4,
             "#fde0ef"
            ],
            [
             0.5,
             "#f7f7f7"
            ],
            [
             0.6,
             "#e6f5d0"
            ],
            [
             0.7,
             "#b8e186"
            ],
            [
             0.8,
             "#7fbc41"
            ],
            [
             0.9,
             "#4d9221"
            ],
            [
             1,
             "#276419"
            ]
           ],
           "sequential": [
            [
             0,
             "#0d0887"
            ],
            [
             0.1111111111111111,
             "#46039f"
            ],
            [
             0.2222222222222222,
             "#7201a8"
            ],
            [
             0.3333333333333333,
             "#9c179e"
            ],
            [
             0.4444444444444444,
             "#bd3786"
            ],
            [
             0.5555555555555556,
             "#d8576b"
            ],
            [
             0.6666666666666666,
             "#ed7953"
            ],
            [
             0.7777777777777778,
             "#fb9f3a"
            ],
            [
             0.8888888888888888,
             "#fdca26"
            ],
            [
             1,
             "#f0f921"
            ]
           ],
           "sequentialminus": [
            [
             0,
             "#0d0887"
            ],
            [
             0.1111111111111111,
             "#46039f"
            ],
            [
             0.2222222222222222,
             "#7201a8"
            ],
            [
             0.3333333333333333,
             "#9c179e"
            ],
            [
             0.4444444444444444,
             "#bd3786"
            ],
            [
             0.5555555555555556,
             "#d8576b"
            ],
            [
             0.6666666666666666,
             "#ed7953"
            ],
            [
             0.7777777777777778,
             "#fb9f3a"
            ],
            [
             0.8888888888888888,
             "#fdca26"
            ],
            [
             1,
             "#f0f921"
            ]
           ]
          },
          "colorway": [
           "#636efa",
           "#EF553B",
           "#00cc96",
           "#ab63fa",
           "#FFA15A",
           "#19d3f3",
           "#FF6692",
           "#B6E880",
           "#FF97FF",
           "#FECB52"
          ],
          "font": {
           "color": "#2a3f5f"
          },
          "geo": {
           "bgcolor": "white",
           "lakecolor": "white",
           "landcolor": "#E5ECF6",
           "showlakes": true,
           "showland": true,
           "subunitcolor": "white"
          },
          "hoverlabel": {
           "align": "left"
          },
          "hovermode": "closest",
          "mapbox": {
           "style": "light"
          },
          "paper_bgcolor": "white",
          "plot_bgcolor": "#E5ECF6",
          "polar": {
           "angularaxis": {
            "gridcolor": "white",
            "linecolor": "white",
            "ticks": ""
           },
           "bgcolor": "#E5ECF6",
           "radialaxis": {
            "gridcolor": "white",
            "linecolor": "white",
            "ticks": ""
           }
          },
          "scene": {
           "xaxis": {
            "backgroundcolor": "#E5ECF6",
            "gridcolor": "white",
            "gridwidth": 2,
            "linecolor": "white",
            "showbackground": true,
            "ticks": "",
            "zerolinecolor": "white"
           },
           "yaxis": {
            "backgroundcolor": "#E5ECF6",
            "gridcolor": "white",
            "gridwidth": 2,
            "linecolor": "white",
            "showbackground": true,
            "ticks": "",
            "zerolinecolor": "white"
           },
           "zaxis": {
            "backgroundcolor": "#E5ECF6",
            "gridcolor": "white",
            "gridwidth": 2,
            "linecolor": "white",
            "showbackground": true,
            "ticks": "",
            "zerolinecolor": "white"
           }
          },
          "shapedefaults": {
           "line": {
            "color": "#2a3f5f"
           }
          },
          "ternary": {
           "aaxis": {
            "gridcolor": "white",
            "linecolor": "white",
            "ticks": ""
           },
           "baxis": {
            "gridcolor": "white",
            "linecolor": "white",
            "ticks": ""
           },
           "bgcolor": "#E5ECF6",
           "caxis": {
            "gridcolor": "white",
            "linecolor": "white",
            "ticks": ""
           }
          },
          "title": {
           "x": 0.05
          },
          "xaxis": {
           "automargin": true,
           "gridcolor": "white",
           "linecolor": "white",
           "ticks": "",
           "title": {
            "standoff": 15
           },
           "zerolinecolor": "white",
           "zerolinewidth": 2
          },
          "yaxis": {
           "automargin": true,
           "gridcolor": "white",
           "linecolor": "white",
           "ticks": "",
           "title": {
            "standoff": 15
           },
           "zerolinecolor": "white",
           "zerolinewidth": 2
          }
         }
        },
        "title": {
         "text": "Sick Leave Percentage - Test, Predictions, and Forecast for C industie"
        },
        "width": 1100,
        "xaxis": {
         "range": [
          "2022-01-01T00:00:00",
          "2022-10-01T00:00:00"
         ],
         "showgrid": false,
         "tickformat": "%Y-%m",
         "title": {
          "text": "Date"
         }
        },
        "yaxis": {
         "gridcolor": "lightgrey",
         "linecolor": "black",
         "linewidth": 0.5,
         "showgrid": true,
         "showline": true,
         "title": {
          "text": "Sick Leave Percentage"
         }
        }
       }
      }
     },
     "metadata": {},
     "output_type": "display_data"
    }
   ],
   "source": [
    "# 16.Visualization with Combined Plot for Test, Predictions, and Forecast\n",
    "fig = go.Figure()\n",
    "\n",
    "# Add actual sick leave percentage line (test data)\n",
    "fig.add_trace(go.Scatter(\n",
    "    x=y_test.index,\n",
    "    y=y_test,\n",
    "    mode='lines+markers',\n",
    "    name='Actual',\n",
    "    line=dict(color='#0078d2', width=2)\n",
    "))\n",
    "\n",
    "# Add predictions line for test period\n",
    "fig.add_trace(go.Scatter(\n",
    "    x=y_test.index,\n",
    "    y=y_pred_test,\n",
    "    mode='lines+markers',\n",
    "    name='Predictions',\n",
    "    line=dict(color='orange', width=2, dash='dash')\n",
    "))\n",
    "\n",
    "# Add forecast line for future period\n",
    "fig.add_trace(go.Scatter(\n",
    "    x=pd.date_range(start=\"2023-01-01\", periods=4, freq='QS'),\n",
    "    y=forecast_mean,\n",
    "    mode='lines+markers',\n",
    "    name='Forecast',\n",
    "    line=dict(color='green', width=2, dash='dot')\n",
    "))\n",
    "\n",
    "# Add MAE values as text annotations\n",
    "fig.add_annotation(\n",
    "    xref=\"paper\", yref=\"paper\", x=0.00, y=1.15, showarrow=False,\n",
    "    text=f\"MAE for all four quarters: {mae_all:.4f}\",\n",
    "    font=dict(size=12, color=\"black\")\n",
    ")\n",
    "\n",
    "fig.add_annotation(\n",
    "    xref=\"paper\", yref=\"paper\", x=0.00, y=1.20, showarrow=False,\n",
    "    text=f\"MAE for next quarter (Q1): {mae_q1:.4f}\",\n",
    "    font=dict(size=12, color=\"black\")\n",
    ")\n",
    "\n",
    "# Set layout and design for better visualization\n",
    "fig.update_layout(\n",
    "    title=f'Sick Leave Percentage - Test, Predictions, and Forecast for {branch_name.capitalize()}',\n",
    "    xaxis_title='Date',\n",
    "    yaxis_title='Sick Leave Percentage',\n",
    "    plot_bgcolor='white',\n",
    "    xaxis=dict(\n",
    "        showgrid=False,\n",
    "        tickformat=\"%Y-%m\",  # Year-Month format for clearer date labeling\n",
    "        range=[y_test.index.min(), pd.Timestamp(\"2022-10-01\")]\n",
    "    ),\n",
    "    yaxis=dict(\n",
    "        showgrid=True, gridcolor='lightgrey', showline=True, linewidth=0.5, linecolor='black'\n",
    "    ),\n",
    "    legend=dict(\n",
    "        x=0.91, y=1.5, traceorder=\"normal\"\n",
    "    ),\n",
    "    font=dict(family=\"Roboto\", size=14),\n",
    "    margin=dict(l=50, r=50, t=80, b=50),\n",
    "    width=1100, height=500\n",
    ")\n",
    "\n",
    "# Show Plot\n",
    "fig.show()\n",
    "\n",
    "# Optionally Save Plot as HTML\n",
    "fig.write_html(\"C:/Users/c.hakker/Downloads/Sick_leave_predict_sarimax_g_handel.html\")"
   ]
  }
 ],
 "metadata": {
  "kernelspec": {
   "display_name": ".venv",
   "language": "python",
   "name": "python3"
  },
  "language_info": {
   "codemirror_mode": {
    "name": "ipython",
    "version": 3
   },
   "file_extension": ".py",
   "mimetype": "text/x-python",
   "name": "python",
   "nbconvert_exporter": "python",
   "pygments_lexer": "ipython3",
   "version": "3.12.3"
  }
 },
 "nbformat": 4,
 "nbformat_minor": 2
}
