{
 "cells": [
  {
   "cell_type": "code",
   "execution_count": null,
   "metadata": {},
   "outputs": [],
   "source": [
    "import pandas as pd\n",
    "\n",
    "unemploymentrate_quarter = pd.read_csv(r'C:\\Users\\mth2\\OneDrive - Gemeente Breda\\Bureaublad\\Github\\uwv\\data\\80590ned_TypedDataSet_16102024_141924.csv', delimiter=';')\n",
    "unemploymentrate_quarter = unemploymentrate_quarter.drop(['ID', 'Geslacht', 'Leeftijd'], axis=1)\n",
    "\n",
    "sickleave_quarter = pd.read_csv(r'C:\\Users\\mth2\\OneDrive - Gemeente Breda\\Bureaublad\\Github\\uwv\\data\\80072ned_TypedDataSet_16102024_143244.csv', delimiter=';')\n",
    "sickleave_quarter = sickleave_quarter.drop(['ID', 'BedrijfskenmerkenSBI2008'], axis=1)\n",
    "\n",
    "merged_df = pd.merge(unemploymentrate_quarter, sickleave_quarter, on = 'Perioden')\n",
    "\n",
    "merged_df"
   ]
  },
  {
   "cell_type": "code",
   "execution_count": null,
   "metadata": {},
   "outputs": [],
   "source": [
    "merged_df.info()"
   ]
  },
  {
   "cell_type": "code",
   "execution_count": null,
   "metadata": {},
   "outputs": [],
   "source": [
    "columns_to_compare = ['Ziekteverzuimpercentage_1', 'NietSeizoengecorrigeerd_7', 'Seizoengecorrigeerd_8']\n",
    "\n",
    "correlation_matrix = merged_df[columns_to_compare].corr()\n",
    "print(correlation_matrix)"
   ]
  },
  {
   "cell_type": "code",
   "execution_count": null,
   "metadata": {},
   "outputs": [],
   "source": [
    "import seaborn as sns\n",
    "import matplotlib.pyplot as plt\n",
    "\n",
    "plt.figure(figsize=(3, 3))\n",
    "sns.heatmap(correlation_matrix, annot=True, cmap='coolwarm', vmin=-1, vmax=1)\n",
    "plt.title('Correlation Matrix sick leave and unemployment rate')\n",
    "plt.show()"
   ]
  },
  {
   "cell_type": "code",
   "execution_count": null,
   "metadata": {},
   "outputs": [],
   "source": [
    "import plotly.graph_objects as go\n",
    "\n",
    "# Create the figure\n",
    "fig = go.Figure()\n",
    "\n",
    "# Add the sickleave to the left y-axis\n",
    "fig.add_trace(\n",
    "    go.Scatter(\n",
    "        x=merged_df['Perioden'], \n",
    "        y=merged_df['Ziekteverzuimpercentage_1'],\n",
    "        mode='lines', \n",
    "        name='CBS Sick Leave Percentage', \n",
    "        line=dict(color='#0078d2'),\n",
    "        yaxis='y1'\n",
    "    )\n",
    ")\n",
    "\n",
    "# Add the unemploymentrate to the right y-axis\n",
    "fig.add_trace(\n",
    "    go.Scatter(\n",
    "        x=merged_df['Perioden'], \n",
    "        y=merged_df['Seizoengecorrigeerd_8'], \n",
    "        mode='lines', \n",
    "        name='CBS Unemployment rate seasonal', \n",
    "        line=dict(color='#ff6b08'),\n",
    "        yaxis='y2'\n",
    "    )\n",
    ")\n",
    "\n",
    "# Update the layout for two y-axes with customized settings\n",
    "fig.update_layout(\n",
    "    title='How Unemployment rates affect Absenteeism',\n",
    "    xaxis=dict(\n",
    "        title='Period',\n",
    "        showgrid=False,\n",
    "    ),\n",
    "    yaxis=dict(\n",
    "        title='Sick Leave Percentage',\n",
    "        range=[0, 8],\n",
    "            ),\n",
    "    yaxis2=dict(\n",
    "        title='Unemployment rate',\n",
    "        anchor='x',\n",
    "        overlaying='y',\n",
    "        side='right',\n",
    "        range=[0, 10]\n",
    "    ),\n",
    "    legend=dict(\n",
    "        x=1.1,  # Move the legend to the top-right corner\n",
    "        y=1.4,\n",
    "        xanchor='right',\n",
    "        font=dict(\n",
    "            family='Roboto',  # Set font to Roboto\n",
    "            size=12\n",
    "        )\n",
    "    ),\n",
    "    font=dict(\n",
    "        family='Roboto',  # Set global font to Roboto\n",
    "        size=14\n",
    "    ),\n",
    "    plot_bgcolor='white',  # Set background color to white\n",
    ")\n",
    "\n",
    "# Define the width and height of the plot (adjust as needed)\n",
    "plot_width = 1000  # Width of the plot in pixels\n",
    "plot_height = 600  # Height of the plot in pixels\n",
    "\n",
    "# Show the plot\n",
    "fig.show()"
   ]
  }
 ],
 "metadata": {
  "kernelspec": {
   "display_name": ".venv",
   "language": "python",
   "name": "python3"
  },
  "language_info": {
   "codemirror_mode": {
    "name": "ipython",
    "version": 3
   },
   "file_extension": ".py",
   "mimetype": "text/x-python",
   "name": "python",
   "nbconvert_exporter": "python",
   "pygments_lexer": "ipython3",
   "version": "3.12.3"
  }
 },
 "nbformat": 4,
 "nbformat_minor": 2
}
