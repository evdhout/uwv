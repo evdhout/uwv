{
 "cells": [
  {
   "cell_type": "code",
   "execution_count": 26,
   "metadata": {},
   "outputs": [
    {
     "data": {
      "text/html": [
       "<div>\n",
       "<style scoped>\n",
       "    .dataframe tbody tr th:only-of-type {\n",
       "        vertical-align: middle;\n",
       "    }\n",
       "\n",
       "    .dataframe tbody tr th {\n",
       "        vertical-align: top;\n",
       "    }\n",
       "\n",
       "    .dataframe thead th {\n",
       "        text-align: right;\n",
       "    }\n",
       "</style>\n",
       "<table border=\"1\" class=\"dataframe\">\n",
       "  <thead>\n",
       "    <tr style=\"text-align: right;\">\n",
       "      <th></th>\n",
       "      <th>Perioden</th>\n",
       "      <th>NietSeizoengecorrigeerd_7</th>\n",
       "      <th>Seizoengecorrigeerd_8</th>\n",
       "      <th>Ziekteverzuimpercentage_1</th>\n",
       "    </tr>\n",
       "  </thead>\n",
       "  <tbody>\n",
       "    <tr>\n",
       "      <th>0</th>\n",
       "      <td>2003KW01</td>\n",
       "      <td>5.8</td>\n",
       "      <td>5.4</td>\n",
       "      <td>5.3</td>\n",
       "    </tr>\n",
       "    <tr>\n",
       "      <th>1</th>\n",
       "      <td>2003KW02</td>\n",
       "      <td>5.8</td>\n",
       "      <td>5.8</td>\n",
       "      <td>4.6</td>\n",
       "    </tr>\n",
       "    <tr>\n",
       "      <th>2</th>\n",
       "      <td>2003KW03</td>\n",
       "      <td>5.8</td>\n",
       "      <td>6.1</td>\n",
       "      <td>4.1</td>\n",
       "    </tr>\n",
       "    <tr>\n",
       "      <th>3</th>\n",
       "      <td>2003KW04</td>\n",
       "      <td>6.2</td>\n",
       "      <td>6.4</td>\n",
       "      <td>4.8</td>\n",
       "    </tr>\n",
       "    <tr>\n",
       "      <th>4</th>\n",
       "      <td>2004KW01</td>\n",
       "      <td>7.0</td>\n",
       "      <td>6.6</td>\n",
       "      <td>4.7</td>\n",
       "    </tr>\n",
       "    <tr>\n",
       "      <th>...</th>\n",
       "      <td>...</td>\n",
       "      <td>...</td>\n",
       "      <td>...</td>\n",
       "      <td>...</td>\n",
       "    </tr>\n",
       "    <tr>\n",
       "      <th>81</th>\n",
       "      <td>2023KW02</td>\n",
       "      <td>3.4</td>\n",
       "      <td>3.5</td>\n",
       "      <td>5.0</td>\n",
       "    </tr>\n",
       "    <tr>\n",
       "      <th>82</th>\n",
       "      <td>2023KW03</td>\n",
       "      <td>3.6</td>\n",
       "      <td>3.6</td>\n",
       "      <td>4.8</td>\n",
       "    </tr>\n",
       "    <tr>\n",
       "      <th>83</th>\n",
       "      <td>2023KW04</td>\n",
       "      <td>3.4</td>\n",
       "      <td>3.5</td>\n",
       "      <td>5.5</td>\n",
       "    </tr>\n",
       "    <tr>\n",
       "      <th>84</th>\n",
       "      <td>2024KW01</td>\n",
       "      <td>3.8</td>\n",
       "      <td>3.7</td>\n",
       "      <td>5.5</td>\n",
       "    </tr>\n",
       "    <tr>\n",
       "      <th>85</th>\n",
       "      <td>2024KW02</td>\n",
       "      <td>3.6</td>\n",
       "      <td>3.6</td>\n",
       "      <td>5.1</td>\n",
       "    </tr>\n",
       "  </tbody>\n",
       "</table>\n",
       "<p>86 rows × 4 columns</p>\n",
       "</div>"
      ],
      "text/plain": [
       "    Perioden  NietSeizoengecorrigeerd_7  Seizoengecorrigeerd_8  \\\n",
       "0   2003KW01                        5.8                    5.4   \n",
       "1   2003KW02                        5.8                    5.8   \n",
       "2   2003KW03                        5.8                    6.1   \n",
       "3   2003KW04                        6.2                    6.4   \n",
       "4   2004KW01                        7.0                    6.6   \n",
       "..       ...                        ...                    ...   \n",
       "81  2023KW02                        3.4                    3.5   \n",
       "82  2023KW03                        3.6                    3.6   \n",
       "83  2023KW04                        3.4                    3.5   \n",
       "84  2024KW01                        3.8                    3.7   \n",
       "85  2024KW02                        3.6                    3.6   \n",
       "\n",
       "    Ziekteverzuimpercentage_1  \n",
       "0                         5.3  \n",
       "1                         4.6  \n",
       "2                         4.1  \n",
       "3                         4.8  \n",
       "4                         4.7  \n",
       "..                        ...  \n",
       "81                        5.0  \n",
       "82                        4.8  \n",
       "83                        5.5  \n",
       "84                        5.5  \n",
       "85                        5.1  \n",
       "\n",
       "[86 rows x 4 columns]"
      ]
     },
     "execution_count": 26,
     "metadata": {},
     "output_type": "execute_result"
    }
   ],
   "source": [
    "import pandas as pd\n",
    "\n",
    "unemploymentrate_quarter = pd.read_csv(r'C:\\Users\\mth2\\OneDrive - Gemeente Breda\\Bureaublad\\Github\\uwv\\data\\80590ned_TypedDataSet_16102024_141924.csv', delimiter=';')\n",
    "unemploymentrate_quarter = unemploymentrate_quarter.drop(['ID', 'Geslacht', 'Leeftijd'], axis=1)\n",
    "\n",
    "sickleave_quarter = pd.read_csv(r'C:\\Users\\mth2\\OneDrive - Gemeente Breda\\Bureaublad\\Github\\uwv\\data\\80072ned_TypedDataSet_16102024_143244.csv', delimiter=';')\n",
    "sickleave_quarter = sickleave_quarter.drop(['ID', 'BedrijfskenmerkenSBI2008'], axis=1)\n",
    "\n",
    "merged_df = pd.merge(unemploymentrate_quarter, sickleave_quarter, on = 'Perioden')\n",
    "\n",
    "merged_df"
   ]
  },
  {
   "cell_type": "code",
   "execution_count": 27,
   "metadata": {},
   "outputs": [
    {
     "name": "stdout",
     "output_type": "stream",
     "text": [
      "<class 'pandas.core.frame.DataFrame'>\n",
      "RangeIndex: 86 entries, 0 to 85\n",
      "Data columns (total 4 columns):\n",
      " #   Column                     Non-Null Count  Dtype  \n",
      "---  ------                     --------------  -----  \n",
      " 0   Perioden                   86 non-null     object \n",
      " 1   NietSeizoengecorrigeerd_7  86 non-null     float64\n",
      " 2   Seizoengecorrigeerd_8      86 non-null     float64\n",
      " 3   Ziekteverzuimpercentage_1  86 non-null     float64\n",
      "dtypes: float64(3), object(1)\n",
      "memory usage: 2.8+ KB\n"
     ]
    }
   ],
   "source": [
    "merged_df.info()"
   ]
  },
  {
   "cell_type": "code",
   "execution_count": 28,
   "metadata": {},
   "outputs": [
    {
     "name": "stdout",
     "output_type": "stream",
     "text": [
      "                           Ziekteverzuimpercentage_1  \\\n",
      "Ziekteverzuimpercentage_1                   1.000000   \n",
      "NietSeizoengecorrigeerd_7                  -0.605081   \n",
      "Seizoengecorrigeerd_8                      -0.666669   \n",
      "\n",
      "                           NietSeizoengecorrigeerd_7  Seizoengecorrigeerd_8  \n",
      "Ziekteverzuimpercentage_1                  -0.605081              -0.666669  \n",
      "NietSeizoengecorrigeerd_7                   1.000000               0.990828  \n",
      "Seizoengecorrigeerd_8                       0.990828               1.000000  \n"
     ]
    }
   ],
   "source": [
    "columns_to_compare = ['Ziekteverzuimpercentage_1', 'NietSeizoengecorrigeerd_7', 'Seizoengecorrigeerd_8']\n",
    "\n",
    "correlation_matrix = merged_df[columns_to_compare].corr()\n",
    "print(correlation_matrix)"
   ]
  },
  {
   "cell_type": "code",
   "execution_count": 29,
   "metadata": {},
   "outputs": [
    {
     "data": {
      "image/png": "[encoded data removed]",
      "text/plain": [
       "<Figure size 300x300 with 2 Axes>"
      ]
     },
     "metadata": {},
     "output_type": "display_data"
    }
   ],
   "source": [
    "import seaborn as sns\n",
    "import matplotlib.pyplot as plt\n",
    "\n",
    "plt.figure(figsize=(3, 3))\n",
    "sns.heatmap(correlation_matrix, annot=True, cmap='coolwarm', vmin=-1, vmax=1)\n",
    "plt.title('Correlation Matrix sick leave and unemployment rate')\n",
    "plt.show()"
   ]
  },
  {
   "cell_type": "code",
   "execution_count": 30,
   "metadata": {},
   "outputs": [
    {
     "data": {
      "application/vnd.plotly.v1+json": {
       "config": {
        "plotlyServerURL": "https://plot.ly"
       },
       "data": [
        {
         "line": {
          "color": "#0078d2"
         },
         "mode": "lines",
         "name": "CBS Sick Leave Percentage",
         "type": "scatter",
         "x": [
          "2003KW01",
          "2003KW02",
          "2003KW03",
          "2003KW04",
          "2004KW01",
          "2004KW02",
          "2004KW03",
          "2004KW04",
          "2005KW01",
          "2005KW02",
          "2005KW03",
          "2005KW04",
          "2006KW01",
          "2006KW02",
          "2006KW03",
          "2006KW04",
          "2007KW01",
          "2007KW02",
          "2007KW03",
          "2007KW04",
          "2008KW01",
          "2008KW02",
          "2008KW03",
          "2008KW04",
          "2009KW01",
          "2009KW02",
          "2009KW03",
          "2009KW04",
          "2010KW01",
          "2010KW02",
          "2010KW03",
          "2010KW04",
          "2011KW01",
          "2011KW02",
          "2011KW03",
          "2011KW04",
          "2012KW01",
          "2012KW02",
          "2012KW03",
          "2012KW04",
          "2013KW01",
          "2013KW02",
          "2013KW03",
          "2013KW04",
          "2014KW01",
          "2014KW02",
          "2014KW03",
          "2014KW04",
          "2015KW01",
          "2015KW02",
          "2015KW03",
          "2015KW04",
          "2016KW01",
          "2016KW02",
          "2016KW03",
          "2016KW04",
          "2017KW01",
          "2017KW02",
          "2017KW03",
          "2017KW04",
          "2018KW01",
          "2018KW02",
          "2018KW03",
          "2018KW04",
          "2019KW01",
          "2019KW02",
          "2019KW03",
          "2019KW04",
          "2020KW01",
          "2020KW02",
          "2020KW03",
          "2020KW04",
          "2021KW01",
          "2021KW02",
          "2021KW03",
          "2021KW04",
          "2022KW01",
          "2022KW02",
          "2022KW03",
          "2022KW04",
          "2023KW01",
          "2023KW02",
          "2023KW03",
          "2023KW04",
          "2024KW01",
          "2024KW02"
         ],
         "y": [
          5.3,
          4.6,
          4.1,
          4.8,
          4.7,
          4,
          3.7,
          4.3,
          4.6,
          3.9,
          3.6,
          4.2,
          4.6,
          4,
          3.7,
          4.3,
          4.6,
          4,
          3.7,
          4.3,
          4.6,
          4,
          3.7,
          4.2,
          4.5,
          3.8,
          3.7,
          4.4,
          4.4,
          4,
          3.9,
          4.4,
          4.6,
          4.1,
          3.8,
          4.2,
          4.4,
          3.9,
          3.6,
          4.1,
          4.5,
          3.8,
          3.5,
          3.9,
          4,
          3.7,
          3.5,
          4,
          4.4,
          3.7,
          3.5,
          3.9,
          4.3,
          3.8,
          3.5,
          4.1,
          4.3,
          3.9,
          3.7,
          4.2,
          4.9,
          4.1,
          3.9,
          4.3,
          4.7,
          4.3,
          4,
          4.5,
          5.2,
          4.5,
          4.4,
          4.9,
          4.8,
          4.7,
          4.6,
          5.4,
          6.3,
          5.4,
          5,
          5.6,
          5.7,
          5,
          4.8,
          5.5,
          5.5,
          5.1
         ],
         "yaxis": "y"
        },
        {
         "line": {
          "color": "#ff6b08"
         },
         "mode": "lines",
         "name": "CBS Unemployment rate seasonal",
         "type": "scatter",
         "x": [
          "2003KW01",
          "2003KW02",
          "2003KW03",
          "2003KW04",
          "2004KW01",
          "2004KW02",
          "2004KW03",
          "2004KW04",
          "2005KW01",
          "2005KW02",
          "2005KW03",
          "2005KW04",
          "2006KW01",
          "2006KW02",
          "2006KW03",
          "2006KW04",
          "2007KW01",
          "2007KW02",
          "2007KW03",
          "2007KW04",
          "2008KW01",
          "2008KW02",
          "2008KW03",
          "2008KW04",
          "2009KW01",
          "2009KW02",
          "2009KW03",
          "2009KW04",
          "2010KW01",
          "2010KW02",
          "2010KW03",
          "2010KW04",
          "2011KW01",
          "2011KW02",
          "2011KW03",
          "2011KW04",
          "2012KW01",
          "2012KW02",
          "2012KW03",
          "2012KW04",
          "2013KW01",
          "2013KW02",
          "2013KW03",
          "2013KW04",
          "2014KW01",
          "2014KW02",
          "2014KW03",
          "2014KW04",
          "2015KW01",
          "2015KW02",
          "2015KW03",
          "2015KW04",
          "2016KW01",
          "2016KW02",
          "2016KW03",
          "2016KW04",
          "2017KW01",
          "2017KW02",
          "2017KW03",
          "2017KW04",
          "2018KW01",
          "2018KW02",
          "2018KW03",
          "2018KW04",
          "2019KW01",
          "2019KW02",
          "2019KW03",
          "2019KW04",
          "2020KW01",
          "2020KW02",
          "2020KW03",
          "2020KW04",
          "2021KW01",
          "2021KW02",
          "2021KW03",
          "2021KW04",
          "2022KW01",
          "2022KW02",
          "2022KW03",
          "2022KW04",
          "2023KW01",
          "2023KW02",
          "2023KW03",
          "2023KW04",
          "2024KW01",
          "2024KW02"
         ],
         "y": [
          5.4,
          5.8,
          6.1,
          6.4,
          6.6,
          6.9,
          6.7,
          6.9,
          7.1,
          7.1,
          6.9,
          6.8,
          6.5,
          6.1,
          5.9,
          5.8,
          5.6,
          5.3,
          5.2,
          5.1,
          4.8,
          4.8,
          4.7,
          4.7,
          4.9,
          5.2,
          5.6,
          5.9,
          6.2,
          6.1,
          6.1,
          5.9,
          5.8,
          5.8,
          6.1,
          6.5,
          6.5,
          6.7,
          6.9,
          7.2,
          7.7,
          8.2,
          8.5,
          8.5,
          8.7,
          8.5,
          8.1,
          8.1,
          8.2,
          8,
          7.7,
          7.7,
          7.4,
          7.2,
          6.8,
          6.5,
          6.3,
          6,
          5.8,
          5.4,
          5.1,
          4.9,
          4.9,
          4.6,
          4.5,
          4.4,
          4.5,
          4.4,
          4,
          4.8,
          5.5,
          5.1,
          4.6,
          4.3,
          4.1,
          3.8,
          3.5,
          3.3,
          3.7,
          3.6,
          3.6,
          3.5,
          3.6,
          3.5,
          3.7,
          3.6
         ],
         "yaxis": "y2"
        }
       ],
       "layout": {
        "font": {
         "family": "Arial",
         "size": 14
        },
        "legend": {
         "font": {
          "family": "Arial",
          "size": 12
         },
         "x": 1.1,
         "xanchor": "right",
         "y": 1.4
        },
        "plot_bgcolor": "white",
        "template": {
         "data": {
          "bar": [
           {
            "error_x": {
             "color": "#2a3f5f"
            },
            "error_y": {
             "color": "#2a3f5f"
            },
            "marker": {
             "line": {
              "color": "#E5ECF6",
              "width": 0.5
             },
             "pattern": {
              "fillmode": "overlay",
              "size": 10,
              "solidity": 0.2
             }
            },
            "type": "bar"
           }
          ],
          "barpolar": [
           {
            "marker": {
             "line": {
              "color": "#E5ECF6",
              "width": 0.5
             },
             "pattern": {
              "fillmode": "overlay",
              "size": 10,
              "solidity": 0.2
             }
            },
            "type": "barpolar"
           }
          ],
          "carpet": [
           {
            "aaxis": {
             "endlinecolor": "#2a3f5f",
             "gridcolor": "white",
             "linecolor": "white",
             "minorgridcolor": "white",
             "startlinecolor": "#2a3f5f"
            },
            "baxis": {
             "endlinecolor": "#2a3f5f",
             "gridcolor": "white",
             "linecolor": "white",
             "minorgridcolor": "white",
             "startlinecolor": "#2a3f5f"
            },
            "type": "carpet"
           }
          ],
          "choropleth": [
           {
            "colorbar": {
             "outlinewidth": 0,
             "ticks": ""
            },
            "type": "choropleth"
           }
          ],
          "contour": [
           {
            "colorbar": {
             "outlinewidth": 0,
             "ticks": ""
            },
            "colorscale": [
             [
              0,
              "#0d0887"
             ],
             [
              0.1111111111111111,
              "#46039f"
             ],
             [
              0.2222222222222222,
              "#7201a8"
             ],
             [
              0.3333333333333333,
              "#9c179e"
             ],
             [
              0.4444444444444444,
              "#bd3786"
             ],
             [
              0.5555555555555556,
              "#d8576b"
             ],
             [
              0.6666666666666666,
              "#ed7953"
             ],
             [
              0.7777777777777778,
              "#fb9f3a"
             ],
             [
              0.8888888888888888,
              "#fdca26"
             ],
             [
              1,
              "#f0f921"
             ]
            ],
            "type": "contour"
           }
          ],
          "contourcarpet": [
           {
            "colorbar": {
             "outlinewidth": 0,
             "ticks": ""
            },
            "type": "contourcarpet"
           }
          ],
          "heatmap": [
           {
            "colorbar": {
             "outlinewidth": 0,
             "ticks": ""
            },
            "colorscale": [
             [
              0,
              "#0d0887"
             ],
             [
              0.1111111111111111,
              "#46039f"
             ],
             [
              0.2222222222222222,
              "#7201a8"
             ],
             [
              0.3333333333333333,
              "#9c179e"
             ],
             [
              0.4444444444444444,
              "#bd3786"
             ],
             [
              0.5555555555555556,
              "#d8576b"
             ],
             [
              0.6666666666666666,
              "#ed7953"
             ],
             [
              0.7777777777777778,
              "#fb9f3a"
             ],
             [
              0.8888888888888888,
              "#fdca26"
             ],
             [
              1,
              "#f0f921"
             ]
            ],
            "type": "heatmap"
           }
          ],
          "heatmapgl": [
           {
            "colorbar": {
             "outlinewidth": 0,
             "ticks": ""
            },
            "colorscale": [
             [
              0,
              "#0d0887"
             ],
             [
              0.1111111111111111,
              "#46039f"
             ],
             [
              0.2222222222222222,
              "#7201a8"
             ],
             [
              0.3333333333333333,
              "#9c179e"
             ],
             [
              0.4444444444444444,
              "#bd3786"
             ],
             [
              0.5555555555555556,
              "#d8576b"
             ],
             [
              0.6666666666666666,
              "#ed7953"
             ],
             [
              0.7777777777777778,
              "#fb9f3a"
             ],
             [
              0.8888888888888888,
              "#fdca26"
             ],
             [
              1,
              "#f0f921"
             ]
            ],
            "type": "heatmapgl"
           }
          ],
          "histogram": [
           {
            "marker": {
             "pattern": {
              "fillmode": "overlay",
              "size": 10,
              "solidity": 0.2
             }
            },
            "type": "histogram"
           }
          ],
          "histogram2d": [
           {
            "colorbar": {
             "outlinewidth": 0,
             "ticks": ""
            },
            "colorscale": [
             [
              0,
              "#0d0887"
             ],
             [
              0.1111111111111111,
              "#46039f"
             ],
             [
              0.2222222222222222,
              "#7201a8"
             ],
             [
              0.3333333333333333,
              "#9c179e"
             ],
             [
              0.4444444444444444,
              "#bd3786"
             ],
             [
              0.5555555555555556,
              "#d8576b"
             ],
             [
              0.6666666666666666,
              "#ed7953"
             ],
             [
              0.7777777777777778,
              "#fb9f3a"
             ],
             [
              0.8888888888888888,
              "#fdca26"
             ],
             [
              1,
              "#f0f921"
             ]
            ],
            "type": "histogram2d"
           }
          ],
          "histogram2dcontour": [
           {
            "colorbar": {
             "outlinewidth": 0,
             "ticks": ""
            },
            "colorscale": [
             [
              0,
              "#0d0887"
             ],
             [
              0.1111111111111111,
              "#46039f"
             ],
             [
              0.2222222222222222,
              "#7201a8"
             ],
             [
              0.3333333333333333,
              "#9c179e"
             ],
             [
              0.4444444444444444,
              "#bd3786"
             ],
             [
              0.5555555555555556,
              "#d8576b"
             ],
             [
              0.6666666666666666,
              "#ed7953"
             ],
             [
              0.7777777777777778,
              "#fb9f3a"
             ],
             [
              0.8888888888888888,
              "#fdca26"
             ],
             [
              1,
              "#f0f921"
             ]
            ],
            "type": "histogram2dcontour"
           }
          ],
          "mesh3d": [
           {
            "colorbar": {
             "outlinewidth": 0,
             "ticks": ""
            },
            "type": "mesh3d"
           }
          ],
          "parcoords": [
           {
            "line": {
             "colorbar": {
              "outlinewidth": 0,
              "ticks": ""
             }
            },
            "type": "parcoords"
           }
          ],
          "pie": [
           {
            "automargin": true,
            "type": "pie"
           }
          ],
          "scatter": [
           {
            "fillpattern": {
             "fillmode": "overlay",
             "size": 10,
             "solidity": 0.2
            },
            "type": "scatter"
           }
          ],
          "scatter3d": [
           {
            "line": {
             "colorbar": {
              "outlinewidth": 0,
              "ticks": ""
             }
            },
            "marker": {
             "colorbar": {
              "outlinewidth": 0,
              "ticks": ""
             }
            },
            "type": "scatter3d"
           }
          ],
          "scattercarpet": [
           {
            "marker": {
             "colorbar": {
              "outlinewidth": 0,
              "ticks": ""
             }
            },
            "type": "scattercarpet"
           }
          ],
          "scattergeo": [
           {
            "marker": {
             "colorbar": {
              "outlinewidth": 0,
              "ticks": ""
             }
            },
            "type": "scattergeo"
           }
          ],
          "scattergl": [
           {
            "marker": {
             "colorbar": {
              "outlinewidth": 0,
              "ticks": ""
             }
            },
            "type": "scattergl"
           }
          ],
          "scattermapbox": [
           {
            "marker": {
             "colorbar": {
              "outlinewidth": 0,
              "ticks": ""
             }
            },
            "type": "scattermapbox"
           }
          ],
          "scatterpolar": [
           {
            "marker": {
             "colorbar": {
              "outlinewidth": 0,
              "ticks": ""
             }
            },
            "type": "scatterpolar"
           }
          ],
          "scatterpolargl": [
           {
            "marker": {
             "colorbar": {
              "outlinewidth": 0,
              "ticks": ""
             }
            },
            "type": "scatterpolargl"
           }
          ],
          "scatterternary": [
           {
            "marker": {
             "colorbar": {
              "outlinewidth": 0,
              "ticks": ""
             }
            },
            "type": "scatterternary"
           }
          ],
          "surface": [
           {
            "colorbar": {
             "outlinewidth": 0,
             "ticks": ""
            },
            "colorscale": [
             [
              0,
              "#0d0887"
             ],
             [
              0.1111111111111111,
              "#46039f"
             ],
             [
              0.2222222222222222,
              "#7201a8"
             ],
             [
              0.3333333333333333,
              "#9c179e"
             ],
             [
              0.4444444444444444,
              "#bd3786"
             ],
             [
              0.5555555555555556,
              "#d8576b"
             ],
             [
              0.6666666666666666,
              "#ed7953"
             ],
             [
              0.7777777777777778,
              "#fb9f3a"
             ],
             [
              0.8888888888888888,
              "#fdca26"
             ],
             [
              1,
              "#f0f921"
             ]
            ],
            "type": "surface"
           }
          ],
          "table": [
           {
            "cells": {
             "fill": {
              "color": "#EBF0F8"
             },
             "line": {
              "color": "white"
             }
            },
            "header": {
             "fill": {
              "color": "#C8D4E3"
             },
             "line": {
              "color": "white"
             }
            },
            "type": "table"
           }
          ]
         },
         "layout": {
          "annotationdefaults": {
           "arrowcolor": "#2a3f5f",
           "arrowhead": 0,
           "arrowwidth": 1
          },
          "autotypenumbers": "strict",
          "coloraxis": {
           "colorbar": {
            "outlinewidth": 0,
            "ticks": ""
           }
          },
          "colorscale": {
           "diverging": [
            [
             0,
             "#8e0152"
            ],
            [
             0.1,
             "#c51b7d"
            ],
            [
             0.2,
             "#de77ae"
            ],
            [
             0.3,
             "#f1b6da"
            ],
            [
             0.4,
             "#fde0ef"
            ],
            [
             0.5,
             "#f7f7f7"
            ],
            [
             0.6,
             "#e6f5d0"
            ],
            [
             0.7,
             "#b8e186"
            ],
            [
             0.8,
             "#7fbc41"
            ],
            [
             0.9,
             "#4d9221"
            ],
            [
             1,
             "#276419"
            ]
           ],
           "sequential": [
            [
             0,
             "#0d0887"
            ],
            [
             0.1111111111111111,
             "#46039f"
            ],
            [
             0.2222222222222222,
             "#7201a8"
            ],
            [
             0.3333333333333333,
             "#9c179e"
            ],
            [
             0.4444444444444444,
             "#bd3786"
            ],
            [
             0.5555555555555556,
             "#d8576b"
            ],
            [
             0.6666666666666666,
             "#ed7953"
            ],
            [
             0.7777777777777778,
             "#fb9f3a"
            ],
            [
             0.8888888888888888,
             "#fdca26"
            ],
            [
             1,
             "#f0f921"
            ]
           ],
           "sequentialminus": [
            [
             0,
             "#0d0887"
            ],
            [
             0.1111111111111111,
             "#46039f"
            ],
            [
             0.2222222222222222,
             "#7201a8"
            ],
            [
             0.3333333333333333,
             "#9c179e"
            ],
            [
             0.4444444444444444,
             "#bd3786"
            ],
            [
             0.5555555555555556,
             "#d8576b"
            ],
            [
             0.6666666666666666,
             "#ed7953"
            ],
            [
             0.7777777777777778,
             "#fb9f3a"
            ],
            [
             0.8888888888888888,
             "#fdca26"
            ],
            [
             1,
             "#f0f921"
            ]
           ]
          },
          "colorway": [
           "#636efa",
           "#EF553B",
           "#00cc96",
           "#ab63fa",
           "#FFA15A",
           "#19d3f3",
           "#FF6692",
           "#B6E880",
           "#FF97FF",
           "#FECB52"
          ],
          "font": {
           "color": "#2a3f5f"
          },
          "geo": {
           "bgcolor": "white",
           "lakecolor": "white",
           "landcolor": "#E5ECF6",
           "showlakes": true,
           "showland": true,
           "subunitcolor": "white"
          },
          "hoverlabel": {
           "align": "left"
          },
          "hovermode": "closest",
          "mapbox": {
           "style": "light"
          },
          "paper_bgcolor": "white",
          "plot_bgcolor": "#E5ECF6",
          "polar": {
           "angularaxis": {
            "gridcolor": "white",
            "linecolor": "white",
            "ticks": ""
           },
           "bgcolor": "#E5ECF6",
           "radialaxis": {
            "gridcolor": "white",
            "linecolor": "white",
            "ticks": ""
           }
          },
          "scene": {
           "xaxis": {
            "backgroundcolor": "#E5ECF6",
            "gridcolor": "white",
            "gridwidth": 2,
            "linecolor": "white",
            "showbackground": true,
            "ticks": "",
            "zerolinecolor": "white"
           },
           "yaxis": {
            "backgroundcolor": "#E5ECF6",
            "gridcolor": "white",
            "gridwidth": 2,
            "linecolor": "white",
            "showbackground": true,
            "ticks": "",
            "zerolinecolor": "white"
           },
           "zaxis": {
            "backgroundcolor": "#E5ECF6",
            "gridcolor": "white",
            "gridwidth": 2,
            "linecolor": "white",
            "showbackground": true,
            "ticks": "",
            "zerolinecolor": "white"
           }
          },
          "shapedefaults": {
           "line": {
            "color": "#2a3f5f"
           }
          },
          "ternary": {
           "aaxis": {
            "gridcolor": "white",
            "linecolor": "white",
            "ticks": ""
           },
           "baxis": {
            "gridcolor": "white",
            "linecolor": "white",
            "ticks": ""
           },
           "bgcolor": "#E5ECF6",
           "caxis": {
            "gridcolor": "white",
            "linecolor": "white",
            "ticks": ""
           }
          },
          "title": {
           "x": 0.05
          },
          "xaxis": {
           "automargin": true,
           "gridcolor": "white",
           "linecolor": "white",
           "ticks": "",
           "title": {
            "standoff": 15
           },
           "zerolinecolor": "white",
           "zerolinewidth": 2
          },
          "yaxis": {
           "automargin": true,
           "gridcolor": "white",
           "linecolor": "white",
           "ticks": "",
           "title": {
            "standoff": 15
           },
           "zerolinecolor": "white",
           "zerolinewidth": 2
          }
         }
        },
        "title": {
         "text": "How Unemployment rates affect Absenteeism"
        },
        "xaxis": {
         "showgrid": false,
         "title": {
          "text": "Period"
         }
        },
        "yaxis": {
         "range": [
          0,
          8
         ],
         "title": {
          "text": "Sick Leave Percentage"
         }
        },
        "yaxis2": {
         "anchor": "x",
         "overlaying": "y",
         "range": [
          0,
          10
         ],
         "side": "right",
         "title": {
          "text": "Unemployment rate"
         }
        }
       }
      }
     },
     "metadata": {},
     "output_type": "display_data"
    }
   ],
   "source": [
    "import plotly.graph_objects as go\n",
    "\n",
    "# Create the figure\n",
    "fig = go.Figure()\n",
    "\n",
    "# Add the sickleave to the left y-axis\n",
    "fig.add_trace(\n",
    "    go.Scatter(\n",
    "        x=merged_df['Perioden'], \n",
    "        y=merged_df['Ziekteverzuimpercentage_1'],\n",
    "        mode='lines', \n",
    "        name='CBS Sick Leave Percentage', \n",
    "        line=dict(color='#0078d2'),\n",
    "        yaxis='y1'\n",
    "    )\n",
    ")\n",
    "\n",
    "# Add the unemploymentrate to the right y-axis\n",
    "fig.add_trace(\n",
    "    go.Scatter(\n",
    "        x=merged_df['Perioden'], \n",
    "        y=merged_df['Seizoengecorrigeerd_8'], \n",
    "        mode='lines', \n",
    "        name='CBS Unemployment rate seasonal', \n",
    "        line=dict(color='#ff6b08'),\n",
    "        yaxis='y2'\n",
    "    )\n",
    ")\n",
    "\n",
    "# Update the layout for two y-axes with customized settings\n",
    "fig.update_layout(\n",
    "    title='How Unemployment rates affect Absenteeism',\n",
    "    xaxis=dict(\n",
    "        title='Period',\n",
    "        showgrid=False,\n",
    "    ),\n",
    "    yaxis=dict(\n",
    "        title='Sick Leave Percentage',\n",
    "        range=[0, 8],\n",
    "            ),\n",
    "    yaxis2=dict(\n",
    "        title='Unemployment rate',\n",
    "        anchor='x',\n",
    "        overlaying='y',\n",
    "        side='right',\n",
    "        range=[0, 10]\n",
    "    ),\n",
    "    legend=dict(\n",
    "        x=1.1,  # Move the legend to the top-right corner\n",
    "        y=1.4,\n",
    "        xanchor='right',\n",
    "        font=dict(\n",
    "            family='Arial',\n",
    "            size=12\n",
    "        )\n",
    "    ),\n",
    "    font=dict(\n",
    "        family='Arial',\n",
    "        size=14\n",
    "    ),\n",
    "    plot_bgcolor='white',  # Set background color to white\n",
    ")\n",
    "\n",
    "# Define the width and height of the plot (adjust as needed)\n",
    "plot_width = 1000  # Width of the plot in pixels\n",
    "plot_height = 600  # Height of the plot in pixels\n",
    "\n",
    "# Show the plot\n",
    "fig.show()"
   ]
  },
  {
   "cell_type": "code",
   "execution_count": 31,
   "metadata": {},
   "outputs": [
    {
     "name": "stdout",
     "output_type": "stream",
     "text": [
      "                                OLS Regression Results                               \n",
      "=====================================================================================\n",
      "Dep. Variable:     Ziekteverzuimpercentage_1   R-squared:                       0.444\n",
      "Model:                                   OLS   Adj. R-squared:                  0.438\n",
      "Method:                        Least Squares   F-statistic:                     67.20\n",
      "Date:                       Fri, 13 Dec 2024   Prob (F-statistic):           2.44e-12\n",
      "Time:                               16:54:27   Log-Likelihood:                -49.396\n",
      "No. Observations:                         86   AIC:                             102.8\n",
      "Df Residuals:                             84   BIC:                             107.7\n",
      "Df Model:                                  1                                         \n",
      "Covariance Type:                   nonrobust                                         \n",
      "=========================================================================================\n",
      "                            coef    std err          t      P>|t|      [0.025      0.975]\n",
      "-----------------------------------------------------------------------------------------\n",
      "const                     5.9010      0.197     29.956      0.000       5.509       6.293\n",
      "Seizoengecorrigeerd_8    -0.2703      0.033     -8.198      0.000      -0.336      -0.205\n",
      "==============================================================================\n",
      "Omnibus:                        1.344   Durbin-Watson:                   1.179\n",
      "Prob(Omnibus):                  0.511   Jarque-Bera (JB):                1.118\n",
      "Skew:                           0.279   Prob(JB):                        0.572\n",
      "Kurtosis:                       2.984   Cond. No.                         25.8\n",
      "==============================================================================\n",
      "\n",
      "Notes:\n",
      "[1] Standard Errors assume that the covariance matrix of the errors is correctly specified.\n"
     ]
    }
   ],
   "source": [
    "import statsmodels.api as sm\n",
    "\n",
    "# Ensure the data types are numeric\n",
    "merged_df['Seizoengecorrigeerd_8'] = merged_df['Seizoengecorrigeerd_8'].astype(float)\n",
    "merged_df['Ziekteverzuimpercentage_1'] = merged_df['Ziekteverzuimpercentage_1'].astype(float)\n",
    "\n",
    "# Add a constant to the independent variable for regression\n",
    "X = sm.add_constant(merged_df['Seizoengecorrigeerd_8'])\n",
    "\n",
    "# Fit the ordinary least squares (OLS) model\n",
    "model = sm.OLS(merged_df['Ziekteverzuimpercentage_1'], X).fit()\n",
    "\n",
    "# Print the summary of the regression model\n",
    "print(model.summary())"
   ]
  },
  {
   "cell_type": "code",
   "execution_count": 32,
   "metadata": {},
   "outputs": [
    {
     "data": {
      "text/html": [
       "<div>\n",
       "<style scoped>\n",
       "    .dataframe tbody tr th:only-of-type {\n",
       "        vertical-align: middle;\n",
       "    }\n",
       "\n",
       "    .dataframe tbody tr th {\n",
       "        vertical-align: top;\n",
       "    }\n",
       "\n",
       "    .dataframe thead th {\n",
       "        text-align: right;\n",
       "    }\n",
       "</style>\n",
       "<table border=\"1\" class=\"dataframe\">\n",
       "  <thead>\n",
       "    <tr style=\"text-align: right;\">\n",
       "      <th></th>\n",
       "      <th>Perioden</th>\n",
       "      <th>NietSeizoengecorrigeerd_7</th>\n",
       "      <th>Seizoengecorrigeerd_8</th>\n",
       "      <th>Ziekteverzuimpercentage_1</th>\n",
       "    </tr>\n",
       "  </thead>\n",
       "  <tbody>\n",
       "    <tr>\n",
       "      <th>20</th>\n",
       "      <td>2008KW01</td>\n",
       "      <td>5.2</td>\n",
       "      <td>4.8</td>\n",
       "      <td>4.6</td>\n",
       "    </tr>\n",
       "    <tr>\n",
       "      <th>21</th>\n",
       "      <td>2008KW02</td>\n",
       "      <td>4.8</td>\n",
       "      <td>4.8</td>\n",
       "      <td>4.0</td>\n",
       "    </tr>\n",
       "    <tr>\n",
       "      <th>22</th>\n",
       "      <td>2008KW03</td>\n",
       "      <td>4.5</td>\n",
       "      <td>4.7</td>\n",
       "      <td>3.7</td>\n",
       "    </tr>\n",
       "    <tr>\n",
       "      <th>23</th>\n",
       "      <td>2008KW04</td>\n",
       "      <td>4.6</td>\n",
       "      <td>4.7</td>\n",
       "      <td>4.2</td>\n",
       "    </tr>\n",
       "    <tr>\n",
       "      <th>24</th>\n",
       "      <td>2009KW01</td>\n",
       "      <td>5.2</td>\n",
       "      <td>4.9</td>\n",
       "      <td>4.5</td>\n",
       "    </tr>\n",
       "    <tr>\n",
       "      <th>...</th>\n",
       "      <td>...</td>\n",
       "      <td>...</td>\n",
       "      <td>...</td>\n",
       "      <td>...</td>\n",
       "    </tr>\n",
       "    <tr>\n",
       "      <th>81</th>\n",
       "      <td>2023KW02</td>\n",
       "      <td>3.4</td>\n",
       "      <td>3.5</td>\n",
       "      <td>5.0</td>\n",
       "    </tr>\n",
       "    <tr>\n",
       "      <th>82</th>\n",
       "      <td>2023KW03</td>\n",
       "      <td>3.6</td>\n",
       "      <td>3.6</td>\n",
       "      <td>4.8</td>\n",
       "    </tr>\n",
       "    <tr>\n",
       "      <th>83</th>\n",
       "      <td>2023KW04</td>\n",
       "      <td>3.4</td>\n",
       "      <td>3.5</td>\n",
       "      <td>5.5</td>\n",
       "    </tr>\n",
       "    <tr>\n",
       "      <th>84</th>\n",
       "      <td>2024KW01</td>\n",
       "      <td>3.8</td>\n",
       "      <td>3.7</td>\n",
       "      <td>5.5</td>\n",
       "    </tr>\n",
       "    <tr>\n",
       "      <th>85</th>\n",
       "      <td>2024KW02</td>\n",
       "      <td>3.6</td>\n",
       "      <td>3.6</td>\n",
       "      <td>5.1</td>\n",
       "    </tr>\n",
       "  </tbody>\n",
       "</table>\n",
       "<p>66 rows × 4 columns</p>\n",
       "</div>"
      ],
      "text/plain": [
       "    Perioden  NietSeizoengecorrigeerd_7  Seizoengecorrigeerd_8  \\\n",
       "20  2008KW01                        5.2                    4.8   \n",
       "21  2008KW02                        4.8                    4.8   \n",
       "22  2008KW03                        4.5                    4.7   \n",
       "23  2008KW04                        4.6                    4.7   \n",
       "24  2009KW01                        5.2                    4.9   \n",
       "..       ...                        ...                    ...   \n",
       "81  2023KW02                        3.4                    3.5   \n",
       "82  2023KW03                        3.6                    3.6   \n",
       "83  2023KW04                        3.4                    3.5   \n",
       "84  2024KW01                        3.8                    3.7   \n",
       "85  2024KW02                        3.6                    3.6   \n",
       "\n",
       "    Ziekteverzuimpercentage_1  \n",
       "20                        4.6  \n",
       "21                        4.0  \n",
       "22                        3.7  \n",
       "23                        4.2  \n",
       "24                        4.5  \n",
       "..                        ...  \n",
       "81                        5.0  \n",
       "82                        4.8  \n",
       "83                        5.5  \n",
       "84                        5.5  \n",
       "85                        5.1  \n",
       "\n",
       "[66 rows x 4 columns]"
      ]
     },
     "execution_count": 32,
     "metadata": {},
     "output_type": "execute_result"
    }
   ],
   "source": [
    "datavoor2008 = merged_df['Perioden'].str.contains('2003') | merged_df['Perioden'].str.contains('2004') | merged_df['Perioden'].str.contains('2005') | merged_df['Perioden'].str.contains('2006') | merged_df['Perioden'].str.contains('2007')\n",
    "merged_df_vanaf2008 = merged_df[~datavoor2008]\n",
    "merged_df_vanaf2008"
   ]
  },
  {
   "cell_type": "code",
   "execution_count": 33,
   "metadata": {},
   "outputs": [
    {
     "data": {
      "application/vnd.plotly.v1+json": {
       "config": {
        "plotlyServerURL": "https://plot.ly"
       },
       "data": [
        {
         "line": {
          "color": "#0078d2"
         },
         "mode": "lines",
         "name": "CBS Sick Leave Percentage",
         "type": "scatter",
         "x": [
          "2008KW01",
          "2008KW02",
          "2008KW03",
          "2008KW04",
          "2009KW01",
          "2009KW02",
          "2009KW03",
          "2009KW04",
          "2010KW01",
          "2010KW02",
          "2010KW03",
          "2010KW04",
          "2011KW01",
          "2011KW02",
          "2011KW03",
          "2011KW04",
          "2012KW01",
          "2012KW02",
          "2012KW03",
          "2012KW04",
          "2013KW01",
          "2013KW02",
          "2013KW03",
          "2013KW04",
          "2014KW01",
          "2014KW02",
          "2014KW03",
          "2014KW04",
          "2015KW01",
          "2015KW02",
          "2015KW03",
          "2015KW04",
          "2016KW01",
          "2016KW02",
          "2016KW03",
          "2016KW04",
          "2017KW01",
          "2017KW02",
          "2017KW03",
          "2017KW04",
          "2018KW01",
          "2018KW02",
          "2018KW03",
          "2018KW04",
          "2019KW01",
          "2019KW02",
          "2019KW03",
          "2019KW04",
          "2020KW01",
          "2020KW02",
          "2020KW03",
          "2020KW04",
          "2021KW01",
          "2021KW02",
          "2021KW03",
          "2021KW04",
          "2022KW01",
          "2022KW02",
          "2022KW03",
          "2022KW04",
          "2023KW01",
          "2023KW02",
          "2023KW03",
          "2023KW04",
          "2024KW01",
          "2024KW02"
         ],
         "y": [
          4.6,
          4,
          3.7,
          4.2,
          4.5,
          3.8,
          3.7,
          4.4,
          4.4,
          4,
          3.9,
          4.4,
          4.6,
          4.1,
          3.8,
          4.2,
          4.4,
          3.9,
          3.6,
          4.1,
          4.5,
          3.8,
          3.5,
          3.9,
          4,
          3.7,
          3.5,
          4,
          4.4,
          3.7,
          3.5,
          3.9,
          4.3,
          3.8,
          3.5,
          4.1,
          4.3,
          3.9,
          3.7,
          4.2,
          4.9,
          4.1,
          3.9,
          4.3,
          4.7,
          4.3,
          4,
          4.5,
          5.2,
          4.5,
          4.4,
          4.9,
          4.8,
          4.7,
          4.6,
          5.4,
          6.3,
          5.4,
          5,
          5.6,
          5.7,
          5,
          4.8,
          5.5,
          5.5,
          5.1
         ],
         "yaxis": "y"
        },
        {
         "line": {
          "color": "#ff6b08"
         },
         "mode": "lines",
         "name": "CBS Unemployment rate seasonal",
         "type": "scatter",
         "x": [
          "2008KW01",
          "2008KW02",
          "2008KW03",
          "2008KW04",
          "2009KW01",
          "2009KW02",
          "2009KW03",
          "2009KW04",
          "2010KW01",
          "2010KW02",
          "2010KW03",
          "2010KW04",
          "2011KW01",
          "2011KW02",
          "2011KW03",
          "2011KW04",
          "2012KW01",
          "2012KW02",
          "2012KW03",
          "2012KW04",
          "2013KW01",
          "2013KW02",
          "2013KW03",
          "2013KW04",
          "2014KW01",
          "2014KW02",
          "2014KW03",
          "2014KW04",
          "2015KW01",
          "2015KW02",
          "2015KW03",
          "2015KW04",
          "2016KW01",
          "2016KW02",
          "2016KW03",
          "2016KW04",
          "2017KW01",
          "2017KW02",
          "2017KW03",
          "2017KW04",
          "2018KW01",
          "2018KW02",
          "2018KW03",
          "2018KW04",
          "2019KW01",
          "2019KW02",
          "2019KW03",
          "2019KW04",
          "2020KW01",
          "2020KW02",
          "2020KW03",
          "2020KW04",
          "2021KW01",
          "2021KW02",
          "2021KW03",
          "2021KW04",
          "2022KW01",
          "2022KW02",
          "2022KW03",
          "2022KW04",
          "2023KW01",
          "2023KW02",
          "2023KW03",
          "2023KW04",
          "2024KW01",
          "2024KW02"
         ],
         "y": [
          4.8,
          4.8,
          4.7,
          4.7,
          4.9,
          5.2,
          5.6,
          5.9,
          6.2,
          6.1,
          6.1,
          5.9,
          5.8,
          5.8,
          6.1,
          6.5,
          6.5,
          6.7,
          6.9,
          7.2,
          7.7,
          8.2,
          8.5,
          8.5,
          8.7,
          8.5,
          8.1,
          8.1,
          8.2,
          8,
          7.7,
          7.7,
          7.4,
          7.2,
          6.8,
          6.5,
          6.3,
          6,
          5.8,
          5.4,
          5.1,
          4.9,
          4.9,
          4.6,
          4.5,
          4.4,
          4.5,
          4.4,
          4,
          4.8,
          5.5,
          5.1,
          4.6,
          4.3,
          4.1,
          3.8,
          3.5,
          3.3,
          3.7,
          3.6,
          3.6,
          3.5,
          3.6,
          3.5,
          3.7,
          3.6
         ],
         "yaxis": "y2"
        }
       ],
       "layout": {
        "font": {
         "family": "Arial",
         "size": 14
        },
        "legend": {
         "font": {
          "family": "Arial",
          "size": 12
         },
         "x": 1.1,
         "xanchor": "right",
         "y": 1.4
        },
        "plot_bgcolor": "white",
        "template": {
         "data": {
          "bar": [
           {
            "error_x": {
             "color": "#2a3f5f"
            },
            "error_y": {
             "color": "#2a3f5f"
            },
            "marker": {
             "line": {
              "color": "#E5ECF6",
              "width": 0.5
             },
             "pattern": {
              "fillmode": "overlay",
              "size": 10,
              "solidity": 0.2
             }
            },
            "type": "bar"
           }
          ],
          "barpolar": [
           {
            "marker": {
             "line": {
              "color": "#E5ECF6",
              "width": 0.5
             },
             "pattern": {
              "fillmode": "overlay",
              "size": 10,
              "solidity": 0.2
             }
            },
            "type": "barpolar"
           }
          ],
          "carpet": [
           {
            "aaxis": {
             "endlinecolor": "#2a3f5f",
             "gridcolor": "white",
             "linecolor": "white",
             "minorgridcolor": "white",
             "startlinecolor": "#2a3f5f"
            },
            "baxis": {
             "endlinecolor": "#2a3f5f",
             "gridcolor": "white",
             "linecolor": "white",
             "minorgridcolor": "white",
             "startlinecolor": "#2a3f5f"
            },
            "type": "carpet"
           }
          ],
          "choropleth": [
           {
            "colorbar": {
             "outlinewidth": 0,
             "ticks": ""
            },
            "type": "choropleth"
           }
          ],
          "contour": [
           {
            "colorbar": {
             "outlinewidth": 0,
             "ticks": ""
            },
            "colorscale": [
             [
              0,
              "#0d0887"
             ],
             [
              0.1111111111111111,
              "#46039f"
             ],
             [
              0.2222222222222222,
              "#7201a8"
             ],
             [
              0.3333333333333333,
              "#9c179e"
             ],
             [
              0.4444444444444444,
              "#bd3786"
             ],
             [
              0.5555555555555556,
              "#d8576b"
             ],
             [
              0.6666666666666666,
              "#ed7953"
             ],
             [
              0.7777777777777778,
              "#fb9f3a"
             ],
             [
              0.8888888888888888,
              "#fdca26"
             ],
             [
              1,
              "#f0f921"
             ]
            ],
            "type": "contour"
           }
          ],
          "contourcarpet": [
           {
            "colorbar": {
             "outlinewidth": 0,
             "ticks": ""
            },
            "type": "contourcarpet"
           }
          ],
          "heatmap": [
           {
            "colorbar": {
             "outlinewidth": 0,
             "ticks": ""
            },
            "colorscale": [
             [
              0,
              "#0d0887"
             ],
             [
              0.1111111111111111,
              "#46039f"
             ],
             [
              0.2222222222222222,
              "#7201a8"
             ],
             [
              0.3333333333333333,
              "#9c179e"
             ],
             [
              0.4444444444444444,
              "#bd3786"
             ],
             [
              0.5555555555555556,
              "#d8576b"
             ],
             [
              0.6666666666666666,
              "#ed7953"
             ],
             [
              0.7777777777777778,
              "#fb9f3a"
             ],
             [
              0.8888888888888888,
              "#fdca26"
             ],
             [
              1,
              "#f0f921"
             ]
            ],
            "type": "heatmap"
           }
          ],
          "heatmapgl": [
           {
            "colorbar": {
             "outlinewidth": 0,
             "ticks": ""
            },
            "colorscale": [
             [
              0,
              "#0d0887"
             ],
             [
              0.1111111111111111,
              "#46039f"
             ],
             [
              0.2222222222222222,
              "#7201a8"
             ],
             [
              0.3333333333333333,
              "#9c179e"
             ],
             [
              0.4444444444444444,
              "#bd3786"
             ],
             [
              0.5555555555555556,
              "#d8576b"
             ],
             [
              0.6666666666666666,
              "#ed7953"
             ],
             [
              0.7777777777777778,
              "#fb9f3a"
             ],
             [
              0.8888888888888888,
              "#fdca26"
             ],
             [
              1,
              "#f0f921"
             ]
            ],
            "type": "heatmapgl"
           }
          ],
          "histogram": [
           {
            "marker": {
             "pattern": {
              "fillmode": "overlay",
              "size": 10,
              "solidity": 0.2
             }
            },
            "type": "histogram"
           }
          ],
          "histogram2d": [
           {
            "colorbar": {
             "outlinewidth": 0,
             "ticks": ""
            },
            "colorscale": [
             [
              0,
              "#0d0887"
             ],
             [
              0.1111111111111111,
              "#46039f"
             ],
             [
              0.2222222222222222,
              "#7201a8"
             ],
             [
              0.3333333333333333,
              "#9c179e"
             ],
             [
              0.4444444444444444,
              "#bd3786"
             ],
             [
              0.5555555555555556,
              "#d8576b"
             ],
             [
              0.6666666666666666,
              "#ed7953"
             ],
             [
              0.7777777777777778,
              "#fb9f3a"
             ],
             [
              0.8888888888888888,
              "#fdca26"
             ],
             [
              1,
              "#f0f921"
             ]
            ],
            "type": "histogram2d"
           }
          ],
          "histogram2dcontour": [
           {
            "colorbar": {
             "outlinewidth": 0,
             "ticks": ""
            },
            "colorscale": [
             [
              0,
              "#0d0887"
             ],
             [
              0.1111111111111111,
              "#46039f"
             ],
             [
              0.2222222222222222,
              "#7201a8"
             ],
             [
              0.3333333333333333,
              "#9c179e"
             ],
             [
              0.4444444444444444,
              "#bd3786"
             ],
             [
              0.5555555555555556,
              "#d8576b"
             ],
             [
              0.6666666666666666,
              "#ed7953"
             ],
             [
              0.7777777777777778,
              "#fb9f3a"
             ],
             [
              0.8888888888888888,
              "#fdca26"
             ],
             [
              1,
              "#f0f921"
             ]
            ],
            "type": "histogram2dcontour"
           }
          ],
          "mesh3d": [
           {
            "colorbar": {
             "outlinewidth": 0,
             "ticks": ""
            },
            "type": "mesh3d"
           }
          ],
          "parcoords": [
           {
            "line": {
             "colorbar": {
              "outlinewidth": 0,
              "ticks": ""
             }
            },
            "type": "parcoords"
           }
          ],
          "pie": [
           {
            "automargin": true,
            "type": "pie"
           }
          ],
          "scatter": [
           {
            "fillpattern": {
             "fillmode": "overlay",
             "size": 10,
             "solidity": 0.2
            },
            "type": "scatter"
           }
          ],
          "scatter3d": [
           {
            "line": {
             "colorbar": {
              "outlinewidth": 0,
              "ticks": ""
             }
            },
            "marker": {
             "colorbar": {
              "outlinewidth": 0,
              "ticks": ""
             }
            },
            "type": "scatter3d"
           }
          ],
          "scattercarpet": [
           {
            "marker": {
             "colorbar": {
              "outlinewidth": 0,
              "ticks": ""
             }
            },
            "type": "scattercarpet"
           }
          ],
          "scattergeo": [
           {
            "marker": {
             "colorbar": {
              "outlinewidth": 0,
              "ticks": ""
             }
            },
            "type": "scattergeo"
           }
          ],
          "scattergl": [
           {
            "marker": {
             "colorbar": {
              "outlinewidth": 0,
              "ticks": ""
             }
            },
            "type": "scattergl"
           }
          ],
          "scattermapbox": [
           {
            "marker": {
             "colorbar": {
              "outlinewidth": 0,
              "ticks": ""
             }
            },
            "type": "scattermapbox"
           }
          ],
          "scatterpolar": [
           {
            "marker": {
             "colorbar": {
              "outlinewidth": 0,
              "ticks": ""
             }
            },
            "type": "scatterpolar"
           }
          ],
          "scatterpolargl": [
           {
            "marker": {
             "colorbar": {
              "outlinewidth": 0,
              "ticks": ""
             }
            },
            "type": "scatterpolargl"
           }
          ],
          "scatterternary": [
           {
            "marker": {
             "colorbar": {
              "outlinewidth": 0,
              "ticks": ""
             }
            },
            "type": "scatterternary"
           }
          ],
          "surface": [
           {
            "colorbar": {
             "outlinewidth": 0,
             "ticks": ""
            },
            "colorscale": [
             [
              0,
              "#0d0887"
             ],
             [
              0.1111111111111111,
              "#46039f"
             ],
             [
              0.2222222222222222,
              "#7201a8"
             ],
             [
              0.3333333333333333,
              "#9c179e"
             ],
             [
              0.4444444444444444,
              "#bd3786"
             ],
             [
              0.5555555555555556,
              "#d8576b"
             ],
             [
              0.6666666666666666,
              "#ed7953"
             ],
             [
              0.7777777777777778,
              "#fb9f3a"
             ],
             [
              0.8888888888888888,
              "#fdca26"
             ],
             [
              1,
              "#f0f921"
             ]
            ],
            "type": "surface"
           }
          ],
          "table": [
           {
            "cells": {
             "fill": {
              "color": "#EBF0F8"
             },
             "line": {
              "color": "white"
             }
            },
            "header": {
             "fill": {
              "color": "#C8D4E3"
             },
             "line": {
              "color": "white"
             }
            },
            "type": "table"
           }
          ]
         },
         "layout": {
          "annotationdefaults": {
           "arrowcolor": "#2a3f5f",
           "arrowhead": 0,
           "arrowwidth": 1
          },
          "autotypenumbers": "strict",
          "coloraxis": {
           "colorbar": {
            "outlinewidth": 0,
            "ticks": ""
           }
          },
          "colorscale": {
           "diverging": [
            [
             0,
             "#8e0152"
            ],
            [
             0.1,
             "#c51b7d"
            ],
            [
             0.2,
             "#de77ae"
            ],
            [
             0.3,
             "#f1b6da"
            ],
            [
             0.4,
             "#fde0ef"
            ],
            [
             0.5,
             "#f7f7f7"
            ],
            [
             0.6,
             "#e6f5d0"
            ],
            [
             0.7,
             "#b8e186"
            ],
            [
             0.8,
             "#7fbc41"
            ],
            [
             0.9,
             "#4d9221"
            ],
            [
             1,
             "#276419"
            ]
           ],
           "sequential": [
            [
             0,
             "#0d0887"
            ],
            [
             0.1111111111111111,
             "#46039f"
            ],
            [
             0.2222222222222222,
             "#7201a8"
            ],
            [
             0.3333333333333333,
             "#9c179e"
            ],
            [
             0.4444444444444444,
             "#bd3786"
            ],
            [
             0.5555555555555556,
             "#d8576b"
            ],
            [
             0.6666666666666666,
             "#ed7953"
            ],
            [
             0.7777777777777778,
             "#fb9f3a"
            ],
            [
             0.8888888888888888,
             "#fdca26"
            ],
            [
             1,
             "#f0f921"
            ]
           ],
           "sequentialminus": [
            [
             0,
             "#0d0887"
            ],
            [
             0.1111111111111111,
             "#46039f"
            ],
            [
             0.2222222222222222,
             "#7201a8"
            ],
            [
             0.3333333333333333,
             "#9c179e"
            ],
            [
             0.4444444444444444,
             "#bd3786"
            ],
            [
             0.5555555555555556,
             "#d8576b"
            ],
            [
             0.6666666666666666,
             "#ed7953"
            ],
            [
             0.7777777777777778,
             "#fb9f3a"
            ],
            [
             0.8888888888888888,
             "#fdca26"
            ],
            [
             1,
             "#f0f921"
            ]
           ]
          },
          "colorway": [
           "#636efa",
           "#EF553B",
           "#00cc96",
           "#ab63fa",
           "#FFA15A",
           "#19d3f3",
           "#FF6692",
           "#B6E880",
           "#FF97FF",
           "#FECB52"
          ],
          "font": {
           "color": "#2a3f5f"
          },
          "geo": {
           "bgcolor": "white",
           "lakecolor": "white",
           "landcolor": "#E5ECF6",
           "showlakes": true,
           "showland": true,
           "subunitcolor": "white"
          },
          "hoverlabel": {
           "align": "left"
          },
          "hovermode": "closest",
          "mapbox": {
           "style": "light"
          },
          "paper_bgcolor": "white",
          "plot_bgcolor": "#E5ECF6",
          "polar": {
           "angularaxis": {
            "gridcolor": "white",
            "linecolor": "white",
            "ticks": ""
           },
           "bgcolor": "#E5ECF6",
           "radialaxis": {
            "gridcolor": "white",
            "linecolor": "white",
            "ticks": ""
           }
          },
          "scene": {
           "xaxis": {
            "backgroundcolor": "#E5ECF6",
            "gridcolor": "white",
            "gridwidth": 2,
            "linecolor": "white",
            "showbackground": true,
            "ticks": "",
            "zerolinecolor": "white"
           },
           "yaxis": {
            "backgroundcolor": "#E5ECF6",
            "gridcolor": "white",
            "gridwidth": 2,
            "linecolor": "white",
            "showbackground": true,
            "ticks": "",
            "zerolinecolor": "white"
           },
           "zaxis": {
            "backgroundcolor": "#E5ECF6",
            "gridcolor": "white",
            "gridwidth": 2,
            "linecolor": "white",
            "showbackground": true,
            "ticks": "",
            "zerolinecolor": "white"
           }
          },
          "shapedefaults": {
           "line": {
            "color": "#2a3f5f"
           }
          },
          "ternary": {
           "aaxis": {
            "gridcolor": "white",
            "linecolor": "white",
            "ticks": ""
           },
           "baxis": {
            "gridcolor": "white",
            "linecolor": "white",
            "ticks": ""
           },
           "bgcolor": "#E5ECF6",
           "caxis": {
            "gridcolor": "white",
            "linecolor": "white",
            "ticks": ""
           }
          },
          "title": {
           "x": 0.05
          },
          "xaxis": {
           "automargin": true,
           "gridcolor": "white",
           "linecolor": "white",
           "ticks": "",
           "title": {
            "standoff": 15
           },
           "zerolinecolor": "white",
           "zerolinewidth": 2
          },
          "yaxis": {
           "automargin": true,
           "gridcolor": "white",
           "linecolor": "white",
           "ticks": "",
           "title": {
            "standoff": 15
           },
           "zerolinecolor": "white",
           "zerolinewidth": 2
          }
         }
        },
        "title": {
         "text": "How Unemployment rates affect Absenteeism"
        },
        "xaxis": {
         "showgrid": true,
         "title": {
          "text": "Period"
         }
        },
        "yaxis": {
         "range": [
          0,
          8
         ],
         "title": {
          "text": "Sick Leave Percentage"
         }
        },
        "yaxis2": {
         "anchor": "x",
         "overlaying": "y",
         "range": [
          0,
          10
         ],
         "side": "right",
         "title": {
          "text": "Unemployment rate"
         }
        }
       }
      }
     },
     "metadata": {},
     "output_type": "display_data"
    }
   ],
   "source": [
    "# Create the figure\n",
    "fig = go.Figure()\n",
    "\n",
    "# Add the sickleave to the left y-axis\n",
    "fig.add_trace(\n",
    "    go.Scatter(\n",
    "        x=merged_df_vanaf2008['Perioden'], \n",
    "        y=merged_df_vanaf2008['Ziekteverzuimpercentage_1'],\n",
    "        mode='lines', \n",
    "        name='CBS Sick Leave Percentage', \n",
    "        line=dict(color='#0078d2'),\n",
    "        yaxis='y1'\n",
    "    )\n",
    ")\n",
    "\n",
    "# Add the unemploymentrate to the right y-axis\n",
    "fig.add_trace(\n",
    "    go.Scatter(\n",
    "        x=merged_df_vanaf2008['Perioden'], \n",
    "        y=merged_df_vanaf2008['Seizoengecorrigeerd_8'], \n",
    "        mode='lines', \n",
    "        name='CBS Unemployment rate seasonal', \n",
    "        line=dict(color='#ff6b08'),\n",
    "        yaxis='y2'\n",
    "    )\n",
    ")\n",
    "\n",
    "# Update the layout for two y-axes with customized settings\n",
    "fig.update_layout(\n",
    "    title='How Unemployment rates affect Absenteeism',\n",
    "    xaxis=dict(\n",
    "        title='Period',\n",
    "        showgrid=True,\n",
    "    ),\n",
    "    yaxis=dict(\n",
    "        title='Sick Leave Percentage',\n",
    "        range=[0, 8],\n",
    "            ),\n",
    "    yaxis2=dict(\n",
    "        title='Unemployment rate',\n",
    "        anchor='x',\n",
    "        overlaying='y',\n",
    "        side='right',\n",
    "        range=[0, 10]\n",
    "    ),\n",
    "    legend=dict(\n",
    "        x=1.1,  # Move the legend to the top-right corner\n",
    "        y=1.4,\n",
    "        xanchor='right',\n",
    "        font=dict(\n",
    "            family='Arial',\n",
    "            size=12\n",
    "        )\n",
    "    ),\n",
    "    font=dict(\n",
    "        family='Arial',\n",
    "        size=14\n",
    "    ),\n",
    "    plot_bgcolor='white',  # Set background color to white\n",
    ")\n",
    "\n",
    "# Define the width and height of the plot (adjust as needed)\n",
    "plot_width = 1000  # Width of the plot in pixels\n",
    "plot_height = 600  # Height of the plot in pixels\n",
    "\n",
    "# Show the plot\n",
    "fig.show()"
   ]
  }
 ],
 "metadata": {
  "kernelspec": {
   "display_name": ".venv",
   "language": "python",
   "name": "python3"
  },
  "language_info": {
   "codemirror_mode": {
    "name": "ipython",
    "version": 3
   },
   "file_extension": ".py",
   "mimetype": "text/x-python",
   "name": "python",
   "nbconvert_exporter": "python",
   "pygments_lexer": "ipython3",
   "version": "3.12.3"
  }
 },
 "nbformat": 4,
 "nbformat_minor": 2
}
