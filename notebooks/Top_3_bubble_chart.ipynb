{
 "cells": [
  {
   "cell_type": "code",
   "execution_count": 1,
   "metadata": {},
   "outputs": [
    {
     "name": "stderr",
     "output_type": "stream",
     "text": [
      "c:\\Users\\c.hakker\\OneDrive - VISTA college\\Senior Stuff\\Opleiding Data science\\uwv\\.venv\\Lib\\site-packages\\plotly\\express\\_core.py:1980: FutureWarning: When grouping with a length-1 list-like, you will need to pass a length-1 tuple to get_group in a future version of pandas. Pass `(name,)` instead of `name` to silence this warning.\n",
      "  sf: grouped.get_group(s if len(s) > 1 else s[0])\n"
     ]
    },
    {
     "data": {
      "application/vnd.plotly.v1+json": {
       "config": {
        "plotlyServerURL": "https://plot.ly"
       },
       "data": [
        {
         "hovertemplate": "<b>%{hovertext}</b><br><br>Branche (SBI 2008)=Q Gezondheids- en welzijnszorg<br>Employed Persons (2023, x1000)=%{marker.size}<br>Sick Leave Percentage=%{y}<extra></extra>",
         "hovertext": [
          "Q Gezondheids- en welzijnszorg"
         ],
         "legendgroup": "Q Gezondheids- en welzijnszorg",
         "marker": {
          "color": "rgb(102,194,165)",
          "line": {
           "color": "white",
           "width": 1
          },
          "size": [
           1625
          ],
          "sizemode": "area",
          "sizeref": 0.2006172839506173,
          "symbol": "circle"
         },
         "mode": "markers",
         "name": "Q Gezondheids- en welzijnszorg",
         "orientation": "v",
         "showlegend": true,
         "textposition": "middle center",
         "type": "scatter",
         "x": [
          1625
         ],
         "xaxis": "x",
         "y": [
          7.4
         ],
         "yaxis": "y"
        },
        {
         "hovertemplate": "<b>%{hovertext}</b><br><br>Branche (SBI 2008)=G Handel<br>Employed Persons (2023, x1000)=%{marker.size}<br>Sick Leave Percentage=%{y}<extra></extra>",
         "hovertext": [
          "G Handel"
         ],
         "legendgroup": "G Handel",
         "marker": {
          "color": "rgb(252,141,98)",
          "line": {
           "color": "white",
           "width": 1
          },
          "size": [
           1558
          ],
          "sizemode": "area",
          "sizeref": 0.2006172839506173,
          "symbol": "circle"
         },
         "mode": "markers",
         "name": "G Handel",
         "orientation": "v",
         "showlegend": true,
         "textposition": "middle center",
         "type": "scatter",
         "x": [
          1558
         ],
         "xaxis": "x",
         "y": [
          4.6
         ],
         "yaxis": "y"
        },
        {
         "hovertemplate": "<b>%{hovertext}</b><br><br>Branche (SBI 2008)=C Industrie<br>Employed Persons (2023, x1000)=%{marker.size}<br>Sick Leave Percentage=%{y}<extra></extra>",
         "hovertext": [
          "C Industrie"
         ],
         "legendgroup": "C Industrie",
         "marker": {
          "color": "rgb(141,160,203)",
          "line": {
           "color": "white",
           "width": 1
          },
          "size": [
           763
          ],
          "sizemode": "area",
          "sizeref": 0.2006172839506173,
          "symbol": "circle"
         },
         "mode": "markers",
         "name": "C Industrie",
         "orientation": "v",
         "showlegend": true,
         "textposition": "middle center",
         "type": "scatter",
         "x": [
          763
         ],
         "xaxis": "x",
         "y": [
          6.1
         ],
         "yaxis": "y"
        },
        {
         "hovertemplate": "<b>%{hovertext}</b><br><br>Branche (SBI 2008)=O Openbaar bestuur en overheidsdiensten<br>Employed Persons (2023, x1000)=%{marker.size}<br>Sick Leave Percentage=%{y}<extra></extra>",
         "hovertext": [
          "O Openbaar bestuur en overheidsdiensten"
         ],
         "legendgroup": "O Openbaar bestuur en overheidsdiensten",
         "marker": {
          "color": "rgb(231,138,195)",
          "line": {
           "color": "white",
           "width": 1
          },
          "size": [
           639
          ],
          "sizemode": "area",
          "sizeref": 0.2006172839506173,
          "symbol": "circle"
         },
         "mode": "markers",
         "name": "O Openbaar bestuur en overheidsdiensten",
         "orientation": "v",
         "showlegend": true,
         "textposition": "middle center",
         "type": "scatter",
         "x": [
          639
         ],
         "xaxis": "x",
         "y": [
          6
         ],
         "yaxis": "y"
        },
        {
         "hovertemplate": "<b>%{hovertext}</b><br><br>Branche (SBI 2008)=N Verhuur en overige zakelijke diensten<br>Employed Persons (2023, x1000)=%{marker.size}<br>Sick Leave Percentage=%{y}<extra></extra>",
         "hovertext": [
          "N Verhuur en overige zakelijke diensten"
         ],
         "legendgroup": "N Verhuur en overige zakelijke diensten",
         "marker": {
          "color": "rgb(166,216,84)",
          "line": {
           "color": "white",
           "width": 1
          },
          "size": [
           1218
          ],
          "sizemode": "area",
          "sizeref": 0.2006172839506173,
          "symbol": "circle"
         },
         "mode": "markers",
         "name": "N Verhuur en overige zakelijke diensten",
         "orientation": "v",
         "showlegend": true,
         "textposition": "middle center",
         "type": "scatter",
         "x": [
          1218
         ],
         "xaxis": "x",
         "y": [
          4.6
         ],
         "yaxis": "y"
        },
        {
         "hovertemplate": "<b>%{hovertext}</b><br><br>Branche (SBI 2008)=P Onderwijs<br>Employed Persons (2023, x1000)=%{marker.size}<br>Sick Leave Percentage=%{y}<extra></extra>",
         "hovertext": [
          "P Onderwijs"
         ],
         "legendgroup": "P Onderwijs",
         "marker": {
          "color": "rgb(255,217,47)",
          "line": {
           "color": "white",
           "width": 1
          },
          "size": [
           638
          ],
          "sizemode": "area",
          "sizeref": 0.2006172839506173,
          "symbol": "circle"
         },
         "mode": "markers",
         "name": "P Onderwijs",
         "orientation": "v",
         "showlegend": true,
         "textposition": "middle center",
         "type": "scatter",
         "x": [
          638
         ],
         "xaxis": "x",
         "y": [
          5.6
         ],
         "yaxis": "y"
        },
        {
         "hovertemplate": "<b>%{hovertext}</b><br><br>Branche (SBI 2008)=M Specialistische zakelijke diensten<br>Employed Persons (2023, x1000)=%{marker.size}<br>Sick Leave Percentage=%{y}<extra></extra>",
         "hovertext": [
          "M Specialistische zakelijke diensten"
         ],
         "legendgroup": "M Specialistische zakelijke diensten",
         "marker": {
          "color": "rgb(229,196,148)",
          "line": {
           "color": "white",
           "width": 1
          },
          "size": [
           857
          ],
          "sizemode": "area",
          "sizeref": 0.2006172839506173,
          "symbol": "circle"
         },
         "mode": "markers",
         "name": "M Specialistische zakelijke diensten",
         "orientation": "v",
         "showlegend": true,
         "textposition": "middle center",
         "type": "scatter",
         "x": [
          857
         ],
         "xaxis": "x",
         "y": [
          3.6
         ],
         "yaxis": "y"
        },
        {
         "hovertemplate": "<b>%{hovertext}</b><br><br>Branche (SBI 2008)=F Bouwnijverheid<br>Employed Persons (2023, x1000)=%{marker.size}<br>Sick Leave Percentage=%{y}<extra></extra>",
         "hovertext": [
          "F Bouwnijverheid"
         ],
         "legendgroup": "F Bouwnijverheid",
         "marker": {
          "color": "rgb(179,179,179)",
          "line": {
           "color": "white",
           "width": 1
          },
          "size": [
           592
          ],
          "sizemode": "area",
          "sizeref": 0.2006172839506173,
          "symbol": "circle"
         },
         "mode": "markers",
         "name": "F Bouwnijverheid",
         "orientation": "v",
         "showlegend": true,
         "textposition": "middle center",
         "type": "scatter",
         "x": [
          592
         ],
         "xaxis": "x",
         "y": [
          4.8
         ],
         "yaxis": "y"
        },
        {
         "hovertemplate": "<b>%{hovertext}</b><br><br>Branche (SBI 2008)=H Vervoer en opslag<br>Employed Persons (2023, x1000)=%{marker.size}<br>Sick Leave Percentage=%{y}<extra></extra>",
         "hovertext": [
          "H Vervoer en opslag"
         ],
         "legendgroup": "H Vervoer en opslag",
         "marker": {
          "color": "rgb(102,194,165)",
          "line": {
           "color": "white",
           "width": 1
          },
          "size": [
           436
          ],
          "sizemode": "area",
          "sizeref": 0.2006172839506173,
          "symbol": "circle"
         },
         "mode": "markers",
         "name": "H Vervoer en opslag",
         "orientation": "v",
         "showlegend": true,
         "textposition": "middle center",
         "type": "scatter",
         "x": [
          436
         ],
         "xaxis": "x",
         "y": [
          6.3
         ],
         "yaxis": "y"
        },
        {
         "hovertemplate": "<b>%{hovertext}</b><br><br>Branche (SBI 2008)=J Informatie en communicatie<br>Employed Persons (2023, x1000)=%{marker.size}<br>Sick Leave Percentage=%{y}<extra></extra>",
         "hovertext": [
          "J Informatie en communicatie"
         ],
         "legendgroup": "J Informatie en communicatie",
         "marker": {
          "color": "rgb(252,141,98)",
          "line": {
           "color": "white",
           "width": 1
          },
          "size": [
           375
          ],
          "sizemode": "area",
          "sizeref": 0.2006172839506173,
          "symbol": "circle"
         },
         "mode": "markers",
         "name": "J Informatie en communicatie",
         "orientation": "v",
         "showlegend": true,
         "textposition": "middle center",
         "type": "scatter",
         "x": [
          375
         ],
         "xaxis": "x",
         "y": [
          3.9
         ],
         "yaxis": "y"
        },
        {
         "hovertemplate": "<b>%{hovertext}</b><br><br>Branche (SBI 2008)=I Horeca<br>Employed Persons (2023, x1000)=%{marker.size}<br>Sick Leave Percentage=%{y}<extra></extra>",
         "hovertext": [
          "I Horeca"
         ],
         "legendgroup": "I Horeca",
         "marker": {
          "color": "rgb(141,160,203)",
          "line": {
           "color": "white",
           "width": 1
          },
          "size": [
           501
          ],
          "sizemode": "area",
          "sizeref": 0.2006172839506173,
          "symbol": "circle"
         },
         "mode": "markers",
         "name": "I Horeca",
         "orientation": "v",
         "showlegend": true,
         "textposition": "middle center",
         "type": "scatter",
         "x": [
          501
         ],
         "xaxis": "x",
         "y": [
          3.9
         ],
         "yaxis": "y"
        },
        {
         "hovertemplate": "<b>%{hovertext}</b><br><br>Branche (SBI 2008)=K Financiële dienstverlening<br>Employed Persons (2023, x1000)=%{marker.size}<br>Sick Leave Percentage=%{y}<extra></extra>",
         "hovertext": [
          "K Financiële dienstverlening"
         ],
         "legendgroup": "K Financiële dienstverlening",
         "marker": {
          "color": "rgb(231,138,195)",
          "line": {
           "color": "white",
           "width": 1
          },
          "size": [
           217
          ],
          "sizemode": "area",
          "sizeref": 0.2006172839506173,
          "symbol": "circle"
         },
         "mode": "markers",
         "name": "K Financiële dienstverlening",
         "orientation": "v",
         "showlegend": true,
         "textposition": "middle center",
         "type": "scatter",
         "x": [
          217
         ],
         "xaxis": "x",
         "y": [
          3.3
         ],
         "yaxis": "y"
        },
        {
         "hovertemplate": "<b>%{hovertext}</b><br><br>Branche (SBI 2008)=S Overige dienstverlening<br>Employed Persons (2023, x1000)=%{marker.size}<br>Sick Leave Percentage=%{y}<extra></extra>",
         "hovertext": [
          "S Overige dienstverlening"
         ],
         "legendgroup": "S Overige dienstverlening",
         "marker": {
          "color": "rgb(166,216,84)",
          "line": {
           "color": "white",
           "width": 1
          },
          "size": [
           218
          ],
          "sizemode": "area",
          "sizeref": 0.2006172839506173,
          "symbol": "circle"
         },
         "mode": "markers",
         "name": "S Overige dienstverlening",
         "orientation": "v",
         "showlegend": true,
         "textposition": "middle center",
         "type": "scatter",
         "x": [
          218
         ],
         "xaxis": "x",
         "y": [
          5
         ],
         "yaxis": "y"
        },
        {
         "hovertemplate": "<b>%{hovertext}</b><br><br>Branche (SBI 2008)=R Cultuur, sport en recreatie<br>Employed Persons (2023, x1000)=%{marker.size}<br>Sick Leave Percentage=%{y}<extra></extra>",
         "hovertext": [
          "R Cultuur, sport en recreatie"
         ],
         "legendgroup": "R Cultuur, sport en recreatie",
         "marker": {
          "color": "rgb(255,217,47)",
          "line": {
           "color": "white",
           "width": 1
          },
          "size": [
           201
          ],
          "sizemode": "area",
          "sizeref": 0.2006172839506173,
          "symbol": "circle"
         },
         "mode": "markers",
         "name": "R Cultuur, sport en recreatie",
         "orientation": "v",
         "showlegend": true,
         "textposition": "middle center",
         "type": "scatter",
         "x": [
          201
         ],
         "xaxis": "x",
         "y": [
          4.6
         ],
         "yaxis": "y"
        },
        {
         "hovertemplate": "<b>%{hovertext}</b><br><br>Branche (SBI 2008)=A Landbouw, bosbouw en visserij<br>Employed Persons (2023, x1000)=%{marker.size}<br>Sick Leave Percentage=%{y}<extra></extra>",
         "hovertext": [
          "A Landbouw, bosbouw en visserij"
         ],
         "legendgroup": "A Landbouw, bosbouw en visserij",
         "marker": {
          "color": "rgb(229,196,148)",
          "line": {
           "color": "white",
           "width": 1
          },
          "size": [
           197
          ],
          "sizemode": "area",
          "sizeref": 0.2006172839506173,
          "symbol": "circle"
         },
         "mode": "markers",
         "name": "A Landbouw, bosbouw en visserij",
         "orientation": "v",
         "showlegend": true,
         "textposition": "middle center",
         "type": "scatter",
         "x": [
          197
         ],
         "xaxis": "x",
         "y": [
          3.6
         ],
         "yaxis": "y"
        },
        {
         "hovertemplate": "<b>%{hovertext}</b><br><br>Branche (SBI 2008)=L Verhuur en handel van onroerend goed<br>Employed Persons (2023, x1000)=%{marker.size}<br>Sick Leave Percentage=%{y}<extra></extra>",
         "hovertext": [
          "L Verhuur en handel van onroerend goed"
         ],
         "legendgroup": "L Verhuur en handel van onroerend goed",
         "marker": {
          "color": "rgb(179,179,179)",
          "line": {
           "color": "white",
           "width": 1
          },
          "size": [
           81
          ],
          "sizemode": "area",
          "sizeref": 0.2006172839506173,
          "symbol": "circle"
         },
         "mode": "markers",
         "name": "L Verhuur en handel van onroerend goed",
         "orientation": "v",
         "showlegend": true,
         "textposition": "middle center",
         "type": "scatter",
         "x": [
          81
         ],
         "xaxis": "x",
         "y": [
          4.2
         ],
         "yaxis": "y"
        },
        {
         "hovertemplate": "<b>%{hovertext}</b><br><br>Branche (SBI 2008)=E Waterbedrijven en afvalbeheer<br>Employed Persons (2023, x1000)=%{marker.size}<br>Sick Leave Percentage=%{y}<extra></extra>",
         "hovertext": [
          "E Waterbedrijven en afvalbeheer"
         ],
         "legendgroup": "E Waterbedrijven en afvalbeheer",
         "marker": {
          "color": "rgb(102,194,165)",
          "line": {
           "color": "white",
           "width": 1
          },
          "size": [
           38
          ],
          "sizemode": "area",
          "sizeref": 0.2006172839506173,
          "symbol": "circle"
         },
         "mode": "markers",
         "name": "E Waterbedrijven en afvalbeheer",
         "orientation": "v",
         "showlegend": true,
         "textposition": "middle center",
         "type": "scatter",
         "x": [
          38
         ],
         "xaxis": "x",
         "y": [
          6.3
         ],
         "yaxis": "y"
        },
        {
         "hovertemplate": "<b>%{hovertext}</b><br><br>Branche (SBI 2008)=D Energievoorziening<br>Employed Persons (2023, x1000)=%{marker.size}<br>Sick Leave Percentage=%{y}<extra></extra>",
         "hovertext": [
          "D Energievoorziening"
         ],
         "legendgroup": "D Energievoorziening",
         "marker": {
          "color": "rgb(252,141,98)",
          "line": {
           "color": "white",
           "width": 1
          },
          "size": [
           36
          ],
          "sizemode": "area",
          "sizeref": 0.2006172839506173,
          "symbol": "circle"
         },
         "mode": "markers",
         "name": "D Energievoorziening",
         "orientation": "v",
         "showlegend": true,
         "textposition": "middle center",
         "type": "scatter",
         "x": [
          36
         ],
         "xaxis": "x",
         "y": [
          4.8
         ],
         "yaxis": "y"
        },
        {
         "hovertemplate": "<b>%{hovertext}</b><br><br>Branche (SBI 2008)=B Delfstoffenwinning<br>Employed Persons (2023, x1000)=%{marker.size}<br>Sick Leave Percentage=%{y}<extra></extra>",
         "hovertext": [
          "B Delfstoffenwinning"
         ],
         "legendgroup": "B Delfstoffenwinning",
         "marker": {
          "color": "rgb(141,160,203)",
          "line": {
           "color": "white",
           "width": 1
          },
          "size": [
           8
          ],
          "sizemode": "area",
          "sizeref": 0.2006172839506173,
          "symbol": "circle"
         },
         "mode": "markers",
         "name": "B Delfstoffenwinning",
         "orientation": "v",
         "showlegend": true,
         "textposition": "middle center",
         "type": "scatter",
         "x": [
          8
         ],
         "xaxis": "x",
         "y": [
          4.8
         ],
         "yaxis": "y"
        }
       ],
       "layout": {
        "annotations": [
         {
          "align": "center",
          "bgcolor": "rgba(0, 0, 0, 0)",
          "bordercolor": "rgba(0, 0, 0, 0)",
          "borderpad": 2,
          "borderwidth": 1,
          "font": {
           "color": "grey",
           "family": "Roboto",
           "size": 12
          },
          "opacity": 1,
          "showarrow": false,
          "text": "Q:<br>€784.030",
          "x": 1625,
          "xshift": 0,
          "y": 7.4,
          "yshift": 19
         },
         {
          "align": "center",
          "bgcolor": "rgba(0, 0, 0, 0)",
          "bordercolor": "rgba(0, 0, 0, 0)",
          "borderpad": 2,
          "borderwidth": 1,
          "font": {
           "color": "grey",
           "family": "Roboto",
           "size": 12
          },
          "opacity": 1,
          "showarrow": false,
          "text": "G:<br>€435.024",
          "x": 1558,
          "xshift": 0,
          "y": 4.6,
          "yshift": 19
         },
         {
          "align": "center",
          "bgcolor": "rgba(0, 0, 0, 0)",
          "bordercolor": "rgba(0, 0, 0, 0)",
          "borderpad": 2,
          "borderwidth": 1,
          "font": {
           "color": "grey",
           "family": "Roboto",
           "size": 12
          },
          "opacity": 1,
          "showarrow": false,
          "text": "C:<br>€366.293",
          "x": 763,
          "xshift": 0,
          "y": 6.1,
          "yshift": 19
         },
         {
          "align": "center",
          "bgcolor": "rgba(0, 0, 0, 0)",
          "bordercolor": "rgba(0, 0, 0, 0)",
          "borderpad": 2,
          "borderwidth": 1,
          "font": {
           "color": "grey",
           "family": "Roboto",
           "size": 12
          },
          "opacity": 1,
          "showarrow": false,
          "text": "O:<br>€309.787",
          "x": 639,
          "xshift": 0,
          "y": 6,
          "yshift": 19
         },
         {
          "align": "center",
          "bgcolor": "rgba(0, 0, 0, 0)",
          "bordercolor": "rgba(0, 0, 0, 0)",
          "borderpad": 2,
          "borderwidth": 1,
          "font": {
           "color": "grey",
           "family": "Roboto",
           "size": 12
          },
          "opacity": 1,
          "showarrow": false,
          "text": "N:<br>€292.466",
          "x": 1218,
          "xshift": 0,
          "y": 4.6,
          "yshift": 19
         },
         {
          "align": "center",
          "bgcolor": "rgba(0, 0, 0, 0)",
          "bordercolor": "rgba(0, 0, 0, 0)",
          "borderpad": 2,
          "borderwidth": 1,
          "font": {
           "color": "grey",
           "family": "Roboto",
           "size": 12
          },
          "opacity": 1,
          "showarrow": false,
          "text": "P:<br>€285.466",
          "x": 638,
          "xshift": 0,
          "y": 5.6,
          "yshift": 19
         },
         {
          "align": "center",
          "bgcolor": "rgba(0, 0, 0, 0)",
          "bordercolor": "rgba(0, 0, 0, 0)",
          "borderpad": 2,
          "borderwidth": 1,
          "font": {
           "color": "grey",
           "family": "Roboto",
           "size": 12
          },
          "opacity": 1,
          "showarrow": false,
          "text": "M:<br>€273.657",
          "x": 857,
          "xshift": 0,
          "y": 3.6,
          "yshift": 19
         },
         {
          "align": "center",
          "bgcolor": "rgba(0, 0, 0, 0)",
          "bordercolor": "rgba(0, 0, 0, 0)",
          "borderpad": 2,
          "borderwidth": 1,
          "font": {
           "color": "grey",
           "family": "Roboto",
           "size": 12
          },
          "opacity": 1,
          "showarrow": false,
          "text": "F:<br>€200.901",
          "x": 592,
          "xshift": 0,
          "y": 4.8,
          "yshift": 19
         },
         {
          "align": "center",
          "bgcolor": "rgba(0, 0, 0, 0)",
          "bordercolor": "rgba(0, 0, 0, 0)",
          "borderpad": 2,
          "borderwidth": 1,
          "font": {
           "color": "grey",
           "family": "Roboto",
           "size": 12
          },
          "opacity": 1,
          "showarrow": false,
          "text": "H:<br>€197.494",
          "x": 436,
          "xshift": 0,
          "y": 6.3,
          "yshift": 19
         },
         {
          "align": "center",
          "font": {
           "size": 12
          },
          "showarrow": false,
          "text": "Sick Leave Percentage",
          "x": -0.07,
          "xref": "paper",
          "y": 1.08,
          "yref": "paper"
         }
        ],
        "height": 600,
        "legend": {
         "itemsizing": "constant",
         "title": {
          "text": "Branche (SBI 2008)"
         },
         "tracegroupgap": 0
        },
        "plot_bgcolor": "rgba(0,0,0,0)",
        "showlegend": true,
        "template": {
         "data": {
          "bar": [
           {
            "error_x": {
             "color": "#2a3f5f"
            },
            "error_y": {
             "color": "#2a3f5f"
            },
            "marker": {
             "line": {
              "color": "#E5ECF6",
              "width": 0.5
             },
             "pattern": {
              "fillmode": "overlay",
              "size": 10,
              "solidity": 0.2
             }
            },
            "type": "bar"
           }
          ],
          "barpolar": [
           {
            "marker": {
             "line": {
              "color": "#E5ECF6",
              "width": 0.5
             },
             "pattern": {
              "fillmode": "overlay",
              "size": 10,
              "solidity": 0.2
             }
            },
            "type": "barpolar"
           }
          ],
          "carpet": [
           {
            "aaxis": {
             "endlinecolor": "#2a3f5f",
             "gridcolor": "white",
             "linecolor": "white",
             "minorgridcolor": "white",
             "startlinecolor": "#2a3f5f"
            },
            "baxis": {
             "endlinecolor": "#2a3f5f",
             "gridcolor": "white",
             "linecolor": "white",
             "minorgridcolor": "white",
             "startlinecolor": "#2a3f5f"
            },
            "type": "carpet"
           }
          ],
          "choropleth": [
           {
            "colorbar": {
             "outlinewidth": 0,
             "ticks": ""
            },
            "type": "choropleth"
           }
          ],
          "contour": [
           {
            "colorbar": {
             "outlinewidth": 0,
             "ticks": ""
            },
            "colorscale": [
             [
              0,
              "#0d0887"
             ],
             [
              0.1111111111111111,
              "#46039f"
             ],
             [
              0.2222222222222222,
              "#7201a8"
             ],
             [
              0.3333333333333333,
              "#9c179e"
             ],
             [
              0.4444444444444444,
              "#bd3786"
             ],
             [
              0.5555555555555556,
              "#d8576b"
             ],
             [
              0.6666666666666666,
              "#ed7953"
             ],
             [
              0.7777777777777778,
              "#fb9f3a"
             ],
             [
              0.8888888888888888,
              "#fdca26"
             ],
             [
              1,
              "#f0f921"
             ]
            ],
            "type": "contour"
           }
          ],
          "contourcarpet": [
           {
            "colorbar": {
             "outlinewidth": 0,
             "ticks": ""
            },
            "type": "contourcarpet"
           }
          ],
          "heatmap": [
           {
            "colorbar": {
             "outlinewidth": 0,
             "ticks": ""
            },
            "colorscale": [
             [
              0,
              "#0d0887"
             ],
             [
              0.1111111111111111,
              "#46039f"
             ],
             [
              0.2222222222222222,
              "#7201a8"
             ],
             [
              0.3333333333333333,
              "#9c179e"
             ],
             [
              0.4444444444444444,
              "#bd3786"
             ],
             [
              0.5555555555555556,
              "#d8576b"
             ],
             [
              0.6666666666666666,
              "#ed7953"
             ],
             [
              0.7777777777777778,
              "#fb9f3a"
             ],
             [
              0.8888888888888888,
              "#fdca26"
             ],
             [
              1,
              "#f0f921"
             ]
            ],
            "type": "heatmap"
           }
          ],
          "heatmapgl": [
           {
            "colorbar": {
             "outlinewidth": 0,
             "ticks": ""
            },
            "colorscale": [
             [
              0,
              "#0d0887"
             ],
             [
              0.1111111111111111,
              "#46039f"
             ],
             [
              0.2222222222222222,
              "#7201a8"
             ],
             [
              0.3333333333333333,
              "#9c179e"
             ],
             [
              0.4444444444444444,
              "#bd3786"
             ],
             [
              0.5555555555555556,
              "#d8576b"
             ],
             [
              0.6666666666666666,
              "#ed7953"
             ],
             [
              0.7777777777777778,
              "#fb9f3a"
             ],
             [
              0.8888888888888888,
              "#fdca26"
             ],
             [
              1,
              "#f0f921"
             ]
            ],
            "type": "heatmapgl"
           }
          ],
          "histogram": [
           {
            "marker": {
             "pattern": {
              "fillmode": "overlay",
              "size": 10,
              "solidity": 0.2
             }
            },
            "type": "histogram"
           }
          ],
          "histogram2d": [
           {
            "colorbar": {
             "outlinewidth": 0,
             "ticks": ""
            },
            "colorscale": [
             [
              0,
              "#0d0887"
             ],
             [
              0.1111111111111111,
              "#46039f"
             ],
             [
              0.2222222222222222,
              "#7201a8"
             ],
             [
              0.3333333333333333,
              "#9c179e"
             ],
             [
              0.4444444444444444,
              "#bd3786"
             ],
             [
              0.5555555555555556,
              "#d8576b"
             ],
             [
              0.6666666666666666,
              "#ed7953"
             ],
             [
              0.7777777777777778,
              "#fb9f3a"
             ],
             [
              0.8888888888888888,
              "#fdca26"
             ],
             [
              1,
              "#f0f921"
             ]
            ],
            "type": "histogram2d"
           }
          ],
          "histogram2dcontour": [
           {
            "colorbar": {
             "outlinewidth": 0,
             "ticks": ""
            },
            "colorscale": [
             [
              0,
              "#0d0887"
             ],
             [
              0.1111111111111111,
              "#46039f"
             ],
             [
              0.2222222222222222,
              "#7201a8"
             ],
             [
              0.3333333333333333,
              "#9c179e"
             ],
             [
              0.4444444444444444,
              "#bd3786"
             ],
             [
              0.5555555555555556,
              "#d8576b"
             ],
             [
              0.6666666666666666,
              "#ed7953"
             ],
             [
              0.7777777777777778,
              "#fb9f3a"
             ],
             [
              0.8888888888888888,
              "#fdca26"
             ],
             [
              1,
              "#f0f921"
             ]
            ],
            "type": "histogram2dcontour"
           }
          ],
          "mesh3d": [
           {
            "colorbar": {
             "outlinewidth": 0,
             "ticks": ""
            },
            "type": "mesh3d"
           }
          ],
          "parcoords": [
           {
            "line": {
             "colorbar": {
              "outlinewidth": 0,
              "ticks": ""
             }
            },
            "type": "parcoords"
           }
          ],
          "pie": [
           {
            "automargin": true,
            "type": "pie"
           }
          ],
          "scatter": [
           {
            "fillpattern": {
             "fillmode": "overlay",
             "size": 10,
             "solidity": 0.2
            },
            "type": "scatter"
           }
          ],
          "scatter3d": [
           {
            "line": {
             "colorbar": {
              "outlinewidth": 0,
              "ticks": ""
             }
            },
            "marker": {
             "colorbar": {
              "outlinewidth": 0,
              "ticks": ""
             }
            },
            "type": "scatter3d"
           }
          ],
          "scattercarpet": [
           {
            "marker": {
             "colorbar": {
              "outlinewidth": 0,
              "ticks": ""
             }
            },
            "type": "scattercarpet"
           }
          ],
          "scattergeo": [
           {
            "marker": {
             "colorbar": {
              "outlinewidth": 0,
              "ticks": ""
             }
            },
            "type": "scattergeo"
           }
          ],
          "scattergl": [
           {
            "marker": {
             "colorbar": {
              "outlinewidth": 0,
              "ticks": ""
             }
            },
            "type": "scattergl"
           }
          ],
          "scattermapbox": [
           {
            "marker": {
             "colorbar": {
              "outlinewidth": 0,
              "ticks": ""
             }
            },
            "type": "scattermapbox"
           }
          ],
          "scatterpolar": [
           {
            "marker": {
             "colorbar": {
              "outlinewidth": 0,
              "ticks": ""
             }
            },
            "type": "scatterpolar"
           }
          ],
          "scatterpolargl": [
           {
            "marker": {
             "colorbar": {
              "outlinewidth": 0,
              "ticks": ""
             }
            },
            "type": "scatterpolargl"
           }
          ],
          "scatterternary": [
           {
            "marker": {
             "colorbar": {
              "outlinewidth": 0,
              "ticks": ""
             }
            },
            "type": "scatterternary"
           }
          ],
          "surface": [
           {
            "colorbar": {
             "outlinewidth": 0,
             "ticks": ""
            },
            "colorscale": [
             [
              0,
              "#0d0887"
             ],
             [
              0.1111111111111111,
              "#46039f"
             ],
             [
              0.2222222222222222,
              "#7201a8"
             ],
             [
              0.3333333333333333,
              "#9c179e"
             ],
             [
              0.4444444444444444,
              "#bd3786"
             ],
             [
              0.5555555555555556,
              "#d8576b"
             ],
             [
              0.6666666666666666,
              "#ed7953"
             ],
             [
              0.7777777777777778,
              "#fb9f3a"
             ],
             [
              0.8888888888888888,
              "#fdca26"
             ],
             [
              1,
              "#f0f921"
             ]
            ],
            "type": "surface"
           }
          ],
          "table": [
           {
            "cells": {
             "fill": {
              "color": "#EBF0F8"
             },
             "line": {
              "color": "white"
             }
            },
            "header": {
             "fill": {
              "color": "#C8D4E3"
             },
             "line": {
              "color": "white"
             }
            },
            "type": "table"
           }
          ]
         },
         "layout": {
          "annotationdefaults": {
           "arrowcolor": "#2a3f5f",
           "arrowhead": 0,
           "arrowwidth": 1
          },
          "autotypenumbers": "strict",
          "coloraxis": {
           "colorbar": {
            "outlinewidth": 0,
            "ticks": ""
           }
          },
          "colorscale": {
           "diverging": [
            [
             0,
             "#8e0152"
            ],
            [
             0.1,
             "#c51b7d"
            ],
            [
             0.2,
             "#de77ae"
            ],
            [
             0.3,
             "#f1b6da"
            ],
            [
             0.4,
             "#fde0ef"
            ],
            [
             0.5,
             "#f7f7f7"
            ],
            [
             0.6,
             "#e6f5d0"
            ],
            [
             0.7,
             "#b8e186"
            ],
            [
             0.8,
             "#7fbc41"
            ],
            [
             0.9,
             "#4d9221"
            ],
            [
             1,
             "#276419"
            ]
           ],
           "sequential": [
            [
             0,
             "#0d0887"
            ],
            [
             0.1111111111111111,
             "#46039f"
            ],
            [
             0.2222222222222222,
             "#7201a8"
            ],
            [
             0.3333333333333333,
             "#9c179e"
            ],
            [
             0.4444444444444444,
             "#bd3786"
            ],
            [
             0.5555555555555556,
             "#d8576b"
            ],
            [
             0.6666666666666666,
             "#ed7953"
            ],
            [
             0.7777777777777778,
             "#fb9f3a"
            ],
            [
             0.8888888888888888,
             "#fdca26"
            ],
            [
             1,
             "#f0f921"
            ]
           ],
           "sequentialminus": [
            [
             0,
             "#0d0887"
            ],
            [
             0.1111111111111111,
             "#46039f"
            ],
            [
             0.2222222222222222,
             "#7201a8"
            ],
            [
             0.3333333333333333,
             "#9c179e"
            ],
            [
             0.4444444444444444,
             "#bd3786"
            ],
            [
             0.5555555555555556,
             "#d8576b"
            ],
            [
             0.6666666666666666,
             "#ed7953"
            ],
            [
             0.7777777777777778,
             "#fb9f3a"
            ],
            [
             0.8888888888888888,
             "#fdca26"
            ],
            [
             1,
             "#f0f921"
            ]
           ]
          },
          "colorway": [
           "#636efa",
           "#EF553B",
           "#00cc96",
           "#ab63fa",
           "#FFA15A",
           "#19d3f3",
           "#FF6692",
           "#B6E880",
           "#FF97FF",
           "#FECB52"
          ],
          "font": {
           "color": "#2a3f5f"
          },
          "geo": {
           "bgcolor": "white",
           "lakecolor": "white",
           "landcolor": "#E5ECF6",
           "showlakes": true,
           "showland": true,
           "subunitcolor": "white"
          },
          "hoverlabel": {
           "align": "left"
          },
          "hovermode": "closest",
          "mapbox": {
           "style": "light"
          },
          "paper_bgcolor": "white",
          "plot_bgcolor": "#E5ECF6",
          "polar": {
           "angularaxis": {
            "gridcolor": "white",
            "linecolor": "white",
            "ticks": ""
           },
           "bgcolor": "#E5ECF6",
           "radialaxis": {
            "gridcolor": "white",
            "linecolor": "white",
            "ticks": ""
           }
          },
          "scene": {
           "xaxis": {
            "backgroundcolor": "#E5ECF6",
            "gridcolor": "white",
            "gridwidth": 2,
            "linecolor": "white",
            "showbackground": true,
            "ticks": "",
            "zerolinecolor": "white"
           },
           "yaxis": {
            "backgroundcolor": "#E5ECF6",
            "gridcolor": "white",
            "gridwidth": 2,
            "linecolor": "white",
            "showbackground": true,
            "ticks": "",
            "zerolinecolor": "white"
           },
           "zaxis": {
            "backgroundcolor": "#E5ECF6",
            "gridcolor": "white",
            "gridwidth": 2,
            "linecolor": "white",
            "showbackground": true,
            "ticks": "",
            "zerolinecolor": "white"
           }
          },
          "shapedefaults": {
           "line": {
            "color": "#2a3f5f"
           }
          },
          "ternary": {
           "aaxis": {
            "gridcolor": "white",
            "linecolor": "white",
            "ticks": ""
           },
           "baxis": {
            "gridcolor": "white",
            "linecolor": "white",
            "ticks": ""
           },
           "bgcolor": "#E5ECF6",
           "caxis": {
            "gridcolor": "white",
            "linecolor": "white",
            "ticks": ""
           }
          },
          "title": {
           "x": 0.05
          },
          "xaxis": {
           "automargin": true,
           "gridcolor": "white",
           "linecolor": "white",
           "ticks": "",
           "title": {
            "standoff": 15
           },
           "zerolinecolor": "white",
           "zerolinewidth": 2
          },
          "yaxis": {
           "automargin": true,
           "gridcolor": "white",
           "linecolor": "white",
           "ticks": "",
           "title": {
            "standoff": 15
           },
           "zerolinecolor": "white",
           "zerolinewidth": 2
          }
         }
        },
        "title": {
         "text": "Bubble Up: Unveiling the Top Sick Leave Costs in Health, Trade, and Manufacturing"
        },
        "width": 1200,
        "xaxis": {
         "anchor": "y",
         "domain": [
          0,
          1
         ],
         "linecolor": "black",
         "linewidth": 1,
         "showgrid": false,
         "showline": true,
         "title": {
          "text": "Employed Persons (2023, x1000)"
         }
        },
        "yaxis": {
         "anchor": "x",
         "automargin": true,
         "domain": [
          0,
          1
         ],
         "gridcolor": "lightgrey",
         "linecolor": "black",
         "linewidth": 1,
         "showgrid": true,
         "showline": true,
         "title": {
          "text": ""
         }
        }
       }
      }
     },
     "metadata": {},
     "output_type": "display_data"
    }
   ],
   "source": [
    "# Import necessary libraries\n",
    "import pandas as pd\n",
    "import plotly.express as px\n",
    "import plotly.graph_objects as go\n",
    "\n",
    "# Load the data from the provided Excel file\n",
    "data = pd.read_excel(r\"c:/Users/c.hakker/OneDrive - VISTA college/Senior Stuff/Opleiding Data science/Back up UWV/Sick leave x Employed persons.xlsx\")\n",
    "\n",
    "# Convert 'Costs of illness per year of employment' column to integer for consistent display\n",
    "data['\\nCosts of illness per year of employment'] = data['\\nCosts of illness per year of employment'].astype(int)\n",
    "\n",
    "# Filter data to show text only for the top 3 highest 'Costs of illness per year of employment'\n",
    "top_9_data = data.nlargest(9, '\\nCosts of illness per year of employment')\n",
    "\n",
    "# Bubble Plot using Plotly with discrete color scale for categories\n",
    "fig = px.scatter(data, \n",
    "                 x='Employed persons 2023 (x1000)', \n",
    "                 y='Sick leave percentage 2023', \n",
    "                 size='Employed persons 2023 (x1000)', \n",
    "                 color='Branche (SBI 2008)',  # Categorical color scale\n",
    "                 hover_name='Branche (SBI 2008)',\n",
    "                 title='Bubble Up: Unveiling the Top Sick Leave Costs in Health, Trade, and Manufacturing',\n",
    "                 labels={'Employed persons 2023 (x1000)': 'Employed Persons (2023, x1000)', \n",
    "                         'Sick leave percentage 2023': 'Sick Leave Percentage'},\n",
    "                 size_max=90,  # Adjust size_max to control bubble size scaling\n",
    "                 color_discrete_sequence=px.colors.qualitative.Set2)  # Change this to any discrete color scale\n",
    "\n",
    "# Customize the layout to show text only for top 3\n",
    "for index, row in top_9_data.iterrows():\n",
    "    fig.add_annotation(x=row['Employed persons 2023 (x1000)'], \n",
    "                       y=row['Sick leave percentage 2023'],\n",
    "                       text=f\"{row['Branche']}:<br>€{row['\\nCosts of illness per year of employment']:,}\".replace(',', '.'),\n",
    "                       showarrow=False,\n",
    "                       font=dict(size=12, color='grey', family=\"Roboto\"),\n",
    "                       align='center',\n",
    "                       xshift=0,  # Adjust horizontal position\n",
    "                       yshift=19,  # Shift text upwards (increase value for higher position)\n",
    "                       bordercolor='rgba(0, 0, 0, 0)',  # Transparent border \n",
    "                       borderwidth=1, \n",
    "                       borderpad=2, \n",
    "                       bgcolor='rgba(0, 0, 0, 0)',  # Transparent background\n",
    "                       opacity=1)  # Adjust annotation style\n",
    "\n",
    "# Update layout \n",
    "fig.update_layout(\n",
    "    showlegend=True,\n",
    "    xaxis=dict(\n",
    "        showline=True, \n",
    "        linewidth=1, \n",
    "        linecolor='black', \n",
    "        showgrid=False  # Remove vertical gridlines\n",
    "    ),\n",
    "    yaxis=dict(\n",
    "        showline=True, \n",
    "        linewidth=1, \n",
    "        linecolor='black', \n",
    "        showgrid=True, \n",
    "        gridcolor='lightgrey',  # Horizontal gridlines in light grey\n",
    "        title=dict(\n",
    "            text='',  # Remove default title text to avoid overlap\n",
    "        ),\n",
    "        automargin=True  # Adjusts the margin automatically to fit the title\n",
    "    ),\n",
    "    plot_bgcolor='rgba(0,0,0,0)',  # Transparent background\n",
    "    width=1200,  # Width of the plot\n",
    "    height=600  # Height of the plot\n",
    ")\n",
    "\n",
    "# Add annotation for horizontal y-axis title\n",
    "fig.add_annotation(\n",
    "    text=\"Sick Leave Percentage\",  # Text for y-axis title\n",
    "    xref=\"paper\", yref=\"paper\",  # Coordinates relative to the plot\n",
    "    x=-0.07, y=1.08,  # Adjust x and y values to position the text\n",
    "    showarrow=False,  # No arrow\n",
    "    font=dict(size=12),\n",
    "    align=\"center\"\n",
    ")\n",
    "\n",
    "# Update text position on the bubbles\n",
    "fig.update_traces(textposition='middle center',\n",
    "                  marker=dict(line=dict(color='white', width=1)))  # White outline for text visibility\n",
    "\n",
    "# Save the plot as an HTML file\n",
    "fig.write_html(\"Sick_leave_analysis.html\")\n",
    "\n",
    "# Show the plot\n",
    "fig.show()\n"
   ]
  }
 ],
 "metadata": {
  "kernelspec": {
   "display_name": ".venv",
   "language": "python",
   "name": "python3"
  },
  "language_info": {
   "codemirror_mode": {
    "name": "ipython",
    "version": 3
   },
   "file_extension": ".py",
   "mimetype": "text/x-python",
   "name": "python",
   "nbconvert_exporter": "python",
   "pygments_lexer": "ipython3",
   "version": "3.12.3"
  }
 },
 "nbformat": 4,
 "nbformat_minor": 2
}
