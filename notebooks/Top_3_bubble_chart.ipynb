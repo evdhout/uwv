{
 "cells": [
  {
   "cell_type": "code",
   "execution_count": 4,
   "metadata": {},
   "outputs": [
    {
     "name": "stdout",
     "output_type": "stream",
     "text": [
      "   Branche (SBI 2008)  Sick leave percentage 2023  \\\n",
      "16      Q Health care                         7.4   \n",
      "6             G Trade                         4.6   \n",
      "2     C Manufacturing                         6.1   \n",
      "\n",
      "    Employed persons 2023 (x1000)  Loonkosten per arbeidsjaar (x1000)  \\\n",
      "16                           1625                                65.2   \n",
      "6                            1558                                60.7   \n",
      "2                             763                                78.7   \n",
      "\n",
      "    Sick leave x employed persons  Costs of illness per year of employment  \\\n",
      "16                        12025.0                                   784030   \n",
      "6                          7166.8                                   435024   \n",
      "2                          4654.3                                   366293   \n",
      "\n",
      "   Branche  \n",
      "16       Q  \n",
      "6        G  \n",
      "2        C  \n"
     ]
    },
    {
     "name": "stderr",
     "output_type": "stream",
     "text": [
      "c:\\Users\\c.hakker\\OneDrive - VISTA college\\Senior Stuff\\Opleiding Data science\\uwv\\.venv\\Lib\\site-packages\\plotly\\express\\_core.py:1980: FutureWarning:\n",
      "\n",
      "When grouping with a length-1 list-like, you will need to pass a length-1 tuple to get_group in a future version of pandas. Pass `(name,)` instead of `name` to silence this warning.\n",
      "\n"
     ]
    },
    {
     "data": {
      "application/vnd.plotly.v1+json": {
       "config": {
        "plotlyServerURL": "https://plot.ly"
       },
       "data": [
        {
         "hovertemplate": "<b>%{hovertext}</b><br><br>Branche (SBI 2008)=A Agriculture, forestry and fishing<br>Employed Persons (2023, x1000)=%{marker.size}<br>Sick Leave Percentage=%{y}<extra></extra>",
         "hovertext": [
          "A Agriculture, forestry and fishing"
         ],
         "legendgroup": "A Agriculture, forestry and fishing",
         "marker": {
          "color": "#024b7a",
          "line": {
           "color": "white",
           "width": 1
          },
          "size": [
           197
          ],
          "sizemode": "area",
          "sizeref": 0.2006172839506173,
          "symbol": "circle"
         },
         "mode": "markers",
         "name": "A Agriculture, forestry and fishing",
         "orientation": "v",
         "showlegend": true,
         "textposition": "middle center",
         "type": "scatter",
         "x": [
          197
         ],
         "xaxis": "x",
         "y": [
          3.6
         ],
         "yaxis": "y"
        },
        {
         "hovertemplate": "<b>%{hovertext}</b><br><br>Branche (SBI 2008)=B Mining and quarrying<br>Employed Persons (2023, x1000)=%{marker.size}<br>Sick Leave Percentage=%{y}<extra></extra>",
         "hovertext": [
          "B Mining and quarrying"
         ],
         "legendgroup": "B Mining and quarrying",
         "marker": {
          "color": "#44b7c2",
          "line": {
           "color": "white",
           "width": 1
          },
          "size": [
           8
          ],
          "sizemode": "area",
          "sizeref": 0.2006172839506173,
          "symbol": "circle"
         },
         "mode": "markers",
         "name": "B Mining and quarrying",
         "orientation": "v",
         "showlegend": true,
         "textposition": "middle center",
         "type": "scatter",
         "x": [
          8
         ],
         "xaxis": "x",
         "y": [
          4.8
         ],
         "yaxis": "y"
        },
        {
         "hovertemplate": "<b>%{hovertext}</b><br><br>Branche (SBI 2008)=C Manufacturing<br>Employed Persons (2023, x1000)=%{marker.size}<br>Sick Leave Percentage=%{y}<extra></extra>",
         "hovertext": [
          "C Manufacturing"
         ],
         "legendgroup": "C Manufacturing",
         "marker": {
          "color": "#ffae49",
          "line": {
           "color": "white",
           "width": 1
          },
          "size": [
           763
          ],
          "sizemode": "area",
          "sizeref": 0.2006172839506173,
          "symbol": "circle"
         },
         "mode": "markers",
         "name": "C Manufacturing",
         "orientation": "v",
         "showlegend": true,
         "textposition": "middle center",
         "type": "scatter",
         "x": [
          763
         ],
         "xaxis": "x",
         "y": [
          6.1
         ],
         "yaxis": "y"
        },
        {
         "hovertemplate": "<b>%{hovertext}</b><br><br>Branche (SBI 2008)=D Energy supply<br>Employed Persons (2023, x1000)=%{marker.size}<br>Sick Leave Percentage=%{y}<extra></extra>",
         "hovertext": [
          "D Energy supply"
         ],
         "legendgroup": "D Energy supply",
         "marker": {
          "color": "#3f9abf",
          "line": {
           "color": "white",
           "width": 1
          },
          "size": [
           36
          ],
          "sizemode": "area",
          "sizeref": 0.2006172839506173,
          "symbol": "circle"
         },
         "mode": "markers",
         "name": "D Energy supply",
         "orientation": "v",
         "showlegend": true,
         "textposition": "middle center",
         "type": "scatter",
         "x": [
          36
         ],
         "xaxis": "x",
         "y": [
          4.8
         ],
         "yaxis": "y"
        },
        {
         "hovertemplate": "<b>%{hovertext}</b><br><br>Branche (SBI 2008)=E Water utilities and waste management<br>Employed Persons (2023, x1000)=%{marker.size}<br>Sick Leave Percentage=%{y}<extra></extra>",
         "hovertext": [
          "E Water utilities and waste management"
         ],
         "legendgroup": "E Water utilities and waste management",
         "marker": {
          "color": "#5fb5db",
          "line": {
           "color": "white",
           "width": 1
          },
          "size": [
           38
          ],
          "sizemode": "area",
          "sizeref": 0.2006172839506173,
          "symbol": "circle"
         },
         "mode": "markers",
         "name": "E Water utilities and waste management",
         "orientation": "v",
         "showlegend": true,
         "textposition": "middle center",
         "type": "scatter",
         "x": [
          38
         ],
         "xaxis": "x",
         "y": [
          6.3
         ],
         "yaxis": "y"
        },
        {
         "hovertemplate": "<b>%{hovertext}</b><br><br>Branche (SBI 2008)=F Construction<br>Employed Persons (2023, x1000)=%{marker.size}<br>Sick Leave Percentage=%{y}<extra></extra>",
         "hovertext": [
          "F Construction"
         ],
         "legendgroup": "F Construction",
         "marker": {
          "color": "#01918b",
          "line": {
           "color": "white",
           "width": 1
          },
          "size": [
           592
          ],
          "sizemode": "area",
          "sizeref": 0.2006172839506173,
          "symbol": "circle"
         },
         "mode": "markers",
         "name": "F Construction",
         "orientation": "v",
         "showlegend": true,
         "textposition": "middle center",
         "type": "scatter",
         "x": [
          592
         ],
         "xaxis": "x",
         "y": [
          4.8
         ],
         "yaxis": "y"
        },
        {
         "hovertemplate": "<b>%{hovertext}</b><br><br>Branche (SBI 2008)=G Trade<br>Employed Persons (2023, x1000)=%{marker.size}<br>Sick Leave Percentage=%{y}<extra></extra>",
         "hovertext": [
          "G Trade"
         ],
         "legendgroup": "G Trade",
         "marker": {
          "color": "#ff912b",
          "line": {
           "color": "white",
           "width": 1
          },
          "size": [
           1558
          ],
          "sizemode": "area",
          "sizeref": 0.2006172839506173,
          "symbol": "circle"
         },
         "mode": "markers",
         "name": "G Trade",
         "orientation": "v",
         "showlegend": true,
         "textposition": "middle center",
         "type": "scatter",
         "x": [
          1558
         ],
         "xaxis": "x",
         "y": [
          4.6
         ],
         "yaxis": "y"
        },
        {
         "hovertemplate": "<b>%{hovertext}</b><br><br>Branche (SBI 2008)=H Transportation and storage<br>Employed Persons (2023, x1000)=%{marker.size}<br>Sick Leave Percentage=%{y}<extra></extra>",
         "hovertext": [
          "H Transportation and storage"
         ],
         "legendgroup": "H Transportation and storage",
         "marker": {
          "color": "#f16c51",
          "line": {
           "color": "white",
           "width": 1
          },
          "size": [
           436
          ],
          "sizemode": "area",
          "sizeref": 0.2006172839506173,
          "symbol": "circle"
         },
         "mode": "markers",
         "name": "H Transportation and storage",
         "orientation": "v",
         "showlegend": true,
         "textposition": "middle center",
         "type": "scatter",
         "x": [
          436
         ],
         "xaxis": "x",
         "y": [
          6.3
         ],
         "yaxis": "y"
        },
        {
         "hovertemplate": "<b>%{hovertext}</b><br><br>Branche (SBI 2008)=I Hospitality<br>Employed Persons (2023, x1000)=%{marker.size}<br>Sick Leave Percentage=%{y}<extra></extra>",
         "hovertext": [
          "I Hospitality"
         ],
         "legendgroup": "I Hospitality",
         "marker": {
          "color": "#15bfb6",
          "line": {
           "color": "white",
           "width": 1
          },
          "size": [
           501
          ],
          "sizemode": "area",
          "sizeref": 0.2006172839506173,
          "symbol": "circle"
         },
         "mode": "markers",
         "name": "I Hospitality",
         "orientation": "v",
         "showlegend": true,
         "textposition": "middle center",
         "type": "scatter",
         "x": [
          501
         ],
         "xaxis": "x",
         "y": [
          3.9
         ],
         "yaxis": "y"
        },
        {
         "hovertemplate": "<b>%{hovertext}</b><br><br>Branche (SBI 2008)=J Information and communication<br>Employed Persons (2023, x1000)=%{marker.size}<br>Sick Leave Percentage=%{y}<extra></extra>",
         "hovertext": [
          "J Information and communication"
         ],
         "legendgroup": "J Information and communication",
         "marker": {
          "color": "#ef9051",
          "line": {
           "color": "white",
           "width": 1
          },
          "size": [
           375
          ],
          "sizemode": "area",
          "sizeref": 0.2006172839506173,
          "symbol": "circle"
         },
         "mode": "markers",
         "name": "J Information and communication",
         "orientation": "v",
         "showlegend": true,
         "textposition": "middle center",
         "type": "scatter",
         "x": [
          375
         ],
         "xaxis": "x",
         "y": [
          3.9
         ],
         "yaxis": "y"
        },
        {
         "hovertemplate": "<b>%{hovertext}</b><br><br>Branche (SBI 2008)=K Financial services<br>Employed Persons (2023, x1000)=%{marker.size}<br>Sick Leave Percentage=%{y}<extra></extra>",
         "hovertext": [
          "K Financial services"
         ],
         "legendgroup": "K Financial services",
         "marker": {
          "color": "#024b7a",
          "line": {
           "color": "white",
           "width": 1
          },
          "size": [
           217
          ],
          "sizemode": "area",
          "sizeref": 0.2006172839506173,
          "symbol": "circle"
         },
         "mode": "markers",
         "name": "K Financial services",
         "orientation": "v",
         "showlegend": true,
         "textposition": "middle center",
         "type": "scatter",
         "x": [
          217
         ],
         "xaxis": "x",
         "y": [
          3.3
         ],
         "yaxis": "y"
        },
        {
         "hovertemplate": "<b>%{hovertext}</b><br><br>Branche (SBI 2008)=L Rental and trade of real estate<br>Employed Persons (2023, x1000)=%{marker.size}<br>Sick Leave Percentage=%{y}<extra></extra>",
         "hovertext": [
          "L Rental and trade of real estate"
         ],
         "legendgroup": "L Rental and trade of real estate",
         "marker": {
          "color": "#44b7c2",
          "line": {
           "color": "white",
           "width": 1
          },
          "size": [
           81
          ],
          "sizemode": "area",
          "sizeref": 0.2006172839506173,
          "symbol": "circle"
         },
         "mode": "markers",
         "name": "L Rental and trade of real estate",
         "orientation": "v",
         "showlegend": true,
         "textposition": "middle center",
         "type": "scatter",
         "x": [
          81
         ],
         "xaxis": "x",
         "y": [
          4.2
         ],
         "yaxis": "y"
        },
        {
         "hovertemplate": "<b>%{hovertext}</b><br><br>Branche (SBI 2008)=M Special business services<br>Employed Persons (2023, x1000)=%{marker.size}<br>Sick Leave Percentage=%{y}<extra></extra>",
         "hovertext": [
          "M Special business services"
         ],
         "legendgroup": "M Special business services",
         "marker": {
          "color": "#ffae49",
          "line": {
           "color": "white",
           "width": 1
          },
          "size": [
           857
          ],
          "sizemode": "area",
          "sizeref": 0.2006172839506173,
          "symbol": "circle"
         },
         "mode": "markers",
         "name": "M Special business services",
         "orientation": "v",
         "showlegend": true,
         "textposition": "middle center",
         "type": "scatter",
         "x": [
          857
         ],
         "xaxis": "x",
         "y": [
          3.6
         ],
         "yaxis": "y"
        },
        {
         "hovertemplate": "<b>%{hovertext}</b><br><br>Branche (SBI 2008)=N Renting and other business services<br>Employed Persons (2023, x1000)=%{marker.size}<br>Sick Leave Percentage=%{y}<extra></extra>",
         "hovertext": [
          "N Renting and other business services"
         ],
         "legendgroup": "N Renting and other business services",
         "marker": {
          "color": "#3f9abf",
          "line": {
           "color": "white",
           "width": 1
          },
          "size": [
           1218
          ],
          "sizemode": "area",
          "sizeref": 0.2006172839506173,
          "symbol": "circle"
         },
         "mode": "markers",
         "name": "N Renting and other business services",
         "orientation": "v",
         "showlegend": true,
         "textposition": "middle center",
         "type": "scatter",
         "x": [
          1218
         ],
         "xaxis": "x",
         "y": [
          4.6
         ],
         "yaxis": "y"
        },
        {
         "hovertemplate": "<b>%{hovertext}</b><br><br>Branche (SBI 2008)=O Public administration and service<br>Employed Persons (2023, x1000)=%{marker.size}<br>Sick Leave Percentage=%{y}<extra></extra>",
         "hovertext": [
          "O Public administration and service"
         ],
         "legendgroup": "O Public administration and service",
         "marker": {
          "color": "#5fb5db",
          "line": {
           "color": "white",
           "width": 1
          },
          "size": [
           639
          ],
          "sizemode": "area",
          "sizeref": 0.2006172839506173,
          "symbol": "circle"
         },
         "mode": "markers",
         "name": "O Public administration and service",
         "orientation": "v",
         "showlegend": true,
         "textposition": "middle center",
         "type": "scatter",
         "x": [
          639
         ],
         "xaxis": "x",
         "y": [
          6
         ],
         "yaxis": "y"
        },
        {
         "hovertemplate": "<b>%{hovertext}</b><br><br>Branche (SBI 2008)=P Education<br>Employed Persons (2023, x1000)=%{marker.size}<br>Sick Leave Percentage=%{y}<extra></extra>",
         "hovertext": [
          "P Education"
         ],
         "legendgroup": "P Education",
         "marker": {
          "color": "#01918b",
          "line": {
           "color": "white",
           "width": 1
          },
          "size": [
           638
          ],
          "sizemode": "area",
          "sizeref": 0.2006172839506173,
          "symbol": "circle"
         },
         "mode": "markers",
         "name": "P Education",
         "orientation": "v",
         "showlegend": true,
         "textposition": "middle center",
         "type": "scatter",
         "x": [
          638
         ],
         "xaxis": "x",
         "y": [
          5.6
         ],
         "yaxis": "y"
        },
        {
         "hovertemplate": "<b>%{hovertext}</b><br><br>Branche (SBI 2008)=Q Health care<br>Employed Persons (2023, x1000)=%{marker.size}<br>Sick Leave Percentage=%{y}<extra></extra>",
         "hovertext": [
          "Q Health care"
         ],
         "legendgroup": "Q Health care",
         "marker": {
          "color": "#ff912b",
          "line": {
           "color": "white",
           "width": 1
          },
          "size": [
           1625
          ],
          "sizemode": "area",
          "sizeref": 0.2006172839506173,
          "symbol": "circle"
         },
         "mode": "markers",
         "name": "Q Health care",
         "orientation": "v",
         "showlegend": true,
         "textposition": "middle center",
         "type": "scatter",
         "x": [
          1625
         ],
         "xaxis": "x",
         "y": [
          7.4
         ],
         "yaxis": "y"
        },
        {
         "hovertemplate": "<b>%{hovertext}</b><br><br>Branche (SBI 2008)=R Culture, sports and recreation<br>Employed Persons (2023, x1000)=%{marker.size}<br>Sick Leave Percentage=%{y}<extra></extra>",
         "hovertext": [
          "R Culture, sports and recreation"
         ],
         "legendgroup": "R Culture, sports and recreation",
         "marker": {
          "color": "#f16c51",
          "line": {
           "color": "white",
           "width": 1
          },
          "size": [
           201
          ],
          "sizemode": "area",
          "sizeref": 0.2006172839506173,
          "symbol": "circle"
         },
         "mode": "markers",
         "name": "R Culture, sports and recreation",
         "orientation": "v",
         "showlegend": true,
         "textposition": "middle center",
         "type": "scatter",
         "x": [
          201
         ],
         "xaxis": "x",
         "y": [
          4.6
         ],
         "yaxis": "y"
        },
        {
         "hovertemplate": "<b>%{hovertext}</b><br><br>Branche (SBI 2008)=S Other service activities<br>Employed Persons (2023, x1000)=%{marker.size}<br>Sick Leave Percentage=%{y}<extra></extra>",
         "hovertext": [
          "S Other service activities"
         ],
         "legendgroup": "S Other service activities",
         "marker": {
          "color": "#15bfb6",
          "line": {
           "color": "white",
           "width": 1
          },
          "size": [
           218
          ],
          "sizemode": "area",
          "sizeref": 0.2006172839506173,
          "symbol": "circle"
         },
         "mode": "markers",
         "name": "S Other service activities",
         "orientation": "v",
         "showlegend": true,
         "textposition": "middle center",
         "type": "scatter",
         "x": [
          218
         ],
         "xaxis": "x",
         "y": [
          5
         ],
         "yaxis": "y"
        }
       ],
       "layout": {
        "annotations": [
         {
          "align": "center",
          "bgcolor": "rgba(0, 0, 0, 0)",
          "bordercolor": "rgba(0, 0, 0, 0)",
          "borderpad": 2,
          "borderwidth": 1,
          "font": {
           "color": "Black",
           "family": "Roboto",
           "size": 12
          },
          "opacity": 1,
          "showarrow": false,
          "text": "Q:<br>€784.030",
          "x": 1625,
          "xshift": 0,
          "y": 7.4,
          "yshift": 9
         },
         {
          "align": "center",
          "bgcolor": "rgba(0, 0, 0, 0)",
          "bordercolor": "rgba(0, 0, 0, 0)",
          "borderpad": 2,
          "borderwidth": 1,
          "font": {
           "color": "Black",
           "family": "Roboto",
           "size": 12
          },
          "opacity": 1,
          "showarrow": false,
          "text": "G:<br>€435.024",
          "x": 1558,
          "xshift": 0,
          "y": 4.6,
          "yshift": 9
         },
         {
          "align": "center",
          "bgcolor": "rgba(0, 0, 0, 0)",
          "bordercolor": "rgba(0, 0, 0, 0)",
          "borderpad": 2,
          "borderwidth": 1,
          "font": {
           "color": "Black",
           "family": "Roboto",
           "size": 12
          },
          "opacity": 1,
          "showarrow": false,
          "text": "C:<br>€366.293",
          "x": 763,
          "xshift": 0,
          "y": 6.1,
          "yshift": 9
         },
         {
          "align": "center",
          "font": {
           "size": 12
          },
          "showarrow": false,
          "text": "Sick Leave Percentage",
          "x": -0.07,
          "xref": "paper",
          "y": 1.08,
          "yref": "paper"
         }
        ],
        "height": 600,
        "legend": {
         "itemsizing": "constant",
         "title": {
          "text": "Branche (SBI 2008)"
         },
         "tracegroupgap": 0
        },
        "plot_bgcolor": "rgba(0,0,0,0)",
        "showlegend": true,
        "template": {
         "data": {
          "bar": [
           {
            "error_x": {
             "color": "#2a3f5f"
            },
            "error_y": {
             "color": "#2a3f5f"
            },
            "marker": {
             "line": {
              "color": "#E5ECF6",
              "width": 0.5
             },
             "pattern": {
              "fillmode": "overlay",
              "size": 10,
              "solidity": 0.2
             }
            },
            "type": "bar"
           }
          ],
          "barpolar": [
           {
            "marker": {
             "line": {
              "color": "#E5ECF6",
              "width": 0.5
             },
             "pattern": {
              "fillmode": "overlay",
              "size": 10,
              "solidity": 0.2
             }
            },
            "type": "barpolar"
           }
          ],
          "carpet": [
           {
            "aaxis": {
             "endlinecolor": "#2a3f5f",
             "gridcolor": "white",
             "linecolor": "white",
             "minorgridcolor": "white",
             "startlinecolor": "#2a3f5f"
            },
            "baxis": {
             "endlinecolor": "#2a3f5f",
             "gridcolor": "white",
             "linecolor": "white",
             "minorgridcolor": "white",
             "startlinecolor": "#2a3f5f"
            },
            "type": "carpet"
           }
          ],
          "choropleth": [
           {
            "colorbar": {
             "outlinewidth": 0,
             "ticks": ""
            },
            "type": "choropleth"
           }
          ],
          "contour": [
           {
            "colorbar": {
             "outlinewidth": 0,
             "ticks": ""
            },
            "colorscale": [
             [
              0,
              "#0d0887"
             ],
             [
              0.1111111111111111,
              "#46039f"
             ],
             [
              0.2222222222222222,
              "#7201a8"
             ],
             [
              0.3333333333333333,
              "#9c179e"
             ],
             [
              0.4444444444444444,
              "#bd3786"
             ],
             [
              0.5555555555555556,
              "#d8576b"
             ],
             [
              0.6666666666666666,
              "#ed7953"
             ],
             [
              0.7777777777777778,
              "#fb9f3a"
             ],
             [
              0.8888888888888888,
              "#fdca26"
             ],
             [
              1,
              "#f0f921"
             ]
            ],
            "type": "contour"
           }
          ],
          "contourcarpet": [
           {
            "colorbar": {
             "outlinewidth": 0,
             "ticks": ""
            },
            "type": "contourcarpet"
           }
          ],
          "heatmap": [
           {
            "colorbar": {
             "outlinewidth": 0,
             "ticks": ""
            },
            "colorscale": [
             [
              0,
              "#0d0887"
             ],
             [
              0.1111111111111111,
              "#46039f"
             ],
             [
              0.2222222222222222,
              "#7201a8"
             ],
             [
              0.3333333333333333,
              "#9c179e"
             ],
             [
              0.4444444444444444,
              "#bd3786"
             ],
             [
              0.5555555555555556,
              "#d8576b"
             ],
             [
              0.6666666666666666,
              "#ed7953"
             ],
             [
              0.7777777777777778,
              "#fb9f3a"
             ],
             [
              0.8888888888888888,
              "#fdca26"
             ],
             [
              1,
              "#f0f921"
             ]
            ],
            "type": "heatmap"
           }
          ],
          "heatmapgl": [
           {
            "colorbar": {
             "outlinewidth": 0,
             "ticks": ""
            },
            "colorscale": [
             [
              0,
              "#0d0887"
             ],
             [
              0.1111111111111111,
              "#46039f"
             ],
             [
              0.2222222222222222,
              "#7201a8"
             ],
             [
              0.3333333333333333,
              "#9c179e"
             ],
             [
              0.4444444444444444,
              "#bd3786"
             ],
             [
              0.5555555555555556,
              "#d8576b"
             ],
             [
              0.6666666666666666,
              "#ed7953"
             ],
             [
              0.7777777777777778,
              "#fb9f3a"
             ],
             [
              0.8888888888888888,
              "#fdca26"
             ],
             [
              1,
              "#f0f921"
             ]
            ],
            "type": "heatmapgl"
           }
          ],
          "histogram": [
           {
            "marker": {
             "pattern": {
              "fillmode": "overlay",
              "size": 10,
              "solidity": 0.2
             }
            },
            "type": "histogram"
           }
          ],
          "histogram2d": [
           {
            "colorbar": {
             "outlinewidth": 0,
             "ticks": ""
            },
            "colorscale": [
             [
              0,
              "#0d0887"
             ],
             [
              0.1111111111111111,
              "#46039f"
             ],
             [
              0.2222222222222222,
              "#7201a8"
             ],
             [
              0.3333333333333333,
              "#9c179e"
             ],
             [
              0.4444444444444444,
              "#bd3786"
             ],
             [
              0.5555555555555556,
              "#d8576b"
             ],
             [
              0.6666666666666666,
              "#ed7953"
             ],
             [
              0.7777777777777778,
              "#fb9f3a"
             ],
             [
              0.8888888888888888,
              "#fdca26"
             ],
             [
              1,
              "#f0f921"
             ]
            ],
            "type": "histogram2d"
           }
          ],
          "histogram2dcontour": [
           {
            "colorbar": {
             "outlinewidth": 0,
             "ticks": ""
            },
            "colorscale": [
             [
              0,
              "#0d0887"
             ],
             [
              0.1111111111111111,
              "#46039f"
             ],
             [
              0.2222222222222222,
              "#7201a8"
             ],
             [
              0.3333333333333333,
              "#9c179e"
             ],
             [
              0.4444444444444444,
              "#bd3786"
             ],
             [
              0.5555555555555556,
              "#d8576b"
             ],
             [
              0.6666666666666666,
              "#ed7953"
             ],
             [
              0.7777777777777778,
              "#fb9f3a"
             ],
             [
              0.8888888888888888,
              "#fdca26"
             ],
             [
              1,
              "#f0f921"
             ]
            ],
            "type": "histogram2dcontour"
           }
          ],
          "mesh3d": [
           {
            "colorbar": {
             "outlinewidth": 0,
             "ticks": ""
            },
            "type": "mesh3d"
           }
          ],
          "parcoords": [
           {
            "line": {
             "colorbar": {
              "outlinewidth": 0,
              "ticks": ""
             }
            },
            "type": "parcoords"
           }
          ],
          "pie": [
           {
            "automargin": true,
            "type": "pie"
           }
          ],
          "scatter": [
           {
            "fillpattern": {
             "fillmode": "overlay",
             "size": 10,
             "solidity": 0.2
            },
            "type": "scatter"
           }
          ],
          "scatter3d": [
           {
            "line": {
             "colorbar": {
              "outlinewidth": 0,
              "ticks": ""
             }
            },
            "marker": {
             "colorbar": {
              "outlinewidth": 0,
              "ticks": ""
             }
            },
            "type": "scatter3d"
           }
          ],
          "scattercarpet": [
           {
            "marker": {
             "colorbar": {
              "outlinewidth": 0,
              "ticks": ""
             }
            },
            "type": "scattercarpet"
           }
          ],
          "scattergeo": [
           {
            "marker": {
             "colorbar": {
              "outlinewidth": 0,
              "ticks": ""
             }
            },
            "type": "scattergeo"
           }
          ],
          "scattergl": [
           {
            "marker": {
             "colorbar": {
              "outlinewidth": 0,
              "ticks": ""
             }
            },
            "type": "scattergl"
           }
          ],
          "scattermapbox": [
           {
            "marker": {
             "colorbar": {
              "outlinewidth": 0,
              "ticks": ""
             }
            },
            "type": "scattermapbox"
           }
          ],
          "scatterpolar": [
           {
            "marker": {
             "colorbar": {
              "outlinewidth": 0,
              "ticks": ""
             }
            },
            "type": "scatterpolar"
           }
          ],
          "scatterpolargl": [
           {
            "marker": {
             "colorbar": {
              "outlinewidth": 0,
              "ticks": ""
             }
            },
            "type": "scatterpolargl"
           }
          ],
          "scatterternary": [
           {
            "marker": {
             "colorbar": {
              "outlinewidth": 0,
              "ticks": ""
             }
            },
            "type": "scatterternary"
           }
          ],
          "surface": [
           {
            "colorbar": {
             "outlinewidth": 0,
             "ticks": ""
            },
            "colorscale": [
             [
              0,
              "#0d0887"
             ],
             [
              0.1111111111111111,
              "#46039f"
             ],
             [
              0.2222222222222222,
              "#7201a8"
             ],
             [
              0.3333333333333333,
              "#9c179e"
             ],
             [
              0.4444444444444444,
              "#bd3786"
             ],
             [
              0.5555555555555556,
              "#d8576b"
             ],
             [
              0.6666666666666666,
              "#ed7953"
             ],
             [
              0.7777777777777778,
              "#fb9f3a"
             ],
             [
              0.8888888888888888,
              "#fdca26"
             ],
             [
              1,
              "#f0f921"
             ]
            ],
            "type": "surface"
           }
          ],
          "table": [
           {
            "cells": {
             "fill": {
              "color": "#EBF0F8"
             },
             "line": {
              "color": "white"
             }
            },
            "header": {
             "fill": {
              "color": "#C8D4E3"
             },
             "line": {
              "color": "white"
             }
            },
            "type": "table"
           }
          ]
         },
         "layout": {
          "annotationdefaults": {
           "arrowcolor": "#2a3f5f",
           "arrowhead": 0,
           "arrowwidth": 1
          },
          "autotypenumbers": "strict",
          "coloraxis": {
           "colorbar": {
            "outlinewidth": 0,
            "ticks": ""
           }
          },
          "colorscale": {
           "diverging": [
            [
             0,
             "#8e0152"
            ],
            [
             0.1,
             "#c51b7d"
            ],
            [
             0.2,
             "#de77ae"
            ],
            [
             0.3,
             "#f1b6da"
            ],
            [
             0.4,
             "#fde0ef"
            ],
            [
             0.5,
             "#f7f7f7"
            ],
            [
             0.6,
             "#e6f5d0"
            ],
            [
             0.7,
             "#b8e186"
            ],
            [
             0.8,
             "#7fbc41"
            ],
            [
             0.9,
             "#4d9221"
            ],
            [
             1,
             "#276419"
            ]
           ],
           "sequential": [
            [
             0,
             "#0d0887"
            ],
            [
             0.1111111111111111,
             "#46039f"
            ],
            [
             0.2222222222222222,
             "#7201a8"
            ],
            [
             0.3333333333333333,
             "#9c179e"
            ],
            [
             0.4444444444444444,
             "#bd3786"
            ],
            [
             0.5555555555555556,
             "#d8576b"
            ],
            [
             0.6666666666666666,
             "#ed7953"
            ],
            [
             0.7777777777777778,
             "#fb9f3a"
            ],
            [
             0.8888888888888888,
             "#fdca26"
            ],
            [
             1,
             "#f0f921"
            ]
           ],
           "sequentialminus": [
            [
             0,
             "#0d0887"
            ],
            [
             0.1111111111111111,
             "#46039f"
            ],
            [
             0.2222222222222222,
             "#7201a8"
            ],
            [
             0.3333333333333333,
             "#9c179e"
            ],
            [
             0.4444444444444444,
             "#bd3786"
            ],
            [
             0.5555555555555556,
             "#d8576b"
            ],
            [
             0.6666666666666666,
             "#ed7953"
            ],
            [
             0.7777777777777778,
             "#fb9f3a"
            ],
            [
             0.8888888888888888,
             "#fdca26"
            ],
            [
             1,
             "#f0f921"
            ]
           ]
          },
          "colorway": [
           "#636efa",
           "#EF553B",
           "#00cc96",
           "#ab63fa",
           "#FFA15A",
           "#19d3f3",
           "#FF6692",
           "#B6E880",
           "#FF97FF",
           "#FECB52"
          ],
          "font": {
           "color": "#2a3f5f"
          },
          "geo": {
           "bgcolor": "white",
           "lakecolor": "white",
           "landcolor": "#E5ECF6",
           "showlakes": true,
           "showland": true,
           "subunitcolor": "white"
          },
          "hoverlabel": {
           "align": "left"
          },
          "hovermode": "closest",
          "mapbox": {
           "style": "light"
          },
          "paper_bgcolor": "white",
          "plot_bgcolor": "#E5ECF6",
          "polar": {
           "angularaxis": {
            "gridcolor": "white",
            "linecolor": "white",
            "ticks": ""
           },
           "bgcolor": "#E5ECF6",
           "radialaxis": {
            "gridcolor": "white",
            "linecolor": "white",
            "ticks": ""
           }
          },
          "scene": {
           "xaxis": {
            "backgroundcolor": "#E5ECF6",
            "gridcolor": "white",
            "gridwidth": 2,
            "linecolor": "white",
            "showbackground": true,
            "ticks": "",
            "zerolinecolor": "white"
           },
           "yaxis": {
            "backgroundcolor": "#E5ECF6",
            "gridcolor": "white",
            "gridwidth": 2,
            "linecolor": "white",
            "showbackground": true,
            "ticks": "",
            "zerolinecolor": "white"
           },
           "zaxis": {
            "backgroundcolor": "#E5ECF6",
            "gridcolor": "white",
            "gridwidth": 2,
            "linecolor": "white",
            "showbackground": true,
            "ticks": "",
            "zerolinecolor": "white"
           }
          },
          "shapedefaults": {
           "line": {
            "color": "#2a3f5f"
           }
          },
          "ternary": {
           "aaxis": {
            "gridcolor": "white",
            "linecolor": "white",
            "ticks": ""
           },
           "baxis": {
            "gridcolor": "white",
            "linecolor": "white",
            "ticks": ""
           },
           "bgcolor": "#E5ECF6",
           "caxis": {
            "gridcolor": "white",
            "linecolor": "white",
            "ticks": ""
           }
          },
          "title": {
           "x": 0.05
          },
          "xaxis": {
           "automargin": true,
           "gridcolor": "white",
           "linecolor": "white",
           "ticks": "",
           "title": {
            "standoff": 15
           },
           "zerolinecolor": "white",
           "zerolinewidth": 2
          },
          "yaxis": {
           "automargin": true,
           "gridcolor": "white",
           "linecolor": "white",
           "ticks": "",
           "title": {
            "standoff": 15
           },
           "zerolinecolor": "white",
           "zerolinewidth": 2
          }
         }
        },
        "title": {
         "text": "Bubble Up: Unveiling the Top Sick Leave Costs in Health, Trade, and Manufacturing"
        },
        "width": 1200,
        "xaxis": {
         "anchor": "y",
         "domain": [
          0,
          1
         ],
         "linecolor": "black",
         "linewidth": 1,
         "showgrid": false,
         "showline": true,
         "title": {
          "text": "Employed Persons (2023, x1000)"
         }
        },
        "yaxis": {
         "anchor": "x",
         "automargin": true,
         "domain": [
          0,
          1
         ],
         "gridcolor": "lightgrey",
         "linecolor": "black",
         "linewidth": 1,
         "showgrid": true,
         "showline": true,
         "title": {
          "text": ""
         }
        }
       }
      }
     },
     "metadata": {},
     "output_type": "display_data"
    }
   ],
   "source": [
    "import pandas as pd\n",
    "import plotly.express as px\n",
    "\n",
    "# Load the data from the provided Excel file\n",
    "data = pd.read_excel(r\"c:/Users/c.hakker/OneDrive - VISTA college/Senior Stuff/Opleiding Data science/Data/Sick leave x Employed persons - Correctie.xlsx\")\n",
    "\n",
    "# Convert 'Costs of illness per year of employment' column to integer\n",
    "data['Costs of illness per year of employment'] = data['Costs of illness per year of employment'].astype(int)\n",
    "\n",
    "# Filter data to show text only for the top 3 highest 'Costs of illness per year of employment'\n",
    "top_3_data = data.nlargest(3, 'Costs of illness per year of employment')\n",
    "\n",
    "# Display the filtered data\n",
    "print(top_3_data)\n",
    "\n",
    "\n",
    "# Custom color palette\n",
    "custom_colors = [\n",
    "    \"#024b7a\", \"#44b7c2\", \"#ffae49\", \"#3f9abf\", \"#5fb5db\", \n",
    "    \"#01918b\", \"#ff912b\", \"#f16c51\", \"#15bfb6\", \"#ef9051\"\n",
    "]\n",
    "\n",
    "# Bubble Plot using Plotly with custom discrete color scale\n",
    "fig = px.scatter(\n",
    "    data, \n",
    "    x='Employed persons 2023 (x1000)', \n",
    "    y='Sick leave percentage 2023', \n",
    "    size='Employed persons 2023 (x1000)', \n",
    "    color='Branche (SBI 2008)',  # Categorical color scale\n",
    "    hover_name='Branche (SBI 2008)',\n",
    "    title='Bubble Up: Unveiling the Top Sick Leave Costs in Health, Trade, and Manufacturing',\n",
    "    labels={\n",
    "        'Employed persons 2023 (x1000)': 'Employed Persons (2023, x1000)', \n",
    "        'Sick leave percentage 2023': 'Sick Leave Percentage'\n",
    "    },\n",
    "    size_max=90,  # Adjust size_max to control bubble size scaling\n",
    "    color_discrete_sequence=custom_colors  # Use custom color palette\n",
    ")\n",
    "\n",
    "# Customize the layout to show text only for the top 3\n",
    "for index, row in top_3_data.iterrows():\n",
    "    fig.add_annotation(\n",
    "        x=row['Employed persons 2023 (x1000)'], \n",
    "        y=row['Sick leave percentage 2023'],\n",
    "        text=f\"{row['Branche']}:<br>€{row['Costs of illness per year of employment']:,}\".replace(',', '.'),\n",
    "        showarrow=False,\n",
    "        font=dict(size=12, color='Black', family=\"Roboto\"),\n",
    "        align='center',\n",
    "        xshift=0,\n",
    "        yshift=9,\n",
    "        bordercolor='rgba(0, 0, 0, 0)',\n",
    "        borderwidth=1,\n",
    "        borderpad=2,\n",
    "        bgcolor='rgba(0, 0, 0, 0)',\n",
    "        opacity=1\n",
    "    )\n",
    "\n",
    "# Update layout \n",
    "fig.update_layout(\n",
    "    showlegend=True,\n",
    "    xaxis=dict(\n",
    "        showline=True, \n",
    "        linewidth=1, \n",
    "        linecolor='black', \n",
    "        showgrid=False\n",
    "    ),\n",
    "    yaxis=dict(\n",
    "        showline=True, \n",
    "        linewidth=1, \n",
    "        linecolor='black', \n",
    "        showgrid=True, \n",
    "        gridcolor='lightgrey',\n",
    "        title=dict(text=''),\n",
    "        automargin=True\n",
    "    ),\n",
    "    plot_bgcolor='rgba(0,0,0,0)', \n",
    "    width=1200,  \n",
    "    height=600  \n",
    ")\n",
    "\n",
    "# Add annotation for horizontal y-axis title\n",
    "fig.add_annotation(\n",
    "    text=\"Sick Leave Percentage\",  \n",
    "    xref=\"paper\", yref=\"paper\",  \n",
    "    x=-0.07, y=1.08,  \n",
    "    showarrow=False,  \n",
    "    font=dict(size=12),\n",
    "    align=\"center\"\n",
    ")\n",
    "\n",
    "# Update text position on the bubbles\n",
    "fig.update_traces(\n",
    "    textposition='middle center',\n",
    "    marker=dict(line=dict(color='white', width=1))\n",
    ")\n",
    "\n",
    "# Save the plot as an HTML file\n",
    "fig.write_html(\"C:/Users/c.hakker/Downloads/Bubble_Up.html\")\n",
    "\n",
    "# Show the plot\n",
    "fig.show()\n"
   ]
  }
 ],
 "metadata": {
  "kernelspec": {
   "display_name": ".venv",
   "language": "python",
   "name": "python3"
  },
  "language_info": {
   "codemirror_mode": {
    "name": "ipython",
    "version": 3
   },
   "file_extension": ".py",
   "mimetype": "text/x-python",
   "name": "python",
   "nbconvert_exporter": "python",
   "pygments_lexer": "ipython3",
   "version": "3.12.3"
  }
 },
 "nbformat": 4,
 "nbformat_minor": 2
}
