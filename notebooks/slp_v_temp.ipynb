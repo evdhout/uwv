{
 "cells": [
  {
   "cell_type": "code",
   "execution_count": 7,
   "metadata": {},
   "outputs": [],
   "source": [
    "from uwv.config import KNMI_PROCESSED_DATA_DIR, KNMI_AVG_TEMP, CBS_OPENDATA_PROCESSED_DATA_DIR, CBS80072NED\n",
    "import pandas as pd\n",
    "\n",
    "slp = pd.read_parquet(CBS_OPENDATA_PROCESSED_DATA_DIR / f\"{CBS80072NED}.parquet\")\n",
    "knmi = pd.read_parquet(KNMI_PROCESSED_DATA_DIR / f\"{KNMI_AVG_TEMP}.parquet\")\n",
    "\n",
    "sk = pd.merge(slp, knmi, on=['period_year', 'period_quarter_number'], how=\"inner\")\n",
    "\n",
    "sk[\"slpx20\"] = sk.sick_leave_percentage * 20\n",
    "sk[\"quarter\"] = sk.period_quarter_number"
   ]
  },
  {
   "cell_type": "code",
   "execution_count": null,
   "metadata": {},
   "outputs": [],
   "source": [
    "import plotly_express as px\n",
    "\n",
    "px.line(sk[sk.period_type == 'KW'], x=\"period\", y=[\"slpx20\", \"avg_temp\"])\n"
   ]
  },
  {
   "cell_type": "code",
   "execution_count": null,
   "metadata": {},
   "outputs": [],
   "source": [
    "px.scatter(sk[sk.period_type == \"KW\"], x=\"sick_leave_percentage\", y=\"avg_temp\", color=\"period_quarter_number\")"
   ]
  }
 ],
 "metadata": {
  "kernelspec": {
   "display_name": "uwv",
   "language": "python",
   "name": "python3"
  },
  "language_info": {
   "codemirror_mode": {
    "name": "ipython",
    "version": 3
   },
   "file_extension": ".py",
   "mimetype": "text/x-python",
   "name": "python",
   "nbconvert_exporter": "python",
   "pygments_lexer": "ipython3",
   "version": "3.12.3"
  }
 },
 "nbformat": 4,
 "nbformat_minor": 2
}
