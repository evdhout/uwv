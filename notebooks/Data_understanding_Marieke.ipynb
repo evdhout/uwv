{
 "cells": [
  {
   "cell_type": "markdown",
   "metadata": {},
   "source": [
    "**Load data**"
   ]
  },
  {
   "cell_type": "code",
   "execution_count": null,
   "metadata": {},
   "outputs": [],
   "source": [
    "from uwv.config import CBS_OPENDATA_PROCESSED_DATA_DIR, CBS80072NED, OUTPUT_DIR\n",
    "\n",
    "import pandas as pd\n",
    "import altair as alt\n",
    "\n",
    "cbs80072ned = pd.read_parquet(CBS_OPENDATA_PROCESSED_DATA_DIR / f\"{CBS80072NED}.parquet\")\n",
    "\n",
    "cbs80072ned"
   ]
  },
  {
   "cell_type": "markdown",
   "metadata": {},
   "source": [
    "**Translate SBI branches from Dutch to English**"
   ]
  },
  {
   "cell_type": "code",
   "execution_count": null,
   "metadata": {},
   "outputs": [],
   "source": [
    "translations = {\n",
    "    'A Landbouw, bosbouw en visserij': 'A Agriculture, forestry and fishing',\n",
    "    'B Delfstoffenwinning': 'B Mining and quarrying',\n",
    "    'C Industrie': 'C Manufacturing',\n",
    "    'D Energievoorziening': 'D Energy supply',\n",
    "    'E Waterbedrijven en afvalbeheer': 'E Water utilities and waste management',\n",
    "    'F Bouwnijverheid': 'F Construction',\n",
    "    'G Handel': 'G Trade',\n",
    "    'H Vervoer en opslag': 'H Transportation and storage',\n",
    "    'I Horeca': 'I Hospitality',\n",
    "    'J Informatie en communicatie': 'J Information and communication',\n",
    "    'K Financiële dienstverlening': 'K Financial services',\n",
    "    'L Verhuur en handel van onroerend goed': 'L Rental and trade of real estate',\n",
    "    'M Specialistische zakelijke diensten': 'M Special business services',\n",
    "    'N Verhuur en overige zakelijke diensten': 'N Renting and other business services',\n",
    "    'O Openbaar bestuur en overheidsdiensten': 'O Public administration and service',\n",
    "    'P Onderwijs': 'P Education',\n",
    "    'Q Gezondheids- en welzijnszorg': 'Q Health care',\n",
    "    'R Cultuur, sport en recreatie': 'R Culture, sports and recreation',\n",
    "    'S Overige dienstverlening': 'S Other service activities',\n",
    "    '1 tot 10 werkzame personen': '1 to 10 employed persons',\n",
    "    '10 tot 100 werkzame personen': '10 to 100 employed persons',\n",
    "    '100 of meer werkzame personen': '100 or more employed persons'\n",
    "}"
   ]
  },
  {
   "cell_type": "code",
   "execution_count": null,
   "metadata": {},
   "outputs": [],
   "source": [
    "cbs80072ned['sbi_title_english'] = cbs80072ned['sbi_title'].map(translations)"
   ]
  },
  {
   "cell_type": "code",
   "execution_count": null,
   "metadata": {},
   "outputs": [],
   "source": [
    "cbs80072ned"
   ]
  },
  {
   "cell_type": "code",
   "execution_count": null,
   "metadata": {},
   "outputs": [],
   "source": [
    "cbs80072ned.info()"
   ]
  },
  {
   "cell_type": "code",
   "execution_count": null,
   "metadata": {},
   "outputs": [],
   "source": [
    "cbs80072ned['sbi_title_english'] = cbs80072ned['sbi_title_english'].astype('category')"
   ]
  },
  {
   "cell_type": "code",
   "execution_count": null,
   "metadata": {},
   "outputs": [],
   "source": [
    "cbs80072ned.info()"
   ]
  },
  {
   "cell_type": "markdown",
   "metadata": {},
   "source": [
    "**Graphs with quarterly data**"
   ]
  },
  {
   "cell_type": "code",
   "execution_count": null,
   "metadata": {},
   "outputs": [],
   "source": [
    "quarters = cbs80072ned['period_type'].str.contains('KW')\n",
    "cbs80072ned_quarters = cbs80072ned[quarters]\n",
    "\n",
    "branches = cbs80072ned_quarters['category_group_title'].str.contains('Bedrijfstak') | cbs80072ned_quarters['sbi_title'].str.contains('A Landbouw, bosbouw en visserij')\n",
    "cbs80072ned_quarters_branches = cbs80072ned_quarters[branches]\n",
    "\n",
    "data2023_quartes = cbs80072ned_quarters_branches['period_title'].str.contains('2023') | cbs80072ned_quarters_branches['period_title'].str.contains('2024')\n",
    "cbs80072ned_quarters_branches_tot2023 = cbs80072ned_quarters_branches[~data2023_quartes]"
   ]
  },
  {
   "cell_type": "code",
   "execution_count": null,
   "metadata": {},
   "outputs": [],
   "source": [
    "alt.Chart(data=cbs80072ned_quarters_branches_tot2023).mark_trail().encode(\n",
    "    x=alt.X('period', axis = alt.Axis(title='Year and quarter', labelAngle=310)),\n",
    "    y=alt.Y('sick_leave_percentage', axis = alt.Axis(title='Sick leave percentage')), \n",
    "    color=alt.Color('sbi_title_english', legend=alt.Legend(title=None)),\n",
    "    tooltip=['period', 'sick_leave_percentage', 'sbi_title_english']\n",
    "    ).properties(width=1200, height=600, title='Sick leave percentages per branch per quarter (1996-2022)')"
   ]
  },
  {
   "cell_type": "markdown",
   "metadata": {},
   "source": [
    "**Graphs with yearly data**"
   ]
  },
  {
   "cell_type": "code",
   "execution_count": null,
   "metadata": {},
   "outputs": [],
   "source": [
    "cbs80072ned_years = cbs80072ned[~quarters]\n",
    "\n",
    "branches = cbs80072ned_years['category_group_title'].str.contains('Bedrijfstak') | cbs80072ned_years['sbi_title'].str.contains('A Landbouw, bosbouw en visserij')\n",
    "cbs80072ned_years_branches = cbs80072ned_years[branches]\n",
    "\n",
    "data2023_years = cbs80072ned_years_branches['period_title'].str.contains('2023') | cbs80072ned_years_branches['period_title'].str.contains('2024')\n",
    "cbs80072ned_years_branches_tot2023 = cbs80072ned_years_branches[~data2023_years]"
   ]
  },
  {
   "cell_type": "markdown",
   "metadata": {},
   "source": [
    "*Altair*"
   ]
  },
  {
   "cell_type": "code",
   "execution_count": null,
   "metadata": {},
   "outputs": [],
   "source": [
    "alt.Chart(data=cbs80072ned_years_branches_tot2023).mark_trail().encode(\n",
    "    x=alt.X('period_year', axis = alt.Axis(format='d', title='Year')),\n",
    "    y=alt.Y('sick_leave_percentage', axis = alt.Axis(title='Sick leave percentage')), \n",
    "    color=alt.Color('sbi_title_english', legend=alt.Legend(title=None)),\n",
    "    tooltip=['period_year', 'sick_leave_percentage', 'sbi_title_english']\n",
    "    ).properties(width=1200, height=600, title='Sick leave percentages per branch per year (1996-2022)')"
   ]
  },
  {
   "cell_type": "markdown",
   "metadata": {},
   "source": [
    "*Plotly*"
   ]
  },
  {
   "cell_type": "code",
   "execution_count": null,
   "metadata": {},
   "outputs": [],
   "source": [
    "import plotly.express as px\n",
    "\n",
    "# Assuming `cbs80072ned_years_branches_tot2023` is a pandas DataFrame\n",
    "fig = px.line(\n",
    "    data_frame=cbs80072ned_years_branches_tot2023,\n",
    "    x='period_year',\n",
    "    y='sick_leave_percentage',\n",
    "    color='sbi_title_english',\n",
    "    labels={\n",
    "        'period_year': 'Year',\n",
    "        'sick_leave_percentage': 'Sick leave percentage',\n",
    "        'sbi_title_english': 'Branch'\n",
    "    },\n",
    "    title='Sick leave percentages per branch per year (1996-2022)',\n",
    "    hover_data=['period_year', 'sick_leave_percentage', 'sbi_title_english']\n",
    ")\n",
    "\n",
    "# Customizing the figure size\n",
    "fig.update_layout(\n",
    "    width=1200,\n",
    "    height=600\n",
    ")\n",
    "\n",
    "fig.show()"
   ]
  },
  {
   "cell_type": "code",
   "execution_count": null,
   "metadata": {},
   "outputs": [],
   "source": [
    "# Create the line chart with custom color scale\n",
    "fig = px.line(\n",
    "    data_frame=cbs80072ned_years_branches_tot2023,\n",
    "    x='period_year',\n",
    "    y='sick_leave_percentage',\n",
    "    color='sbi_title_english',\n",
    "    labels={\n",
    "        'period_year': 'Year',\n",
    "        'sick_leave_percentage': 'Sick leave percentage',\n",
    "        'sbi_title_english': 'Branch'\n",
    "    },\n",
    "    title='Sick leave percentages per branch per year (1996-2022)',\n",
    "    hover_data=['period_year', 'sick_leave_percentage', 'sbi_title_english']\n",
    ")\n",
    "\n",
    "# Define a color palette with 19 distinct colors\n",
    "custom_colors = px.colors.qualitative.Set3 + px.colors.qualitative.Safe\n",
    "\n",
    "# Update the color scale to use the custom palette\n",
    "fig.for_each_trace(\n",
    "    lambda trace, color_iter=iter(custom_colors): trace.update(line=dict(color=next(color_iter)))\n",
    ")\n",
    "\n",
    "# Customize the layout for white background\n",
    "fig.update_layout(\n",
    "    plot_bgcolor='white',  # Background color of the plot area\n",
    "    paper_bgcolor='white',  # Background color of the entire figure\n",
    "    width=1200,\n",
    "    height=600,\n",
    "    legend=dict(title='', orientation='h', x=0.5, xanchor='right', y=1.05),  # Adjust legend position\n",
    "    title_font=dict(size=18),\n",
    "    xaxis=dict(title=dict(font=dict(size=14))),\n",
    "    yaxis=dict(title=dict(font=dict(size=14))),\n",
    ")\n",
    "\n",
    "# Add gridlines for better readability\n",
    "fig.update_xaxes(showgrid=True, gridcolor='lightgrey')\n",
    "fig.update_yaxes(showgrid=True, gridcolor='lightgrey')\n",
    "\n",
    "fig.show()"
   ]
  },
  {
   "cell_type": "code",
   "execution_count": null,
   "metadata": {},
   "outputs": [],
   "source": [
    "# Create the line chart with custom color scale\n",
    "fig = px.line(\n",
    "    data_frame=cbs80072ned_years_branches_tot2023,\n",
    "    x='period_year',\n",
    "    y='sick_leave_percentage',\n",
    "    color='sbi_title_english',\n",
    "    labels={\n",
    "        'period_year': 'Year',\n",
    "        'sick_leave_percentage': 'Sick leave percentage',\n",
    "        'sbi_title_english': 'Branch'\n",
    "    },\n",
    "    title='Sick leave percentages per branch per year (1996-2022)',\n",
    "    hover_data=['period_year', 'sick_leave_percentage', 'sbi_title_english']\n",
    ")\n",
    "\n",
    "# Define a color palette with 19 distinct colors\n",
    "custom_colors = px.colors.qualitative.Set3 + px.colors.qualitative.Safe\n",
    "\n",
    "# Update the color scale to use the custom palette\n",
    "fig.for_each_trace(\n",
    "    lambda trace, color_iter=iter(custom_colors): trace.update(line=dict(color=next(color_iter)))\n",
    ")\n",
    "\n",
    "# Customize the layout for white background and legend positioning\n",
    "fig.update_layout(\n",
    "    plot_bgcolor='white',  # Background color of the plot area\n",
    "    paper_bgcolor='white',  # Background color of the entire figure\n",
    "    width=1200,\n",
    "    height=600,\n",
    "    legend=dict(\n",
    "        title='',\n",
    "        orientation='v',  # Vertical legend\n",
    "        x=1.02,  # Position the legend slightly outside the plot on the right\n",
    "        y=1,  # Align legend to the top\n",
    "        xanchor='left',\n",
    "        yanchor='top'\n",
    "    ),\n",
    "    title_font=dict(size=18),\n",
    "    xaxis=dict(title=dict(font=dict(size=14))),\n",
    "    yaxis=dict(title=dict(font=dict(size=14))),\n",
    ")\n",
    "\n",
    "# Add gridlines for better readability\n",
    "fig.update_xaxes(showgrid=False, gridcolor='lightgrey')\n",
    "fig.update_yaxes(showgrid=True, gridcolor='lightgrey')\n",
    "\n",
    "fig.show()"
   ]
  },
  {
   "cell_type": "markdown",
   "metadata": {},
   "source": [
    "**Graphs with yearly data for the three selected branches**"
   ]
  },
  {
   "cell_type": "code",
   "execution_count": null,
   "metadata": {},
   "outputs": [],
   "source": [
    "threebranches = cbs80072ned_years_branches_tot2023['sbi_title_english'].str.contains('Manufacturing') | cbs80072ned_years_branches_tot2023['sbi_title_english'].str.contains('Trade') | cbs80072ned_years_branches_tot2023['sbi_title_english'].str.contains('Health care')\n",
    "cbs80072ned_years_threebranches_tot2023 = cbs80072ned_years_branches_tot2023[threebranches]"
   ]
  },
  {
   "cell_type": "markdown",
   "metadata": {},
   "source": [
    "*Altair*"
   ]
  },
  {
   "cell_type": "code",
   "execution_count": null,
   "metadata": {},
   "outputs": [],
   "source": [
    "alt.Chart(data=cbs80072ned_years_threebranches_tot2023).mark_trail().encode(\n",
    "    x=alt.X('period_year', axis = alt.Axis(format='d', title='Year')),\n",
    "    y=alt.Y('sick_leave_percentage', axis = alt.Axis(title='Sick leave percentage')), \n",
    "    color=alt.Color('sbi_title_english', legend=alt.Legend(title=None)),\n",
    "    tooltip=['period_year', 'sick_leave_percentage', 'sbi_title_english']\n",
    "    ).properties(width=1200, height=600, title='Sick leave percentages for the three selected branches per year (1996-2022)')"
   ]
  },
  {
   "cell_type": "markdown",
   "metadata": {},
   "source": [
    "*Plotly*"
   ]
  },
  {
   "cell_type": "code",
   "execution_count": null,
   "metadata": {},
   "outputs": [],
   "source": [
    "fig = px.line(\n",
    "    data_frame=cbs80072ned_years_threebranches_tot2023,\n",
    "    x='period_year',\n",
    "    y='sick_leave_percentage',\n",
    "    color='sbi_title_english',\n",
    "    labels={\n",
    "        'period_year': 'Year',\n",
    "        'sick_leave_percentage': 'Sick leave percentage',\n",
    "        'sbi_title_english': 'Branch'\n",
    "    },\n",
    "    title='Sick leave percentages for the three selected branches per year (1996-2022)',\n",
    "    hover_data=['period_year', 'sick_leave_percentage', 'sbi_title_english']\n",
    ")\n",
    "\n",
    "# Define a color palette with distinct colors\n",
    "custom_colors = ['#1f77b4', '#ff7f0e', '#2ca02c']  # Blue, Orange, Green (example colors)\n",
    "\n",
    "# Update the color scale to use the custom palette\n",
    "fig.for_each_trace(\n",
    "    lambda trace, color_iter=iter(custom_colors): trace.update(line=dict(color=next(color_iter)))\n",
    ")\n",
    "\n",
    "# Customize the layout for white background and legend positioning\n",
    "fig.update_layout(\n",
    "    plot_bgcolor='white',  # Background color of the plot area\n",
    "    paper_bgcolor='white',  # Background color of the entire figure\n",
    "    width=1200,\n",
    "    height=600,\n",
    "    legend=dict(\n",
    "        title='',\n",
    "        orientation='v',  # Vertical legend\n",
    "        x=1.02,  # Position the legend slightly outside the plot on the right\n",
    "        y=1,  # Align legend to the top\n",
    "        xanchor='left',\n",
    "        yanchor='top'\n",
    "    ),\n",
    "    title_font=dict(size=18),\n",
    "    xaxis=dict(title=dict(font=dict(size=14))),\n",
    "    yaxis=dict(title=dict(font=dict(size=14))),\n",
    ")\n",
    "\n",
    "# Add gridlines for better readability\n",
    "fig.update_xaxes(showgrid=False, gridcolor='lightgrey')\n",
    "fig.update_yaxes(showgrid=True, gridcolor='lightgrey')\n",
    "\n",
    "fig.show()"
   ]
  },
  {
   "cell_type": "markdown",
   "metadata": {},
   "source": [
    "**Graphs with quarterly data for the three selected branches**"
   ]
  },
  {
   "cell_type": "code",
   "execution_count": null,
   "metadata": {},
   "outputs": [],
   "source": [
    "threebranches_quarterly = cbs80072ned_quarters_branches_tot2023['sbi_title_english'].str.contains('Manufacturing') | cbs80072ned_quarters_branches_tot2023['sbi_title_english'].str.contains('Trade') | cbs80072ned_quarters_branches_tot2023['sbi_title_english'].str.contains('Health care')\n",
    "cbs80072ned_quarters_threebranches_tot2023 = cbs80072ned_quarters_branches_tot2023[threebranches_quarterly]"
   ]
  },
  {
   "cell_type": "code",
   "execution_count": null,
   "metadata": {},
   "outputs": [],
   "source": [
    "fig = px.line(\n",
    "    data_frame=cbs80072ned_quarters_threebranches_tot2023,\n",
    "    x='period',\n",
    "    y='sick_leave_percentage',\n",
    "    color='sbi_title_english',\n",
    "    labels={\n",
    "        'period': 'Year and quarter',\n",
    "        'sick_leave_percentage': 'Sick leave percentage',\n",
    "        'sbi_title_english': 'Branch'\n",
    "    },\n",
    "    title='Sick leave percentages for the three selected branches per quarter (1996-2022)',\n",
    "    hover_data=['period', 'sick_leave_percentage', 'sbi_title_english']\n",
    ")\n",
    "\n",
    "# Define a color palette with distinct colors\n",
    "custom_colors = ['#1f77b4', '#ff7f0e', '#2ca02c']  # Blue, Orange, Green (example colors)\n",
    "\n",
    "# Update the color scale to use the custom palette\n",
    "fig.for_each_trace(\n",
    "    lambda trace, color_iter=iter(custom_colors): trace.update(line=dict(color=next(color_iter)))\n",
    ")\n",
    "\n",
    "# Customize the layout for white background and legend positioning\n",
    "fig.update_layout(\n",
    "    plot_bgcolor='white',  # Background color of the plot area\n",
    "    paper_bgcolor='white',  # Background color of the entire figure\n",
    "    width=1200,\n",
    "    height=600,\n",
    "    legend=dict(\n",
    "        title='',\n",
    "        orientation='v',  # Vertical legend\n",
    "        x=1.02,  # Position the legend slightly outside the plot on the right\n",
    "        y=1,  # Align legend to the top\n",
    "        xanchor='left',\n",
    "        yanchor='top'\n",
    "    ),\n",
    "    title_font=dict(size=18),\n",
    "    xaxis=dict(title=dict(font=dict(size=14))),\n",
    "    yaxis=dict(title=dict(font=dict(size=14))),\n",
    ")\n",
    "\n",
    "# Add gridlines for better readability\n",
    "fig.update_xaxes(showgrid=False, gridcolor='lightgrey')\n",
    "fig.update_yaxes(showgrid=True, gridcolor='lightgrey')\n",
    "\n",
    "fig.show()"
   ]
  },
  {
   "cell_type": "code",
   "execution_count": null,
   "metadata": {},
   "outputs": [],
   "source": [
    "import plotly.io as pio\n",
    "\n",
    "# Create a copy of the DataFrame to ensure changes are made on a new object\n",
    "cbs80072ned_quarters_threebranches_tot2023 = cbs80072ned_quarters_threebranches_tot2023.copy()\n",
    "\n",
    "# Add the 'period_year' column safely using .loc\n",
    "cbs80072ned_quarters_threebranches_tot2023.loc[:, 'period_year'] = cbs80072ned_quarters_threebranches_tot2023['period'].str[:4]\n",
    "\n",
    "# Define the Plotly line chart\n",
    "fig = px.line(\n",
    "    data_frame=cbs80072ned_quarters_threebranches_tot2023,\n",
    "    x='period',  # Use the original 'period' for data points\n",
    "    y='sick_leave_percentage',\n",
    "    color='sbi_title_english',\n",
    "    labels={\n",
    "        'period': 'Period',\n",
    "        'sick_leave_percentage': 'Sick leave percentage',\n",
    "        'sbi_title_english': 'Branch'\n",
    "    },\n",
    "    title='Sick leave percentages for the three selected branches per quarter (1996-2022)',\n",
    "    hover_data=['period', 'sick_leave_percentage', 'sbi_title_english']\n",
    ")\n",
    "\n",
    "# Define a color palette with distinct colors\n",
    "custom_colors = ['#1f77b4', '#ff7f0e', '#2ca02c']  # Blue, Orange, Green (example colors)\n",
    "\n",
    "# Update the color scale to use the custom palette\n",
    "fig.for_each_trace(\n",
    "    lambda trace, color_iter=iter(custom_colors): trace.update(line=dict(color=next(color_iter)))\n",
    ")\n",
    "\n",
    "# Customize the layout for white background and legend positioning\n",
    "fig.update_layout(\n",
    "    plot_bgcolor='white',  # Background color of the plot area\n",
    "    paper_bgcolor='white',  # Background color of the entire figure\n",
    "    width=1200,\n",
    "    height=600,\n",
    "    legend=dict(\n",
    "        title='',\n",
    "        orientation='v',  # Vertical legend\n",
    "        x=1.02,  # Position the legend slightly outside the plot on the right\n",
    "        y=1,  # Align legend to the top\n",
    "        xanchor='left',\n",
    "        yanchor='top'\n",
    "    ),\n",
    "    title_font=dict(size=18),\n",
    "    xaxis=dict(\n",
    "        title=dict(font=dict(size=14)),\n",
    "        tickmode='array',  # Manually control the tick labels\n",
    "        tickvals=cbs80072ned_quarters_threebranches_tot2023['period'][::4],  # Show every 4th point\n",
    "        ticktext=cbs80072ned_quarters_threebranches_tot2023['period_year'][::4]  # Use the year for the tick labels\n",
    "    ),\n",
    "    yaxis=dict(title=dict(font=dict(size=14))),\n",
    ")\n",
    "\n",
    "# Add gridlines for better readability\n",
    "fig.update_xaxes(showgrid=False, gridcolor='lightgrey')\n",
    "fig.update_yaxes(showgrid=True, gridcolor='lightgrey')\n",
    "\n",
    "fig.show()\n",
    "\n",
    "# Save the plot as an HTML file\n",
    "pio.write_html(fig, file=\"plot.html\", auto_open=False)"
   ]
  },
  {
   "cell_type": "markdown",
   "metadata": {},
   "source": [
    "**Graphs per company size**"
   ]
  },
  {
   "cell_type": "code",
   "execution_count": null,
   "metadata": {},
   "outputs": [],
   "source": [
    "employees_quarters = cbs80072ned_quarters['category_group_title'].str.contains('Bedrijfsgrootte')\n",
    "cbs80072ned_quarters_employees = cbs80072ned_quarters[employees_quarters]\n",
    "\n",
    "data2023_employees_quarters = cbs80072ned_quarters_employees['period_title'].str.contains('2023') | cbs80072ned_quarters_employees['period_title'].str.contains('2024')\n",
    "cbs80072ned_quarters_employees_tot2023 = cbs80072ned_quarters_employees[~data2023_employees_quarters]"
   ]
  },
  {
   "cell_type": "markdown",
   "metadata": {},
   "source": [
    "*Altair*"
   ]
  },
  {
   "cell_type": "code",
   "execution_count": null,
   "metadata": {},
   "outputs": [],
   "source": [
    "alt.Chart(data=cbs80072ned_quarters_employees_tot2023).mark_trail().encode(\n",
    "    x=alt.X('period', axis = alt.Axis(labelAngle=310)),\n",
    "    y='sick_leave_percentage', \n",
    "    color=alt.Color('sbi_title_english', legend=alt.Legend(title=None)),\n",
    "    tooltip=['period', 'sick_leave_percentage', 'sbi_title_english']\n",
    "    ).properties(width=1200, height=600, title='Sick leave percentages per company size per quarter (1996-2022)')"
   ]
  },
  {
   "cell_type": "code",
   "execution_count": null,
   "metadata": {},
   "outputs": [],
   "source": [
    "employees_years = cbs80072ned_years['category_group_title'].str.contains('Bedrijfsgrootte')\n",
    "cbs80072ned_years_employees = cbs80072ned_years[employees_years]\n",
    "\n",
    "data2023_employees_years = cbs80072ned_years_employees['period_title'].str.contains('2023') | cbs80072ned_years_employees['period_title'].str.contains('2024')\n",
    "cbs80072ned_years_employees_tot2023 = cbs80072ned_years_employees[~data2023_employees_years]"
   ]
  },
  {
   "cell_type": "code",
   "execution_count": null,
   "metadata": {},
   "outputs": [],
   "source": [
    "alt.Chart(data=cbs80072ned_years_employees_tot2023).mark_trail().encode(\n",
    "    x=alt.X('period_year', axis = alt.Axis(format='d', title='Year')),\n",
    "    y=alt.Y('sick_leave_percentage', axis = alt.Axis(title='Sick leave percentage')),\n",
    "    color=alt.Color('sbi_title_english', legend=alt.Legend(title=None)),\n",
    "    tooltip=['period_year', 'sick_leave_percentage', 'sbi_title_english'],\n",
    ").properties(width=1200, height=600, title='Sick leave percentages per company size per year (1996-2022)')"
   ]
  },
  {
   "cell_type": "markdown",
   "metadata": {},
   "source": [
    "*Plotly*"
   ]
  },
  {
   "cell_type": "code",
   "execution_count": null,
   "metadata": {},
   "outputs": [],
   "source": [
    "# Create the Plotly line chart\n",
    "fig = px.line(\n",
    "    data_frame=cbs80072ned_years_employees_tot2023,\n",
    "    x='period_year',\n",
    "    y='sick_leave_percentage',\n",
    "    color='sbi_title_english',\n",
    "    labels={\n",
    "        'period_year': 'Year',\n",
    "        'sick_leave_percentage': 'Sick leave percentage',\n",
    "        'sbi_title_english': ''\n",
    "    },\n",
    "    title='Sick leave percentages per company size per year (1996-2022)',\n",
    "    hover_data=['period_year', 'sick_leave_percentage', 'sbi_title_english']\n",
    ")\n",
    "\n",
    "# Customize the layout for size and white background\n",
    "fig.update_layout(\n",
    "    width=1200,\n",
    "    height=600,\n",
    "    plot_bgcolor='white',  # White background for the plot area\n",
    "    paper_bgcolor='white',  # White background for the entire figure\n",
    "    title_font=dict(size=18),\n",
    "    legend=dict(\n",
    "        title='',\n",
    "        orientation='v',  # Vertical legend\n",
    "        x=1.02,  # Position the legend slightly outside the plot on the right\n",
    "        y=1,  # Align legend to the top\n",
    "        xanchor='left',\n",
    "        yanchor='top'\n",
    "    ),\n",
    "    xaxis=dict(title=dict(font=dict(size=14))),\n",
    "    yaxis=dict(title=dict(font=dict(size=14)))\n",
    ")\n",
    "\n",
    "# Add gridlines for better readability\n",
    "fig.update_xaxes(showgrid=False, gridcolor='lightgrey')\n",
    "fig.update_yaxes(showgrid=True, gridcolor='lightgrey')\n",
    "\n",
    "fig.show()"
   ]
  },
  {
   "cell_type": "markdown",
   "metadata": {},
   "source": [
    "**Boxplot**"
   ]
  },
  {
   "cell_type": "code",
   "execution_count": null,
   "metadata": {},
   "outputs": [],
   "source": [
    "branche_medians = cbs80072ned_quarters_branches_tot2023.groupby('sbi_title', observed=True)['sick_leave_percentage'].median().sort_values(ascending=True)\n",
    "\n",
    "order = branche_medians.index.tolist()"
   ]
  },
  {
   "cell_type": "code",
   "execution_count": null,
   "metadata": {},
   "outputs": [],
   "source": [
    "branche_medians"
   ]
  },
  {
   "cell_type": "code",
   "execution_count": null,
   "metadata": {},
   "outputs": [],
   "source": [
    "order"
   ]
  },
  {
   "cell_type": "code",
   "execution_count": null,
   "metadata": {},
   "outputs": [],
   "source": [
    "colors = [\n",
    "    '#1f77b4', '#ff7f0e', '#2ca02c', '#d62728', '#9467bd', \n",
    "    '#8c564b', '#e377c2', '#7f7f7f', '#bcbd22', '#17becf', \n",
    "    '#aec7e8', '#ffbb78', '#98df8a', '#ff9896', '#c5b0d5', \n",
    "    '#c49c94', '#f7b6d2', '#c7c7c7', '#dbdb8d'\n",
    "]\n",
    "\n",
    "alt.Chart(data=cbs80072ned_quarters_branches_tot2023).mark_boxplot().encode(\n",
    "    x=alt.X('sick_leave_percentage', title='Sick leave percentage'), \n",
    "    y=alt.Y('sbi_title', sort=order, title='Branche'),\n",
    "    color=alt.Color('sbi_title', legend=None, sort=order, scale=alt.Scale(range=colors)),\n",
    "    ).properties(title='Boxplot met ziekteverzuimpercentages per kwartaal (1996-2022) gesorteerd op de mediaan')"
   ]
  },
  {
   "cell_type": "code",
   "execution_count": null,
   "metadata": {},
   "outputs": [],
   "source": [
    "branche_medians_english = cbs80072ned_quarters_branches_tot2023.groupby('sbi_title_english', observed=True)['sick_leave_percentage'].median().sort_values(ascending=True)\n",
    "\n",
    "order_english = branche_medians_english.index.tolist()"
   ]
  },
  {
   "cell_type": "code",
   "execution_count": null,
   "metadata": {},
   "outputs": [],
   "source": [
    "branche_medians_english"
   ]
  },
  {
   "cell_type": "code",
   "execution_count": null,
   "metadata": {},
   "outputs": [],
   "source": [
    "order_english"
   ]
  },
  {
   "cell_type": "code",
   "execution_count": null,
   "metadata": {},
   "outputs": [],
   "source": [
    "alt.Chart(data=cbs80072ned_quarters_branches_tot2023).mark_boxplot().encode(\n",
    "    x=alt.X('sick_leave_percentage', title='Sick leave percentage'), \n",
    "    y=alt.Y('sbi_title_english', sort=order_english, title='Branch'),\n",
    "    color=alt.Color('sbi_title_english', legend=None, sort=order_english, scale=alt.Scale(range=colors)),\n",
    "    ).properties(title='Boxplot with quarterly sick leave percentages (1996-2022) sorted on median values')"
   ]
  },
  {
   "cell_type": "code",
   "execution_count": null,
   "metadata": {},
   "outputs": [],
   "source": [
    "# Create a boxplot using Plotly\n",
    "fig = px.box(\n",
    "    cbs80072ned_quarters_branches_tot2023,\n",
    "    x='sick_leave_percentage',\n",
    "    y='sbi_title_english',\n",
    "    color='sbi_title_english',  # Color by 'sbi_title_english' (branch)\n",
    "    category_orders={'sbi_title_english': order_english},  # Sort based on the order you want\n",
    "    title='Boxplot with quarterly sick leave percentages (1996-2022) sorted on median values',\n",
    "    labels={'sick_leave_percentage': 'Sick leave percentage', 'sbi_title_english': 'Branch'}\n",
    ")\n",
    "\n",
    "# Customize the color scale\n",
    "fig.update_traces(marker=dict(line=dict(width=1, color='black')))  # Add black borders to the boxes\n",
    "fig.update_layout(\n",
    "    plot_bgcolor='white',  # Background color of the plot area\n",
    "    paper_bgcolor='white',  # Background color of the entire figure\n",
    "    width=1200,\n",
    "    height=600,\n",
    "    legend=dict(\n",
    "        title='',\n",
    "        orientation='v',  # Vertical legend\n",
    "        x=1.02,  # Position the legend slightly outside the plot on the right\n",
    "        y=1,  # Align legend to the top\n",
    "        xanchor='left',\n",
    "        yanchor='top'\n",
    "    ),\n",
    "    title_font=dict(size=18),\n",
    "    xaxis=dict(title=dict(font=dict(size=14))),\n",
    "    yaxis=dict(title=dict(font=dict(size=14))),\n",
    ")\n",
    "\n",
    "# Add gridlines for better readability\n",
    "fig.update_xaxes(showgrid=True, gridcolor='lightgrey')\n",
    "fig.update_yaxes(showgrid=True, gridcolor='lightgrey')\n",
    "\n",
    "fig.show()"
   ]
  },
  {
   "cell_type": "code",
   "execution_count": null,
   "metadata": {},
   "outputs": [],
   "source": [
    "# Define a custom color palette with 19 distinct colors\n",
    "custom_colors = px.colors.qualitative.Set3 + px.colors.qualitative.Safe\n",
    "\n",
    "# Create a boxplot using Plotly\n",
    "fig = px.box(\n",
    "    cbs80072ned_quarters_branches_tot2023,\n",
    "    x='sick_leave_percentage',\n",
    "    y='sbi_title_english',\n",
    "    color='sbi_title_english',  # Color by 'sbi_title_english' (branch)\n",
    "    category_orders={'sbi_title_english': order_english},  # Sort based on the order you want\n",
    "    title='Boxplot with quarterly sick leave percentages (1996-2022) sorted on median values',\n",
    "    labels={'sick_leave_percentage': 'Sick leave percentage', 'sbi_title_english': 'Branch'},\n",
    "    color_discrete_sequence=custom_colors  # Use custom color palette\n",
    ")\n",
    "\n",
    "# Remove the legend by setting showlegend=False\n",
    "fig.update_layout(\n",
    "    plot_bgcolor='white',  # Background color of the plot area\n",
    "    paper_bgcolor='white',  # Background color of the entire figure\n",
    "    width=800,\n",
    "    height=600,\n",
    "    showlegend=False,  # Remove the legend\n",
    "    title_font=dict(size=14),\n",
    "    xaxis=dict(title=dict(font=dict(size=12))),\n",
    "    yaxis=dict(title=dict(font=dict(size=12))),\n",
    ")\n",
    "\n",
    "# Add gridlines for better readability\n",
    "fig.update_xaxes(showgrid=True, gridcolor='lightgrey')\n",
    "fig.update_yaxes(showgrid=False, gridcolor='lightgrey')\n",
    "\n",
    "fig.show()\n"
   ]
  },
  {
   "cell_type": "markdown",
   "metadata": {},
   "source": [
    "**Dit in ander notebook zetten?**"
   ]
  },
  {
   "cell_type": "code",
   "execution_count": null,
   "metadata": {},
   "outputs": [],
   "source": [
    "from uwv.config import CBS_OPENDATA_PROCESSED_DATA_DIR, CBS80072NED, OUTPUT_DIR, CBS_OPENDATA_EXTERNAL_DATA_DIR\n",
    "\n",
    "import pandas as pd\n",
    "\n",
    "cbscsv = pd.read_csv(CBS_OPENDATA_EXTERNAL_DATA_DIR / CBS80072NED / f\"{CBS80072NED}_UntypedDataSet.csv\")\n",
    "\n",
    "cbscsv"
   ]
  },
  {
   "cell_type": "code",
   "execution_count": null,
   "metadata": {},
   "outputs": [],
   "source": [
    "cbswerkzamepersonen_2023 = pd.read_csv(r'C:\\Users\\mth2\\OneDrive - Gemeente Breda\\Bureaublad\\Github\\uwv\\data\\Werkzamepersonenperbedrijfstak_2023.csv', delimiter=';')\n",
    "\n",
    "cbswerkzamepersonen_2023"
   ]
  },
  {
   "cell_type": "code",
   "execution_count": null,
   "metadata": {},
   "outputs": [],
   "source": [
    "cbs80072ned_2022 = cbs80072ned[cbs80072ned['period_title']==\"2022\"]\n",
    "cbs80072ned_2022"
   ]
  },
  {
   "cell_type": "code",
   "execution_count": null,
   "metadata": {},
   "outputs": [],
   "source": [
    "cbs80072ned_2022_bedrijfstakken = cbs80072ned_2022[(cbs80072ned_2022['category_group_title']==\"Bedrijfstak\") | (cbs80072ned_2022['sbi_title']==\"A Landbouw, bosbouw en visserij\")]\n",
    "cbs80072ned_2022_bedrijfstakken"
   ]
  },
  {
   "cell_type": "code",
   "execution_count": null,
   "metadata": {},
   "outputs": [],
   "source": [
    "cbs80072ned_2022_bedrijfstakken_drop = cbs80072ned_2022_bedrijfstakken.drop(columns=['id', 'sbi', 'period', 'period_title', 'period_status', 'period_year', 'period_type', 'period_quarter_number', 'period_quarter', 'sbi_description', 'category_group_id', 'category_group_title', 'sbi_title_english'])\n",
    "cbs80072ned_2022_bedrijfstakken_drop"
   ]
  },
  {
   "cell_type": "code",
   "execution_count": null,
   "metadata": {},
   "outputs": [],
   "source": [
    "cbs80072ned_2022_bedrijfstakken_drop_renamed = cbs80072ned_2022_bedrijfstakken_drop.rename(columns={'sick_leave_percentage': 'Ziekteverzuimpercentage_2022', 'sbi_title': 'Bedrijfstakken/branches (SBI 2008)'})\n",
    "cbs80072ned_2022_bedrijfstakken_drop_renamed"
   ]
  },
  {
   "cell_type": "code",
   "execution_count": null,
   "metadata": {},
   "outputs": [],
   "source": [
    "merged = pd.merge(cbswerkzamepersonen_2023, cbs80072ned_2022_bedrijfstakken_drop_renamed, on='Bedrijfstakken/branches (SBI 2008)', how='inner')\n",
    "merged"
   ]
  },
  {
   "cell_type": "code",
   "execution_count": null,
   "metadata": {},
   "outputs": [],
   "source": [
    "merged = pd.merge(cbswerkzamepersonen_2023, cbs80072ned_2022_bedrijfstakken_drop_renamed, on='Bedrijfstakken/branches (SBI 2008)', how='inner')\n",
    "merged.sort_values(by='Ziekteverzuimpercentage_2022', ascending=False)"
   ]
  },
  {
   "cell_type": "code",
   "execution_count": null,
   "metadata": {},
   "outputs": [],
   "source": [
    "merged = pd.merge(cbswerkzamepersonen_2023, cbs80072ned_2022_bedrijfstakken_drop_renamed, on='Bedrijfstakken/branches (SBI 2008)', how='inner')\n",
    "merged.sort_values(by='Werkzamepersonen_2023(x1000)', ascending=False)"
   ]
  }
 ],
 "metadata": {
  "kernelspec": {
   "display_name": ".venv",
   "language": "python",
   "name": "python3"
  },
  "language_info": {
   "codemirror_mode": {
    "name": "ipython",
    "version": 3
   },
   "file_extension": ".py",
   "mimetype": "text/x-python",
   "name": "python",
   "nbconvert_exporter": "python",
   "pygments_lexer": "ipython3",
   "version": "3.12.3"
  }
 },
 "nbformat": 4,
 "nbformat_minor": 2
}
