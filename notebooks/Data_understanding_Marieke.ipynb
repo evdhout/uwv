{
 "cells": [
  {
   "cell_type": "code",
   "execution_count": null,
   "metadata": {},
   "outputs": [],
   "source": [
    "from uwv.config import CBS_OPENDATA_PROCESSED_DATA_DIR, CBS80072NED, OUTPUT_DIR\n",
    "\n",
    "import pandas as pd\n",
    "import altair as alt\n",
    "\n",
    "cbs80072ned = pd.read_parquet(CBS_OPENDATA_PROCESSED_DATA_DIR / f\"{CBS80072NED}.parquet\")\n",
    "\n",
    "cbs80072ned"
   ]
  },
  {
   "cell_type": "code",
   "execution_count": null,
   "metadata": {},
   "outputs": [],
   "source": [
    "quarters = cbs80072ned['period_type'].str.contains('KW')\n",
    "cbs80072ned_quarters = cbs80072ned[quarters]\n",
    "\n",
    "branches = cbs80072ned_quarters['category_group_title'].str.contains('Bedrijfstak') | cbs80072ned_quarters['sbi_title'].str.contains('A Landbouw, bosbouw en visserij')\n",
    "cbs80072ned_quarters_branches = cbs80072ned_quarters[branches]\n",
    "\n",
    "data2023_quartes = cbs80072ned_quarters_branches['period_title'].str.contains('2023') | cbs80072ned_quarters_branches['period_title'].str.contains('2024')\n",
    "cbs80072ned_quarters_branches_tot2023 = cbs80072ned_quarters_branches[~data2023_quartes]"
   ]
  },
  {
   "cell_type": "code",
   "execution_count": null,
   "metadata": {},
   "outputs": [],
   "source": [
    "alt.Chart(data=cbs80072ned_quarters_branches_tot2023).mark_trail().encode(\n",
    "    x=alt.X('period', axis = alt.Axis(title='Year and quarter', labelAngle=310)),\n",
    "    y=alt.Y('sick_leave_percentage', axis = alt.Axis(title='Sick leave percentage')), \n",
    "    color=alt.Color('sbi_title', legend=alt.Legend(title=None)),\n",
    "    tooltip=['period', 'sick_leave_percentage', 'sbi_title']\n",
    "    ).properties(width=1200, height=600, title='Sick leave percentage per branche per quarter (1996-2022)')"
   ]
  },
  {
   "cell_type": "code",
   "execution_count": null,
   "metadata": {},
   "outputs": [],
   "source": [
    "cbs80072ned_years = cbs80072ned[~quarters]\n",
    "\n",
    "branches = cbs80072ned_years['category_group_title'].str.contains('Bedrijfstak') | cbs80072ned_years['sbi_title'].str.contains('A Landbouw, bosbouw en visserij')\n",
    "cbs80072ned_years_branches = cbs80072ned_years[branches]\n",
    "\n",
    "data2023_years = cbs80072ned_years_branches['period_title'].str.contains('2023') | cbs80072ned_years_branches['period_title'].str.contains('2024')\n",
    "cbs80072ned_years_branches_tot2023 = cbs80072ned_years_branches[~data2023_years]"
   ]
  },
  {
   "cell_type": "code",
   "execution_count": null,
   "metadata": {},
   "outputs": [],
   "source": [
    "alt.Chart(data=cbs80072ned_years_branches_tot2023).mark_trail().encode(\n",
    "    x=alt.X('period_year', axis = alt.Axis(format='d', title='Year')),\n",
    "    y=alt.Y('sick_leave_percentage', axis = alt.Axis(title='Sick leave percentage')), \n",
    "    color=alt.Color('sbi_title', legend=alt.Legend(title=None)),\n",
    "    tooltip=['period_year', 'sick_leave_percentage', 'sbi_title']\n",
    "    ).properties(width=1200, height=600, title='Sick leave percentage per branche per year (1996-2022)')"
   ]
  },
  {
   "cell_type": "code",
   "execution_count": null,
   "metadata": {},
   "outputs": [],
   "source": [
    "employees_quarters = cbs80072ned_quarters['category_group_title'].str.contains('Bedrijfsgrootte')\n",
    "cbs80072ned_quarters_employees = cbs80072ned_quarters[employees_quarters]\n",
    "\n",
    "data2023_employees_quarters = cbs80072ned_quarters_employees['period_title'].str.contains('2023') | cbs80072ned_quarters_employees['period_title'].str.contains('2024')\n",
    "cbs80072ned_quarters_employees_tot2023 = cbs80072ned_quarters_employees[~data2023_employees_quarters]"
   ]
  },
  {
   "cell_type": "code",
   "execution_count": null,
   "metadata": {},
   "outputs": [],
   "source": [
    "alt.Chart(data=cbs80072ned_quarters_employees_tot2023).mark_trail().encode(\n",
    "    x=alt.X('period', axis = alt.Axis(labelAngle=310)),\n",
    "    y='sick_leave_percentage', \n",
    "    color=alt.Color('sbi_title', legend=alt.Legend(title=None)),\n",
    "    tooltip=['period', 'sick_leave_percentage', 'sbi_title']\n",
    "    ).properties(width=1200, height=600, title='Sick leave percentage per company size per quarter (1996-2022)')"
   ]
  },
  {
   "cell_type": "code",
   "execution_count": null,
   "metadata": {},
   "outputs": [],
   "source": [
    "employees_years = cbs80072ned_years['category_group_title'].str.contains('Bedrijfsgrootte')\n",
    "cbs80072ned_years_employees = cbs80072ned_years[employees_years]\n",
    "\n",
    "data2023_employees_years = cbs80072ned_years_employees['period_title'].str.contains('2023') | cbs80072ned_years_employees['period_title'].str.contains('2024')\n",
    "cbs80072ned_years_employees_tot2023 = cbs80072ned_years_employees[~data2023_employees_years]"
   ]
  },
  {
   "cell_type": "code",
   "execution_count": null,
   "metadata": {},
   "outputs": [],
   "source": [
    "alt.Chart(data=cbs80072ned_years_employees_tot2023).mark_trail().encode(\n",
    "    x=alt.X('period_year', axis = alt.Axis(format='d', title='Year')),\n",
    "    y=alt.Y('sick_leave_percentage', axis = alt.Axis(title='Sick leave percentage')),\n",
    "    color=alt.Color('sbi_title', legend=alt.Legend(title=None)),\n",
    "    tooltip=['period_year', 'sick_leave_percentage', 'sbi_title'],\n",
    ").properties(width=1200, height=600, title='Sick leave percentage per company size per year (1996-2022)')"
   ]
  },
  {
   "cell_type": "code",
   "execution_count": null,
   "metadata": {},
   "outputs": [],
   "source": [
    "branche_medians = cbs80072ned_quarters_branches_tot2023.groupby('sbi_title', observed=True)['sick_leave_percentage'].median().sort_values(ascending=True)\n",
    "\n",
    "order = branche_medians.index.tolist()"
   ]
  },
  {
   "cell_type": "code",
   "execution_count": null,
   "metadata": {},
   "outputs": [],
   "source": [
    "branche_medians"
   ]
  },
  {
   "cell_type": "code",
   "execution_count": null,
   "metadata": {},
   "outputs": [],
   "source": [
    "order"
   ]
  },
  {
   "cell_type": "code",
   "execution_count": null,
   "metadata": {},
   "outputs": [],
   "source": [
    "alt.Chart(data=cbs80072ned_quarters_branches_tot2023).mark_boxplot().encode(\n",
    "    x=alt.X('sick_leave_percentage', title='Sick leave percentage'), \n",
    "    y=alt.Y('sbi_title', sort=order, title='Branche'),\n",
    "    color=alt.Color('sbi_title', legend=None, sort=order),\n",
    "    ).properties(title='Boxplot with quarterly sick leave percentages (1996-2022) sorted on median values')"
   ]
  },
  {
   "cell_type": "code",
   "execution_count": null,
   "metadata": {},
   "outputs": [],
   "source": [
    "from uwv.config import CBS_OPENDATA_PROCESSED_DATA_DIR, CBS80072NED, OUTPUT_DIR, CBS_OPENDATA_EXTERNAL_DATA_DIR\n",
    "\n",
    "import pandas as pd\n",
    "\n",
    "cbscsv = pd.read_csv(CBS_OPENDATA_EXTERNAL_DATA_DIR / CBS80072NED / f\"{CBS80072NED}_UntypedDataSet.csv\")\n",
    "\n",
    "cbscsv"
   ]
  },
  {
   "cell_type": "code",
   "execution_count": null,
   "metadata": {},
   "outputs": [],
   "source": [
    "cbswerkzamepersonen_2023 = pd.read_csv(r'C:\\Users\\mth2\\OneDrive - Gemeente Breda\\Bureaublad\\Github\\uwv\\data\\Werkzamepersonenperbedrijfstak_2023.csv', delimiter=';')\n",
    "\n",
    "cbswerkzamepersonen_2023"
   ]
  },
  {
   "cell_type": "code",
   "execution_count": null,
   "metadata": {},
   "outputs": [],
   "source": [
    "cbs80072ned_2022 = cbs80072ned[cbs80072ned['period_title']==\"2022\"]\n",
    "cbs80072ned_2022"
   ]
  },
  {
   "cell_type": "code",
   "execution_count": null,
   "metadata": {},
   "outputs": [],
   "source": [
    "cbs80072ned_2022_bedrijfstakken = cbs80072ned_2022[(cbs80072ned_2022['category_group_title']==\"Bedrijfstak\") | (cbs80072ned_2022['sbi_title']==\"A Landbouw, bosbouw en visserij\")]\n",
    "cbs80072ned_2022_bedrijfstakken"
   ]
  },
  {
   "cell_type": "code",
   "execution_count": null,
   "metadata": {},
   "outputs": [],
   "source": [
    "cbs80072ned_2022_bedrijfstakken_drop = cbs80072ned_2022_bedrijfstakken.drop(columns=['id', 'sbi', 'period', 'period_title', 'period_status', 'period_year', 'period_type', 'period_quarter_number', 'period_quarter', 'sbi_description', 'category_group_id', 'category_group_title'])\n",
    "cbs80072ned_2022_bedrijfstakken_drop"
   ]
  },
  {
   "cell_type": "code",
   "execution_count": null,
   "metadata": {},
   "outputs": [],
   "source": [
    "cbs80072ned_2022_bedrijfstakken_drop_renamed = cbs80072ned_2022_bedrijfstakken_drop.rename(columns={'sick_leave_percentage': 'Ziekteverzuimpercentage_2022', 'sbi_title': 'Bedrijfstakken/branches (SBI 2008)'})\n",
    "cbs80072ned_2022_bedrijfstakken_drop_renamed"
   ]
  },
  {
   "cell_type": "code",
   "execution_count": null,
   "metadata": {},
   "outputs": [],
   "source": [
    "merged = pd.merge(cbswerkzamepersonen_2023, cbs80072ned_2022_bedrijfstakken_drop_renamed, on='Bedrijfstakken/branches (SBI 2008)', how='inner')\n",
    "merged"
   ]
  },
  {
   "cell_type": "code",
   "execution_count": null,
   "metadata": {},
   "outputs": [],
   "source": [
    "merged = pd.merge(cbswerkzamepersonen_2023, cbs80072ned_2022_bedrijfstakken_drop_renamed, on='Bedrijfstakken/branches (SBI 2008)', how='inner')\n",
    "merged.sort_values(by='Ziekteverzuimpercentage_2022', ascending=False)"
   ]
  },
  {
   "cell_type": "code",
   "execution_count": null,
   "metadata": {},
   "outputs": [],
   "source": [
    "merged = pd.merge(cbswerkzamepersonen_2023, cbs80072ned_2022_bedrijfstakken_drop_renamed, on='Bedrijfstakken/branches (SBI 2008)', how='inner')\n",
    "merged.sort_values(by='Werkzamepersonen_2023(x1000)', ascending=False)"
   ]
  }
 ],
 "metadata": {
  "kernelspec": {
   "display_name": ".venv",
   "language": "python",
   "name": "python3"
  },
  "language_info": {
   "codemirror_mode": {
    "name": "ipython",
    "version": 3
   },
   "file_extension": ".py",
   "mimetype": "text/x-python",
   "name": "python",
   "nbconvert_exporter": "python",
   "pygments_lexer": "ipython3",
   "version": "3.12.3"
  }
 },
 "nbformat": 4,
 "nbformat_minor": 2
}
