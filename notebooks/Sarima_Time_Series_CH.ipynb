{
 "cells": [
  {
   "cell_type": "code",
   "execution_count": null,
   "metadata": {},
   "outputs": [],
   "source": [
    "import pandas as pd\n",
    "import numpy as np\n",
    "import matplotlib.pyplot as plt\n",
    "import matplotlib.dates as mdates\n",
    "#ignore harmless warnings\n",
    "import warnings\n",
    "warnings.filterwarnings(\"ignore\")"
   ]
  },
  {
   "cell_type": "code",
   "execution_count": null,
   "metadata": {},
   "outputs": [],
   "source": [
    "from statsmodels.tsa.statespace.sarimax import SARIMAX"
   ]
  },
  {
   "cell_type": "code",
   "execution_count": null,
   "metadata": {},
   "outputs": [],
   "source": [
    "from statsmodels.tsa.seasonal import seasonal_decompose"
   ]
  },
  {
   "cell_type": "code",
   "execution_count": null,
   "metadata": {},
   "outputs": [],
   "source": [
    "from pmdarima import auto_arima"
   ]
  },
  {
   "cell_type": "code",
   "execution_count": null,
   "metadata": {},
   "outputs": [],
   "source": [
    "from uwv.config import CBS80072NED, CBS_OPENDATA_PROCESSED_DATA_DIR, OUTPUT_DIR"
   ]
  },
  {
   "cell_type": "code",
   "execution_count": null,
   "metadata": {},
   "outputs": [],
   "source": [
    "# Load the data\n",
    "cbs = pd.read_parquet(CBS_OPENDATA_PROCESSED_DATA_DIR / f\"{CBS80072NED}.parquet\")"
   ]
  },
  {
   "cell_type": "code",
   "execution_count": null,
   "metadata": {},
   "outputs": [],
   "source": [
    "# Filter out rows where 'period_quarter_number' is 0\n",
    "cbs = cbs[cbs['period_quarter_number'] != 0]"
   ]
  },
  {
   "cell_type": "code",
   "execution_count": null,
   "metadata": {},
   "outputs": [],
   "source": [
    "# Map quarters to months and create the 'date' column\n",
    "cbs['month'] = cbs['period_quarter_number'].map({1: 1, 2: 4, 3: 7, 4: 10})\n",
    "cbs['date'] = pd.to_datetime({'year': cbs['period_year'], 'month': cbs['month'], 'day': 1})"
   ]
  },
  {
   "cell_type": "code",
   "execution_count": null,
   "metadata": {},
   "outputs": [],
   "source": [
    "#Set this new 'date' column as the index\n",
    "cbs.set_index('date', inplace=True)"
   ]
  },
  {
   "cell_type": "code",
   "execution_count": null,
   "metadata": {},
   "outputs": [],
   "source": [
    "# Display the DataFrame to verify\n",
    "print(cbs.head())"
   ]
  },
  {
   "cell_type": "code",
   "execution_count": null,
   "metadata": {},
   "outputs": [],
   "source": [
    "# Define a function to filter and resample data for a specific 'sbi_title'\n",
    "def process_sbi_data(sbi_code):\n",
    "    # Filter the data for the specific 'sbi_title'\n",
    "    filtered_data = cbs[cbs['sbi'] == sbi_code]\n",
    "    \n",
    "    # Resample to ensure quarterly frequency\n",
    "    filtered_data = filtered_data.resample('QS').asfreq()\n",
    "    \n",
    "    # Display the resampled data to verify\n",
    "    print(filtered_data.head())\n",
    "    \n",
    "    return filtered_data"
   ]
  },
  {
   "cell_type": "code",
   "execution_count": null,
   "metadata": {},
   "outputs": [],
   "source": [
    "# Example: Process data for \"A-U Alle economische activiteiten\" (code: T001081)\n",
    "sbi_code = 'T001081'\n",
    "sbi_data = process_sbi_data(sbi_code)"
   ]
  },
  {
   "cell_type": "code",
   "execution_count": null,
   "metadata": {},
   "outputs": [],
   "source": [
    "sbi_code = 'T001081'  # Example: A-U Alle economische activiteiten\n",
    "\n",
    "# Filter data based on 'sbi_title'\n",
    "filtered_cbs = cbs[cbs['sbi'] == sbi_code]\n",
    "\n",
    "# Further filter the data to include only records from 2008 onwards\n",
    "filtered_cbs = filtered_cbs[filtered_cbs.index >= '2008-01-01']\n",
    "\n",
    "# Plot the sick_leave_percentage as a line plot\n",
    "plt.figure(figsize=(12, 6))\n",
    "plt.plot(filtered_cbs.index, filtered_cbs['sick_leave_percentage'], linestyle='-', color='#0078d2')\n",
    "\n",
    "# Add titles and labels\n",
    "plt.title(f'Sick Leave Percentage for {sbi_code} (2008 onwards)', fontsize=16)\n",
    "plt.xlabel('Date', fontsize=14)\n",
    "plt.ylabel('Sick Leave Percentage', fontsize=14)\n",
    "\n",
    "# Customize x-axis to show quarters with vertical gridlines and display year at the start of Q1\n",
    "ax = plt.gca()\n",
    "\n",
    "# Set major ticks for the start of each year\n",
    "ax.xaxis.set_major_locator(mdates.YearLocator())\n",
    "ax.xaxis.set_major_formatter(mdates.DateFormatter('%Y'))\n",
    "\n",
    "# Set minor ticks for each quarter (January, April, July, October)\n",
    "ax.xaxis.set_minor_locator(mdates.MonthLocator(bymonth=[1, 4, 7, 10]))\n",
    "ax.tick_params(axis='x', which='major', labelsize=12)\n",
    "ax.tick_params(axis='x', which='minor', labelsize=0)  # Hide labels for minor ticks (quarters)\n",
    "\n",
    "# Draw grid lines for both major (years) and minor (quarters) ticks\n",
    "ax.grid(True, which='both', linestyle='--', linewidth=0.5)\n",
    "\n",
    "# Customize the plot to remove axis lines\n",
    "plt.gca().spines['top'].set_visible(False)\n",
    "plt.gca().spines['right'].set_visible(False)\n",
    "plt.gca().spines['left'].set_visible(True)\n",
    "plt.gca().spines['bottom'].set_visible(True)\n",
    "# Show the plot\n",
    "plt.tight_layout()\n",
    "plt.show()"
   ]
  },
  {
   "cell_type": "code",
   "execution_count": null,
   "metadata": {},
   "outputs": [],
   "source": [
    "# Example: Perform seasonal decomposition\n",
    "result = seasonal_decompose(sbi_data['sick_leave_percentage'], model='additive', period=4)"
   ]
  },
  {
   "cell_type": "code",
   "execution_count": null,
   "metadata": {},
   "outputs": [],
   "source": [
    "# Extract components\n",
    "trend = result.trend\n",
    "seasonal = result.seasonal\n",
    "residual = result.resid\n",
    "observed = result.observed"
   ]
  },
  {
   "cell_type": "code",
   "execution_count": null,
   "metadata": {},
   "outputs": [],
   "source": [
    "# Plot the components\n",
    "fig, axes = plt.subplots(4, 1, figsize=(10, 8), sharex=True)\n",
    "\n",
    "axes[0].plot(observed, label='Observed', color='#0078D2', linestyle='-', linewidth=1)\n",
    "axes[0].set_title('Observed', fontsize=14, fontweight='bold')\n",
    "axes[0].legend(loc='upper left', bbox_to_anchor=(0, 1.05), fontsize=10, frameon=False)\n",
    "\n",
    "axes[1].plot(trend, label='Trend', color='orange', linestyle='--', linewidth=1)\n",
    "axes[1].set_title('Trend', fontsize=14, fontweight='bold')\n",
    "axes[1].legend(loc='upper left', bbox_to_anchor=(0, 1.05), fontsize=10, frameon=False)\n",
    "\n",
    "axes[2].plot(seasonal, label='Seasonal', color='red', linestyle='-.', linewidth=1)\n",
    "axes[2].set_title('Seasonal', fontsize=14, fontweight='bold')\n",
    "axes[2].legend(loc='upper left', bbox_to_anchor=(0, 1.05), fontsize=10, frameon=False)\n",
    "\n",
    "axes[3].plot(residual, label='Residual', color='purple', linestyle=':', linewidth=1)\n",
    "axes[3].set_title('Residual', fontsize=14, fontweight='bold')\n",
    "axes[3].legend(loc='upper left', bbox_to_anchor=(0, 1.05), fontsize=10, frameon=False)\n",
    "\n",
    "for ax in axes:\n",
    "    ax.tick_params(axis='x', labelsize=12)\n",
    "\n",
    "plt.tight_layout()\n",
    "plt.show()"
   ]
  },
  {
   "cell_type": "code",
   "execution_count": null,
   "metadata": {},
   "outputs": [],
   "source": [
    "from pmdarima import auto_arima\n",
    "\n",
    "# Filter the data to include only records from 2008 onwards\n",
    "filtered_cbs = cbs[cbs.index >= '2008-01-01']\n",
    "\n",
    "# Verify that there are no NaN values in the 'sick_leave_percentage' column\n",
    "if filtered_cbs['sick_leave_percentage'].isnull().sum() > 0:\n",
    "    print(\"Warning: There are still NaN values in the filtered data.\")\n",
    "else:\n",
    "    print(\"No NaN values found in the filtered data from 2008 onwards.\")\n",
    "\n",
    "# Run auto_arima on the filtered data\n",
    "model = auto_arima(filtered_cbs['sick_leave_percentage'], seasonal=True, m=4)\n",
    "\n",
    "# Print the summary of the ARIMA model\n",
    "print(model.summary())\n"
   ]
  },
  {
   "cell_type": "code",
   "execution_count": null,
   "metadata": {},
   "outputs": [],
   "source": [
    "# Filter data based on 'sbi_title' first (assuming this step was done earlier)\n",
    "sbi_code = 'T001081'  # Example: A-U Alle economische activiteiten\n",
    "filtered_cbs = cbs[cbs['sbi'] == sbi_code]\n",
    "\n",
    "# Further filter the data to include only records from 2008 onwards\n",
    "filtered_cbs = filtered_cbs[filtered_cbs.index >= '2008-01-01']\n",
    "\n",
    "# Get the length of the filtered DataFrame\n",
    "number_of_records = len(filtered_cbs)\n",
    "\n",
    "# Print the number of records\n",
    "print(f\"Number of records for {sbi_code} from 2008 onwards: {number_of_records}\")\n"
   ]
  },
  {
   "cell_type": "code",
   "execution_count": null,
   "metadata": {},
   "outputs": [],
   "source": [
    "# Split the data into training and testing sets\n",
    "train = filtered_cbs[:'2021-12-31']  # Up to the last quarter of 2021\n",
    "test = filtered_cbs['2022-01-01':'2022-12-31']  # Only the 4 quarters of 2022"
   ]
  },
  {
   "cell_type": "code",
   "execution_count": null,
   "metadata": {},
   "outputs": [],
   "source": [
    "# Verify the lengths of the train and test sets\n",
    "print(f\"Training set length: {len(train)}\")\n",
    "print(f\"Testing set length: {len(test)}\")"
   ]
  },
  {
   "cell_type": "code",
   "execution_count": null,
   "metadata": {},
   "outputs": [],
   "source": [
    "# Output the first few records to verify correctness\n",
    "print(\"\\nTraining Set:\")\n",
    "print(train.head())\n",
    "print(\"\\nTesting Set:\")\n",
    "print(test.head())"
   ]
  },
  {
   "cell_type": "code",
   "execution_count": null,
   "metadata": {},
   "outputs": [],
   "source": []
  }
 ],
 "metadata": {
  "kernelspec": {
   "display_name": ".venv",
   "language": "python",
   "name": "python3"
  },
  "language_info": {
   "codemirror_mode": {
    "name": "ipython",
    "version": 3
   },
   "file_extension": ".py",
   "mimetype": "text/x-python",
   "name": "python",
   "nbconvert_exporter": "python",
   "pygments_lexer": "ipython3",
   "version": "3.12.3"
  }
 },
 "nbformat": 4,
 "nbformat_minor": 2
}
