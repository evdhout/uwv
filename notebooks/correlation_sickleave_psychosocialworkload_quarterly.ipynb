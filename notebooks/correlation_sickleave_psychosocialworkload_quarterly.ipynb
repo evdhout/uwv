{
 "cells": [
  {
   "cell_type": "code",
   "execution_count": null,
   "metadata": {},
   "outputs": [],
   "source": [
    "import pandas as pd\n",
    "\n",
    "psychosocialworkload = pd.read_csv(r'C:\\Users\\mth2\\OneDrive - Gemeente Breda\\Bureaublad\\Github\\uwv\\data\\83157NED_TypedDataSet_04102024_150331.csv', delimiter=';')\n",
    "psychosocialworkload = psychosocialworkload.drop(['ID', 'Marges'], axis=1)\n",
    "psychosocialworkload['BedrijfskenmerkenSBI2008'] = psychosocialworkload['BedrijfskenmerkenSBI2008'].str.strip('T') #om te zorgen dat alle rijen meegenomen worden, anders waren het alleen de eerste 10 (de daadwerkelijke objects)\n",
    "psychosocialworkload['BedrijfskenmerkenSBI2008'] = psychosocialworkload['BedrijfskenmerkenSBI2008'].astype(float)"
   ]
  },
  {
   "cell_type": "code",
   "execution_count": null,
   "metadata": {},
   "outputs": [],
   "source": [
    "# Extract the year from the 'Perioden' column\n",
    "psychosocialworkload['Jaar'] = psychosocialworkload['Perioden'].str[:4]  # Extract first 4 characters as year"
   ]
  },
  {
   "cell_type": "code",
   "execution_count": null,
   "metadata": {},
   "outputs": [],
   "source": [
    "psychosocialworkload"
   ]
  },
  {
   "cell_type": "code",
   "execution_count": null,
   "metadata": {},
   "outputs": [],
   "source": [
    "def convert_yearly_to_quarterly(psychosocialworkload):\n",
    "    \"\"\"\n",
    "    Converts yearly data to quarterly data by duplicating each row four times \n",
    "    and assigning quarters KW01 to KW04 to the 'Kwartaal' column for each duplicated row.\n",
    "\n",
    "    Parameters:\n",
    "        DataFrame: The DataFrame containing yearly data.\n",
    "\n",
    "    Returns:\n",
    "        DataFrame: The DataFrame with yearly data converted to quarterly data.\n",
    "    \"\"\"\n",
    "    # Step 1: Create a list of quarters (1, 2, 3, 4) for each year\n",
    "    quarters = ['KW01', 'KW02', 'KW03', 'KW04']\n",
    "\n",
    "    # Step 2: Repeat each row 4 times and create a new column 'Kwartaal' with the corresponding quarter\n",
    "    df_quarterly = psychosocialworkload.loc[psychosocialworkload.index.repeat(4)].reset_index(drop=True)\n",
    "    df_quarterly['Kwartaal'] = quarters * len(psychosocialworkload)\n",
    "\n",
    "    return df_quarterly\n",
    "\n",
    "psychosocialworkload_quarter = convert_yearly_to_quarterly(psychosocialworkload)\n",
    "\n",
    "psychosocialworkload_quarter"
   ]
  },
  {
   "cell_type": "code",
   "execution_count": null,
   "metadata": {},
   "outputs": [],
   "source": [
    "psychosocialworkload_quarter['Perioden_nieuw'] = psychosocialworkload_quarter['Jaar'].astype(str) + psychosocialworkload_quarter['Kwartaal']"
   ]
  },
  {
   "cell_type": "code",
   "execution_count": null,
   "metadata": {},
   "outputs": [],
   "source": [
    "psychosocialworkload_quarter"
   ]
  },
  {
   "cell_type": "code",
   "execution_count": null,
   "metadata": {},
   "outputs": [],
   "source": [
    "psychosocialworkload_quarter = psychosocialworkload_quarter.drop(columns=['Perioden', 'Jaar', 'Kwartaal'])"
   ]
  },
  {
   "cell_type": "code",
   "execution_count": null,
   "metadata": {},
   "outputs": [],
   "source": [
    "psychosocialworkload_quarter = psychosocialworkload_quarter.rename(columns={'Perioden_nieuw': 'Perioden'})"
   ]
  },
  {
   "cell_type": "code",
   "execution_count": null,
   "metadata": {},
   "outputs": [],
   "source": [
    "psychosocialworkload_quarter"
   ]
  },
  {
   "cell_type": "code",
   "execution_count": null,
   "metadata": {},
   "outputs": [],
   "source": [
    "sickleave = pd.read_csv(r'C:\\Users\\mth2\\OneDrive - Gemeente Breda\\Bureaublad\\Github\\uwv\\data\\external\\cbs\\80072ned\\80072ned_TypedDataSet.csv', delimiter=',')\n",
    "sickleave = sickleave.drop('ID', axis=1)\n",
    "sickleave['BedrijfskenmerkenSBI2008'] = sickleave['BedrijfskenmerkenSBI2008'].str.strip('T') #om te zorgen dat alle rijen meegenomen worden, anders waren het alleen de eerste 10 (de daadwerkelijke objects)\n",
    "sickleave['BedrijfskenmerkenSBI2008'] = sickleave['BedrijfskenmerkenSBI2008'].str.strip('WP') #om te zorgen dat alle rijen meegenomen worden, anders waren het alleen de eerste 10 (de daadwerkelijke objects)\n",
    "sickleave['BedrijfskenmerkenSBI2008'] = sickleave['BedrijfskenmerkenSBI2008'].astype(float)\n",
    "sickleave"
   ]
  },
  {
   "cell_type": "code",
   "execution_count": null,
   "metadata": {},
   "outputs": [],
   "source": [
    "merged_df = pd.merge(psychosocialworkload_quarter, sickleave, on=['BedrijfskenmerkenSBI2008', 'Perioden'])\n",
    "\n",
    "merged_df"
   ]
  },
  {
   "cell_type": "code",
   "execution_count": null,
   "metadata": {},
   "outputs": [],
   "source": [
    "merged_df.info()"
   ]
  },
  {
   "cell_type": "code",
   "execution_count": null,
   "metadata": {},
   "outputs": [],
   "source": [
    "columns_to_compare = ['Ziekteverzuimpercentage_1', 'ErgSnelWerken_1', 'HeelVeelWerkDoen_2', 'ExtraHardWerken_3', 'ZelfBeslissen_4', 'VolgordeWerkzaamhedenBepalen_5', 'WerktempoBepalen_6', 'OplossingenBedenken_7', 'VerlofNemen_8', 'WerktijdenBepalen_9', 'EmotioneelMoeilijkeWerksituaties_11', 'EmotioneelVeeleisendWerk_12', 'EmotioneelBetrokkenBijWerk_13', 'PsychischeVermoeidheidDoorHetWerk_38', 'EmotioneelUitgeput_39', 'LeegVoelen_40', 'SOchtendsMoeVoelen_41', 'VergtVeelOmMetMensenTeWerken_42', 'UitgeputDoorWerk_43']\n",
    "#Werkplekbepalen_10 wordt pas sinds 2022 gevraagd, dus daarom niet meegenomen\n",
    "\n",
    "merged_df = merged_df.dropna(subset=columns_to_compare)\n",
    "\n",
    "merged_df[columns_to_compare].info()"
   ]
  },
  {
   "cell_type": "code",
   "execution_count": null,
   "metadata": {},
   "outputs": [],
   "source": [
    "correlation_matrix = merged_df[columns_to_compare].corr()\n",
    "print(correlation_matrix)"
   ]
  },
  {
   "cell_type": "code",
   "execution_count": null,
   "metadata": {},
   "outputs": [],
   "source": [
    "import seaborn as sns\n",
    "import matplotlib.pyplot as plt\n",
    "\n",
    "plt.figure(figsize=(12, 8))\n",
    "sns.heatmap(correlation_matrix, annot=True, cmap='coolwarm', vmin=-1, vmax=1)\n",
    "plt.title('Correlation Matrix total data')\n",
    "plt.show()"
   ]
  },
  {
   "cell_type": "code",
   "execution_count": null,
   "metadata": {},
   "outputs": [],
   "source": [
    "# filter op alleen de totalen voor NL (alle branches)\n",
    "\n",
    "merged_df_total = merged_df[merged_df['BedrijfskenmerkenSBI2008'] == 1081]\n",
    "\n",
    "merged_df_total"
   ]
  },
  {
   "cell_type": "code",
   "execution_count": null,
   "metadata": {},
   "outputs": [],
   "source": [
    "correlation_matrix_total = merged_df_total[columns_to_compare].corr()\n",
    "print(correlation_matrix)"
   ]
  },
  {
   "cell_type": "code",
   "execution_count": null,
   "metadata": {},
   "outputs": [],
   "source": [
    "import seaborn as sns\n",
    "import matplotlib.pyplot as plt\n",
    "\n",
    "plt.figure(figsize=(12, 8))\n",
    "sns.heatmap(correlation_matrix_total, annot=True, cmap='coolwarm', vmin=-1, vmax=1)\n",
    "plt.title('Correlation Matrix all economic activities')\n",
    "plt.show()"
   ]
  }
 ],
 "metadata": {
  "kernelspec": {
   "display_name": ".venv",
   "language": "python",
   "name": "python3"
  },
  "language_info": {
   "codemirror_mode": {
    "name": "ipython",
    "version": 3
   },
   "file_extension": ".py",
   "mimetype": "text/x-python",
   "name": "python",
   "nbconvert_exporter": "python",
   "pygments_lexer": "ipython3",
   "version": "3.12.3"
  }
 },
 "nbformat": 4,
 "nbformat_minor": 2
}
