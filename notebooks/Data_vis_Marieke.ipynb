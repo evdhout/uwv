{
 "cells": [
  {
   "cell_type": "code",
   "execution_count": null,
   "metadata": {},
   "outputs": [],
   "source": [
    "import pandas as pd\n",
    "import numpy as np\n",
    "import altair as alt            \n",
    "import matplotlib.pyplot as plt"
   ]
  },
  {
   "cell_type": "code",
   "execution_count": null,
   "metadata": {},
   "outputs": [],
   "source": [
    "import cbsodata"
   ]
  },
  {
   "cell_type": "code",
   "execution_count": null,
   "metadata": {},
   "outputs": [],
   "source": [
    "data = pd.DataFrame(cbsodata.get_data('80072NED'))"
   ]
  },
  {
   "cell_type": "code",
   "execution_count": null,
   "metadata": {},
   "outputs": [],
   "source": [
    "pd.set_option(\"display.max_rows\", 50)\n",
    "pd.set_option(\"display.max_columns\", None)\n",
    "pd.set_option(\"display.max_info_columns\", 100)\n",
    "pd.set_option(\"display.max_info_rows\", 1000000)\n",
    "pd.set_option(\"display.precision\", 3)"
   ]
  },
  {
   "cell_type": "code",
   "execution_count": null,
   "metadata": {},
   "outputs": [],
   "source": [
    "data.head(10)"
   ]
  },
  {
   "cell_type": "code",
   "execution_count": null,
   "metadata": {},
   "outputs": [],
   "source": [
    "data.info()"
   ]
  },
  {
   "cell_type": "code",
   "execution_count": null,
   "metadata": {},
   "outputs": [],
   "source": [
    "kwartalen = data['Perioden'].str.contains('kwartaal')"
   ]
  },
  {
   "cell_type": "code",
   "execution_count": null,
   "metadata": {},
   "outputs": [],
   "source": [
    "data_jaren = data[~kwartalen]"
   ]
  },
  {
   "cell_type": "code",
   "execution_count": null,
   "metadata": {},
   "outputs": [],
   "source": [
    "data_kwartalen = data[kwartalen]"
   ]
  },
  {
   "cell_type": "code",
   "execution_count": null,
   "metadata": {},
   "outputs": [],
   "source": [
    "data_jaren.head(10)"
   ]
  },
  {
   "cell_type": "code",
   "execution_count": null,
   "metadata": {},
   "outputs": [],
   "source": [
    "werkzamepersonen_jaren = data_jaren['BedrijfskenmerkenSBI2008'].str.contains('personen')"
   ]
  },
  {
   "cell_type": "code",
   "execution_count": null,
   "metadata": {},
   "outputs": [],
   "source": [
    "werkzamepersonen_kwartalen = data_kwartalen['BedrijfskenmerkenSBI2008'].str.contains('personen')"
   ]
  },
  {
   "cell_type": "code",
   "execution_count": null,
   "metadata": {},
   "outputs": [],
   "source": [
    "data_werkzamepersonen_jaren = data_jaren[werkzamepersonen_jaren]"
   ]
  },
  {
   "cell_type": "code",
   "execution_count": null,
   "metadata": {},
   "outputs": [],
   "source": [
    "alt.Chart(data=data_werkzamepersonen_jaren).mark_trail().encode(\n",
    "    x='Perioden', \n",
    "    y='Ziekteverzuimpercentage_1', \n",
    "    color='BedrijfskenmerkenSBI2008', \n",
    "    tooltip=['Perioden', 'Ziekteverzuimpercentage_1', 'BedrijfskenmerkenSBI2008']\n",
    "    ).properties(title='Ziekteverzuimpercentage per jaar per bedrijfsgrootte')"
   ]
  },
  {
   "cell_type": "code",
   "execution_count": null,
   "metadata": {},
   "outputs": [],
   "source": [
    "data_werkzamepersonen_kwartalen = data_kwartalen[werkzamepersonen_kwartalen]"
   ]
  },
  {
   "cell_type": "code",
   "execution_count": null,
   "metadata": {},
   "outputs": [],
   "source": [
    "alt.Chart(data=data_werkzamepersonen_kwartalen).mark_trail().encode(\n",
    "    x='Perioden', \n",
    "    y='Ziekteverzuimpercentage_1', \n",
    "    color='BedrijfskenmerkenSBI2008', \n",
    "    tooltip=['Perioden', 'Ziekteverzuimpercentage_1', 'BedrijfskenmerkenSBI2008']\n",
    "    ).properties(title='Ziekteverzuimpercentage per kwartaal per bedrijfsgrootte')"
   ]
  },
  {
   "cell_type": "code",
   "execution_count": null,
   "metadata": {},
   "outputs": [],
   "source": [
    "alt.Chart(data=data_jaren).mark_trail().encode(\n",
    "    x='Perioden', \n",
    "    y='Ziekteverzuimpercentage_1', \n",
    "    color='BedrijfskenmerkenSBI2008', \n",
    "    tooltip=['Perioden', 'Ziekteverzuimpercentage_1', 'BedrijfskenmerkenSBI2008']\n",
    "    ).properties(title='Ziekteverzuimpercentage per jaar voor alle bedrijfskenmerken')"
   ]
  },
  {
   "cell_type": "code",
   "execution_count": null,
   "metadata": {},
   "outputs": [],
   "source": [
    "totaal_jaren = data_jaren['BedrijfskenmerkenSBI2008'].str.contains('A-U')"
   ]
  },
  {
   "cell_type": "code",
   "execution_count": null,
   "metadata": {},
   "outputs": [],
   "source": [
    "data_totaal_jaren = data_jaren[totaal_jaren]"
   ]
  },
  {
   "cell_type": "code",
   "execution_count": null,
   "metadata": {},
   "outputs": [],
   "source": [
    "alt.Chart(data=data_totaal_jaren).mark_trail().encode(\n",
    "    x='Perioden', \n",
    "    y='Ziekteverzuimpercentage_1', \n",
    "    color='BedrijfskenmerkenSBI2008', \n",
    "    tooltip=['Perioden', 'Ziekteverzuimpercentage_1', 'BedrijfskenmerkenSBI2008']\n",
    "    ).properties(title='Ziekteverzuimpercentage totaal per jaar')"
   ]
  },
  {
   "cell_type": "code",
   "execution_count": null,
   "metadata": {},
   "outputs": [],
   "source": [
    "totaal_kwartalen = data_kwartalen['BedrijfskenmerkenSBI2008'].str.contains('A-U')"
   ]
  },
  {
   "cell_type": "code",
   "execution_count": null,
   "metadata": {},
   "outputs": [],
   "source": [
    "data_totaal_kwartalen = data_kwartalen[totaal_kwartalen]"
   ]
  },
  {
   "cell_type": "code",
   "execution_count": null,
   "metadata": {},
   "outputs": [],
   "source": [
    "alt.Chart(data=data_totaal_kwartalen).mark_trail().encode(\n",
    "    x='Perioden', \n",
    "    y='Ziekteverzuimpercentage_1', \n",
    "    color='BedrijfskenmerkenSBI2008', \n",
    "    tooltip=['Perioden', 'Ziekteverzuimpercentage_1', 'BedrijfskenmerkenSBI2008']\n",
    "    ).properties(title='Ziekteverzuimpercentage totaal per kwartaal')"
   ]
  },
  {
   "cell_type": "code",
   "execution_count": null,
   "metadata": {},
   "outputs": [],
   "source": [
    "alt.Chart(data=data_kwartalen).mark_boxplot().encode(\n",
    "    x='BedrijfskenmerkenSBI2008', \n",
    "    y='Ziekteverzuimpercentage_1',\n",
    "    ).properties(title='Boxplot alle kwartalen (1996-2023)')"
   ]
  },
  {
   "cell_type": "code",
   "execution_count": null,
   "metadata": {},
   "outputs": [],
   "source": [
    "# X-as en Y-as omgedraaid, sorteren op mediaan lijkt nog niet te werken -> UITZOEKEN\n",
    "\n",
    "order = data_kwartalen.groupby('BedrijfskenmerkenSBI2008')['Ziekteverzuimpercentage_1'].median().sort_values(ascending=False).index.tolist()\n",
    "\n",
    "alt.Chart(data=data_kwartalen).mark_boxplot().encode(\n",
    "    x=alt.X('Ziekteverzuimpercentage_1', sort=order), \n",
    "    y='BedrijfskenmerkenSBI2008',\n",
    "    ).properties(title='Boxplot alle kwartalen (1996-2023)')"
   ]
  },
  {
   "cell_type": "code",
   "execution_count": null,
   "metadata": {},
   "outputs": [],
   "source": [
    "# ERROR NOG UITZOEKEN!\n",
    "\n",
    "order = data_kwartalen.groupby('BedrijfskenmerkenSBI2008')['Ziekteverzuimpercentage_1'].median().sort_values(ascending=False).index.tolist()\n",
    "\n",
    "data_kwartalen['BedrijfskenmerkenSBI2008'] = pd.Categorical(data_kwartalen['BedrijfskenmerkenSBI2008'], categories=order, ordered=True)\n",
    "\n",
    "selection = alt.selection_multi(fields=['BedrijfskenmerkenSBI2008'], bind='legend')\n",
    "\n",
    "# Create the boxplot with the sorted x-axis\n",
    "boxplot = alt.Chart(data_kwartalen).mark_boxplot().encode(\n",
    "    y=alt.Y('BedrijfskenmerkenSBI2008:O', title='Bedrijfskenmerken SBI 2008', sort=order),\n",
    "    x=alt.X('Ziekteverzuimpercentage_1:Q', title='Ziekteverzuimpercentage'),\n",
    "    color=alt.condition(selection, 'BedrijfskenmerkenSBI2008:N', alt.value('lightgray')),\n",
    "    opacity=alt.condition(selection, alt.value(1), alt.value(0.2))\n",
    ").properties(\n",
    "    title='Boxplot alle kwartalen (1996-2023)'\n",
    ").add_selection(\n",
    "    selection)\n",
    "\n",
    "# Display the plot\n",
    "boxplot.display()"
   ]
  },
  {
   "cell_type": "code",
   "execution_count": null,
   "metadata": {},
   "outputs": [],
   "source": [
    "kwartalen_2023 = data_kwartalen['Perioden'].str.contains('2023')\n",
    "data_kwartalen_2023 = data_kwartalen[kwartalen_2023]\n",
    "alt.Chart(data=data_kwartalen_2023).mark_boxplot().encode(\n",
    "    x='BedrijfskenmerkenSBI2008', \n",
    "    y='Ziekteverzuimpercentage_1',\n",
    "    ).properties(title='Boxplot kwartalen 2023')"
   ]
  },
  {
   "cell_type": "code",
   "execution_count": null,
   "metadata": {},
   "outputs": [],
   "source": [
    "kwartalen_2022 = data_kwartalen['Perioden'].str.contains('2022')\n",
    "data_kwartalen_2022 = data_kwartalen[kwartalen_2022]\n",
    "alt.Chart(data=data_kwartalen_2022).mark_boxplot().encode(\n",
    "    x='BedrijfskenmerkenSBI2008', \n",
    "    y='Ziekteverzuimpercentage_1',\n",
    "    ).properties(title='Boxplot kwartalen 2022')"
   ]
  },
  {
   "cell_type": "code",
   "execution_count": null,
   "metadata": {},
   "outputs": [],
   "source": [
    "kwartalen_2021 = data_kwartalen['Perioden'].str.contains('2021')\n",
    "data_kwartalen_2021 = data_kwartalen[kwartalen_2021]\n",
    "alt.Chart(data=data_kwartalen_2021).mark_boxplot().encode(\n",
    "    x='BedrijfskenmerkenSBI2008', \n",
    "    y='Ziekteverzuimpercentage_1',\n",
    "    ).properties(title='Boxplot kwartalen 2021')"
   ]
  },
  {
   "cell_type": "code",
   "execution_count": null,
   "metadata": {},
   "outputs": [],
   "source": [
    "kwartalen_2020 = data_kwartalen['Perioden'].str.contains('2020')\n",
    "data_kwartalen_2020 = data_kwartalen[kwartalen_2020]\n",
    "alt.Chart(data=data_kwartalen_2020).mark_boxplot().encode(\n",
    "    x='BedrijfskenmerkenSBI2008', \n",
    "    y='Ziekteverzuimpercentage_1',\n",
    "    ).properties(title='Boxplot kwartalen 2020')"
   ]
  }
 ],
 "metadata": {
  "kernelspec": {
   "display_name": ".venv",
   "language": "python",
   "name": "python3"
  },
  "language_info": {
   "codemirror_mode": {
    "name": "ipython",
    "version": 3
   },
   "file_extension": ".py",
   "mimetype": "text/x-python",
   "name": "python",
   "nbconvert_exporter": "python",
   "pygments_lexer": "ipython3",
   "version": "3.12.3"
  }
 },
 "nbformat": 4,
 "nbformat_minor": 2
}
