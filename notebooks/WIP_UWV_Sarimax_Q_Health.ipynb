{
 "cells": [
  {
   "cell_type": "code",
   "execution_count": 1,
   "metadata": {},
   "outputs": [],
   "source": [
    "# 0. Import the libraries\n",
    "import pandas as pd\n",
    "import numpy as np\n",
    "import statsmodels.api as sm\n",
    "import matplotlib.pyplot as plt\n",
    "import plotly.graph_objects as go\n",
    "from sklearn.metrics import mean_absolute_error\n",
    "from pmdarima import auto_arima\n",
    "from statsmodels.tsa.seasonal import seasonal_decompose"
   ]
  },
  {
   "cell_type": "code",
   "execution_count": 2,
   "metadata": {},
   "outputs": [],
   "source": [
    "# 1. Load the dataset\n",
    "file_path = r\"C:\\Users\\c.hakker\\OneDrive - VISTA college\\Senior Stuff\\Opleiding Data science\\Data\\merged_tables.csv\"\n",
    "df = pd.read_csv(file_path)"
   ]
  },
  {
   "cell_type": "code",
   "execution_count": 3,
   "metadata": {},
   "outputs": [],
   "source": [
    "# 2. Filter for the specific branch\n",
    "branch_name = 'Q Gezondheids- en welzijnszorg'\n",
    "df = df[df['BedrijfstakkenBranchesSBI2008'].str.strip().str.lower() == branch_name.strip().lower()]"
   ]
  },
  {
   "cell_type": "code",
   "execution_count": 4,
   "metadata": {},
   "outputs": [],
   "source": [
    "# 3. Verify and process the 'Year' and 'Quarter' columns\n",
    "if 'Year' not in df.columns or 'Quarter' not in df.columns:\n",
    "    raise KeyError(\"The 'Year' and 'Quarter' columns are required in the dataset.\")"
   ]
  },
  {
   "cell_type": "code",
   "execution_count": 5,
   "metadata": {},
   "outputs": [],
   "source": [
    "# 4. Create a 'Date' column\n",
    "df['Year'] = df['Year'].astype(int)\n",
    "df['Quarter'] = df['Quarter'].astype(int)\n",
    "df['Date'] = pd.PeriodIndex.from_fields(year=df['Year'], quarter=df['Quarter'], freq='Q').to_timestamp()"
   ]
  },
  {
   "cell_type": "code",
   "execution_count": 6,
   "metadata": {},
   "outputs": [],
   "source": [
    "# 5. Drop rows where 'Date' could not be created\n",
    "df = df.dropna(subset=['Date'])\n",
    "\n",
    "# Set 'Date' as the index for time-series analysis\n",
    "df.set_index('Date', inplace=True, drop=True)\n",
    "df = df.asfreq('QS')"
   ]
  },
  {
   "cell_type": "code",
   "execution_count": 7,
   "metadata": {},
   "outputs": [],
   "source": [
    "# 6. Define target variable\n",
    "target_column = '80072ned_Ziekteverzuimpercentage_1'"
   ]
  },
  {
   "cell_type": "code",
   "execution_count": 8,
   "metadata": {},
   "outputs": [
    {
     "name": "stdout",
     "output_type": "stream",
     "text": [
      "Outlier Replaced for Q1 2022:\n",
      " Date\n",
      "2022-01-01    7.65\n",
      "Freq: QS-JAN, Name: 80072ned_Ziekteverzuimpercentage_1, dtype: float64\n",
      "Smoothed COVID-era Data:\n",
      " Date\n",
      "2020-01-01    5.875\n",
      "2020-04-01    5.975\n",
      "2020-07-01    6.125\n",
      "2020-10-01    6.375\n",
      "2021-01-01    6.425\n",
      "2021-04-01    6.525\n",
      "2021-07-01    6.625\n",
      "2021-10-01    6.775\n",
      "Freq: QS-JAN, Name: 80072ned_Ziekteverzuimpercentage_1, dtype: float64\n"
     ]
    }
   ],
   "source": [
    "#Block 7: Handle Q1 2022 Outlier\n",
    "# Identify the outlier\n",
    "outlier_mask = (df['Year'] == 2022) & (df['Quarter'] == 1)\n",
    "\n",
    "# Replace outlier with a smoothed value using seasonal decomposition\n",
    "decomposition = seasonal_decompose(df[target_column].dropna(), model='additive', period=4)\n",
    "df.loc[outlier_mask, target_column] = decomposition.trend[outlier_mask].fillna(decomposition.seasonal[outlier_mask])\n",
    "\n",
    "# Debug: Confirm outlier replacement\n",
    "print(\"Outlier Replaced for Q1 2022:\\n\", df.loc[outlier_mask, target_column])\n",
    "\n",
    "# Apply smoothing for COVID-era data (2020-2021)\n",
    "covid_mask = (df['Year'] >= 2020) & (df['Year'] <= 2021)\n",
    "df.loc[covid_mask, target_column] = df[target_column].rolling(window=4, min_periods=1).mean()\n",
    "\n",
    "# Debug: Confirm smoothing for COVID-era\n",
    "print(\"Smoothed COVID-era Data:\\n\", df.loc[covid_mask, target_column])\n"
   ]
  },
  {
   "cell_type": "code",
   "execution_count": 9,
   "metadata": {},
   "outputs": [],
   "source": [
    "# %% Block 8: Split Training and Testing Data\n",
    "# Training for 2022 predictions: Data up to Q4 2021\n",
    "train_df_2022 = df[df['Year'] <= 2021]\n",
    "y_train_2022 = train_df_2022[target_column]\n",
    "\n",
    "# Training for 2023 predictions: Data up to Q4 2022\n",
    "train_df_2023 = df[df['Year'] <= 2022]\n",
    "y_train_2023 = train_df_2023[target_column]\n",
    "\n",
    "# Test data: Data from 2022 and 2023\n",
    "test_df = df[(df['Year'] > 2021) & (df['Year'] <= 2023)]\n",
    "y_test = test_df[target_column]\n"
   ]
  },
  {
   "cell_type": "code",
   "execution_count": 10,
   "metadata": {},
   "outputs": [
    {
     "name": "stdout",
     "output_type": "stream",
     "text": [
      "Performing auto_arima for 2022 parameter optimization...\n",
      "Performing stepwise search to minimize aic\n",
      " ARIMA(2,2,2)(1,0,1)[4]             : AIC=14.929, Time=1.37 sec\n",
      " ARIMA(0,2,0)(0,0,0)[4]             : AIC=130.190, Time=0.01 sec\n",
      " ARIMA(1,2,0)(1,0,0)[4]             : AIC=57.472, Time=0.26 sec\n",
      " ARIMA(0,2,1)(0,0,1)[4]             : AIC=inf, Time=0.61 sec\n",
      " ARIMA(2,2,2)(0,0,1)[4]             : AIC=24.683, Time=1.73 sec\n",
      " ARIMA(2,2,2)(1,0,0)[4]             : AIC=inf, Time=1.33 sec\n",
      " ARIMA(2,2,2)(2,0,1)[4]             : AIC=16.828, Time=1.90 sec\n",
      " ARIMA(2,2,2)(1,0,2)[4]             : AIC=16.941, Time=1.68 sec\n",
      " ARIMA(2,2,2)(0,0,0)[4]             : AIC=22.780, Time=0.49 sec\n",
      " ARIMA(2,2,2)(0,0,2)[4]             : AIC=24.810, Time=1.08 sec\n",
      " ARIMA(2,2,2)(2,0,0)[4]             : AIC=17.105, Time=1.78 sec\n",
      " ARIMA(2,2,2)(2,0,2)[4]             : AIC=22.144, Time=2.10 sec\n",
      " ARIMA(1,2,2)(1,0,1)[4]             : AIC=inf, Time=1.54 sec\n",
      " ARIMA(2,2,1)(1,0,1)[4]             : AIC=14.896, Time=1.20 sec\n",
      " ARIMA(2,2,1)(0,0,1)[4]             : AIC=33.923, Time=0.74 sec\n",
      " ARIMA(2,2,1)(1,0,0)[4]             : AIC=inf, Time=1.44 sec\n",
      " ARIMA(2,2,1)(2,0,1)[4]             : AIC=16.726, Time=1.49 sec\n",
      " ARIMA(2,2,1)(1,0,2)[4]             : AIC=inf, Time=1.57 sec\n",
      " ARIMA(2,2,1)(0,0,0)[4]             : AIC=33.523, Time=0.35 sec\n",
      " ARIMA(2,2,1)(0,0,2)[4]             : AIC=29.187, Time=0.82 sec\n",
      " ARIMA(2,2,1)(2,0,0)[4]             : AIC=inf, Time=1.40 sec\n",
      " ARIMA(2,2,1)(2,0,2)[4]             : AIC=inf, Time=2.16 sec\n",
      " ARIMA(1,2,1)(1,0,1)[4]             : AIC=inf, Time=0.64 sec\n",
      " ARIMA(2,2,0)(1,0,1)[4]             : AIC=40.674, Time=0.54 sec\n",
      " ARIMA(3,2,1)(1,0,1)[4]             : AIC=12.352, Time=1.51 sec\n",
      " ARIMA(3,2,1)(0,0,1)[4]             : AIC=10.281, Time=0.88 sec\n",
      " ARIMA(3,2,1)(0,0,0)[4]             : AIC=11.800, Time=0.55 sec\n",
      " ARIMA(3,2,1)(0,0,2)[4]             : AIC=11.788, Time=1.20 sec\n",
      " ARIMA(3,2,1)(1,0,0)[4]             : AIC=10.253, Time=1.23 sec\n",
      " ARIMA(3,2,1)(2,0,0)[4]             : AIC=11.856, Time=1.58 sec\n",
      " ARIMA(3,2,1)(2,0,1)[4]             : AIC=14.007, Time=1.64 sec\n",
      " ARIMA(3,2,0)(1,0,0)[4]             : AIC=19.721, Time=0.99 sec\n",
      " ARIMA(3,2,2)(1,0,0)[4]             : AIC=11.956, Time=1.10 sec\n",
      " ARIMA(2,2,0)(1,0,0)[4]             : AIC=40.852, Time=0.43 sec\n",
      " ARIMA(3,2,1)(1,0,0)[4] intercept   : AIC=10.791, Time=1.44 sec\n",
      "\n",
      "Best model:  ARIMA(3,2,1)(1,0,0)[4]          \n",
      "Total fit time: 40.892 seconds\n",
      "Optimal Parameters for 2022: order=(3, 2, 1), seasonal_order=(1, 0, 0, 4)\n",
      "Performing auto_arima for 2023 parameter optimization...\n",
      "Performing stepwise search to minimize aic\n",
      " ARIMA(2,1,2)(1,1,1)[4]             : AIC=16.878, Time=1.11 sec\n",
      " ARIMA(0,1,0)(0,1,0)[4]             : AIC=34.404, Time=0.02 sec\n",
      " ARIMA(1,1,0)(1,1,0)[4]             : AIC=23.937, Time=0.17 sec\n",
      " ARIMA(0,1,1)(0,1,1)[4]             : AIC=14.438, Time=0.33 sec\n",
      " ARIMA(0,1,1)(0,1,0)[4]             : AIC=21.148, Time=0.07 sec\n",
      " ARIMA(0,1,1)(1,1,1)[4]             : AIC=15.958, Time=0.35 sec\n",
      " ARIMA(0,1,1)(0,1,2)[4]             : AIC=15.854, Time=0.38 sec\n",
      " ARIMA(0,1,1)(1,1,0)[4]             : AIC=18.339, Time=0.24 sec\n",
      " ARIMA(0,1,1)(1,1,2)[4]             : AIC=inf, Time=1.38 sec\n",
      " ARIMA(0,1,0)(0,1,1)[4]             : AIC=22.678, Time=0.05 sec\n",
      " ARIMA(1,1,1)(0,1,1)[4]             : AIC=16.433, Time=0.13 sec\n",
      " ARIMA(0,1,2)(0,1,1)[4]             : AIC=16.424, Time=0.10 sec\n",
      " ARIMA(1,1,0)(0,1,1)[4]             : AIC=19.071, Time=0.12 sec\n",
      " ARIMA(1,1,2)(0,1,1)[4]             : AIC=14.899, Time=0.16 sec\n",
      " ARIMA(0,1,1)(0,1,1)[4] intercept   : AIC=11.539, Time=0.25 sec\n",
      " ARIMA(0,1,1)(0,1,0)[4] intercept   : AIC=21.146, Time=0.05 sec\n",
      " ARIMA(0,1,1)(1,1,1)[4] intercept   : AIC=11.476, Time=0.25 sec\n",
      " ARIMA(0,1,1)(1,1,0)[4] intercept   : AIC=17.997, Time=0.07 sec\n",
      " ARIMA(0,1,1)(2,1,1)[4] intercept   : AIC=13.362, Time=1.40 sec\n",
      " ARIMA(0,1,1)(1,1,2)[4] intercept   : AIC=13.391, Time=0.88 sec\n",
      " ARIMA(0,1,1)(0,1,2)[4] intercept   : AIC=11.448, Time=0.45 sec\n",
      " ARIMA(0,1,0)(0,1,2)[4] intercept   : AIC=23.811, Time=0.10 sec\n",
      " ARIMA(1,1,1)(0,1,2)[4] intercept   : AIC=13.290, Time=0.37 sec\n",
      " ARIMA(0,1,2)(0,1,2)[4] intercept   : AIC=13.102, Time=0.32 sec\n",
      " ARIMA(1,1,0)(0,1,2)[4] intercept   : AIC=18.979, Time=0.14 sec\n",
      " ARIMA(1,1,2)(0,1,2)[4] intercept   : AIC=12.099, Time=0.39 sec\n",
      "\n",
      "Best model:  ARIMA(0,1,1)(0,1,2)[4] intercept\n",
      "Total fit time: 9.316 seconds\n",
      "Optimal Parameters for 2023: order=(0, 1, 1), seasonal_order=(0, 1, 2, 4)\n"
     ]
    }
   ],
   "source": [
    "# %% Block 9: Optimize SARIMAX Parameters for 2022\n",
    "print(\"Performing auto_arima for 2022 parameter optimization...\")\n",
    "auto_model_2022 = auto_arima(\n",
    "    y_train_2022,\n",
    "    seasonal=True,\n",
    "    m=4,  # Quarterly data\n",
    "    trace=True,\n",
    "    error_action='ignore',\n",
    "    suppress_warnings=True,\n",
    "    stepwise=True\n",
    ")\n",
    "\n",
    "best_order_2022 = auto_model_2022.order\n",
    "best_seasonal_order_2022 = auto_model_2022.seasonal_order\n",
    "print(f\"Optimal Parameters for 2022: order={best_order_2022}, seasonal_order={best_seasonal_order_2022}\")\n",
    "\n",
    "# %% Block 9.1: Optimize SARIMAX Parameters for 2023\n",
    "print(\"Performing auto_arima for 2023 parameter optimization...\")\n",
    "auto_model_2023 = auto_arima(\n",
    "    y_train_2023,\n",
    "    seasonal=True,\n",
    "    m=4,  # Quarterly data\n",
    "    trace=True,\n",
    "    error_action='ignore',\n",
    "    suppress_warnings=True,\n",
    "    stepwise=True\n",
    ")\n",
    "\n",
    "best_order_2023 = auto_model_2023.order\n",
    "best_seasonal_order_2023 = auto_model_2023.seasonal_order\n",
    "print(f\"Optimal Parameters for 2023: order={best_order_2023}, seasonal_order={best_seasonal_order_2023}\")"
   ]
  },
  {
   "cell_type": "code",
   "execution_count": 11,
   "metadata": {},
   "outputs": [
    {
     "name": "stdout",
     "output_type": "stream",
     "text": [
      "Fitting SARIMAX model for 2022 predictions...\n"
     ]
    }
   ],
   "source": [
    "# Block 10: Fit SARIMAX for 2022 Predictions\n",
    "print(\"Fitting SARIMAX model for 2022 predictions...\")\n",
    "model_2022 = sm.tsa.SARIMAX(\n",
    "    y_train_2022,\n",
    "    order=best_order_2022,\n",
    "    seasonal_order=best_seasonal_order_2022,\n",
    "    enforce_stationarity=False,\n",
    "    enforce_invertibility=False\n",
    ")\n",
    "results_2022 = model_2022.fit(disp=False)\n",
    "\n",
    "# Predict for 2022\n",
    "forecast_2022 = results_2022.get_forecast(steps=4)  # 4 quarters of 2022\n",
    "y_pred_2022 = forecast_2022.predicted_mean"
   ]
  },
  {
   "cell_type": "code",
   "execution_count": 12,
   "metadata": {},
   "outputs": [
    {
     "name": "stdout",
     "output_type": "stream",
     "text": [
      "Fitting SARIMAX model for 2023 predictions...\n",
      "Predictions for 2023:\n",
      " 2023-01-01    8.341107\n",
      "2023-04-01    8.120478\n",
      "2023-07-01    7.876359\n",
      "2023-10-01    8.530485\n",
      "Freq: QS-JAN, Name: predicted_mean, dtype: float64\n"
     ]
    }
   ],
   "source": [
    "# Block 11: Fit SARIMAX for 2023 Predictions\n",
    "print(\"Fitting SARIMAX model for 2023 predictions...\")\n",
    "model_2023 = sm.tsa.SARIMAX(\n",
    "    y_train_2023,  # Training data up to Q4 2022\n",
    "    order=(0, 1, 1),  # Optimal order from auto_arima\n",
    "    seasonal_order=(0, 1, 2, 4),  # Optimal seasonal order from auto_arima\n",
    "    enforce_stationarity=False,\n",
    "    enforce_invertibility=False\n",
    ")\n",
    "results_2023 = model_2023.fit(disp=False)\n",
    "\n",
    "# Predict for 2023\n",
    "forecast_2023 = results_2023.get_forecast(steps=4)  # 4 quarters of 2023\n",
    "y_pred_2023 = forecast_2023.predicted_mean\n",
    "\n",
    "# Debug: Print predictions for 2023\n",
    "print(\"Predictions for 2023:\\n\", y_pred_2023)\n"
   ]
  },
  {
   "cell_type": "code",
   "execution_count": 13,
   "metadata": {},
   "outputs": [],
   "source": [
    "forecast_steps = len(y_test)  # Exclude additional steps beyond 2023"
   ]
  },
  {
   "cell_type": "code",
   "execution_count": 14,
   "metadata": {},
   "outputs": [
    {
     "name": "stdout",
     "output_type": "stream",
     "text": [
      "Unique Years in y_test: Index([2022, 2023], dtype='int32', name='Date')\n"
     ]
    }
   ],
   "source": [
    "# 12. Debugging Test Data\n",
    "print(\"Unique Years in y_test:\", y_test.index.year.unique())\n"
   ]
  },
  {
   "cell_type": "code",
   "execution_count": 15,
   "metadata": {},
   "outputs": [
    {
     "name": "stdout",
     "output_type": "stream",
     "text": [
      "MAE for Q1 2022: 0.7907\n",
      "MAE for all quarters of 2022: 0.5360\n",
      "MAE for Q1 2023: 0.2411\n",
      "MAE for all quarters of 2023: 0.8421\n"
     ]
    }
   ],
   "source": [
    "# %% Block 13: Calculate MAE for 2022 and 2023\n",
    "\n",
    "# Create masks for 2022\n",
    "q1_2022_mask = (y_test.index.year == 2022) & (y_test.index.quarter == 1)\n",
    "all_2022_mask = y_test.index.year == 2022\n",
    "\n",
    "# Align the masks with the prediction index for 2022\n",
    "q1_2022_mask_pred = y_pred_2022.index.quarter == 1\n",
    "all_2022_mask_pred = y_pred_2022.index.year == 2022\n",
    "\n",
    "# Calculate MAE for Q1 2022\n",
    "mae_q1_2022 = mean_absolute_error(\n",
    "    y_test[q1_2022_mask].dropna(),\n",
    "    y_pred_2022[q1_2022_mask_pred].dropna()\n",
    ")\n",
    "\n",
    "# Calculate MAE for all quarters of 2022\n",
    "mae_all_2022 = mean_absolute_error(\n",
    "    y_test[all_2022_mask].dropna(),\n",
    "    y_pred_2022[all_2022_mask_pred].dropna()\n",
    ")\n",
    "\n",
    "# Create masks for 2023\n",
    "q1_2023_mask = (y_test.index.year == 2023) & (y_test.index.quarter == 1)\n",
    "all_2023_mask = y_test.index.year == 2023\n",
    "\n",
    "# Align the masks with the prediction index for 2023\n",
    "q1_2023_mask_pred = y_pred_2023.index.quarter == 1\n",
    "all_2023_mask_pred = y_pred_2023.index.year == 2023\n",
    "\n",
    "# Calculate MAE for Q1 2023\n",
    "mae_q1_2023 = mean_absolute_error(\n",
    "    y_test[q1_2023_mask].dropna(),\n",
    "    y_pred_2023[q1_2023_mask_pred].dropna()\n",
    ")\n",
    "\n",
    "# Calculate MAE for all quarters of 2023\n",
    "mae_all_2023 = mean_absolute_error(\n",
    "    y_test[all_2023_mask].dropna(),\n",
    "    y_pred_2023[all_2023_mask_pred].dropna()\n",
    ")\n",
    "\n",
    "# Print results\n",
    "print(f\"MAE for Q1 2022: {mae_q1_2022:.4f}\")\n",
    "print(f\"MAE for all quarters of 2022: {mae_all_2022:.4f}\")\n",
    "print(f\"MAE for Q1 2023: {mae_q1_2023:.4f}\")\n",
    "print(f\"MAE for all quarters of 2023: {mae_all_2023:.4f}\")\n"
   ]
  },
  {
   "cell_type": "code",
   "execution_count": 16,
   "metadata": {},
   "outputs": [
    {
     "ename": "NameError",
     "evalue": "name 'y_pred_test' is not defined",
     "output_type": "error",
     "traceback": [
      "\u001b[1;31m---------------------------------------------------------------------------\u001b[0m",
      "\u001b[1;31mNameError\u001b[0m                                 Traceback (most recent call last)",
      "Cell \u001b[1;32mIn[16], line 16\u001b[0m\n\u001b[0;32m      5\u001b[0m fig\u001b[38;5;241m.\u001b[39madd_trace(go\u001b[38;5;241m.\u001b[39mScatter(\n\u001b[0;32m      6\u001b[0m     x\u001b[38;5;241m=\u001b[39my_test\u001b[38;5;241m.\u001b[39mindex,\n\u001b[0;32m      7\u001b[0m     y\u001b[38;5;241m=\u001b[39my_test,\n\u001b[1;32m   (...)\u001b[0m\n\u001b[0;32m     10\u001b[0m     line\u001b[38;5;241m=\u001b[39m\u001b[38;5;28mdict\u001b[39m(color\u001b[38;5;241m=\u001b[39m\u001b[38;5;124m'\u001b[39m\u001b[38;5;124m#0078d2\u001b[39m\u001b[38;5;124m'\u001b[39m, width\u001b[38;5;241m=\u001b[39m\u001b[38;5;241m2\u001b[39m)\n\u001b[0;32m     11\u001b[0m ))\n\u001b[0;32m     13\u001b[0m \u001b[38;5;66;03m# Add predictions line for test period\u001b[39;00m\n\u001b[0;32m     14\u001b[0m fig\u001b[38;5;241m.\u001b[39madd_trace(go\u001b[38;5;241m.\u001b[39mScatter(\n\u001b[0;32m     15\u001b[0m     x\u001b[38;5;241m=\u001b[39my_test\u001b[38;5;241m.\u001b[39mindex,\n\u001b[1;32m---> 16\u001b[0m     y\u001b[38;5;241m=\u001b[39m\u001b[43my_pred_test\u001b[49m,\n\u001b[0;32m     17\u001b[0m     mode\u001b[38;5;241m=\u001b[39m\u001b[38;5;124m'\u001b[39m\u001b[38;5;124mlines+markers\u001b[39m\u001b[38;5;124m'\u001b[39m,\n\u001b[0;32m     18\u001b[0m     name\u001b[38;5;241m=\u001b[39m\u001b[38;5;124m'\u001b[39m\u001b[38;5;124mPredictions\u001b[39m\u001b[38;5;124m'\u001b[39m,\n\u001b[0;32m     19\u001b[0m     line\u001b[38;5;241m=\u001b[39m\u001b[38;5;28mdict\u001b[39m(color\u001b[38;5;241m=\u001b[39m\u001b[38;5;124m'\u001b[39m\u001b[38;5;124morange\u001b[39m\u001b[38;5;124m'\u001b[39m, width\u001b[38;5;241m=\u001b[39m\u001b[38;5;241m2\u001b[39m, dash\u001b[38;5;241m=\u001b[39m\u001b[38;5;124m'\u001b[39m\u001b[38;5;124mdash\u001b[39m\u001b[38;5;124m'\u001b[39m)\n\u001b[0;32m     20\u001b[0m ))\n\u001b[0;32m     22\u001b[0m \u001b[38;5;66;03m# Add MAE values as annotations\u001b[39;00m\n\u001b[0;32m     23\u001b[0m fig\u001b[38;5;241m.\u001b[39madd_annotation(\n\u001b[0;32m     24\u001b[0m     xref\u001b[38;5;241m=\u001b[39m\u001b[38;5;124m\"\u001b[39m\u001b[38;5;124mpaper\u001b[39m\u001b[38;5;124m\"\u001b[39m, yref\u001b[38;5;241m=\u001b[39m\u001b[38;5;124m\"\u001b[39m\u001b[38;5;124mpaper\u001b[39m\u001b[38;5;124m\"\u001b[39m, x\u001b[38;5;241m=\u001b[39m\u001b[38;5;241m0.00\u001b[39m, y\u001b[38;5;241m=\u001b[39m\u001b[38;5;241m1.05\u001b[39m, showarrow\u001b[38;5;241m=\u001b[39m\u001b[38;5;28;01mFalse\u001b[39;00m,\n\u001b[0;32m     25\u001b[0m     text\u001b[38;5;241m=\u001b[39m\u001b[38;5;124mf\u001b[39m\u001b[38;5;124m\"\u001b[39m\u001b[38;5;124mMAE Q1 2022: \u001b[39m\u001b[38;5;132;01m{\u001b[39;00m\u001b[38;5;124mf\u001b[39m\u001b[38;5;124m'\u001b[39m\u001b[38;5;132;01m{\u001b[39;00mmae_q1_2022\u001b[38;5;132;01m:\u001b[39;00m\u001b[38;5;124m.4f\u001b[39m\u001b[38;5;132;01m}\u001b[39;00m\u001b[38;5;124m'\u001b[39m\u001b[38;5;250m \u001b[39m\u001b[38;5;28;01mif\u001b[39;00m\u001b[38;5;250m \u001b[39mmae_q1_2022\u001b[38;5;250m \u001b[39m\u001b[38;5;129;01mis\u001b[39;00m\u001b[38;5;250m \u001b[39m\u001b[38;5;129;01mnot\u001b[39;00m\u001b[38;5;250m \u001b[39m\u001b[38;5;28;01mNone\u001b[39;00m\u001b[38;5;250m \u001b[39m\u001b[38;5;28;01melse\u001b[39;00m\u001b[38;5;250m \u001b[39m\u001b[38;5;124m'\u001b[39m\u001b[38;5;124mN/A\u001b[39m\u001b[38;5;124m'\u001b[39m\u001b[38;5;132;01m}\u001b[39;00m\u001b[38;5;124m, \u001b[39m\u001b[38;5;124m\"\u001b[39m\n\u001b[0;32m     26\u001b[0m          \u001b[38;5;124mf\u001b[39m\u001b[38;5;124m\"\u001b[39m\u001b[38;5;124mMAE All 2022: \u001b[39m\u001b[38;5;132;01m{\u001b[39;00m\u001b[38;5;124mf\u001b[39m\u001b[38;5;124m'\u001b[39m\u001b[38;5;132;01m{\u001b[39;00mmae_all_2022\u001b[38;5;132;01m:\u001b[39;00m\u001b[38;5;124m.4f\u001b[39m\u001b[38;5;132;01m}\u001b[39;00m\u001b[38;5;124m'\u001b[39m\u001b[38;5;250m \u001b[39m\u001b[38;5;28;01mif\u001b[39;00m\u001b[38;5;250m \u001b[39mmae_all_2022\u001b[38;5;250m \u001b[39m\u001b[38;5;129;01mis\u001b[39;00m\u001b[38;5;250m \u001b[39m\u001b[38;5;129;01mnot\u001b[39;00m\u001b[38;5;250m \u001b[39m\u001b[38;5;28;01mNone\u001b[39;00m\u001b[38;5;250m \u001b[39m\u001b[38;5;28;01melse\u001b[39;00m\u001b[38;5;250m \u001b[39m\u001b[38;5;124m'\u001b[39m\u001b[38;5;124mN/A\u001b[39m\u001b[38;5;124m'\u001b[39m\u001b[38;5;132;01m}\u001b[39;00m\u001b[38;5;124m\"\u001b[39m,\n\u001b[0;32m     27\u001b[0m     font\u001b[38;5;241m=\u001b[39m\u001b[38;5;28mdict\u001b[39m(size\u001b[38;5;241m=\u001b[39m\u001b[38;5;241m12\u001b[39m, color\u001b[38;5;241m=\u001b[39m\u001b[38;5;124m\"\u001b[39m\u001b[38;5;124mblack\u001b[39m\u001b[38;5;124m\"\u001b[39m)\n\u001b[0;32m     28\u001b[0m )\n",
      "\u001b[1;31mNameError\u001b[0m: name 'y_pred_test' is not defined"
     ]
    }
   ],
   "source": [
    "# Visualization for 2022 & 2023 Predictions\n",
    "fig = go.Figure()\n",
    "\n",
    "# Add actual sick leave percentage line (test data)\n",
    "fig.add_trace(go.Scatter(\n",
    "    x=y_test.index,\n",
    "    y=y_test,\n",
    "    mode='lines+markers',\n",
    "    name='Actual',\n",
    "    line=dict(color='#0078d2', width=2)\n",
    "))\n",
    "\n",
    "# Add predictions line for test period\n",
    "fig.add_trace(go.Scatter(\n",
    "    x=y_test.index,\n",
    "    y=y_pred_test,\n",
    "    mode='lines+markers',\n",
    "    name='Predictions',\n",
    "    line=dict(color='orange', width=2, dash='dash')\n",
    "))\n",
    "\n",
    "# Add MAE values as annotations\n",
    "fig.add_annotation(\n",
    "    xref=\"paper\", yref=\"paper\", x=0.00, y=1.05, showarrow=False,\n",
    "    text=f\"MAE Q1 2022: {f'{mae_q1_2022:.4f}' if mae_q1_2022 is not None else 'N/A'}, \"\n",
    "         f\"MAE All 2022: {f'{mae_all_2022:.4f}' if mae_all_2022 is not None else 'N/A'}\",\n",
    "    font=dict(size=12, color=\"black\")\n",
    ")\n",
    "fig.add_annotation(\n",
    "    xref=\"paper\", yref=\"paper\", x=0.00, y=1.00, showarrow=False,\n",
    "    text=f\"MAE Q1 2023: {f'{mae_q1_2023:.4f}' if mae_q1_2023 is not None else 'N/A'}, \"\n",
    "         f\"MAE All 2023: {f'{mae_all_2023:.4f}' if mae_all_2023 is not None else 'N/A'}\",\n",
    "    font=dict(size=12, color=\"black\")\n",
    ")\n",
    "\n",
    "# Set layout and design for better visualization\n",
    "fig.update_layout(\n",
    "    title=f'Sick Leave Predictions (2022-2023) - {branch_name}',\n",
    "    xaxis_title='Date',\n",
    "    yaxis_title='Sick Leave Percentage',\n",
    "    plot_bgcolor='white',\n",
    "    xaxis=dict(\n",
    "        showgrid=False,\n",
    "        tickformat=\"%Y-%m\",\n",
    "        range=[y_test.index.min(), \"2023-12-31\"]  # Restrict to 2023\n",
    "    ),\n",
    "    yaxis=dict(\n",
    "        showgrid=True, gridcolor='lightgrey', showline=True, linewidth=0.5, linecolor='black'\n",
    "    ),\n",
    "    legend=dict(\n",
    "        x=0.91, y=1.1, traceorder=\"normal\"\n",
    "    ),\n",
    "    font=dict(family=\"Roboto\", size=14),\n",
    "    margin=dict(l=50, r=50, t=80, b=50),\n",
    "    width=1100, height=500\n",
    ")\n",
    "\n",
    "# Show Plot\n",
    "fig.show()\n",
    "\n",
    "# Optionally Save Plot as HTML\n",
    "fig.write_html(\"C:/Users/c.hakker/Downloads/Sick_leave_predict_2022_2023_Q_Healthcare.html\")\n",
    "\n"
   ]
  },
  {
   "cell_type": "code",
   "execution_count": 17,
   "metadata": {},
   "outputs": [
    {
     "name": "stdout",
     "output_type": "stream",
     "text": [
      "Residuals for 2023:\n",
      " Date\n",
      "2023-01-01    1.002301\n",
      "2023-04-01   -0.314767\n",
      "2023-07-01   -0.871497\n",
      "2023-10-01   -0.040314\n",
      "Freq: QS-JAN, dtype: float64\n"
     ]
    }
   ],
   "source": [
    "residuals = y_test - y_pred_test\n",
    "print(\"Residuals for 2023:\\n\", residuals[y_test.index.year == 2023])"
   ]
  }
 ],
 "metadata": {
  "kernelspec": {
   "display_name": ".venv",
   "language": "python",
   "name": "python3"
  },
  "language_info": {
   "codemirror_mode": {
    "name": "ipython",
    "version": 3
   },
   "file_extension": ".py",
   "mimetype": "text/x-python",
   "name": "python",
   "nbconvert_exporter": "python",
   "pygments_lexer": "ipython3",
   "version": "3.12.3"
  }
 },
 "nbformat": 4,
 "nbformat_minor": 2
}
