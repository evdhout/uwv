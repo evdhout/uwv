{
 "cells": [
  {
   "cell_type": "code",
   "execution_count": 1,
   "metadata": {},
   "outputs": [],
   "source": [
    "import pandas as pd\n",
    "import numpy as np\n",
    "import matplotlib.pyplot as plt\n",
    "from statsmodels.tsa.holtwinters import ExponentialSmoothing\n",
    "from sklearn.metrics import mean_squared_error, mean_absolute_error\n",
    "from itertools import product\n",
    "from statsmodels.tsa.statespace.sarimax import SARIMAX\n",
    "from statsmodels.tools.eval_measures import rmse\n",
    "from pmdarima import auto_arima"
   ]
  },
  {
   "cell_type": "code",
   "execution_count": null,
   "metadata": {},
   "outputs": [],
   "source": [
    "# Load the data\n",
    "from uwv.config import CBS80072NED, CBS_OPENDATA_PROCESSED_DATA_DIR, OUTPUT_DIR\n",
    "\n",
    "cbs = pd.read_parquet(CBS_OPENDATA_PROCESSED_DATA_DIR / f\"{CBS80072NED}.parquet\")"
   ]
  },
  {
   "cell_type": "code",
   "execution_count": 3,
   "metadata": {},
   "outputs": [],
   "source": [
    "# Data Preprocessing\n",
    "# Filter out rows where 'period_quarter_number' is 0\n",
    "cbs = cbs[cbs['period_quarter_number'] != 0]"
   ]
  },
  {
   "cell_type": "code",
   "execution_count": 4,
   "metadata": {},
   "outputs": [],
   "source": [
    "# Map quarters to months and create the 'date' column\n",
    "cbs['month'] = cbs['period_quarter_number'].map({1: 1, 2: 4, 3: 7, 4: 10})\n",
    "cbs['date'] = pd.to_datetime({'year': cbs['period_year'], 'month': cbs['month'], 'day': 1})"
   ]
  },
  {
   "cell_type": "code",
   "execution_count": 5,
   "metadata": {},
   "outputs": [],
   "source": [
    "# Set this new 'date' column as the index\n",
    "cbs.set_index('date', inplace=True)"
   ]
  },
  {
   "cell_type": "code",
   "execution_count": 6,
   "metadata": {},
   "outputs": [],
   "source": [
    "# Filter data based on 'sbi_title'\n",
    "sbi_code = 'T001081'  # Example: A-U Alle economische activiteiten\n",
    "filtered_cbs = cbs[cbs['sbi'] == sbi_code]"
   ]
  },
  {
   "cell_type": "code",
   "execution_count": 7,
   "metadata": {},
   "outputs": [],
   "source": [
    "# Filter the data to include only dates from 2008 to 2023\n",
    "filtered_cbs = filtered_cbs.loc['2008-01-01':'2023-12-31']"
   ]
  },
  {
   "cell_type": "code",
   "execution_count": 8,
   "metadata": {},
   "outputs": [],
   "source": [
    "# Set the frequency to quarterly\n",
    "filtered_cbs.index.freq = 'QS'"
   ]
  },
  {
   "cell_type": "code",
   "execution_count": 9,
   "metadata": {},
   "outputs": [],
   "source": [
    "# Drop any NaN values to clean the dataset\n",
    "filtered_cbs = filtered_cbs.dropna()"
   ]
  },
  {
   "cell_type": "code",
   "execution_count": 10,
   "metadata": {},
   "outputs": [],
   "source": [
    "# Ensure the 'sick_leave_percentage' column is in the correct format\n",
    "filtered_cbs['sick_leave_percentage'] = filtered_cbs['sick_leave_percentage'].astype(float)"
   ]
  },
  {
   "cell_type": "code",
   "execution_count": null,
   "metadata": {},
   "outputs": [],
   "source": [
    "# Plotting Sick Leave Percentage\n",
    "filtered_cbs['sick_leave_percentage'].plot(figsize=(16,5), title='Sick Leave Percentage')\n",
    "plt.show()"
   ]
  },
  {
   "cell_type": "code",
   "execution_count": null,
   "metadata": {},
   "outputs": [],
   "source": [
    "# Seasonal Decomposition\n",
    "from statsmodels.tsa.seasonal import seasonal_decompose\n",
    "result = seasonal_decompose(filtered_cbs['sick_leave_percentage'], model='multiplicative')\n",
    "result.plot()\n",
    "plt.show()\n",
    "\n",
    "result.seasonal.plot(figsize=(18,5), title='Seasonal Component of Sick Leave Percentage')\n",
    "plt.show()"
   ]
  },
  {
   "cell_type": "code",
   "execution_count": 13,
   "metadata": {},
   "outputs": [],
   "source": [
    "# Define Training and Test Sets\n",
    "train = filtered_cbs.iloc[:-8]  # Use all but the last 8 quarters for training\n",
    "test = filtered_cbs.iloc[-8:]   # Use the last 8 quarters for testing"
   ]
  },
  {
   "cell_type": "code",
   "execution_count": null,
   "metadata": {},
   "outputs": [],
   "source": [
    "\n",
    "# Auto ARIMA Suggestion\n",
    "auto_arima(train['sick_leave_percentage'], seasonal=True, m=4).summary()"
   ]
  },
  {
   "cell_type": "code",
   "execution_count": 15,
   "metadata": {},
   "outputs": [],
   "source": [
    "# Define the Function to Find the Best SARIMAX Model\n",
    "def find_best_sarimax(train, p_values, d_values, q_values, P_values, D_values, Q_values, m):\n",
    "    best_aic = float(\"inf\")\n",
    "    best_order = None\n",
    "    best_seasonal_order = None\n",
    "    best_model = None"
   ]
  },
  {
   "cell_type": "code",
   "execution_count": 16,
   "metadata": {},
   "outputs": [],
   "source": [
    "# Define the Function to Find the Best SARIMAX Model\n",
    "def find_best_sarimax(train, p_values, d_values, q_values, P_values, D_values, Q_values, m):\n",
    "    best_aic = float(\"inf\")\n",
    "    best_order = None\n",
    "    best_seasonal_order = None\n",
    "    best_model = None\n",
    "\n",
    "    # Iterate over all combinations of (p, d, q) and (P, D, Q)\n",
    "    for p, d, q in product(p_values, d_values, q_values):\n",
    "        for P, D, Q in product(P_values, D_values, Q_values):\n",
    "            try:\n",
    "                # Define the SARIMAX model\n",
    "                model = SARIMAX(\n",
    "                    train,\n",
    "                    order=(p, d, q),\n",
    "                    seasonal_order=(P, D, Q, m),\n",
    "                    enforce_stationarity=False,\n",
    "                    enforce_invertibility=False\n",
    "                )\n",
    "                \n",
    "                # Fit the model\n",
    "                results = model.fit(disp=False)\n",
    "                \n",
    "                # Check if the current model has the best AIC\n",
    "                if results.aic < best_aic:\n",
    "                    best_aic = results.aic\n",
    "                    best_order = (p, d, q)\n",
    "                    best_seasonal_order = (P, D, Q, m)\n",
    "                    best_model = results\n",
    "            except Exception as e:\n",
    "                # Handle any errors during fitting\n",
    "                print(f\"Error with order {(p, d, q)} and seasonal order {(P, D, Q, m)}: {e}\")\n",
    "                continue\n",
    "\n",
    "    print(f\"Best SARIMAX order: {best_order}, seasonal order: {best_seasonal_order}, AIC: {best_aic}\")\n",
    "    return best_model\n",
    "\n",
    "# Define ranges for the parameters\n",
    "p = range(0, 3)     # p-values range from 0 to 2\n",
    "d = range(0, 2)     # d-values range from 0 to 1\n",
    "q = range(0, 3)     # q-values range from 0 to 2\n",
    "P = range(0, 3)     # Seasonal P-values range from 0 to 2\n",
    "D = range(0, 2)     # Seasonal D-values range from 0 to 1\n",
    "Q = range(0, 3)     # Seasonal Q-values range from 0 to 2\n",
    "m = 4               # Seasonal period is 4 (quarterly data)"
   ]
  },
  {
   "cell_type": "code",
   "execution_count": null,
   "metadata": {},
   "outputs": [],
   "source": [
    "# Find the Best Model\n",
    "best_model = find_best_sarimax(train['sick_leave_percentage'], p, d, q, P, D, Q, m)"
   ]
  },
  {
   "cell_type": "code",
   "execution_count": 18,
   "metadata": {},
   "outputs": [],
   "source": [
    "# Evaluate the best model on the test set\n",
    "start = len(train)\n",
    "end = len(train) + len(test) - 1\n",
    "predictions = best_model.predict(start=start, end=end).rename('SARIMAX Predictions')"
   ]
  },
  {
   "cell_type": "code",
   "execution_count": null,
   "metadata": {},
   "outputs": [],
   "source": [
    "# Calculate and print RMSE\n",
    "rmse_value = rmse(test['sick_leave_percentage'], predictions)\n",
    "print(f'RMSE: {rmse_value}')"
   ]
  },
  {
   "cell_type": "code",
   "execution_count": null,
   "metadata": {},
   "outputs": [],
   "source": [
    "# Calculate MAE for predictions\n",
    "from sklearn.metrics import mean_absolute_error\n",
    "mae_value = mean_absolute_error(test['sick_leave_percentage'], predictions)\n",
    "print(f'MAE: {mae_value}')"
   ]
  },
  {
   "cell_type": "code",
   "execution_count": null,
   "metadata": {},
   "outputs": [],
   "source": [
    "# Plotting the results\n",
    "ax = test['sick_leave_percentage'].plot(legend=True, figsize=(15,8), title='Sick Leave Percentage - Test vs Predictions')\n",
    "predictions.plot(legend=True)\n",
    "plt.show()"
   ]
  },
  {
   "cell_type": "code",
   "execution_count": 22,
   "metadata": {},
   "outputs": [],
   "source": [
    "# Train SARIMAX on the Full Dataset - Option 1\n",
    "#final_model = SARIMAX(filtered_cbs['sick_leave_percentage'],\n",
    "                      #order=(1, 0, 1),  # No differencing\n",
    "                      #seasonal_order=(1, 0, 1, 4),  # Seasonal order with no differencing\n",
    "                      #enforce_stationarity=False,\n",
    "                      #enforce_invertibility=False)\n",
    "\n",
    "#final_results = final_model.fit(maxiter=1000, method='lbfgs')\n",
    "\n",
    "# Outcome:Too few observations to estimate starting parameters for seasonal ARMA. All parameters except for variances will be set to zeros.This warning suggests that the model does not have enough data points to reliably estimate the initial values of the seasonal AR and MA parameters. As a result, the starting parameters (coefficients) for these components are set to zero to allow the model to proceed.\n",
    "# Insufficient Data: Seasonal components require enough seasonal cycles (repeated patterns) in the data to estimate the parameters effectively. If your time series is too short or lacks sufficient seasonal cycles, the model cannot accurately determine these parameters.\n"
   ]
  },
  {
   "cell_type": "code",
   "execution_count": 23,
   "metadata": {},
   "outputs": [],
   "source": [
    "# Simplified SARIMAX model with reduced seasonal order - Option 2\n",
    "#final_model = SARIMAX(filtered_cbs['sick_leave_percentage'],\n",
    "                      #order=(1, 0, 1),  # No differencing\n",
    "                      #seasonal_order=(0, 0, 0, 4),  # Simplified seasonal order\n",
    "                      #enforce_stationarity=False,\n",
    "                      #enforce_invertibility=False)\n",
    "\n",
    "#final_results = final_model.fit(maxiter=1000, method='lbfgs')"
   ]
  },
  {
   "cell_type": "code",
   "execution_count": null,
   "metadata": {},
   "outputs": [],
   "source": [
    "# Adjusted SARIMAX model fitting with increased iterations and different optimization method - Option 3\n",
    "final_model = SARIMAX(filtered_cbs['sick_leave_percentage'],\n",
    "                      order=(1, 0, 1),\n",
    "                      seasonal_order=(1, 0, 1, 4),\n",
    "                      enforce_stationarity=False,\n",
    "                      enforce_invertibility=False)\n",
    "\n",
    "final_results = final_model.fit(maxiter=2000, method='powell', tol=1e-6)\n",
    "\n",
    "# Check the results\n",
    "print(final_results.summary())\n",
    "\n",
    "# Inspect optimization details if convergence warning persists\n",
    "print(final_results.mle_retvals)\n"
   ]
  },
  {
   "cell_type": "code",
   "execution_count": 25,
   "metadata": {},
   "outputs": [],
   "source": [
    "# Forecast Future Values\n",
    "forecast_steps = 8  # Number of quarters to forecast\n",
    "fcast = final_results.predict(len(filtered_cbs), len(filtered_cbs) + forecast_steps - 1).rename('SARIMAX Forecast')\n"
   ]
  },
  {
   "cell_type": "code",
   "execution_count": null,
   "metadata": {},
   "outputs": [],
   "source": [
    "# Plotting the forecast\n",
    "ax = filtered_cbs['sick_leave_percentage'].plot(legend=True, figsize=(15,8), title='Sick Leave Percentage - Actual vs Forecast')\n",
    "fcast.plot(legend=True)\n",
    "\n",
    "plt.show()"
   ]
  },
  {
   "cell_type": "code",
   "execution_count": null,
   "metadata": {},
   "outputs": [],
   "source": []
  }
 ],
 "metadata": {
  "kernelspec": {
   "display_name": ".venv",
   "language": "python",
   "name": "python3"
  },
  "language_info": {
   "codemirror_mode": {
    "name": "ipython",
    "version": 3
   },
   "file_extension": ".py",
   "mimetype": "text/x-python",
   "name": "python",
   "nbconvert_exporter": "python",
   "pygments_lexer": "ipython3",
   "version": "3.12.3"
  }
 },
 "nbformat": 4,
 "nbformat_minor": 2
}
