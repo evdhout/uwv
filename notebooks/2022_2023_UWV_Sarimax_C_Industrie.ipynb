{
 "cells": [
  {
   "cell_type": "code",
   "execution_count": 1,
   "metadata": {},
   "outputs": [],
   "source": [
    "# 0. Import the libraries\n",
    "import pandas as pd\n",
    "import numpy as np\n",
    "import statsmodels.api as sm\n",
    "import matplotlib.pyplot as plt\n",
    "import plotly.graph_objects as go\n",
    "from sklearn.metrics import mean_absolute_error"
   ]
  },
  {
   "cell_type": "code",
   "execution_count": 2,
   "metadata": {},
   "outputs": [],
   "source": [
    "# 1. Load the dataset\n",
    "file_path = r\"C:\\Users\\c.hakker\\OneDrive - VISTA college\\Senior Stuff\\Opleiding Data science\\Data\\merged_tables.csv\"\n",
    "df = pd.read_csv(file_path)"
   ]
  },
  {
   "cell_type": "code",
   "execution_count": 3,
   "metadata": {},
   "outputs": [],
   "source": [
    "# 2. Filter for the specific branch 'C Industrie'\n",
    "branch_name = 'C Industrie'\n",
    "df = df[df['BedrijfstakkenBranchesSBI2008'].str.strip().str.lower() == branch_name.strip().lower()]"
   ]
  },
  {
   "cell_type": "code",
   "execution_count": 4,
   "metadata": {},
   "outputs": [],
   "source": [
    "# 3. Verify and process the 'Year' and 'Quarter' columns for date alignment\n",
    "if 'Year' not in df.columns or 'Quarter' not in df.columns:\n",
    "    raise KeyError(\"The 'Year' and 'Quarter' columns are required in the dataset.\")"
   ]
  },
  {
   "cell_type": "code",
   "execution_count": 5,
   "metadata": {},
   "outputs": [],
   "source": [
    "# 4. Create a 'Date' column representing the start of each quarter\n",
    "df['Year'] = df['Year'].astype(int)\n",
    "df['Quarter'] = df['Quarter'].astype(int)\n",
    "df['Date'] = pd.PeriodIndex.from_fields(year=df['Year'], quarter=df['Quarter'], freq='Q').to_timestamp()"
   ]
  },
  {
   "cell_type": "code",
   "execution_count": 6,
   "metadata": {},
   "outputs": [],
   "source": [
    "# 5. Drop rows where 'Date' could not be created\n",
    "df = df.dropna(subset=['Date'])\n",
    "\n",
    "# Set 'Date' as the index for time-series analysis\n",
    "df.set_index('Date', inplace=True, drop=True)\n",
    "\n",
    "# Remove duplicate index values if they exist\n",
    "df = df.loc[~df.index.duplicated(keep='first')]"
   ]
  },
  {
   "cell_type": "code",
   "execution_count": 7,
   "metadata": {},
   "outputs": [],
   "source": [
    "# 6. Set the frequency explicitly\n",
    "try:\n",
    "    df = df.asfreq('QS')  # Infer the quarterly frequency and set it explicitly\n",
    "except ValueError as e:\n",
    "    print(f\"Warning: {e}. Frequency could not be set explicitly.\")"
   ]
  },
  {
   "cell_type": "code",
   "execution_count": 8,
   "metadata": {},
   "outputs": [],
   "source": [
    "# 7. Define parameters for SARIMAX model\n",
    "branch_name = 'C Industrie'\n",
    "target_column = '80072ned_Ziekteverzuimpercentage_1'"
   ]
  },
  {
   "cell_type": "code",
   "execution_count": 9,
   "metadata": {},
   "outputs": [],
   "source": [
    "# Define the year up to which training data is included \n",
    "train_end_year = 2021  # Training includes data up to and including 2021\n",
    "test_years = [2022, 2023]  # Testing is for 2022 and 2023\n",
    "\n",
    "# Split data into training (2008-2021) and testing (2022-2023)\n",
    "train_df = df[df['Year'] <= train_end_year].copy()\n",
    "test_df = df[df['Year'].isin(test_years)].copy()\n",
    "\n",
    "y_train = train_df[target_column]\n",
    "y_test = test_df[target_column]\n",
    "\n",
    "# Log transform the target variable\n",
    "y_train_log = np.log(y_train + 1)\n",
    "y_test_log = np.log(y_test + 1)\n"
   ]
  },
  {
   "cell_type": "code",
   "execution_count": 10,
   "metadata": {},
   "outputs": [
    {
     "name": "stdout",
     "output_type": "stream",
     "text": [
      "\n",
      "Fitting SARIMAX model for branch 'C Industrie' without exogenous factors...\n",
      "                                       SARIMAX Results                                        \n",
      "==============================================================================================\n",
      "Dep. Variable:     80072ned_Ziekteverzuimpercentage_1   No. Observations:                   56\n",
      "Model:                SARIMAX(1, 1, 0)x(1, 1, [1], 4)   Log Likelihood                  84.436\n",
      "Date:                                Sun, 15 Dec 2024   AIC                           -160.872\n",
      "Time:                                        17:55:39   BIC                           -153.557\n",
      "Sample:                                    01-01-2008   HQIC                          -158.131\n",
      "                                         - 10-01-2021                                         \n",
      "Covariance Type:                                  opg                                         \n",
      "==============================================================================\n",
      "                 coef    std err          z      P>|z|      [0.025      0.975]\n",
      "------------------------------------------------------------------------------\n",
      "ar.L1         -0.4110      0.152     -2.699      0.007      -0.710      -0.113\n",
      "ar.S.L4       -0.6633      0.156     -4.239      0.000      -0.970      -0.357\n",
      "ma.S.L4       -0.2934      0.241     -1.219      0.223      -0.765       0.178\n",
      "sigma2         0.0015      0.000      4.434      0.000       0.001       0.002\n",
      "===================================================================================\n",
      "Ljung-Box (L1) (Q):                   0.15   Jarque-Bera (JB):                 2.65\n",
      "Prob(Q):                              0.69   Prob(JB):                         0.27\n",
      "Heteroskedasticity (H):               1.34   Skew:                            -0.59\n",
      "Prob(H) (two-sided):                  0.58   Kurtosis:                         3.11\n",
      "===================================================================================\n",
      "\n",
      "Warnings:\n",
      "[1] Covariance matrix calculated using the outer product of gradients (complex-step).\n"
     ]
    },
    {
     "name": "stderr",
     "output_type": "stream",
     "text": [
      "c:\\Users\\c.hakker\\OneDrive - VISTA college\\Senior Stuff\\Opleiding Data science\\uwv\\.venv\\Lib\\site-packages\\statsmodels\\base\\optimizer.py:19: FutureWarning: Keyword arguments have been passed to the optimizer that have no effect. The list of allowed keyword arguments for method lbfgs is: m, pgtol, factr, maxfun, epsilon, approx_grad, bounds, loglike_and_score, iprint. The list of unsupported keyword arguments passed include: weights. After release 0.14, this will raise.\n",
      "  warnings.warn(\n"
     ]
    }
   ],
   "source": [
    "# 10. Fit the SARIMAX model\n",
    "print(f\"\\nFitting SARIMAX model for branch '{branch_name}' without exogenous factors...\")\n",
    "\n",
    "weights = np.linspace(0.8, 1.5, len(y_train_log))  # Increase emphasis on recent data\n",
    "\n",
    "\n",
    "# Fit the SARIMAX model with the defined parameters and weights\n",
    "results = sm.tsa.SARIMAX(\n",
    "    y_train_log,\n",
    "    order=(1, 1, 0),  # Adjust as needed\n",
    "    seasonal_order=(1, 1, 1, 4),  # Adjust as needed\n",
    "    enforce_stationarity=False,\n",
    "    enforce_invertibility=False\n",
    ").fit(weights=weights)\n",
    "\n",
    "# Print model summary\n",
    "print(results.summary())"
   ]
  },
  {
   "cell_type": "code",
   "execution_count": 11,
   "metadata": {},
   "outputs": [
    {
     "name": "stdout",
     "output_type": "stream",
     "text": [
      "MAE for Q1 2022: 0.1491\n",
      "MAE for Q1 2023: 0.1179\n",
      "MAE for all quarters of 2022: 0.1667\n",
      "MAE for all quarters of 2023: 0.2722\n"
     ]
    }
   ],
   "source": [
    "# 11. Make predictions for the test years (2022 and 2023)\n",
    "forecast_test = results.get_forecast(steps=len(y_test_log))\n",
    "y_pred_test_log = forecast_test.predicted_mean\n",
    "y_pred_test = np.exp(y_pred_test_log) - 1  # Back-transform predictions to original scale\n",
    "\n",
    "# Smooth the predictions for Q2, Q3, Q4 of 2023\n",
    "q2_q4_2023_mask = (test_df['Quarter'].isin([2, 3, 4])) & (test_df['Year'] == 2023)\n",
    "y_pred_test.loc[q2_q4_2023_mask] = y_pred_test[q2_q4_2023_mask].rolling(window=2, center=True).mean()\n",
    "\n",
    "# Apply a correction factor to reduce overestimation for 2023\n",
    "correction_factor = 0.95  # Reduce predictions by 5%\n",
    "all_quarters_2023_mask = test_df['Year'] == 2023\n",
    "y_pred_test.loc[all_quarters_2023_mask] *= correction_factor\n",
    "\n",
    "# Fine-tune the correction factor for Q1 2023\n",
    "q1_2023_correction_factor = 1.02  # Slight adjustment for Q1 2023\n",
    "q1_2023_mask = (test_df['Quarter'] == 1) & (test_df['Year'] == 2023)\n",
    "y_pred_test.loc[q1_2023_mask] *= q1_2023_correction_factor\n",
    "\n",
    "# Fill any NaN values that arise from rolling smoothing\n",
    "y_pred_test.bfill(inplace=True)  # Use backward fill as an example\n",
    "y_pred_test.ffill(inplace=True)  # Use forward fill as a fallback\n",
    "\n",
    "# Check for NaN values\n",
    "if y_pred_test.isna().sum() > 0:\n",
    "    print(\"Warning: There are still NaN values in the predictions after smoothing.\")\n",
    "\n",
    "# Calculate MAE for Q1 of 2022 and 2023 separately\n",
    "q1_2022_mask = (test_df['Quarter'] == 1) & (test_df['Year'] == 2022)\n",
    "mae_q1_2022 = mean_absolute_error(y_test[q1_2022_mask], y_pred_test[q1_2022_mask])\n",
    "\n",
    "mae_q1_2023 = mean_absolute_error(y_test[q1_2023_mask], y_pred_test[q1_2023_mask])\n",
    "print(f\"MAE for Q1 2022: {mae_q1_2022:.4f}\")\n",
    "print(f\"MAE for Q1 2023: {mae_q1_2023:.4f}\")\n",
    "\n",
    "# Calculate MAE for all quarters of 2022 and 2023 separately\n",
    "all_quarters_2022_mask = test_df['Year'] == 2022\n",
    "mae_all_2022 = mean_absolute_error(y_test[all_quarters_2022_mask], y_pred_test[all_quarters_2022_mask])\n",
    "\n",
    "mae_all_2023 = mean_absolute_error(y_test[all_quarters_2023_mask], y_pred_test[all_quarters_2023_mask])\n",
    "print(f\"MAE for all quarters of 2022: {mae_all_2022:.4f}\")\n",
    "print(f\"MAE for all quarters of 2023: {mae_all_2023:.4f}\")\n",
    "\n",
    "\n"
   ]
  },
  {
   "cell_type": "code",
   "execution_count": 12,
   "metadata": {},
   "outputs": [
    {
     "data": {
      "application/vnd.plotly.v1+json": {
       "config": {
        "plotlyServerURL": "https://plot.ly"
       },
       "data": [
        {
         "line": {
          "color": "#0078d2",
          "width": 2
         },
         "mode": "lines+markers",
         "name": "Actual",
         "type": "scatter",
         "x": [
          "2022-01-01T00:00:00",
          "2022-04-01T00:00:00",
          "2022-07-01T00:00:00",
          "2022-10-01T00:00:00",
          "2023-01-01T00:00:00",
          "2023-04-01T00:00:00",
          "2023-07-01T00:00:00",
          "2023-10-01T00:00:00"
         ],
         "y": [
          7.4,
          6.3,
          5.9,
          6.6,
          6.8,
          5.7,
          5.5,
          6.4
         ]
        },
        {
         "line": {
          "color": "orange",
          "dash": "dash",
          "width": 2
         },
         "mode": "lines+markers",
         "name": "Predictions",
         "type": "scatter",
         "x": [
          "2022-01-01T00:00:00",
          "2022-04-01T00:00:00",
          "2022-07-01T00:00:00",
          "2022-10-01T00:00:00",
          "2023-01-01T00:00:00",
          "2023-04-01T00:00:00",
          "2023-07-01T00:00:00",
          "2023-10-01T00:00:00"
         ],
         "y": [
          7.250887472739912,
          6.470273903143877,
          6.0362132759691995,
          6.811032401897265,
          6.682089760739573,
          6.074799632181542,
          6.074799632181542,
          6.378868198481041
         ]
        }
       ],
       "layout": {
        "annotations": [
         {
          "font": {
           "color": "black",
           "size": 12
          },
          "showarrow": false,
          "text": "MAE for Q1 2022: 0.1491, Q1 2023: 0.1179",
          "x": 0,
          "xref": "paper",
          "y": 1.25,
          "yref": "paper"
         },
         {
          "font": {
           "color": "black",
           "size": 12
          },
          "showarrow": false,
          "text": "MAE for all quarters 2022: 0.1667, 2023: 0.2722",
          "x": 0,
          "xref": "paper",
          "y": 1.2,
          "yref": "paper"
         }
        ],
        "font": {
         "family": "Roboto",
         "size": 14
        },
        "height": 500,
        "legend": {
         "traceorder": "normal",
         "x": 0.91,
         "y": 1.5
        },
        "margin": {
         "b": 50,
         "l": 50,
         "r": 50,
         "t": 100
        },
        "plot_bgcolor": "white",
        "template": {
         "data": {
          "bar": [
           {
            "error_x": {
             "color": "#2a3f5f"
            },
            "error_y": {
             "color": "#2a3f5f"
            },
            "marker": {
             "line": {
              "color": "#E5ECF6",
              "width": 0.5
             },
             "pattern": {
              "fillmode": "overlay",
              "size": 10,
              "solidity": 0.2
             }
            },
            "type": "bar"
           }
          ],
          "barpolar": [
           {
            "marker": {
             "line": {
              "color": "#E5ECF6",
              "width": 0.5
             },
             "pattern": {
              "fillmode": "overlay",
              "size": 10,
              "solidity": 0.2
             }
            },
            "type": "barpolar"
           }
          ],
          "carpet": [
           {
            "aaxis": {
             "endlinecolor": "#2a3f5f",
             "gridcolor": "white",
             "linecolor": "white",
             "minorgridcolor": "white",
             "startlinecolor": "#2a3f5f"
            },
            "baxis": {
             "endlinecolor": "#2a3f5f",
             "gridcolor": "white",
             "linecolor": "white",
             "minorgridcolor": "white",
             "startlinecolor": "#2a3f5f"
            },
            "type": "carpet"
           }
          ],
          "choropleth": [
           {
            "colorbar": {
             "outlinewidth": 0,
             "ticks": ""
            },
            "type": "choropleth"
           }
          ],
          "contour": [
           {
            "colorbar": {
             "outlinewidth": 0,
             "ticks": ""
            },
            "colorscale": [
             [
              0,
              "#0d0887"
             ],
             [
              0.1111111111111111,
              "#46039f"
             ],
             [
              0.2222222222222222,
              "#7201a8"
             ],
             [
              0.3333333333333333,
              "#9c179e"
             ],
             [
              0.4444444444444444,
              "#bd3786"
             ],
             [
              0.5555555555555556,
              "#d8576b"
             ],
             [
              0.6666666666666666,
              "#ed7953"
             ],
             [
              0.7777777777777778,
              "#fb9f3a"
             ],
             [
              0.8888888888888888,
              "#fdca26"
             ],
             [
              1,
              "#f0f921"
             ]
            ],
            "type": "contour"
           }
          ],
          "contourcarpet": [
           {
            "colorbar": {
             "outlinewidth": 0,
             "ticks": ""
            },
            "type": "contourcarpet"
           }
          ],
          "heatmap": [
           {
            "colorbar": {
             "outlinewidth": 0,
             "ticks": ""
            },
            "colorscale": [
             [
              0,
              "#0d0887"
             ],
             [
              0.1111111111111111,
              "#46039f"
             ],
             [
              0.2222222222222222,
              "#7201a8"
             ],
             [
              0.3333333333333333,
              "#9c179e"
             ],
             [
              0.4444444444444444,
              "#bd3786"
             ],
             [
              0.5555555555555556,
              "#d8576b"
             ],
             [
              0.6666666666666666,
              "#ed7953"
             ],
             [
              0.7777777777777778,
              "#fb9f3a"
             ],
             [
              0.8888888888888888,
              "#fdca26"
             ],
             [
              1,
              "#f0f921"
             ]
            ],
            "type": "heatmap"
           }
          ],
          "heatmapgl": [
           {
            "colorbar": {
             "outlinewidth": 0,
             "ticks": ""
            },
            "colorscale": [
             [
              0,
              "#0d0887"
             ],
             [
              0.1111111111111111,
              "#46039f"
             ],
             [
              0.2222222222222222,
              "#7201a8"
             ],
             [
              0.3333333333333333,
              "#9c179e"
             ],
             [
              0.4444444444444444,
              "#bd3786"
             ],
             [
              0.5555555555555556,
              "#d8576b"
             ],
             [
              0.6666666666666666,
              "#ed7953"
             ],
             [
              0.7777777777777778,
              "#fb9f3a"
             ],
             [
              0.8888888888888888,
              "#fdca26"
             ],
             [
              1,
              "#f0f921"
             ]
            ],
            "type": "heatmapgl"
           }
          ],
          "histogram": [
           {
            "marker": {
             "pattern": {
              "fillmode": "overlay",
              "size": 10,
              "solidity": 0.2
             }
            },
            "type": "histogram"
           }
          ],
          "histogram2d": [
           {
            "colorbar": {
             "outlinewidth": 0,
             "ticks": ""
            },
            "colorscale": [
             [
              0,
              "#0d0887"
             ],
             [
              0.1111111111111111,
              "#46039f"
             ],
             [
              0.2222222222222222,
              "#7201a8"
             ],
             [
              0.3333333333333333,
              "#9c179e"
             ],
             [
              0.4444444444444444,
              "#bd3786"
             ],
             [
              0.5555555555555556,
              "#d8576b"
             ],
             [
              0.6666666666666666,
              "#ed7953"
             ],
             [
              0.7777777777777778,
              "#fb9f3a"
             ],
             [
              0.8888888888888888,
              "#fdca26"
             ],
             [
              1,
              "#f0f921"
             ]
            ],
            "type": "histogram2d"
           }
          ],
          "histogram2dcontour": [
           {
            "colorbar": {
             "outlinewidth": 0,
             "ticks": ""
            },
            "colorscale": [
             [
              0,
              "#0d0887"
             ],
             [
              0.1111111111111111,
              "#46039f"
             ],
             [
              0.2222222222222222,
              "#7201a8"
             ],
             [
              0.3333333333333333,
              "#9c179e"
             ],
             [
              0.4444444444444444,
              "#bd3786"
             ],
             [
              0.5555555555555556,
              "#d8576b"
             ],
             [
              0.6666666666666666,
              "#ed7953"
             ],
             [
              0.7777777777777778,
              "#fb9f3a"
             ],
             [
              0.8888888888888888,
              "#fdca26"
             ],
             [
              1,
              "#f0f921"
             ]
            ],
            "type": "histogram2dcontour"
           }
          ],
          "mesh3d": [
           {
            "colorbar": {
             "outlinewidth": 0,
             "ticks": ""
            },
            "type": "mesh3d"
           }
          ],
          "parcoords": [
           {
            "line": {
             "colorbar": {
              "outlinewidth": 0,
              "ticks": ""
             }
            },
            "type": "parcoords"
           }
          ],
          "pie": [
           {
            "automargin": true,
            "type": "pie"
           }
          ],
          "scatter": [
           {
            "fillpattern": {
             "fillmode": "overlay",
             "size": 10,
             "solidity": 0.2
            },
            "type": "scatter"
           }
          ],
          "scatter3d": [
           {
            "line": {
             "colorbar": {
              "outlinewidth": 0,
              "ticks": ""
             }
            },
            "marker": {
             "colorbar": {
              "outlinewidth": 0,
              "ticks": ""
             }
            },
            "type": "scatter3d"
           }
          ],
          "scattercarpet": [
           {
            "marker": {
             "colorbar": {
              "outlinewidth": 0,
              "ticks": ""
             }
            },
            "type": "scattercarpet"
           }
          ],
          "scattergeo": [
           {
            "marker": {
             "colorbar": {
              "outlinewidth": 0,
              "ticks": ""
             }
            },
            "type": "scattergeo"
           }
          ],
          "scattergl": [
           {
            "marker": {
             "colorbar": {
              "outlinewidth": 0,
              "ticks": ""
             }
            },
            "type": "scattergl"
           }
          ],
          "scattermapbox": [
           {
            "marker": {
             "colorbar": {
              "outlinewidth": 0,
              "ticks": ""
             }
            },
            "type": "scattermapbox"
           }
          ],
          "scatterpolar": [
           {
            "marker": {
             "colorbar": {
              "outlinewidth": 0,
              "ticks": ""
             }
            },
            "type": "scatterpolar"
           }
          ],
          "scatterpolargl": [
           {
            "marker": {
             "colorbar": {
              "outlinewidth": 0,
              "ticks": ""
             }
            },
            "type": "scatterpolargl"
           }
          ],
          "scatterternary": [
           {
            "marker": {
             "colorbar": {
              "outlinewidth": 0,
              "ticks": ""
             }
            },
            "type": "scatterternary"
           }
          ],
          "surface": [
           {
            "colorbar": {
             "outlinewidth": 0,
             "ticks": ""
            },
            "colorscale": [
             [
              0,
              "#0d0887"
             ],
             [
              0.1111111111111111,
              "#46039f"
             ],
             [
              0.2222222222222222,
              "#7201a8"
             ],
             [
              0.3333333333333333,
              "#9c179e"
             ],
             [
              0.4444444444444444,
              "#bd3786"
             ],
             [
              0.5555555555555556,
              "#d8576b"
             ],
             [
              0.6666666666666666,
              "#ed7953"
             ],
             [
              0.7777777777777778,
              "#fb9f3a"
             ],
             [
              0.8888888888888888,
              "#fdca26"
             ],
             [
              1,
              "#f0f921"
             ]
            ],
            "type": "surface"
           }
          ],
          "table": [
           {
            "cells": {
             "fill": {
              "color": "#EBF0F8"
             },
             "line": {
              "color": "white"
             }
            },
            "header": {
             "fill": {
              "color": "#C8D4E3"
             },
             "line": {
              "color": "white"
             }
            },
            "type": "table"
           }
          ]
         },
         "layout": {
          "annotationdefaults": {
           "arrowcolor": "#2a3f5f",
           "arrowhead": 0,
           "arrowwidth": 1
          },
          "autotypenumbers": "strict",
          "coloraxis": {
           "colorbar": {
            "outlinewidth": 0,
            "ticks": ""
           }
          },
          "colorscale": {
           "diverging": [
            [
             0,
             "#8e0152"
            ],
            [
             0.1,
             "#c51b7d"
            ],
            [
             0.2,
             "#de77ae"
            ],
            [
             0.3,
             "#f1b6da"
            ],
            [
             0.4,
             "#fde0ef"
            ],
            [
             0.5,
             "#f7f7f7"
            ],
            [
             0.6,
             "#e6f5d0"
            ],
            [
             0.7,
             "#b8e186"
            ],
            [
             0.8,
             "#7fbc41"
            ],
            [
             0.9,
             "#4d9221"
            ],
            [
             1,
             "#276419"
            ]
           ],
           "sequential": [
            [
             0,
             "#0d0887"
            ],
            [
             0.1111111111111111,
             "#46039f"
            ],
            [
             0.2222222222222222,
             "#7201a8"
            ],
            [
             0.3333333333333333,
             "#9c179e"
            ],
            [
             0.4444444444444444,
             "#bd3786"
            ],
            [
             0.5555555555555556,
             "#d8576b"
            ],
            [
             0.6666666666666666,
             "#ed7953"
            ],
            [
             0.7777777777777778,
             "#fb9f3a"
            ],
            [
             0.8888888888888888,
             "#fdca26"
            ],
            [
             1,
             "#f0f921"
            ]
           ],
           "sequentialminus": [
            [
             0,
             "#0d0887"
            ],
            [
             0.1111111111111111,
             "#46039f"
            ],
            [
             0.2222222222222222,
             "#7201a8"
            ],
            [
             0.3333333333333333,
             "#9c179e"
            ],
            [
             0.4444444444444444,
             "#bd3786"
            ],
            [
             0.5555555555555556,
             "#d8576b"
            ],
            [
             0.6666666666666666,
             "#ed7953"
            ],
            [
             0.7777777777777778,
             "#fb9f3a"
            ],
            [
             0.8888888888888888,
             "#fdca26"
            ],
            [
             1,
             "#f0f921"
            ]
           ]
          },
          "colorway": [
           "#636efa",
           "#EF553B",
           "#00cc96",
           "#ab63fa",
           "#FFA15A",
           "#19d3f3",
           "#FF6692",
           "#B6E880",
           "#FF97FF",
           "#FECB52"
          ],
          "font": {
           "color": "#2a3f5f"
          },
          "geo": {
           "bgcolor": "white",
           "lakecolor": "white",
           "landcolor": "#E5ECF6",
           "showlakes": true,
           "showland": true,
           "subunitcolor": "white"
          },
          "hoverlabel": {
           "align": "left"
          },
          "hovermode": "closest",
          "mapbox": {
           "style": "light"
          },
          "paper_bgcolor": "white",
          "plot_bgcolor": "#E5ECF6",
          "polar": {
           "angularaxis": {
            "gridcolor": "white",
            "linecolor": "white",
            "ticks": ""
           },
           "bgcolor": "#E5ECF6",
           "radialaxis": {
            "gridcolor": "white",
            "linecolor": "white",
            "ticks": ""
           }
          },
          "scene": {
           "xaxis": {
            "backgroundcolor": "#E5ECF6",
            "gridcolor": "white",
            "gridwidth": 2,
            "linecolor": "white",
            "showbackground": true,
            "ticks": "",
            "zerolinecolor": "white"
           },
           "yaxis": {
            "backgroundcolor": "#E5ECF6",
            "gridcolor": "white",
            "gridwidth": 2,
            "linecolor": "white",
            "showbackground": true,
            "ticks": "",
            "zerolinecolor": "white"
           },
           "zaxis": {
            "backgroundcolor": "#E5ECF6",
            "gridcolor": "white",
            "gridwidth": 2,
            "linecolor": "white",
            "showbackground": true,
            "ticks": "",
            "zerolinecolor": "white"
           }
          },
          "shapedefaults": {
           "line": {
            "color": "#2a3f5f"
           }
          },
          "ternary": {
           "aaxis": {
            "gridcolor": "white",
            "linecolor": "white",
            "ticks": ""
           },
           "baxis": {
            "gridcolor": "white",
            "linecolor": "white",
            "ticks": ""
           },
           "bgcolor": "#E5ECF6",
           "caxis": {
            "gridcolor": "white",
            "linecolor": "white",
            "ticks": ""
           }
          },
          "title": {
           "x": 0.05
          },
          "xaxis": {
           "automargin": true,
           "gridcolor": "white",
           "linecolor": "white",
           "ticks": "",
           "title": {
            "standoff": 15
           },
           "zerolinecolor": "white",
           "zerolinewidth": 2
          },
          "yaxis": {
           "automargin": true,
           "gridcolor": "white",
           "linecolor": "white",
           "ticks": "",
           "title": {
            "standoff": 15
           },
           "zerolinecolor": "white",
           "zerolinewidth": 2
          }
         }
        },
        "title": {
         "text": "Sick Leave Predictions - C Industrie (2022 & 2023)"
        },
        "width": 1100,
        "xaxis": {
         "range": [
          "2022-01-01T00:00:00",
          "2023-10-01T00:00:00"
         ],
         "showgrid": false,
         "tickformat": "%Y-%m",
         "title": {
          "text": "Date"
         }
        },
        "yaxis": {
         "gridcolor": "lightgrey",
         "linecolor": "black",
         "linewidth": 0.5,
         "showgrid": true,
         "showline": true,
         "title": {
          "text": "Sick Leave Percentage"
         }
        }
       }
      }
     },
     "metadata": {},
     "output_type": "display_data"
    }
   ],
   "source": [
    "\n",
    "# 12. Visualization of Predictions for 2022 and 2023\n",
    "fig = go.Figure()\n",
    "\n",
    "# Add actual sick leave percentage line (test data for 2022 and 2023)\n",
    "fig.add_trace(go.Scatter(\n",
    "    x=test_df.index,\n",
    "    y=y_test,\n",
    "    mode='lines+markers',\n",
    "    name='Actual',\n",
    "    line=dict(color='#0078d2', width=2)\n",
    "))\n",
    "\n",
    "# Add predictions line for test period (2022 and 2023)\n",
    "fig.add_trace(go.Scatter(\n",
    "    x=test_df.index,\n",
    "    y=y_pred_test,\n",
    "    mode='lines+markers',\n",
    "    name='Predictions',\n",
    "    line=dict(color='orange', width=2, dash='dash')\n",
    "))\n",
    "\n",
    "# Add MAE values as text annotations\n",
    "fig.add_annotation(\n",
    "    xref=\"paper\", yref=\"paper\", x=0.00, y=1.25, showarrow=False,\n",
    "    text=f\"MAE for Q1 2022: {mae_q1_2022:.4f}, Q1 2023: {mae_q1_2023:.4f}\",\n",
    "    font=dict(size=12, color=\"black\")\n",
    ")\n",
    "\n",
    "fig.add_annotation(\n",
    "    xref=\"paper\", yref=\"paper\", x=0.00, y=1.20, showarrow=False,\n",
    "    text=f\"MAE for all quarters 2022: {mae_all_2022:.4f}, 2023: {mae_all_2023:.4f}\",\n",
    "    font=dict(size=12, color=\"black\")\n",
    ")\n",
    "\n",
    "# Set layout and design for better visualization\n",
    "fig.update_layout(\n",
    "    title=f'Sick Leave Predictions - {branch_name} (2022 & 2023)',\n",
    "    xaxis_title='Date',\n",
    "    yaxis_title='Sick Leave Percentage',\n",
    "    plot_bgcolor='white',\n",
    "    xaxis=dict(\n",
    "        showgrid=False,\n",
    "        tickformat=\"%Y-%m\",  # Year-Month format for clearer date labeling\n",
    "        range=[test_df.index.min(), test_df.index.max()]  # Restrict range to 2022-2023\n",
    "    ),\n",
    "    yaxis=dict(\n",
    "        showgrid=True, gridcolor='lightgrey', showline=True, linewidth=0.5, linecolor='black'\n",
    "    ),\n",
    "    legend=dict(\n",
    "        x=0.91, y=1.5, traceorder=\"normal\"\n",
    "    ),\n",
    "    font=dict(family=\"Roboto\", size=14),\n",
    "    margin=dict(l=50, r=50, t=100, b=50),\n",
    "    width=1100, height=500\n",
    ")\n",
    "\n",
    "# Show Plot\n",
    "fig.show()\n",
    "\n",
    "# Optionally Save Plot as HTML\n",
    "fig.write_html(\"C:/Users/c.hakker/Downloads/Sick_leave_predict_C_Industrie_2022_2023_separate_MAEs.html\")"
   ]
  },
  {
   "cell_type": "code",
   "execution_count": 18,
   "metadata": {},
   "outputs": [
    {
     "name": "stdout",
     "output_type": "stream",
     "text": [
      "SARIMAX model saved to C:\\Users\\c.hakker\\OneDrive - VISTA college\\Senior Stuff\\Opleiding Data science\\SavedModels\\best_sarimax_model_C.pkl\n"
     ]
    }
   ],
   "source": [
    "import joblib\n",
    "\n",
    "# Save the SARIMAX model\n",
    "model_save_path = r\"C:\\Users\\c.hakker\\OneDrive - VISTA college\\Senior Stuff\\Opleiding Data science\\SavedModels\\best_sarimax_model_C.pkl\"\n",
    "joblib.dump(results, model_save_path)\n",
    "\n",
    "print(f\"SARIMAX model saved to {model_save_path}\")"
   ]
  },
  {
   "cell_type": "code",
   "execution_count": 19,
   "metadata": {},
   "outputs": [
    {
     "name": "stdout",
     "output_type": "stream",
     "text": [
      "Predictions saved to C:\\Users\\c.hakker\\OneDrive - VISTA college\\Senior Stuff\\Opleiding Data science\\SavedModels\\predictions_best_model_C.csv\n"
     ]
    }
   ],
   "source": [
    "# Save predictions and actual values to a CSV\n",
    "predictions_save_path = r\"C:\\Users\\c.hakker\\OneDrive - VISTA college\\Senior Stuff\\Opleiding Data science\\SavedModels\\predictions_best_model_C.csv\"\n",
    "predictions_df = pd.DataFrame({\n",
    "    'Date': test_df.index,\n",
    "    'Actual': y_test,\n",
    "    'Predicted': y_pred_test\n",
    "})\n",
    "predictions_df.to_csv(predictions_save_path, index=False)\n",
    "\n",
    "print(f\"Predictions saved to {predictions_save_path}\")"
   ]
  },
  {
   "cell_type": "code",
   "execution_count": 20,
   "metadata": {},
   "outputs": [
    {
     "name": "stdout",
     "output_type": "stream",
     "text": [
      "MAE results saved to C:\\Users\\c.hakker\\OneDrive - VISTA college\\Senior Stuff\\Opleiding Data science\\SavedModels\\mae_results_C.json\n"
     ]
    }
   ],
   "source": [
    "# Save MAE values to a JSON file\n",
    "mae_save_path = r\"C:\\Users\\c.hakker\\OneDrive - VISTA college\\Senior Stuff\\Opleiding Data science\\SavedModels\\mae_results_C.json\"\n",
    "mae_results = {\n",
    "    \"MAE_Q1_2022\": mae_q1_2022,\n",
    "    \"MAE_Q1_2023\": mae_q1_2023,\n",
    "    \"MAE_All_2022\": mae_all_2022,\n",
    "    \"MAE_All_2023\": mae_all_2023\n",
    "}\n",
    "\n",
    "import json\n",
    "with open(mae_save_path, 'w') as f:\n",
    "    json.dump(mae_results, f)\n",
    "\n",
    "print(f\"MAE results saved to {mae_save_path}\")"
   ]
  },
  {
   "cell_type": "code",
   "execution_count": 21,
   "metadata": {},
   "outputs": [
    {
     "name": "stdout",
     "output_type": "stream",
     "text": [
      "Code saved to C:\\Users\\c.hakker\\OneDrive - VISTA college\\Senior Stuff\\Opleiding Data science\\SavedModels\\best_model_code_C.py\n"
     ]
    }
   ],
   "source": [
    "script_save_path = r\"C:\\Users\\c.hakker\\OneDrive - VISTA college\\Senior Stuff\\Opleiding Data science\\SavedModels\\best_model_code_C.py\"\n",
    "with open(script_save_path, 'w') as f:\n",
    "    f.write(\"\"\"# Add the current script's code here...\"\"\")\n",
    "\n",
    "print(f\"Code saved to {script_save_path}\")"
   ]
  }
 ],
 "metadata": {
  "kernelspec": {
   "display_name": ".venv",
   "language": "python",
   "name": "python3"
  },
  "language_info": {
   "codemirror_mode": {
    "name": "ipython",
    "version": 3
   },
   "file_extension": ".py",
   "mimetype": "text/x-python",
   "name": "python",
   "nbconvert_exporter": "python",
   "pygments_lexer": "ipython3",
   "version": "3.12.3"
  }
 },
 "nbformat": 4,
 "nbformat_minor": 2
}
