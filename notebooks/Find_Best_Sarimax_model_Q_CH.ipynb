{
 "cells": [
  {
   "cell_type": "code",
   "execution_count": 1,
   "metadata": {},
   "outputs": [
    {
     "name": "stderr",
     "output_type": "stream",
     "text": [
      "\u001b[32m2024-10-26 19:08:04.101\u001b[0m | \u001b[1mINFO    \u001b[0m | \u001b[36muwv.config\u001b[0m:\u001b[36m<module>\u001b[0m:\u001b[36m11\u001b[0m - \u001b[1mPROJ_ROOT path is: C:\\Users\\c.hakker\\OneDrive - VISTA college\\Senior Stuff\\Opleiding Data science\\uwv\u001b[0m\n"
     ]
    }
   ],
   "source": [
    "import pandas as pd\n",
    "import numpy as np\n",
    "import matplotlib.pyplot as plt\n",
    "from matplotlib import rcParams\n",
    "from statsmodels.tsa.holtwinters import ExponentialSmoothing\n",
    "from sklearn.metrics import mean_squared_error, mean_absolute_error\n",
    "from itertools import product\n",
    "from statsmodels.tsa.statespace.sarimax import SARIMAX\n",
    "from statsmodels.tools.eval_measures import rmse\n",
    "from pmdarima import auto_arima\n",
    "from uwv.config import KNMI_PROCESSED_DATA_DIR, KNMI_AVG_TEMP, CBS_OPENDATA_PROCESSED_DATA_DIR, CBS80072NED\n",
    "import plotly.graph_objects as go"
   ]
  },
  {
   "cell_type": "code",
   "execution_count": 2,
   "metadata": {},
   "outputs": [],
   "source": [
    "# Load the data\n",
    "from uwv.config import CBS80072NED, CBS_OPENDATA_PROCESSED_DATA_DIR, OUTPUT_DIR\n",
    "\n",
    "cbs = pd.read_parquet(CBS_OPENDATA_PROCESSED_DATA_DIR / f\"{CBS80072NED}.parquet\")\n",
    "\n",
    "knmi = pd.read_parquet(KNMI_PROCESSED_DATA_DIR / f\"{KNMI_AVG_TEMP}.parquet\")"
   ]
  },
  {
   "cell_type": "code",
   "execution_count": 3,
   "metadata": {},
   "outputs": [],
   "source": [
    "# Merge the datasets on 'period_year' and 'period_quarter_number'\n",
    "cbsk= pd.merge(cbs, knmi, on=['period_year', 'period_quarter_number'], how=\"inner\")"
   ]
  },
  {
   "cell_type": "code",
   "execution_count": 4,
   "metadata": {},
   "outputs": [],
   "source": [
    "# Data Preprocessing\n",
    "# Filter out rows where 'period_quarter_number' is 0\n",
    "cbsk = cbsk[cbsk['period_quarter_number'] != 0]"
   ]
  },
  {
   "cell_type": "code",
   "execution_count": 5,
   "metadata": {},
   "outputs": [],
   "source": [
    "# Map quarters to months and create the 'date' column\n",
    "cbsk['month'] = cbsk['period_quarter_number'].map({1: 1, 2: 4, 3: 7, 4: 10})\n",
    "cbsk['date'] = pd.to_datetime({'year': cbsk['period_year'], 'month': cbsk['month'], 'day': 1})"
   ]
  },
  {
   "cell_type": "code",
   "execution_count": 6,
   "metadata": {},
   "outputs": [],
   "source": [
    "# Set this new 'date' column as the index\n",
    "cbsk.set_index('date', inplace=True)"
   ]
  },
  {
   "cell_type": "code",
   "execution_count": 7,
   "metadata": {},
   "outputs": [],
   "source": [
    "# Filter data based on 'sbi_title'\n",
    "sbi_code = 'T001081'  # Example: A-U Alle economische activiteiten\n",
    "filtered_cbs = cbsk[cbsk['sbi'] == sbi_code]"
   ]
  },
  {
   "cell_type": "code",
   "execution_count": 8,
   "metadata": {},
   "outputs": [],
   "source": [
    "# Filter the data to include only dates from 2008 to 2023\n",
    "filtered_cbs = filtered_cbs.loc['2008-01-01':'2023-12-31']"
   ]
  },
  {
   "cell_type": "code",
   "execution_count": 9,
   "metadata": {},
   "outputs": [],
   "source": [
    "# Set the frequency to quarterly\n",
    "filtered_cbs.index.freq = 'QS'"
   ]
  },
  {
   "cell_type": "code",
   "execution_count": 10,
   "metadata": {},
   "outputs": [],
   "source": [
    "# Drop any NaN values to clean the dataset\n",
    "filtered_cbs = filtered_cbs.dropna()"
   ]
  },
  {
   "cell_type": "code",
   "execution_count": 11,
   "metadata": {},
   "outputs": [],
   "source": [
    "# Ensure the 'sick_leave_percentage' column is in the correct format\n",
    "filtered_cbs['sick_leave_percentage'] = filtered_cbs['sick_leave_percentage'].astype(float)"
   ]
  },
  {
   "cell_type": "code",
   "execution_count": 12,
   "metadata": {},
   "outputs": [
    {
     "data": {
      "application/vnd.plotly.v1+json": {
       "config": {
        "plotlyServerURL": "https://plot.ly"
       },
       "data": [
        {
         "line": {
          "color": "#0078d2",
          "width": 1.5
         },
         "mode": "lines",
         "name": "Sick Leave Percentage",
         "type": "scatter",
         "x": [
          "2008-01-01T00:00:00",
          "2008-04-01T00:00:00",
          "2008-07-01T00:00:00",
          "2008-10-01T00:00:00",
          "2009-01-01T00:00:00",
          "2009-04-01T00:00:00",
          "2009-07-01T00:00:00",
          "2009-10-01T00:00:00",
          "2010-01-01T00:00:00",
          "2010-04-01T00:00:00",
          "2010-07-01T00:00:00",
          "2010-10-01T00:00:00",
          "2011-01-01T00:00:00",
          "2011-04-01T00:00:00",
          "2011-07-01T00:00:00",
          "2011-10-01T00:00:00",
          "2012-01-01T00:00:00",
          "2012-04-01T00:00:00",
          "2012-07-01T00:00:00",
          "2012-10-01T00:00:00",
          "2013-01-01T00:00:00",
          "2013-04-01T00:00:00",
          "2013-07-01T00:00:00",
          "2013-10-01T00:00:00",
          "2014-01-01T00:00:00",
          "2014-04-01T00:00:00",
          "2014-07-01T00:00:00",
          "2014-10-01T00:00:00",
          "2015-01-01T00:00:00",
          "2015-04-01T00:00:00",
          "2015-07-01T00:00:00",
          "2015-10-01T00:00:00",
          "2016-01-01T00:00:00",
          "2016-04-01T00:00:00",
          "2016-07-01T00:00:00",
          "2016-10-01T00:00:00",
          "2017-01-01T00:00:00",
          "2017-04-01T00:00:00",
          "2017-07-01T00:00:00",
          "2017-10-01T00:00:00",
          "2018-01-01T00:00:00",
          "2018-04-01T00:00:00",
          "2018-07-01T00:00:00",
          "2018-10-01T00:00:00",
          "2019-01-01T00:00:00",
          "2019-04-01T00:00:00",
          "2019-07-01T00:00:00",
          "2019-10-01T00:00:00",
          "2020-01-01T00:00:00",
          "2020-04-01T00:00:00",
          "2020-07-01T00:00:00",
          "2020-10-01T00:00:00",
          "2021-01-01T00:00:00",
          "2021-04-01T00:00:00",
          "2021-07-01T00:00:00",
          "2021-10-01T00:00:00",
          "2022-01-01T00:00:00",
          "2022-04-01T00:00:00",
          "2022-07-01T00:00:00",
          "2022-10-01T00:00:00",
          "2023-01-01T00:00:00",
          "2023-04-01T00:00:00",
          "2023-07-01T00:00:00",
          "2023-10-01T00:00:00"
         ],
         "y": [
          4.6,
          4,
          3.7,
          4.2,
          4.5,
          3.8,
          3.7,
          4.4,
          4.4,
          4,
          3.9,
          4.4,
          4.6,
          4.1,
          3.8,
          4.2,
          4.4,
          3.9,
          3.6,
          4.1,
          4.5,
          3.8,
          3.5,
          3.9,
          4,
          3.7,
          3.5,
          4,
          4.4,
          3.7,
          3.5,
          3.9,
          4.3,
          3.8,
          3.5,
          4.1,
          4.3,
          3.9,
          3.7,
          4.2,
          4.9,
          4.1,
          3.9,
          4.3,
          4.7,
          4.3,
          4,
          4.5,
          5.2,
          4.5,
          4.4,
          4.9,
          4.8,
          4.7,
          4.6,
          5.4,
          6.3,
          5.4,
          5,
          5.6,
          5.7,
          5,
          4.8,
          5.5
         ]
        }
       ],
       "layout": {
        "font": {
         "family": "Roboto",
         "size": 14
        },
        "margin": {
         "b": 50,
         "l": 50,
         "r": 50,
         "t": 80
        },
        "plot_bgcolor": "white",
        "template": {
         "data": {
          "bar": [
           {
            "error_x": {
             "color": "#2a3f5f"
            },
            "error_y": {
             "color": "#2a3f5f"
            },
            "marker": {
             "line": {
              "color": "#E5ECF6",
              "width": 0.5
             },
             "pattern": {
              "fillmode": "overlay",
              "size": 10,
              "solidity": 0.2
             }
            },
            "type": "bar"
           }
          ],
          "barpolar": [
           {
            "marker": {
             "line": {
              "color": "#E5ECF6",
              "width": 0.5
             },
             "pattern": {
              "fillmode": "overlay",
              "size": 10,
              "solidity": 0.2
             }
            },
            "type": "barpolar"
           }
          ],
          "carpet": [
           {
            "aaxis": {
             "endlinecolor": "#2a3f5f",
             "gridcolor": "white",
             "linecolor": "white",
             "minorgridcolor": "white",
             "startlinecolor": "#2a3f5f"
            },
            "baxis": {
             "endlinecolor": "#2a3f5f",
             "gridcolor": "white",
             "linecolor": "white",
             "minorgridcolor": "white",
             "startlinecolor": "#2a3f5f"
            },
            "type": "carpet"
           }
          ],
          "choropleth": [
           {
            "colorbar": {
             "outlinewidth": 0,
             "ticks": ""
            },
            "type": "choropleth"
           }
          ],
          "contour": [
           {
            "colorbar": {
             "outlinewidth": 0,
             "ticks": ""
            },
            "colorscale": [
             [
              0,
              "#0d0887"
             ],
             [
              0.1111111111111111,
              "#46039f"
             ],
             [
              0.2222222222222222,
              "#7201a8"
             ],
             [
              0.3333333333333333,
              "#9c179e"
             ],
             [
              0.4444444444444444,
              "#bd3786"
             ],
             [
              0.5555555555555556,
              "#d8576b"
             ],
             [
              0.6666666666666666,
              "#ed7953"
             ],
             [
              0.7777777777777778,
              "#fb9f3a"
             ],
             [
              0.8888888888888888,
              "#fdca26"
             ],
             [
              1,
              "#f0f921"
             ]
            ],
            "type": "contour"
           }
          ],
          "contourcarpet": [
           {
            "colorbar": {
             "outlinewidth": 0,
             "ticks": ""
            },
            "type": "contourcarpet"
           }
          ],
          "heatmap": [
           {
            "colorbar": {
             "outlinewidth": 0,
             "ticks": ""
            },
            "colorscale": [
             [
              0,
              "#0d0887"
             ],
             [
              0.1111111111111111,
              "#46039f"
             ],
             [
              0.2222222222222222,
              "#7201a8"
             ],
             [
              0.3333333333333333,
              "#9c179e"
             ],
             [
              0.4444444444444444,
              "#bd3786"
             ],
             [
              0.5555555555555556,
              "#d8576b"
             ],
             [
              0.6666666666666666,
              "#ed7953"
             ],
             [
              0.7777777777777778,
              "#fb9f3a"
             ],
             [
              0.8888888888888888,
              "#fdca26"
             ],
             [
              1,
              "#f0f921"
             ]
            ],
            "type": "heatmap"
           }
          ],
          "heatmapgl": [
           {
            "colorbar": {
             "outlinewidth": 0,
             "ticks": ""
            },
            "colorscale": [
             [
              0,
              "#0d0887"
             ],
             [
              0.1111111111111111,
              "#46039f"
             ],
             [
              0.2222222222222222,
              "#7201a8"
             ],
             [
              0.3333333333333333,
              "#9c179e"
             ],
             [
              0.4444444444444444,
              "#bd3786"
             ],
             [
              0.5555555555555556,
              "#d8576b"
             ],
             [
              0.6666666666666666,
              "#ed7953"
             ],
             [
              0.7777777777777778,
              "#fb9f3a"
             ],
             [
              0.8888888888888888,
              "#fdca26"
             ],
             [
              1,
              "#f0f921"
             ]
            ],
            "type": "heatmapgl"
           }
          ],
          "histogram": [
           {
            "marker": {
             "pattern": {
              "fillmode": "overlay",
              "size": 10,
              "solidity": 0.2
             }
            },
            "type": "histogram"
           }
          ],
          "histogram2d": [
           {
            "colorbar": {
             "outlinewidth": 0,
             "ticks": ""
            },
            "colorscale": [
             [
              0,
              "#0d0887"
             ],
             [
              0.1111111111111111,
              "#46039f"
             ],
             [
              0.2222222222222222,
              "#7201a8"
             ],
             [
              0.3333333333333333,
              "#9c179e"
             ],
             [
              0.4444444444444444,
              "#bd3786"
             ],
             [
              0.5555555555555556,
              "#d8576b"
             ],
             [
              0.6666666666666666,
              "#ed7953"
             ],
             [
              0.7777777777777778,
              "#fb9f3a"
             ],
             [
              0.8888888888888888,
              "#fdca26"
             ],
             [
              1,
              "#f0f921"
             ]
            ],
            "type": "histogram2d"
           }
          ],
          "histogram2dcontour": [
           {
            "colorbar": {
             "outlinewidth": 0,
             "ticks": ""
            },
            "colorscale": [
             [
              0,
              "#0d0887"
             ],
             [
              0.1111111111111111,
              "#46039f"
             ],
             [
              0.2222222222222222,
              "#7201a8"
             ],
             [
              0.3333333333333333,
              "#9c179e"
             ],
             [
              0.4444444444444444,
              "#bd3786"
             ],
             [
              0.5555555555555556,
              "#d8576b"
             ],
             [
              0.6666666666666666,
              "#ed7953"
             ],
             [
              0.7777777777777778,
              "#fb9f3a"
             ],
             [
              0.8888888888888888,
              "#fdca26"
             ],
             [
              1,
              "#f0f921"
             ]
            ],
            "type": "histogram2dcontour"
           }
          ],
          "mesh3d": [
           {
            "colorbar": {
             "outlinewidth": 0,
             "ticks": ""
            },
            "type": "mesh3d"
           }
          ],
          "parcoords": [
           {
            "line": {
             "colorbar": {
              "outlinewidth": 0,
              "ticks": ""
             }
            },
            "type": "parcoords"
           }
          ],
          "pie": [
           {
            "automargin": true,
            "type": "pie"
           }
          ],
          "scatter": [
           {
            "fillpattern": {
             "fillmode": "overlay",
             "size": 10,
             "solidity": 0.2
            },
            "type": "scatter"
           }
          ],
          "scatter3d": [
           {
            "line": {
             "colorbar": {
              "outlinewidth": 0,
              "ticks": ""
             }
            },
            "marker": {
             "colorbar": {
              "outlinewidth": 0,
              "ticks": ""
             }
            },
            "type": "scatter3d"
           }
          ],
          "scattercarpet": [
           {
            "marker": {
             "colorbar": {
              "outlinewidth": 0,
              "ticks": ""
             }
            },
            "type": "scattercarpet"
           }
          ],
          "scattergeo": [
           {
            "marker": {
             "colorbar": {
              "outlinewidth": 0,
              "ticks": ""
             }
            },
            "type": "scattergeo"
           }
          ],
          "scattergl": [
           {
            "marker": {
             "colorbar": {
              "outlinewidth": 0,
              "ticks": ""
             }
            },
            "type": "scattergl"
           }
          ],
          "scattermapbox": [
           {
            "marker": {
             "colorbar": {
              "outlinewidth": 0,
              "ticks": ""
             }
            },
            "type": "scattermapbox"
           }
          ],
          "scatterpolar": [
           {
            "marker": {
             "colorbar": {
              "outlinewidth": 0,
              "ticks": ""
             }
            },
            "type": "scatterpolar"
           }
          ],
          "scatterpolargl": [
           {
            "marker": {
             "colorbar": {
              "outlinewidth": 0,
              "ticks": ""
             }
            },
            "type": "scatterpolargl"
           }
          ],
          "scatterternary": [
           {
            "marker": {
             "colorbar": {
              "outlinewidth": 0,
              "ticks": ""
             }
            },
            "type": "scatterternary"
           }
          ],
          "surface": [
           {
            "colorbar": {
             "outlinewidth": 0,
             "ticks": ""
            },
            "colorscale": [
             [
              0,
              "#0d0887"
             ],
             [
              0.1111111111111111,
              "#46039f"
             ],
             [
              0.2222222222222222,
              "#7201a8"
             ],
             [
              0.3333333333333333,
              "#9c179e"
             ],
             [
              0.4444444444444444,
              "#bd3786"
             ],
             [
              0.5555555555555556,
              "#d8576b"
             ],
             [
              0.6666666666666666,
              "#ed7953"
             ],
             [
              0.7777777777777778,
              "#fb9f3a"
             ],
             [
              0.8888888888888888,
              "#fdca26"
             ],
             [
              1,
              "#f0f921"
             ]
            ],
            "type": "surface"
           }
          ],
          "table": [
           {
            "cells": {
             "fill": {
              "color": "#EBF0F8"
             },
             "line": {
              "color": "white"
             }
            },
            "header": {
             "fill": {
              "color": "#C8D4E3"
             },
             "line": {
              "color": "white"
             }
            },
            "type": "table"
           }
          ]
         },
         "layout": {
          "annotationdefaults": {
           "arrowcolor": "#2a3f5f",
           "arrowhead": 0,
           "arrowwidth": 1
          },
          "autotypenumbers": "strict",
          "coloraxis": {
           "colorbar": {
            "outlinewidth": 0,
            "ticks": ""
           }
          },
          "colorscale": {
           "diverging": [
            [
             0,
             "#8e0152"
            ],
            [
             0.1,
             "#c51b7d"
            ],
            [
             0.2,
             "#de77ae"
            ],
            [
             0.3,
             "#f1b6da"
            ],
            [
             0.4,
             "#fde0ef"
            ],
            [
             0.5,
             "#f7f7f7"
            ],
            [
             0.6,
             "#e6f5d0"
            ],
            [
             0.7,
             "#b8e186"
            ],
            [
             0.8,
             "#7fbc41"
            ],
            [
             0.9,
             "#4d9221"
            ],
            [
             1,
             "#276419"
            ]
           ],
           "sequential": [
            [
             0,
             "#0d0887"
            ],
            [
             0.1111111111111111,
             "#46039f"
            ],
            [
             0.2222222222222222,
             "#7201a8"
            ],
            [
             0.3333333333333333,
             "#9c179e"
            ],
            [
             0.4444444444444444,
             "#bd3786"
            ],
            [
             0.5555555555555556,
             "#d8576b"
            ],
            [
             0.6666666666666666,
             "#ed7953"
            ],
            [
             0.7777777777777778,
             "#fb9f3a"
            ],
            [
             0.8888888888888888,
             "#fdca26"
            ],
            [
             1,
             "#f0f921"
            ]
           ],
           "sequentialminus": [
            [
             0,
             "#0d0887"
            ],
            [
             0.1111111111111111,
             "#46039f"
            ],
            [
             0.2222222222222222,
             "#7201a8"
            ],
            [
             0.3333333333333333,
             "#9c179e"
            ],
            [
             0.4444444444444444,
             "#bd3786"
            ],
            [
             0.5555555555555556,
             "#d8576b"
            ],
            [
             0.6666666666666666,
             "#ed7953"
            ],
            [
             0.7777777777777778,
             "#fb9f3a"
            ],
            [
             0.8888888888888888,
             "#fdca26"
            ],
            [
             1,
             "#f0f921"
            ]
           ]
          },
          "colorway": [
           "#636efa",
           "#EF553B",
           "#00cc96",
           "#ab63fa",
           "#FFA15A",
           "#19d3f3",
           "#FF6692",
           "#B6E880",
           "#FF97FF",
           "#FECB52"
          ],
          "font": {
           "color": "#2a3f5f"
          },
          "geo": {
           "bgcolor": "white",
           "lakecolor": "white",
           "landcolor": "#E5ECF6",
           "showlakes": true,
           "showland": true,
           "subunitcolor": "white"
          },
          "hoverlabel": {
           "align": "left"
          },
          "hovermode": "closest",
          "mapbox": {
           "style": "light"
          },
          "paper_bgcolor": "white",
          "plot_bgcolor": "#E5ECF6",
          "polar": {
           "angularaxis": {
            "gridcolor": "white",
            "linecolor": "white",
            "ticks": ""
           },
           "bgcolor": "#E5ECF6",
           "radialaxis": {
            "gridcolor": "white",
            "linecolor": "white",
            "ticks": ""
           }
          },
          "scene": {
           "xaxis": {
            "backgroundcolor": "#E5ECF6",
            "gridcolor": "white",
            "gridwidth": 2,
            "linecolor": "white",
            "showbackground": true,
            "ticks": "",
            "zerolinecolor": "white"
           },
           "yaxis": {
            "backgroundcolor": "#E5ECF6",
            "gridcolor": "white",
            "gridwidth": 2,
            "linecolor": "white",
            "showbackground": true,
            "ticks": "",
            "zerolinecolor": "white"
           },
           "zaxis": {
            "backgroundcolor": "#E5ECF6",
            "gridcolor": "white",
            "gridwidth": 2,
            "linecolor": "white",
            "showbackground": true,
            "ticks": "",
            "zerolinecolor": "white"
           }
          },
          "shapedefaults": {
           "line": {
            "color": "#2a3f5f"
           }
          },
          "ternary": {
           "aaxis": {
            "gridcolor": "white",
            "linecolor": "white",
            "ticks": ""
           },
           "baxis": {
            "gridcolor": "white",
            "linecolor": "white",
            "ticks": ""
           },
           "bgcolor": "#E5ECF6",
           "caxis": {
            "gridcolor": "white",
            "linecolor": "white",
            "ticks": ""
           }
          },
          "title": {
           "x": 0.05
          },
          "xaxis": {
           "automargin": true,
           "gridcolor": "white",
           "linecolor": "white",
           "ticks": "",
           "title": {
            "standoff": 15
           },
           "zerolinecolor": "white",
           "zerolinewidth": 2
          },
          "yaxis": {
           "automargin": true,
           "gridcolor": "white",
           "linecolor": "white",
           "ticks": "",
           "title": {
            "standoff": 15
           },
           "zerolinecolor": "white",
           "zerolinewidth": 2
          }
         }
        },
        "title": {
         "text": "Sick Leave Percentage Over Time: Quarterly Data for Healthcare (2008-2023)"
        },
        "xaxis": {
         "linecolor": "black",
         "linewidth": 0.5,
         "showgrid": false,
         "showline": true,
         "ticklen": 4,
         "ticks": "outside",
         "ticktext": [
          "2008",
          "",
          "",
          "",
          "2009",
          "",
          "",
          "",
          "2010",
          "",
          "",
          "",
          "2011",
          "",
          "",
          "",
          "2012",
          "",
          "",
          "",
          "2013",
          "",
          "",
          "",
          "2014",
          "",
          "",
          "",
          "2015",
          "",
          "",
          "",
          "2016",
          "",
          "",
          "",
          "2017",
          "",
          "",
          "",
          "2018",
          "",
          "",
          "",
          "2019",
          "",
          "",
          "",
          "2020",
          "",
          "",
          "",
          "2021",
          "",
          "",
          "",
          "2022",
          "",
          "",
          "",
          "2023",
          "",
          "",
          ""
         ],
         "tickvals": [
          "2008-01-01T00:00:00",
          "2008-04-01T00:00:00",
          "2008-07-01T00:00:00",
          "2008-10-01T00:00:00",
          "2009-01-01T00:00:00",
          "2009-04-01T00:00:00",
          "2009-07-01T00:00:00",
          "2009-10-01T00:00:00",
          "2010-01-01T00:00:00",
          "2010-04-01T00:00:00",
          "2010-07-01T00:00:00",
          "2010-10-01T00:00:00",
          "2011-01-01T00:00:00",
          "2011-04-01T00:00:00",
          "2011-07-01T00:00:00",
          "2011-10-01T00:00:00",
          "2012-01-01T00:00:00",
          "2012-04-01T00:00:00",
          "2012-07-01T00:00:00",
          "2012-10-01T00:00:00",
          "2013-01-01T00:00:00",
          "2013-04-01T00:00:00",
          "2013-07-01T00:00:00",
          "2013-10-01T00:00:00",
          "2014-01-01T00:00:00",
          "2014-04-01T00:00:00",
          "2014-07-01T00:00:00",
          "2014-10-01T00:00:00",
          "2015-01-01T00:00:00",
          "2015-04-01T00:00:00",
          "2015-07-01T00:00:00",
          "2015-10-01T00:00:00",
          "2016-01-01T00:00:00",
          "2016-04-01T00:00:00",
          "2016-07-01T00:00:00",
          "2016-10-01T00:00:00",
          "2017-01-01T00:00:00",
          "2017-04-01T00:00:00",
          "2017-07-01T00:00:00",
          "2017-10-01T00:00:00",
          "2018-01-01T00:00:00",
          "2018-04-01T00:00:00",
          "2018-07-01T00:00:00",
          "2018-10-01T00:00:00",
          "2019-01-01T00:00:00",
          "2019-04-01T00:00:00",
          "2019-07-01T00:00:00",
          "2019-10-01T00:00:00",
          "2020-01-01T00:00:00",
          "2020-04-01T00:00:00",
          "2020-07-01T00:00:00",
          "2020-10-01T00:00:00",
          "2021-01-01T00:00:00",
          "2021-04-01T00:00:00",
          "2021-07-01T00:00:00",
          "2021-10-01T00:00:00",
          "2022-01-01T00:00:00",
          "2022-04-01T00:00:00",
          "2022-07-01T00:00:00",
          "2022-10-01T00:00:00",
          "2023-01-01T00:00:00",
          "2023-04-01T00:00:00",
          "2023-07-01T00:00:00",
          "2023-10-01T00:00:00"
         ],
         "tickwidth": 0.5
        },
        "yaxis": {
         "gridcolor": "grey",
         "gridwidth": 0.5,
         "linecolor": "black",
         "linewidth": 0.5,
         "showgrid": true,
         "showline": true,
         "zeroline": false
        }
       }
      }
     },
     "metadata": {},
     "output_type": "display_data"
    }
   ],
   "source": [
    "import plotly.graph_objects as go\n",
    "import pandas as pd\n",
    "\n",
    "def plot_sick_leave(filtered_cbs, title=\"Sick Leave Percentage\"):\n",
    "    fig = go.Figure()\n",
    "\n",
    "    # Add line for sick leave percentage\n",
    "    fig.add_trace(\n",
    "        go.Scatter(\n",
    "            x=filtered_cbs.index,\n",
    "            y=filtered_cbs['sick_leave_percentage'],\n",
    "            mode='lines',\n",
    "            line=dict(color='#0078d2', width=1.5),\n",
    "            name='Sick Leave Percentage'\n",
    "        )\n",
    "    )\n",
    "\n",
    "    # Generate custom tick values and labels (show year only on Q1)\n",
    "    tickvals = filtered_cbs.index\n",
    "    ticktext = [f\"{date.year}\" if date.quarter == 1 else \"\" for date in filtered_cbs.index]\n",
    "\n",
    "    # Set figure background and grid style\n",
    "    fig.update_layout(\n",
    "        title=title,\n",
    "        plot_bgcolor='white',  # Set background color to white\n",
    "        font=dict(family=\"Roboto\", size=14),  # Set font family and size\n",
    "        xaxis=dict(\n",
    "            showline=True, linewidth=0.5, linecolor='black',  # Set axis line style\n",
    "            showgrid=False,  # Disable vertical grid lines\n",
    "            tickvals=tickvals,  # Custom tick positions\n",
    "            ticktext=ticktext,  # Custom tick labels (year only on Q1)\n",
    "            ticks=\"outside\",  # Place ticks outside of the plot\n",
    "            tickwidth=0.5,  # Width of tick lines\n",
    "            ticklen=4,  # Length of tick marks\n",
    "        ),\n",
    "        yaxis=dict(\n",
    "            showline=True, linewidth=0.5, linecolor='black',\n",
    "            showgrid=True, gridcolor='grey', gridwidth=0.5,  # Only horizontal grid lines\n",
    "            zeroline=False,\n",
    "        ),\n",
    "        margin=dict(l=50, r=50, t=80, b=50)  # Margins for neat layout\n",
    "    )\n",
    "\n",
    "       \n",
    "    fig.show()\n",
    "\n",
    "# Example usage with your filtered_cbs data\n",
    "plot_sick_leave(filtered_cbs, title=\"Sick Leave Percentage Over Time: Quarterly Data for Healthcare (2008-2023)\")\n"
   ]
  },
  {
   "cell_type": "code",
   "execution_count": 13,
   "metadata": {},
   "outputs": [],
   "source": [
    "# Set Training, Testing, and Future Forecast Ranges\n",
    "train = filtered_cbs.loc[:'2021-12-31']  # Train until end of 2021\n",
    "test = filtered_cbs.loc['2022-01-01':'2022-12-31']  # Test on 2022\n",
    "forecast_period = pd.date_range(start='2023-01-01', periods=4, freq='QS')  # Forecast for 2023"
   ]
  },
  {
   "cell_type": "code",
   "execution_count": 14,
   "metadata": {},
   "outputs": [
    {
     "data": {
      "text/html": [
       "<table class=\"simpletable\">\n",
       "<caption>SARIMAX Results</caption>\n",
       "<tr>\n",
       "  <th>Dep. Variable:</th>                  <td>y</td>               <th>  No. Observations:  </th>   <td>56</td>   \n",
       "</tr>\n",
       "<tr>\n",
       "  <th>Model:</th>           <td>SARIMAX(0, 1, 1)x(1, 1, [], 4)</td> <th>  Log Likelihood     </th> <td>17.685</td> \n",
       "</tr>\n",
       "<tr>\n",
       "  <th>Date:</th>                   <td>Sat, 26 Oct 2024</td>        <th>  AIC                </th> <td>-29.370</td>\n",
       "</tr>\n",
       "<tr>\n",
       "  <th>Time:</th>                       <td>19:08:19</td>            <th>  BIC                </th> <td>-23.574</td>\n",
       "</tr>\n",
       "<tr>\n",
       "  <th>Sample:</th>                    <td>01-01-2008</td>           <th>  HQIC               </th> <td>-27.155</td>\n",
       "</tr>\n",
       "<tr>\n",
       "  <th></th>                          <td>- 10-01-2021</td>          <th>                     </th>    <td> </td>   \n",
       "</tr>\n",
       "<tr>\n",
       "  <th>Covariance Type:</th>               <td>opg</td>              <th>                     </th>    <td> </td>   \n",
       "</tr>\n",
       "</table>\n",
       "<table class=\"simpletable\">\n",
       "<tr>\n",
       "     <td></td>        <th>coef</th>     <th>std err</th>      <th>z</th>      <th>P>|z|</th>  <th>[0.025</th>    <th>0.975]</th>  \n",
       "</tr>\n",
       "<tr>\n",
       "  <th>ma.L1</th>   <td>   -0.4750</td> <td>    0.155</td> <td>   -3.057</td> <td> 0.002</td> <td>   -0.780</td> <td>   -0.170</td>\n",
       "</tr>\n",
       "<tr>\n",
       "  <th>ar.S.L4</th> <td>   -0.7218</td> <td>    0.145</td> <td>   -4.966</td> <td> 0.000</td> <td>   -1.007</td> <td>   -0.437</td>\n",
       "</tr>\n",
       "<tr>\n",
       "  <th>sigma2</th>  <td>    0.0274</td> <td>    0.005</td> <td>    5.297</td> <td> 0.000</td> <td>    0.017</td> <td>    0.038</td>\n",
       "</tr>\n",
       "</table>\n",
       "<table class=\"simpletable\">\n",
       "<tr>\n",
       "  <th>Ljung-Box (L1) (Q):</th>     <td>0.00</td> <th>  Jarque-Bera (JB):  </th> <td>5.97</td> \n",
       "</tr>\n",
       "<tr>\n",
       "  <th>Prob(Q):</th>                <td>0.97</td> <th>  Prob(JB):          </th> <td>0.05</td> \n",
       "</tr>\n",
       "<tr>\n",
       "  <th>Heteroskedasticity (H):</th> <td>2.10</td> <th>  Skew:              </th> <td>-0.49</td>\n",
       "</tr>\n",
       "<tr>\n",
       "  <th>Prob(H) (two-sided):</th>    <td>0.14</td> <th>  Kurtosis:          </th> <td>4.36</td> \n",
       "</tr>\n",
       "</table><br/><br/>Warnings:<br/>[1] Covariance matrix calculated using the outer product of gradients (complex-step)."
      ],
      "text/latex": [
       "\\begin{center}\n",
       "\\begin{tabular}{lclc}\n",
       "\\toprule\n",
       "\\textbf{Dep. Variable:}          &               y                & \\textbf{  No. Observations:  } &     56      \\\\\n",
       "\\textbf{Model:}                  & SARIMAX(0, 1, 1)x(1, 1, [], 4) & \\textbf{  Log Likelihood     } &   17.685    \\\\\n",
       "\\textbf{Date:}                   &        Sat, 26 Oct 2024        & \\textbf{  AIC                } &  -29.370    \\\\\n",
       "\\textbf{Time:}                   &            19:08:19            & \\textbf{  BIC                } &  -23.574    \\\\\n",
       "\\textbf{Sample:}                 &           01-01-2008           & \\textbf{  HQIC               } &  -27.155    \\\\\n",
       "\\textbf{}                        &          - 10-01-2021          & \\textbf{                     } &             \\\\\n",
       "\\textbf{Covariance Type:}        &              opg               & \\textbf{                     } &             \\\\\n",
       "\\bottomrule\n",
       "\\end{tabular}\n",
       "\\begin{tabular}{lcccccc}\n",
       "                 & \\textbf{coef} & \\textbf{std err} & \\textbf{z} & \\textbf{P$> |$z$|$} & \\textbf{[0.025} & \\textbf{0.975]}  \\\\\n",
       "\\midrule\n",
       "\\textbf{ma.L1}   &      -0.4750  &        0.155     &    -3.057  &         0.002        &       -0.780    &       -0.170     \\\\\n",
       "\\textbf{ar.S.L4} &      -0.7218  &        0.145     &    -4.966  &         0.000        &       -1.007    &       -0.437     \\\\\n",
       "\\textbf{sigma2}  &       0.0274  &        0.005     &     5.297  &         0.000        &        0.017    &        0.038     \\\\\n",
       "\\bottomrule\n",
       "\\end{tabular}\n",
       "\\begin{tabular}{lclc}\n",
       "\\textbf{Ljung-Box (L1) (Q):}     & 0.00 & \\textbf{  Jarque-Bera (JB):  } &  5.97  \\\\\n",
       "\\textbf{Prob(Q):}                & 0.97 & \\textbf{  Prob(JB):          } &  0.05  \\\\\n",
       "\\textbf{Heteroskedasticity (H):} & 2.10 & \\textbf{  Skew:              } & -0.49  \\\\\n",
       "\\textbf{Prob(H) (two-sided):}    & 0.14 & \\textbf{  Kurtosis:          } &  4.36  \\\\\n",
       "\\bottomrule\n",
       "\\end{tabular}\n",
       "%\\caption{SARIMAX Results}\n",
       "\\end{center}\n",
       "\n",
       "Warnings: \\newline\n",
       " [1] Covariance matrix calculated using the outer product of gradients (complex-step)."
      ],
      "text/plain": [
       "<class 'statsmodels.iolib.summary.Summary'>\n",
       "\"\"\"\n",
       "                                     SARIMAX Results                                      \n",
       "==========================================================================================\n",
       "Dep. Variable:                                  y   No. Observations:                   56\n",
       "Model:             SARIMAX(0, 1, 1)x(1, 1, [], 4)   Log Likelihood                  17.685\n",
       "Date:                            Sat, 26 Oct 2024   AIC                            -29.370\n",
       "Time:                                    19:08:19   BIC                            -23.574\n",
       "Sample:                                01-01-2008   HQIC                           -27.155\n",
       "                                     - 10-01-2021                                         \n",
       "Covariance Type:                              opg                                         \n",
       "==============================================================================\n",
       "                 coef    std err          z      P>|z|      [0.025      0.975]\n",
       "------------------------------------------------------------------------------\n",
       "ma.L1         -0.4750      0.155     -3.057      0.002      -0.780      -0.170\n",
       "ar.S.L4       -0.7218      0.145     -4.966      0.000      -1.007      -0.437\n",
       "sigma2         0.0274      0.005      5.297      0.000       0.017       0.038\n",
       "===================================================================================\n",
       "Ljung-Box (L1) (Q):                   0.00   Jarque-Bera (JB):                 5.97\n",
       "Prob(Q):                              0.97   Prob(JB):                         0.05\n",
       "Heteroskedasticity (H):               2.10   Skew:                            -0.49\n",
       "Prob(H) (two-sided):                  0.14   Kurtosis:                         4.36\n",
       "===================================================================================\n",
       "\n",
       "Warnings:\n",
       "[1] Covariance matrix calculated using the outer product of gradients (complex-step).\n",
       "\"\"\""
      ]
     },
     "execution_count": 14,
     "metadata": {},
     "output_type": "execute_result"
    }
   ],
   "source": [
    "# Auto ARIMA Suggestion\n",
    "auto_arima(train['sick_leave_percentage'], seasonal=True, m=4).summary()"
   ]
  },
  {
   "cell_type": "code",
   "execution_count": 15,
   "metadata": {},
   "outputs": [],
   "source": [
    "# Step 1: Create a rolling average for avg_temp\n",
    "filtered_cbs['avg_temp_rolling'] = filtered_cbs['avg_temp'].rolling(window=3).mean()\n",
    "\n",
    "# Drop rows where 'avg_temp_rolling' has NaN values to ensure clean data\n",
    "filtered_cbs = filtered_cbs.dropna(subset=['avg_temp_rolling', 'sick_leave_percentage'])\n",
    "\n",
    "# Prepare train and test sets with the rolling average as exogenous variable\n",
    "train = filtered_cbs.iloc[:-8]\n",
    "test = filtered_cbs.iloc[-8:]\n"
   ]
  },
  {
   "cell_type": "code",
   "execution_count": 16,
   "metadata": {},
   "outputs": [
    {
     "ename": "NameError",
     "evalue": "name 'find_best_sarimax' is not defined",
     "output_type": "error",
     "traceback": [
      "\u001b[1;31m---------------------------------------------------------------------------\u001b[0m",
      "\u001b[1;31mNameError\u001b[0m                                 Traceback (most recent call last)",
      "Cell \u001b[1;32mIn[16], line 11\u001b[0m\n\u001b[0;32m      8\u001b[0m m \u001b[38;5;241m=\u001b[39m \u001b[38;5;241m4\u001b[39m  \u001b[38;5;66;03m# Start with quarterly seasonality\u001b[39;00m\n\u001b[0;32m     10\u001b[0m \u001b[38;5;66;03m# Run find_best_sarimax to get baseline parameters\u001b[39;00m\n\u001b[1;32m---> 11\u001b[0m best_model, best_order, best_seasonal_order, exog_test \u001b[38;5;241m=\u001b[39m \u001b[43mfind_best_sarimax\u001b[49m(\n\u001b[0;32m     12\u001b[0m     train, p, d, q, P, D, Q, m,\n\u001b[0;32m     13\u001b[0m     exog_train\u001b[38;5;241m=\u001b[39mtrain[[\u001b[38;5;124m'\u001b[39m\u001b[38;5;124mavg_temp_rolling\u001b[39m\u001b[38;5;124m'\u001b[39m]],\n\u001b[0;32m     14\u001b[0m     exog_test\u001b[38;5;241m=\u001b[39mtest[[\u001b[38;5;124m'\u001b[39m\u001b[38;5;124mavg_temp_rolling\u001b[39m\u001b[38;5;124m'\u001b[39m]]\n\u001b[0;32m     15\u001b[0m )\n",
      "\u001b[1;31mNameError\u001b[0m: name 'find_best_sarimax' is not defined"
     ]
    }
   ],
   "source": [
    "# Define ranges for the parameters (initial broad search)\n",
    "p = range(0, 3)\n",
    "d = range(0, 2)\n",
    "q = range(0, 3)\n",
    "P = range(0, 3)\n",
    "D = range(0, 2)\n",
    "Q = range(0, 3)\n",
    "m = 4  # Start with quarterly seasonality\n",
    "\n",
    "# Run find_best_sarimax to get baseline parameters\n",
    "best_model, best_order, best_seasonal_order, exog_test = find_best_sarimax(\n",
    "    train, p, d, q, P, D, Q, m,\n",
    "    exog_train=train[['avg_temp_rolling']],\n",
    "    exog_test=test[['avg_temp_rolling']]\n",
    ")\n"
   ]
  },
  {
   "cell_type": "code",
   "execution_count": 82,
   "metadata": {},
   "outputs": [
    {
     "name": "stdout",
     "output_type": "stream",
     "text": [
      "Best SARIMAX order: (1, 0, 0), seasonal order: (1, 1, 1, 4), AIC: -17.85290261294293\n"
     ]
    }
   ],
   "source": [
    "# Narrow the grid search around initial best parameters\n",
    "p = range(max(0, best_order[0] - 1), best_order[0] + 2)\n",
    "d = range(0, 2)\n",
    "q = range(max(0, best_order[2] - 1), best_order[2] + 2)\n",
    "P = range(max(0, best_seasonal_order[0] - 1), best_seasonal_order[0] + 2)\n",
    "D = range(0, 2)\n",
    "Q = range(max(0, best_seasonal_order[2] - 1), best_seasonal_order[2] + 2)\n",
    "\n",
    "# Step 3: Run the function again with refined ranges\n",
    "best_model, best_order, best_seasonal_order, exog_test = find_best_sarimax(\n",
    "    train, p, d, q, P, D, Q, m,\n",
    "    exog_train=train[['avg_temp_rolling']],\n",
    "    exog_test=test[['avg_temp_rolling']]\n",
    ")"
   ]
  },
  {
   "cell_type": "code",
   "execution_count": 83,
   "metadata": {},
   "outputs": [],
   "source": [
    "# Step 4: Make predictions using the best model with exogenous data for the test set\n",
    "start = len(train)\n",
    "end = len(train) + len(test) - 1\n",
    "predictions = best_model.predict(start=start, end=end, exog=exog_test[['avg_temp_rolling']]).rename('SARIMAX Predictions')"
   ]
  },
  {
   "cell_type": "code",
   "execution_count": 86,
   "metadata": {},
   "outputs": [
    {
     "name": "stdout",
     "output_type": "stream",
     "text": [
      "MAE for all four quarters: 0.33929261237996267\n",
      "MAE for the next quarter (Q1): 0.03283384791048416\n"
     ]
    },
    {
     "data": {
      "application/vnd.plotly.v1+json": {
       "config": {
        "plotlyServerURL": "https://plot.ly"
       },
       "data": [
        {
         "line": {
          "color": "#0078d2",
          "width": 2
         },
         "mode": "lines+markers",
         "name": "Actual",
         "type": "scatter",
         "x": [
          "2022-01-01T00:00:00",
          "2022-04-01T00:00:00",
          "2022-07-01T00:00:00",
          "2022-10-01T00:00:00",
          "2023-01-01T00:00:00",
          "2023-04-01T00:00:00",
          "2023-07-01T00:00:00",
          "2023-10-01T00:00:00"
         ],
         "y": [
          6.3,
          5.4,
          5,
          5.6,
          5.7,
          5,
          4.8,
          5.5
         ]
        },
        {
         "line": {
          "color": "orange",
          "dash": "dash",
          "width": 2
         },
         "mode": "lines+markers",
         "name": "Predictions",
         "type": "scatter",
         "x": [
          "2022-01-01T00:00:00",
          "2022-04-01T00:00:00",
          "2022-07-01T00:00:00",
          "2022-10-01T00:00:00",
          "2023-01-01T00:00:00",
          "2023-04-01T00:00:00",
          "2023-07-01T00:00:00",
          "2023-10-01T00:00:00"
         ],
         "y": [
          6.267166152089516,
          5.556866165756061,
          5.375258670587015,
          5.792147705401092,
          5.6511461278627815,
          5.500431164779849,
          5.413451052770894,
          6.294498419697088
         ]
        }
       ],
       "layout": {
        "annotations": [
         {
          "font": {
           "color": "black",
           "size": 12
          },
          "showarrow": false,
          "text": "MAE for all four quarters: 0.3393",
          "x": 0,
          "xref": "paper",
          "y": 1.1,
          "yref": "paper"
         },
         {
          "font": {
           "color": "black",
           "size": 12
          },
          "showarrow": false,
          "text": "MAE for next quarter (Q1): 0.0328",
          "x": 0,
          "xref": "paper",
          "y": 1.15,
          "yref": "paper"
         }
        ],
        "height": 500,
        "legend": {
         "orientation": "h",
         "x": 0.85,
         "y": 1.15
        },
        "plot_bgcolor": "white",
        "template": {
         "data": {
          "bar": [
           {
            "error_x": {
             "color": "#2a3f5f"
            },
            "error_y": {
             "color": "#2a3f5f"
            },
            "marker": {
             "line": {
              "color": "#E5ECF6",
              "width": 0.5
             },
             "pattern": {
              "fillmode": "overlay",
              "size": 10,
              "solidity": 0.2
             }
            },
            "type": "bar"
           }
          ],
          "barpolar": [
           {
            "marker": {
             "line": {
              "color": "#E5ECF6",
              "width": 0.5
             },
             "pattern": {
              "fillmode": "overlay",
              "size": 10,
              "solidity": 0.2
             }
            },
            "type": "barpolar"
           }
          ],
          "carpet": [
           {
            "aaxis": {
             "endlinecolor": "#2a3f5f",
             "gridcolor": "white",
             "linecolor": "white",
             "minorgridcolor": "white",
             "startlinecolor": "#2a3f5f"
            },
            "baxis": {
             "endlinecolor": "#2a3f5f",
             "gridcolor": "white",
             "linecolor": "white",
             "minorgridcolor": "white",
             "startlinecolor": "#2a3f5f"
            },
            "type": "carpet"
           }
          ],
          "choropleth": [
           {
            "colorbar": {
             "outlinewidth": 0,
             "ticks": ""
            },
            "type": "choropleth"
           }
          ],
          "contour": [
           {
            "colorbar": {
             "outlinewidth": 0,
             "ticks": ""
            },
            "colorscale": [
             [
              0,
              "#0d0887"
             ],
             [
              0.1111111111111111,
              "#46039f"
             ],
             [
              0.2222222222222222,
              "#7201a8"
             ],
             [
              0.3333333333333333,
              "#9c179e"
             ],
             [
              0.4444444444444444,
              "#bd3786"
             ],
             [
              0.5555555555555556,
              "#d8576b"
             ],
             [
              0.6666666666666666,
              "#ed7953"
             ],
             [
              0.7777777777777778,
              "#fb9f3a"
             ],
             [
              0.8888888888888888,
              "#fdca26"
             ],
             [
              1,
              "#f0f921"
             ]
            ],
            "type": "contour"
           }
          ],
          "contourcarpet": [
           {
            "colorbar": {
             "outlinewidth": 0,
             "ticks": ""
            },
            "type": "contourcarpet"
           }
          ],
          "heatmap": [
           {
            "colorbar": {
             "outlinewidth": 0,
             "ticks": ""
            },
            "colorscale": [
             [
              0,
              "#0d0887"
             ],
             [
              0.1111111111111111,
              "#46039f"
             ],
             [
              0.2222222222222222,
              "#7201a8"
             ],
             [
              0.3333333333333333,
              "#9c179e"
             ],
             [
              0.4444444444444444,
              "#bd3786"
             ],
             [
              0.5555555555555556,
              "#d8576b"
             ],
             [
              0.6666666666666666,
              "#ed7953"
             ],
             [
              0.7777777777777778,
              "#fb9f3a"
             ],
             [
              0.8888888888888888,
              "#fdca26"
             ],
             [
              1,
              "#f0f921"
             ]
            ],
            "type": "heatmap"
           }
          ],
          "heatmapgl": [
           {
            "colorbar": {
             "outlinewidth": 0,
             "ticks": ""
            },
            "colorscale": [
             [
              0,
              "#0d0887"
             ],
             [
              0.1111111111111111,
              "#46039f"
             ],
             [
              0.2222222222222222,
              "#7201a8"
             ],
             [
              0.3333333333333333,
              "#9c179e"
             ],
             [
              0.4444444444444444,
              "#bd3786"
             ],
             [
              0.5555555555555556,
              "#d8576b"
             ],
             [
              0.6666666666666666,
              "#ed7953"
             ],
             [
              0.7777777777777778,
              "#fb9f3a"
             ],
             [
              0.8888888888888888,
              "#fdca26"
             ],
             [
              1,
              "#f0f921"
             ]
            ],
            "type": "heatmapgl"
           }
          ],
          "histogram": [
           {
            "marker": {
             "pattern": {
              "fillmode": "overlay",
              "size": 10,
              "solidity": 0.2
             }
            },
            "type": "histogram"
           }
          ],
          "histogram2d": [
           {
            "colorbar": {
             "outlinewidth": 0,
             "ticks": ""
            },
            "colorscale": [
             [
              0,
              "#0d0887"
             ],
             [
              0.1111111111111111,
              "#46039f"
             ],
             [
              0.2222222222222222,
              "#7201a8"
             ],
             [
              0.3333333333333333,
              "#9c179e"
             ],
             [
              0.4444444444444444,
              "#bd3786"
             ],
             [
              0.5555555555555556,
              "#d8576b"
             ],
             [
              0.6666666666666666,
              "#ed7953"
             ],
             [
              0.7777777777777778,
              "#fb9f3a"
             ],
             [
              0.8888888888888888,
              "#fdca26"
             ],
             [
              1,
              "#f0f921"
             ]
            ],
            "type": "histogram2d"
           }
          ],
          "histogram2dcontour": [
           {
            "colorbar": {
             "outlinewidth": 0,
             "ticks": ""
            },
            "colorscale": [
             [
              0,
              "#0d0887"
             ],
             [
              0.1111111111111111,
              "#46039f"
             ],
             [
              0.2222222222222222,
              "#7201a8"
             ],
             [
              0.3333333333333333,
              "#9c179e"
             ],
             [
              0.4444444444444444,
              "#bd3786"
             ],
             [
              0.5555555555555556,
              "#d8576b"
             ],
             [
              0.6666666666666666,
              "#ed7953"
             ],
             [
              0.7777777777777778,
              "#fb9f3a"
             ],
             [
              0.8888888888888888,
              "#fdca26"
             ],
             [
              1,
              "#f0f921"
             ]
            ],
            "type": "histogram2dcontour"
           }
          ],
          "mesh3d": [
           {
            "colorbar": {
             "outlinewidth": 0,
             "ticks": ""
            },
            "type": "mesh3d"
           }
          ],
          "parcoords": [
           {
            "line": {
             "colorbar": {
              "outlinewidth": 0,
              "ticks": ""
             }
            },
            "type": "parcoords"
           }
          ],
          "pie": [
           {
            "automargin": true,
            "type": "pie"
           }
          ],
          "scatter": [
           {
            "fillpattern": {
             "fillmode": "overlay",
             "size": 10,
             "solidity": 0.2
            },
            "type": "scatter"
           }
          ],
          "scatter3d": [
           {
            "line": {
             "colorbar": {
              "outlinewidth": 0,
              "ticks": ""
             }
            },
            "marker": {
             "colorbar": {
              "outlinewidth": 0,
              "ticks": ""
             }
            },
            "type": "scatter3d"
           }
          ],
          "scattercarpet": [
           {
            "marker": {
             "colorbar": {
              "outlinewidth": 0,
              "ticks": ""
             }
            },
            "type": "scattercarpet"
           }
          ],
          "scattergeo": [
           {
            "marker": {
             "colorbar": {
              "outlinewidth": 0,
              "ticks": ""
             }
            },
            "type": "scattergeo"
           }
          ],
          "scattergl": [
           {
            "marker": {
             "colorbar": {
              "outlinewidth": 0,
              "ticks": ""
             }
            },
            "type": "scattergl"
           }
          ],
          "scattermapbox": [
           {
            "marker": {
             "colorbar": {
              "outlinewidth": 0,
              "ticks": ""
             }
            },
            "type": "scattermapbox"
           }
          ],
          "scatterpolar": [
           {
            "marker": {
             "colorbar": {
              "outlinewidth": 0,
              "ticks": ""
             }
            },
            "type": "scatterpolar"
           }
          ],
          "scatterpolargl": [
           {
            "marker": {
             "colorbar": {
              "outlinewidth": 0,
              "ticks": ""
             }
            },
            "type": "scatterpolargl"
           }
          ],
          "scatterternary": [
           {
            "marker": {
             "colorbar": {
              "outlinewidth": 0,
              "ticks": ""
             }
            },
            "type": "scatterternary"
           }
          ],
          "surface": [
           {
            "colorbar": {
             "outlinewidth": 0,
             "ticks": ""
            },
            "colorscale": [
             [
              0,
              "#0d0887"
             ],
             [
              0.1111111111111111,
              "#46039f"
             ],
             [
              0.2222222222222222,
              "#7201a8"
             ],
             [
              0.3333333333333333,
              "#9c179e"
             ],
             [
              0.4444444444444444,
              "#bd3786"
             ],
             [
              0.5555555555555556,
              "#d8576b"
             ],
             [
              0.6666666666666666,
              "#ed7953"
             ],
             [
              0.7777777777777778,
              "#fb9f3a"
             ],
             [
              0.8888888888888888,
              "#fdca26"
             ],
             [
              1,
              "#f0f921"
             ]
            ],
            "type": "surface"
           }
          ],
          "table": [
           {
            "cells": {
             "fill": {
              "color": "#EBF0F8"
             },
             "line": {
              "color": "white"
             }
            },
            "header": {
             "fill": {
              "color": "#C8D4E3"
             },
             "line": {
              "color": "white"
             }
            },
            "type": "table"
           }
          ]
         },
         "layout": {
          "annotationdefaults": {
           "arrowcolor": "#2a3f5f",
           "arrowhead": 0,
           "arrowwidth": 1
          },
          "autotypenumbers": "strict",
          "coloraxis": {
           "colorbar": {
            "outlinewidth": 0,
            "ticks": ""
           }
          },
          "colorscale": {
           "diverging": [
            [
             0,
             "#8e0152"
            ],
            [
             0.1,
             "#c51b7d"
            ],
            [
             0.2,
             "#de77ae"
            ],
            [
             0.3,
             "#f1b6da"
            ],
            [
             0.4,
             "#fde0ef"
            ],
            [
             0.5,
             "#f7f7f7"
            ],
            [
             0.6,
             "#e6f5d0"
            ],
            [
             0.7,
             "#b8e186"
            ],
            [
             0.8,
             "#7fbc41"
            ],
            [
             0.9,
             "#4d9221"
            ],
            [
             1,
             "#276419"
            ]
           ],
           "sequential": [
            [
             0,
             "#0d0887"
            ],
            [
             0.1111111111111111,
             "#46039f"
            ],
            [
             0.2222222222222222,
             "#7201a8"
            ],
            [
             0.3333333333333333,
             "#9c179e"
            ],
            [
             0.4444444444444444,
             "#bd3786"
            ],
            [
             0.5555555555555556,
             "#d8576b"
            ],
            [
             0.6666666666666666,
             "#ed7953"
            ],
            [
             0.7777777777777778,
             "#fb9f3a"
            ],
            [
             0.8888888888888888,
             "#fdca26"
            ],
            [
             1,
             "#f0f921"
            ]
           ],
           "sequentialminus": [
            [
             0,
             "#0d0887"
            ],
            [
             0.1111111111111111,
             "#46039f"
            ],
            [
             0.2222222222222222,
             "#7201a8"
            ],
            [
             0.3333333333333333,
             "#9c179e"
            ],
            [
             0.4444444444444444,
             "#bd3786"
            ],
            [
             0.5555555555555556,
             "#d8576b"
            ],
            [
             0.6666666666666666,
             "#ed7953"
            ],
            [
             0.7777777777777778,
             "#fb9f3a"
            ],
            [
             0.8888888888888888,
             "#fdca26"
            ],
            [
             1,
             "#f0f921"
            ]
           ]
          },
          "colorway": [
           "#636efa",
           "#EF553B",
           "#00cc96",
           "#ab63fa",
           "#FFA15A",
           "#19d3f3",
           "#FF6692",
           "#B6E880",
           "#FF97FF",
           "#FECB52"
          ],
          "font": {
           "color": "#2a3f5f"
          },
          "geo": {
           "bgcolor": "white",
           "lakecolor": "white",
           "landcolor": "#E5ECF6",
           "showlakes": true,
           "showland": true,
           "subunitcolor": "white"
          },
          "hoverlabel": {
           "align": "left"
          },
          "hovermode": "closest",
          "mapbox": {
           "style": "light"
          },
          "paper_bgcolor": "white",
          "plot_bgcolor": "#E5ECF6",
          "polar": {
           "angularaxis": {
            "gridcolor": "white",
            "linecolor": "white",
            "ticks": ""
           },
           "bgcolor": "#E5ECF6",
           "radialaxis": {
            "gridcolor": "white",
            "linecolor": "white",
            "ticks": ""
           }
          },
          "scene": {
           "xaxis": {
            "backgroundcolor": "#E5ECF6",
            "gridcolor": "white",
            "gridwidth": 2,
            "linecolor": "white",
            "showbackground": true,
            "ticks": "",
            "zerolinecolor": "white"
           },
           "yaxis": {
            "backgroundcolor": "#E5ECF6",
            "gridcolor": "white",
            "gridwidth": 2,
            "linecolor": "white",
            "showbackground": true,
            "ticks": "",
            "zerolinecolor": "white"
           },
           "zaxis": {
            "backgroundcolor": "#E5ECF6",
            "gridcolor": "white",
            "gridwidth": 2,
            "linecolor": "white",
            "showbackground": true,
            "ticks": "",
            "zerolinecolor": "white"
           }
          },
          "shapedefaults": {
           "line": {
            "color": "#2a3f5f"
           }
          },
          "ternary": {
           "aaxis": {
            "gridcolor": "white",
            "linecolor": "white",
            "ticks": ""
           },
           "baxis": {
            "gridcolor": "white",
            "linecolor": "white",
            "ticks": ""
           },
           "bgcolor": "#E5ECF6",
           "caxis": {
            "gridcolor": "white",
            "linecolor": "white",
            "ticks": ""
           }
          },
          "title": {
           "x": 0.05
          },
          "xaxis": {
           "automargin": true,
           "gridcolor": "white",
           "linecolor": "white",
           "ticks": "",
           "title": {
            "standoff": 15
           },
           "zerolinecolor": "white",
           "zerolinewidth": 2
          },
          "yaxis": {
           "automargin": true,
           "gridcolor": "white",
           "linecolor": "white",
           "ticks": "",
           "title": {
            "standoff": 15
           },
           "zerolinecolor": "white",
           "zerolinewidth": 2
          }
         }
        },
        "title": {
         "text": "Sick Leave Percentage - Test vs Predictions Q Healtcare Branch"
        },
        "width": 800,
        "xaxis": {
         "showgrid": false,
         "title": {
          "text": "Date"
         }
        },
        "yaxis": {
         "gridcolor": "lightgrey",
         "showgrid": true,
         "title": {
          "text": "Sick Leave Percentage"
         }
        }
       }
      }
     },
     "metadata": {},
     "output_type": "display_data"
    }
   ],
   "source": [
    "# Calculate MAE for all four quarters\n",
    "mae_value = mean_absolute_error(test['sick_leave_percentage'], predictions)\n",
    "print(f'MAE for all four quarters: {mae_value}')\n",
    "\n",
    "# Calculate MAE for the next quarter (Q1)\n",
    "mae_q1 = mean_absolute_error(test['sick_leave_percentage'].iloc[:1], predictions.iloc[:1])\n",
    "print(f'MAE for the next quarter (Q1): {mae_q1}')\n",
    "\n",
    "# Create a Plotly figure\n",
    "fig = go.Figure()\n",
    "\n",
    "# Add actual sick leave percentage line (test data)\n",
    "fig.add_trace(go.Scatter(\n",
    "    x=test.index,\n",
    "    y=test['sick_leave_percentage'],\n",
    "    mode='lines+markers',\n",
    "    name='Actual',\n",
    "    line=dict(color='#0078d2', width=2)\n",
    "))\n",
    "\n",
    "# Add predictions line\n",
    "fig.add_trace(go.Scatter(\n",
    "    x=test.index,\n",
    "    y=predictions,\n",
    "    mode='lines+markers',\n",
    "    name='Predictions',\n",
    "    line=dict(color='orange', width=2, dash='dash')\n",
    "))\n",
    "\n",
    "# Add MAE values as text annotations\n",
    "fig.add_annotation(\n",
    "    xref=\"paper\", yref=\"paper\", x=0.00, y=1.10, showarrow=False,\n",
    "    text=f\"MAE for all four quarters: {mae_value:.4f}\",\n",
    "    font=dict(size=12, color=\"black\")\n",
    ")\n",
    "\n",
    "fig.add_annotation(\n",
    "    xref=\"paper\", yref=\"paper\", x=0.00, y=1.15, showarrow=False,\n",
    "    text=f\"MAE for next quarter (Q1): {mae_q1:.4f}\",\n",
    "    font=dict(size=12, color=\"black\")\n",
    ")\n",
    "\n",
    "# Customize layout\n",
    "fig.update_layout(\n",
    "    title='Sick Leave Percentage - Test vs Predictions Q Healtcare Branch',\n",
    "    xaxis_title='Date',\n",
    "    yaxis_title='Sick Leave Percentage',\n",
    "    plot_bgcolor='white',\n",
    "    xaxis=dict(showgrid=False),\n",
    "    yaxis=dict(showgrid=True, gridcolor='lightgrey'),\n",
    "    legend=dict(x=0.85, y=1.15, orientation=\"h\"),\n",
    "    width=800, height=500\n",
    ")\n",
    "\n",
    "# Save the plot as a JPEG file\n",
    "fig.write_image(\"Sick_leave_predict_sari.jpeg\")\n",
    "\n",
    "# Save the plot as an HTML file\n",
    "fig.write_html(\"Sick_leave_predict_sari.html\")\n",
    "\n",
    "# Show plot\n",
    "fig.show()\n"
   ]
  },
  {
   "cell_type": "code",
   "execution_count": 43,
   "metadata": {},
   "outputs": [
    {
     "name": "stdout",
     "output_type": "stream",
     "text": [
      "Correlation between sick_leave_percentage and avg_temp: -0.4370942409056401\n"
     ]
    }
   ],
   "source": [
    "correlation = filtered_cbs[['sick_leave_percentage', 'avg_temp']].corr()\n",
    "print(\"Correlation between sick_leave_percentage and avg_temp:\", correlation.iloc[0, 1])\n"
   ]
  },
  {
   "cell_type": "code",
   "execution_count": 50,
   "metadata": {},
   "outputs": [
    {
     "data": {
      "image/png": "[encoded data removed]",
      "text/plain": [
       "<Figure size 1200x600 with 1 Axes>"
      ]
     },
     "metadata": {},
     "output_type": "display_data"
    }
   ],
   "source": [
    "# Test vs Predictions Plot\n",
    "ax = test['sick_leave_percentage'].plot(\n",
    "    legend=True, \n",
    "    figsize=(12, 6), \n",
    "    title='Sick Leave Percentage - Test vs Predictions', \n",
    "    linewidth=1.5\n",
    ")\n",
    "predictions.plot(legend=True, ax=ax, linewidth=1.5)\n",
    "plt.show()"
   ]
  },
  {
   "cell_type": "code",
   "execution_count": 53,
   "metadata": {},
   "outputs": [],
   "source": [
    "# Train SARIMAX on the Full Dataset - Option 1\n",
    "#final_model = SARIMAX(filtered_cbs['sick_leave_percentage'],\n",
    "                      #order=(1, 0, 1),  # No differencing\n",
    "                      #seasonal_order=(1, 0, 1, 4),  # Seasonal order with no differencing\n",
    "                      #enforce_stationarity=False,\n",
    "                      #enforce_invertibility=False)\n",
    "\n",
    "#final_results = final_model.fit(maxiter=1000, method='lbfgs')\n",
    "\n",
    "# Outcome:Too few observations to estimate starting parameters for seasonal ARMA. All parameters except for variances will be set to zeros.This warning suggests that the model does not have enough data points to reliably estimate the initial values of the seasonal AR and MA parameters. As a result, the starting parameters (coefficients) for these components are set to zero to allow the model to proceed.\n",
    "# Insufficient Data: Seasonal components require enough seasonal cycles (repeated patterns) in the data to estimate the parameters effectively. If your time series is too short or lacks sufficient seasonal cycles, the model cannot accurately determine these parameters.\n"
   ]
  },
  {
   "cell_type": "code",
   "execution_count": 54,
   "metadata": {},
   "outputs": [],
   "source": [
    "# Simplified SARIMAX model with reduced seasonal order - Option 2\n",
    "#final_model = SARIMAX(filtered_cbs['sick_leave_percentage'],\n",
    "                      #order=(1, 0, 1),  # No differencing\n",
    "                      #seasonal_order=(0, 0, 0, 4),  # Simplified seasonal order\n",
    "                      #enforce_stationarity=False,\n",
    "                      #enforce_invertibility=False)\n",
    "\n",
    "#final_results = final_model.fit(maxiter=1000, method='lbfgs')"
   ]
  },
  {
   "cell_type": "code",
   "execution_count": 55,
   "metadata": {},
   "outputs": [
    {
     "name": "stderr",
     "output_type": "stream",
     "text": [
      "c:\\Users\\c.hakker\\OneDrive - VISTA college\\Senior Stuff\\Opleiding Data science\\uwv\\.venv\\Lib\\site-packages\\statsmodels\\base\\optimizer.py:19: FutureWarning: Keyword arguments have been passed to the optimizer that have no effect. The list of allowed keyword arguments for method powell is: xtol, ftol, maxfun, start_direc. The list of unsupported keyword arguments passed include: tol. After release 0.14, this will raise.\n",
      "  warnings.warn(\n"
     ]
    },
    {
     "name": "stdout",
     "output_type": "stream",
     "text": [
      "Optimization terminated successfully.\n",
      "         Current function value: -0.201330\n",
      "         Iterations: 5\n",
      "         Function evaluations: 284\n",
      "                                     SARIMAX Results                                     \n",
      "=========================================================================================\n",
      "Dep. Variable:             sick_leave_percentage   No. Observations:                   64\n",
      "Model:             SARIMAX(1, 0, 1)x(1, 0, 1, 4)   Log Likelihood                  12.885\n",
      "Date:                           Fri, 04 Oct 2024   AIC                            -15.770\n",
      "Time:                                   14:46:20   BIC                             -5.468\n",
      "Sample:                               01-01-2008   HQIC                           -11.757\n",
      "                                    - 10-01-2023                                         \n",
      "Covariance Type:                             opg                                         \n",
      "==============================================================================\n",
      "                 coef    std err          z      P>|z|      [0.025      0.975]\n",
      "------------------------------------------------------------------------------\n",
      "ar.L1          0.8985      0.093      9.643      0.000       0.716       1.081\n",
      "ma.L1         -0.1875      0.174     -1.079      0.280      -0.528       0.153\n",
      "ar.S.L4        1.0253      0.007    147.308      0.000       1.012       1.039\n",
      "ma.S.L4       -0.9997     70.502     -0.014      0.989    -139.181     137.182\n",
      "sigma2         0.0311      2.192      0.014      0.989      -4.265       4.327\n",
      "===================================================================================\n",
      "Ljung-Box (L1) (Q):                   0.00   Jarque-Bera (JB):                11.43\n",
      "Prob(Q):                              0.96   Prob(JB):                         0.00\n",
      "Heteroskedasticity (H):               3.32   Skew:                             0.64\n",
      "Prob(H) (two-sided):                  0.01   Kurtosis:                         4.76\n",
      "===================================================================================\n",
      "\n",
      "Warnings:\n",
      "[1] Covariance matrix calculated using the outer product of gradients (complex-step).\n",
      "{'fopt': -0.20132969651493088, 'direc': array([[ 5.60949632e-02, -2.30221846e-02,  1.40654314e-03,\n",
      "        -2.10959169e-01,  1.29327819e-02],\n",
      "       [ 0.00000000e+00,  1.00000000e+00,  0.00000000e+00,\n",
      "         0.00000000e+00,  0.00000000e+00],\n",
      "       [ 0.00000000e+00,  0.00000000e+00,  1.00000000e+00,\n",
      "         0.00000000e+00,  0.00000000e+00],\n",
      "       [ 0.00000000e+00,  0.00000000e+00,  0.00000000e+00,\n",
      "         0.00000000e+00,  1.00000000e+00],\n",
      "       [ 6.39322551e-03, -8.86920732e-03,  3.48925612e-04,\n",
      "         1.07275003e-02, -1.83619653e-03]]), 'iterations': 5, 'fcalls': 284, 'warnflag': 0, 'converged': True}\n"
     ]
    }
   ],
   "source": [
    "# Adjusted SARIMAX model fitting with increased iterations and different optimization method - Option 3\n",
    "final_model = SARIMAX(filtered_cbs['sick_leave_percentage'],\n",
    "                      order=(1, 0, 1),\n",
    "                      seasonal_order=(1, 0, 1, 4),\n",
    "                      enforce_stationarity=False,\n",
    "                      enforce_invertibility=False)\n",
    "\n",
    "final_results = final_model.fit(maxiter=2000, method='powell', tol=1e-6)\n",
    "\n",
    "# Check the results\n",
    "print(final_results.summary())\n",
    "\n",
    "# Inspect optimization details if convergence warning persists\n",
    "print(final_results.mle_retvals)\n"
   ]
  },
  {
   "cell_type": "code",
   "execution_count": 56,
   "metadata": {},
   "outputs": [],
   "source": [
    "# Forecast Future Values\n",
    "forecast_steps = 8  # Number of quarters to forecast\n",
    "fcast = final_results.predict(len(filtered_cbs), len(filtered_cbs) + forecast_steps - 1).rename('SARIMAX Forecast')\n"
   ]
  },
  {
   "cell_type": "code",
   "execution_count": 57,
   "metadata": {},
   "outputs": [
    {
     "data": {
      "image/png": "[encoded data removed]",
      "text/plain": [
       "<Figure size 1500x800 with 1 Axes>"
      ]
     },
     "metadata": {},
     "output_type": "display_data"
    }
   ],
   "source": [
    "# Plotting the forecast\n",
    "ax = filtered_cbs['sick_leave_percentage'].plot(legend=True, figsize=(15,8), title='Sick Leave Percentage - Actual vs Forecast')\n",
    "fcast.plot(legend=True)\n",
    "\n",
    "plt.show()"
   ]
  },
  {
   "cell_type": "code",
   "execution_count": null,
   "metadata": {},
   "outputs": [],
   "source": []
  }
 ],
 "metadata": {
  "kernelspec": {
   "display_name": ".venv",
   "language": "python",
   "name": "python3"
  },
  "language_info": {
   "codemirror_mode": {
    "name": "ipython",
    "version": 3
   },
   "file_extension": ".py",
   "mimetype": "text/x-python",
   "name": "python",
   "nbconvert_exporter": "python",
   "pygments_lexer": "ipython3",
   "version": "3.12.3"
  }
 },
 "nbformat": 4,
 "nbformat_minor": 2
}
