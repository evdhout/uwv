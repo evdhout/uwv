{
 "cells": [
  {
   "cell_type": "code",
   "execution_count": null,
   "metadata": {},
   "outputs": [],
   "source": [
    "import pandas as pd\n",
    "import numpy as np\n",
    "import matplotlib.pyplot as plt\n",
    "from statsmodels.tsa.holtwinters import ExponentialSmoothing\n",
    "from sklearn.metrics import mean_squared_error, mean_absolute_error"
   ]
  },
  {
   "cell_type": "code",
   "execution_count": null,
   "metadata": {},
   "outputs": [],
   "source": [
    "# Load the data\n",
    "from uwv.config import CBS80072NED, CBS_OPENDATA_PROCESSED_DATA_DIR, OUTPUT_DIR\n",
    "\n",
    "cbs = pd.read_parquet(CBS_OPENDATA_PROCESSED_DATA_DIR / f\"{CBS80072NED}.parquet\")"
   ]
  },
  {
   "cell_type": "code",
   "execution_count": null,
   "metadata": {},
   "outputs": [],
   "source": [
    "# Filter out rows where 'period_quarter_number' is 0\n",
    "cbs = cbs[cbs['period_quarter_number'] != 0]\n",
    "\n",
    "# Map quarters to months and create the 'date' column\n",
    "cbs['month'] = cbs['period_quarter_number'].map({1: 1, 2: 4, 3: 7, 4: 10})\n",
    "cbs['date'] = pd.to_datetime({'year': cbs['period_year'], 'month': cbs['month'], 'day': 1})\n",
    "\n",
    "# Set this new 'date' column as the index\n",
    "cbs.set_index('date', inplace=True)"
   ]
  },
  {
   "cell_type": "code",
   "execution_count": null,
   "metadata": {},
   "outputs": [],
   "source": [
    "# Filter data based on 'sbi_title'\n",
    "sbi_code = 'T001081'  # Example: A-U Alle economische activiteiten\n",
    "filtered_cbs = cbs[cbs['sbi'] == sbi_code]\n",
    "\n",
    "# Filter the data to include only dates from 2016 to 2023\n",
    "filtered_cbs = filtered_cbs.loc['2016-01-01':'2023-12-31']"
   ]
  },
  {
   "cell_type": "code",
   "execution_count": null,
   "metadata": {},
   "outputs": [],
   "source": [
    "# Step 1: Define the training and testing data\n",
    "train_data = filtered_cbs.iloc[:-8]  # Use all but the last 8 quarters (2 years) for training\n",
    "test_data = filtered_cbs.iloc[-8:]   # Use the last 8 quarters (2 years) for testing"
   ]
  },
  {
   "cell_type": "code",
   "execution_count": null,
   "metadata": {},
   "outputs": [],
   "source": [
    "# Step 2: Fit the Holt-Winters Exponential Smoothing model\n",
    "fitted_model = ExponentialSmoothing(train_data['sick_leave_percentage'],\n",
    "                                    trend='mul', seasonal='mul', seasonal_periods=4).fit()"
   ]
  },
  {
   "cell_type": "code",
   "execution_count": null,
   "metadata": {},
   "outputs": [],
   "source": [
    "# Step 3: Forecast the next 8 quarters\n",
    "test_predictions = fitted_model.forecast(8).rename('HW Forecast')"
   ]
  },
  {
   "cell_type": "code",
   "execution_count": null,
   "metadata": {},
   "outputs": [],
   "source": [
    "# Step 4: Plot the training, testing, and forecasted data\n",
    "plt.figure(figsize=(12, 8))\n",
    "train_data['sick_leave_percentage'].plot(legend=True, label='TRAIN')\n",
    "test_data['sick_leave_percentage'].plot(legend=True, label='TEST')\n",
    "test_predictions.plot(legend=True, label='PREDICTION')\n",
    "plt.title('Sick Leave Percentage - Train, Test, and Forecast')\n",
    "plt.show()"
   ]
  },
  {
   "cell_type": "code",
   "execution_count": null,
   "metadata": {},
   "outputs": [],
   "source": [
    "# Step 5: Evaluate the forecast accuracy\n",
    "mae = mean_absolute_error(test_data['sick_leave_percentage'], test_predictions)\n",
    "mse = mean_squared_error(test_data['sick_leave_percentage'], test_predictions)\n",
    "rmse = np.sqrt(mse)"
   ]
  },
  {
   "cell_type": "code",
   "execution_count": null,
   "metadata": {},
   "outputs": [],
   "source": [
    "print(f\"Mean Absolute Error: {mae}\")\n",
    "print(f\"Mean Squared Error: {mse}\")\n",
    "print(f\"Root Mean Squared Error: {rmse}\")"
   ]
  },
  {
   "cell_type": "code",
   "execution_count": null,
   "metadata": {},
   "outputs": [],
   "source": [
    "# Step 6: Fit the model to the entire dataset and forecast future values\n",
    "final_model = ExponentialSmoothing(filtered_cbs['sick_leave_percentage'],\n",
    "                                   trend='mul', seasonal='mul', seasonal_periods=4).fit()\n"
   ]
  },
  {
   "cell_type": "code",
   "execution_count": null,
   "metadata": {},
   "outputs": [],
   "source": [
    "# Forecast the next 8 quarters\n",
    "forecast_predictions = final_model.forecast(8)"
   ]
  },
  {
   "cell_type": "code",
   "execution_count": null,
   "metadata": {},
   "outputs": [],
   "source": [
    "# Plot the original data and the forecast\n",
    "plt.figure(figsize=(12, 8))\n",
    "filtered_cbs['sick_leave_percentage'].plot(label='Actual', figsize=(12, 8))\n",
    "forecast_predictions.plot(label='Forecast', color='orange')\n",
    "plt.title('Sick Leave Percentage - Actual vs Forecast')\n",
    "plt.legend()\n",
    "plt.show()"
   ]
  },
  {
   "cell_type": "code",
   "execution_count": null,
   "metadata": {},
   "outputs": [],
   "source": []
  }
 ],
 "metadata": {
  "kernelspec": {
   "display_name": ".venv",
   "language": "python",
   "name": "python3"
  },
  "language_info": {
   "codemirror_mode": {
    "name": "ipython",
    "version": 3
   },
   "file_extension": ".py",
   "mimetype": "text/x-python",
   "name": "python",
   "nbconvert_exporter": "python",
   "pygments_lexer": "ipython3",
   "version": "3.12.3"
  }
 },
 "nbformat": 4,
 "nbformat_minor": 2
}
