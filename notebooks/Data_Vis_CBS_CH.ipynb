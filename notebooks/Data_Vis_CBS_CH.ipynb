{
 "cells": [
  {
   "cell_type": "code",
   "execution_count": 84,
   "metadata": {},
   "outputs": [],
   "source": [
    "import pandas as pd\n",
    "import plotly.express as px\n",
    "import cbsodata\n"
   ]
  },
  {
   "cell_type": "code",
   "execution_count": 85,
   "metadata": {},
   "outputs": [],
   "source": [
    "# Fetch the specific dataset using its ID\n",
    "data = pd.DataFrame(cbsodata.get_data('80072NED'))"
   ]
  },
  {
   "cell_type": "code",
   "execution_count": 86,
   "metadata": {},
   "outputs": [
    {
     "name": "stdout",
     "output_type": "stream",
     "text": [
      "   ID           BedrijfskenmerkenSBI2008          Perioden  \\\n",
      "0   0  A-U Alle economische activiteiten  1996 1e kwartaal   \n",
      "1   1  A-U Alle economische activiteiten  1996 2e kwartaal   \n",
      "2   2  A-U Alle economische activiteiten  1996 3e kwartaal   \n",
      "3   3  A-U Alle economische activiteiten  1996 4e kwartaal   \n",
      "4   4  A-U Alle economische activiteiten              1996   \n",
      "\n",
      "   Ziekteverzuimpercentage_1  \n",
      "0                        5.5  \n",
      "1                        4.6  \n",
      "2                        4.0  \n",
      "3                        4.7  \n",
      "4                        4.7  \n"
     ]
    }
   ],
   "source": [
    "# Display the first few rows of the dataset\n",
    "print(data.head())"
   ]
  },
  {
   "cell_type": "code",
   "execution_count": 87,
   "metadata": {},
   "outputs": [],
   "source": [
    "# Extract year and quarter from the 'Perioden' column\n",
    "data['Year'] = data['Perioden'].str.extract(r'(\\d{4})').astype(float)\n",
    "data['Quarter'] = data['Perioden'].str.extract(r'(\\d)e kwartaal').astype(float)\n"
   ]
  },
  {
   "cell_type": "code",
   "execution_count": 88,
   "metadata": {},
   "outputs": [],
   "source": [
    "# Drop rows where Year or Quarter is NaN (e.g., full year periods)\n",
    "data = data.dropna(subset=['Year', 'Quarter'])"
   ]
  },
  {
   "cell_type": "code",
   "execution_count": 89,
   "metadata": {},
   "outputs": [],
   "source": [
    "# Convert Year and Quarter to integers\n",
    "data['Year'] = data['Year'].astype(int)\n",
    "data['Quarter'] = data['Quarter'].astype(int)"
   ]
  },
  {
   "cell_type": "code",
   "execution_count": 90,
   "metadata": {},
   "outputs": [],
   "source": [
    "# Filter data to include only years from 2016 to 2023\n",
    "data = data[(data['Year'] >= 2016) & (data['Year'] <= 2023)]"
   ]
  },
  {
   "cell_type": "code",
   "execution_count": 91,
   "metadata": {},
   "outputs": [],
   "source": [
    "# Aggregate the data to handle duplicates\n",
    "agg_data = data.groupby(['Quarter', 'Year']).agg({'Ziekteverzuimpercentage_1': 'mean'}).reset_index()"
   ]
  },
  {
   "cell_type": "code",
   "execution_count": 92,
   "metadata": {},
   "outputs": [],
   "source": [
    "# Pivot the table to get years as columns and quarters as rows\n",
    "pivot_data = agg_data.pivot(index='Quarter', values='Ziekteverzuimpercentage_1', columns='Year')"
   ]
  },
  {
   "cell_type": "code",
   "execution_count": 93,
   "metadata": {},
   "outputs": [],
   "source": [
    "# Sort columns in descending order\n",
    "pivot_data = pivot_data[sorted(pivot_data.columns, reverse=True)]"
   ]
  },
  {
   "cell_type": "code",
   "execution_count": 94,
   "metadata": {},
   "outputs": [],
   "source": [
    "# Set a pastel color palette\n",
    "#sns.set_palette(\"colorblind\")"
   ]
  },
  {
   "cell_type": "code",
   "execution_count": 95,
   "metadata": {},
   "outputs": [],
   "source": [
    "# Get the current color palette\n",
    "#colors = sns.color_palette(\"colorblind\", n_colors=len(pivot_data.columns))"
   ]
  },
  {
   "cell_type": "code",
   "execution_count": 96,
   "metadata": {},
   "outputs": [
    {
     "data": {
      "application/vnd.plotly.v1+json": {
       "config": {
        "plotlyServerURL": "https://plot.ly"
       },
       "data": [
        {
         "hovertemplate": "Year=2016<br>Quarter=%{x}<br>Sick Leave Percentage=%{y}<extra></extra>",
         "legendgroup": "2016",
         "line": {
          "color": "#636efa",
          "dash": "solid"
         },
         "marker": {
          "symbol": "circle"
         },
         "mode": "lines+markers",
         "name": "2016",
         "orientation": "v",
         "showlegend": true,
         "type": "scatter",
         "x": [
          1,
          2,
          3,
          4
         ],
         "xaxis": "x",
         "y": [
          4.333333333333333,
          3.741025641025641,
          3.528205128205128,
          4.074358974358974
         ],
         "yaxis": "y"
        },
        {
         "hovertemplate": "Year=2017<br>Quarter=%{x}<br>Sick Leave Percentage=%{y}<extra></extra>",
         "legendgroup": "2017",
         "line": {
          "color": "#EF553B",
          "dash": "solid"
         },
         "marker": {
          "symbol": "circle"
         },
         "mode": "lines+markers",
         "name": "2017",
         "orientation": "v",
         "showlegend": true,
         "type": "scatter",
         "x": [
          1,
          2,
          3,
          4
         ],
         "xaxis": "x",
         "y": [
          4.325641025641025,
          3.858974358974359,
          3.6794871794871793,
          4.228205128205128
         ],
         "yaxis": "y"
        },
        {
         "hovertemplate": "Year=2018<br>Quarter=%{x}<br>Sick Leave Percentage=%{y}<extra></extra>",
         "legendgroup": "2018",
         "line": {
          "color": "#00cc96",
          "dash": "solid"
         },
         "marker": {
          "symbol": "circle"
         },
         "mode": "lines+markers",
         "name": "2018",
         "orientation": "v",
         "showlegend": true,
         "type": "scatter",
         "x": [
          1,
          2,
          3,
          4
         ],
         "xaxis": "x",
         "y": [
          4.87948717948718,
          4.082051282051282,
          3.9025641025641025,
          4.361538461538461
         ],
         "yaxis": "y"
        },
        {
         "hovertemplate": "Year=2019<br>Quarter=%{x}<br>Sick Leave Percentage=%{y}<extra></extra>",
         "legendgroup": "2019",
         "line": {
          "color": "#ab63fa",
          "dash": "solid"
         },
         "marker": {
          "symbol": "circle"
         },
         "mode": "lines+markers",
         "name": "2019",
         "orientation": "v",
         "showlegend": true,
         "type": "scatter",
         "x": [
          1,
          2,
          3,
          4
         ],
         "xaxis": "x",
         "y": [
          4.712820512820513,
          4.282051282051282,
          4.046153846153847,
          4.543589743589743
         ],
         "yaxis": "y"
        },
        {
         "hovertemplate": "Year=2020<br>Quarter=%{x}<br>Sick Leave Percentage=%{y}<extra></extra>",
         "legendgroup": "2020",
         "line": {
          "color": "#FFA15A",
          "dash": "solid"
         },
         "marker": {
          "symbol": "circle"
         },
         "mode": "lines+markers",
         "name": "2020",
         "orientation": "v",
         "showlegend": true,
         "type": "scatter",
         "x": [
          1,
          2,
          3,
          4
         ],
         "xaxis": "x",
         "y": [
          5.2,
          4.561538461538461,
          4.4512820512820515,
          5.030769230769231
         ],
         "yaxis": "y"
        },
        {
         "hovertemplate": "Year=2021<br>Quarter=%{x}<br>Sick Leave Percentage=%{y}<extra></extra>",
         "legendgroup": "2021",
         "line": {
          "color": "#19d3f3",
          "dash": "solid"
         },
         "marker": {
          "symbol": "circle"
         },
         "mode": "lines+markers",
         "name": "2021",
         "orientation": "v",
         "showlegend": true,
         "type": "scatter",
         "x": [
          1,
          2,
          3,
          4
         ],
         "xaxis": "x",
         "y": [
          4.923076923076923,
          4.7846153846153845,
          4.697435897435897,
          5.464102564102564
         ],
         "yaxis": "y"
        },
        {
         "hovertemplate": "Year=2022<br>Quarter=%{x}<br>Sick Leave Percentage=%{y}<extra></extra>",
         "legendgroup": "2022",
         "line": {
          "color": "#FF6692",
          "dash": "solid"
         },
         "marker": {
          "symbol": "circle"
         },
         "mode": "lines+markers",
         "name": "2022",
         "orientation": "v",
         "showlegend": true,
         "type": "scatter",
         "x": [
          1,
          2,
          3,
          4
         ],
         "xaxis": "x",
         "y": [
          6.448717948717949,
          5.51025641025641,
          5.1000000000000005,
          5.687179487179487
         ],
         "yaxis": "y"
        },
        {
         "hovertemplate": "Year=2023<br>Quarter=%{x}<br>Sick Leave Percentage=%{y}<extra></extra>",
         "legendgroup": "2023",
         "line": {
          "color": "#B6E880",
          "dash": "solid"
         },
         "marker": {
          "symbol": "circle"
         },
         "mode": "lines+markers",
         "name": "2023",
         "orientation": "v",
         "showlegend": true,
         "type": "scatter",
         "x": [
          1,
          2,
          3,
          4
         ],
         "xaxis": "x",
         "y": [
          5.8999999999999995,
          5.102564102564102,
          4.874358974358974,
          5.582051282051282
         ],
         "yaxis": "y"
        }
       ],
       "layout": {
        "annotations": [
         {
          "font": {
           "size": 12
          },
          "showarrow": false,
          "text": "CBS Sick Leave %",
          "x": -0.06,
          "xanchor": "left",
          "xref": "paper",
          "y": 1,
          "yanchor": "top",
          "yref": "paper"
         },
         {
          "font": {
           "color": "#636efa",
           "size": 12
          },
          "showarrow": false,
          "text": "2016",
          "x": 4,
          "xanchor": "left",
          "y": 4.074358974358974,
          "yanchor": "middle"
         },
         {
          "font": {
           "color": "#EF553B",
           "size": 12
          },
          "showarrow": false,
          "text": "2017",
          "x": 4,
          "xanchor": "left",
          "y": 4.228205128205128,
          "yanchor": "middle"
         },
         {
          "font": {
           "color": "#00cc96",
           "size": 12
          },
          "showarrow": false,
          "text": "2018",
          "x": 4,
          "xanchor": "left",
          "y": 4.361538461538461,
          "yanchor": "middle"
         },
         {
          "font": {
           "color": "#ab63fa",
           "size": 12
          },
          "showarrow": false,
          "text": "2019",
          "x": 4,
          "xanchor": "left",
          "y": 4.543589743589743,
          "yanchor": "middle"
         },
         {
          "font": {
           "color": "#FFA15A",
           "size": 12
          },
          "showarrow": false,
          "text": "2020",
          "x": 4,
          "xanchor": "left",
          "y": 5.030769230769231,
          "yanchor": "middle"
         },
         {
          "font": {
           "color": "#19d3f3",
           "size": 12
          },
          "showarrow": false,
          "text": "2021",
          "x": 4,
          "xanchor": "left",
          "y": 5.464102564102564,
          "yanchor": "middle"
         },
         {
          "font": {
           "color": "#FF6692",
           "size": 12
          },
          "showarrow": false,
          "text": "2022",
          "x": 4,
          "xanchor": "left",
          "y": 5.687179487179487,
          "yanchor": "middle"
         },
         {
          "font": {
           "color": "#B6E880",
           "size": 12
          },
          "showarrow": false,
          "text": "2023",
          "x": 4,
          "xanchor": "left",
          "y": 5.582051282051282,
          "yanchor": "middle"
         }
        ],
        "font": {
         "color": "black",
         "family": "Roboto",
         "size": 12,
         "weight": "bold"
        },
        "height": 600,
        "legend": {
         "title": {
          "text": "Year"
         },
         "tracegroupgap": 0
        },
        "paper_bgcolor": "white",
        "plot_bgcolor": "white",
        "showlegend": false,
        "template": {
         "data": {
          "bar": [
           {
            "error_x": {
             "color": "rgb(51,51,51)"
            },
            "error_y": {
             "color": "rgb(51,51,51)"
            },
            "marker": {
             "line": {
              "color": "rgb(237,237,237)",
              "width": 0.5
             },
             "pattern": {
              "fillmode": "overlay",
              "size": 10,
              "solidity": 0.2
             }
            },
            "type": "bar"
           }
          ],
          "barpolar": [
           {
            "marker": {
             "line": {
              "color": "rgb(237,237,237)",
              "width": 0.5
             },
             "pattern": {
              "fillmode": "overlay",
              "size": 10,
              "solidity": 0.2
             }
            },
            "type": "barpolar"
           }
          ],
          "carpet": [
           {
            "aaxis": {
             "endlinecolor": "rgb(51,51,51)",
             "gridcolor": "white",
             "linecolor": "white",
             "minorgridcolor": "white",
             "startlinecolor": "rgb(51,51,51)"
            },
            "baxis": {
             "endlinecolor": "rgb(51,51,51)",
             "gridcolor": "white",
             "linecolor": "white",
             "minorgridcolor": "white",
             "startlinecolor": "rgb(51,51,51)"
            },
            "type": "carpet"
           }
          ],
          "choropleth": [
           {
            "colorbar": {
             "outlinewidth": 0,
             "tickcolor": "rgb(237,237,237)",
             "ticklen": 6,
             "ticks": "inside"
            },
            "type": "choropleth"
           }
          ],
          "contour": [
           {
            "colorbar": {
             "outlinewidth": 0,
             "tickcolor": "rgb(237,237,237)",
             "ticklen": 6,
             "ticks": "inside"
            },
            "colorscale": [
             [
              0,
              "rgb(20,44,66)"
             ],
             [
              1,
              "rgb(90,179,244)"
             ]
            ],
            "type": "contour"
           }
          ],
          "contourcarpet": [
           {
            "colorbar": {
             "outlinewidth": 0,
             "tickcolor": "rgb(237,237,237)",
             "ticklen": 6,
             "ticks": "inside"
            },
            "type": "contourcarpet"
           }
          ],
          "heatmap": [
           {
            "colorbar": {
             "outlinewidth": 0,
             "tickcolor": "rgb(237,237,237)",
             "ticklen": 6,
             "ticks": "inside"
            },
            "colorscale": [
             [
              0,
              "rgb(20,44,66)"
             ],
             [
              1,
              "rgb(90,179,244)"
             ]
            ],
            "type": "heatmap"
           }
          ],
          "heatmapgl": [
           {
            "colorbar": {
             "outlinewidth": 0,
             "tickcolor": "rgb(237,237,237)",
             "ticklen": 6,
             "ticks": "inside"
            },
            "colorscale": [
             [
              0,
              "rgb(20,44,66)"
             ],
             [
              1,
              "rgb(90,179,244)"
             ]
            ],
            "type": "heatmapgl"
           }
          ],
          "histogram": [
           {
            "marker": {
             "pattern": {
              "fillmode": "overlay",
              "size": 10,
              "solidity": 0.2
             }
            },
            "type": "histogram"
           }
          ],
          "histogram2d": [
           {
            "colorbar": {
             "outlinewidth": 0,
             "tickcolor": "rgb(237,237,237)",
             "ticklen": 6,
             "ticks": "inside"
            },
            "colorscale": [
             [
              0,
              "rgb(20,44,66)"
             ],
             [
              1,
              "rgb(90,179,244)"
             ]
            ],
            "type": "histogram2d"
           }
          ],
          "histogram2dcontour": [
           {
            "colorbar": {
             "outlinewidth": 0,
             "tickcolor": "rgb(237,237,237)",
             "ticklen": 6,
             "ticks": "inside"
            },
            "colorscale": [
             [
              0,
              "rgb(20,44,66)"
             ],
             [
              1,
              "rgb(90,179,244)"
             ]
            ],
            "type": "histogram2dcontour"
           }
          ],
          "mesh3d": [
           {
            "colorbar": {
             "outlinewidth": 0,
             "tickcolor": "rgb(237,237,237)",
             "ticklen": 6,
             "ticks": "inside"
            },
            "type": "mesh3d"
           }
          ],
          "parcoords": [
           {
            "line": {
             "colorbar": {
              "outlinewidth": 0,
              "tickcolor": "rgb(237,237,237)",
              "ticklen": 6,
              "ticks": "inside"
             }
            },
            "type": "parcoords"
           }
          ],
          "pie": [
           {
            "automargin": true,
            "type": "pie"
           }
          ],
          "scatter": [
           {
            "fillpattern": {
             "fillmode": "overlay",
             "size": 10,
             "solidity": 0.2
            },
            "type": "scatter"
           }
          ],
          "scatter3d": [
           {
            "line": {
             "colorbar": {
              "outlinewidth": 0,
              "tickcolor": "rgb(237,237,237)",
              "ticklen": 6,
              "ticks": "inside"
             }
            },
            "marker": {
             "colorbar": {
              "outlinewidth": 0,
              "tickcolor": "rgb(237,237,237)",
              "ticklen": 6,
              "ticks": "inside"
             }
            },
            "type": "scatter3d"
           }
          ],
          "scattercarpet": [
           {
            "marker": {
             "colorbar": {
              "outlinewidth": 0,
              "tickcolor": "rgb(237,237,237)",
              "ticklen": 6,
              "ticks": "inside"
             }
            },
            "type": "scattercarpet"
           }
          ],
          "scattergeo": [
           {
            "marker": {
             "colorbar": {
              "outlinewidth": 0,
              "tickcolor": "rgb(237,237,237)",
              "ticklen": 6,
              "ticks": "inside"
             }
            },
            "type": "scattergeo"
           }
          ],
          "scattergl": [
           {
            "marker": {
             "colorbar": {
              "outlinewidth": 0,
              "tickcolor": "rgb(237,237,237)",
              "ticklen": 6,
              "ticks": "inside"
             }
            },
            "type": "scattergl"
           }
          ],
          "scattermapbox": [
           {
            "marker": {
             "colorbar": {
              "outlinewidth": 0,
              "tickcolor": "rgb(237,237,237)",
              "ticklen": 6,
              "ticks": "inside"
             }
            },
            "type": "scattermapbox"
           }
          ],
          "scatterpolar": [
           {
            "marker": {
             "colorbar": {
              "outlinewidth": 0,
              "tickcolor": "rgb(237,237,237)",
              "ticklen": 6,
              "ticks": "inside"
             }
            },
            "type": "scatterpolar"
           }
          ],
          "scatterpolargl": [
           {
            "marker": {
             "colorbar": {
              "outlinewidth": 0,
              "tickcolor": "rgb(237,237,237)",
              "ticklen": 6,
              "ticks": "inside"
             }
            },
            "type": "scatterpolargl"
           }
          ],
          "scatterternary": [
           {
            "marker": {
             "colorbar": {
              "outlinewidth": 0,
              "tickcolor": "rgb(237,237,237)",
              "ticklen": 6,
              "ticks": "inside"
             }
            },
            "type": "scatterternary"
           }
          ],
          "surface": [
           {
            "colorbar": {
             "outlinewidth": 0,
             "tickcolor": "rgb(237,237,237)",
             "ticklen": 6,
             "ticks": "inside"
            },
            "colorscale": [
             [
              0,
              "rgb(20,44,66)"
             ],
             [
              1,
              "rgb(90,179,244)"
             ]
            ],
            "type": "surface"
           }
          ],
          "table": [
           {
            "cells": {
             "fill": {
              "color": "rgb(237,237,237)"
             },
             "line": {
              "color": "white"
             }
            },
            "header": {
             "fill": {
              "color": "rgb(217,217,217)"
             },
             "line": {
              "color": "white"
             }
            },
            "type": "table"
           }
          ]
         },
         "layout": {
          "annotationdefaults": {
           "arrowhead": 0,
           "arrowwidth": 1
          },
          "autotypenumbers": "strict",
          "coloraxis": {
           "colorbar": {
            "outlinewidth": 0,
            "tickcolor": "rgb(237,237,237)",
            "ticklen": 6,
            "ticks": "inside"
           }
          },
          "colorscale": {
           "sequential": [
            [
             0,
             "rgb(20,44,66)"
            ],
            [
             1,
             "rgb(90,179,244)"
            ]
           ],
           "sequentialminus": [
            [
             0,
             "rgb(20,44,66)"
            ],
            [
             1,
             "rgb(90,179,244)"
            ]
           ]
          },
          "colorway": [
           "#F8766D",
           "#A3A500",
           "#00BF7D",
           "#00B0F6",
           "#E76BF3"
          ],
          "font": {
           "color": "rgb(51,51,51)"
          },
          "geo": {
           "bgcolor": "white",
           "lakecolor": "white",
           "landcolor": "rgb(237,237,237)",
           "showlakes": true,
           "showland": true,
           "subunitcolor": "white"
          },
          "hoverlabel": {
           "align": "left"
          },
          "hovermode": "closest",
          "paper_bgcolor": "white",
          "plot_bgcolor": "rgb(237,237,237)",
          "polar": {
           "angularaxis": {
            "gridcolor": "white",
            "linecolor": "white",
            "showgrid": true,
            "tickcolor": "rgb(51,51,51)",
            "ticks": "outside"
           },
           "bgcolor": "rgb(237,237,237)",
           "radialaxis": {
            "gridcolor": "white",
            "linecolor": "white",
            "showgrid": true,
            "tickcolor": "rgb(51,51,51)",
            "ticks": "outside"
           }
          },
          "scene": {
           "xaxis": {
            "backgroundcolor": "rgb(237,237,237)",
            "gridcolor": "white",
            "gridwidth": 2,
            "linecolor": "white",
            "showbackground": true,
            "showgrid": true,
            "tickcolor": "rgb(51,51,51)",
            "ticks": "outside",
            "zerolinecolor": "white"
           },
           "yaxis": {
            "backgroundcolor": "rgb(237,237,237)",
            "gridcolor": "white",
            "gridwidth": 2,
            "linecolor": "white",
            "showbackground": true,
            "showgrid": true,
            "tickcolor": "rgb(51,51,51)",
            "ticks": "outside",
            "zerolinecolor": "white"
           },
           "zaxis": {
            "backgroundcolor": "rgb(237,237,237)",
            "gridcolor": "white",
            "gridwidth": 2,
            "linecolor": "white",
            "showbackground": true,
            "showgrid": true,
            "tickcolor": "rgb(51,51,51)",
            "ticks": "outside",
            "zerolinecolor": "white"
           }
          },
          "shapedefaults": {
           "fillcolor": "black",
           "line": {
            "width": 0
           },
           "opacity": 0.3
          },
          "ternary": {
           "aaxis": {
            "gridcolor": "white",
            "linecolor": "white",
            "showgrid": true,
            "tickcolor": "rgb(51,51,51)",
            "ticks": "outside"
           },
           "baxis": {
            "gridcolor": "white",
            "linecolor": "white",
            "showgrid": true,
            "tickcolor": "rgb(51,51,51)",
            "ticks": "outside"
           },
           "bgcolor": "rgb(237,237,237)",
           "caxis": {
            "gridcolor": "white",
            "linecolor": "white",
            "showgrid": true,
            "tickcolor": "rgb(51,51,51)",
            "ticks": "outside"
           }
          },
          "xaxis": {
           "automargin": true,
           "gridcolor": "white",
           "linecolor": "white",
           "showgrid": true,
           "tickcolor": "rgb(51,51,51)",
           "ticks": "outside",
           "title": {
            "standoff": 15
           },
           "zerolinecolor": "white"
          },
          "yaxis": {
           "automargin": true,
           "gridcolor": "white",
           "linecolor": "white",
           "showgrid": true,
           "tickcolor": "rgb(51,51,51)",
           "ticks": "outside",
           "title": {
            "standoff": 15
           },
           "zerolinecolor": "white"
          }
         }
        },
        "title": {
         "text": "Sick Leave Insights: A Yearly and Quarterly Breakdown"
        },
        "width": 1100,
        "xaxis": {
         "anchor": "y",
         "domain": [
          0,
          1
         ],
         "gridcolor": "lightgrey",
         "showgrid": true,
         "tickmode": "array",
         "ticktext": [
          "Q1",
          "Q2",
          "Q3",
          "Q4"
         ],
         "tickvals": [
          1,
          2,
          3,
          4
         ],
         "title": {
          "text": "Quarter"
         }
        },
        "yaxis": {
         "anchor": "x",
         "domain": [
          0,
          1
         ],
         "gridcolor": "grey",
         "range": [
          3,
          7.448717948717949
         ],
         "showgrid": true,
         "tickmode": "array",
         "ticktext": [
          "0",
          "4",
          "5",
          "6",
          "7"
         ],
         "tickvals": [
          3,
          4,
          5,
          6,
          7
         ],
         "title": {}
        }
       }
      }
     },
     "metadata": {},
     "output_type": "display_data"
    }
   ],
   "source": [
    "# Extract year and quarter from the 'Perioden' column\n",
    "data['Year'] = data['Perioden'].str.extract(r'(\\d{4})').astype(float)\n",
    "data['Quarter'] = data['Perioden'].str.extract(r'(\\d)e kwartaal').astype(float)\n",
    "\n",
    "# Drop rows where Year or Quarter is NaN (e.g., full year periods)\n",
    "data = data.dropna(subset=['Year', 'Quarter'])\n",
    "\n",
    "# Convert Year and Quarter to integers\n",
    "data['Year'] = data['Year'].astype(int)\n",
    "data['Quarter'] = data['Quarter'].astype(int)\n",
    "\n",
    "# Filter data to include only years from 2016 to 2023\n",
    "data = data[(data['Year'] >= 2016) & (data['Year'] <= 2023)]\n",
    "\n",
    "# Aggregate the data to handle duplicates\n",
    "agg_data = data.groupby(['Quarter', 'Year']).agg({'Ziekteverzuimpercentage_1': 'mean'}).reset_index()\n",
    "\n",
    "# Pivot the table to get years as columns and quarters as rows\n",
    "pivot_data = agg_data.pivot(index='Quarter', values='Ziekteverzuimpercentage_1', columns='Year')\n",
    "\n",
    "# Melt the pivoted data for Plotly\n",
    "melted_data = pivot_data.reset_index().melt(id_vars='Quarter', var_name='Year', value_name='Sick Leave Percentage')\n",
    "\n",
    "# Create the Plotly line chart\n",
    "fig = px.line(melted_data, \n",
    "              x='Quarter', \n",
    "              y='Sick Leave Percentage', \n",
    "              color='Year',\n",
    "              title='Sick Leave Insights: A Yearly and Quarterly Breakdown',\n",
    "              markers=True)\n",
    "\n",
    "# Adjust the x-axis to only show Q1, Q2, Q3, and Q4\n",
    "fig.update_layout(\n",
    "    template='ggplot2', \n",
    "    xaxis_title='Quarter',\n",
    "    xaxis=dict(\n",
    "        tickmode='array',  # Use custom ticks\n",
    "        tickvals=[1, 2, 3, 4],  # Show only full quarters\n",
    "        ticktext=['Q1', 'Q2', 'Q3', 'Q4'],  # Custom labels for quarters\n",
    "        showgrid=True,\n",
    "        gridcolor='lightgrey',\n",
    "    ),\n",
    "    yaxis=dict(\n",
    "        tickmode='array', \n",
    "        tickvals=[3, 4, 5, 6, 7],  # Custom tick values without halves\n",
    "        ticktext=['0', '4', '5', '6', '7'],  # Label 3.5 as \"0\"\n",
    "        range=[3, agg_data['Ziekteverzuimpercentage_1'].max() + 1],  # Y-axis starts just below 3.5\n",
    "        showgrid=True,\n",
    "        gridcolor='grey',\n",
    "        title=None  # Hide the default y-axis title\n",
    "    ),\n",
    "    plot_bgcolor='white',  # Set background to white\n",
    "    paper_bgcolor='white',  # Set plot area to white\n",
    "    showlegend=False,  # Remove the legend\n",
    "    width=1100,  # Set the width of the plot\n",
    "    height=600,  # Set the height of the plot\n",
    "    font=dict(family='Roboto', size=12, color='black', weight='bold'),  # Set Roboto font for entire plot\n",
    ")\n",
    "\n",
    "\n",
    "# Add custom annotation to act as the y-axis title at the top-left of the plot\n",
    "fig.add_annotation(\n",
    "    text='CBS Sick Leave %',  # Custom title text\n",
    "    xref='paper', yref='paper',  # Position in plot space\n",
    "    x=-0.06, y=1.00,  # Top-left corner of the plot\n",
    "    showarrow=False,\n",
    "    font=dict(size=12),  # Customize the font size\n",
    "    xanchor='left',\n",
    "    yanchor='top',\n",
    ")\n",
    "\n",
    "# Add year labels at the last point of each line with matching colors\n",
    "for year in melted_data['Year'].dropna().unique():\n",
    "    last_quarter = melted_data[melted_data['Year'] == year]['Quarter'].max()\n",
    "    last_value = melted_data[(melted_data['Year'] == year) & (melted_data['Quarter'] == last_quarter)]['Sick Leave Percentage'].values[0]\n",
    "    \n",
    "    # Get the line color associated with the year\n",
    "    line_color = fig.data[melted_data['Year'].dropna().unique().tolist().index(year)].line.color\n",
    "    \n",
    "    fig.add_annotation(\n",
    "        x=last_quarter,\n",
    "        y=last_value,\n",
    "        text=str(year),\n",
    "        showarrow=False,\n",
    "        font=dict(color=line_color, size=12),  # Match the text color with the line\n",
    "        xanchor='left',\n",
    "        yanchor='middle'\n",
    "    )\n",
    "\n",
    "# Show the plot\n",
    "fig.show()\n",
    "\n",
    "# Save the plot as a PNG file\n",
    "fig.write_image(\"sickleave_percentage_per_quarter_custom_ticks.png\")\n",
    "\n",
    "# Save as HTML for interactive viewing\n",
    "fig.write_html(\"sickleave_percentage_per_quarter_custom_ticks.html\")\n"
   ]
  }
 ],
 "metadata": {
  "kernelspec": {
   "display_name": ".venv",
   "language": "python",
   "name": "python3"
  },
  "language_info": {
   "codemirror_mode": {
    "name": "ipython",
    "version": 3
   },
   "file_extension": ".py",
   "mimetype": "text/x-python",
   "name": "python",
   "nbconvert_exporter": "python",
   "pygments_lexer": "ipython3",
   "version": "3.12.3"
  }
 },
 "nbformat": 4,
 "nbformat_minor": 2
}
