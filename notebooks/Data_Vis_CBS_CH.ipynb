{
 "cells": [
  {
   "cell_type": "code",
   "execution_count": 1,
   "metadata": {},
   "outputs": [
    {
     "name": "stderr",
     "output_type": "stream",
     "text": [
      "c:\\Users\\c.hakker\\OneDrive - VISTA college\\Senior Stuff\\Opleiding Data science\\uwv\\.venv\\Lib\\site-packages\\plotly\\express\\_core.py:1980: FutureWarning: When grouping with a length-1 list-like, you will need to pass a length-1 tuple to get_group in a future version of pandas. Pass `(name,)` instead of `name` to silence this warning.\n",
      "  sf: grouped.get_group(s if len(s) > 1 else s[0])\n"
     ]
    },
    {
     "data": {
      "application/vnd.plotly.v1+json": {
       "config": {
        "plotlyServerURL": "https://plot.ly"
       },
       "data": [
        {
         "hovertemplate": "Year=2016<br>Quarter=%{x}<br>Sick Leave Percentage=%{y}<extra></extra>",
         "legendgroup": "2016",
         "line": {
          "color": "#44b7c2",
          "dash": "solid",
          "width": 2
         },
         "marker": {
          "symbol": "circle"
         },
         "mode": "lines",
         "name": "2016",
         "orientation": "v",
         "showlegend": true,
         "type": "scatter",
         "x": [
          1,
          2,
          3,
          4
         ],
         "xaxis": "x",
         "y": [
          4.333333333333333,
          3.741025641025641,
          3.528205128205128,
          4.074358974358974
         ],
         "yaxis": "y"
        },
        {
         "hovertemplate": "Year=2017<br>Quarter=%{x}<br>Sick Leave Percentage=%{y}<extra></extra>",
         "legendgroup": "2017",
         "line": {
          "color": "#ff6b08",
          "dash": "solid",
          "width": 2
         },
         "marker": {
          "symbol": "circle"
         },
         "mode": "lines",
         "name": "2017",
         "orientation": "v",
         "showlegend": true,
         "type": "scatter",
         "x": [
          1,
          2,
          3,
          4
         ],
         "xaxis": "x",
         "y": [
          4.325641025641025,
          3.858974358974359,
          3.6794871794871793,
          4.228205128205128
         ],
         "yaxis": "y"
        },
        {
         "hovertemplate": "Year=2018<br>Quarter=%{x}<br>Sick Leave Percentage=%{y}<extra></extra>",
         "legendgroup": "2018",
         "line": {
          "color": "#024b7a",
          "dash": "solid",
          "width": 2
         },
         "marker": {
          "symbol": "circle"
         },
         "mode": "lines",
         "name": "2018",
         "orientation": "v",
         "showlegend": true,
         "type": "scatter",
         "x": [
          1,
          2,
          3,
          4
         ],
         "xaxis": "x",
         "y": [
          4.87948717948718,
          4.082051282051282,
          3.9025641025641025,
          4.361538461538461
         ],
         "yaxis": "y"
        },
        {
         "hovertemplate": "Year=2019<br>Quarter=%{x}<br>Sick Leave Percentage=%{y}<extra></extra>",
         "legendgroup": "2019",
         "line": {
          "color": "#37759b",
          "dash": "solid",
          "width": 2
         },
         "marker": {
          "symbol": "circle"
         },
         "mode": "lines",
         "name": "2019",
         "orientation": "v",
         "showlegend": true,
         "type": "scatter",
         "x": [
          1,
          2,
          3,
          4
         ],
         "xaxis": "x",
         "y": [
          4.712820512820513,
          4.282051282051282,
          4.046153846153847,
          4.543589743589743
         ],
         "yaxis": "y"
        },
        {
         "hovertemplate": "Year=2020<br>Quarter=%{x}<br>Sick Leave Percentage=%{y}<extra></extra>",
         "legendgroup": "2020",
         "line": {
          "color": "#ffae49",
          "dash": "solid",
          "width": 2
         },
         "marker": {
          "symbol": "circle"
         },
         "mode": "lines",
         "name": "2020",
         "orientation": "v",
         "showlegend": true,
         "type": "scatter",
         "x": [
          1,
          2,
          3,
          4
         ],
         "xaxis": "x",
         "y": [
          5.2,
          4.561538461538461,
          4.4512820512820515,
          5.030769230769231
         ],
         "yaxis": "y"
        },
        {
         "hovertemplate": "Year=2021<br>Quarter=%{x}<br>Sick Leave Percentage=%{y}<extra></extra>",
         "legendgroup": "2021",
         "line": {
          "color": "#01918b",
          "dash": "solid",
          "width": 2
         },
         "marker": {
          "symbol": "circle"
         },
         "mode": "lines",
         "name": "2021",
         "orientation": "v",
         "showlegend": true,
         "type": "scatter",
         "x": [
          1,
          2,
          3,
          4
         ],
         "xaxis": "x",
         "y": [
          4.923076923076923,
          4.7846153846153845,
          4.697435897435897,
          5.464102564102564
         ],
         "yaxis": "y"
        },
        {
         "hovertemplate": "Year=2022<br>Quarter=%{x}<br>Sick Leave Percentage=%{y}<extra></extra>",
         "legendgroup": "2022",
         "line": {
          "color": "#00575c",
          "dash": "solid",
          "width": 2
         },
         "marker": {
          "symbol": "circle"
         },
         "mode": "lines",
         "name": "2022",
         "orientation": "v",
         "showlegend": true,
         "type": "scatter",
         "x": [
          1,
          2,
          3,
          4
         ],
         "xaxis": "x",
         "y": [
          6.448717948717949,
          5.51025641025641,
          5.1000000000000005,
          5.687179487179487
         ],
         "yaxis": "y"
        },
        {
         "hovertemplate": "Year=2023<br>Quarter=%{x}<br>Sick Leave Percentage=%{y}<extra></extra>",
         "legendgroup": "2023",
         "line": {
          "color": "#de663e",
          "dash": "solid",
          "width": 2
         },
         "marker": {
          "symbol": "circle"
         },
         "mode": "lines",
         "name": "2023",
         "orientation": "v",
         "showlegend": true,
         "type": "scatter",
         "x": [
          1,
          2,
          3,
          4
         ],
         "xaxis": "x",
         "y": [
          5.8999999999999995,
          5.102564102564102,
          4.874358974358974,
          5.582051282051282
         ],
         "yaxis": "y"
        }
       ],
       "layout": {
        "annotations": [
         {
          "font": {
           "size": 12
          },
          "showarrow": false,
          "text": "CBS Sick Leave (%)",
          "textangle": 0,
          "x": -0.05,
          "xref": "paper",
          "y": 1.06,
          "yref": "paper"
         },
         {
          "font": {
           "color": "#44b7c2",
           "size": 12
          },
          "showarrow": false,
          "text": "2016",
          "x": 4.1,
          "xref": "x",
          "y": 4.074358974358974,
          "yref": "y"
         },
         {
          "font": {
           "color": "#ff6b08",
           "size": 12
          },
          "showarrow": false,
          "text": "2017",
          "x": 4.1,
          "xref": "x",
          "y": 4.228205128205128,
          "yref": "y"
         },
         {
          "font": {
           "color": "#024b7a",
           "size": 12
          },
          "showarrow": false,
          "text": "2018",
          "x": 4.1,
          "xref": "x",
          "y": 4.361538461538461,
          "yref": "y"
         },
         {
          "font": {
           "color": "#37759b",
           "size": 12
          },
          "showarrow": false,
          "text": "2019",
          "x": 4.1,
          "xref": "x",
          "y": 4.543589743589743,
          "yref": "y"
         },
         {
          "font": {
           "color": "#ffae49",
           "size": 12
          },
          "showarrow": false,
          "text": "2020",
          "x": 4.1,
          "xref": "x",
          "y": 5.030769230769231,
          "yref": "y"
         },
         {
          "font": {
           "color": "#01918b",
           "size": 12
          },
          "showarrow": false,
          "text": "2021",
          "x": 4.1,
          "xref": "x",
          "y": 5.464102564102564,
          "yref": "y"
         },
         {
          "font": {
           "color": "#00575c",
           "size": 12
          },
          "showarrow": false,
          "text": "2022",
          "x": 4.1,
          "xref": "x",
          "y": 5.687179487179487,
          "yref": "y"
         },
         {
          "font": {
           "color": "#de663e",
           "size": 12
          },
          "showarrow": false,
          "text": "2023",
          "x": 4.1,
          "xref": "x",
          "y": 5.582051282051282,
          "yref": "y"
         }
        ],
        "font": {
         "color": "black",
         "family": "Roboto",
         "size": 12
        },
        "height": 600,
        "legend": {
         "title": {
          "text": "Year"
         },
         "tracegroupgap": 0
        },
        "showlegend": false,
        "template": {
         "data": {
          "bar": [
           {
            "error_x": {
             "color": "#2a3f5f"
            },
            "error_y": {
             "color": "#2a3f5f"
            },
            "marker": {
             "line": {
              "color": "white",
              "width": 0.5
             },
             "pattern": {
              "fillmode": "overlay",
              "size": 10,
              "solidity": 0.2
             }
            },
            "type": "bar"
           }
          ],
          "barpolar": [
           {
            "marker": {
             "line": {
              "color": "white",
              "width": 0.5
             },
             "pattern": {
              "fillmode": "overlay",
              "size": 10,
              "solidity": 0.2
             }
            },
            "type": "barpolar"
           }
          ],
          "carpet": [
           {
            "aaxis": {
             "endlinecolor": "#2a3f5f",
             "gridcolor": "#C8D4E3",
             "linecolor": "#C8D4E3",
             "minorgridcolor": "#C8D4E3",
             "startlinecolor": "#2a3f5f"
            },
            "baxis": {
             "endlinecolor": "#2a3f5f",
             "gridcolor": "#C8D4E3",
             "linecolor": "#C8D4E3",
             "minorgridcolor": "#C8D4E3",
             "startlinecolor": "#2a3f5f"
            },
            "type": "carpet"
           }
          ],
          "choropleth": [
           {
            "colorbar": {
             "outlinewidth": 0,
             "ticks": ""
            },
            "type": "choropleth"
           }
          ],
          "contour": [
           {
            "colorbar": {
             "outlinewidth": 0,
             "ticks": ""
            },
            "colorscale": [
             [
              0,
              "#0d0887"
             ],
             [
              0.1111111111111111,
              "#46039f"
             ],
             [
              0.2222222222222222,
              "#7201a8"
             ],
             [
              0.3333333333333333,
              "#9c179e"
             ],
             [
              0.4444444444444444,
              "#bd3786"
             ],
             [
              0.5555555555555556,
              "#d8576b"
             ],
             [
              0.6666666666666666,
              "#ed7953"
             ],
             [
              0.7777777777777778,
              "#fb9f3a"
             ],
             [
              0.8888888888888888,
              "#fdca26"
             ],
             [
              1,
              "#f0f921"
             ]
            ],
            "type": "contour"
           }
          ],
          "contourcarpet": [
           {
            "colorbar": {
             "outlinewidth": 0,
             "ticks": ""
            },
            "type": "contourcarpet"
           }
          ],
          "heatmap": [
           {
            "colorbar": {
             "outlinewidth": 0,
             "ticks": ""
            },
            "colorscale": [
             [
              0,
              "#0d0887"
             ],
             [
              0.1111111111111111,
              "#46039f"
             ],
             [
              0.2222222222222222,
              "#7201a8"
             ],
             [
              0.3333333333333333,
              "#9c179e"
             ],
             [
              0.4444444444444444,
              "#bd3786"
             ],
             [
              0.5555555555555556,
              "#d8576b"
             ],
             [
              0.6666666666666666,
              "#ed7953"
             ],
             [
              0.7777777777777778,
              "#fb9f3a"
             ],
             [
              0.8888888888888888,
              "#fdca26"
             ],
             [
              1,
              "#f0f921"
             ]
            ],
            "type": "heatmap"
           }
          ],
          "heatmapgl": [
           {
            "colorbar": {
             "outlinewidth": 0,
             "ticks": ""
            },
            "colorscale": [
             [
              0,
              "#0d0887"
             ],
             [
              0.1111111111111111,
              "#46039f"
             ],
             [
              0.2222222222222222,
              "#7201a8"
             ],
             [
              0.3333333333333333,
              "#9c179e"
             ],
             [
              0.4444444444444444,
              "#bd3786"
             ],
             [
              0.5555555555555556,
              "#d8576b"
             ],
             [
              0.6666666666666666,
              "#ed7953"
             ],
             [
              0.7777777777777778,
              "#fb9f3a"
             ],
             [
              0.8888888888888888,
              "#fdca26"
             ],
             [
              1,
              "#f0f921"
             ]
            ],
            "type": "heatmapgl"
           }
          ],
          "histogram": [
           {
            "marker": {
             "pattern": {
              "fillmode": "overlay",
              "size": 10,
              "solidity": 0.2
             }
            },
            "type": "histogram"
           }
          ],
          "histogram2d": [
           {
            "colorbar": {
             "outlinewidth": 0,
             "ticks": ""
            },
            "colorscale": [
             [
              0,
              "#0d0887"
             ],
             [
              0.1111111111111111,
              "#46039f"
             ],
             [
              0.2222222222222222,
              "#7201a8"
             ],
             [
              0.3333333333333333,
              "#9c179e"
             ],
             [
              0.4444444444444444,
              "#bd3786"
             ],
             [
              0.5555555555555556,
              "#d8576b"
             ],
             [
              0.6666666666666666,
              "#ed7953"
             ],
             [
              0.7777777777777778,
              "#fb9f3a"
             ],
             [
              0.8888888888888888,
              "#fdca26"
             ],
             [
              1,
              "#f0f921"
             ]
            ],
            "type": "histogram2d"
           }
          ],
          "histogram2dcontour": [
           {
            "colorbar": {
             "outlinewidth": 0,
             "ticks": ""
            },
            "colorscale": [
             [
              0,
              "#0d0887"
             ],
             [
              0.1111111111111111,
              "#46039f"
             ],
             [
              0.2222222222222222,
              "#7201a8"
             ],
             [
              0.3333333333333333,
              "#9c179e"
             ],
             [
              0.4444444444444444,
              "#bd3786"
             ],
             [
              0.5555555555555556,
              "#d8576b"
             ],
             [
              0.6666666666666666,
              "#ed7953"
             ],
             [
              0.7777777777777778,
              "#fb9f3a"
             ],
             [
              0.8888888888888888,
              "#fdca26"
             ],
             [
              1,
              "#f0f921"
             ]
            ],
            "type": "histogram2dcontour"
           }
          ],
          "mesh3d": [
           {
            "colorbar": {
             "outlinewidth": 0,
             "ticks": ""
            },
            "type": "mesh3d"
           }
          ],
          "parcoords": [
           {
            "line": {
             "colorbar": {
              "outlinewidth": 0,
              "ticks": ""
             }
            },
            "type": "parcoords"
           }
          ],
          "pie": [
           {
            "automargin": true,
            "type": "pie"
           }
          ],
          "scatter": [
           {
            "fillpattern": {
             "fillmode": "overlay",
             "size": 10,
             "solidity": 0.2
            },
            "type": "scatter"
           }
          ],
          "scatter3d": [
           {
            "line": {
             "colorbar": {
              "outlinewidth": 0,
              "ticks": ""
             }
            },
            "marker": {
             "colorbar": {
              "outlinewidth": 0,
              "ticks": ""
             }
            },
            "type": "scatter3d"
           }
          ],
          "scattercarpet": [
           {
            "marker": {
             "colorbar": {
              "outlinewidth": 0,
              "ticks": ""
             }
            },
            "type": "scattercarpet"
           }
          ],
          "scattergeo": [
           {
            "marker": {
             "colorbar": {
              "outlinewidth": 0,
              "ticks": ""
             }
            },
            "type": "scattergeo"
           }
          ],
          "scattergl": [
           {
            "marker": {
             "colorbar": {
              "outlinewidth": 0,
              "ticks": ""
             }
            },
            "type": "scattergl"
           }
          ],
          "scattermapbox": [
           {
            "marker": {
             "colorbar": {
              "outlinewidth": 0,
              "ticks": ""
             }
            },
            "type": "scattermapbox"
           }
          ],
          "scatterpolar": [
           {
            "marker": {
             "colorbar": {
              "outlinewidth": 0,
              "ticks": ""
             }
            },
            "type": "scatterpolar"
           }
          ],
          "scatterpolargl": [
           {
            "marker": {
             "colorbar": {
              "outlinewidth": 0,
              "ticks": ""
             }
            },
            "type": "scatterpolargl"
           }
          ],
          "scatterternary": [
           {
            "marker": {
             "colorbar": {
              "outlinewidth": 0,
              "ticks": ""
             }
            },
            "type": "scatterternary"
           }
          ],
          "surface": [
           {
            "colorbar": {
             "outlinewidth": 0,
             "ticks": ""
            },
            "colorscale": [
             [
              0,
              "#0d0887"
             ],
             [
              0.1111111111111111,
              "#46039f"
             ],
             [
              0.2222222222222222,
              "#7201a8"
             ],
             [
              0.3333333333333333,
              "#9c179e"
             ],
             [
              0.4444444444444444,
              "#bd3786"
             ],
             [
              0.5555555555555556,
              "#d8576b"
             ],
             [
              0.6666666666666666,
              "#ed7953"
             ],
             [
              0.7777777777777778,
              "#fb9f3a"
             ],
             [
              0.8888888888888888,
              "#fdca26"
             ],
             [
              1,
              "#f0f921"
             ]
            ],
            "type": "surface"
           }
          ],
          "table": [
           {
            "cells": {
             "fill": {
              "color": "#EBF0F8"
             },
             "line": {
              "color": "white"
             }
            },
            "header": {
             "fill": {
              "color": "#C8D4E3"
             },
             "line": {
              "color": "white"
             }
            },
            "type": "table"
           }
          ]
         },
         "layout": {
          "annotationdefaults": {
           "arrowcolor": "#2a3f5f",
           "arrowhead": 0,
           "arrowwidth": 1
          },
          "autotypenumbers": "strict",
          "coloraxis": {
           "colorbar": {
            "outlinewidth": 0,
            "ticks": ""
           }
          },
          "colorscale": {
           "diverging": [
            [
             0,
             "#8e0152"
            ],
            [
             0.1,
             "#c51b7d"
            ],
            [
             0.2,
             "#de77ae"
            ],
            [
             0.3,
             "#f1b6da"
            ],
            [
             0.4,
             "#fde0ef"
            ],
            [
             0.5,
             "#f7f7f7"
            ],
            [
             0.6,
             "#e6f5d0"
            ],
            [
             0.7,
             "#b8e186"
            ],
            [
             0.8,
             "#7fbc41"
            ],
            [
             0.9,
             "#4d9221"
            ],
            [
             1,
             "#276419"
            ]
           ],
           "sequential": [
            [
             0,
             "#0d0887"
            ],
            [
             0.1111111111111111,
             "#46039f"
            ],
            [
             0.2222222222222222,
             "#7201a8"
            ],
            [
             0.3333333333333333,
             "#9c179e"
            ],
            [
             0.4444444444444444,
             "#bd3786"
            ],
            [
             0.5555555555555556,
             "#d8576b"
            ],
            [
             0.6666666666666666,
             "#ed7953"
            ],
            [
             0.7777777777777778,
             "#fb9f3a"
            ],
            [
             0.8888888888888888,
             "#fdca26"
            ],
            [
             1,
             "#f0f921"
            ]
           ],
           "sequentialminus": [
            [
             0,
             "#0d0887"
            ],
            [
             0.1111111111111111,
             "#46039f"
            ],
            [
             0.2222222222222222,
             "#7201a8"
            ],
            [
             0.3333333333333333,
             "#9c179e"
            ],
            [
             0.4444444444444444,
             "#bd3786"
            ],
            [
             0.5555555555555556,
             "#d8576b"
            ],
            [
             0.6666666666666666,
             "#ed7953"
            ],
            [
             0.7777777777777778,
             "#fb9f3a"
            ],
            [
             0.8888888888888888,
             "#fdca26"
            ],
            [
             1,
             "#f0f921"
            ]
           ]
          },
          "colorway": [
           "#636efa",
           "#EF553B",
           "#00cc96",
           "#ab63fa",
           "#FFA15A",
           "#19d3f3",
           "#FF6692",
           "#B6E880",
           "#FF97FF",
           "#FECB52"
          ],
          "font": {
           "color": "#2a3f5f"
          },
          "geo": {
           "bgcolor": "white",
           "lakecolor": "white",
           "landcolor": "white",
           "showlakes": true,
           "showland": true,
           "subunitcolor": "#C8D4E3"
          },
          "hoverlabel": {
           "align": "left"
          },
          "hovermode": "closest",
          "mapbox": {
           "style": "light"
          },
          "paper_bgcolor": "white",
          "plot_bgcolor": "white",
          "polar": {
           "angularaxis": {
            "gridcolor": "#EBF0F8",
            "linecolor": "#EBF0F8",
            "ticks": ""
           },
           "bgcolor": "white",
           "radialaxis": {
            "gridcolor": "#EBF0F8",
            "linecolor": "#EBF0F8",
            "ticks": ""
           }
          },
          "scene": {
           "xaxis": {
            "backgroundcolor": "white",
            "gridcolor": "#DFE8F3",
            "gridwidth": 2,
            "linecolor": "#EBF0F8",
            "showbackground": true,
            "ticks": "",
            "zerolinecolor": "#EBF0F8"
           },
           "yaxis": {
            "backgroundcolor": "white",
            "gridcolor": "#DFE8F3",
            "gridwidth": 2,
            "linecolor": "#EBF0F8",
            "showbackground": true,
            "ticks": "",
            "zerolinecolor": "#EBF0F8"
           },
           "zaxis": {
            "backgroundcolor": "white",
            "gridcolor": "#DFE8F3",
            "gridwidth": 2,
            "linecolor": "#EBF0F8",
            "showbackground": true,
            "ticks": "",
            "zerolinecolor": "#EBF0F8"
           }
          },
          "shapedefaults": {
           "line": {
            "color": "#2a3f5f"
           }
          },
          "ternary": {
           "aaxis": {
            "gridcolor": "#DFE8F3",
            "linecolor": "#A2B1C6",
            "ticks": ""
           },
           "baxis": {
            "gridcolor": "#DFE8F3",
            "linecolor": "#A2B1C6",
            "ticks": ""
           },
           "bgcolor": "white",
           "caxis": {
            "gridcolor": "#DFE8F3",
            "linecolor": "#A2B1C6",
            "ticks": ""
           }
          },
          "title": {
           "x": 0.05
          },
          "xaxis": {
           "automargin": true,
           "gridcolor": "#EBF0F8",
           "linecolor": "#EBF0F8",
           "ticks": "",
           "title": {
            "standoff": 15
           },
           "zerolinecolor": "#EBF0F8",
           "zerolinewidth": 2
          },
          "yaxis": {
           "automargin": true,
           "gridcolor": "#EBF0F8",
           "linecolor": "#EBF0F8",
           "ticks": "",
           "title": {
            "standoff": 15
           },
           "zerolinecolor": "#EBF0F8",
           "zerolinewidth": 2
          }
         }
        },
        "title": {
         "font": {
          "color": "black",
          "family": "Roboto",
          "size": 20
         },
         "text": "Sick Leave Through the Years: Quarterly Trends from 2016 to 2023",
         "x": 0.01,
         "xanchor": "left",
         "y": 0.95,
         "yanchor": "top"
        },
        "width": 1200,
        "xaxis": {
         "anchor": "y",
         "domain": [
          0,
          1
         ],
         "showgrid": false,
         "tickmode": "array",
         "ticks": "outside",
         "ticktext": [
          "Q1",
          "Q2",
          "Q3",
          "Q4"
         ],
         "tickvals": [
          1,
          2,
          3,
          4
         ],
         "title": {}
        },
        "yaxis": {
         "anchor": "x",
         "automargin": true,
         "domain": [
          0,
          1
         ],
         "gridcolor": "lightgrey",
         "showgrid": true,
         "title": {}
        }
       }
      }
     },
     "metadata": {},
     "output_type": "display_data"
    }
   ],
   "source": [
    "import pandas as pd\n",
    "import plotly.express as px\n",
    "import cbsodata\n",
    "\n",
    "# Fetch the specific dataset using its ID\n",
    "data = pd.DataFrame(cbsodata.get_data('80072NED'))\n",
    "\n",
    "# Extract year and quarter from the 'Perioden' column\n",
    "data['Year'] = data['Perioden'].str.extract(r'(\\d{4})').astype(float)\n",
    "data['Quarter'] = data['Perioden'].str.extract(r'(\\d)e kwartaal').astype(float)\n",
    "\n",
    "# Drop rows where Year or Quarter is NaN (e.g., full year periods)\n",
    "data = data.dropna(subset=['Year', 'Quarter'])\n",
    "\n",
    "# Convert Year and Quarter to integers\n",
    "data['Year'] = data['Year'].astype(int)\n",
    "data['Quarter'] = data['Quarter'].astype(int)\n",
    "\n",
    "# Filter data to include only years from 2016 to 2023\n",
    "data = data[(data['Year'] >= 2016) & (data['Year'] <= 2023)]\n",
    "\n",
    "# Aggregate the data to handle duplicates\n",
    "agg_data = data.groupby(['Quarter', 'Year']).agg({'Ziekteverzuimpercentage_1': 'mean'}).reset_index()\n",
    "\n",
    "# Pivot the table to get years as columns and quarters as rows\n",
    "pivot_data = agg_data.pivot(index='Quarter', values='Ziekteverzuimpercentage_1', columns='Year')\n",
    "\n",
    "# Melt the pivoted data for Plotly\n",
    "melted_data = pivot_data.reset_index().melt(id_vars='Quarter', var_name='Year', value_name='Sick Leave Percentage')\n",
    "\n",
    "# Define custom colors to match your other plot\n",
    "colors = [\n",
    "    '#44b7c2',  # 2016\n",
    "    '#ff6b08',  # 2017\n",
    "    '#024b7a',  # 2018\n",
    "    '#37759b',  # 2019\n",
    "    '#ffae49',  # 2020\n",
    "    '#01918b',  # 2021\n",
    "    '#00575c',  # 2022\n",
    "    '#de663e',  # 2023\n",
    "]\n",
    "\n",
    "# Create the Plotly line chart\n",
    "fig = px.line(\n",
    "    melted_data,\n",
    "    x='Quarter',\n",
    "    y='Sick Leave Percentage',\n",
    "    color='Year',\n",
    "    title='Sick Leave Through the Years: Quarterly Trends from 2016 to 2023',\n",
    "    markers=False  # No markers for a cleaner look\n",
    ")\n",
    "\n",
    "# Update layout to match your MAE comparison plot style\n",
    "fig.update_layout(\n",
    "    template='plotly_white',\n",
    "    title=dict(\n",
    "        text='Sick Leave Through the Years: Quarterly Trends from 2016 to 2023',\n",
    "        x=0.01,\n",
    "        y=0.95,\n",
    "        xanchor='left',\n",
    "        yanchor='top',\n",
    "        font=dict(family='Roboto', size=20, color='black')\n",
    "    ),\n",
    "    xaxis=dict(\n",
    "        title=None,\n",
    "        tickmode='array',\n",
    "        tickvals=[1, 2, 3, 4],\n",
    "        ticktext=['Q1', 'Q2', 'Q3', 'Q4'],\n",
    "        showgrid=False,\n",
    "        linecolor=None,\n",
    "        ticks='outside'\n",
    "    ),\n",
    "    yaxis=dict(\n",
    "        showgrid=True,\n",
    "        gridcolor='lightgrey',\n",
    "        automargin=True,\n",
    "        title=None  # Remove the vertical Y-axis title\n",
    "    ),\n",
    "    width=1200,\n",
    "    height=600,\n",
    "    font=dict(family='Roboto', size=12, color='black'),\n",
    "    showlegend=False,  # Remove the legend\n",
    "    annotations=[\n",
    "        dict(\n",
    "            text='CBS Sick Leave (%)',  # Horizontal Y-axis title\n",
    "            x=-0.05,  # Adjust the X position\n",
    "            y=1.06,  # Adjust the Y position\n",
    "            xref='paper',\n",
    "            yref='paper',\n",
    "            showarrow=False,\n",
    "            textangle=0,  # Horizontal text\n",
    "            font=dict(size=12)\n",
    "        )\n",
    "    ]\n",
    ")\n",
    "\n",
    "# Apply custom colors to the lines\n",
    "for i, trace in enumerate(fig.data):\n",
    "    trace.update(line=dict(color=colors[i % len(colors)], width=2))\n",
    "\n",
    "# Add labels at the end of each line in the same color as the line\n",
    "for i, trace in enumerate(fig.data):\n",
    "    year = trace.name\n",
    "    last_x = melted_data[melted_data['Year'] == int(year)]['Quarter'].max()\n",
    "    last_y = melted_data[(melted_data['Year'] == int(year)) & (melted_data['Quarter'] == last_x)]['Sick Leave Percentage'].values[0]\n",
    "    fig.add_annotation(\n",
    "        x=last_x + 0.1,  # Slightly offset to the right\n",
    "        y=last_y,\n",
    "        text=str(year),\n",
    "        font=dict(color=colors[i % len(colors)], size=12),\n",
    "        showarrow=False,\n",
    "        xref='x',\n",
    "        yref='y'\n",
    "    )\n",
    "\n",
    "# Show the updated plot\n",
    "fig.show()\n",
    "\n",
    "# Save the plot as an HTML file\n",
    "fig.write_html(\"sickleave_trends_MAE_style.html\")\n"
   ]
  }
 ],
 "metadata": {
  "kernelspec": {
   "display_name": ".venv",
   "language": "python",
   "name": "python3"
  },
  "language_info": {
   "codemirror_mode": {
    "name": "ipython",
    "version": 3
   },
   "file_extension": ".py",
   "mimetype": "text/x-python",
   "name": "python",
   "nbconvert_exporter": "python",
   "pygments_lexer": "ipython3",
   "version": "3.12.3"
  }
 },
 "nbformat": 4,
 "nbformat_minor": 2
}
