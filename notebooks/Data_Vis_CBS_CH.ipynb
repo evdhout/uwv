{
 "cells": [
  {
   "cell_type": "code",
   "execution_count": 1,
   "metadata": {},
   "outputs": [],
   "source": [
    "import pandas as pd\n",
    "import plotly.express as px\n",
    "import cbsodata\n"
   ]
  },
  {
   "cell_type": "code",
   "execution_count": 2,
   "metadata": {},
   "outputs": [],
   "source": [
    "# Fetch the specific dataset using its ID\n",
    "data = pd.DataFrame(cbsodata.get_data('80072NED'))"
   ]
  },
  {
   "cell_type": "code",
   "execution_count": 4,
   "metadata": {},
   "outputs": [],
   "source": [
    "# Extract year and quarter from the 'Perioden' column\n",
    "data['Year'] = data['Perioden'].str.extract(r'(\\d{4})').astype(float)\n",
    "data['Quarter'] = data['Perioden'].str.extract(r'(\\d)e kwartaal').astype(float)\n"
   ]
  },
  {
   "cell_type": "code",
   "execution_count": 5,
   "metadata": {},
   "outputs": [],
   "source": [
    "# Drop rows where Year or Quarter is NaN (e.g., full year periods)\n",
    "data = data.dropna(subset=['Year', 'Quarter'])"
   ]
  },
  {
   "cell_type": "code",
   "execution_count": 6,
   "metadata": {},
   "outputs": [],
   "source": [
    "# Convert Year and Quarter to integers\n",
    "data['Year'] = data['Year'].astype(int)\n",
    "data['Quarter'] = data['Quarter'].astype(int)"
   ]
  },
  {
   "cell_type": "code",
   "execution_count": 7,
   "metadata": {},
   "outputs": [],
   "source": [
    "# Filter data to include only years from 2016 to 2023\n",
    "data = data[(data['Year'] >= 2016) & (data['Year'] <= 2023)]"
   ]
  },
  {
   "cell_type": "code",
   "execution_count": 8,
   "metadata": {},
   "outputs": [],
   "source": [
    "# Aggregate the data to handle duplicates\n",
    "agg_data = data.groupby(['Quarter', 'Year']).agg({'Ziekteverzuimpercentage_1': 'mean'}).reset_index()"
   ]
  },
  {
   "cell_type": "code",
   "execution_count": 9,
   "metadata": {},
   "outputs": [],
   "source": [
    "# Pivot the table to get years as columns and quarters as rows\n",
    "pivot_data = agg_data.pivot(index='Quarter', values='Ziekteverzuimpercentage_1', columns='Year')"
   ]
  },
  {
   "cell_type": "code",
   "execution_count": 14,
   "metadata": {},
   "outputs": [],
   "source": [
    "# Melt the pivoted data for Plotly\n",
    "melted_data = pivot_data.reset_index().melt(id_vars='Quarter', var_name='Year', value_name='Sick Leave Percentage')"
   ]
  },
  {
   "cell_type": "code",
   "execution_count": 28,
   "metadata": {},
   "outputs": [
    {
     "name": "stderr",
     "output_type": "stream",
     "text": [
      "c:\\Users\\c.hakker\\OneDrive - VISTA college\\Senior Stuff\\Opleiding Data science\\uwv\\.venv\\Lib\\site-packages\\plotly\\express\\_core.py:1980: FutureWarning:\n",
      "\n",
      "When grouping with a length-1 list-like, you will need to pass a length-1 tuple to get_group in a future version of pandas. Pass `(name,)` instead of `name` to silence this warning.\n",
      "\n"
     ]
    },
    {
     "data": {
      "application/vnd.plotly.v1+json": {
       "config": {
        "plotlyServerURL": "https://plot.ly"
       },
       "data": [
        {
         "customdata": [
          [
           2016
          ],
          [
           2016
          ],
          [
           2016
          ],
          [
           2016
          ],
          [
           2017
          ],
          [
           2017
          ],
          [
           2017
          ],
          [
           2017
          ],
          [
           2018
          ],
          [
           2018
          ],
          [
           2018
          ],
          [
           2018
          ],
          [
           2019
          ],
          [
           2019
          ],
          [
           2019
          ],
          [
           2019
          ],
          [
           2020
          ],
          [
           2020
          ],
          [
           2020
          ],
          [
           2020
          ],
          [
           2021
          ],
          [
           2021
          ],
          [
           2021
          ],
          [
           2021
          ],
          [
           2022
          ],
          [
           2022
          ],
          [
           2022
          ],
          [
           2022
          ],
          [
           2023
          ],
          [
           2023
          ],
          [
           2023
          ],
          [
           2023
          ]
         ],
         "hovertemplate": "<b>Year: %{customdata[0]}</b><br>Quarter: %{x}<br>Sick Leave: %{y:.2f}%<extra></extra>",
         "legendgroup": "2016",
         "line": {
          "color": "#004b87",
          "dash": "solid",
          "width": 2
         },
         "marker": {
          "line": {
           "color": "black",
           "width": 0.5
          },
          "size": 6,
          "symbol": "circle"
         },
         "mode": "markers+lines",
         "name": "2016",
         "orientation": "v",
         "showlegend": true,
         "type": "scatter",
         "x": [
          1,
          2,
          3,
          4
         ],
         "xaxis": "x",
         "y": [
          4.333333333333333,
          3.741025641025641,
          3.528205128205128,
          4.074358974358974
         ],
         "yaxis": "y"
        },
        {
         "customdata": [
          [
           2016
          ],
          [
           2016
          ],
          [
           2016
          ],
          [
           2016
          ],
          [
           2017
          ],
          [
           2017
          ],
          [
           2017
          ],
          [
           2017
          ],
          [
           2018
          ],
          [
           2018
          ],
          [
           2018
          ],
          [
           2018
          ],
          [
           2019
          ],
          [
           2019
          ],
          [
           2019
          ],
          [
           2019
          ],
          [
           2020
          ],
          [
           2020
          ],
          [
           2020
          ],
          [
           2020
          ],
          [
           2021
          ],
          [
           2021
          ],
          [
           2021
          ],
          [
           2021
          ],
          [
           2022
          ],
          [
           2022
          ],
          [
           2022
          ],
          [
           2022
          ],
          [
           2023
          ],
          [
           2023
          ],
          [
           2023
          ],
          [
           2023
          ]
         ],
         "hovertemplate": "<b>Year: %{customdata[0]}</b><br>Quarter: %{x}<br>Sick Leave: %{y:.2f}%<extra></extra>",
         "legendgroup": "2017",
         "line": {
          "color": "#e3120b",
          "dash": "solid",
          "width": 2
         },
         "marker": {
          "line": {
           "color": "black",
           "width": 0.5
          },
          "size": 6,
          "symbol": "circle"
         },
         "mode": "markers+lines",
         "name": "2017",
         "orientation": "v",
         "showlegend": true,
         "type": "scatter",
         "x": [
          1,
          2,
          3,
          4
         ],
         "xaxis": "x",
         "y": [
          4.325641025641025,
          3.858974358974359,
          3.6794871794871793,
          4.228205128205128
         ],
         "yaxis": "y"
        },
        {
         "customdata": [
          [
           2016
          ],
          [
           2016
          ],
          [
           2016
          ],
          [
           2016
          ],
          [
           2017
          ],
          [
           2017
          ],
          [
           2017
          ],
          [
           2017
          ],
          [
           2018
          ],
          [
           2018
          ],
          [
           2018
          ],
          [
           2018
          ],
          [
           2019
          ],
          [
           2019
          ],
          [
           2019
          ],
          [
           2019
          ],
          [
           2020
          ],
          [
           2020
          ],
          [
           2020
          ],
          [
           2020
          ],
          [
           2021
          ],
          [
           2021
          ],
          [
           2021
          ],
          [
           2021
          ],
          [
           2022
          ],
          [
           2022
          ],
          [
           2022
          ],
          [
           2022
          ],
          [
           2023
          ],
          [
           2023
          ],
          [
           2023
          ],
          [
           2023
          ]
         ],
         "hovertemplate": "<b>Year: %{customdata[0]}</b><br>Quarter: %{x}<br>Sick Leave: %{y:.2f}%<extra></extra>",
         "legendgroup": "2018",
         "line": {
          "color": "#767676",
          "dash": "solid",
          "width": 2
         },
         "marker": {
          "line": {
           "color": "black",
           "width": 0.5
          },
          "size": 6,
          "symbol": "circle"
         },
         "mode": "markers+lines",
         "name": "2018",
         "orientation": "v",
         "showlegend": true,
         "type": "scatter",
         "x": [
          1,
          2,
          3,
          4
         ],
         "xaxis": "x",
         "y": [
          4.87948717948718,
          4.082051282051282,
          3.9025641025641025,
          4.361538461538461
         ],
         "yaxis": "y"
        },
        {
         "customdata": [
          [
           2016
          ],
          [
           2016
          ],
          [
           2016
          ],
          [
           2016
          ],
          [
           2017
          ],
          [
           2017
          ],
          [
           2017
          ],
          [
           2017
          ],
          [
           2018
          ],
          [
           2018
          ],
          [
           2018
          ],
          [
           2018
          ],
          [
           2019
          ],
          [
           2019
          ],
          [
           2019
          ],
          [
           2019
          ],
          [
           2020
          ],
          [
           2020
          ],
          [
           2020
          ],
          [
           2020
          ],
          [
           2021
          ],
          [
           2021
          ],
          [
           2021
          ],
          [
           2021
          ],
          [
           2022
          ],
          [
           2022
          ],
          [
           2022
          ],
          [
           2022
          ],
          [
           2023
          ],
          [
           2023
          ],
          [
           2023
          ],
          [
           2023
          ]
         ],
         "hovertemplate": "<b>Year: %{customdata[0]}</b><br>Quarter: %{x}<br>Sick Leave: %{y:.2f}%<extra></extra>",
         "legendgroup": "2019",
         "line": {
          "color": "#bfbfbf",
          "dash": "solid",
          "width": 2
         },
         "marker": {
          "line": {
           "color": "black",
           "width": 0.5
          },
          "size": 6,
          "symbol": "circle"
         },
         "mode": "markers+lines",
         "name": "2019",
         "orientation": "v",
         "showlegend": true,
         "type": "scatter",
         "x": [
          1,
          2,
          3,
          4
         ],
         "xaxis": "x",
         "y": [
          4.712820512820513,
          4.282051282051282,
          4.046153846153847,
          4.543589743589743
         ],
         "yaxis": "y"
        },
        {
         "customdata": [
          [
           2016
          ],
          [
           2016
          ],
          [
           2016
          ],
          [
           2016
          ],
          [
           2017
          ],
          [
           2017
          ],
          [
           2017
          ],
          [
           2017
          ],
          [
           2018
          ],
          [
           2018
          ],
          [
           2018
          ],
          [
           2018
          ],
          [
           2019
          ],
          [
           2019
          ],
          [
           2019
          ],
          [
           2019
          ],
          [
           2020
          ],
          [
           2020
          ],
          [
           2020
          ],
          [
           2020
          ],
          [
           2021
          ],
          [
           2021
          ],
          [
           2021
          ],
          [
           2021
          ],
          [
           2022
          ],
          [
           2022
          ],
          [
           2022
          ],
          [
           2022
          ],
          [
           2023
          ],
          [
           2023
          ],
          [
           2023
          ],
          [
           2023
          ]
         ],
         "hovertemplate": "<b>Year: %{customdata[0]}</b><br>Quarter: %{x}<br>Sick Leave: %{y:.2f}%<extra></extra>",
         "legendgroup": "2020",
         "line": {
          "color": "#6baed6",
          "dash": "solid",
          "width": 2
         },
         "marker": {
          "line": {
           "color": "black",
           "width": 0.5
          },
          "size": 6,
          "symbol": "circle"
         },
         "mode": "markers+lines",
         "name": "2020",
         "orientation": "v",
         "showlegend": true,
         "type": "scatter",
         "x": [
          1,
          2,
          3,
          4
         ],
         "xaxis": "x",
         "y": [
          5.2,
          4.561538461538461,
          4.4512820512820515,
          5.030769230769231
         ],
         "yaxis": "y"
        },
        {
         "customdata": [
          [
           2016
          ],
          [
           2016
          ],
          [
           2016
          ],
          [
           2016
          ],
          [
           2017
          ],
          [
           2017
          ],
          [
           2017
          ],
          [
           2017
          ],
          [
           2018
          ],
          [
           2018
          ],
          [
           2018
          ],
          [
           2018
          ],
          [
           2019
          ],
          [
           2019
          ],
          [
           2019
          ],
          [
           2019
          ],
          [
           2020
          ],
          [
           2020
          ],
          [
           2020
          ],
          [
           2020
          ],
          [
           2021
          ],
          [
           2021
          ],
          [
           2021
          ],
          [
           2021
          ],
          [
           2022
          ],
          [
           2022
          ],
          [
           2022
          ],
          [
           2022
          ],
          [
           2023
          ],
          [
           2023
          ],
          [
           2023
          ],
          [
           2023
          ]
         ],
         "hovertemplate": "<b>Year: %{customdata[0]}</b><br>Quarter: %{x}<br>Sick Leave: %{y:.2f}%<extra></extra>",
         "legendgroup": "2021",
         "line": {
          "color": "#fdae6b",
          "dash": "solid",
          "width": 2
         },
         "marker": {
          "line": {
           "color": "black",
           "width": 0.5
          },
          "size": 6,
          "symbol": "circle"
         },
         "mode": "markers+lines",
         "name": "2021",
         "orientation": "v",
         "showlegend": true,
         "type": "scatter",
         "x": [
          1,
          2,
          3,
          4
         ],
         "xaxis": "x",
         "y": [
          4.923076923076923,
          4.7846153846153845,
          4.697435897435897,
          5.464102564102564
         ],
         "yaxis": "y"
        },
        {
         "customdata": [
          [
           2016
          ],
          [
           2016
          ],
          [
           2016
          ],
          [
           2016
          ],
          [
           2017
          ],
          [
           2017
          ],
          [
           2017
          ],
          [
           2017
          ],
          [
           2018
          ],
          [
           2018
          ],
          [
           2018
          ],
          [
           2018
          ],
          [
           2019
          ],
          [
           2019
          ],
          [
           2019
          ],
          [
           2019
          ],
          [
           2020
          ],
          [
           2020
          ],
          [
           2020
          ],
          [
           2020
          ],
          [
           2021
          ],
          [
           2021
          ],
          [
           2021
          ],
          [
           2021
          ],
          [
           2022
          ],
          [
           2022
          ],
          [
           2022
          ],
          [
           2022
          ],
          [
           2023
          ],
          [
           2023
          ],
          [
           2023
          ],
          [
           2023
          ]
         ],
         "hovertemplate": "<b>Year: %{customdata[0]}</b><br>Quarter: %{x}<br>Sick Leave: %{y:.2f}%<extra></extra>",
         "legendgroup": "2022",
         "line": {
          "color": "#d62728",
          "dash": "solid",
          "width": 2
         },
         "marker": {
          "line": {
           "color": "black",
           "width": 0.5
          },
          "size": 6,
          "symbol": "circle"
         },
         "mode": "markers+lines",
         "name": "2022",
         "orientation": "v",
         "showlegend": true,
         "type": "scatter",
         "x": [
          1,
          2,
          3,
          4
         ],
         "xaxis": "x",
         "y": [
          6.448717948717949,
          5.51025641025641,
          5.1000000000000005,
          5.687179487179487
         ],
         "yaxis": "y"
        },
        {
         "customdata": [
          [
           2016
          ],
          [
           2016
          ],
          [
           2016
          ],
          [
           2016
          ],
          [
           2017
          ],
          [
           2017
          ],
          [
           2017
          ],
          [
           2017
          ],
          [
           2018
          ],
          [
           2018
          ],
          [
           2018
          ],
          [
           2018
          ],
          [
           2019
          ],
          [
           2019
          ],
          [
           2019
          ],
          [
           2019
          ],
          [
           2020
          ],
          [
           2020
          ],
          [
           2020
          ],
          [
           2020
          ],
          [
           2021
          ],
          [
           2021
          ],
          [
           2021
          ],
          [
           2021
          ],
          [
           2022
          ],
          [
           2022
          ],
          [
           2022
          ],
          [
           2022
          ],
          [
           2023
          ],
          [
           2023
          ],
          [
           2023
          ],
          [
           2023
          ]
         ],
         "hovertemplate": "<b>Year: %{customdata[0]}</b><br>Quarter: %{x}<br>Sick Leave: %{y:.2f}%<extra></extra>",
         "legendgroup": "2023",
         "line": {
          "color": "#2ca02c",
          "dash": "solid",
          "width": 2
         },
         "marker": {
          "line": {
           "color": "black",
           "width": 0.5
          },
          "size": 6,
          "symbol": "circle"
         },
         "mode": "markers+lines",
         "name": "2023",
         "orientation": "v",
         "showlegend": true,
         "type": "scatter",
         "x": [
          1,
          2,
          3,
          4
         ],
         "xaxis": "x",
         "y": [
          5.8999999999999995,
          5.102564102564102,
          4.874358974358974,
          5.582051282051282
         ],
         "yaxis": "y"
        }
       ],
       "layout": {
        "annotations": [
         {
          "font": {
           "color": "#767676",
           "family": "Roboto",
           "size": 14
          },
          "showarrow": false,
          "text": "Quarterly sick leave percentage by year (2016–2023)",
          "x": 0.01,
          "xanchor": "left",
          "xref": "paper",
          "y": 1.1,
          "yanchor": "top",
          "yref": "paper"
         }
        ],
        "font": {
         "color": "black",
         "family": "Roboto",
         "size": 12
        },
        "height": 600,
        "legend": {
         "bordercolor": "#e5e5e5",
         "borderwidth": 1,
         "font": {
          "color": "black",
          "family": "Roboto",
          "size": 12
         },
         "orientation": "v",
         "title": {},
         "tracegroupgap": 0,
         "x": 1.1,
         "xanchor": "right",
         "y": 1,
         "yanchor": "top"
        },
        "paper_bgcolor": "white",
        "plot_bgcolor": "white",
        "showlegend": true,
        "template": {
         "data": {
          "scatter": [
           {
            "type": "scatter"
           }
          ]
         }
        },
        "title": {
         "font": {
          "color": "#004b87",
          "family": "Roboto",
          "size": 20
         },
         "text": "Sick Leave Across Quarters: Trends from 2016 to 2023",
         "x": 0.01,
         "xanchor": "left",
         "y": 0.95,
         "yanchor": "top"
        },
        "width": 900,
        "xaxis": {
         "anchor": "y",
         "domain": [
          0,
          1
         ],
         "gridcolor": "#e5e5e5",
         "linecolor": "black",
         "mirror": false,
         "showgrid": true,
         "tickmode": "array",
         "ticks": "outside",
         "ticktext": [
          "Q1",
          "Q2",
          "Q3",
          "Q4"
         ],
         "tickvals": [
          1,
          2,
          3,
          4
         ],
         "title": {}
        },
        "yaxis": {
         "anchor": "x",
         "domain": [
          0,
          1
         ],
         "gridcolor": "#e5e5e5",
         "linecolor": "black",
         "mirror": false,
         "range": [
          2.5,
          7.448717948717949
         ],
         "showgrid": true,
         "ticks": "outside",
         "title": {
          "text": "Sick Leave Percentage"
         }
        }
       }
      }
     },
     "metadata": {},
     "output_type": "display_data"
    }
   ],
   "source": [
    "# Custom Economist-style colors\n",
    "economist_colors = [\n",
    "    \"#004b87\",  # Dark Blue\n",
    "    \"#e3120b\",  # Red\n",
    "    \"#767676\",  # Gray\n",
    "    \"#bfbfbf\",  # Light Gray\n",
    "    \"#6baed6\",  # Light Blue\n",
    "    \"#fdae6b\",  # Light Orange\n",
    "    \"#d62728\",  # Crimson\n",
    "    \"#2ca02c\",  # Green\n",
    "]\n",
    "\n",
    "# Create the Plotly line chart\n",
    "fig = px.line(\n",
    "    melted_data,\n",
    "    x='Quarter',\n",
    "    y='Sick Leave Percentage',\n",
    "    color='Year',\n",
    "    title='Sick Leave Across Quarters: Trends from 2016 to 2023',\n",
    "    markers=True\n",
    ")\n",
    "\n",
    "# Update layout for a cleaner, minimalist style\n",
    "fig.update_layout(\n",
    "    template='none',  # No built-in theme\n",
    "    title=dict(\n",
    "        text='Sick Leave Across Quarters: Trends from 2016 to 2023',\n",
    "        x=0.01, y=0.95,\n",
    "        xanchor='left',\n",
    "        yanchor='top',\n",
    "        font=dict(family='Roboto', size=20, color='#004b87')\n",
    "    ),\n",
    "    xaxis=dict(\n",
    "        title=None,\n",
    "        tickmode='array',\n",
    "        tickvals=[1, 2, 3, 4],\n",
    "        ticktext=['Q1', 'Q2', 'Q3', 'Q4'],\n",
    "        showgrid=True,\n",
    "        gridcolor='#e5e5e5',\n",
    "        linecolor='black',\n",
    "        ticks='outside',\n",
    "        mirror=False  # Remove top border\n",
    "    ),\n",
    "    yaxis=dict(\n",
    "        showgrid=True,\n",
    "        gridcolor='#e5e5e5',\n",
    "        linecolor='black',\n",
    "        ticks='outside',\n",
    "        mirror=False,  # Remove right border\n",
    "        range=[2.5, agg_data['Ziekteverzuimpercentage_1'].max() + 1]\n",
    "    ),\n",
    "    plot_bgcolor='white',\n",
    "    paper_bgcolor='white',\n",
    "    showlegend=True,\n",
    "    legend=dict(\n",
    "        title=None,\n",
    "        orientation=\"v\",\n",
    "        yanchor=\"top\",\n",
    "        y=1,\n",
    "        xanchor=\"right\",\n",
    "        x=1.1,\n",
    "        font=dict(size=12, color='black', family='Roboto'),\n",
    "        bordercolor='#e5e5e5',\n",
    "        borderwidth=1\n",
    "    ),\n",
    "    width=900,\n",
    "    height=600,\n",
    "    font=dict(family='Roboto', size=12, color='black')\n",
    ")\n",
    "\n",
    "# Apply custom line and marker styles\n",
    "fig.update_traces(\n",
    "    line=dict(width=2),\n",
    "    marker=dict(size=6, line=dict(width=0.5, color='black')),\n",
    "    hovertemplate=\"<b>Year: %{customdata[0]}</b><br>Quarter: %{x}<br>Sick Leave: %{y:.2f}%<extra></extra>\",\n",
    "    customdata=melted_data[['Year']].values\n",
    ")\n",
    "\n",
    "# Use the custom Economist colors for lines\n",
    "for i, trace in enumerate(fig.data):\n",
    "    trace.update(line=dict(color=economist_colors[i % len(economist_colors)]))\n",
    "\n",
    "# Add a subtitle\n",
    "fig.add_annotation(\n",
    "    text='Quarterly sick leave percentage by year (2016–2023)',\n",
    "    xref='paper', yref='paper',\n",
    "    x=0.01, y=1.1,\n",
    "    showarrow=False,\n",
    "    font=dict(family='Roboto', size=14, color='#767676'),\n",
    "    xanchor='left',\n",
    "    yanchor='top'\n",
    ")\n",
    "\n",
    "# Show the updated plot\n",
    "fig.show()\n",
    "\n",
    "# Save the plot as HTML for sharing\n",
    "fig.write_html(\"economist_style_sickleave_percentage_updated.html\")"
   ]
  }
 ],
 "metadata": {
  "kernelspec": {
   "display_name": ".venv",
   "language": "python",
   "name": "python3"
  },
  "language_info": {
   "codemirror_mode": {
    "name": "ipython",
    "version": 3
   },
   "file_extension": ".py",
   "mimetype": "text/x-python",
   "name": "python",
   "nbconvert_exporter": "python",
   "pygments_lexer": "ipython3",
   "version": "3.12.3"
  }
 },
 "nbformat": 4,
 "nbformat_minor": 2
}
