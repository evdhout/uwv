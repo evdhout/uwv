{
 "cells": [
  {
   "cell_type": "code",
   "execution_count": 1,
   "metadata": {},
   "outputs": [],
   "source": [
    "import pandas as pd\n",
    "import matplotlib.pyplot as plt\n",
    "import matplotlib\n",
    "import cbsodata\n",
    "import seaborn as sns"
   ]
  },
  {
   "cell_type": "code",
   "execution_count": 2,
   "metadata": {},
   "outputs": [],
   "source": [
    "# Set the font globally\n",
    "matplotlib.rcParams['font.family'] = 'Roboto'  # You can replace 'Roboto' with any installed font"
   ]
  },
  {
   "cell_type": "code",
   "execution_count": 3,
   "metadata": {},
   "outputs": [],
   "source": [
    "# Fetch the specific dataset using its ID\n",
    "data = pd.DataFrame(cbsodata.get_data('80072NED'))"
   ]
  },
  {
   "cell_type": "code",
   "execution_count": null,
   "metadata": {},
   "outputs": [],
   "source": [
    "# Display the first few rows of the dataset\n",
    "print(data.head())"
   ]
  },
  {
   "cell_type": "code",
   "execution_count": 5,
   "metadata": {},
   "outputs": [],
   "source": [
    "# Extract year and quarter from the 'Perioden' column\n",
    "data['Year'] = data['Perioden'].str.extract(r'(\\d{4})').astype(float)\n",
    "data['Quarter'] = data['Perioden'].str.extract(r'(\\d)e kwartaal').astype(float)\n"
   ]
  },
  {
   "cell_type": "code",
   "execution_count": 6,
   "metadata": {},
   "outputs": [],
   "source": [
    "# Drop rows where Year or Quarter is NaN (e.g., full year periods)\n",
    "data = data.dropna(subset=['Year', 'Quarter'])"
   ]
  },
  {
   "cell_type": "code",
   "execution_count": 7,
   "metadata": {},
   "outputs": [],
   "source": [
    "# Convert Year and Quarter to integers\n",
    "data['Year'] = data['Year'].astype(int)\n",
    "data['Quarter'] = data['Quarter'].astype(int)"
   ]
  },
  {
   "cell_type": "code",
   "execution_count": 8,
   "metadata": {},
   "outputs": [],
   "source": [
    "# Filter data to include only years from 2016 to 2023\n",
    "data = data[(data['Year'] >= 2016) & (data['Year'] <= 2023)]"
   ]
  },
  {
   "cell_type": "code",
   "execution_count": 9,
   "metadata": {},
   "outputs": [],
   "source": [
    "# Aggregate the data to handle duplicates\n",
    "agg_data = data.groupby(['Quarter', 'Year']).agg({'Ziekteverzuimpercentage_1': 'mean'}).reset_index()"
   ]
  },
  {
   "cell_type": "code",
   "execution_count": 10,
   "metadata": {},
   "outputs": [],
   "source": [
    "# Pivot the table to get years as columns and quarters as rows\n",
    "pivot_data = agg_data.pivot(index='Quarter', values='Ziekteverzuimpercentage_1', columns='Year')"
   ]
  },
  {
   "cell_type": "code",
   "execution_count": 11,
   "metadata": {},
   "outputs": [],
   "source": [
    "# Sort columns in descending order\n",
    "pivot_data = pivot_data[sorted(pivot_data.columns, reverse=True)]"
   ]
  },
  {
   "cell_type": "code",
   "execution_count": 12,
   "metadata": {},
   "outputs": [],
   "source": [
    "# Set a pastel color palette\n",
    "sns.set_palette(\"colorblind\")"
   ]
  },
  {
   "cell_type": "code",
   "execution_count": 13,
   "metadata": {},
   "outputs": [],
   "source": [
    "# Get the current color palette\n",
    "colors = sns.color_palette(\"colorblind\", n_colors=len(pivot_data.columns))"
   ]
  },
  {
   "cell_type": "code",
   "execution_count": null,
   "metadata": {},
   "outputs": [],
   "source": [
    "# Plotting the line chart\n",
    "fig, ax = plt.subplots(figsize=(12, 6))\n",
    "pivot_data.plot(kind='line', ax=ax)\n",
    "\n",
    "# Set titles and labels with a specific font\n",
    "plt.title('Sickleave Percentage per Year & Quarter', fontdict={'fontsize': 12, 'fontweight': 'normal'})\n",
    "plt.xlabel('Quarter', fontdict={'fontsize': 10, 'fontweight': 'normal'})\n",
    "\n",
    "# Set y-axis label, move it to the top, and rotate it\n",
    "ax.set_ylabel('%', fontdict={'fontsize': 12, 'fontweight': 'normal'}, rotation=0, labelpad=15) \n",
    "\n",
    "# Ensure x-axis labels are whole numbers\n",
    "ax.set_xticks(pivot_data.index)\n",
    "ax.set_xticklabels(pivot_data.index)\n",
    "\n",
    "# Adjust axis limits to remove white margins\n",
    "ax.set_xlim(pivot_data.index.min(), pivot_data.index.max())\n",
    "\n",
    "# Add year labels directly behind their corresponding lines, with matching colors\n",
    "for color, year in zip(colors, pivot_data.columns):\n",
    "    ax.text(\n",
    "        x=pivot_data.index.max(),  # Position at the rightmost point of the line\n",
    "        y=pivot_data[year].iloc[-1],  # Position at the last value of the line\n",
    "        s=str(year),  # The year label\n",
    "        va='center',  # Vertically align the text\n",
    "        ha='left',  # Horizontally align the text\n",
    "        fontsize=10,  # Font size for the labels\n",
    "        color=color,  # Set the text color to match the line\n",
    "        bbox=dict(facecolor='white', alpha=0.6, edgecolor='none')  # Optional background box\n",
    "    )\n",
    "\n",
    "# Remove the legend\n",
    "ax.legend().remove()\n",
    "\n",
    "# Remove the upper and right spines (lines)\n",
    "ax.spines['top'].set_visible(False)\n",
    "ax.spines['right'].set_visible(False)\n",
    "\n",
    "# Add light grey vertical grid lines\n",
    "ax.grid(axis='y', color='grey', linestyle='-', linewidth=0.5)\n",
    "\n",
    "# Remove remaining white margins\n",
    "plt.tight_layout()\n",
    "\n",
    "# Save the plot to a file before showing it\n",
    "plt.savefig(\"line_plot.png\", bbox_inches='tight')\n",
    "plt.show()"
   ]
  },
  {
   "cell_type": "code",
   "execution_count": null,
   "metadata": {},
   "outputs": [],
   "source": [
    "# Add annotation for horizontal y-axis title\n",
    "fig.add_annotation(\n",
    "    text=\"Sick Leave Percentage\",  # Text for y-axis title\n",
    "    xref=\"paper\", yref=\"paper\",  # Coordinates relative to the plot\n",
    "    x=-0.03, y=1.05,  # Adjust x and y values to position the text\n",
    "    showarrow=False,  # No arrow\n",
    "    font=dict(size=12),\n",
    "    align=\"center\"\n",
    ")"
   ]
  },
  {
   "cell_type": "code",
   "execution_count": null,
   "metadata": {},
   "outputs": [],
   "source": [
    "import pandas as pd\n",
    "import cbsodata\n",
    "import plotly.graph_objs as go\n",
    "import plotly.io as pio\n",
    "from plotly.subplots import make_subplots\n",
    "\n",
    "# Set default Plotly template\n",
    "pio.templates.default = \"plotly_white\"\n",
    "\n",
    "# Fetch the specific dataset using its ID\n",
    "data = pd.DataFrame(cbsodata.get_data('80072NED'))\n",
    "\n",
    "# Extract year and quarter from the 'Perioden' column\n",
    "data['Year'] = data['Perioden'].str.extract(r'(\\d{4})').astype(float)\n",
    "data['Quarter'] = data['Perioden'].str.extract(r'(\\d)e kwartaal').astype(float)\n",
    "\n",
    "# Drop rows where Year or Quarter is NaN (e.g., full year periods)\n",
    "data = data.dropna(subset=['Year', 'Quarter'])\n",
    "\n",
    "# Convert Year and Quarter to integers\n",
    "data['Year'] = data['Year'].astype(int)\n",
    "data['Quarter'] = data['Quarter'].astype(int)\n",
    "\n",
    "# Filter data to include only years from 2016 to 2023\n",
    "data = data[(data['Year'] >= 2016) & (data['Year'] <= 2023)]\n",
    "\n",
    "# Aggregate the data to handle duplicates\n",
    "agg_data = data.groupby(['Quarter', 'Year']).agg({'Ziekteverzuimpercentage_1': 'mean'}).reset_index()\n",
    "\n",
    "# Pivot the table to get years as columns and quarters as rows\n",
    "pivot_data = agg_data.pivot(index='Quarter', values='Ziekteverzuimpercentage_1', columns='Year')\n",
    "\n",
    "# Sort columns in descending order\n",
    "pivot_data = pivot_data[sorted(pivot_data.columns, reverse=True)]\n",
    "\n",
    "# Define a color palette manually for the lines\n",
    "color_palette = ['#636EFA', '#EF553B', '#00CC96', '#AB63FA', '#FFA15A', '#19D3F3', '#FF6692', '#B6E880', '#FF97FF', '#FECB52']\n",
    "\n",
    "# Create two subplots with shared x-axis\n",
    "fig = make_subplots(\n",
    "    rows=2, cols=1, \n",
    "    shared_xaxes=True,\n",
    "    row_heights=[0.6, 0.4],  # Adjust heights for upper and lower plot\n",
    "    vertical_spacing=0.02  # Minimize the space between plots to create the broken axis illusion\n",
    ")\n",
    "\n",
    "# Add traces for each year to the upper plot (range 3.5 to 6.5)\n",
    "for idx, year in enumerate(pivot_data.columns):\n",
    "    fig.add_trace(go.Scatter(\n",
    "        x=pivot_data.index,\n",
    "        y=pivot_data[year].where(pivot_data[year] > 3.5),  # Only plot values > 3.5\n",
    "        mode='lines+text',\n",
    "        name=str(year),\n",
    "        line=dict(color=color_palette[idx % len(color_palette)], width=3),\n",
    "        text=[f\"{year}\" if x == pivot_data.index[-1] else \"\" for x in pivot_data.index],  # Add year label at the last point\n",
    "        textposition=\"top right\",\n",
    "        textfont=dict(color=color_palette[idx % len(color_palette)], size=12)\n",
    "    ), row=1, col=1)\n",
    "\n",
    "# Add traces for each year to the lower plot (range 0 to 3.0)\n",
    "for idx, year in enumerate(pivot_data.columns):\n",
    "    fig.add_trace(go.Scatter(\n",
    "        x=pivot_data.index,\n",
    "        y=pivot_data[year].where(pivot_data[year] <= 3.0),  # Only plot values <= 3.0\n",
    "        mode='lines+text',\n",
    "        name=str(year),\n",
    "        line=dict(color=color_palette[idx % len(color_palette)], width=3, dash='dot'),  # Dashed line for the lower plot\n",
    "        text=[f\"{year}\" if x == pivot_data.index[-1] else \"\" for x in pivot_data.index],  # Add year label at the last point\n",
    "        textposition=\"top right\",\n",
    "        textfont=dict(color=color_palette[idx % len(color_palette)], size=12)\n",
    "    ), row=2, col=1)\n",
    "\n",
    "# Customize the upper y-axis (range 3.5 to 6.5)\n",
    "fig.update_yaxes(\n",
    "    range=[3.5, 7.0],  # Set range for upper plot\n",
    "    tickvals=[3.5, 4.0, 4.5, 5.0,5.5, 6.0,6.5],\n",
    "    row=1, col=1\n",
    ")\n",
    "\n",
    "# Customize the lower y-axis (range 0.0 to 3.0)\n",
    "fig.update_yaxes(\n",
    "    range=[0, 3.0],  # Set range for lower plot\n",
    "    tickvals=[0.0],\n",
    "    row=2, col=1\n",
    ")\n",
    "\n",
    "# Customize the x-axis (Quarters)\n",
    "fig.update_xaxes(\n",
    "    tickvals=[1, 2, 3, 4],  # Show Quarters 1, 2, 3, 4\n",
    "    ticktext=['1', '2', '3', '4'],\n",
    "    row=2, col=1  # Only show x-axis labels on the lower plot\n",
    ")\n",
    "\n",
    "# Remove x-axis labels from the upper plot for a clean look\n",
    "fig.update_xaxes(showticklabels=False, row=1, col=1)\n",
    "\n",
    "# Set overall layout\n",
    "fig.update_layout(\n",
    "    title='Sick Leave Trends from 2016 to 2023: Simulated Broken Y-Axis',\n",
    "    font=dict(family=\"Roboto\", size=12),\n",
    "    showlegend=False,  # Remove the legend\n",
    "    hovermode=\"x unified\",\n",
    "    width=1200,  # Adjusted width\n",
    "    height=600,  # Adjusted height\n",
    "    margin=dict(l=50, r=20, t=70, b=50),  # Adjustable top margin\n",
    "    plot_bgcolor='rgba(0,0,0,0)'  # Transparent background\n",
    ")\n",
    "\n",
    "# Show the plot\n",
    "fig.show()\n"
   ]
  }
 ],
 "metadata": {
  "kernelspec": {
   "display_name": ".venv",
   "language": "python",
   "name": "python3"
  },
  "language_info": {
   "codemirror_mode": {
    "name": "ipython",
    "version": 3
   },
   "file_extension": ".py",
   "mimetype": "text/x-python",
   "name": "python",
   "nbconvert_exporter": "python",
   "pygments_lexer": "ipython3",
   "version": "3.12.3"
  }
 },
 "nbformat": 4,
 "nbformat_minor": 2
}
