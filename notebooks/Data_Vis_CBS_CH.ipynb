{
 "cells": [
  {
   "cell_type": "code",
   "execution_count": null,
   "metadata": {},
   "outputs": [],
   "source": [
    "import pandas as pd\n",
    "import plotly.express as px\n",
    "import cbsodata\n"
   ]
  },
  {
   "cell_type": "code",
   "execution_count": null,
   "metadata": {},
   "outputs": [],
   "source": [
    "# Fetch the specific dataset using its ID\n",
    "data = pd.DataFrame(cbsodata.get_data('80072NED'))"
   ]
  },
  {
   "cell_type": "code",
   "execution_count": null,
   "metadata": {},
   "outputs": [],
   "source": [
    "# Display the first few rows of the dataset\n",
    "print(data.head())"
   ]
  },
  {
   "cell_type": "code",
   "execution_count": null,
   "metadata": {},
   "outputs": [],
   "source": [
    "# Extract year and quarter from the 'Perioden' column\n",
    "data['Year'] = data['Perioden'].str.extract(r'(\\d{4})').astype(float)\n",
    "data['Quarter'] = data['Perioden'].str.extract(r'(\\d)e kwartaal').astype(float)\n"
   ]
  },
  {
   "cell_type": "code",
   "execution_count": null,
   "metadata": {},
   "outputs": [],
   "source": [
    "# Drop rows where Year or Quarter is NaN (e.g., full year periods)\n",
    "data = data.dropna(subset=['Year', 'Quarter'])"
   ]
  },
  {
   "cell_type": "code",
   "execution_count": null,
   "metadata": {},
   "outputs": [],
   "source": [
    "# Convert Year and Quarter to integers\n",
    "data['Year'] = data['Year'].astype(int)\n",
    "data['Quarter'] = data['Quarter'].astype(int)"
   ]
  },
  {
   "cell_type": "code",
   "execution_count": null,
   "metadata": {},
   "outputs": [],
   "source": [
    "# Filter data to include only years from 2016 to 2023\n",
    "data = data[(data['Year'] >= 2016) & (data['Year'] <= 2023)]"
   ]
  },
  {
   "cell_type": "code",
   "execution_count": null,
   "metadata": {},
   "outputs": [],
   "source": [
    "# Aggregate the data to handle duplicates\n",
    "agg_data = data.groupby(['Quarter', 'Year']).agg({'Ziekteverzuimpercentage_1': 'mean'}).reset_index()"
   ]
  },
  {
   "cell_type": "code",
   "execution_count": null,
   "metadata": {},
   "outputs": [],
   "source": [
    "# Pivot the table to get years as columns and quarters as rows\n",
    "pivot_data = agg_data.pivot(index='Quarter', values='Ziekteverzuimpercentage_1', columns='Year')"
   ]
  },
  {
   "cell_type": "code",
   "execution_count": null,
   "metadata": {},
   "outputs": [],
   "source": [
    "# Sort columns in descending order\n",
    "pivot_data = pivot_data[sorted(pivot_data.columns, reverse=True)]"
   ]
  },
  {
   "cell_type": "code",
   "execution_count": null,
   "metadata": {},
   "outputs": [],
   "source": [
    "# Set a pastel color palette\n",
    "#sns.set_palette(\"colorblind\")"
   ]
  },
  {
   "cell_type": "code",
   "execution_count": null,
   "metadata": {},
   "outputs": [],
   "source": [
    "# Get the current color palette\n",
    "#colors = sns.color_palette(\"colorblind\", n_colors=len(pivot_data.columns))"
   ]
  },
  {
   "cell_type": "code",
   "execution_count": null,
   "metadata": {},
   "outputs": [],
   "source": [
    "# Extract year and quarter from the 'Perioden' column\n",
    "data['Year'] = data['Perioden'].str.extract(r'(\\d{4})').astype(float)\n",
    "data['Quarter'] = data['Perioden'].str.extract(r'(\\d)e kwartaal').astype(float)\n",
    "\n",
    "# Drop rows where Year or Quarter is NaN (e.g., full year periods)\n",
    "data = data.dropna(subset=['Year', 'Quarter'])\n",
    "\n",
    "# Convert Year and Quarter to integers\n",
    "data['Year'] = data['Year'].astype(int)\n",
    "data['Quarter'] = data['Quarter'].astype(int)\n",
    "\n",
    "# Filter data to include only years from 2016 to 2023\n",
    "data = data[(data['Year'] >= 2016) & (data['Year'] <= 2023)]\n",
    "\n",
    "# Aggregate the data to handle duplicates\n",
    "agg_data = data.groupby(['Quarter', 'Year']).agg({'Ziekteverzuimpercentage_1': 'mean'}).reset_index()\n",
    "\n",
    "# Pivot the table to get years as columns and quarters as rows\n",
    "pivot_data = agg_data.pivot(index='Quarter', values='Ziekteverzuimpercentage_1', columns='Year')\n",
    "\n",
    "# Melt the pivoted data for Plotly\n",
    "melted_data = pivot_data.reset_index().melt(id_vars='Quarter', var_name='Year', value_name='Sick Leave Percentage')\n",
    "\n",
    "# Create the Plotly line chart\n",
    "fig = px.line(melted_data, \n",
    "              x='Quarter', \n",
    "              y='Sick Leave Percentage', \n",
    "              color='Year',\n",
    "              title='Sick Leave Insights: A Yearly and Quarterly Breakdown',\n",
    "              markers=True)\n",
    "\n",
    "# Adjust the x-axis to only show Q1, Q2, Q3, and Q4\n",
    "fig.update_layout(\n",
    "    template='ggplot2', \n",
    "    xaxis_title='Quarter',\n",
    "    xaxis=dict(\n",
    "        tickmode='array',  # Use custom ticks\n",
    "        tickvals=[1, 2, 3, 4],  # Show only full quarters\n",
    "        ticktext=['Q1', 'Q2', 'Q3', 'Q4'],  # Custom labels for quarters\n",
    "        showgrid=True,\n",
    "        gridcolor='lightgrey',\n",
    "    ),\n",
    "    yaxis=dict(\n",
    "        tickmode='array', \n",
    "        tickvals=[3, 4, 5, 6, 7],  # Custom tick values without halves\n",
    "        ticktext=['0', '4', '5', '6', '7'],  # Label 3.5 as \"0\"\n",
    "        range=[3, agg_data['Ziekteverzuimpercentage_1'].max() + 1],  # Y-axis starts just below 3.5\n",
    "        showgrid=True,\n",
    "        gridcolor='grey',\n",
    "        title=None  # Hide the default y-axis title\n",
    "    ),\n",
    "    plot_bgcolor='white',  # Set background to white\n",
    "    paper_bgcolor='white',  # Set plot area to white\n",
    "    showlegend=False,  # Remove the legend\n",
    "    width=1100,  # Set the width of the plot\n",
    "    height=600,  # Set the height of the plot\n",
    "    font=dict(family='Roboto', size=12, color='black', weight='bold'),  # Set Roboto font for entire plot\n",
    ")\n",
    "\n",
    "\n",
    "# Add custom annotation to act as the y-axis title at the top-left of the plot\n",
    "fig.add_annotation(\n",
    "    text='CBS Sick Leave %',  # Custom title text\n",
    "    xref='paper', yref='paper',  # Position in plot space\n",
    "    x=-0.06, y=1.00,  # Top-left corner of the plot\n",
    "    showarrow=False,\n",
    "    font=dict(size=12),  # Customize the font size\n",
    "    xanchor='left',\n",
    "    yanchor='top',\n",
    ")\n",
    "\n",
    "# Add year labels at the last point of each line with matching colors\n",
    "for year in melted_data['Year'].dropna().unique():\n",
    "    last_quarter = melted_data[melted_data['Year'] == year]['Quarter'].max()\n",
    "    last_value = melted_data[(melted_data['Year'] == year) & (melted_data['Quarter'] == last_quarter)]['Sick Leave Percentage'].values[0]\n",
    "    \n",
    "    # Get the line color associated with the year\n",
    "    line_color = fig.data[melted_data['Year'].dropna().unique().tolist().index(year)].line.color\n",
    "    \n",
    "    fig.add_annotation(\n",
    "        x=last_quarter,\n",
    "        y=last_value,\n",
    "        text=str(year),\n",
    "        showarrow=False,\n",
    "        font=dict(color=line_color, size=12),  # Match the text color with the line\n",
    "        xanchor='left',\n",
    "        yanchor='middle'\n",
    "    )\n",
    "\n",
    "# Show the plot\n",
    "fig.show()\n",
    "\n",
    "# Save the plot as a PNG file\n",
    "fig.write_image(\"sickleave_percentage_per_quarter_custom_ticks.png\")\n",
    "\n",
    "# Save as HTML for interactive viewing\n",
    "fig.write_html(\"sickleave_percentage_per_quarter_custom_ticks.html\")\n"
   ]
  }
 ],
 "metadata": {
  "kernelspec": {
   "display_name": ".venv",
   "language": "python",
   "name": "python3"
  },
  "language_info": {
   "codemirror_mode": {
    "name": "ipython",
    "version": 3
   },
   "file_extension": ".py",
   "mimetype": "text/x-python",
   "name": "python",
   "nbconvert_exporter": "python",
   "pygments_lexer": "ipython3",
   "version": "3.12.3"
  }
 },
 "nbformat": 4,
 "nbformat_minor": 2
}
