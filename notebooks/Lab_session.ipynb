{
 "cells": [
  {
   "cell_type": "code",
   "execution_count": 5,
   "metadata": {},
   "outputs": [
    {
     "data": {
      "text/html": [
       "<div>\n",
       "<style scoped>\n",
       "    .dataframe tbody tr th:only-of-type {\n",
       "        vertical-align: middle;\n",
       "    }\n",
       "\n",
       "    .dataframe tbody tr th {\n",
       "        vertical-align: top;\n",
       "    }\n",
       "\n",
       "    .dataframe thead th {\n",
       "        text-align: right;\n",
       "    }\n",
       "</style>\n",
       "<table border=\"1\" class=\"dataframe\">\n",
       "  <thead>\n",
       "    <tr style=\"text-align: right;\">\n",
       "      <th></th>\n",
       "      <th>Branche (SBI 2008)</th>\n",
       "      <th>Sick leave percentage 2022</th>\n",
       "      <th>Employed persons 2023 (x1000)</th>\n",
       "      <th>Keer elkaar</th>\n",
       "    </tr>\n",
       "  </thead>\n",
       "  <tbody>\n",
       "    <tr>\n",
       "      <th>0</th>\n",
       "      <td>Q Gezondheids- en welzijnszorg</td>\n",
       "      <td>7.9</td>\n",
       "      <td>1625</td>\n",
       "      <td>12837.5</td>\n",
       "    </tr>\n",
       "    <tr>\n",
       "      <th>1</th>\n",
       "      <td>G Handel</td>\n",
       "      <td>5.0</td>\n",
       "      <td>1558</td>\n",
       "      <td>7790.0</td>\n",
       "    </tr>\n",
       "    <tr>\n",
       "      <th>2</th>\n",
       "      <td>N Verhuur en overige zakelijke diensten</td>\n",
       "      <td>4.9</td>\n",
       "      <td>1218</td>\n",
       "      <td>5968.2</td>\n",
       "    </tr>\n",
       "    <tr>\n",
       "      <th>3</th>\n",
       "      <td>C Industrie</td>\n",
       "      <td>6.5</td>\n",
       "      <td>763</td>\n",
       "      <td>4959.5</td>\n",
       "    </tr>\n",
       "    <tr>\n",
       "      <th>4</th>\n",
       "      <td>O Openbaar bestuur en overheidsdiensten</td>\n",
       "      <td>6.1</td>\n",
       "      <td>639</td>\n",
       "      <td>3897.9</td>\n",
       "    </tr>\n",
       "  </tbody>\n",
       "</table>\n",
       "</div>"
      ],
      "text/plain": [
       "                        Branche (SBI 2008)  Sick leave percentage 2022  \\\n",
       "0           Q Gezondheids- en welzijnszorg                         7.9   \n",
       "1                                 G Handel                         5.0   \n",
       "2  N Verhuur en overige zakelijke diensten                         4.9   \n",
       "3                              C Industrie                         6.5   \n",
       "4  O Openbaar bestuur en overheidsdiensten                         6.1   \n",
       "\n",
       "   Employed persons 2023 (x1000)  Keer elkaar  \n",
       "0                           1625      12837.5  \n",
       "1                           1558       7790.0  \n",
       "2                           1218       5968.2  \n",
       "3                            763       4959.5  \n",
       "4                            639       3897.9  "
      ]
     },
     "metadata": {},
     "output_type": "display_data"
    },
    {
     "data": {
      "application/vnd.plotly.v1+json": {
       "config": {
        "plotlyServerURL": "https://plot.ly"
       },
       "data": [
        {
         "hovertemplate": "<b>%{hovertext}</b><br><br>Branche (SBI 2008)=Q Gezondheids- en welzijnszorg<br>Employed Persons (2023, x1000)=%{marker.size}<br>Sick Leave Percentage 2022=%{y}<extra></extra>",
         "hovertext": [
          "Q Gezondheids- en welzijnszorg"
         ],
         "legendgroup": "Q Gezondheids- en welzijnszorg",
         "marker": {
          "color": "#636efa",
          "size": [
           1625
          ],
          "sizemode": "area",
          "sizeref": 0.4513888888888889,
          "symbol": "circle"
         },
         "mode": "markers",
         "name": "Q Gezondheids- en welzijnszorg",
         "orientation": "v",
         "showlegend": true,
         "type": "scatter",
         "x": [
          1625
         ],
         "xaxis": "x",
         "y": [
          7.9
         ],
         "yaxis": "y"
        },
        {
         "hovertemplate": "<b>%{hovertext}</b><br><br>Branche (SBI 2008)=G Handel<br>Employed Persons (2023, x1000)=%{marker.size}<br>Sick Leave Percentage 2022=%{y}<extra></extra>",
         "hovertext": [
          "G Handel"
         ],
         "legendgroup": "G Handel",
         "marker": {
          "color": "#EF553B",
          "size": [
           1558
          ],
          "sizemode": "area",
          "sizeref": 0.4513888888888889,
          "symbol": "circle"
         },
         "mode": "markers",
         "name": "G Handel",
         "orientation": "v",
         "showlegend": true,
         "type": "scatter",
         "x": [
          1558
         ],
         "xaxis": "x",
         "y": [
          5
         ],
         "yaxis": "y"
        },
        {
         "hovertemplate": "<b>%{hovertext}</b><br><br>Branche (SBI 2008)=N Verhuur en overige zakelijke diensten<br>Employed Persons (2023, x1000)=%{marker.size}<br>Sick Leave Percentage 2022=%{y}<extra></extra>",
         "hovertext": [
          "N Verhuur en overige zakelijke diensten"
         ],
         "legendgroup": "N Verhuur en overige zakelijke diensten",
         "marker": {
          "color": "#00cc96",
          "size": [
           1218
          ],
          "sizemode": "area",
          "sizeref": 0.4513888888888889,
          "symbol": "circle"
         },
         "mode": "markers",
         "name": "N Verhuur en overige zakelijke diensten",
         "orientation": "v",
         "showlegend": true,
         "type": "scatter",
         "x": [
          1218
         ],
         "xaxis": "x",
         "y": [
          4.9
         ],
         "yaxis": "y"
        },
        {
         "hovertemplate": "<b>%{hovertext}</b><br><br>Branche (SBI 2008)=C Industrie<br>Employed Persons (2023, x1000)=%{marker.size}<br>Sick Leave Percentage 2022=%{y}<extra></extra>",
         "hovertext": [
          "C Industrie"
         ],
         "legendgroup": "C Industrie",
         "marker": {
          "color": "#ab63fa",
          "size": [
           763
          ],
          "sizemode": "area",
          "sizeref": 0.4513888888888889,
          "symbol": "circle"
         },
         "mode": "markers",
         "name": "C Industrie",
         "orientation": "v",
         "showlegend": true,
         "type": "scatter",
         "x": [
          763
         ],
         "xaxis": "x",
         "y": [
          6.5
         ],
         "yaxis": "y"
        },
        {
         "hovertemplate": "<b>%{hovertext}</b><br><br>Branche (SBI 2008)=O Openbaar bestuur en overheidsdiensten<br>Employed Persons (2023, x1000)=%{marker.size}<br>Sick Leave Percentage 2022=%{y}<extra></extra>",
         "hovertext": [
          "O Openbaar bestuur en overheidsdiensten"
         ],
         "legendgroup": "O Openbaar bestuur en overheidsdiensten",
         "marker": {
          "color": "#FFA15A",
          "size": [
           639
          ],
          "sizemode": "area",
          "sizeref": 0.4513888888888889,
          "symbol": "circle"
         },
         "mode": "markers",
         "name": "O Openbaar bestuur en overheidsdiensten",
         "orientation": "v",
         "showlegend": true,
         "type": "scatter",
         "x": [
          639
         ],
         "xaxis": "x",
         "y": [
          6.1
         ],
         "yaxis": "y"
        },
        {
         "hovertemplate": "<b>%{hovertext}</b><br><br>Branche (SBI 2008)=P Onderwijs<br>Employed Persons (2023, x1000)=%{marker.size}<br>Sick Leave Percentage 2022=%{y}<extra></extra>",
         "hovertext": [
          "P Onderwijs"
         ],
         "legendgroup": "P Onderwijs",
         "marker": {
          "color": "#19d3f3",
          "size": [
           638
          ],
          "sizemode": "area",
          "sizeref": 0.4513888888888889,
          "symbol": "circle"
         },
         "mode": "markers",
         "name": "P Onderwijs",
         "orientation": "v",
         "showlegend": true,
         "type": "scatter",
         "x": [
          638
         ],
         "xaxis": "x",
         "y": [
          5.7
         ],
         "yaxis": "y"
        },
        {
         "hovertemplate": "<b>%{hovertext}</b><br><br>Branche (SBI 2008)=M Specialistische zakelijke diensten<br>Employed Persons (2023, x1000)=%{marker.size}<br>Sick Leave Percentage 2022=%{y}<extra></extra>",
         "hovertext": [
          "M Specialistische zakelijke diensten"
         ],
         "legendgroup": "M Specialistische zakelijke diensten",
         "marker": {
          "color": "#FF6692",
          "size": [
           857
          ],
          "sizemode": "area",
          "sizeref": 0.4513888888888889,
          "symbol": "circle"
         },
         "mode": "markers",
         "name": "M Specialistische zakelijke diensten",
         "orientation": "v",
         "showlegend": true,
         "type": "scatter",
         "x": [
          857
         ],
         "xaxis": "x",
         "y": [
          3.8
         ],
         "yaxis": "y"
        },
        {
         "hovertemplate": "<b>%{hovertext}</b><br><br>Branche (SBI 2008)=F Bouwnijverheid<br>Employed Persons (2023, x1000)=%{marker.size}<br>Sick Leave Percentage 2022=%{y}<extra></extra>",
         "hovertext": [
          "F Bouwnijverheid"
         ],
         "legendgroup": "F Bouwnijverheid",
         "marker": {
          "color": "#B6E880",
          "size": [
           592
          ],
          "sizemode": "area",
          "sizeref": 0.4513888888888889,
          "symbol": "circle"
         },
         "mode": "markers",
         "name": "F Bouwnijverheid",
         "orientation": "v",
         "showlegend": true,
         "type": "scatter",
         "x": [
          592
         ],
         "xaxis": "x",
         "y": [
          5.3
         ],
         "yaxis": "y"
        },
        {
         "hovertemplate": "<b>%{hovertext}</b><br><br>Branche (SBI 2008)=H Vervoer en opslag<br>Employed Persons (2023, x1000)=%{marker.size}<br>Sick Leave Percentage 2022=%{y}<extra></extra>",
         "hovertext": [
          "H Vervoer en opslag"
         ],
         "legendgroup": "H Vervoer en opslag",
         "marker": {
          "color": "#FF97FF",
          "size": [
           436
          ],
          "sizemode": "area",
          "sizeref": 0.4513888888888889,
          "symbol": "circle"
         },
         "mode": "markers",
         "name": "H Vervoer en opslag",
         "orientation": "v",
         "showlegend": true,
         "type": "scatter",
         "x": [
          436
         ],
         "xaxis": "x",
         "y": [
          6.4
         ],
         "yaxis": "y"
        },
        {
         "hovertemplate": "<b>%{hovertext}</b><br><br>Branche (SBI 2008)=I Horeca<br>Employed Persons (2023, x1000)=%{marker.size}<br>Sick Leave Percentage 2022=%{y}<extra></extra>",
         "hovertext": [
          "I Horeca"
         ],
         "legendgroup": "I Horeca",
         "marker": {
          "color": "#FECB52",
          "size": [
           501
          ],
          "sizemode": "area",
          "sizeref": 0.4513888888888889,
          "symbol": "circle"
         },
         "mode": "markers",
         "name": "I Horeca",
         "orientation": "v",
         "showlegend": true,
         "type": "scatter",
         "x": [
          501
         ],
         "xaxis": "x",
         "y": [
          4.7
         ],
         "yaxis": "y"
        },
        {
         "hovertemplate": "<b>%{hovertext}</b><br><br>Branche (SBI 2008)=J Informatie en communicatie<br>Employed Persons (2023, x1000)=%{marker.size}<br>Sick Leave Percentage 2022=%{y}<extra></extra>",
         "hovertext": [
          "J Informatie en communicatie"
         ],
         "legendgroup": "J Informatie en communicatie",
         "marker": {
          "color": "#636efa",
          "size": [
           375
          ],
          "sizemode": "area",
          "sizeref": 0.4513888888888889,
          "symbol": "circle"
         },
         "mode": "markers",
         "name": "J Informatie en communicatie",
         "orientation": "v",
         "showlegend": true,
         "type": "scatter",
         "x": [
          375
         ],
         "xaxis": "x",
         "y": [
          3.9
         ],
         "yaxis": "y"
        },
        {
         "hovertemplate": "<b>%{hovertext}</b><br><br>Branche (SBI 2008)=S Overige dienstverlening<br>Employed Persons (2023, x1000)=%{marker.size}<br>Sick Leave Percentage 2022=%{y}<extra></extra>",
         "hovertext": [
          "S Overige dienstverlening"
         ],
         "legendgroup": "S Overige dienstverlening",
         "marker": {
          "color": "#EF553B",
          "size": [
           218
          ],
          "sizemode": "area",
          "sizeref": 0.4513888888888889,
          "symbol": "circle"
         },
         "mode": "markers",
         "name": "S Overige dienstverlening",
         "orientation": "v",
         "showlegend": true,
         "type": "scatter",
         "x": [
          218
         ],
         "xaxis": "x",
         "y": [
          5.4
         ],
         "yaxis": "y"
        },
        {
         "hovertemplate": "<b>%{hovertext}</b><br><br>Branche (SBI 2008)=R Cultuur, sport en recreatie<br>Employed Persons (2023, x1000)=%{marker.size}<br>Sick Leave Percentage 2022=%{y}<extra></extra>",
         "hovertext": [
          "R Cultuur, sport en recreatie"
         ],
         "legendgroup": "R Cultuur, sport en recreatie",
         "marker": {
          "color": "#00cc96",
          "size": [
           201
          ],
          "sizemode": "area",
          "sizeref": 0.4513888888888889,
          "symbol": "circle"
         },
         "mode": "markers",
         "name": "R Cultuur, sport en recreatie",
         "orientation": "v",
         "showlegend": true,
         "type": "scatter",
         "x": [
          201
         ],
         "xaxis": "x",
         "y": [
          5.2
         ],
         "yaxis": "y"
        },
        {
         "hovertemplate": "<b>%{hovertext}</b><br><br>Branche (SBI 2008)=A Landbouw, bosbouw en visserij<br>Employed Persons (2023, x1000)=%{marker.size}<br>Sick Leave Percentage 2022=%{y}<extra></extra>",
         "hovertext": [
          "A Landbouw, bosbouw en visserij"
         ],
         "legendgroup": "A Landbouw, bosbouw en visserij",
         "marker": {
          "color": "#ab63fa",
          "size": [
           197
          ],
          "sizemode": "area",
          "sizeref": 0.4513888888888889,
          "symbol": "circle"
         },
         "mode": "markers",
         "name": "A Landbouw, bosbouw en visserij",
         "orientation": "v",
         "showlegend": true,
         "type": "scatter",
         "x": [
          197
         ],
         "xaxis": "x",
         "y": [
          3.7
         ],
         "yaxis": "y"
        },
        {
         "hovertemplate": "<b>%{hovertext}</b><br><br>Branche (SBI 2008)=K Financiële dienstverlening<br>Employed Persons (2023, x1000)=%{marker.size}<br>Sick Leave Percentage 2022=%{y}<extra></extra>",
         "hovertext": [
          "K Financiële dienstverlening"
         ],
         "legendgroup": "K Financiële dienstverlening",
         "marker": {
          "color": "#FFA15A",
          "size": [
           217
          ],
          "sizemode": "area",
          "sizeref": 0.4513888888888889,
          "symbol": "circle"
         },
         "mode": "markers",
         "name": "K Financiële dienstverlening",
         "orientation": "v",
         "showlegend": true,
         "type": "scatter",
         "x": [
          217
         ],
         "xaxis": "x",
         "y": [
          3.2
         ],
         "yaxis": "y"
        },
        {
         "hovertemplate": "<b>%{hovertext}</b><br><br>Branche (SBI 2008)=L Verhuur en handel van onroerend goed<br>Employed Persons (2023, x1000)=%{marker.size}<br>Sick Leave Percentage 2022=%{y}<extra></extra>",
         "hovertext": [
          "L Verhuur en handel van onroerend goed"
         ],
         "legendgroup": "L Verhuur en handel van onroerend goed",
         "marker": {
          "color": "#19d3f3",
          "size": [
           81
          ],
          "sizemode": "area",
          "sizeref": 0.4513888888888889,
          "symbol": "circle"
         },
         "mode": "markers",
         "name": "L Verhuur en handel van onroerend goed",
         "orientation": "v",
         "showlegend": true,
         "type": "scatter",
         "x": [
          81
         ],
         "xaxis": "x",
         "y": [
          4.3
         ],
         "yaxis": "y"
        },
        {
         "hovertemplate": "<b>%{hovertext}</b><br><br>Branche (SBI 2008)=E Waterbedrijven en afvalbeheer<br>Employed Persons (2023, x1000)=%{marker.size}<br>Sick Leave Percentage 2022=%{y}<extra></extra>",
         "hovertext": [
          "E Waterbedrijven en afvalbeheer"
         ],
         "legendgroup": "E Waterbedrijven en afvalbeheer",
         "marker": {
          "color": "#FF6692",
          "size": [
           38
          ],
          "sizemode": "area",
          "sizeref": 0.4513888888888889,
          "symbol": "circle"
         },
         "mode": "markers",
         "name": "E Waterbedrijven en afvalbeheer",
         "orientation": "v",
         "showlegend": true,
         "type": "scatter",
         "x": [
          38
         ],
         "xaxis": "x",
         "y": [
          6.7
         ],
         "yaxis": "y"
        },
        {
         "hovertemplate": "<b>%{hovertext}</b><br><br>Branche (SBI 2008)=D Energievoorziening<br>Employed Persons (2023, x1000)=%{marker.size}<br>Sick Leave Percentage 2022=%{y}<extra></extra>",
         "hovertext": [
          "D Energievoorziening"
         ],
         "legendgroup": "D Energievoorziening",
         "marker": {
          "color": "#B6E880",
          "size": [
           36
          ],
          "sizemode": "area",
          "sizeref": 0.4513888888888889,
          "symbol": "circle"
         },
         "mode": "markers",
         "name": "D Energievoorziening",
         "orientation": "v",
         "showlegend": true,
         "type": "scatter",
         "x": [
          36
         ],
         "xaxis": "x",
         "y": [
          5
         ],
         "yaxis": "y"
        },
        {
         "hovertemplate": "<b>%{hovertext}</b><br><br>Branche (SBI 2008)=B Delfstoffenwinning<br>Employed Persons (2023, x1000)=%{marker.size}<br>Sick Leave Percentage 2022=%{y}<extra></extra>",
         "hovertext": [
          "B Delfstoffenwinning"
         ],
         "legendgroup": "B Delfstoffenwinning",
         "marker": {
          "color": "#FF97FF",
          "size": [
           8
          ],
          "sizemode": "area",
          "sizeref": 0.4513888888888889,
          "symbol": "circle"
         },
         "mode": "markers",
         "name": "B Delfstoffenwinning",
         "orientation": "v",
         "showlegend": true,
         "type": "scatter",
         "x": [
          8
         ],
         "xaxis": "x",
         "y": [
          4.7
         ],
         "yaxis": "y"
        }
       ],
       "layout": {
        "legend": {
         "itemsizing": "constant",
         "title": {
          "text": "Branche (SBI 2008)"
         },
         "tracegroupgap": 0
        },
        "plot_bgcolor": "rgba(0,0,0,0)",
        "showlegend": true,
        "template": {
         "data": {
          "bar": [
           {
            "error_x": {
             "color": "#2a3f5f"
            },
            "error_y": {
             "color": "#2a3f5f"
            },
            "marker": {
             "line": {
              "color": "#E5ECF6",
              "width": 0.5
             },
             "pattern": {
              "fillmode": "overlay",
              "size": 10,
              "solidity": 0.2
             }
            },
            "type": "bar"
           }
          ],
          "barpolar": [
           {
            "marker": {
             "line": {
              "color": "#E5ECF6",
              "width": 0.5
             },
             "pattern": {
              "fillmode": "overlay",
              "size": 10,
              "solidity": 0.2
             }
            },
            "type": "barpolar"
           }
          ],
          "carpet": [
           {
            "aaxis": {
             "endlinecolor": "#2a3f5f",
             "gridcolor": "white",
             "linecolor": "white",
             "minorgridcolor": "white",
             "startlinecolor": "#2a3f5f"
            },
            "baxis": {
             "endlinecolor": "#2a3f5f",
             "gridcolor": "white",
             "linecolor": "white",
             "minorgridcolor": "white",
             "startlinecolor": "#2a3f5f"
            },
            "type": "carpet"
           }
          ],
          "choropleth": [
           {
            "colorbar": {
             "outlinewidth": 0,
             "ticks": ""
            },
            "type": "choropleth"
           }
          ],
          "contour": [
           {
            "colorbar": {
             "outlinewidth": 0,
             "ticks": ""
            },
            "colorscale": [
             [
              0,
              "#0d0887"
             ],
             [
              0.1111111111111111,
              "#46039f"
             ],
             [
              0.2222222222222222,
              "#7201a8"
             ],
             [
              0.3333333333333333,
              "#9c179e"
             ],
             [
              0.4444444444444444,
              "#bd3786"
             ],
             [
              0.5555555555555556,
              "#d8576b"
             ],
             [
              0.6666666666666666,
              "#ed7953"
             ],
             [
              0.7777777777777778,
              "#fb9f3a"
             ],
             [
              0.8888888888888888,
              "#fdca26"
             ],
             [
              1,
              "#f0f921"
             ]
            ],
            "type": "contour"
           }
          ],
          "contourcarpet": [
           {
            "colorbar": {
             "outlinewidth": 0,
             "ticks": ""
            },
            "type": "contourcarpet"
           }
          ],
          "heatmap": [
           {
            "colorbar": {
             "outlinewidth": 0,
             "ticks": ""
            },
            "colorscale": [
             [
              0,
              "#0d0887"
             ],
             [
              0.1111111111111111,
              "#46039f"
             ],
             [
              0.2222222222222222,
              "#7201a8"
             ],
             [
              0.3333333333333333,
              "#9c179e"
             ],
             [
              0.4444444444444444,
              "#bd3786"
             ],
             [
              0.5555555555555556,
              "#d8576b"
             ],
             [
              0.6666666666666666,
              "#ed7953"
             ],
             [
              0.7777777777777778,
              "#fb9f3a"
             ],
             [
              0.8888888888888888,
              "#fdca26"
             ],
             [
              1,
              "#f0f921"
             ]
            ],
            "type": "heatmap"
           }
          ],
          "heatmapgl": [
           {
            "colorbar": {
             "outlinewidth": 0,
             "ticks": ""
            },
            "colorscale": [
             [
              0,
              "#0d0887"
             ],
             [
              0.1111111111111111,
              "#46039f"
             ],
             [
              0.2222222222222222,
              "#7201a8"
             ],
             [
              0.3333333333333333,
              "#9c179e"
             ],
             [
              0.4444444444444444,
              "#bd3786"
             ],
             [
              0.5555555555555556,
              "#d8576b"
             ],
             [
              0.6666666666666666,
              "#ed7953"
             ],
             [
              0.7777777777777778,
              "#fb9f3a"
             ],
             [
              0.8888888888888888,
              "#fdca26"
             ],
             [
              1,
              "#f0f921"
             ]
            ],
            "type": "heatmapgl"
           }
          ],
          "histogram": [
           {
            "marker": {
             "pattern": {
              "fillmode": "overlay",
              "size": 10,
              "solidity": 0.2
             }
            },
            "type": "histogram"
           }
          ],
          "histogram2d": [
           {
            "colorbar": {
             "outlinewidth": 0,
             "ticks": ""
            },
            "colorscale": [
             [
              0,
              "#0d0887"
             ],
             [
              0.1111111111111111,
              "#46039f"
             ],
             [
              0.2222222222222222,
              "#7201a8"
             ],
             [
              0.3333333333333333,
              "#9c179e"
             ],
             [
              0.4444444444444444,
              "#bd3786"
             ],
             [
              0.5555555555555556,
              "#d8576b"
             ],
             [
              0.6666666666666666,
              "#ed7953"
             ],
             [
              0.7777777777777778,
              "#fb9f3a"
             ],
             [
              0.8888888888888888,
              "#fdca26"
             ],
             [
              1,
              "#f0f921"
             ]
            ],
            "type": "histogram2d"
           }
          ],
          "histogram2dcontour": [
           {
            "colorbar": {
             "outlinewidth": 0,
             "ticks": ""
            },
            "colorscale": [
             [
              0,
              "#0d0887"
             ],
             [
              0.1111111111111111,
              "#46039f"
             ],
             [
              0.2222222222222222,
              "#7201a8"
             ],
             [
              0.3333333333333333,
              "#9c179e"
             ],
             [
              0.4444444444444444,
              "#bd3786"
             ],
             [
              0.5555555555555556,
              "#d8576b"
             ],
             [
              0.6666666666666666,
              "#ed7953"
             ],
             [
              0.7777777777777778,
              "#fb9f3a"
             ],
             [
              0.8888888888888888,
              "#fdca26"
             ],
             [
              1,
              "#f0f921"
             ]
            ],
            "type": "histogram2dcontour"
           }
          ],
          "mesh3d": [
           {
            "colorbar": {
             "outlinewidth": 0,
             "ticks": ""
            },
            "type": "mesh3d"
           }
          ],
          "parcoords": [
           {
            "line": {
             "colorbar": {
              "outlinewidth": 0,
              "ticks": ""
             }
            },
            "type": "parcoords"
           }
          ],
          "pie": [
           {
            "automargin": true,
            "type": "pie"
           }
          ],
          "scatter": [
           {
            "fillpattern": {
             "fillmode": "overlay",
             "size": 10,
             "solidity": 0.2
            },
            "type": "scatter"
           }
          ],
          "scatter3d": [
           {
            "line": {
             "colorbar": {
              "outlinewidth": 0,
              "ticks": ""
             }
            },
            "marker": {
             "colorbar": {
              "outlinewidth": 0,
              "ticks": ""
             }
            },
            "type": "scatter3d"
           }
          ],
          "scattercarpet": [
           {
            "marker": {
             "colorbar": {
              "outlinewidth": 0,
              "ticks": ""
             }
            },
            "type": "scattercarpet"
           }
          ],
          "scattergeo": [
           {
            "marker": {
             "colorbar": {
              "outlinewidth": 0,
              "ticks": ""
             }
            },
            "type": "scattergeo"
           }
          ],
          "scattergl": [
           {
            "marker": {
             "colorbar": {
              "outlinewidth": 0,
              "ticks": ""
             }
            },
            "type": "scattergl"
           }
          ],
          "scattermapbox": [
           {
            "marker": {
             "colorbar": {
              "outlinewidth": 0,
              "ticks": ""
             }
            },
            "type": "scattermapbox"
           }
          ],
          "scatterpolar": [
           {
            "marker": {
             "colorbar": {
              "outlinewidth": 0,
              "ticks": ""
             }
            },
            "type": "scatterpolar"
           }
          ],
          "scatterpolargl": [
           {
            "marker": {
             "colorbar": {
              "outlinewidth": 0,
              "ticks": ""
             }
            },
            "type": "scatterpolargl"
           }
          ],
          "scatterternary": [
           {
            "marker": {
             "colorbar": {
              "outlinewidth": 0,
              "ticks": ""
             }
            },
            "type": "scatterternary"
           }
          ],
          "surface": [
           {
            "colorbar": {
             "outlinewidth": 0,
             "ticks": ""
            },
            "colorscale": [
             [
              0,
              "#0d0887"
             ],
             [
              0.1111111111111111,
              "#46039f"
             ],
             [
              0.2222222222222222,
              "#7201a8"
             ],
             [
              0.3333333333333333,
              "#9c179e"
             ],
             [
              0.4444444444444444,
              "#bd3786"
             ],
             [
              0.5555555555555556,
              "#d8576b"
             ],
             [
              0.6666666666666666,
              "#ed7953"
             ],
             [
              0.7777777777777778,
              "#fb9f3a"
             ],
             [
              0.8888888888888888,
              "#fdca26"
             ],
             [
              1,
              "#f0f921"
             ]
            ],
            "type": "surface"
           }
          ],
          "table": [
           {
            "cells": {
             "fill": {
              "color": "#EBF0F8"
             },
             "line": {
              "color": "white"
             }
            },
            "header": {
             "fill": {
              "color": "#C8D4E3"
             },
             "line": {
              "color": "white"
             }
            },
            "type": "table"
           }
          ]
         },
         "layout": {
          "annotationdefaults": {
           "arrowcolor": "#2a3f5f",
           "arrowhead": 0,
           "arrowwidth": 1
          },
          "autotypenumbers": "strict",
          "coloraxis": {
           "colorbar": {
            "outlinewidth": 0,
            "ticks": ""
           }
          },
          "colorscale": {
           "diverging": [
            [
             0,
             "#8e0152"
            ],
            [
             0.1,
             "#c51b7d"
            ],
            [
             0.2,
             "#de77ae"
            ],
            [
             0.3,
             "#f1b6da"
            ],
            [
             0.4,
             "#fde0ef"
            ],
            [
             0.5,
             "#f7f7f7"
            ],
            [
             0.6,
             "#e6f5d0"
            ],
            [
             0.7,
             "#b8e186"
            ],
            [
             0.8,
             "#7fbc41"
            ],
            [
             0.9,
             "#4d9221"
            ],
            [
             1,
             "#276419"
            ]
           ],
           "sequential": [
            [
             0,
             "#0d0887"
            ],
            [
             0.1111111111111111,
             "#46039f"
            ],
            [
             0.2222222222222222,
             "#7201a8"
            ],
            [
             0.3333333333333333,
             "#9c179e"
            ],
            [
             0.4444444444444444,
             "#bd3786"
            ],
            [
             0.5555555555555556,
             "#d8576b"
            ],
            [
             0.6666666666666666,
             "#ed7953"
            ],
            [
             0.7777777777777778,
             "#fb9f3a"
            ],
            [
             0.8888888888888888,
             "#fdca26"
            ],
            [
             1,
             "#f0f921"
            ]
           ],
           "sequentialminus": [
            [
             0,
             "#0d0887"
            ],
            [
             0.1111111111111111,
             "#46039f"
            ],
            [
             0.2222222222222222,
             "#7201a8"
            ],
            [
             0.3333333333333333,
             "#9c179e"
            ],
            [
             0.4444444444444444,
             "#bd3786"
            ],
            [
             0.5555555555555556,
             "#d8576b"
            ],
            [
             0.6666666666666666,
             "#ed7953"
            ],
            [
             0.7777777777777778,
             "#fb9f3a"
            ],
            [
             0.8888888888888888,
             "#fdca26"
            ],
            [
             1,
             "#f0f921"
            ]
           ]
          },
          "colorway": [
           "#636efa",
           "#EF553B",
           "#00cc96",
           "#ab63fa",
           "#FFA15A",
           "#19d3f3",
           "#FF6692",
           "#B6E880",
           "#FF97FF",
           "#FECB52"
          ],
          "font": {
           "color": "#2a3f5f"
          },
          "geo": {
           "bgcolor": "white",
           "lakecolor": "white",
           "landcolor": "#E5ECF6",
           "showlakes": true,
           "showland": true,
           "subunitcolor": "white"
          },
          "hoverlabel": {
           "align": "left"
          },
          "hovermode": "closest",
          "mapbox": {
           "style": "light"
          },
          "paper_bgcolor": "white",
          "plot_bgcolor": "#E5ECF6",
          "polar": {
           "angularaxis": {
            "gridcolor": "white",
            "linecolor": "white",
            "ticks": ""
           },
           "bgcolor": "#E5ECF6",
           "radialaxis": {
            "gridcolor": "white",
            "linecolor": "white",
            "ticks": ""
           }
          },
          "scene": {
           "xaxis": {
            "backgroundcolor": "#E5ECF6",
            "gridcolor": "white",
            "gridwidth": 2,
            "linecolor": "white",
            "showbackground": true,
            "ticks": "",
            "zerolinecolor": "white"
           },
           "yaxis": {
            "backgroundcolor": "#E5ECF6",
            "gridcolor": "white",
            "gridwidth": 2,
            "linecolor": "white",
            "showbackground": true,
            "ticks": "",
            "zerolinecolor": "white"
           },
           "zaxis": {
            "backgroundcolor": "#E5ECF6",
            "gridcolor": "white",
            "gridwidth": 2,
            "linecolor": "white",
            "showbackground": true,
            "ticks": "",
            "zerolinecolor": "white"
           }
          },
          "shapedefaults": {
           "line": {
            "color": "#2a3f5f"
           }
          },
          "ternary": {
           "aaxis": {
            "gridcolor": "white",
            "linecolor": "white",
            "ticks": ""
           },
           "baxis": {
            "gridcolor": "white",
            "linecolor": "white",
            "ticks": ""
           },
           "bgcolor": "#E5ECF6",
           "caxis": {
            "gridcolor": "white",
            "linecolor": "white",
            "ticks": ""
           }
          },
          "title": {
           "x": 0.05
          },
          "xaxis": {
           "automargin": true,
           "gridcolor": "white",
           "linecolor": "white",
           "ticks": "",
           "title": {
            "standoff": 15
           },
           "zerolinecolor": "white",
           "zerolinewidth": 2
          },
          "yaxis": {
           "automargin": true,
           "gridcolor": "white",
           "linecolor": "white",
           "ticks": "",
           "title": {
            "standoff": 15
           },
           "zerolinecolor": "white",
           "zerolinewidth": 2
          }
         }
        },
        "title": {
         "text": "Bubble Plot: Sick Leave Percentage vs Employed Persons"
        },
        "xaxis": {
         "anchor": "y",
         "domain": [
          0,
          1
         ],
         "linecolor": "black",
         "linewidth": 1,
         "showgrid": false,
         "showline": true,
         "title": {
          "text": "Employed Persons (2023, x1000)"
         }
        },
        "yaxis": {
         "anchor": "x",
         "domain": [
          0,
          1
         ],
         "linecolor": "black",
         "linewidth": 1,
         "showgrid": false,
         "showline": true,
         "title": {
          "text": "Sick Leave Percentage 2022"
         }
        }
       }
      }
     },
     "metadata": {},
     "output_type": "display_data"
    }
   ],
   "source": [
    "# Import necessary libraries\n",
    "import pandas as pd\n",
    "import plotly.express as px\n",
    "\n",
    "# Load the data from the provided Excel file\n",
    "data = pd.read_excel(\"Sick leave x Employed persons.xlsx\")\n",
    "\n",
    "# Display the first few rows of the dataframe to understand the structure\n",
    "display(data.head())\n",
    "\n",
    "# Bubble Plot using Plotly\n",
    "fig = px.scatter(data, \n",
    "                 x='Employed persons 2023 (x1000)', \n",
    "                 y='Sick leave percentage 2022', \n",
    "                 size='Employed persons 2023 (x1000)', \n",
    "                 color='Branche (SBI 2008)', \n",
    "                 hover_name='Branche (SBI 2008)',\n",
    "                 title='Bubble Plot: Sick Leave Percentage vs Employed Persons',\n",
    "                 labels={'Employed persons 2023 (x1000)': 'Employed Persons (2023, x1000)', \n",
    "                         'Sick leave percentage 2022': 'Sick Leave Percentage 2022'},\n",
    "                 size_max=60)  # Adjust size_max to control bubble size scaling\n",
    "\n",
    "# Customize the layout to remove the upper and right gridlines\n",
    "fig.update_layout(showlegend=True,\n",
    "                  xaxis=dict(showline=True, linewidth=1, linecolor='black', showgrid=False),\n",
    "                  yaxis=dict(showline=True, linewidth=1, linecolor='black', showgrid=False),\n",
    "                  plot_bgcolor='rgba(0,0,0,0)')  # Transparent background\n",
    "\n",
    "# Show the plot\n",
    "fig.show()\n"
   ]
  }
 ],
 "metadata": {
  "kernelspec": {
   "display_name": ".venv",
   "language": "python",
   "name": "python3"
  },
  "language_info": {
   "codemirror_mode": {
    "name": "ipython",
    "version": 3
   },
   "file_extension": ".py",
   "mimetype": "text/x-python",
   "name": "python",
   "nbconvert_exporter": "python",
   "pygments_lexer": "ipython3",
   "version": "3.12.3"
  }
 },
 "nbformat": 4,
 "nbformat_minor": 2
}
