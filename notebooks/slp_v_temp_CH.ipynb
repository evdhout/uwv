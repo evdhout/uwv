{
 "cells": [
  {
   "cell_type": "code",
   "execution_count": 1,
   "metadata": {},
   "outputs": [
    {
     "name": "stderr",
     "output_type": "stream",
     "text": [
      "\u001b[32m2024-12-13 15:33:53.245\u001b[0m | \u001b[1mINFO    \u001b[0m | \u001b[36muwv.config\u001b[0m:\u001b[36m<module>\u001b[0m:\u001b[36m11\u001b[0m - \u001b[1mPROJ_ROOT path is: C:\\Users\\c.hakker\\OneDrive - VISTA college\\Senior Stuff\\Opleiding Data science\\uwv\u001b[0m\n"
     ]
    },
    {
     "name": "stdout",
     "output_type": "stream",
     "text": [
      "   id      sbi    period  sick_leave_percentage      period_title period_status  period_year period_type  period_quarter_number  period_quarter                          sbi_title  category_group_id category_group_title  covid    avg_temp  slpx20  quarter\n",
      "0   0  T001081  1996KW01                    5.5  1996 1e kwartaal    Definitief         1996          KW                      1           19961  A-U Alle economische activiteiten                  1               Totaal  False   12.333333   110.0        1\n",
      "1   1  T001081  1996KW02                    4.6  1996 2e kwartaal    Definitief         1996          KW                      2           19962  A-U Alle economische activiteiten                  1               Totaal  False  119.333333    92.0        2\n",
      "2   2  T001081  1996KW03                    4.0  1996 3e kwartaal    Definitief         1996          KW                      3           19963  A-U Alle economische activiteiten                  1               Totaal  False  153.666667    80.0        3\n",
      "3   3  T001081  1996KW04                    4.7  1996 4e kwartaal    Definitief         1996          KW                      4           19964  A-U Alle economische activiteiten                  1               Totaal  False   57.666667    94.0        4\n",
      "4   5  T001081  1997KW01                    4.9  1997 1e kwartaal    Definitief         1997          KW                      1           19971  A-U Alle economische activiteiten                  1               Totaal  False   43.333333    98.0        1\n"
     ]
    }
   ],
   "source": [
    "import pandas as pd\n",
    "from uwv.config import KNMI_PROCESSED_DATA_DIR, KNMI_AVG_TEMP, CBS_OPENDATA_PROCESSED_DATA_DIR, CBS80072NED\n",
    "import plotly.graph_objects as go\n",
    "\n",
    "# Set display options\n",
    "pd.set_option('display.max_columns', None)  # Show all columns\n",
    "pd.set_option('display.width', 1000)  # Set the width of the display\n",
    "\n",
    "# Load your data\n",
    "slp = pd.read_parquet(CBS_OPENDATA_PROCESSED_DATA_DIR / f\"{CBS80072NED}.parquet\")\n",
    "knmi = pd.read_parquet(KNMI_PROCESSED_DATA_DIR / f\"{KNMI_AVG_TEMP}.parquet\")\n",
    "\n",
    "# Merge data\n",
    "sk = pd.merge(slp, knmi, on=['period_year', 'period_quarter_number'], how=\"inner\")\n",
    "\n",
    "# Create new columns\n",
    "sk[\"slpx20\"] = sk.sick_leave_percentage * 20\n",
    "sk[\"quarter\"] = sk.period_quarter_number\n",
    "\n",
    "# Display the first few rows of the dataframe\n",
    "print(sk.head())\n"
   ]
  },
  {
   "cell_type": "code",
   "execution_count": 2,
   "metadata": {},
   "outputs": [
    {
     "name": "stderr",
     "output_type": "stream",
     "text": [
      "C:\\Users\\c.hakker\\AppData\\Local\\Temp\\ipykernel_14524\\813991080.py:5: SettingWithCopyWarning: \n",
      "A value is trying to be set on a copy of a slice from a DataFrame.\n",
      "Try using .loc[row_indexer,col_indexer] = value instead\n",
      "\n",
      "See the caveats in the documentation: https://pandas.pydata.org/pandas-docs/stable/user_guide/indexing.html#returning-a-view-versus-a-copy\n",
      "  filtered_sk['avg_temp'] = filtered_sk['avg_temp'] / 10\n"
     ]
    },
    {
     "name": "stdout",
     "output_type": "stream",
     "text": [
      "Plot saved as PNG and HTML!\n"
     ]
    },
    {
     "data": {
      "application/vnd.plotly.v1+json": {
       "config": {
        "plotlyServerURL": "https://plot.ly"
       },
       "data": [
        {
         "line": {
          "color": "#0078d2"
         },
         "mode": "lines",
         "name": "CBS Sick Leave Percentage",
         "type": "scatter",
         "x": [
          "2008KW01",
          "2008KW02",
          "2008KW03",
          "2008KW04",
          "2009KW01",
          "2009KW02",
          "2009KW03",
          "2009KW04",
          "2010KW01",
          "2010KW02",
          "2010KW03",
          "2010KW04",
          "2011KW01",
          "2011KW02",
          "2011KW03",
          "2011KW04",
          "2012KW01",
          "2012KW02",
          "2012KW03",
          "2012KW04",
          "2013KW01",
          "2013KW02",
          "2013KW03",
          "2013KW04",
          "2014KW01",
          "2014KW02",
          "2014KW03",
          "2014KW04",
          "2015KW01",
          "2015KW02",
          "2015KW03",
          "2015KW04",
          "2016KW01",
          "2016KW02",
          "2016KW03",
          "2016KW04",
          "2017KW01",
          "2017KW02",
          "2017KW03",
          "2017KW04",
          "2018KW01",
          "2018KW02",
          "2018KW03",
          "2018KW04",
          "2019KW01",
          "2019KW02",
          "2019KW03",
          "2019KW04",
          "2020KW01",
          "2020KW02",
          "2020KW03",
          "2020KW04",
          "2021KW01",
          "2021KW02",
          "2021KW03",
          "2021KW04",
          "2022KW01",
          "2022KW02",
          "2022KW03",
          "2022KW04",
          "2023KW01",
          "2023KW02",
          "2023KW03",
          "2023KW04",
          "2024KW01",
          "2024KW02"
         ],
         "y": [
          4.6,
          4,
          3.7,
          4.2,
          4.5,
          3.8,
          3.7,
          4.4,
          4.4,
          4,
          3.9,
          4.4,
          4.6,
          4.1,
          3.8,
          4.2,
          4.4,
          3.9,
          3.6,
          4.1,
          4.5,
          3.8,
          3.5,
          3.9,
          4,
          3.7,
          3.5,
          4,
          4.4,
          3.7,
          3.5,
          3.9,
          4.3,
          3.8,
          3.5,
          4.1,
          4.3,
          3.9,
          3.7,
          4.2,
          4.9,
          4.1,
          3.9,
          4.3,
          4.7,
          4.3,
          4,
          4.5,
          5.2,
          4.5,
          4.4,
          4.9,
          4.8,
          4.7,
          4.6,
          5.4,
          6.3,
          5.4,
          5,
          5.6,
          5.7,
          5,
          4.8,
          5.5,
          5.5,
          5.1
         ],
         "yaxis": "y"
        },
        {
         "line": {
          "color": "#ff6b08"
         },
         "mode": "lines",
         "name": "KNMI Average Temperature",
         "type": "scatter",
         "x": [
          "2008KW01",
          "2008KW02",
          "2008KW03",
          "2008KW04",
          "2009KW01",
          "2009KW02",
          "2009KW03",
          "2009KW04",
          "2010KW01",
          "2010KW02",
          "2010KW03",
          "2010KW04",
          "2011KW01",
          "2011KW02",
          "2011KW03",
          "2011KW04",
          "2012KW01",
          "2012KW02",
          "2012KW03",
          "2012KW04",
          "2013KW01",
          "2013KW02",
          "2013KW03",
          "2013KW04",
          "2014KW01",
          "2014KW02",
          "2014KW03",
          "2014KW04",
          "2015KW01",
          "2015KW02",
          "2015KW03",
          "2015KW04",
          "2016KW01",
          "2016KW02",
          "2016KW03",
          "2016KW04",
          "2017KW01",
          "2017KW02",
          "2017KW03",
          "2017KW04",
          "2018KW01",
          "2018KW02",
          "2018KW03",
          "2018KW04",
          "2019KW01",
          "2019KW02",
          "2019KW03",
          "2019KW04",
          "2020KW01",
          "2020KW02",
          "2020KW03",
          "2020KW04",
          "2021KW01",
          "2021KW02",
          "2021KW03",
          "2021KW04",
          "2022KW01",
          "2022KW02",
          "2022KW03",
          "2022KW04",
          "2023KW01",
          "2023KW02",
          "2023KW03",
          "2023KW04",
          "2024KW01",
          "2024KW02"
         ],
         "y": [
          5.833333333333334,
          13.7,
          16.366666666666667,
          6.466666666666667,
          3.4666666666666663,
          13.9,
          17.2,
          7.466666666666667,
          2.5,
          12.2,
          16.766666666666666,
          5.033333333333333,
          4.7,
          14.4,
          16.133333333333333,
          8.366666666666667,
          4.666666666666666,
          12.6,
          16.666666666666664,
          7.433333333333333,
          2.066666666666667,
          11.633333333333333,
          17.233333333333334,
          8.266666666666667,
          6.866666666666667,
          13.833333333333334,
          17.266666666666666,
          8.8,
          4.566666666666666,
          12.333333333333332,
          16.766666666666666,
          9.8,
          4.933333333333334,
          13.333333333333334,
          17.866666666666667,
          6.666666666666667,
          5.1,
          13.866666666666665,
          16.266666666666666,
          8.5,
          3.6666666666666665,
          15.366666666666665,
          17.966666666666665,
          8.266666666666667,
          5.866666666666666,
          13.566666666666666,
          17.233333333333334,
          7.933333333333333,
          6.7333333333333325,
          13.9,
          17.533333333333335,
          8.566666666666666,
          4.7,
          12.033333333333333,
          16.933333333333334,
          8.133333333333333,
          6.466666666666667,
          13.466666666666665,
          17.733333333333334,
          8.533333333333333,
          6.166666666666666,
          13.866666666666665,
          17.733333333333334,
          9.3,
          7.033333333333333,
          14.033333333333335
         ],
         "yaxis": "y2"
        }
       ],
       "layout": {
        "font": {
         "family": "Roboto",
         "size": 14
        },
        "legend": {
         "font": {
          "family": "Roboto",
          "size": 12
         },
         "x": 1.1,
         "xanchor": "right",
         "y": 1.4
        },
        "plot_bgcolor": "white",
        "template": {
         "data": {
          "bar": [
           {
            "error_x": {
             "color": "#2a3f5f"
            },
            "error_y": {
             "color": "#2a3f5f"
            },
            "marker": {
             "line": {
              "color": "#E5ECF6",
              "width": 0.5
             },
             "pattern": {
              "fillmode": "overlay",
              "size": 10,
              "solidity": 0.2
             }
            },
            "type": "bar"
           }
          ],
          "barpolar": [
           {
            "marker": {
             "line": {
              "color": "#E5ECF6",
              "width": 0.5
             },
             "pattern": {
              "fillmode": "overlay",
              "size": 10,
              "solidity": 0.2
             }
            },
            "type": "barpolar"
           }
          ],
          "carpet": [
           {
            "aaxis": {
             "endlinecolor": "#2a3f5f",
             "gridcolor": "white",
             "linecolor": "white",
             "minorgridcolor": "white",
             "startlinecolor": "#2a3f5f"
            },
            "baxis": {
             "endlinecolor": "#2a3f5f",
             "gridcolor": "white",
             "linecolor": "white",
             "minorgridcolor": "white",
             "startlinecolor": "#2a3f5f"
            },
            "type": "carpet"
           }
          ],
          "choropleth": [
           {
            "colorbar": {
             "outlinewidth": 0,
             "ticks": ""
            },
            "type": "choropleth"
           }
          ],
          "contour": [
           {
            "colorbar": {
             "outlinewidth": 0,
             "ticks": ""
            },
            "colorscale": [
             [
              0,
              "#0d0887"
             ],
             [
              0.1111111111111111,
              "#46039f"
             ],
             [
              0.2222222222222222,
              "#7201a8"
             ],
             [
              0.3333333333333333,
              "#9c179e"
             ],
             [
              0.4444444444444444,
              "#bd3786"
             ],
             [
              0.5555555555555556,
              "#d8576b"
             ],
             [
              0.6666666666666666,
              "#ed7953"
             ],
             [
              0.7777777777777778,
              "#fb9f3a"
             ],
             [
              0.8888888888888888,
              "#fdca26"
             ],
             [
              1,
              "#f0f921"
             ]
            ],
            "type": "contour"
           }
          ],
          "contourcarpet": [
           {
            "colorbar": {
             "outlinewidth": 0,
             "ticks": ""
            },
            "type": "contourcarpet"
           }
          ],
          "heatmap": [
           {
            "colorbar": {
             "outlinewidth": 0,
             "ticks": ""
            },
            "colorscale": [
             [
              0,
              "#0d0887"
             ],
             [
              0.1111111111111111,
              "#46039f"
             ],
             [
              0.2222222222222222,
              "#7201a8"
             ],
             [
              0.3333333333333333,
              "#9c179e"
             ],
             [
              0.4444444444444444,
              "#bd3786"
             ],
             [
              0.5555555555555556,
              "#d8576b"
             ],
             [
              0.6666666666666666,
              "#ed7953"
             ],
             [
              0.7777777777777778,
              "#fb9f3a"
             ],
             [
              0.8888888888888888,
              "#fdca26"
             ],
             [
              1,
              "#f0f921"
             ]
            ],
            "type": "heatmap"
           }
          ],
          "heatmapgl": [
           {
            "colorbar": {
             "outlinewidth": 0,
             "ticks": ""
            },
            "colorscale": [
             [
              0,
              "#0d0887"
             ],
             [
              0.1111111111111111,
              "#46039f"
             ],
             [
              0.2222222222222222,
              "#7201a8"
             ],
             [
              0.3333333333333333,
              "#9c179e"
             ],
             [
              0.4444444444444444,
              "#bd3786"
             ],
             [
              0.5555555555555556,
              "#d8576b"
             ],
             [
              0.6666666666666666,
              "#ed7953"
             ],
             [
              0.7777777777777778,
              "#fb9f3a"
             ],
             [
              0.8888888888888888,
              "#fdca26"
             ],
             [
              1,
              "#f0f921"
             ]
            ],
            "type": "heatmapgl"
           }
          ],
          "histogram": [
           {
            "marker": {
             "pattern": {
              "fillmode": "overlay",
              "size": 10,
              "solidity": 0.2
             }
            },
            "type": "histogram"
           }
          ],
          "histogram2d": [
           {
            "colorbar": {
             "outlinewidth": 0,
             "ticks": ""
            },
            "colorscale": [
             [
              0,
              "#0d0887"
             ],
             [
              0.1111111111111111,
              "#46039f"
             ],
             [
              0.2222222222222222,
              "#7201a8"
             ],
             [
              0.3333333333333333,
              "#9c179e"
             ],
             [
              0.4444444444444444,
              "#bd3786"
             ],
             [
              0.5555555555555556,
              "#d8576b"
             ],
             [
              0.6666666666666666,
              "#ed7953"
             ],
             [
              0.7777777777777778,
              "#fb9f3a"
             ],
             [
              0.8888888888888888,
              "#fdca26"
             ],
             [
              1,
              "#f0f921"
             ]
            ],
            "type": "histogram2d"
           }
          ],
          "histogram2dcontour": [
           {
            "colorbar": {
             "outlinewidth": 0,
             "ticks": ""
            },
            "colorscale": [
             [
              0,
              "#0d0887"
             ],
             [
              0.1111111111111111,
              "#46039f"
             ],
             [
              0.2222222222222222,
              "#7201a8"
             ],
             [
              0.3333333333333333,
              "#9c179e"
             ],
             [
              0.4444444444444444,
              "#bd3786"
             ],
             [
              0.5555555555555556,
              "#d8576b"
             ],
             [
              0.6666666666666666,
              "#ed7953"
             ],
             [
              0.7777777777777778,
              "#fb9f3a"
             ],
             [
              0.8888888888888888,
              "#fdca26"
             ],
             [
              1,
              "#f0f921"
             ]
            ],
            "type": "histogram2dcontour"
           }
          ],
          "mesh3d": [
           {
            "colorbar": {
             "outlinewidth": 0,
             "ticks": ""
            },
            "type": "mesh3d"
           }
          ],
          "parcoords": [
           {
            "line": {
             "colorbar": {
              "outlinewidth": 0,
              "ticks": ""
             }
            },
            "type": "parcoords"
           }
          ],
          "pie": [
           {
            "automargin": true,
            "type": "pie"
           }
          ],
          "scatter": [
           {
            "fillpattern": {
             "fillmode": "overlay",
             "size": 10,
             "solidity": 0.2
            },
            "type": "scatter"
           }
          ],
          "scatter3d": [
           {
            "line": {
             "colorbar": {
              "outlinewidth": 0,
              "ticks": ""
             }
            },
            "marker": {
             "colorbar": {
              "outlinewidth": 0,
              "ticks": ""
             }
            },
            "type": "scatter3d"
           }
          ],
          "scattercarpet": [
           {
            "marker": {
             "colorbar": {
              "outlinewidth": 0,
              "ticks": ""
             }
            },
            "type": "scattercarpet"
           }
          ],
          "scattergeo": [
           {
            "marker": {
             "colorbar": {
              "outlinewidth": 0,
              "ticks": ""
             }
            },
            "type": "scattergeo"
           }
          ],
          "scattergl": [
           {
            "marker": {
             "colorbar": {
              "outlinewidth": 0,
              "ticks": ""
             }
            },
            "type": "scattergl"
           }
          ],
          "scattermapbox": [
           {
            "marker": {
             "colorbar": {
              "outlinewidth": 0,
              "ticks": ""
             }
            },
            "type": "scattermapbox"
           }
          ],
          "scatterpolar": [
           {
            "marker": {
             "colorbar": {
              "outlinewidth": 0,
              "ticks": ""
             }
            },
            "type": "scatterpolar"
           }
          ],
          "scatterpolargl": [
           {
            "marker": {
             "colorbar": {
              "outlinewidth": 0,
              "ticks": ""
             }
            },
            "type": "scatterpolargl"
           }
          ],
          "scatterternary": [
           {
            "marker": {
             "colorbar": {
              "outlinewidth": 0,
              "ticks": ""
             }
            },
            "type": "scatterternary"
           }
          ],
          "surface": [
           {
            "colorbar": {
             "outlinewidth": 0,
             "ticks": ""
            },
            "colorscale": [
             [
              0,
              "#0d0887"
             ],
             [
              0.1111111111111111,
              "#46039f"
             ],
             [
              0.2222222222222222,
              "#7201a8"
             ],
             [
              0.3333333333333333,
              "#9c179e"
             ],
             [
              0.4444444444444444,
              "#bd3786"
             ],
             [
              0.5555555555555556,
              "#d8576b"
             ],
             [
              0.6666666666666666,
              "#ed7953"
             ],
             [
              0.7777777777777778,
              "#fb9f3a"
             ],
             [
              0.8888888888888888,
              "#fdca26"
             ],
             [
              1,
              "#f0f921"
             ]
            ],
            "type": "surface"
           }
          ],
          "table": [
           {
            "cells": {
             "fill": {
              "color": "#EBF0F8"
             },
             "line": {
              "color": "white"
             }
            },
            "header": {
             "fill": {
              "color": "#C8D4E3"
             },
             "line": {
              "color": "white"
             }
            },
            "type": "table"
           }
          ]
         },
         "layout": {
          "annotationdefaults": {
           "arrowcolor": "#2a3f5f",
           "arrowhead": 0,
           "arrowwidth": 1
          },
          "autotypenumbers": "strict",
          "coloraxis": {
           "colorbar": {
            "outlinewidth": 0,
            "ticks": ""
           }
          },
          "colorscale": {
           "diverging": [
            [
             0,
             "#8e0152"
            ],
            [
             0.1,
             "#c51b7d"
            ],
            [
             0.2,
             "#de77ae"
            ],
            [
             0.3,
             "#f1b6da"
            ],
            [
             0.4,
             "#fde0ef"
            ],
            [
             0.5,
             "#f7f7f7"
            ],
            [
             0.6,
             "#e6f5d0"
            ],
            [
             0.7,
             "#b8e186"
            ],
            [
             0.8,
             "#7fbc41"
            ],
            [
             0.9,
             "#4d9221"
            ],
            [
             1,
             "#276419"
            ]
           ],
           "sequential": [
            [
             0,
             "#0d0887"
            ],
            [
             0.1111111111111111,
             "#46039f"
            ],
            [
             0.2222222222222222,
             "#7201a8"
            ],
            [
             0.3333333333333333,
             "#9c179e"
            ],
            [
             0.4444444444444444,
             "#bd3786"
            ],
            [
             0.5555555555555556,
             "#d8576b"
            ],
            [
             0.6666666666666666,
             "#ed7953"
            ],
            [
             0.7777777777777778,
             "#fb9f3a"
            ],
            [
             0.8888888888888888,
             "#fdca26"
            ],
            [
             1,
             "#f0f921"
            ]
           ],
           "sequentialminus": [
            [
             0,
             "#0d0887"
            ],
            [
             0.1111111111111111,
             "#46039f"
            ],
            [
             0.2222222222222222,
             "#7201a8"
            ],
            [
             0.3333333333333333,
             "#9c179e"
            ],
            [
             0.4444444444444444,
             "#bd3786"
            ],
            [
             0.5555555555555556,
             "#d8576b"
            ],
            [
             0.6666666666666666,
             "#ed7953"
            ],
            [
             0.7777777777777778,
             "#fb9f3a"
            ],
            [
             0.8888888888888888,
             "#fdca26"
            ],
            [
             1,
             "#f0f921"
            ]
           ]
          },
          "colorway": [
           "#636efa",
           "#EF553B",
           "#00cc96",
           "#ab63fa",
           "#FFA15A",
           "#19d3f3",
           "#FF6692",
           "#B6E880",
           "#FF97FF",
           "#FECB52"
          ],
          "font": {
           "color": "#2a3f5f"
          },
          "geo": {
           "bgcolor": "white",
           "lakecolor": "white",
           "landcolor": "#E5ECF6",
           "showlakes": true,
           "showland": true,
           "subunitcolor": "white"
          },
          "hoverlabel": {
           "align": "left"
          },
          "hovermode": "closest",
          "mapbox": {
           "style": "light"
          },
          "paper_bgcolor": "white",
          "plot_bgcolor": "#E5ECF6",
          "polar": {
           "angularaxis": {
            "gridcolor": "white",
            "linecolor": "white",
            "ticks": ""
           },
           "bgcolor": "#E5ECF6",
           "radialaxis": {
            "gridcolor": "white",
            "linecolor": "white",
            "ticks": ""
           }
          },
          "scene": {
           "xaxis": {
            "backgroundcolor": "#E5ECF6",
            "gridcolor": "white",
            "gridwidth": 2,
            "linecolor": "white",
            "showbackground": true,
            "ticks": "",
            "zerolinecolor": "white"
           },
           "yaxis": {
            "backgroundcolor": "#E5ECF6",
            "gridcolor": "white",
            "gridwidth": 2,
            "linecolor": "white",
            "showbackground": true,
            "ticks": "",
            "zerolinecolor": "white"
           },
           "zaxis": {
            "backgroundcolor": "#E5ECF6",
            "gridcolor": "white",
            "gridwidth": 2,
            "linecolor": "white",
            "showbackground": true,
            "ticks": "",
            "zerolinecolor": "white"
           }
          },
          "shapedefaults": {
           "line": {
            "color": "#2a3f5f"
           }
          },
          "ternary": {
           "aaxis": {
            "gridcolor": "white",
            "linecolor": "white",
            "ticks": ""
           },
           "baxis": {
            "gridcolor": "white",
            "linecolor": "white",
            "ticks": ""
           },
           "bgcolor": "#E5ECF6",
           "caxis": {
            "gridcolor": "white",
            "linecolor": "white",
            "ticks": ""
           }
          },
          "title": {
           "x": 0.05
          },
          "xaxis": {
           "automargin": true,
           "gridcolor": "white",
           "linecolor": "white",
           "ticks": "",
           "title": {
            "standoff": 15
           },
           "zerolinecolor": "white",
           "zerolinewidth": 2
          },
          "yaxis": {
           "automargin": true,
           "gridcolor": "white",
           "linecolor": "white",
           "ticks": "",
           "title": {
            "standoff": 15
           },
           "zerolinecolor": "white",
           "zerolinewidth": 2
          }
         }
        },
        "title": {
         "text": "Weathering the Sick Days: How Temperature Affects Absenteeism"
        },
        "xaxis": {
         "gridcolor": "lightgrey",
         "showgrid": false,
         "title": {
          "text": "Period"
         }
        },
        "yaxis": {
         "gridcolor": "lightgrey",
         "range": [
          0,
          8
         ],
         "showgrid": true,
         "tickfont": {
          "color": "#0078d2"
         },
         "title": {
          "font": {
           "color": "#0078d2"
          },
          "text": "Sick Leave Percentage"
         }
        },
        "yaxis2": {
         "anchor": "x",
         "gridcolor": "lightgrey",
         "overlaying": "y",
         "range": [
          0,
          20
         ],
         "showgrid": true,
         "side": "right",
         "tickfont": {
          "color": "#ff6b08"
         },
         "title": {
          "font": {
           "color": "#ff6b08"
          },
          "text": "Average Temperature Celcius"
         }
        }
       }
      }
     },
     "metadata": {},
     "output_type": "display_data"
    }
   ],
   "source": [
    "# Filter data for years 2008 and later, and for \"A-U Alle economische activiteiten\"\n",
    "filtered_sk = sk[(sk['period_year'] >= 2008) & (sk['sbi_title'] == 'A-U Alle economische activiteiten')]\n",
    "\n",
    "# Adjust avg_temp by dividing by 10\n",
    "filtered_sk['avg_temp'] = filtered_sk['avg_temp'] / 10\n",
    "\n",
    "# Calculate dynamic range for sick_leave_percentage\n",
    "min_sick_leave = filtered_sk['sick_leave_percentage'].min() - 0.005  # Add buffer for lower range\n",
    "max_sick_leave = filtered_sk['sick_leave_percentage'].max() + 0.005  # Add buffer for upper range\n",
    "\n",
    "# Create the figure\n",
    "fig = go.Figure()\n",
    "\n",
    "# Add the sick_leave_percentage to the left y-axis\n",
    "fig.add_trace(\n",
    "    go.Scatter(\n",
    "        x=filtered_sk['period'], \n",
    "        y=filtered_sk['sick_leave_percentage'],\n",
    "        mode='lines', \n",
    "        name='CBS Sick Leave Percentage', \n",
    "        line=dict(color='#0078d2'),\n",
    "        yaxis='y1'\n",
    "    )\n",
    ")\n",
    "\n",
    "# Add the avg_temp to the right y-axis\n",
    "fig.add_trace(\n",
    "    go.Scatter(\n",
    "        x=filtered_sk['period'], \n",
    "        y=filtered_sk['avg_temp'], \n",
    "        mode='lines', \n",
    "        name='KNMI Average Temperature', \n",
    "        line=dict(color='#ff6b08'),\n",
    "        yaxis='y2'\n",
    "    )\n",
    ")\n",
    "\n",
    "# Update the layout for two y-axes with customized settings\n",
    "fig.update_layout(\n",
    "    title='Weathering the Sick Days: How Temperature Affects Absenteeism',\n",
    "    xaxis=dict(\n",
    "        title='Period',\n",
    "        showgrid=False,  # Enable gridlines\n",
    "        gridcolor='lightgrey',  # Grey vertical gridlines\n",
    "    ),\n",
    "    yaxis=dict(\n",
    "        title='Sick Leave Percentage',\n",
    "        titlefont=dict(color='#0078d2'),\n",
    "        tickfont=dict(color='#0078d2'),\n",
    "        showgrid=True,  # Enable gridlines\n",
    "        gridcolor='lightgrey',  # Grey horizontal gridlines\n",
    "        range=[0, 8],  # Expanded range for sick leave percentage (3% to 7%)\n",
    "            ),\n",
    "    yaxis2=dict(\n",
    "        title='Average Temperature Celcius',\n",
    "        titlefont=dict(color='#ff6b08'),\n",
    "        tickfont=dict(color='#ff6b08'),\n",
    "        anchor='x',\n",
    "        overlaying='y',\n",
    "        side='right',\n",
    "        showgrid=True,  # Enable gridlines\n",
    "        gridcolor='lightgrey',  # Grey horizontal gridlines\n",
    "        range=[0, 20]  # Expanded range for average temperature (0 to 25 degrees after division)\n",
    "    ),\n",
    "    legend=dict(\n",
    "        x=1.1,  # Move the legend to the top-right corner\n",
    "        y=1.4,\n",
    "        xanchor='right',\n",
    "        font=dict(\n",
    "            family='Roboto',  # Set font to Roboto\n",
    "            size=12\n",
    "        )\n",
    "    ),\n",
    "    font=dict(\n",
    "        family='Roboto',  # Set global font to Roboto\n",
    "        size=14\n",
    "    ),\n",
    "    plot_bgcolor='white',  # Set background color to white\n",
    ")\n",
    "\n",
    "# Define the width and height of the plot (adjust as needed)\n",
    "plot_width = 1000  # Width of the plot in pixels\n",
    "plot_height = 600  # Height of the plot in pixels\n",
    "\n",
    "\n",
    "\n",
    "# Save the figure as an interactive HTML file\n",
    "fig.write_html(\"sick_leave_vs_temperature.html\", include_plotlyjs='cdn', full_html=True)\n",
    "\n",
    "print(\"Plot saved as PNG and HTML!\")\n",
    "\n",
    "\n",
    "# Show the plot\n",
    "fig.show()\n"
   ]
  },
  {
   "cell_type": "code",
   "execution_count": 3,
   "metadata": {},
   "outputs": [
    {
     "name": "stdout",
     "output_type": "stream",
     "text": [
      "Pearson correlation: -0.4265515447796651\n"
     ]
    }
   ],
   "source": [
    "# Calculate Pearson correlation between sick_leave_percentage and avg_temp\n",
    "correlation = filtered_sk['sick_leave_percentage'].corr(filtered_sk['avg_temp'])\n",
    "print(f\"Pearson correlation: {correlation}\")"
   ]
  },
  {
   "cell_type": "code",
   "execution_count": 4,
   "metadata": {},
   "outputs": [
    {
     "data": {
      "application/vnd.plotly.v1+json": {
       "config": {
        "plotlyServerURL": "https://plot.ly"
       },
       "data": [
        {
         "hovertemplate": "Average Temperature (Divided by 10)=%{x}<br>Sick Leave Percentage=%{y}<extra></extra>",
         "legendgroup": "",
         "marker": {
          "color": "#636efa",
          "symbol": "circle"
         },
         "mode": "markers",
         "name": "",
         "orientation": "v",
         "showlegend": false,
         "type": "scatter",
         "x": [
          5.833333333333334,
          13.7,
          16.366666666666667,
          6.466666666666667,
          3.4666666666666663,
          13.9,
          17.2,
          7.466666666666667,
          2.5,
          12.2,
          16.766666666666666,
          5.033333333333333,
          4.7,
          14.4,
          16.133333333333333,
          8.366666666666667,
          4.666666666666666,
          12.6,
          16.666666666666664,
          7.433333333333333,
          2.066666666666667,
          11.633333333333333,
          17.233333333333334,
          8.266666666666667,
          6.866666666666667,
          13.833333333333334,
          17.266666666666666,
          8.8,
          4.566666666666666,
          12.333333333333332,
          16.766666666666666,
          9.8,
          4.933333333333334,
          13.333333333333334,
          17.866666666666667,
          6.666666666666667,
          5.1,
          13.866666666666665,
          16.266666666666666,
          8.5,
          3.6666666666666665,
          15.366666666666665,
          17.966666666666665,
          8.266666666666667,
          5.866666666666666,
          13.566666666666666,
          17.233333333333334,
          7.933333333333333,
          6.7333333333333325,
          13.9,
          17.533333333333335,
          8.566666666666666,
          4.7,
          12.033333333333333,
          16.933333333333334,
          8.133333333333333,
          6.466666666666667,
          13.466666666666665,
          17.733333333333334,
          8.533333333333333,
          6.166666666666666,
          13.866666666666665,
          17.733333333333334,
          9.3,
          7.033333333333333,
          14.033333333333335
         ],
         "xaxis": "x",
         "y": [
          4.6,
          4,
          3.7,
          4.2,
          4.5,
          3.8,
          3.7,
          4.4,
          4.4,
          4,
          3.9,
          4.4,
          4.6,
          4.1,
          3.8,
          4.2,
          4.4,
          3.9,
          3.6,
          4.1,
          4.5,
          3.8,
          3.5,
          3.9,
          4,
          3.7,
          3.5,
          4,
          4.4,
          3.7,
          3.5,
          3.9,
          4.3,
          3.8,
          3.5,
          4.1,
          4.3,
          3.9,
          3.7,
          4.2,
          4.9,
          4.1,
          3.9,
          4.3,
          4.7,
          4.3,
          4,
          4.5,
          5.2,
          4.5,
          4.4,
          4.9,
          4.8,
          4.7,
          4.6,
          5.4,
          6.3,
          5.4,
          5,
          5.6,
          5.7,
          5,
          4.8,
          5.5,
          5.5,
          5.1
         ],
         "yaxis": "y"
        },
        {
         "hovertemplate": "<b>OLS trendline</b><br>sick_leave_percentage = -0.0542551 * avg_temp + 4.94498<br>R<sup>2</sup>=0.181946<br><br>Average Temperature (Divided by 10)=%{x}<br>Sick Leave Percentage=%{y} <b>(trend)</b><extra></extra>",
         "legendgroup": "",
         "marker": {
          "color": "#636efa",
          "symbol": "circle"
         },
         "mode": "lines",
         "name": "",
         "showlegend": false,
         "type": "scatter",
         "x": [
          2.066666666666667,
          2.5,
          3.4666666666666663,
          3.6666666666666665,
          4.566666666666666,
          4.666666666666666,
          4.7,
          4.7,
          4.933333333333334,
          5.033333333333333,
          5.1,
          5.833333333333334,
          5.866666666666666,
          6.166666666666666,
          6.466666666666667,
          6.466666666666667,
          6.666666666666667,
          6.7333333333333325,
          6.866666666666667,
          7.033333333333333,
          7.433333333333333,
          7.466666666666667,
          7.933333333333333,
          8.133333333333333,
          8.266666666666667,
          8.266666666666667,
          8.366666666666667,
          8.5,
          8.533333333333333,
          8.566666666666666,
          8.8,
          9.3,
          9.8,
          11.633333333333333,
          12.033333333333333,
          12.2,
          12.333333333333332,
          12.6,
          13.333333333333334,
          13.466666666666665,
          13.566666666666666,
          13.7,
          13.833333333333334,
          13.866666666666665,
          13.866666666666665,
          13.9,
          13.9,
          14.033333333333335,
          14.4,
          15.366666666666665,
          16.133333333333333,
          16.266666666666666,
          16.366666666666667,
          16.666666666666664,
          16.766666666666666,
          16.766666666666666,
          16.933333333333334,
          17.2,
          17.233333333333334,
          17.233333333333334,
          17.266666666666666,
          17.533333333333335,
          17.733333333333334,
          17.733333333333334,
          17.866666666666667,
          17.966666666666665
         ],
         "xaxis": "x",
         "y": [
          4.832856176976627,
          4.80934562062921,
          4.7568989949311264,
          4.746047968924627,
          4.697218351895376,
          4.691792838892127,
          4.6899843345577095,
          4.6899843345577095,
          4.677324804216793,
          4.671899291213543,
          4.66828228254471,
          4.628495187187543,
          4.626686682853126,
          4.610410143843376,
          4.594133604833626,
          4.594133604833626,
          4.583282578827126,
          4.579665570158293,
          4.5724315528206265,
          4.563389031148543,
          4.541686979135543,
          4.539878474801126,
          4.514559414119293,
          4.503708388112793,
          4.496474370775126,
          4.496474370775126,
          4.491048857771876,
          4.483814840434209,
          4.482006336099793,
          4.480197831765376,
          4.467538301424459,
          4.440410736408209,
          4.413283171391959,
          4.313815432999043,
          4.292113380986042,
          4.283070859313959,
          4.275836841976292,
          4.2613688073009595,
          4.221581711943792,
          4.214347694606126,
          4.208922181602875,
          4.201688164265208,
          4.1944541469275425,
          4.192645642593126,
          4.192645642593126,
          4.190837138258709,
          4.190837138258709,
          4.183603120921042,
          4.163709573242459,
          4.111262947544375,
          4.069667347852792,
          4.062433330515125,
          4.057007817511876,
          4.040731278502125,
          4.035305765498875,
          4.035305765498875,
          4.026263243826792,
          4.011795209151458,
          4.009986704817042,
          4.009986704817042,
          4.008178200482625,
          3.9937101658072915,
          3.9828591398007918,
          3.9828591398007918,
          3.975625122463125,
          3.970199609459875
         ],
         "yaxis": "y"
        }
       ],
       "layout": {
        "legend": {
         "tracegroupgap": 0
        },
        "template": {
         "data": {
          "bar": [
           {
            "error_x": {
             "color": "#2a3f5f"
            },
            "error_y": {
             "color": "#2a3f5f"
            },
            "marker": {
             "line": {
              "color": "#E5ECF6",
              "width": 0.5
             },
             "pattern": {
              "fillmode": "overlay",
              "size": 10,
              "solidity": 0.2
             }
            },
            "type": "bar"
           }
          ],
          "barpolar": [
           {
            "marker": {
             "line": {
              "color": "#E5ECF6",
              "width": 0.5
             },
             "pattern": {
              "fillmode": "overlay",
              "size": 10,
              "solidity": 0.2
             }
            },
            "type": "barpolar"
           }
          ],
          "carpet": [
           {
            "aaxis": {
             "endlinecolor": "#2a3f5f",
             "gridcolor": "white",
             "linecolor": "white",
             "minorgridcolor": "white",
             "startlinecolor": "#2a3f5f"
            },
            "baxis": {
             "endlinecolor": "#2a3f5f",
             "gridcolor": "white",
             "linecolor": "white",
             "minorgridcolor": "white",
             "startlinecolor": "#2a3f5f"
            },
            "type": "carpet"
           }
          ],
          "choropleth": [
           {
            "colorbar": {
             "outlinewidth": 0,
             "ticks": ""
            },
            "type": "choropleth"
           }
          ],
          "contour": [
           {
            "colorbar": {
             "outlinewidth": 0,
             "ticks": ""
            },
            "colorscale": [
             [
              0,
              "#0d0887"
             ],
             [
              0.1111111111111111,
              "#46039f"
             ],
             [
              0.2222222222222222,
              "#7201a8"
             ],
             [
              0.3333333333333333,
              "#9c179e"
             ],
             [
              0.4444444444444444,
              "#bd3786"
             ],
             [
              0.5555555555555556,
              "#d8576b"
             ],
             [
              0.6666666666666666,
              "#ed7953"
             ],
             [
              0.7777777777777778,
              "#fb9f3a"
             ],
             [
              0.8888888888888888,
              "#fdca26"
             ],
             [
              1,
              "#f0f921"
             ]
            ],
            "type": "contour"
           }
          ],
          "contourcarpet": [
           {
            "colorbar": {
             "outlinewidth": 0,
             "ticks": ""
            },
            "type": "contourcarpet"
           }
          ],
          "heatmap": [
           {
            "colorbar": {
             "outlinewidth": 0,
             "ticks": ""
            },
            "colorscale": [
             [
              0,
              "#0d0887"
             ],
             [
              0.1111111111111111,
              "#46039f"
             ],
             [
              0.2222222222222222,
              "#7201a8"
             ],
             [
              0.3333333333333333,
              "#9c179e"
             ],
             [
              0.4444444444444444,
              "#bd3786"
             ],
             [
              0.5555555555555556,
              "#d8576b"
             ],
             [
              0.6666666666666666,
              "#ed7953"
             ],
             [
              0.7777777777777778,
              "#fb9f3a"
             ],
             [
              0.8888888888888888,
              "#fdca26"
             ],
             [
              1,
              "#f0f921"
             ]
            ],
            "type": "heatmap"
           }
          ],
          "heatmapgl": [
           {
            "colorbar": {
             "outlinewidth": 0,
             "ticks": ""
            },
            "colorscale": [
             [
              0,
              "#0d0887"
             ],
             [
              0.1111111111111111,
              "#46039f"
             ],
             [
              0.2222222222222222,
              "#7201a8"
             ],
             [
              0.3333333333333333,
              "#9c179e"
             ],
             [
              0.4444444444444444,
              "#bd3786"
             ],
             [
              0.5555555555555556,
              "#d8576b"
             ],
             [
              0.6666666666666666,
              "#ed7953"
             ],
             [
              0.7777777777777778,
              "#fb9f3a"
             ],
             [
              0.8888888888888888,
              "#fdca26"
             ],
             [
              1,
              "#f0f921"
             ]
            ],
            "type": "heatmapgl"
           }
          ],
          "histogram": [
           {
            "marker": {
             "pattern": {
              "fillmode": "overlay",
              "size": 10,
              "solidity": 0.2
             }
            },
            "type": "histogram"
           }
          ],
          "histogram2d": [
           {
            "colorbar": {
             "outlinewidth": 0,
             "ticks": ""
            },
            "colorscale": [
             [
              0,
              "#0d0887"
             ],
             [
              0.1111111111111111,
              "#46039f"
             ],
             [
              0.2222222222222222,
              "#7201a8"
             ],
             [
              0.3333333333333333,
              "#9c179e"
             ],
             [
              0.4444444444444444,
              "#bd3786"
             ],
             [
              0.5555555555555556,
              "#d8576b"
             ],
             [
              0.6666666666666666,
              "#ed7953"
             ],
             [
              0.7777777777777778,
              "#fb9f3a"
             ],
             [
              0.8888888888888888,
              "#fdca26"
             ],
             [
              1,
              "#f0f921"
             ]
            ],
            "type": "histogram2d"
           }
          ],
          "histogram2dcontour": [
           {
            "colorbar": {
             "outlinewidth": 0,
             "ticks": ""
            },
            "colorscale": [
             [
              0,
              "#0d0887"
             ],
             [
              0.1111111111111111,
              "#46039f"
             ],
             [
              0.2222222222222222,
              "#7201a8"
             ],
             [
              0.3333333333333333,
              "#9c179e"
             ],
             [
              0.4444444444444444,
              "#bd3786"
             ],
             [
              0.5555555555555556,
              "#d8576b"
             ],
             [
              0.6666666666666666,
              "#ed7953"
             ],
             [
              0.7777777777777778,
              "#fb9f3a"
             ],
             [
              0.8888888888888888,
              "#fdca26"
             ],
             [
              1,
              "#f0f921"
             ]
            ],
            "type": "histogram2dcontour"
           }
          ],
          "mesh3d": [
           {
            "colorbar": {
             "outlinewidth": 0,
             "ticks": ""
            },
            "type": "mesh3d"
           }
          ],
          "parcoords": [
           {
            "line": {
             "colorbar": {
              "outlinewidth": 0,
              "ticks": ""
             }
            },
            "type": "parcoords"
           }
          ],
          "pie": [
           {
            "automargin": true,
            "type": "pie"
           }
          ],
          "scatter": [
           {
            "fillpattern": {
             "fillmode": "overlay",
             "size": 10,
             "solidity": 0.2
            },
            "type": "scatter"
           }
          ],
          "scatter3d": [
           {
            "line": {
             "colorbar": {
              "outlinewidth": 0,
              "ticks": ""
             }
            },
            "marker": {
             "colorbar": {
              "outlinewidth": 0,
              "ticks": ""
             }
            },
            "type": "scatter3d"
           }
          ],
          "scattercarpet": [
           {
            "marker": {
             "colorbar": {
              "outlinewidth": 0,
              "ticks": ""
             }
            },
            "type": "scattercarpet"
           }
          ],
          "scattergeo": [
           {
            "marker": {
             "colorbar": {
              "outlinewidth": 0,
              "ticks": ""
             }
            },
            "type": "scattergeo"
           }
          ],
          "scattergl": [
           {
            "marker": {
             "colorbar": {
              "outlinewidth": 0,
              "ticks": ""
             }
            },
            "type": "scattergl"
           }
          ],
          "scattermapbox": [
           {
            "marker": {
             "colorbar": {
              "outlinewidth": 0,
              "ticks": ""
             }
            },
            "type": "scattermapbox"
           }
          ],
          "scatterpolar": [
           {
            "marker": {
             "colorbar": {
              "outlinewidth": 0,
              "ticks": ""
             }
            },
            "type": "scatterpolar"
           }
          ],
          "scatterpolargl": [
           {
            "marker": {
             "colorbar": {
              "outlinewidth": 0,
              "ticks": ""
             }
            },
            "type": "scatterpolargl"
           }
          ],
          "scatterternary": [
           {
            "marker": {
             "colorbar": {
              "outlinewidth": 0,
              "ticks": ""
             }
            },
            "type": "scatterternary"
           }
          ],
          "surface": [
           {
            "colorbar": {
             "outlinewidth": 0,
             "ticks": ""
            },
            "colorscale": [
             [
              0,
              "#0d0887"
             ],
             [
              0.1111111111111111,
              "#46039f"
             ],
             [
              0.2222222222222222,
              "#7201a8"
             ],
             [
              0.3333333333333333,
              "#9c179e"
             ],
             [
              0.4444444444444444,
              "#bd3786"
             ],
             [
              0.5555555555555556,
              "#d8576b"
             ],
             [
              0.6666666666666666,
              "#ed7953"
             ],
             [
              0.7777777777777778,
              "#fb9f3a"
             ],
             [
              0.8888888888888888,
              "#fdca26"
             ],
             [
              1,
              "#f0f921"
             ]
            ],
            "type": "surface"
           }
          ],
          "table": [
           {
            "cells": {
             "fill": {
              "color": "#EBF0F8"
             },
             "line": {
              "color": "white"
             }
            },
            "header": {
             "fill": {
              "color": "#C8D4E3"
             },
             "line": {
              "color": "white"
             }
            },
            "type": "table"
           }
          ]
         },
         "layout": {
          "annotationdefaults": {
           "arrowcolor": "#2a3f5f",
           "arrowhead": 0,
           "arrowwidth": 1
          },
          "autotypenumbers": "strict",
          "coloraxis": {
           "colorbar": {
            "outlinewidth": 0,
            "ticks": ""
           }
          },
          "colorscale": {
           "diverging": [
            [
             0,
             "#8e0152"
            ],
            [
             0.1,
             "#c51b7d"
            ],
            [
             0.2,
             "#de77ae"
            ],
            [
             0.3,
             "#f1b6da"
            ],
            [
             0.4,
             "#fde0ef"
            ],
            [
             0.5,
             "#f7f7f7"
            ],
            [
             0.6,
             "#e6f5d0"
            ],
            [
             0.7,
             "#b8e186"
            ],
            [
             0.8,
             "#7fbc41"
            ],
            [
             0.9,
             "#4d9221"
            ],
            [
             1,
             "#276419"
            ]
           ],
           "sequential": [
            [
             0,
             "#0d0887"
            ],
            [
             0.1111111111111111,
             "#46039f"
            ],
            [
             0.2222222222222222,
             "#7201a8"
            ],
            [
             0.3333333333333333,
             "#9c179e"
            ],
            [
             0.4444444444444444,
             "#bd3786"
            ],
            [
             0.5555555555555556,
             "#d8576b"
            ],
            [
             0.6666666666666666,
             "#ed7953"
            ],
            [
             0.7777777777777778,
             "#fb9f3a"
            ],
            [
             0.8888888888888888,
             "#fdca26"
            ],
            [
             1,
             "#f0f921"
            ]
           ],
           "sequentialminus": [
            [
             0,
             "#0d0887"
            ],
            [
             0.1111111111111111,
             "#46039f"
            ],
            [
             0.2222222222222222,
             "#7201a8"
            ],
            [
             0.3333333333333333,
             "#9c179e"
            ],
            [
             0.4444444444444444,
             "#bd3786"
            ],
            [
             0.5555555555555556,
             "#d8576b"
            ],
            [
             0.6666666666666666,
             "#ed7953"
            ],
            [
             0.7777777777777778,
             "#fb9f3a"
            ],
            [
             0.8888888888888888,
             "#fdca26"
            ],
            [
             1,
             "#f0f921"
            ]
           ]
          },
          "colorway": [
           "#636efa",
           "#EF553B",
           "#00cc96",
           "#ab63fa",
           "#FFA15A",
           "#19d3f3",
           "#FF6692",
           "#B6E880",
           "#FF97FF",
           "#FECB52"
          ],
          "font": {
           "color": "#2a3f5f"
          },
          "geo": {
           "bgcolor": "white",
           "lakecolor": "white",
           "landcolor": "#E5ECF6",
           "showlakes": true,
           "showland": true,
           "subunitcolor": "white"
          },
          "hoverlabel": {
           "align": "left"
          },
          "hovermode": "closest",
          "mapbox": {
           "style": "light"
          },
          "paper_bgcolor": "white",
          "plot_bgcolor": "#E5ECF6",
          "polar": {
           "angularaxis": {
            "gridcolor": "white",
            "linecolor": "white",
            "ticks": ""
           },
           "bgcolor": "#E5ECF6",
           "radialaxis": {
            "gridcolor": "white",
            "linecolor": "white",
            "ticks": ""
           }
          },
          "scene": {
           "xaxis": {
            "backgroundcolor": "#E5ECF6",
            "gridcolor": "white",
            "gridwidth": 2,
            "linecolor": "white",
            "showbackground": true,
            "ticks": "",
            "zerolinecolor": "white"
           },
           "yaxis": {
            "backgroundcolor": "#E5ECF6",
            "gridcolor": "white",
            "gridwidth": 2,
            "linecolor": "white",
            "showbackground": true,
            "ticks": "",
            "zerolinecolor": "white"
           },
           "zaxis": {
            "backgroundcolor": "#E5ECF6",
            "gridcolor": "white",
            "gridwidth": 2,
            "linecolor": "white",
            "showbackground": true,
            "ticks": "",
            "zerolinecolor": "white"
           }
          },
          "shapedefaults": {
           "line": {
            "color": "#2a3f5f"
           }
          },
          "ternary": {
           "aaxis": {
            "gridcolor": "white",
            "linecolor": "white",
            "ticks": ""
           },
           "baxis": {
            "gridcolor": "white",
            "linecolor": "white",
            "ticks": ""
           },
           "bgcolor": "#E5ECF6",
           "caxis": {
            "gridcolor": "white",
            "linecolor": "white",
            "ticks": ""
           }
          },
          "title": {
           "x": 0.05
          },
          "xaxis": {
           "automargin": true,
           "gridcolor": "white",
           "linecolor": "white",
           "ticks": "",
           "title": {
            "standoff": 15
           },
           "zerolinecolor": "white",
           "zerolinewidth": 2
          },
          "yaxis": {
           "automargin": true,
           "gridcolor": "white",
           "linecolor": "white",
           "ticks": "",
           "title": {
            "standoff": 15
           },
           "zerolinecolor": "white",
           "zerolinewidth": 2
          }
         }
        },
        "title": {
         "text": "Correlation between Sick Leave Percentage and Average Temperature"
        },
        "xaxis": {
         "anchor": "y",
         "domain": [
          0,
          1
         ],
         "title": {
          "text": "Average Temperature (Divided by 10)"
         }
        },
        "yaxis": {
         "anchor": "x",
         "domain": [
          0,
          1
         ],
         "title": {
          "text": "Sick Leave Percentage"
         }
        }
       }
      }
     },
     "metadata": {},
     "output_type": "display_data"
    }
   ],
   "source": [
    "import plotly.express as px\n",
    "\n",
    "# Create a scatter plot to visualize the relationship\n",
    "fig = px.scatter(\n",
    "    filtered_sk, \n",
    "    x='avg_temp', \n",
    "    y='sick_leave_percentage', \n",
    "    trendline='ols',  # Optional: Add a trendline (linear regression)\n",
    "    labels={\n",
    "        'avg_temp': 'Average Temperature (Divided by 10)',\n",
    "        'sick_leave_percentage': 'Sick Leave Percentage'\n",
    "    },\n",
    "    title='Correlation between Sick Leave Percentage and Average Temperature'\n",
    ")\n",
    "\n",
    "# Show the scatter plot\n",
    "fig.show()\n"
   ]
  },
  {
   "cell_type": "code",
   "execution_count": 5,
   "metadata": {},
   "outputs": [
    {
     "name": "stdout",
     "output_type": "stream",
     "text": [
      "                              OLS Regression Results                             \n",
      "=================================================================================\n",
      "Dep. Variable:     sick_leave_percentage   R-squared:                       0.182\n",
      "Model:                               OLS   Adj. R-squared:                  0.169\n",
      "Method:                    Least Squares   F-statistic:                     14.23\n",
      "Date:                   Fri, 13 Dec 2024   Prob (F-statistic):           0.000355\n",
      "Time:                           15:33:59   Log-Likelihood:                -54.510\n",
      "No. Observations:                     66   AIC:                             113.0\n",
      "Df Residuals:                         64   BIC:                             117.4\n",
      "Df Model:                              1                                         \n",
      "Covariance Type:               nonrobust                                         \n",
      "==============================================================================\n",
      "                 coef    std err          t      P>|t|      [0.025      0.975]\n",
      "------------------------------------------------------------------------------\n",
      "const          4.9450      0.170     29.032      0.000       4.605       5.285\n",
      "avg_temp      -0.0543      0.014     -3.773      0.000      -0.083      -0.026\n",
      "==============================================================================\n",
      "Omnibus:                       13.343   Durbin-Watson:                   0.141\n",
      "Prob(Omnibus):                  0.001   Jarque-Bera (JB):               15.063\n",
      "Skew:                           1.160   Prob(JB):                     0.000536\n",
      "Kurtosis:                       3.307   Cond. No.                         29.4\n",
      "==============================================================================\n",
      "\n",
      "Notes:\n",
      "[1] Standard Errors assume that the covariance matrix of the errors is correctly specified.\n"
     ]
    },
    {
     "name": "stderr",
     "output_type": "stream",
     "text": [
      "C:\\Users\\c.hakker\\AppData\\Local\\Temp\\ipykernel_14524\\3205024218.py:4: SettingWithCopyWarning:\n",
      "\n",
      "\n",
      "A value is trying to be set on a copy of a slice from a DataFrame.\n",
      "Try using .loc[row_indexer,col_indexer] = value instead\n",
      "\n",
      "See the caveats in the documentation: https://pandas.pydata.org/pandas-docs/stable/user_guide/indexing.html#returning-a-view-versus-a-copy\n",
      "\n",
      "C:\\Users\\c.hakker\\AppData\\Local\\Temp\\ipykernel_14524\\3205024218.py:5: SettingWithCopyWarning:\n",
      "\n",
      "\n",
      "A value is trying to be set on a copy of a slice from a DataFrame.\n",
      "Try using .loc[row_indexer,col_indexer] = value instead\n",
      "\n",
      "See the caveats in the documentation: https://pandas.pydata.org/pandas-docs/stable/user_guide/indexing.html#returning-a-view-versus-a-copy\n",
      "\n"
     ]
    }
   ],
   "source": [
    "import statsmodels.api as sm\n",
    "\n",
    "# Ensure the data types are numeric\n",
    "filtered_sk['avg_temp'] = filtered_sk['avg_temp'].astype(float)\n",
    "filtered_sk['sick_leave_percentage'] = filtered_sk['sick_leave_percentage'].astype(float)\n",
    "\n",
    "# Add a constant to the independent variable for regression\n",
    "X = sm.add_constant(filtered_sk['avg_temp'])\n",
    "\n",
    "# Fit the ordinary least squares (OLS) model\n",
    "model = sm.OLS(filtered_sk['sick_leave_percentage'], X).fit()\n",
    "\n",
    "# Print the summary of the regression model\n",
    "print(model.summary())\n"
   ]
  }
 ],
 "metadata": {
  "kernelspec": {
   "display_name": ".venv",
   "language": "python",
   "name": "python3"
  },
  "language_info": {
   "codemirror_mode": {
    "name": "ipython",
    "version": 3
   },
   "file_extension": ".py",
   "mimetype": "text/x-python",
   "name": "python",
   "nbconvert_exporter": "python",
   "pygments_lexer": "ipython3",
   "version": "3.12.3"
  }
 },
 "nbformat": 4,
 "nbformat_minor": 2
}
