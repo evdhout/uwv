{
 "cells": [
  {
   "cell_type": "code",
   "execution_count": 1,
   "metadata": {},
   "outputs": [
    {
     "name": "stderr",
     "output_type": "stream",
     "text": [
      "\u001b[32m2024-11-22 14:05:21.961\u001b[0m | \u001b[1mINFO    \u001b[0m | \u001b[36muwv.config\u001b[0m:\u001b[36m<module>\u001b[0m:\u001b[36m11\u001b[0m - \u001b[1mPROJ_ROOT path is: C:\\Users\\c.hakker\\OneDrive - VISTA college\\Senior Stuff\\Opleiding Data science\\uwv\u001b[0m\n"
     ]
    },
    {
     "name": "stdout",
     "output_type": "stream",
     "text": [
      "   id      sbi    period  sick_leave_percentage      period_title period_status  period_year period_type  period_quarter_number  period_quarter                          sbi_title  category_group_id category_group_title  covid    avg_temp  slpx20  quarter\n",
      "0   0  T001081  1996KW01                    5.5  1996 1e kwartaal    Definitief         1996          KW                      1           19961  A-U Alle economische activiteiten                  1               Totaal  False   12.333333   110.0        1\n",
      "1   1  T001081  1996KW02                    4.6  1996 2e kwartaal    Definitief         1996          KW                      2           19962  A-U Alle economische activiteiten                  1               Totaal  False  119.333333    92.0        2\n",
      "2   2  T001081  1996KW03                    4.0  1996 3e kwartaal    Definitief         1996          KW                      3           19963  A-U Alle economische activiteiten                  1               Totaal  False  153.666667    80.0        3\n",
      "3   3  T001081  1996KW04                    4.7  1996 4e kwartaal    Definitief         1996          KW                      4           19964  A-U Alle economische activiteiten                  1               Totaal  False   57.666667    94.0        4\n",
      "4   5  T001081  1997KW01                    4.9  1997 1e kwartaal    Definitief         1997          KW                      1           19971  A-U Alle economische activiteiten                  1               Totaal  False   43.333333    98.0        1\n"
     ]
    }
   ],
   "source": [
    "import pandas as pd\n",
    "from uwv.config import KNMI_PROCESSED_DATA_DIR, KNMI_AVG_TEMP, CBS_OPENDATA_PROCESSED_DATA_DIR, CBS80072NED\n",
    "import plotly.graph_objects as go\n",
    "\n",
    "# Set display options\n",
    "pd.set_option('display.max_columns', None)  # Show all columns\n",
    "pd.set_option('display.width', 1000)  # Set the width of the display\n",
    "\n",
    "# Load your data\n",
    "slp = pd.read_parquet(CBS_OPENDATA_PROCESSED_DATA_DIR / f\"{CBS80072NED}.parquet\")\n",
    "knmi = pd.read_parquet(KNMI_PROCESSED_DATA_DIR / f\"{KNMI_AVG_TEMP}.parquet\")\n",
    "\n",
    "# Merge data\n",
    "sk = pd.merge(slp, knmi, on=['period_year', 'period_quarter_number'], how=\"inner\")\n",
    "\n",
    "# Create new columns\n",
    "sk[\"slpx20\"] = sk.sick_leave_percentage * 20\n",
    "sk[\"quarter\"] = sk.period_quarter_number\n",
    "\n",
    "# Display the first few rows of the dataframe\n",
    "print(sk.head())\n"
   ]
  },
  {
   "cell_type": "code",
   "execution_count": null,
   "metadata": {},
   "outputs": [
    {
     "name": "stderr",
     "output_type": "stream",
     "text": [
      "C:\\Users\\c.hakker\\AppData\\Local\\Temp\\ipykernel_1600\\263651758.py:5: SettingWithCopyWarning: \n",
      "A value is trying to be set on a copy of a slice from a DataFrame.\n",
      "Try using .loc[row_indexer,col_indexer] = value instead\n",
      "\n",
      "See the caveats in the documentation: https://pandas.pydata.org/pandas-docs/stable/user_guide/indexing.html#returning-a-view-versus-a-copy\n",
      "  filtered_sk['avg_temp'] = filtered_sk['avg_temp'] / 10\n"
     ]
    }
   ],
   "source": [
    "# Filter data for years 2008 and later, and for \"A-U Alle economische activiteiten\"\n",
    "filtered_sk = sk[(sk['period_year'] >= 2008) & (sk['sbi_title'] == 'A-U Alle economische activiteiten')]\n",
    "\n",
    "# Adjust avg_temp by dividing by 10\n",
    "filtered_sk['avg_temp'] = filtered_sk['avg_temp'] / 10\n",
    "\n",
    "# Calculate dynamic range for sick_leave_percentage\n",
    "min_sick_leave = filtered_sk['sick_leave_percentage'].min() - 0.005  # Add buffer for lower range\n",
    "max_sick_leave = filtered_sk['sick_leave_percentage'].max() + 0.005  # Add buffer for upper range\n",
    "\n",
    "# Create the figure\n",
    "fig = go.Figure()\n",
    "\n",
    "# Add the sick_leave_percentage to the left y-axis\n",
    "fig.add_trace(\n",
    "    go.Scatter(\n",
    "        x=filtered_sk['period'], \n",
    "        y=filtered_sk['sick_leave_percentage'],\n",
    "        mode='lines', \n",
    "        name='CBS Sick Leave Percentage', \n",
    "        line=dict(color='#0078d2'),\n",
    "        yaxis='y1'\n",
    "    )\n",
    ")\n",
    "\n",
    "# Add the avg_temp to the right y-axis\n",
    "fig.add_trace(\n",
    "    go.Scatter(\n",
    "        x=filtered_sk['period'], \n",
    "        y=filtered_sk['avg_temp'], \n",
    "        mode='lines', \n",
    "        name='KNMI Average Temperature', \n",
    "        line=dict(color='#ff6b08'),\n",
    "        yaxis='y2'\n",
    "    )\n",
    ")\n",
    "\n",
    "# Update the layout for two y-axes with customized settings\n",
    "fig.update_layout(\n",
    "    title='Weathering the Sick Days: How Temperature Affects Absenteeism',\n",
    "    xaxis=dict(\n",
    "        title='Period',\n",
    "        showgrid=False,  # Enable gridlines\n",
    "        gridcolor='lightgrey',  # Grey vertical gridlines\n",
    "    ),\n",
    "    yaxis=dict(\n",
    "        title='Sick Leave Percentage',\n",
    "        titlefont=dict(color='#0078d2'),\n",
    "        tickfont=dict(color='#0078d2'),\n",
    "        showgrid=True,  # Enable gridlines\n",
    "        gridcolor='lightgrey',  # Grey horizontal gridlines\n",
    "        range=[0, 8],  # Expanded range for sick leave percentage (3% to 7%)\n",
    "            ),\n",
    "    yaxis2=dict(\n",
    "        title='Average Temperature Celcius',\n",
    "        titlefont=dict(color='#ff6b08'),\n",
    "        tickfont=dict(color='#ff6b08'),\n",
    "        anchor='x',\n",
    "        overlaying='y',\n",
    "        side='right',\n",
    "        showgrid=True,  # Enable gridlines\n",
    "        gridcolor='lightgrey',  # Grey horizontal gridlines\n",
    "        range=[0, 20]  # Expanded range for average temperature (0 to 25 degrees after division)\n",
    "    ),\n",
    "    legend=dict(\n",
    "        x=1.1,  # Move the legend to the top-right corner\n",
    "        y=1.4,\n",
    "        xanchor='right',\n",
    "        font=dict(\n",
    "            family='Roboto',  # Set font to Roboto\n",
    "            size=12\n",
    "        )\n",
    "    ),\n",
    "    font=dict(\n",
    "        family='Roboto',  # Set global font to Roboto\n",
    "        size=14\n",
    "    ),\n",
    "    plot_bgcolor='white',  # Set background color to white\n",
    ")\n",
    "\n",
    "# Define the width and height of the plot (adjust as needed)\n",
    "plot_width = 1000  # Width of the plot in pixels\n",
    "plot_height = 600  # Height of the plot in pixels\n",
    "\n",
    "# Save the figure as PNG\n",
    "fig.write_image(\"sick_leave_vs_temperature.png\", width=plot_width, height=plot_height)\n",
    "\n",
    "# Save the figure as an interactive HTML file\n",
    "fig.write_html(\"sick_leave_vs_temperature.html\", include_plotlyjs='cdn', full_html=True)\n",
    "\n",
    "print(\"Plot saved as PNG and HTML!\")\n",
    "\n",
    "\n",
    "# Show the plot\n",
    "fig.show()\n"
   ]
  },
  {
   "cell_type": "code",
   "execution_count": null,
   "metadata": {},
   "outputs": [],
   "source": [
    "# Calculate Pearson correlation between sick_leave_percentage and avg_temp\n",
    "correlation = filtered_sk['sick_leave_percentage'].corr(filtered_sk['avg_temp'])\n",
    "print(f\"Pearson correlation: {correlation}\")"
   ]
  },
  {
   "cell_type": "code",
   "execution_count": null,
   "metadata": {},
   "outputs": [],
   "source": [
    "import plotly.express as px\n",
    "\n",
    "# Create a scatter plot to visualize the relationship\n",
    "fig = px.scatter(\n",
    "    filtered_sk, \n",
    "    x='avg_temp', \n",
    "    y='sick_leave_percentage', \n",
    "    trendline='ols',  # Optional: Add a trendline (linear regression)\n",
    "    labels={\n",
    "        'avg_temp': 'Average Temperature (Divided by 10)',\n",
    "        'sick_leave_percentage': 'Sick Leave Percentage'\n",
    "    },\n",
    "    title='Correlation between Sick Leave Percentage and Average Temperature'\n",
    ")\n",
    "\n",
    "# Show the scatter plot\n",
    "fig.show()\n"
   ]
  },
  {
   "cell_type": "code",
   "execution_count": null,
   "metadata": {},
   "outputs": [],
   "source": [
    "import statsmodels.api as sm\n",
    "\n",
    "# Ensure the data types are numeric\n",
    "filtered_sk['avg_temp'] = filtered_sk['avg_temp'].astype(float)\n",
    "filtered_sk['sick_leave_percentage'] = filtered_sk['sick_leave_percentage'].astype(float)\n",
    "\n",
    "# Add a constant to the independent variable for regression\n",
    "X = sm.add_constant(filtered_sk['avg_temp'])\n",
    "\n",
    "# Fit the ordinary least squares (OLS) model\n",
    "model = sm.OLS(filtered_sk['sick_leave_percentage'], X).fit()\n",
    "\n",
    "# Print the summary of the regression model\n",
    "print(model.summary())\n"
   ]
  }
 ],
 "metadata": {
  "kernelspec": {
   "display_name": ".venv",
   "language": "python",
   "name": "python3"
  },
  "language_info": {
   "codemirror_mode": {
    "name": "ipython",
    "version": 3
   },
   "file_extension": ".py",
   "mimetype": "text/x-python",
   "name": "python",
   "nbconvert_exporter": "python",
   "pygments_lexer": "ipython3",
   "version": "3.12.3"
  }
 },
 "nbformat": 4,
 "nbformat_minor": 2
}
