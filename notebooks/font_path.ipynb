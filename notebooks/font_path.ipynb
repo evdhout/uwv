{
 "cells": [
  {
   "cell_type": "code",
   "execution_count": 1,
   "metadata": {},
   "outputs": [
    {
     "name": "stdout",
     "output_type": "stream",
     "text": [
      "C:\\Users\\c.hakker\\AppData\\Local\\Microsoft\\Windows\\Fonts\\Roboto-ThinItalic.ttf\n",
      "C:\\Users\\c.hakker\\AppData\\Local\\Microsoft\\Windows\\Fonts\\Roboto-Black.ttf\n",
      "C:\\Users\\c.hakker\\AppData\\Local\\Microsoft\\Windows\\Fonts\\Roboto-BlackItalic.ttf\n",
      "C:\\Users\\c.hakker\\AppData\\Local\\Microsoft\\Windows\\Fonts\\Roboto-Italic.ttf\n",
      "C:\\Users\\c.hakker\\AppData\\Local\\Microsoft\\Windows\\Fonts\\Roboto-LightItalic.ttf\n",
      "C:\\Users\\c.hakker\\AppData\\Local\\Microsoft\\Windows\\Fonts\\Roboto-Regular.ttf\n",
      "C:\\Users\\c.hakker\\AppData\\Local\\Microsoft\\Windows\\Fonts\\Roboto-MediumItalic.ttf\n",
      "C:\\Users\\c.hakker\\AppData\\Local\\Microsoft\\Windows\\Fonts\\Roboto-Thin.ttf\n",
      "C:\\Users\\c.hakker\\AppData\\Local\\Microsoft\\Windows\\Fonts\\Roboto-Medium.ttf\n",
      "C:\\Users\\c.hakker\\AppData\\Local\\Microsoft\\Windows\\Fonts\\Roboto-BoldItalic.ttf\n",
      "C:\\Users\\c.hakker\\AppData\\Local\\Microsoft\\Windows\\Fonts\\Roboto-Bold.ttf\n"
     ]
    }
   ],
   "source": [
    "import matplotlib.font_manager as fm\n",
    "\n",
    "# List all available system fonts\n",
    "font_paths = fm.findSystemFonts(fontpaths=None, fontext='ttf')\n",
    "\n",
    "# Filter for Roboto fonts\n",
    "roboto_fonts = [font for font in font_paths if 'Roboto' in font]\n",
    "\n",
    "# Print the paths to Roboto fonts\n",
    "for font in roboto_fonts:\n",
    "    print(font)\n"
   ]
  },
  {
   "cell_type": "code",
   "execution_count": null,
   "metadata": {},
   "outputs": [],
   "source": []
  }
 ],
 "metadata": {
  "kernelspec": {
   "display_name": ".venv",
   "language": "python",
   "name": "python3"
  },
  "language_info": {
   "codemirror_mode": {
    "name": "ipython",
    "version": 3
   },
   "file_extension": ".py",
   "mimetype": "text/x-python",
   "name": "python",
   "nbconvert_exporter": "python",
   "pygments_lexer": "ipython3",
   "version": "3.12.3"
  }
 },
 "nbformat": 4,
 "nbformat_minor": 2
}
