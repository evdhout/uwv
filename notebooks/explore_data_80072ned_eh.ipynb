{
 "cells": [
  {
   "cell_type": "code",
   "execution_count": null,
   "id": "0",
   "metadata": {},
   "outputs": [],
   "source": [
    "from uwv.config import CBS_OPENDATA_PROCESSED_DATA_DIR, CBS80072NED, OUTPUT_DIR\n",
    "\n",
    "import pandas as pd\n",
    "import altair as alt\n",
    "import matplotlib.pyplot as plt\n",
    "import datetime\n",
    "from pathlib import Path\n",
    "\n",
    "\n",
    "GRAPH_PATH: Path = OUTPUT_DIR / f'{CBS80072NED}/{CBS80072NED}_{datetime.datetime.now().strftime(\"%Y%m%d%H%M%S\")}'\n",
    "GRAPH_PATH.mkdir(parents=True, exist_ok=True)\n",
    "\n",
    "def get_figure_number():\n",
    "    figure_number = 0\n",
    "    while True:\n",
    "        yield figure_number\n",
    "        figure_number += 1\n",
    "figure_number_generator = get_figure_number() \n",
    "\n",
    "def get_graph_name(title: str) -> str:\n",
    "    return f'{next(figure_number_generator):0=3d}_{title}'\n",
    "    \n",
    "def save_graph(graph: alt.Chart, title: str):\n",
    "    graph_name = get_graph_name(title)\n",
    "    graph.save(GRAPH_PATH / f'{graph_name}.svg')\n",
    "    graph.save(GRAPH_PATH / f'{graph_name}.png')\n",
    "        \n",
    "def save_fig(figure, title: str):\n",
    "    graph_name = get_graph_name(title)\n",
    "    figure.savefig(GRAPH_PATH / f'{graph_name}.svg')\n",
    "    figure.savefig(GRAPH_PATH / f'{graph_name}.png')\n",
    "    \n",
    "# required for export to pdf with images?\n",
    "alt.renderers.enable('png')"
   ]
  },
  {
   "cell_type": "markdown",
   "id": "1",
   "metadata": {},
   "source": [
    "# UWV Exploratory Analysis"
   ]
  },
  {
   "cell_type": "code",
   "execution_count": null,
   "id": "2",
   "metadata": {},
   "outputs": [],
   "source": [
    "slp: pd.DataFrame = pd.read_parquet(CBS_OPENDATA_PROCESSED_DATA_DIR / f'{CBS80072NED}.parquet')\n",
    "slp.category_group_title.value_counts()"
   ]
  },
  {
   "cell_type": "markdown",
   "id": "3",
   "metadata": {},
   "source": [
    "## Get train and test\n",
    "\n",
    "We will use 2022 and up as the final test data.\n",
    "All prior tot 2022 will be training data. To test the trained model, we wil use 2021. So we get three splits:\n",
    "\n",
    "- All data from 2013 onward and prior to 2021 is the real train data. This is the data to perform exploratory data analysis on. \n",
    "- All data from 2021 wil be the test set to test our trained models on. \n",
    "- When we are really done, 2022 and onwards will be the final test set. \n",
    "\n",
    "Additionally, we will only use the quarterly numbers (period_type = 'KW')\n",
    "slp_test = slp[(slp.period_year >= 2022) & (slp.period_type == 'KW')]"
   ]
  },
  {
   "cell_type": "code",
   "execution_count": null,
   "id": "4",
   "metadata": {},
   "outputs": [],
   "source": [
    "slp_test = slp[(slp.period_year >= 2022) & (slp.period_type == 'KW')]\n",
    "slp_train = slp[(slp.period_year > 2012) & (slp.period_year < 2021) & (slp.period_type == 'KW')]\n",
    "slp_train_test = slp[(slp.period_year == 2021) & (slp.period_type == 'KW')]"
   ]
  },
  {
   "cell_type": "code",
   "execution_count": null,
   "id": "5",
   "metadata": {},
   "outputs": [],
   "source": [
    "slp_train.info()"
   ]
  },
  {
   "cell_type": "code",
   "execution_count": null,
   "id": "6",
   "metadata": {},
   "outputs": [],
   "source": [
    "c = alt.Chart(slp_train).mark_line().encode(\n",
    "    x='period',\n",
    "    y='sick_leave_percentage',\n",
    "    color='sbi_title'\n",
    ")\n",
    "\n",
    "save_graph(c, 'slp_train_all_sbi')\n",
    "c"
   ]
  },
  {
   "cell_type": "code",
   "execution_count": null,
   "id": "7",
   "metadata": {},
   "outputs": [],
   "source": [
    "c = alt.Chart(slp_train[slp_train.category_group_title.isin(['Bedrijfsgrootte', 'Totaal'])]).mark_line().encode(\n",
    "    x='period',\n",
    "    y='sick_leave_percentage',\n",
    "    color='sbi_title'\n",
    ")\n",
    "\n",
    "save_graph(c, 'slp_train_sbi_size')\n",
    "c"
   ]
  },
  {
   "cell_type": "code",
   "execution_count": null,
   "id": "8",
   "metadata": {},
   "outputs": [],
   "source": [
    "c = alt.Chart(slp_train[slp_train.category_group_title.isin(['Bedrijfssector', 'Totaal'])]).mark_line().encode(\n",
    "    x='period',\n",
    "    y='sick_leave_percentage',\n",
    "    color='sbi_title'\n",
    ")\n",
    "\n",
    "save_graph(c, 'slp_train_sbi_sector')\n",
    "c"
   ]
  },
  {
   "cell_type": "code",
   "execution_count": null,
   "id": "9",
   "metadata": {},
   "outputs": [],
   "source": [
    "c = alt.Chart(slp_train[slp_train.category_group_title.isin(['Bedrijfsklasse', 'Totaal'])]).mark_line().encode(\n",
    "    x='period',\n",
    "    y='sick_leave_percentage',\n",
    "    color='sbi_title'\n",
    ")\n",
    "\n",
    "save_graph(c, 'slp_train_sbi_klasse')\n",
    "c"
   ]
  },
  {
   "cell_type": "code",
   "execution_count": null,
   "id": "10",
   "metadata": {},
   "outputs": [],
   "source": [
    "c = alt.Chart(slp_train[slp_train.category_group_title.isin(['Bedrijfstak', 'Totaal'])]).mark_line().encode(\n",
    "    x='period',\n",
    "    y='sick_leave_percentage',\n",
    "    color='sbi_title'\n",
    ")\n",
    "\n",
    "save_graph(c, 'slp_train_sbi_tak')\n",
    "c"
   ]
  },
  {
   "cell_type": "code",
   "execution_count": null,
   "id": "11",
   "metadata": {},
   "outputs": [],
   "source": [
    "c = alt.Chart(slp_train).mark_boxplot().encode(\n",
    "    x='period',\n",
    "    y='sick_leave_percentage',\n",
    ")\n",
    "\n",
    "save_graph(c, 'slp_train_boxplot')\n",
    "c"
   ]
  },
  {
   "cell_type": "code",
   "execution_count": null,
   "id": "12",
   "metadata": {},
   "outputs": [],
   "source": [
    "slp_train_total = slp_train[slp_train.sbi == 'T001081']\n",
    "\n",
    "c = alt.Chart(slp_train_total).mark_line().encode(\n",
    "    x='period_quarter_number',\n",
    "    y='sick_leave_percentage',\n",
    "    color='period_year'\n",
    ").properties(title='Seasonality of T001081 sick leave %')\n",
    "\n",
    "save_graph(c, 'slp_train_total_seasonality')\n",
    "c"
   ]
  },
  {
   "cell_type": "code",
   "execution_count": null,
   "id": "13",
   "metadata": {},
   "outputs": [],
   "source": [
    "c = alt.Chart(slp_train[slp_train.category_group_title.isin(['Bedrijfsgrootte', 'Totaal'])]).mark_line().encode(\n",
    "    x='period_quarter_number',\n",
    "    y='sick_leave_percentage',\n",
    "    color='period_year',\n",
    ").facet(\n",
    "    facet='sbi_title',\n",
    "    columns=4\n",
    ")\n",
    "\n",
    "save_graph(c, 'slp_train_sbi_size_year')\n",
    "c"
   ]
  },
  {
   "cell_type": "code",
   "execution_count": null,
   "id": "14",
   "metadata": {},
   "outputs": [],
   "source": [
    "c = alt.Chart(slp_train[slp_train.category_group_title.isin(['Bedrijfsgrootte', 'Totaal'])]).mark_line().encode(\n",
    "    x='period_year',\n",
    "    y='sick_leave_percentage',\n",
    "    color='sbi_title',\n",
    ").facet(\n",
    "    facet='period_quarter_number',\n",
    "    columns=4\n",
    ")\n",
    "\n",
    "save_graph(c, 'slp_train_sbi_year_size')\n",
    "c"
   ]
  },
  {
   "cell_type": "code",
   "execution_count": null,
   "id": "15",
   "metadata": {},
   "outputs": [],
   "source": [
    "c = alt.Chart(slp_train[slp_train.category_group_title.isin(['Bedrijfssector'])]).mark_line().encode(\n",
    "    x='period_quarter_number',\n",
    "    y='sick_leave_percentage',\n",
    "    color='period_year',\n",
    ").facet(\n",
    "    facet='sbi_title',\n",
    "    columns=4\n",
    ")\n",
    "\n",
    "save_graph(c, 'slp_train_sbi_sector_year')\n",
    "c"
   ]
  },
  {
   "cell_type": "code",
   "execution_count": null,
   "id": "16",
   "metadata": {},
   "outputs": [],
   "source": [
    "c = alt.Chart(slp_train[slp_train.category_group_title.isin(['Bedrijfssector', 'Totaal'])]).mark_line().encode(\n",
    "    x='period_year',\n",
    "    y='sick_leave_percentage',\n",
    "    color='sbi_title',\n",
    ").facet(\n",
    "    facet='period_quarter_number',\n",
    "    columns=4\n",
    ")\n",
    "\n",
    "save_graph(c, 'slp_train_sbi_sector_year_size')\n",
    "c"
   ]
  },
  {
   "cell_type": "code",
   "execution_count": null,
   "id": "17",
   "metadata": {},
   "outputs": [],
   "source": [
    "c = alt.Chart(slp_train[slp_train.category_group_title.isin(['Bedrijfsklasse'])]).mark_line().encode(\n",
    "    x='period_quarter_number',\n",
    "    y='sick_leave_percentage',\n",
    "    color='period_year',\n",
    ").facet(\n",
    "    facet='sbi_title',\n",
    "    columns=5\n",
    ")\n",
    "\n",
    "save_graph(c, 'slp_train_sbi_klasse_year')\n",
    "c"
   ]
  },
  {
   "cell_type": "code",
   "execution_count": null,
   "id": "18",
   "metadata": {},
   "outputs": [],
   "source": [
    "c = alt.Chart(slp_train[slp_train.category_group_title.isin(['Bedrijfsklasse', 'Totaal'])]).mark_line().encode(\n",
    "    x='period_year',\n",
    "    y='sick_leave_percentage',\n",
    "    color='sbi_title',\n",
    ").facet(\n",
    "    facet='period_quarter_number',\n",
    "    columns=4\n",
    ")\n",
    "\n",
    "save_graph(c, 'slp_train_sbi_klasse_quarter')\n",
    "c"
   ]
  },
  {
   "cell_type": "code",
   "execution_count": null,
   "id": "19",
   "metadata": {},
   "outputs": [],
   "source": [
    "c = alt.Chart(slp_train[slp_train.category_group_title.isin(['Bedrijfstak'])]).mark_line().encode(\n",
    "    x='period_quarter_number',\n",
    "    y='sick_leave_percentage',\n",
    "    color='period_year',\n",
    ").facet(\n",
    "    facet='sbi_title',\n",
    "    columns=6\n",
    ")\n",
    "\n",
    "save_graph(c, 'slp_train_sbi_tak_year')\n",
    "c"
   ]
  },
  {
   "cell_type": "code",
   "execution_count": null,
   "id": "20",
   "metadata": {},
   "outputs": [],
   "source": [
    "c = alt.Chart(slp_train[slp_train.category_group_title.isin(['Bedrijfstak', 'Totaal'])]).mark_line().encode(\n",
    "    x='period_year',\n",
    "    y='sick_leave_percentage',\n",
    "    color='sbi_title',\n",
    ").facet(\n",
    "    facet='period_quarter_number',\n",
    "    columns=4\n",
    ")\n",
    "\n",
    "save_graph(c, 'slp_train_sbi_tak_quarter')\n",
    "c"
   ]
  },
  {
   "cell_type": "code",
   "execution_count": null,
   "id": "21",
   "metadata": {},
   "outputs": [],
   "source": [
    "c = alt.Chart(slp_train).mark_point().encode(\n",
    "    x=alt.X(alt.repeat(\"column\"), type='ordinal'),\n",
    "    y='sick_leave_percentage',\n",
    "    color='period_year'\n",
    ").repeat(\n",
    "    column=['period_quarter_number']\n",
    ").properties(\n",
    "    title='Seasonality sick leave % (all categories)'\n",
    ")\n",
    "\n",
    "save_graph(c, 'slp_train_seasonality_all_sbi')\n",
    "c"
   ]
  },
  {
   "cell_type": "code",
   "execution_count": null,
   "id": "22",
   "metadata": {},
   "outputs": [],
   "source": [
    "c = alt.Chart(slp_train_total).mark_point().encode(\n",
    "    x=alt.X(alt.repeat(\"column\"), type='ordinal'),\n",
    "    y='sick_leave_percentage',\n",
    "    color='period_year'\n",
    ").repeat(\n",
    "    column=['period_quarter_number']\n",
    ").properties(\n",
    "    title='Seasonality of T001081 sick leave %'\n",
    ")\n",
    "\n",
    "save_graph(c, 'slp_train_total_seasonality_point')\n",
    "c"
   ]
  },
  {
   "cell_type": "code",
   "execution_count": null,
   "id": "23",
   "metadata": {},
   "outputs": [],
   "source": [
    "c = alt.Chart(slp_train[slp_train.period_quarter_number == 1]).mark_point().encode(\n",
    "    x='period',\n",
    "    y='sick_leave_percentage',\n",
    "    color='period_year'\n",
    ") | alt.Chart(slp_train[slp_train.period_quarter_number == 2]).mark_point().encode(\n",
    "    x='period',\n",
    "    y='sick_leave_percentage',\n",
    "    color='period_year'\n",
    ") | alt.Chart(slp_train[slp_train.period_quarter_number == 3]).mark_point().encode(\n",
    "    x='period',\n",
    "    y='sick_leave_percentage',\n",
    "    color='period_year'\n",
    ") | alt.Chart(slp_train[slp_train.period_quarter_number == 4]).mark_point().encode(\n",
    "    x='period',\n",
    "    y='sick_leave_percentage',\n",
    "    color='period_year'\n",
    ")\n",
    "\n",
    "save_graph(c, 'slp_train_seasonality_all_sbi_point_per_quarter')\n",
    "c"
   ]
  },
  {
   "cell_type": "code",
   "execution_count": null,
   "id": "24",
   "metadata": {},
   "outputs": [],
   "source": [
    "c = alt.Chart(slp_train_total[slp_train_total.period_quarter_number == 1]).mark_point().encode(\n",
    "    x='period',\n",
    "    y='sick_leave_percentage',\n",
    "    color='period_year'\n",
    ") | alt.Chart(slp_train_total[slp_train_total.period_quarter_number == 2]).mark_point().encode(\n",
    "    x='period',\n",
    "    y='sick_leave_percentage',\n",
    "    color='period_year'\n",
    ") | alt.Chart(slp_train_total[slp_train_total.period_quarter_number == 3]).mark_point().encode(\n",
    "    x='period',\n",
    "    y='sick_leave_percentage',\n",
    "    color='period_year'\n",
    ") | alt.Chart(slp_train_total[slp_train_total.period_quarter_number == 4]).mark_point().encode(\n",
    "    x='period',\n",
    "    y='sick_leave_percentage',\n",
    "    color='period_year'\n",
    ")\n",
    "\n",
    "save_graph(c, 'slp_train_total_seasonality_point_per_quarter')\n",
    "c"
   ]
  },
  {
   "cell_type": "code",
   "execution_count": null,
   "id": "25",
   "metadata": {},
   "outputs": [],
   "source": [
    "from pandas.plotting import lag_plot\n",
    "\n",
    "fig, axes = plt.subplots(nrows=2, ncols=4, figsize=(20, 10))\n",
    "\n",
    "for i, lag in enumerate(range(1, 9)):\n",
    "    lag_plot(slp_train_total.sick_leave_percentage, lag=lag, ax=axes[i // 4, i % 4])\n",
    "\n",
    "save_fig(plt, 'slp_train_total_lag_plot')\n",
    "plt.show()\n",
    "import math\n",
    "\n",
    "start_lag = 0\n",
    "lag_length = 21\n",
    "\n",
    "lagged_auto_correlation = pd.DataFrame()\n",
    "lagged_auto_correlation['lag'] = range(start_lag, lag_length)\n",
    "\n",
    "white_noise_border = 1.96 / math.sqrt(len(slp_train_total.sick_leave_percentage))\n",
    "\n",
    "wn_border = pd.DataFrame()\n",
    "wn_border['lag'] = range(start_lag - 1, lag_length + 1)\n",
    "wn_border['pos_white_noise_border'] = [white_noise_border for _ in range(start_lag - 1, lag_length + 1)]\n",
    "wn_border['neg_white_noise_border'] = [-white_noise_border for _ in range(start_lag - 1, lag_length + 1)]\n",
    "\n",
    "lagged_auto_correlation['auto_correlation'] = [slp_train_total.sick_leave_percentage.autocorr(lag=lag) for lag in\n",
    "                                               lagged_auto_correlation['lag']]\n",
    "\n",
    "c = alt.Chart(lagged_auto_correlation).mark_bar().encode(\n",
    "    x='lag',\n",
    "    y='auto_correlation',\n",
    ") + alt.Chart(wn_border).mark_line(strokeDash=[1, 1]).encode(\n",
    "    x='lag',\n",
    "    y='pos_white_noise_border',\n",
    ") + alt.Chart(wn_border).mark_line(strokeDash=[1, 1]).encode(\n",
    "    x='lag',\n",
    "    y='neg_white_noise_border'\n",
    ")\n",
    "\n",
    "save_graph(c, 'slp_train_total_auto_correlation')\n",
    "c"
   ]
  },
  {
   "cell_type": "code",
   "execution_count": null,
   "id": "26",
   "metadata": {},
   "outputs": [],
   "source": [
    "moving_average = pd.DataFrame()\n",
    "\n",
    "moving_average['quarter'] = slp_train_total.period\n",
    "moving_average['sick'] = slp_train_total.sick_leave_percentage\n",
    "\n",
    "for window in range(3, 16, 2):\n",
    "    moving_average[f'{window}-MA'] = slp_train_total.sick_leave_percentage.rolling(window, center=True).mean()\n",
    "\n",
    "moving_average"
   ]
  },
  {
   "cell_type": "code",
   "execution_count": null,
   "id": "27",
   "metadata": {},
   "outputs": [],
   "source": [
    "charts = [alt.Chart(moving_average).mark_line().encode(x='quarter', y='sick')]\n",
    "\n",
    "for window in range(3, 16, 2):\n",
    "    charts.append(alt.Chart(moving_average).mark_line().encode(x='quarter', y=f'{window}-MA'))\n",
    "\n",
    "c = alt.vconcat(*charts)\n",
    "save_graph(c, 'slp_train_total_moving_average')\n",
    "c"
   ]
  },
  {
   "cell_type": "code",
   "execution_count": null,
   "id": "28",
   "metadata": {},
   "outputs": [],
   "source": [
    "from statsmodels.tsa.seasonal import STL\n",
    "\n",
    "slp_series = slp_train_total.sick_leave_percentage\n",
    "slp_series.index = slp_train_total.period\n",
    "slp_series"
   ]
  },
  {
   "cell_type": "code",
   "execution_count": null,
   "id": "29",
   "metadata": {},
   "outputs": [],
   "source": [
    "plt.rc(\"font\", size=6)\n",
    "stl = STL(slp_series, period=4)\n",
    "res = stl.fit()\n",
    "\n",
    "fig = res.plot()\n",
    "fig.autofmt_xdate()\n",
    "save_fig(fig, 'slp_train_total_STL_plot')\n",
    "fig"
   ]
  },
  {
   "cell_type": "code",
   "execution_count": null,
   "id": "30",
   "metadata": {},
   "outputs": [],
   "source": [
    "from statsmodels.graphics.tsaplots import plot_pacf\n",
    "\n",
    "plot_pacf(slp_series, lags=15, alpha=0.1)\n",
    "save_fig(plt, 'slp_train_total_pacf')\n",
    "plt.show()"
   ]
  }
 ],
 "metadata": {
  "kernelspec": {
   "display_name": "Python 3",
   "language": "python",
   "name": "python3"
  },
  "language_info": {
   "codemirror_mode": {
    "name": "ipython",
    "version": 3
   },
   "file_extension": ".py",
   "mimetype": "text/x-python",
   "name": "python",
   "nbconvert_exporter": "python",
   "pygments_lexer": "ipython3",
   "version": "3.12.4"
  }
 },
 "nbformat": 4,
 "nbformat_minor": 5
}
