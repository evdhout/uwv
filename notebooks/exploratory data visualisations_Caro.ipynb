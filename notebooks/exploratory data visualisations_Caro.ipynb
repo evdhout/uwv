{
 "cells": [
  {
   "cell_type": "code",
   "execution_count": null,
   "metadata": {},
   "outputs": [],
   "source": [
    "# import libraries\n",
    "import pandas as pd\n",
    "import numpy as np\n",
    "\n",
    "# data visualization\n",
    "import matplotlib.pyplot as plt\n",
    "%matplotlib inline\n",
    "import seaborn as sns\n",
    "import plotly.express as px\n",
    "import plotly.graph_objects as go\n",
    "from plotly.subplots import make_subplots"
   ]
  },
  {
   "cell_type": "code",
   "execution_count": null,
   "metadata": {},
   "outputs": [],
   "source": [
    "df_cbs = pd.read_csv('Data/ziekteverzuim totaal.csv', sep=',')\n",
    "df_cbs.head()"
   ]
  },
  {
   "cell_type": "code",
   "execution_count": null,
   "metadata": {},
   "outputs": [],
   "source": [
    "print(df_cbs['Ziekteverzuim'].unique())"
   ]
  },
  {
   "cell_type": "code",
   "execution_count": null,
   "metadata": {},
   "outputs": [],
   "source": [
    "df_cbs['Ziekteverzuim'] = df_cbs['Ziekteverzuim'].str.replace(',', '.')"
   ]
  },
  {
   "cell_type": "code",
   "execution_count": null,
   "metadata": {},
   "outputs": [],
   "source": [
    "df_cbs['Ziekteverzuim'].replace('', float('nan'), inplace=True)"
   ]
  },
  {
   "cell_type": "code",
   "execution_count": null,
   "metadata": {},
   "outputs": [],
   "source": [
    "df_cbs['Ziekteverzuim'] = df_cbs['Ziekteverzuim'].astype(float)"
   ]
  },
  {
   "cell_type": "code",
   "execution_count": null,
   "metadata": {},
   "outputs": [],
   "source": [
    "print(df_cbs.info())"
   ]
  },
  {
   "cell_type": "code",
   "execution_count": null,
   "metadata": {},
   "outputs": [],
   "source": [
    "df_cbs.head()"
   ]
  },
  {
   "cell_type": "code",
   "execution_count": null,
   "metadata": {},
   "outputs": [],
   "source": [
    "# Replace 'Derde Kwartaal' with 'Derde kwartaal'....\n",
    "df_cbs['Category'] = df_cbs['Category'].replace('Derde Kwartaal', 'Derde kwartaal')"
   ]
  },
  {
   "cell_type": "code",
   "execution_count": null,
   "metadata": {},
   "outputs": [],
   "source": [
    "# Sort the Group column in descending order and get the unique values\n",
    "year_order = sorted(df_cbs['Group'].unique(), reverse=True)"
   ]
  },
  {
   "cell_type": "code",
   "execution_count": null,
   "metadata": {},
   "outputs": [],
   "source": [
    "# Define the order of the categories\n",
    "category_order = ['Eerste kwartaal', 'Tweede kwartaal', 'Derde kwartaal', 'Vierde kwartaal'] "
   ]
  },
  {
   "cell_type": "code",
   "execution_count": null,
   "metadata": {},
   "outputs": [],
   "source": [
    "# Bar plot with ordered x-axis\n",
    "bar_plot = px.bar(df_cbs, x='Category', y='Ziekteverzuim', color='Group',\n",
    "                  barmode='group', title='Bar Plot of Ziekteverzuim by Category and Year',\n",
    "                  category_orders={'Category': category_order},\n",
    "width=1000,  # set the width of the plot\n",
    "height=500  # set the height of the plot\n",
    "                  )\n",
    "bar_plot.show()"
   ]
  },
  {
   "cell_type": "code",
   "execution_count": null,
   "metadata": {},
   "outputs": [],
   "source": [
    "bar_plot.write_image(\"bar_plot.png\")"
   ]
  },
  {
   "cell_type": "code",
   "execution_count": null,
   "metadata": {},
   "outputs": [],
   "source": [
    "# Scatter plot with ordered x-axis and Group in descending order\n",
    "scatter_plot = px.scatter(df_cbs, x='Category', y='Ziekteverzuim', color='Group',\n",
    "                          title='Scatter Plot of Ziekteverzuim by Category and Year',\n",
    "                          category_orders={'Category': category_order, 'Group': year_order},\n",
    "width=800,  # set the width of the plot\n",
    "height=400  # set the height of the plot\n",
    "                          )\n",
    "scatter_plot.show()\n",
    "\n",
    "# Box plot with ordered x-axis and Group in descending order\n",
    "box_plot = px.box(df_cbs, x='Category', y='Ziekteverzuim', color='Group',\n",
    "                  title='Box Plot of Ziekteverzuim by Category and Year',\n",
    "                  category_orders={'Category': category_order, 'Group': year_order},\n",
    "width=800,  # set the width of the plot\n",
    "height=400  # set the height of the plot\n",
    "                  )\n",
    "box_plot.show()"
   ]
  },
  {
   "cell_type": "code",
   "execution_count": null,
   "metadata": {},
   "outputs": [],
   "source": [
    "box_plot.write_image(\"box_plot.png\")\n",
    "scatter_plot.write_image(\"scatter_plot.png\")"
   ]
  },
  {
   "cell_type": "code",
   "execution_count": null,
   "metadata": {},
   "outputs": [],
   "source": [
    "# Facet plot with ordered x-axis and Group in descending order\n",
    "facet_plot = px.line(df_cbs, x='Category', y='Ziekteverzuim', color='Group', facet_col='Group',\n",
    "                     title='Facet Plot of Ziekteverzuim by Category and Year',\n",
    "                     category_orders={'Category': category_order, 'Group': year_order},\n",
    "width=1000,  # set the width of the plot\n",
    "height=500  # set the height of the plot\n",
    "                     )\n",
    "facet_plot.show()"
   ]
  },
  {
   "cell_type": "code",
   "execution_count": null,
   "metadata": {},
   "outputs": [],
   "source": [
    "facet_plot.write_image(\"facet_plot.png\")"
   ]
  },
  {
   "cell_type": "code",
   "execution_count": null,
   "metadata": {},
   "outputs": [],
   "source": [
    "# Custom color palette\n",
    "color_palette = px.colors.qualitative.Dark24\n",
    "\n",
    "# Create the plot\n",
    "design_plot = px.line(\n",
    "    df_cbs, \n",
    "    x='Category', \n",
    "    y='Ziekteverzuim', \n",
    "    color='Group',\n",
    "    title='Ziekteverzuim by Category and Year',\n",
    "    category_orders={'Category': category_order, 'Group': year_order},\n",
    "    color_discrete_sequence=color_palette\n",
    ")\n",
    "\n",
    "# Update the layout for a more polished design\n",
    "design_plot.update_layout(\n",
    "    plot_bgcolor='white',  # Background color of the plot\n",
    "    paper_bgcolor='white',  # Background color around the plot\n",
    "    title_font=dict(size=24, family='Arial, sans-serif', color='darkblue'),\n",
    "    xaxis_title='Category',\n",
    "    yaxis_title='Ziekteverzuim',\n",
    "    xaxis=dict(\n",
    "        showgrid=True,\n",
    "        gridcolor='white',\n",
    "        zeroline=False\n",
    "    ),\n",
    "    yaxis=dict(\n",
    "        showgrid=True,\n",
    "        gridcolor='white',\n",
    "        zeroline=False\n",
    "    ),\n",
    "    legend=dict(\n",
    "        title='Year',\n",
    "        orientation='h',\n",
    "        yanchor='bottom',\n",
    "        y=1.02,\n",
    "        xanchor='right',\n",
    "        x=1\n",
    "    ),\n",
    "    font=dict(\n",
    "        family='Arial, sans-serif',\n",
    "        size=12,\n",
    "        color='black'\n",
    "    ),\n",
    "width=1000,  # set the width of the plot\n",
    "height=500  # set the height of the plot\n",
    ")\n",
    "\n",
    "# Show the plot\n",
    "design_plot.show()"
   ]
  },
  {
   "cell_type": "code",
   "execution_count": null,
   "metadata": {},
   "outputs": [],
   "source": [
    "design_plot.write_image(\"design_plot.png\")"
   ]
  }
 ],
 "metadata": {
  "kernelspec": {
   "display_name": "Python 3",
   "language": "python",
   "name": "python3"
  },
  "language_info": {
   "codemirror_mode": {
    "name": "ipython",
    "version": 3
   },
   "file_extension": ".py",
   "mimetype": "text/x-python",
   "name": "python",
   "nbconvert_exporter": "python",
   "pygments_lexer": "ipython3",
   "version": "3.12.3"
  }
 },
 "nbformat": 4,
 "nbformat_minor": 2
}
