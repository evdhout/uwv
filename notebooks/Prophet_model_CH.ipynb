{
 "cells": [
  {
   "cell_type": "code",
   "execution_count": 2,
   "metadata": {},
   "outputs": [],
   "source": [
    "import pandas as pd\n",
    "from prophet import Prophet\n",
    "from prophet.plot import add_changepoints_to_plot \n",
    "import matplotlib.pyplot as plt\n",
    "import matplotlib.font_manager as fm\n",
    "import numpy as np\n",
    "from sklearn.metrics import mean_absolute_error, mean_squared_error"
   ]
  },
  {
   "cell_type": "markdown",
   "metadata": {},
   "source": [
    "READING IN AND FORMATTING CBS DATA"
   ]
  },
  {
   "cell_type": "code",
   "execution_count": null,
   "metadata": {},
   "outputs": [],
   "source": [
    "# Load the data\n",
    "from uwv.config import CBS80072NED, CBS_OPENDATA_PROCESSED_DATA_DIR, OUTPUT_DIR\n",
    "\n",
    "cbs = pd.read_parquet(CBS_OPENDATA_PROCESSED_DATA_DIR / f\"{CBS80072NED}.parquet\")"
   ]
  },
  {
   "cell_type": "code",
   "execution_count": 4,
   "metadata": {},
   "outputs": [],
   "source": [
    "# Filter out rows where 'period_quarter_number' is 0\n",
    "cbs = cbs[cbs['period_quarter_number'] != 0]\n",
    "\n",
    "# Map quarters to months and create the 'date' column\n",
    "cbs['month'] = cbs['period_quarter_number'].map({1: 1, 2: 4, 3: 7, 4: 10})\n",
    "cbs['date'] = pd.to_datetime({'year': cbs['period_year'], 'month': cbs['month'], 'day': 1})\n",
    "\n",
    "# Set this new 'date' column as the index\n",
    "cbs.set_index('date', inplace=True)"
   ]
  },
  {
   "cell_type": "code",
   "execution_count": 5,
   "metadata": {},
   "outputs": [],
   "source": [
    "# Filter data based on 'sbi_title'\n",
    "sbi_code = 'T001081'  # Example: A-U Alle economische activiteiten\n",
    "filtered_cbs = cbs[cbs['sbi'] == sbi_code]\n",
    "\n",
    "# Filter the data to include only dates from 2008 to 2023\n",
    "filtered_cbs = filtered_cbs.loc['2008-01-01':'2023-12-31']"
   ]
  },
  {
   "cell_type": "code",
   "execution_count": 6,
   "metadata": {},
   "outputs": [],
   "source": [
    "filtered_cbs.index.freq = 'QS'  # Set the frequency to quarterly"
   ]
  },
  {
   "cell_type": "code",
   "execution_count": 7,
   "metadata": {},
   "outputs": [],
   "source": [
    "# Check the columns and ensure the sick_leave_percentage column is in the correct format\n",
    "filtered_cbs['sick_leave_percentage'] = filtered_cbs['sick_leave_percentage'].astype(float)"
   ]
  },
  {
   "cell_type": "markdown",
   "metadata": {},
   "source": [
    "START PROPHET CODE"
   ]
  },
  {
   "cell_type": "code",
   "execution_count": 8,
   "metadata": {},
   "outputs": [],
   "source": [
    "# Prepare the data\n",
    "prophet_data = filtered_cbs.reset_index()[['date', 'sick_leave_percentage']]\n",
    "prophet_data.columns = ['ds', 'y']  # Renaming columns to match Prophet's expectations"
   ]
  },
  {
   "cell_type": "code",
   "execution_count": null,
   "metadata": {},
   "outputs": [],
   "source": [
    "# Initialize and fit the Prophet model\n",
    "model = Prophet()\n",
    "model.fit(prophet_data)"
   ]
  },
  {
   "cell_type": "code",
   "execution_count": 10,
   "metadata": {},
   "outputs": [],
   "source": [
    "# Create a dataframe for future dates\n",
    "future_dates = model.make_future_dataframe(periods=8, freq='QE')  # 8 quarters into the future"
   ]
  },
  {
   "cell_type": "code",
   "execution_count": 11,
   "metadata": {},
   "outputs": [],
   "source": [
    "# Make predictions\n",
    "forecast = model.predict(future_dates)"
   ]
  },
  {
   "cell_type": "code",
   "execution_count": null,
   "metadata": {},
   "outputs": [],
   "source": [
    "# View the forecasted values\n",
    "forecast[['ds', 'yhat', 'yhat_lower', 'yhat_upper']].tail()"
   ]
  },
  {
   "cell_type": "code",
   "execution_count": null,
   "metadata": {},
   "outputs": [],
   "source": [
    "# Plot the forecast\n",
    "model.plot(forecast)\n",
    "plt.show()"
   ]
  },
  {
   "cell_type": "code",
   "execution_count": null,
   "metadata": {},
   "outputs": [],
   "source": [
    "# Plot the forecast components\n",
    "model.plot_components(forecast)\n",
    "plt.show()"
   ]
  },
  {
   "cell_type": "code",
   "execution_count": 15,
   "metadata": {},
   "outputs": [],
   "source": [
    "# Merge the actual and predicted values\n",
    "comparison_df = prophet_data.merge(forecast[['ds', 'yhat']], on='ds', how='left')"
   ]
  },
  {
   "cell_type": "code",
   "execution_count": 16,
   "metadata": {},
   "outputs": [],
   "source": [
    "# Drop the rows where yhat is NaN (this will drop future dates where we don't have actual values)\n",
    "comparison_df.dropna(inplace=True)"
   ]
  },
  {
   "cell_type": "code",
   "execution_count": 17,
   "metadata": {},
   "outputs": [],
   "source": [
    "# Calculate MAE, MSE, and RMSE\n",
    "mae = mean_absolute_error(comparison_df['y'], comparison_df['yhat'])\n",
    "mse = mean_squared_error(comparison_df['y'], comparison_df['yhat'])\n",
    "rmse = np.sqrt(mse)"
   ]
  },
  {
   "cell_type": "code",
   "execution_count": null,
   "metadata": {},
   "outputs": [],
   "source": [
    "# Print the evaluation metrics\n",
    "print(f'MAE: {mae}')\n",
    "print(f'MSE: {mse}')\n",
    "print(f'RMSE: {rmse}')"
   ]
  },
  {
   "cell_type": "code",
   "execution_count": null,
   "metadata": {},
   "outputs": [],
   "source": [
    "# Plot actual vs predicted values\n",
    "plt.figure(figsize=(10, 6))\n",
    "plt.plot(comparison_df['ds'], comparison_df['y'], label='Actual')\n",
    "plt.plot(comparison_df['ds'], comparison_df['yhat'], label='Predicted')\n",
    "plt.title('Actual vs Predicted Sick Leave Percentage')\n",
    "plt.xlabel('Date')\n",
    "plt.ylabel('Sick Leave Percentage')\n",
    "plt.legend()\n",
    "plt.show()"
   ]
  },
  {
   "cell_type": "code",
   "execution_count": null,
   "metadata": {},
   "outputs": [],
   "source": [
    "\n",
    "# Add the Roboto font to Matplotlib\n",
    "font_path = r'C:\\Users\\c.hakker\\AppData\\Local\\Microsoft\\Windows\\Fonts\\Roboto-Regular.ttf'\n",
    "fm.fontManager.addfont(font_path)\n",
    "\n",
    "# Refresh the font cache to include the newly added font\n",
    "fm._load_fontmanager(try_read_cache=False)\n",
    "\n",
    "# Set the font family to 'Roboto'\n",
    "plt.rcParams['font.family'] = 'Roboto'\n",
    "\n",
    "# Assuming comparison_df is already defined and contains the 'ds', 'y', and 'yhat' columns\n",
    "comparison_df['residuals'] = comparison_df['y'] - comparison_df['yhat']\n",
    "\n",
    "plt.figure(figsize=(10, 6))\n",
    "\n",
    "# Plotting the residuals\n",
    "plt.plot(comparison_df['ds'], comparison_df['residuals'], label='Residuals', color='red')\n",
    "\n",
    "# Customizing the plot\n",
    "plt.title('Residuals of the Predictions', fontsize=14, fontweight='light', fontfamily='Roboto', color='black')\n",
    "plt.xlabel('Date', fontsize=12, fontfamily='Roboto')\n",
    "plt.ylabel('Residuals', fontsize=12, fontfamily='Roboto')\n",
    "\n",
    "# Adding a horizontal line at y=0\n",
    "plt.axhline(0, color='black', linestyle='--', linewidth=0.8)\n",
    "\n",
    "# Removing the top and right spines (lines)\n",
    "plt.gca().spines['top'].set_visible(False)\n",
    "plt.gca().spines['right'].set_visible(False)\n",
    "\n",
    "# Adding the legend as a label at the end of the line, slightly to the right\n",
    "plt.text(comparison_df['ds'].iloc[-1] + pd.Timedelta(days=15), comparison_df['residuals'].iloc[-1], 'Residuals', \n",
    "         color='red', fontsize=10, va='center')\n",
    "\n",
    "# Customizing the ticks and font size\n",
    "plt.xticks(fontsize=10, fontfamily='Roboto')\n",
    "plt.yticks(fontsize=10, fontfamily='Roboto')\n",
    "\n",
    "plt.show()\n"
   ]
  },
  {
   "cell_type": "markdown",
   "metadata": {},
   "source": [
    "Residuals represent the difference between the actual observed values and the values predicted by the model. Mathematically, a residual is calculated as:\n",
    "\n",
    "Residual = Actual Value − Predicted Value\n",
    "\n",
    "Measure of Prediction Error: Residuals indicate how much the model's predictions deviate from the actual observed values. A residual close to zero suggests that the prediction was accurate, while a large residual indicates a significant difference between the predicted and actual values.\n"
   ]
  },
  {
   "cell_type": "code",
   "execution_count": null,
   "metadata": {},
   "outputs": [],
   "source": []
  }
 ],
 "metadata": {
  "kernelspec": {
   "display_name": ".venv",
   "language": "python",
   "name": "python3"
  },
  "language_info": {
   "codemirror_mode": {
    "name": "ipython",
    "version": 3
   },
   "file_extension": ".py",
   "mimetype": "text/x-python",
   "name": "python",
   "nbconvert_exporter": "python",
   "pygments_lexer": "ipython3",
   "version": "3.12.3"
  }
 },
 "nbformat": 4,
 "nbformat_minor": 2
}
